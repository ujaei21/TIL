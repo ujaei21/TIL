{
 "cells": [
  {
   "cell_type": "code",
   "execution_count": 85,
   "id": "local-motel",
   "metadata": {},
   "outputs": [
    {
     "name": "stdout",
     "output_type": "stream",
     "text": [
      "C:\\Users\\SEC\\OneDrive\\바탕 화면\\2021-K-Digital-Training-main\\SQL\n"
     ]
    }
   ],
   "source": [
    "!cd"
   ]
  },
  {
   "cell_type": "code",
   "execution_count": null,
   "id": "4328cfa1-1375-4d56-91b7-73b0286faf6a",
   "metadata": {},
   "outputs": [],
   "source": [
    "#!pip install PyMySQL==1.0.0"
   ]
  },
  {
   "cell_type": "code",
   "execution_count": null,
   "id": "8dcec917-841c-473e-a4e7-e97ff06cf82f",
   "metadata": {},
   "outputs": [],
   "source": []
  },
  {
   "cell_type": "code",
   "execution_count": 4,
   "id": "romantic-period",
   "metadata": {},
   "outputs": [],
   "source": [
    "import pymysql.cursors\n",
    "# Connect to the database\n",
    "import pandas as pd"
   ]
  },
  {
   "cell_type": "code",
   "execution_count": 5,
   "id": "8e4fe7ec-efbd-4f75-989a-5bf82625531b",
   "metadata": {},
   "outputs": [],
   "source": [
    "connection = pymysql.connect(host='localhost',\n",
    "        user='root',\n",
    "        password='054867',\n",
    "        db='tip',\n",
    "        charset='utf8',\n",
    "        cursorclass=pymysql.cursors.DictCursor)\n",
    "try:\n",
    "    with connection.cursor() as cursor:\n",
    "        # Read a single record\n",
    "        #sql = \"SELECT `id`, `password` FROM `users` WHERE `email`=%s\"\n",
    "        sql = \"SELECT count(total_bill) FROM tip.tips where tip>=7;\"\n",
    "        cursor.execute(sql)\n",
    "        result = cursor.fetchone()\n",
    "        print(result)\n",
    "finally:\n",
    "    connection.close()"
   ]
  },
  {
   "cell_type": "code",
   "execution_count": 1,
   "id": "b56e23c8-98b9-4474-a161-eacf1dfebc41",
   "metadata": {},
   "outputs": [],
   "source": [
    "import pandas as pd\n",
    "import pymysql.cursors"
   ]
  },
  {
   "cell_type": "code",
   "execution_count": 2,
   "id": "polished-somerset",
   "metadata": {},
   "outputs": [
    {
     "name": "stdout",
     "output_type": "stream",
     "text": [
      "   total_bill\n",
      "0       39.42\n",
      "1       50.81\n",
      "2       48.33\n"
     ]
    }
   ],
   "source": [
    "# MySQL DB에서 데이터 받아와서 DataFrame에 저장\n",
    "\n",
    "conn = pymysql.connect(host='localhost', user='root', \n",
    "                       password='054867', db='tip', charset='utf8',\n",
    "                       autocommit=True, cursorclass=pymysql.cursors.DictCursor)\n",
    "try:\n",
    "\n",
    "   with conn.cursor() as curs:\n",
    "      sql = \"SELECT total_bill FROM tip.tips where tip>=7;\"\n",
    "      curs.execute(sql)\n",
    "      rs = curs.fetchall()\n",
    "\n",
    "      # DB에서 받아온 값을 DataFrame에 넣음\n",
    "\n",
    "      df = pd.DataFrame(rs)\n",
    "      print(df)\n",
    "\n",
    "finally:\n",
    "\n",
    "   conn.close()"
   ]
  },
  {
   "cell_type": "code",
   "execution_count": 3,
   "id": "other-private",
   "metadata": {},
   "outputs": [
    {
     "data": {
      "text/plain": [
       "<AxesSubplot:>"
      ]
     },
     "execution_count": 3,
     "metadata": {},
     "output_type": "execute_result"
    },
    {
     "data": {
      "image/png": "[encoded data removed]",
      "text/plain": [
       "<Figure size 432x288 with 1 Axes>"
      ]
     },
     "metadata": {
      "needs_background": "light"
     },
     "output_type": "display_data"
    }
   ],
   "source": [
    "df['total_bill'].hist()"
   ]
  },
  {
   "cell_type": "code",
   "execution_count": 4,
   "id": "322f4de4-012e-4a00-849a-46eaebb54664",
   "metadata": {},
   "outputs": [
    {
     "data": {
      "text/html": [
       "<div>\n",
       "<style scoped>\n",
       "    .dataframe tbody tr th:only-of-type {\n",
       "        vertical-align: middle;\n",
       "    }\n",
       "\n",
       "    .dataframe tbody tr th {\n",
       "        vertical-align: top;\n",
       "    }\n",
       "\n",
       "    .dataframe thead th {\n",
       "        text-align: right;\n",
       "    }\n",
       "</style>\n",
       "<table border=\"1\" class=\"dataframe\">\n",
       "  <thead>\n",
       "    <tr style=\"text-align: right;\">\n",
       "      <th></th>\n",
       "      <th>total_bill</th>\n",
       "    </tr>\n",
       "  </thead>\n",
       "  <tbody>\n",
       "    <tr>\n",
       "      <th>0</th>\n",
       "      <td>39.42</td>\n",
       "    </tr>\n",
       "    <tr>\n",
       "      <th>1</th>\n",
       "      <td>50.81</td>\n",
       "    </tr>\n",
       "    <tr>\n",
       "      <th>2</th>\n",
       "      <td>48.33</td>\n",
       "    </tr>\n",
       "  </tbody>\n",
       "</table>\n",
       "</div>"
      ],
      "text/plain": [
       "   total_bill\n",
       "0       39.42\n",
       "1       50.81\n",
       "2       48.33"
      ]
     },
     "execution_count": 4,
     "metadata": {},
     "output_type": "execute_result"
    }
   ],
   "source": [
    "df"
   ]
  },
  {
   "cell_type": "markdown",
   "id": "24adf594-73cd-4991-94e9-18c378ad9379",
   "metadata": {},
   "source": [
    "## 결측치 제거"
   ]
  },
  {
   "cell_type": "code",
   "execution_count": 6,
   "id": "dc0ebd18-d870-441a-8db7-d1cd6975d2ca",
   "metadata": {},
   "outputs": [],
   "source": [
    "# 새출발\n",
    "import pandas as pd\n",
    "import pymysql.cursors\n",
    "import numpy as np"
   ]
  },
  {
   "cell_type": "code",
   "execution_count": 9,
   "id": "b5dcb7c7-b637-4f2e-a50b-0e866683e3a6",
   "metadata": {},
   "outputs": [],
   "source": [
    "sql=\"select customers.customerName, payments.checkNumber from customers left join payments on customers.customerNumber=payments.customerNumber where payments.paymentDate >= '2004-10-06';\"\n"
   ]
  },
  {
   "cell_type": "code",
   "execution_count": 2,
   "id": "e93b2502-3438-4c06-abb8-9dd385120988",
   "metadata": {},
   "outputs": [],
   "source": [
    "# MySQL DB에서 데이터 받아와서 DataFrame에 저장\n",
    "\n",
    "conn = pymysql.connect(host='localhost', user='root', \n",
    "                       password='054867', db='tip', charset='utf8',\n",
    "                       autocommit=True, cursorclass=pymysql.cursors.DictCursor)"
   ]
  },
  {
   "cell_type": "code",
   "execution_count": 3,
   "id": "9ca061bc-b793-4389-8bc8-6b11e0a915b7",
   "metadata": {},
   "outputs": [
    {
     "name": "stdout",
     "output_type": "stream",
     "text": [
      "     total_bill   tip     sex smoker   day    time  size\n",
      "0         16.99  1.01  Female     No   Sun  Dinner     2\n",
      "1         10.34  1.66    Male     No   Sun  Dinner     3\n",
      "2         21.01  3.50    Male     No   Sun  Dinner     3\n",
      "3         23.68  3.31    Male     No   Sun  Dinner     2\n",
      "4         24.59  3.61  Female     No   Sun  Dinner     4\n",
      "..          ...   ...     ...    ...   ...     ...   ...\n",
      "243       18.78  3.00  Female     No  Thur  Dinner     2\n",
      "244       16.99  1.01  Female     No   Sun  Dinner     2\n",
      "245       26.88  3.12    Male     No        Dinner     4\n",
      "246       26.88  3.12    Male     No        Dinner     4\n",
      "247       26.88  3.12    Male     No        Dinner     5\n",
      "\n",
      "[248 rows x 7 columns]\n"
     ]
    }
   ],
   "source": [
    "try:\n",
    "\n",
    "   with conn.cursor() as curs:\n",
    "      sql=\"SELECT * FROM tips;\"\n",
    "      curs.execute(sql)\n",
    "      rs = curs.fetchall()\n",
    "\n",
    "      # DB에서 받아온 값을 DataFrame에 넣음\n",
    "\n",
    "      df = pd.DataFrame(rs)\n",
    "      print(df)\n",
    "\n",
    "finally:\n",
    "\n",
    "   conn.close()"
   ]
  },
  {
   "cell_type": "code",
   "execution_count": 11,
   "id": "f1af8d04-d107-4e9a-8010-18454de5609a",
   "metadata": {},
   "outputs": [],
   "source": [
    "# df.to_csv('query_car.csv')"
   ]
  },
  {
   "cell_type": "code",
   "execution_count": 8,
   "id": "3837060e-c827-4b5c-9755-b3317c979b99",
   "metadata": {},
   "outputs": [
    {
     "data": {
      "text/plain": [
       "total_bill    0\n",
       "tip           0\n",
       "sex           0\n",
       "smoker        0\n",
       "day           3\n",
       "time          0\n",
       "size          0\n",
       "dtype: int64"
      ]
     },
     "execution_count": 8,
     "metadata": {},
     "output_type": "execute_result"
    }
   ],
   "source": [
    "df.isnull().sum()"
   ]
  },
  {
   "cell_type": "code",
   "execution_count": 7,
   "id": "9ac5b48f-e6e4-429d-a737-70dc7e86da32",
   "metadata": {},
   "outputs": [],
   "source": [
    "df.replace('',np.nan,inplace=True) "
   ]
  },
  {
   "cell_type": "code",
   "execution_count": 9,
   "id": "d62823e6-bfc8-40fd-af62-3c18f3ca57eb",
   "metadata": {},
   "outputs": [],
   "source": [
    "df.sex.replace({'Female':0,'Male':1},inplace=True)"
   ]
  },
  {
   "cell_type": "code",
   "execution_count": 10,
   "id": "7f16998f-04b3-4511-9fe0-a9281d216063",
   "metadata": {},
   "outputs": [],
   "source": [
    "df.smoker.replace({'No':0,'Yes':1},inplace=True)\n",
    "df.day.replace({'Thur':0,'Fri':1,'Sat':2,'Sun':3},inplace=True)\n",
    "df.time.replace({'Lunch':0,'Dinner':1},inplace=True)"
   ]
  },
  {
   "cell_type": "code",
   "execution_count": 86,
   "id": "8d85c6fa-0413-48f3-b759-b05b4a5ab44a",
   "metadata": {},
   "outputs": [
    {
     "data": {
      "text/html": [
       "<div>\n",
       "<style scoped>\n",
       "    .dataframe tbody tr th:only-of-type {\n",
       "        vertical-align: middle;\n",
       "    }\n",
       "\n",
       "    .dataframe tbody tr th {\n",
       "        vertical-align: top;\n",
       "    }\n",
       "\n",
       "    .dataframe thead th {\n",
       "        text-align: right;\n",
       "    }\n",
       "</style>\n",
       "<table border=\"1\" class=\"dataframe\">\n",
       "  <thead>\n",
       "    <tr style=\"text-align: right;\">\n",
       "      <th></th>\n",
       "      <th>total_bill</th>\n",
       "      <th>tip</th>\n",
       "      <th>sex</th>\n",
       "      <th>smoker</th>\n",
       "      <th>day</th>\n",
       "      <th>time</th>\n",
       "      <th>size</th>\n",
       "    </tr>\n",
       "  </thead>\n",
       "  <tbody>\n",
       "    <tr>\n",
       "      <th>0</th>\n",
       "      <td>16.99</td>\n",
       "      <td>1.01</td>\n",
       "      <td>0</td>\n",
       "      <td>0</td>\n",
       "      <td>3.0</td>\n",
       "      <td>1</td>\n",
       "      <td>2</td>\n",
       "    </tr>\n",
       "    <tr>\n",
       "      <th>1</th>\n",
       "      <td>10.34</td>\n",
       "      <td>1.66</td>\n",
       "      <td>1</td>\n",
       "      <td>0</td>\n",
       "      <td>3.0</td>\n",
       "      <td>1</td>\n",
       "      <td>3</td>\n",
       "    </tr>\n",
       "    <tr>\n",
       "      <th>2</th>\n",
       "      <td>21.01</td>\n",
       "      <td>3.50</td>\n",
       "      <td>1</td>\n",
       "      <td>0</td>\n",
       "      <td>3.0</td>\n",
       "      <td>1</td>\n",
       "      <td>3</td>\n",
       "    </tr>\n",
       "    <tr>\n",
       "      <th>3</th>\n",
       "      <td>23.68</td>\n",
       "      <td>3.31</td>\n",
       "      <td>1</td>\n",
       "      <td>0</td>\n",
       "      <td>3.0</td>\n",
       "      <td>1</td>\n",
       "      <td>2</td>\n",
       "    </tr>\n",
       "    <tr>\n",
       "      <th>4</th>\n",
       "      <td>24.59</td>\n",
       "      <td>3.61</td>\n",
       "      <td>0</td>\n",
       "      <td>0</td>\n",
       "      <td>3.0</td>\n",
       "      <td>1</td>\n",
       "      <td>4</td>\n",
       "    </tr>\n",
       "  </tbody>\n",
       "</table>\n",
       "</div>"
      ],
      "text/plain": [
       "   total_bill   tip  sex  smoker  day  time  size\n",
       "0       16.99  1.01    0       0  3.0     1     2\n",
       "1       10.34  1.66    1       0  3.0     1     3\n",
       "2       21.01  3.50    1       0  3.0     1     3\n",
       "3       23.68  3.31    1       0  3.0     1     2\n",
       "4       24.59  3.61    0       0  3.0     1     4"
      ]
     },
     "execution_count": 86,
     "metadata": {},
     "output_type": "execute_result"
    }
   ],
   "source": [
    "df.head()"
   ]
  },
  {
   "cell_type": "code",
   "execution_count": 87,
   "id": "faad2864-5d83-470b-a160-8a8b404d0866",
   "metadata": {},
   "outputs": [
    {
     "data": {
      "text/plain": [
       "total_bill    0\n",
       "tip           0\n",
       "sex           0\n",
       "smoker        0\n",
       "day           3\n",
       "time          0\n",
       "size          0\n",
       "dtype: int64"
      ]
     },
     "execution_count": 87,
     "metadata": {},
     "output_type": "execute_result"
    }
   ],
   "source": [
    "df.isnull().sum()"
   ]
  },
  {
   "cell_type": "code",
   "execution_count": 13,
   "id": "be3d6afd-a598-4410-be66-3b899ee7b6ea",
   "metadata": {},
   "outputs": [
    {
     "data": {
      "text/plain": [
       "pandas.core.frame.DataFrame"
      ]
     },
     "execution_count": 13,
     "metadata": {},
     "output_type": "execute_result"
    }
   ],
   "source": [
    "type(df)"
   ]
  },
  {
   "cell_type": "code",
   "execution_count": 13,
   "id": "9d21fae7-9b85-41b5-8f49-571faf84d8e9",
   "metadata": {},
   "outputs": [],
   "source": [
    "# from numpy import isnan\n",
    "from sklearn.impute import SimpleImputer"
   ]
  },
  {
   "cell_type": "code",
   "execution_count": 14,
   "id": "13ae77d1-cd59-4913-86fc-211050681ea2",
   "metadata": {},
   "outputs": [],
   "source": [
    "data = df.values"
   ]
  },
  {
   "cell_type": "code",
   "execution_count": 18,
   "id": "425bf157-83ca-441d-9855-753058ce88f2",
   "metadata": {},
   "outputs": [
    {
     "data": {
      "text/html": [
       "<div>\n",
       "<style scoped>\n",
       "    .dataframe tbody tr th:only-of-type {\n",
       "        vertical-align: middle;\n",
       "    }\n",
       "\n",
       "    .dataframe tbody tr th {\n",
       "        vertical-align: top;\n",
       "    }\n",
       "\n",
       "    .dataframe thead th {\n",
       "        text-align: right;\n",
       "    }\n",
       "</style>\n",
       "<table border=\"1\" class=\"dataframe\">\n",
       "  <thead>\n",
       "    <tr style=\"text-align: right;\">\n",
       "      <th></th>\n",
       "      <th>total_bill</th>\n",
       "      <th>tip</th>\n",
       "      <th>sex</th>\n",
       "      <th>smoker</th>\n",
       "      <th>day</th>\n",
       "      <th>time</th>\n",
       "      <th>size</th>\n",
       "    </tr>\n",
       "  </thead>\n",
       "  <tbody>\n",
       "    <tr>\n",
       "      <th>count</th>\n",
       "      <td>248.000000</td>\n",
       "      <td>248.000000</td>\n",
       "      <td>248.000000</td>\n",
       "      <td>248.000000</td>\n",
       "      <td>245.000000</td>\n",
       "      <td>248.000000</td>\n",
       "      <td>248.000000</td>\n",
       "    </tr>\n",
       "    <tr>\n",
       "      <th>mean</th>\n",
       "      <td>19.860484</td>\n",
       "      <td>2.991734</td>\n",
       "      <td>0.645161</td>\n",
       "      <td>0.375000</td>\n",
       "      <td>1.730612</td>\n",
       "      <td>0.725806</td>\n",
       "      <td>2.588710</td>\n",
       "    </tr>\n",
       "    <tr>\n",
       "      <th>std</th>\n",
       "      <td>8.866048</td>\n",
       "      <td>1.378257</td>\n",
       "      <td>0.479432</td>\n",
       "      <td>0.485102</td>\n",
       "      <td>1.156274</td>\n",
       "      <td>0.447009</td>\n",
       "      <td>0.965075</td>\n",
       "    </tr>\n",
       "    <tr>\n",
       "      <th>min</th>\n",
       "      <td>3.070000</td>\n",
       "      <td>1.000000</td>\n",
       "      <td>0.000000</td>\n",
       "      <td>0.000000</td>\n",
       "      <td>0.000000</td>\n",
       "      <td>0.000000</td>\n",
       "      <td>1.000000</td>\n",
       "    </tr>\n",
       "    <tr>\n",
       "      <th>25%</th>\n",
       "      <td>13.385000</td>\n",
       "      <td>2.000000</td>\n",
       "      <td>0.000000</td>\n",
       "      <td>0.000000</td>\n",
       "      <td>0.000000</td>\n",
       "      <td>0.000000</td>\n",
       "      <td>2.000000</td>\n",
       "    </tr>\n",
       "    <tr>\n",
       "      <th>50%</th>\n",
       "      <td>17.815000</td>\n",
       "      <td>2.960000</td>\n",
       "      <td>1.000000</td>\n",
       "      <td>0.000000</td>\n",
       "      <td>2.000000</td>\n",
       "      <td>1.000000</td>\n",
       "      <td>2.000000</td>\n",
       "    </tr>\n",
       "    <tr>\n",
       "      <th>75%</th>\n",
       "      <td>24.527500</td>\n",
       "      <td>3.520000</td>\n",
       "      <td>1.000000</td>\n",
       "      <td>1.000000</td>\n",
       "      <td>3.000000</td>\n",
       "      <td>1.000000</td>\n",
       "      <td>3.000000</td>\n",
       "    </tr>\n",
       "    <tr>\n",
       "      <th>max</th>\n",
       "      <td>50.810000</td>\n",
       "      <td>10.000000</td>\n",
       "      <td>1.000000</td>\n",
       "      <td>1.000000</td>\n",
       "      <td>3.000000</td>\n",
       "      <td>1.000000</td>\n",
       "      <td>6.000000</td>\n",
       "    </tr>\n",
       "  </tbody>\n",
       "</table>\n",
       "</div>"
      ],
      "text/plain": [
       "       total_bill         tip         sex      smoker         day        time  \\\n",
       "count  248.000000  248.000000  248.000000  248.000000  245.000000  248.000000   \n",
       "mean    19.860484    2.991734    0.645161    0.375000    1.730612    0.725806   \n",
       "std      8.866048    1.378257    0.479432    0.485102    1.156274    0.447009   \n",
       "min      3.070000    1.000000    0.000000    0.000000    0.000000    0.000000   \n",
       "25%     13.385000    2.000000    0.000000    0.000000    0.000000    0.000000   \n",
       "50%     17.815000    2.960000    1.000000    0.000000    2.000000    1.000000   \n",
       "75%     24.527500    3.520000    1.000000    1.000000    3.000000    1.000000   \n",
       "max     50.810000   10.000000    1.000000    1.000000    3.000000    1.000000   \n",
       "\n",
       "             size  \n",
       "count  248.000000  \n",
       "mean     2.588710  \n",
       "std      0.965075  \n",
       "min      1.000000  \n",
       "25%      2.000000  \n",
       "50%      2.000000  \n",
       "75%      3.000000  \n",
       "max      6.000000  "
      ]
     },
     "execution_count": 18,
     "metadata": {},
     "output_type": "execute_result"
    }
   ],
   "source": [
    "df.describe()"
   ]
  },
  {
   "cell_type": "code",
   "execution_count": 19,
   "id": "cbaddb36-4667-46e5-8875-28e687486dd8",
   "metadata": {},
   "outputs": [
    {
     "data": {
      "text/plain": [
       "3"
      ]
     },
     "execution_count": 19,
     "metadata": {},
     "output_type": "execute_result"
    }
   ],
   "source": [
    "# flatten() 여러 칼럼을 하나로 합친다. \n",
    "sum(np.isnan(data).flatten())"
   ]
  },
  {
   "cell_type": "code",
   "execution_count": 21,
   "id": "9db8cfca-8ff7-45c6-8f9f-2b9aa7d20396",
   "metadata": {},
   "outputs": [],
   "source": [
    "imputer = SimpleImputer(strategy='median')"
   ]
  },
  {
   "cell_type": "code",
   "execution_count": 22,
   "id": "34fe2c13-f6ac-40ba-b761-60f8d940971c",
   "metadata": {},
   "outputs": [
    {
     "data": {
      "text/plain": [
       "SimpleImputer(strategy='median')"
      ]
     },
     "execution_count": 22,
     "metadata": {},
     "output_type": "execute_result"
    }
   ],
   "source": [
    "# fit on the dataset\n",
    "imputer.fit(data)"
   ]
  },
  {
   "cell_type": "code",
   "execution_count": 23,
   "id": "ac7bd5c9-10b9-4b2c-a8e4-e0ba2221f7a6",
   "metadata": {},
   "outputs": [],
   "source": [
    "# transform the dataset\n",
    "data_trans = imputer.transform(data)"
   ]
  },
  {
   "cell_type": "code",
   "execution_count": 24,
   "id": "e097b26a-a769-4c40-9488-b5f833c6ab4d",
   "metadata": {},
   "outputs": [],
   "source": [
    "df_trans=pd.DataFrame(data_trans)"
   ]
  },
  {
   "cell_type": "code",
   "execution_count": 25,
   "id": "e909b858-413b-4ad4-b5b3-540a68189454",
   "metadata": {},
   "outputs": [
    {
     "data": {
      "text/plain": [
       "0    0\n",
       "1    0\n",
       "2    0\n",
       "3    0\n",
       "4    0\n",
       "5    0\n",
       "6    0\n",
       "dtype: int64"
      ]
     },
     "execution_count": 25,
     "metadata": {},
     "output_type": "execute_result"
    }
   ],
   "source": [
    "df_trans.isnull().sum()"
   ]
  },
  {
   "cell_type": "markdown",
   "id": "c31b087d-5cd2-414c-86f2-490dd60e3277",
   "metadata": {},
   "source": [
    "## RFE 적용"
   ]
  },
  {
   "cell_type": "code",
   "execution_count": 88,
   "id": "0f844dae-3e30-4e6f-ab5a-0e350bcf30b3",
   "metadata": {},
   "outputs": [
    {
     "name": "stdout",
     "output_type": "stream",
     "text": [
      "<class 'pandas.core.frame.DataFrame'>\n",
      "RangeIndex: 248 entries, 0 to 247\n",
      "Data columns (total 7 columns):\n",
      " #   Column      Non-Null Count  Dtype  \n",
      "---  ------      --------------  -----  \n",
      " 0   total_bill  248 non-null    float64\n",
      " 1   tip         248 non-null    float64\n",
      " 2   sex         248 non-null    int64  \n",
      " 3   smoker      248 non-null    int64  \n",
      " 4   day         245 non-null    float64\n",
      " 5   time        248 non-null    int64  \n",
      " 6   size        248 non-null    int64  \n",
      "dtypes: float64(3), int64(4)\n",
      "memory usage: 13.7 KB\n"
     ]
    }
   ],
   "source": [
    "df.info()"
   ]
  },
  {
   "cell_type": "code",
   "execution_count": 93,
   "id": "69f30228-bdfc-4013-af7f-b67f271b903f",
   "metadata": {},
   "outputs": [],
   "source": [
    "y=df.total_bill"
   ]
  },
  {
   "cell_type": "code",
   "execution_count": 94,
   "id": "dacc6d88-0df3-4c87-9580-a3dd456e6804",
   "metadata": {},
   "outputs": [],
   "source": [
    "X=df.drop('total_bill',axis=1)"
   ]
  },
  {
   "cell_type": "code",
   "execution_count": 91,
   "id": "d5b779c9-5451-4799-bbf7-aa31f5dc01d4",
   "metadata": {},
   "outputs": [
    {
     "data": {
      "text/html": [
       "<div>\n",
       "<style scoped>\n",
       "    .dataframe tbody tr th:only-of-type {\n",
       "        vertical-align: middle;\n",
       "    }\n",
       "\n",
       "    .dataframe tbody tr th {\n",
       "        vertical-align: top;\n",
       "    }\n",
       "\n",
       "    .dataframe thead th {\n",
       "        text-align: right;\n",
       "    }\n",
       "</style>\n",
       "<table border=\"1\" class=\"dataframe\">\n",
       "  <thead>\n",
       "    <tr style=\"text-align: right;\">\n",
       "      <th></th>\n",
       "      <th>total_bill</th>\n",
       "      <th>sex</th>\n",
       "      <th>smoker</th>\n",
       "      <th>day</th>\n",
       "      <th>time</th>\n",
       "      <th>size</th>\n",
       "    </tr>\n",
       "  </thead>\n",
       "  <tbody>\n",
       "    <tr>\n",
       "      <th>0</th>\n",
       "      <td>16.99</td>\n",
       "      <td>0</td>\n",
       "      <td>0</td>\n",
       "      <td>3.0</td>\n",
       "      <td>1</td>\n",
       "      <td>2</td>\n",
       "    </tr>\n",
       "    <tr>\n",
       "      <th>1</th>\n",
       "      <td>10.34</td>\n",
       "      <td>1</td>\n",
       "      <td>0</td>\n",
       "      <td>3.0</td>\n",
       "      <td>1</td>\n",
       "      <td>3</td>\n",
       "    </tr>\n",
       "    <tr>\n",
       "      <th>2</th>\n",
       "      <td>21.01</td>\n",
       "      <td>1</td>\n",
       "      <td>0</td>\n",
       "      <td>3.0</td>\n",
       "      <td>1</td>\n",
       "      <td>3</td>\n",
       "    </tr>\n",
       "    <tr>\n",
       "      <th>3</th>\n",
       "      <td>23.68</td>\n",
       "      <td>1</td>\n",
       "      <td>0</td>\n",
       "      <td>3.0</td>\n",
       "      <td>1</td>\n",
       "      <td>2</td>\n",
       "    </tr>\n",
       "    <tr>\n",
       "      <th>4</th>\n",
       "      <td>24.59</td>\n",
       "      <td>0</td>\n",
       "      <td>0</td>\n",
       "      <td>3.0</td>\n",
       "      <td>1</td>\n",
       "      <td>4</td>\n",
       "    </tr>\n",
       "    <tr>\n",
       "      <th>...</th>\n",
       "      <td>...</td>\n",
       "      <td>...</td>\n",
       "      <td>...</td>\n",
       "      <td>...</td>\n",
       "      <td>...</td>\n",
       "      <td>...</td>\n",
       "    </tr>\n",
       "    <tr>\n",
       "      <th>243</th>\n",
       "      <td>18.78</td>\n",
       "      <td>0</td>\n",
       "      <td>0</td>\n",
       "      <td>0.0</td>\n",
       "      <td>1</td>\n",
       "      <td>2</td>\n",
       "    </tr>\n",
       "    <tr>\n",
       "      <th>244</th>\n",
       "      <td>16.99</td>\n",
       "      <td>0</td>\n",
       "      <td>0</td>\n",
       "      <td>3.0</td>\n",
       "      <td>1</td>\n",
       "      <td>2</td>\n",
       "    </tr>\n",
       "    <tr>\n",
       "      <th>245</th>\n",
       "      <td>26.88</td>\n",
       "      <td>1</td>\n",
       "      <td>0</td>\n",
       "      <td>NaN</td>\n",
       "      <td>1</td>\n",
       "      <td>4</td>\n",
       "    </tr>\n",
       "    <tr>\n",
       "      <th>246</th>\n",
       "      <td>26.88</td>\n",
       "      <td>1</td>\n",
       "      <td>0</td>\n",
       "      <td>NaN</td>\n",
       "      <td>1</td>\n",
       "      <td>4</td>\n",
       "    </tr>\n",
       "    <tr>\n",
       "      <th>247</th>\n",
       "      <td>26.88</td>\n",
       "      <td>1</td>\n",
       "      <td>0</td>\n",
       "      <td>NaN</td>\n",
       "      <td>1</td>\n",
       "      <td>5</td>\n",
       "    </tr>\n",
       "  </tbody>\n",
       "</table>\n",
       "<p>248 rows × 6 columns</p>\n",
       "</div>"
      ],
      "text/plain": [
       "     total_bill  sex  smoker  day  time  size\n",
       "0         16.99    0       0  3.0     1     2\n",
       "1         10.34    1       0  3.0     1     3\n",
       "2         21.01    1       0  3.0     1     3\n",
       "3         23.68    1       0  3.0     1     2\n",
       "4         24.59    0       0  3.0     1     4\n",
       "..          ...  ...     ...  ...   ...   ...\n",
       "243       18.78    0       0  0.0     1     2\n",
       "244       16.99    0       0  3.0     1     2\n",
       "245       26.88    1       0  NaN     1     4\n",
       "246       26.88    1       0  NaN     1     4\n",
       "247       26.88    1       0  NaN     1     5\n",
       "\n",
       "[248 rows x 6 columns]"
      ]
     },
     "execution_count": 91,
     "metadata": {},
     "output_type": "execute_result"
    }
   ],
   "source": []
  },
  {
   "cell_type": "code",
   "execution_count": 92,
   "id": "ecdc8c24-31a3-4d78-b0b6-bb2c95256e26",
   "metadata": {},
   "outputs": [
    {
     "data": {
      "text/plain": [
       "count    248.000000\n",
       "mean       2.991734\n",
       "std        1.378257\n",
       "min        1.000000\n",
       "25%        2.000000\n",
       "50%        2.960000\n",
       "75%        3.520000\n",
       "max       10.000000\n",
       "Name: tip, dtype: float64"
      ]
     },
     "execution_count": 92,
     "metadata": {},
     "output_type": "execute_result"
    }
   ],
   "source": [
    "y.describe()"
   ]
  },
  {
   "cell_type": "code",
   "execution_count": 31,
   "id": "67a21b7d-6cba-4386-8408-babc2bdba1a7",
   "metadata": {},
   "outputs": [],
   "source": [
    "data=X.values"
   ]
  },
  {
   "cell_type": "code",
   "execution_count": 32,
   "id": "11b67e9b-87ca-497f-a3d9-d381737f2339",
   "metadata": {},
   "outputs": [],
   "source": [
    "y=y.values"
   ]
  },
  {
   "cell_type": "code",
   "execution_count": 34,
   "id": "b8345596-d4fd-4acc-a7db-f54ac652cfc3",
   "metadata": {},
   "outputs": [
    {
     "data": {
      "text/plain": [
       "3"
      ]
     },
     "execution_count": 34,
     "metadata": {},
     "output_type": "execute_result"
    }
   ],
   "source": [
    "sum(np.isnan(data).flatten())"
   ]
  },
  {
   "cell_type": "code",
   "execution_count": 35,
   "id": "34c80023-14d4-4fbb-840c-a6a389aa2a79",
   "metadata": {},
   "outputs": [
    {
     "data": {
      "text/plain": [
       "0"
      ]
     },
     "execution_count": 35,
     "metadata": {},
     "output_type": "execute_result"
    }
   ],
   "source": [
    "sum(np.isnan(y).flatten())"
   ]
  },
  {
   "cell_type": "code",
   "execution_count": 36,
   "id": "cffbbba1-afce-4b2f-b5dc-62737238470a",
   "metadata": {},
   "outputs": [],
   "source": [
    "imputer = SimpleImputer(strategy='median')"
   ]
  },
  {
   "cell_type": "code",
   "execution_count": 37,
   "id": "0fec203a-8b37-4aa6-8a79-817e7cabd948",
   "metadata": {},
   "outputs": [
    {
     "data": {
      "text/plain": [
       "SimpleImputer(strategy='median')"
      ]
     },
     "execution_count": 37,
     "metadata": {},
     "output_type": "execute_result"
    }
   ],
   "source": [
    "imputer.fit(data)"
   ]
  },
  {
   "cell_type": "code",
   "execution_count": 38,
   "id": "ad3c8dd5-a35e-4dcb-aea6-2ccfe21f218a",
   "metadata": {},
   "outputs": [],
   "source": [
    "data_trans=imputer.transform(data)"
   ]
  },
  {
   "cell_type": "code",
   "execution_count": 46,
   "id": "b4e59db2-59a6-47f8-ab5e-01a3b9718997",
   "metadata": {},
   "outputs": [],
   "source": [
    "from sklearn.feature_selection import RFE\n",
    "from sklearn.tree import DecisionTreeClassifier\n",
    "from sklearn.svm import SVR"
   ]
  },
  {
   "cell_type": "code",
   "execution_count": 47,
   "id": "a565d4d7-9abc-4e77-a7be-9fa082e30136",
   "metadata": {},
   "outputs": [],
   "source": [
    "estimator=SVR(kernel='linear')"
   ]
  },
  {
   "cell_type": "code",
   "execution_count": 48,
   "id": "acd81931-2322-4ac9-9711-040ca96cc7b3",
   "metadata": {},
   "outputs": [],
   "source": [
    "rfe = RFE(estimator, n_features_to_select=4)"
   ]
  },
  {
   "cell_type": "code",
   "execution_count": 49,
   "id": "e9f36a2a-ffd1-44a5-9e28-5f57fc4e91dc",
   "metadata": {},
   "outputs": [
    {
     "data": {
      "text/plain": [
       "(248, 6)"
      ]
     },
     "execution_count": 49,
     "metadata": {},
     "output_type": "execute_result"
    }
   ],
   "source": [
    "data_trans.shape"
   ]
  },
  {
   "cell_type": "code",
   "execution_count": 50,
   "id": "d6b2821f-cb53-4ba0-aff6-ffd75ebc9dba",
   "metadata": {},
   "outputs": [
    {
     "data": {
      "text/plain": [
       "RFE(estimator=SVR(kernel='linear'), n_features_to_select=4)"
      ]
     },
     "execution_count": 50,
     "metadata": {},
     "output_type": "execute_result"
    }
   ],
   "source": [
    "rfe.fit(data_trans,y)"
   ]
  },
  {
   "cell_type": "code",
   "execution_count": 51,
   "id": "97d2a7e2-ba03-41d1-b6e3-696eb964dc23",
   "metadata": {},
   "outputs": [
    {
     "name": "stdout",
     "output_type": "stream",
     "text": [
      "Column: 0, Selected=True, Rank: 1\n",
      "Column: 1, Selected=False, Rank: 3\n",
      "Column: 2, Selected=True, Rank: 1\n",
      "Column: 3, Selected=False, Rank: 2\n",
      "Column: 4, Selected=True, Rank: 1\n",
      "Column: 5, Selected=True, Rank: 1\n"
     ]
    }
   ],
   "source": [
    "for i in range(X.shape[1]):\n",
    "  print('Column: %d, Selected=%s, Rank: %d' % (i, rfe.support_[i], rfe.ranking_[i]))"
   ]
  },
  {
   "cell_type": "code",
   "execution_count": 54,
   "id": "0a9072f1-3a8d-4c1e-806a-a174da30e7e7",
   "metadata": {},
   "outputs": [
    {
     "data": {
      "text/plain": [
       "Index(['tip', 'sex', 'smoker', 'day', 'time', 'size'], dtype='object')"
      ]
     },
     "execution_count": 54,
     "metadata": {},
     "output_type": "execute_result"
    }
   ],
   "source": [
    "X.columns"
   ]
  },
  {
   "cell_type": "markdown",
   "id": "2c2b33bf-3829-49a1-9573-5e63e9abd96a",
   "metadata": {},
   "source": [
    "## MinMaxScaler"
   ]
  },
  {
   "cell_type": "code",
   "execution_count": 55,
   "id": "93dcbe5f-7846-4546-b5fb-2d5cb0952dc8",
   "metadata": {},
   "outputs": [],
   "source": [
    "from sklearn.preprocessing import MinMaxScaler"
   ]
  },
  {
   "cell_type": "code",
   "execution_count": 56,
   "id": "78e79cbc-57f3-4f33-8f83-71b25c201a1b",
   "metadata": {},
   "outputs": [],
   "source": [
    "trans=MinMaxScaler()"
   ]
  },
  {
   "cell_type": "code",
   "execution_count": 57,
   "id": "b3120e81-5545-4dcb-af97-3e059ee76833",
   "metadata": {},
   "outputs": [],
   "source": [
    "X_norm=trans.fit_transform(data)"
   ]
  },
  {
   "cell_type": "code",
   "execution_count": 58,
   "id": "1b26834f-7c8b-4646-a2b5-7294ab7102b6",
   "metadata": {},
   "outputs": [],
   "source": [
    "df_norm=pd.DataFrame(X_norm)"
   ]
  },
  {
   "cell_type": "code",
   "execution_count": 59,
   "id": "975d23b7-6913-4b18-970d-c0883e98f7d4",
   "metadata": {},
   "outputs": [
    {
     "data": {
      "text/html": [
       "<div>\n",
       "<style scoped>\n",
       "    .dataframe tbody tr th:only-of-type {\n",
       "        vertical-align: middle;\n",
       "    }\n",
       "\n",
       "    .dataframe tbody tr th {\n",
       "        vertical-align: top;\n",
       "    }\n",
       "\n",
       "    .dataframe thead th {\n",
       "        text-align: right;\n",
       "    }\n",
       "</style>\n",
       "<table border=\"1\" class=\"dataframe\">\n",
       "  <thead>\n",
       "    <tr style=\"text-align: right;\">\n",
       "      <th></th>\n",
       "      <th>0</th>\n",
       "      <th>1</th>\n",
       "      <th>2</th>\n",
       "      <th>3</th>\n",
       "      <th>4</th>\n",
       "      <th>5</th>\n",
       "    </tr>\n",
       "  </thead>\n",
       "  <tbody>\n",
       "    <tr>\n",
       "      <th>count</th>\n",
       "      <td>248.000000</td>\n",
       "      <td>248.000000</td>\n",
       "      <td>248.000000</td>\n",
       "      <td>245.000000</td>\n",
       "      <td>248.000000</td>\n",
       "      <td>248.000000</td>\n",
       "    </tr>\n",
       "    <tr>\n",
       "      <th>mean</th>\n",
       "      <td>0.221304</td>\n",
       "      <td>0.645161</td>\n",
       "      <td>0.375000</td>\n",
       "      <td>0.576871</td>\n",
       "      <td>0.725806</td>\n",
       "      <td>0.317742</td>\n",
       "    </tr>\n",
       "    <tr>\n",
       "      <th>std</th>\n",
       "      <td>0.153140</td>\n",
       "      <td>0.479432</td>\n",
       "      <td>0.485102</td>\n",
       "      <td>0.385425</td>\n",
       "      <td>0.447009</td>\n",
       "      <td>0.193015</td>\n",
       "    </tr>\n",
       "    <tr>\n",
       "      <th>min</th>\n",
       "      <td>0.000000</td>\n",
       "      <td>0.000000</td>\n",
       "      <td>0.000000</td>\n",
       "      <td>0.000000</td>\n",
       "      <td>0.000000</td>\n",
       "      <td>0.000000</td>\n",
       "    </tr>\n",
       "    <tr>\n",
       "      <th>25%</th>\n",
       "      <td>0.111111</td>\n",
       "      <td>0.000000</td>\n",
       "      <td>0.000000</td>\n",
       "      <td>0.000000</td>\n",
       "      <td>0.000000</td>\n",
       "      <td>0.200000</td>\n",
       "    </tr>\n",
       "    <tr>\n",
       "      <th>50%</th>\n",
       "      <td>0.217778</td>\n",
       "      <td>1.000000</td>\n",
       "      <td>0.000000</td>\n",
       "      <td>0.666667</td>\n",
       "      <td>1.000000</td>\n",
       "      <td>0.200000</td>\n",
       "    </tr>\n",
       "    <tr>\n",
       "      <th>75%</th>\n",
       "      <td>0.280000</td>\n",
       "      <td>1.000000</td>\n",
       "      <td>1.000000</td>\n",
       "      <td>1.000000</td>\n",
       "      <td>1.000000</td>\n",
       "      <td>0.400000</td>\n",
       "    </tr>\n",
       "    <tr>\n",
       "      <th>max</th>\n",
       "      <td>1.000000</td>\n",
       "      <td>1.000000</td>\n",
       "      <td>1.000000</td>\n",
       "      <td>1.000000</td>\n",
       "      <td>1.000000</td>\n",
       "      <td>1.000000</td>\n",
       "    </tr>\n",
       "  </tbody>\n",
       "</table>\n",
       "</div>"
      ],
      "text/plain": [
       "                0           1           2           3           4           5\n",
       "count  248.000000  248.000000  248.000000  245.000000  248.000000  248.000000\n",
       "mean     0.221304    0.645161    0.375000    0.576871    0.725806    0.317742\n",
       "std      0.153140    0.479432    0.485102    0.385425    0.447009    0.193015\n",
       "min      0.000000    0.000000    0.000000    0.000000    0.000000    0.000000\n",
       "25%      0.111111    0.000000    0.000000    0.000000    0.000000    0.200000\n",
       "50%      0.217778    1.000000    0.000000    0.666667    1.000000    0.200000\n",
       "75%      0.280000    1.000000    1.000000    1.000000    1.000000    0.400000\n",
       "max      1.000000    1.000000    1.000000    1.000000    1.000000    1.000000"
      ]
     },
     "execution_count": 59,
     "metadata": {},
     "output_type": "execute_result"
    }
   ],
   "source": [
    "df_norm.describe()"
   ]
  },
  {
   "cell_type": "markdown",
   "id": "4f4dcbd5-7167-4e2d-9e36-45cdc5b8c9e0",
   "metadata": {},
   "source": [
    "## StandardScaler"
   ]
  },
  {
   "cell_type": "code",
   "execution_count": 60,
   "id": "21fc3ede-d821-4d4e-a952-eac2ddeb712e",
   "metadata": {},
   "outputs": [],
   "source": [
    "from sklearn.preprocessing import StandardScaler"
   ]
  },
  {
   "cell_type": "code",
   "execution_count": 61,
   "id": "9a8a0d46-a2ae-40e3-9186-e827d706b149",
   "metadata": {},
   "outputs": [],
   "source": [
    "sc=StandardScaler()"
   ]
  },
  {
   "cell_type": "code",
   "execution_count": 62,
   "id": "e367d953-517c-4292-8746-ce0df47cc6e9",
   "metadata": {},
   "outputs": [],
   "source": [
    "df_sc = sc.fit_transform(data)"
   ]
  },
  {
   "cell_type": "code",
   "execution_count": 64,
   "id": "b4d34f1c-c261-46c7-8777-3b381242fbfd",
   "metadata": {},
   "outputs": [],
   "source": [
    "df_transform_sc=pd.DataFrame(df_sc)"
   ]
  },
  {
   "cell_type": "code",
   "execution_count": 67,
   "id": "59de3841-96f3-44ce-b3e9-39d9f17e0106",
   "metadata": {},
   "outputs": [
    {
     "data": {
      "text/html": [
       "<div>\n",
       "<style scoped>\n",
       "    .dataframe tbody tr th:only-of-type {\n",
       "        vertical-align: middle;\n",
       "    }\n",
       "\n",
       "    .dataframe tbody tr th {\n",
       "        vertical-align: top;\n",
       "    }\n",
       "\n",
       "    .dataframe thead th {\n",
       "        text-align: right;\n",
       "    }\n",
       "</style>\n",
       "<table border=\"1\" class=\"dataframe\">\n",
       "  <thead>\n",
       "    <tr style=\"text-align: right;\">\n",
       "      <th></th>\n",
       "      <th>0</th>\n",
       "      <th>1</th>\n",
       "      <th>2</th>\n",
       "      <th>3</th>\n",
       "      <th>4</th>\n",
       "      <th>5</th>\n",
       "    </tr>\n",
       "  </thead>\n",
       "  <tbody>\n",
       "    <tr>\n",
       "      <th>count</th>\n",
       "      <td>248.0</td>\n",
       "      <td>248.0</td>\n",
       "      <td>248.0</td>\n",
       "      <td>245.0</td>\n",
       "      <td>248.0</td>\n",
       "      <td>248.0</td>\n",
       "    </tr>\n",
       "    <tr>\n",
       "      <th>mean</th>\n",
       "      <td>0.0</td>\n",
       "      <td>-0.0</td>\n",
       "      <td>-0.0</td>\n",
       "      <td>-0.0</td>\n",
       "      <td>0.0</td>\n",
       "      <td>-0.0</td>\n",
       "    </tr>\n",
       "    <tr>\n",
       "      <th>std</th>\n",
       "      <td>1.0</td>\n",
       "      <td>1.0</td>\n",
       "      <td>1.0</td>\n",
       "      <td>1.0</td>\n",
       "      <td>1.0</td>\n",
       "      <td>1.0</td>\n",
       "    </tr>\n",
       "    <tr>\n",
       "      <th>min</th>\n",
       "      <td>-1.0</td>\n",
       "      <td>-1.0</td>\n",
       "      <td>-1.0</td>\n",
       "      <td>-1.0</td>\n",
       "      <td>-2.0</td>\n",
       "      <td>-2.0</td>\n",
       "    </tr>\n",
       "    <tr>\n",
       "      <th>25%</th>\n",
       "      <td>-1.0</td>\n",
       "      <td>-1.0</td>\n",
       "      <td>-1.0</td>\n",
       "      <td>-1.0</td>\n",
       "      <td>-2.0</td>\n",
       "      <td>-1.0</td>\n",
       "    </tr>\n",
       "    <tr>\n",
       "      <th>50%</th>\n",
       "      <td>-0.0</td>\n",
       "      <td>1.0</td>\n",
       "      <td>-1.0</td>\n",
       "      <td>0.0</td>\n",
       "      <td>1.0</td>\n",
       "      <td>-1.0</td>\n",
       "    </tr>\n",
       "    <tr>\n",
       "      <th>75%</th>\n",
       "      <td>0.0</td>\n",
       "      <td>1.0</td>\n",
       "      <td>1.0</td>\n",
       "      <td>1.0</td>\n",
       "      <td>1.0</td>\n",
       "      <td>0.0</td>\n",
       "    </tr>\n",
       "    <tr>\n",
       "      <th>max</th>\n",
       "      <td>5.0</td>\n",
       "      <td>1.0</td>\n",
       "      <td>1.0</td>\n",
       "      <td>1.0</td>\n",
       "      <td>1.0</td>\n",
       "      <td>4.0</td>\n",
       "    </tr>\n",
       "  </tbody>\n",
       "</table>\n",
       "</div>"
      ],
      "text/plain": [
       "           0      1      2      3      4      5\n",
       "count  248.0  248.0  248.0  245.0  248.0  248.0\n",
       "mean     0.0   -0.0   -0.0   -0.0    0.0   -0.0\n",
       "std      1.0    1.0    1.0    1.0    1.0    1.0\n",
       "min     -1.0   -1.0   -1.0   -1.0   -2.0   -2.0\n",
       "25%     -1.0   -1.0   -1.0   -1.0   -2.0   -1.0\n",
       "50%     -0.0    1.0   -1.0    0.0    1.0   -1.0\n",
       "75%      0.0    1.0    1.0    1.0    1.0    0.0\n",
       "max      5.0    1.0    1.0    1.0    1.0    4.0"
      ]
     },
     "execution_count": 67,
     "metadata": {},
     "output_type": "execute_result"
    }
   ],
   "source": [
    "df_transform_sc.describe().round()"
   ]
  },
  {
   "cell_type": "code",
   "execution_count": 68,
   "id": "8ff249a6-45d7-4500-949b-659b616ab45e",
   "metadata": {},
   "outputs": [
    {
     "data": {
      "text/plain": [
       "array([[1.01, 0.  , 0.  , 3.  , 1.  , 2.  ],\n",
       "       [1.66, 1.  , 0.  , 3.  , 1.  , 3.  ],\n",
       "       [3.5 , 1.  , 0.  , 3.  , 1.  , 3.  ],\n",
       "       ...,\n",
       "       [3.12, 1.  , 0.  , 2.  , 1.  , 4.  ],\n",
       "       [3.12, 1.  , 0.  , 2.  , 1.  , 4.  ],\n",
       "       [3.12, 1.  , 0.  , 2.  , 1.  , 5.  ]])"
      ]
     },
     "execution_count": 68,
     "metadata": {},
     "output_type": "execute_result"
    }
   ],
   "source": [
    "data_trans"
   ]
  },
  {
   "cell_type": "markdown",
   "id": "2be25a6a-ecae-466c-8b80-68e0ce4e2bb2",
   "metadata": {},
   "source": [
    "## PCA"
   ]
  },
  {
   "cell_type": "code",
   "execution_count": 70,
   "id": "229e3187-9f99-438c-af5c-2e1cc3173dd5",
   "metadata": {},
   "outputs": [],
   "source": [
    "from sklearn.decomposition import PCA"
   ]
  },
  {
   "cell_type": "code",
   "execution_count": 71,
   "id": "dcf8f278-d56e-4587-892b-3b7fe87c62ba",
   "metadata": {},
   "outputs": [],
   "source": [
    "trans = PCA(n_components=4)\n",
    "data_dim = trans.fit_transform(data_trans)"
   ]
  },
  {
   "cell_type": "code",
   "execution_count": 75,
   "id": "cbbd5d91-816a-4753-be7e-5e226dc2034f",
   "metadata": {},
   "outputs": [
    {
     "data": {
      "text/plain": [
       "PCA(n_components=4)"
      ]
     },
     "execution_count": 75,
     "metadata": {},
     "output_type": "execute_result"
    }
   ],
   "source": [
    "trans.fit(data_dim)"
   ]
  },
  {
   "cell_type": "code",
   "execution_count": 76,
   "id": "8d6b0094-998f-42eb-85b6-58d2d7dae55a",
   "metadata": {},
   "outputs": [
    {
     "data": {
      "text/plain": [
       "array([0.50799263, 0.30715882, 0.13516503, 0.04968351])"
      ]
     },
     "execution_count": 76,
     "metadata": {},
     "output_type": "execute_result"
    }
   ],
   "source": [
    "trans.explained_variance_ratio_"
   ]
  },
  {
   "cell_type": "code",
   "execution_count": 79,
   "id": "58451a87-7ae6-4b0a-98d3-d8c32aa8d0ab",
   "metadata": {},
   "outputs": [
    {
     "name": "stdout",
     "output_type": "stream",
     "text": [
      "[[-1.53513954 -1.85004535 -0.26808275 -0.53483408]\n",
      " [-0.49965231 -1.65232642 -0.88420841 -0.15893087]\n",
      " [ 1.04473126 -1.04343427 -0.09951337 -0.27676284]]\n"
     ]
    }
   ],
   "source": [
    "print(data_dim[:3,:])"
   ]
  },
  {
   "cell_type": "code",
   "execution_count": null,
   "id": "00d7a530-c51e-475e-aa4c-bde67df9820b",
   "metadata": {},
   "outputs": [],
   "source": []
  },
  {
   "cell_type": "markdown",
   "id": "7e01e7fa-b4d1-4d4d-87fd-033d50c4bfe8",
   "metadata": {},
   "source": [
    "## 회귀분석"
   ]
  },
  {
   "cell_type": "code",
   "execution_count": 80,
   "id": "1b04e1a7-0ad4-45f9-b797-5bcdd0c72cc5",
   "metadata": {},
   "outputs": [],
   "source": [
    "# pearson's correlation feature selection for numeric input and numeric output\n",
    "from sklearn.feature_selection import SelectKBest\n",
    "from sklearn.feature_selection import f_regression"
   ]
  },
  {
   "cell_type": "code",
   "execution_count": 81,
   "id": "b5c523f8-4fac-42bc-9c51-05cf62a8e8d6",
   "metadata": {},
   "outputs": [],
   "source": [
    "# define feature selection\n",
    "fs = SelectKBest(score_func=f_regression, k=4)"
   ]
  },
  {
   "cell_type": "code",
   "execution_count": 82,
   "id": "f5e4fd40-6e01-407c-b8c3-d39bf89e6a34",
   "metadata": {},
   "outputs": [],
   "source": [
    "# apply feature selection\n",
    "X_selected = fs.fit_transform(data_trans, y)"
   ]
  },
  {
   "cell_type": "code",
   "execution_count": 83,
   "id": "a1762a37-2f93-4a6d-9f95-88f32d5bcc25",
   "metadata": {},
   "outputs": [
    {
     "name": "stdout",
     "output_type": "stream",
     "text": [
      "(248, 4)\n"
     ]
    }
   ],
   "source": [
    "print(X_selected.shape)"
   ]
  },
  {
   "cell_type": "code",
   "execution_count": 84,
   "id": "5a48e755-56a8-4982-9694-561f75b0ddf6",
   "metadata": {},
   "outputs": [
    {
     "data": {
      "text/html": [
       "<div>\n",
       "<style scoped>\n",
       "    .dataframe tbody tr th:only-of-type {\n",
       "        vertical-align: middle;\n",
       "    }\n",
       "\n",
       "    .dataframe tbody tr th {\n",
       "        vertical-align: top;\n",
       "    }\n",
       "\n",
       "    .dataframe thead th {\n",
       "        text-align: right;\n",
       "    }\n",
       "</style>\n",
       "<table border=\"1\" class=\"dataframe\">\n",
       "  <thead>\n",
       "    <tr style=\"text-align: right;\">\n",
       "      <th></th>\n",
       "      <th>0</th>\n",
       "      <th>1</th>\n",
       "      <th>2</th>\n",
       "      <th>3</th>\n",
       "    </tr>\n",
       "  </thead>\n",
       "  <tbody>\n",
       "    <tr>\n",
       "      <th>0</th>\n",
       "      <td>1.01</td>\n",
       "      <td>3.0</td>\n",
       "      <td>1.0</td>\n",
       "      <td>2.0</td>\n",
       "    </tr>\n",
       "    <tr>\n",
       "      <th>1</th>\n",
       "      <td>1.66</td>\n",
       "      <td>3.0</td>\n",
       "      <td>1.0</td>\n",
       "      <td>3.0</td>\n",
       "    </tr>\n",
       "    <tr>\n",
       "      <th>2</th>\n",
       "      <td>3.50</td>\n",
       "      <td>3.0</td>\n",
       "      <td>1.0</td>\n",
       "      <td>3.0</td>\n",
       "    </tr>\n",
       "    <tr>\n",
       "      <th>3</th>\n",
       "      <td>3.31</td>\n",
       "      <td>3.0</td>\n",
       "      <td>1.0</td>\n",
       "      <td>2.0</td>\n",
       "    </tr>\n",
       "    <tr>\n",
       "      <th>4</th>\n",
       "      <td>3.61</td>\n",
       "      <td>3.0</td>\n",
       "      <td>1.0</td>\n",
       "      <td>4.0</td>\n",
       "    </tr>\n",
       "    <tr>\n",
       "      <th>...</th>\n",
       "      <td>...</td>\n",
       "      <td>...</td>\n",
       "      <td>...</td>\n",
       "      <td>...</td>\n",
       "    </tr>\n",
       "    <tr>\n",
       "      <th>243</th>\n",
       "      <td>3.00</td>\n",
       "      <td>0.0</td>\n",
       "      <td>1.0</td>\n",
       "      <td>2.0</td>\n",
       "    </tr>\n",
       "    <tr>\n",
       "      <th>244</th>\n",
       "      <td>1.01</td>\n",
       "      <td>3.0</td>\n",
       "      <td>1.0</td>\n",
       "      <td>2.0</td>\n",
       "    </tr>\n",
       "    <tr>\n",
       "      <th>245</th>\n",
       "      <td>3.12</td>\n",
       "      <td>2.0</td>\n",
       "      <td>1.0</td>\n",
       "      <td>4.0</td>\n",
       "    </tr>\n",
       "    <tr>\n",
       "      <th>246</th>\n",
       "      <td>3.12</td>\n",
       "      <td>2.0</td>\n",
       "      <td>1.0</td>\n",
       "      <td>4.0</td>\n",
       "    </tr>\n",
       "    <tr>\n",
       "      <th>247</th>\n",
       "      <td>3.12</td>\n",
       "      <td>2.0</td>\n",
       "      <td>1.0</td>\n",
       "      <td>5.0</td>\n",
       "    </tr>\n",
       "  </tbody>\n",
       "</table>\n",
       "<p>248 rows × 4 columns</p>\n",
       "</div>"
      ],
      "text/plain": [
       "        0    1    2    3\n",
       "0    1.01  3.0  1.0  2.0\n",
       "1    1.66  3.0  1.0  3.0\n",
       "2    3.50  3.0  1.0  3.0\n",
       "3    3.31  3.0  1.0  2.0\n",
       "4    3.61  3.0  1.0  4.0\n",
       "..    ...  ...  ...  ...\n",
       "243  3.00  0.0  1.0  2.0\n",
       "244  1.01  3.0  1.0  2.0\n",
       "245  3.12  2.0  1.0  4.0\n",
       "246  3.12  2.0  1.0  4.0\n",
       "247  3.12  2.0  1.0  5.0\n",
       "\n",
       "[248 rows x 4 columns]"
      ]
     },
     "execution_count": 84,
     "metadata": {},
     "output_type": "execute_result"
    }
   ],
   "source": [
    "pd.DataFrame(X_selected)"
   ]
  },
  {
   "cell_type": "code",
   "execution_count": null,
   "id": "4367ada3-447c-40c6-a040-aafac978363b",
   "metadata": {},
   "outputs": [],
   "source": []
  }
 ],
 "metadata": {
  "kernelspec": {
   "display_name": "Python Multi",
   "language": "python",
   "name": "multi"
  },
  "language_info": {
   "codemirror_mode": {
    "name": "ipython",
    "version": 3
   },
   "file_extension": ".py",
   "mimetype": "text/x-python",
   "name": "python",
   "nbconvert_exporter": "python",
   "pygments_lexer": "ipython3",
   "version": "3.7.6"
  }
 },
 "nbformat": 4,
 "nbformat_minor": 5
}
