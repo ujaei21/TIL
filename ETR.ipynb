{
  "nbformat": 4,
  "nbformat_minor": 0,
  "metadata": {
    "colab": {
      "name": "ETR.ipynb",
      "private_outputs": true,
      "provenance": [],
      "collapsed_sections": [],
      "mount_file_id": "14tCK_wvFVa_Flnor9HpfUcCB3Ludr57P",
      "authorship_tag": "ABX9TyNHfmdKaSk33VW68VwFu1l3",
      "include_colab_link": true
    },
    "kernelspec": {
      "name": "python3",
      "display_name": "Python 3"
    },
    "language_info": {
      "name": "python"
    }
  },
  "cells": [
    {
      "cell_type": "markdown",
      "metadata": {
        "id": "view-in-github",
        "colab_type": "text"
      },
      "source": [
        "<a href=\"https://colab.research.google.com/github/ujaei21/TIL/blob/master/ETR.ipynb\" target=\"_parent\"><img src=\"https://colab.research.google.com/assets/colab-badge.svg\" alt=\"Open In Colab\"/></a>"
      ]
    },
    {
      "cell_type": "code",
      "metadata": {
        "id": "eUOnIYKy77rK"
      },
      "source": [
        "from sklearn.ensemble import ExtraTreesRegressor\n",
        "import pandas as pd\n",
        "from sklearn.model_selection import train_test_split\n",
        "from sklearn.preprocessing import MinMaxScaler\n",
        "from sklearn.metrics import mean_squared_error,r2_score"
      ],
      "execution_count": null,
      "outputs": []
    },
    {
      "cell_type": "code",
      "metadata": {
        "id": "vseWa6DB9_Ic"
      },
      "source": [
        "data = pd.read_csv('/content/drive/MyDrive/DataSet.csv')"
      ],
      "execution_count": null,
      "outputs": []
    },
    {
      "cell_type": "markdown",
      "metadata": {
        "id": "6ZXA337e6Zol"
      },
      "source": [
        "## PM 10"
      ]
    },
    {
      "cell_type": "code",
      "metadata": {
        "id": "N5h8JcujBOtw"
      },
      "source": [
        "x = data[['Temp', 'Prec', 'WS', 'Humi', 'Pres', 'cbwd']]\n",
        "\n",
        "y=data['PM10']\n",
        "\n",
        "x_train, x_test, y_train, y_test = train_test_split(x, y, train_size=0.8, test_size=0.2)"
      ],
      "execution_count": null,
      "outputs": []
    },
    {
      "cell_type": "code",
      "metadata": {
        "id": "jtB0qHzWCYaA"
      },
      "source": [
        "etr = ExtraTreesRegressor()"
      ],
      "execution_count": null,
      "outputs": []
    },
    {
      "cell_type": "code",
      "metadata": {
        "id": "wZmiyTHwCqs_"
      },
      "source": [
        "etr.fit(x_train,y_train)"
      ],
      "execution_count": null,
      "outputs": []
    },
    {
      "cell_type": "code",
      "metadata": {
        "id": "KuUmrAC8CxZx"
      },
      "source": [
        "round(etr.score(x_train, y_train),3)"
      ],
      "execution_count": null,
      "outputs": []
    },
    {
      "cell_type": "code",
      "metadata": {
        "id": "RZATwJECC9Df"
      },
      "source": [
        "round(etr.score(x_test, y_test),3)"
      ],
      "execution_count": null,
      "outputs": []
    },
    {
      "cell_type": "code",
      "metadata": {
        "id": "fXjBqBU-D6dq"
      },
      "source": [
        "y_pred=etr.predict(x_test)"
      ],
      "execution_count": null,
      "outputs": []
    },
    {
      "cell_type": "code",
      "metadata": {
        "id": "LyxV2WFOFUA7"
      },
      "source": [
        "mse = mean_squared_error(y_test, y_pred)\n",
        "r2= r2_score(y_test,y_pred)\n",
        "print(\"MSE: %.2f\" % mse)\n",
        "print(\"RMSE: %.2f\" % mse**(0.5))\n",
        "print('R2 : %.3f'% r2)"
      ],
      "execution_count": null,
      "outputs": []
    },
    {
      "cell_type": "markdown",
      "metadata": {
        "id": "z4fvuxTA6XQt"
      },
      "source": [
        "## PM 2.5"
      ]
    },
    {
      "cell_type": "code",
      "metadata": {
        "id": "6ebZtvSlHHP5"
      },
      "source": [
        "x = data[['Temp', 'Prec', 'WS', 'Humi', 'Pres', 'cbwd']]\n",
        "\n",
        "y=data['PM25']\n",
        "\n",
        "x_train, x_test, y_train, y_test = train_test_split(x, y, train_size=0.8, test_size=0.2)"
      ],
      "execution_count": null,
      "outputs": []
    },
    {
      "cell_type": "code",
      "metadata": {
        "id": "GQY4n_5h5mQl"
      },
      "source": [
        "etr.fit(x_train,y_train)"
      ],
      "execution_count": null,
      "outputs": []
    },
    {
      "cell_type": "code",
      "metadata": {
        "id": "Sq4iuX935pGE"
      },
      "source": [
        "round(etr.score(x_train, y_train),3)"
      ],
      "execution_count": null,
      "outputs": []
    },
    {
      "cell_type": "code",
      "metadata": {
        "id": "MXV9rNCE5tBV"
      },
      "source": [
        "score=etr.score(x_test, y_test)\n",
        "print('Score : %.3f' %score)"
      ],
      "execution_count": null,
      "outputs": []
    },
    {
      "cell_type": "markdown",
      "metadata": {
        "id": "6GwD-q_m6cHs"
      },
      "source": [
        "## MinMaxScaler - PM 10"
      ]
    },
    {
      "cell_type": "code",
      "metadata": {
        "id": "tyz-mAcA5yAM"
      },
      "source": [
        "x = data[['Temp', 'Prec', 'WS', 'Humi', 'Pres', 'cbwd']]\n",
        "trans=MinMaxScaler()\n",
        "X=trans.fit_transform(x)\n",
        "\n",
        "y=data['PM10']\n",
        "\n",
        "x_train, x_test, y_train, y_test = train_test_split(X, y, train_size=0.8, test_size=0.2)"
      ],
      "execution_count": null,
      "outputs": []
    },
    {
      "cell_type": "code",
      "metadata": {
        "id": "TupYSrzP6sCw"
      },
      "source": [
        "etr=ExtraTreesRegressor()\n",
        "etr.fit(x_train,y_train)"
      ],
      "execution_count": null,
      "outputs": []
    },
    {
      "cell_type": "code",
      "metadata": {
        "id": "dUHfUpLa6y2c"
      },
      "source": [
        "round(etr.score(x_test,y_test),3)"
      ],
      "execution_count": null,
      "outputs": []
    },
    {
      "cell_type": "markdown",
      "metadata": {
        "id": "sBMCjx9q7E-z"
      },
      "source": [
        "## MinMaxScaler - PM 2.5"
      ]
    },
    {
      "cell_type": "code",
      "metadata": {
        "id": "u_nHI-mF7Ek3"
      },
      "source": [
        "x = data[['Temp', 'Prec', 'WS', 'Humi', 'Pres', 'cbwd']]\n",
        "trans=MinMaxScaler()\n",
        "X=trans.fit_transform(x)\n",
        "\n",
        "y=data['PM25']\n",
        "\n",
        "x_train, x_test, y_train, y_test = train_test_split(X, y, train_size=0.8, test_size=0.2)"
      ],
      "execution_count": null,
      "outputs": []
    },
    {
      "cell_type": "code",
      "metadata": {
        "id": "Gd888REv69KT"
      },
      "source": [
        "etr=ExtraTreesRegressor()\n",
        "etr.fit(x_train,y_train)"
      ],
      "execution_count": null,
      "outputs": []
    },
    {
      "cell_type": "code",
      "metadata": {
        "id": "cg33j_pJ7YFd"
      },
      "source": [
        "round(etr.score(x_train, y_train),3)"
      ],
      "execution_count": null,
      "outputs": []
    },
    {
      "cell_type": "code",
      "metadata": {
        "id": "L74Yd6eV7O7U"
      },
      "source": [
        "round(etr.score(x_test,y_test),3)"
      ],
      "execution_count": null,
      "outputs": []
    }
  ]
}