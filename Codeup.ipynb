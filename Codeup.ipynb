{
 "cells": [
  {
   "cell_type": "code",
   "execution_count": 2,
   "id": "946ed7ef-2de6-4847-91ad-260801b021fb",
   "metadata": {},
   "outputs": [
    {
     "name": "stdout",
     "output_type": "stream",
     "text": [
      "\"!@#$%^&*()'\n"
     ]
    }
   ],
   "source": [
    "print(\"\\\"!@#$%^&*()\\'\")"
   ]
  },
  {
   "cell_type": "code",
   "execution_count": 6,
   "id": "b6c66937-5a00-44df-868c-6d3f113d477f",
   "metadata": {},
   "outputs": [
    {
     "name": "stdout",
     "output_type": "stream",
     "text": [
      "\"C:\\Download\\'hello'.py\"\n"
     ]
    }
   ],
   "source": [
    "print(\"\\\"C:\\Download\\\\'hello'.py\\\"\")"
   ]
  },
  {
   "cell_type": "code",
   "execution_count": 10,
   "id": "e7c91bce-71fa-44f0-9aa2-489b1fc85b78",
   "metadata": {},
   "outputs": [
    {
     "name": "stdout",
     "output_type": "stream",
     "text": [
      "print(\"Hello\\nWorld\")\n"
     ]
    }
   ],
   "source": [
    "print('print(\"Hello\\\\nWorld\")')"
   ]
  },
  {
   "cell_type": "code",
   "execution_count": 6,
   "id": "b4aa20a7-9ea9-43ed-bc9b-b58782c41ead",
   "metadata": {},
   "outputs": [
    {
     "name": "stdin",
     "output_type": "stream",
     "text": [
      "number :  1 12\n"
     ]
    },
    {
     "name": "stdout",
     "output_type": "stream",
     "text": [
      "1\n",
      "12\n"
     ]
    }
   ],
   "source": [
    "a,b=input('number : ').split()\n",
    "a=int(a)\n",
    "b=int(b)\n",
    "print(a)\n",
    "print(b)"
   ]
  },
  {
   "cell_type": "code",
   "execution_count": 7,
   "id": "9bb31c12-ced1-417e-af13-d16b7b92ebb7",
   "metadata": {},
   "outputs": [
    {
     "data": {
      "text/plain": [
       "int"
      ]
     },
     "execution_count": 7,
     "metadata": {},
     "output_type": "execute_result"
    }
   ],
   "source": [
    "type(a)"
   ]
  },
  {
   "cell_type": "code",
   "execution_count": 9,
   "id": "bcc2813c-dbb6-4605-8da5-6cb85c30391e",
   "metadata": {},
   "outputs": [
    {
     "name": "stdin",
     "output_type": "stream",
     "text": [
      " 12:23\n"
     ]
    },
    {
     "name": "stdout",
     "output_type": "stream",
     "text": [
      "12-23\n"
     ]
    }
   ],
   "source": [
    "a, b = input().split(':')\n",
    "print(a, b, sep='-')"
   ]
  },
  {
   "cell_type": "code",
   "execution_count": 10,
   "id": "be40b49e-ac9e-4eea-9ce0-3a19e646739c",
   "metadata": {},
   "outputs": [
    {
     "name": "stdin",
     "output_type": "stream",
     "text": [
      " 21.07.27\n"
     ]
    },
    {
     "name": "stdout",
     "output_type": "stream",
     "text": [
      "27-07-21\n"
     ]
    }
   ],
   "source": [
    "y,m,d=input().split('.')\n",
    "print(d,m,y,sep='-')"
   ]
  },
  {
   "cell_type": "code",
   "execution_count": null,
   "id": "85cb6d26-4b27-43e5-8239-a31599f6c7fe",
   "metadata": {},
   "outputs": [],
   "source": [
    "front,back = input().split('-')\n",
    "print(front,back,sep='')"
   ]
  },
  {
   "cell_type": "code",
   "execution_count": 14,
   "id": "21c993c9-eb71-47fe-9bfe-9e0cc2954869",
   "metadata": {},
   "outputs": [
    {
     "name": "stdin",
     "output_type": "stream",
     "text": [
      " hell0\n"
     ]
    },
    {
     "name": "stdout",
     "output_type": "stream",
     "text": [
      "h\n",
      "e\n",
      "l\n",
      "l\n",
      "0\n"
     ]
    }
   ],
   "source": [
    "word = input()\n",
    "print(word[0])\n",
    "print(word[1])\n",
    "print(word[2])\n",
    "print(word[3])\n",
    "print(word[4])"
   ]
  },
  {
   "cell_type": "code",
   "execution_count": 15,
   "id": "2f967f21-57ea-473d-9bc2-5fe8e053e544",
   "metadata": {},
   "outputs": [
    {
     "name": "stdin",
     "output_type": "stream",
     "text": [
      " 210721\n"
     ]
    },
    {
     "name": "stdout",
     "output_type": "stream",
     "text": [
      "21 07 21\n"
     ]
    }
   ],
   "source": [
    "time=input()\n",
    "print(time[0:2],time[2:4],time[4:6])"
   ]
  },
  {
   "cell_type": "code",
   "execution_count": 17,
   "id": "778c760c-cf1a-4c07-b946-b8ee87729eb1",
   "metadata": {},
   "outputs": [
    {
     "name": "stdin",
     "output_type": "stream",
     "text": [
      " 12:13:14\n"
     ]
    },
    {
     "name": "stdout",
     "output_type": "stream",
     "text": [
      "13\n"
     ]
    }
   ],
   "source": [
    "h,m,s=input().split(':')\n",
    "print(m)"
   ]
  },
  {
   "cell_type": "code",
   "execution_count": 18,
   "id": "98e60367-92ae-4a77-8fbc-fe97ca7298b0",
   "metadata": {},
   "outputs": [
    {
     "name": "stdin",
     "output_type": "stream",
     "text": [
      " hello world\n"
     ]
    },
    {
     "name": "stdout",
     "output_type": "stream",
     "text": [
      "helloworld\n"
     ]
    }
   ],
   "source": [
    "w1,w2=input().split()\n",
    "print(w1+w2)"
   ]
  },
  {
   "cell_type": "code",
   "execution_count": 19,
   "id": "94054da5-1756-4bb8-8cea-88e99d148c15",
   "metadata": {},
   "outputs": [
    {
     "name": "stdin",
     "output_type": "stream",
     "text": [
      " 12 3\n"
     ]
    },
    {
     "name": "stdout",
     "output_type": "stream",
     "text": [
      "15\n"
     ]
    }
   ],
   "source": [
    "a, b = input().split()\n",
    "c = int(a) + int(b)\n",
    "print(c)"
   ]
  },
  {
   "cell_type": "code",
   "execution_count": 21,
   "id": "76ee8bb8-4019-4296-af38-a70e680a9ac7",
   "metadata": {},
   "outputs": [
    {
     "name": "stdin",
     "output_type": "stream",
     "text": [
      " 0.1\n",
      " 0.9\n"
     ]
    },
    {
     "name": "stdout",
     "output_type": "stream",
     "text": [
      "1.0\n"
     ]
    }
   ],
   "source": [
    "a= float(input())\n",
    "b= float(input())\n",
    "c = a + b\n",
    "print(c)"
   ]
  },
  {
   "cell_type": "code",
   "execution_count": 24,
   "id": "616b5e9f-174e-4488-87b4-57debb3064ed",
   "metadata": {},
   "outputs": [
    {
     "name": "stdin",
     "output_type": "stream",
     "text": [
      " 255\n"
     ]
    },
    {
     "name": "stdout",
     "output_type": "stream",
     "text": [
      "ff\n"
     ]
    }
   ],
   "source": [
    "a=input()\n",
    "n=int(a)\n",
    "print('%x' %n)"
   ]
  },
  {
   "cell_type": "code",
   "execution_count": 25,
   "id": "c6bb2200-f5d3-41a7-afeb-afc8d8825a54",
   "metadata": {},
   "outputs": [
    {
     "name": "stdin",
     "output_type": "stream",
     "text": [
      " 255\n"
     ]
    },
    {
     "name": "stdout",
     "output_type": "stream",
     "text": [
      "FF\n"
     ]
    }
   ],
   "source": [
    "a=int(input())\n",
    "\n",
    "print('%X' %a)"
   ]
  },
  {
   "cell_type": "code",
   "execution_count": 26,
   "id": "dbd832a5-6cd4-40dc-a4fd-c6a4d456af4c",
   "metadata": {},
   "outputs": [
    {
     "name": "stdin",
     "output_type": "stream",
     "text": [
      " f\n"
     ]
    },
    {
     "name": "stdout",
     "output_type": "stream",
     "text": [
      "17\n"
     ]
    }
   ],
   "source": [
    "a=int(input(),16)\n",
    "\n",
    "print('%o' %a)"
   ]
  },
  {
   "cell_type": "code",
   "execution_count": null,
   "id": "b4f25891-c55c-404a-b77e-5eec99eacfd0",
   "metadata": {},
   "outputs": [],
   "source": []
  }
 ],
 "metadata": {
  "kernelspec": {
   "display_name": "Python 3",
   "language": "python",
   "name": "python3"
  },
  "language_info": {
   "codemirror_mode": {
    "name": "ipython",
    "version": 3
   },
   "file_extension": ".py",
   "mimetype": "text/x-python",
   "name": "python",
   "nbconvert_exporter": "python",
   "pygments_lexer": "ipython3",
   "version": "3.8.8"
  }
 },
 "nbformat": 4,
 "nbformat_minor": 5
}
