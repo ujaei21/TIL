{
 "cells": [
  {
   "cell_type": "markdown",
   "metadata": {},
   "source": [
    "<h3>Google Image Scrapper for Juypter Notebook</h3>"
   ]
  },
  {
   "cell_type": "code",
   "execution_count": null,
   "metadata": {},
   "outputs": [],
   "source": [
    "#!pip install selenium==4.0.0a6"
   ]
  },
  {
   "cell_type": "code",
   "execution_count": 1,
   "metadata": {},
   "outputs": [],
   "source": [
    "from GoogleImageScrapper import GoogleImageScraper"
   ]
  },
  {
   "cell_type": "code",
   "execution_count": 2,
   "metadata": {},
   "outputs": [],
   "source": [
    "import os\n",
    "import time"
   ]
  },
  {
   "cell_type": "code",
   "execution_count": 3,
   "metadata": {},
   "outputs": [],
   "source": [
    "sleep_between_interactions = 1\n",
    "webdriver_path = os.getcwd()+\".\\\\webdriver\\\\chromedriver.exe\"\n",
    "image_path = os.getcwd()+\".\\\\images\""
   ]
  },
  {
   "cell_type": "code",
   "execution_count": 5,
   "metadata": {},
   "outputs": [
    {
     "name": "stdout",
     "output_type": "stream",
     "text": [
      "GoogleImageScraper Notification: Scraping for image link... Please wait.\n",
      "0. https://www.thesprucepets.com/thmb/_yrib2KGkS4VJSgCQEl59KPUPOU=/1885x1414/smart/filters:no_upscale()/GettyImages-135630198-5ba7d225c9e77c0050cff91b.jpg\n",
      "GoogleImageScraper Skip: Unable to get the link for this photo\n",
      "GoogleImageScraper Skip: Unable to get the link for this photo\n",
      "GoogleImageScraper Notification: Saving Image... Please wait.\n",
      "0 .Image saved at: C:\\Users\\SEC\\OneDrive\\바탕 화면\\2021-K-Digital-Training-main\\Web_Crawling.\\images\\raccoon0.jpg\n",
      "GoogleImageScraper Notification: Download Completed.\n"
     ]
    }
   ],
   "source": [
    "#image_path = os.getcwd()+\"\\\\photos\"\n",
    "#add new search key into array [\"cat\",\"t-shirt\",\"apple\",\"orange\",\"pear\",\"fish\"]\n",
    "#search_keys= [\"woodpecker\",\"owl\"]\n",
    "search_keys= [\"raccoon\"]\n",
    "number_of_images = 10\n",
    "headless = False\n",
    "#min_resolution = (width,height)\n",
    "min_resolution=(0,0)\n",
    "#max_resolution = (width,height)\n",
    "max_resolution=(2000,2000)\n",
    "for search_key in search_keys:\n",
    "    image_scrapper = GoogleImageScraper(webdriver_path,image_path,search_key,number_of_images,headless,min_resolution,max_resolution)\n",
    "    image_urls = image_scrapper.find_image_urls()\n",
    "    image_scrapper.save_images(image_urls)\n",
    "    time.sleep(sleep_between_interactions)"
   ]
  },
  {
   "cell_type": "code",
   "execution_count": 7,
   "metadata": {},
   "outputs": [
    {
     "name": "stdout",
     "output_type": "stream",
     "text": [
      "GoogleImageScraper Notification: Scraping for image link... Please wait.\n",
      "0. https://cdn.britannica.com/40/75640-050-F894DD85/tiger-Siberian.jpg\n",
      "GoogleImageScraper Skip: Unable to get the link for this photo\n",
      "GoogleImageScraper Skip: Unable to get the link for this photo\n",
      "GoogleImageScraper Skip: Unable to get the link for this photo\n",
      "GoogleImageScraper Skip: Unable to get the link for this photo\n",
      "GoogleImageScraper Skip: Unable to get the link for this photo\n",
      "GoogleImageScraper Skip: Unable to get the link for this photo\n",
      "1. https://cdn.mos.cms.futurecdn.net/YB6aQqKZBVjtt3PuDSkJKe.jpg\n",
      "2. https://images.newscientist.com/wp-content/uploads/2020/07/28154040/29-july_world-tiger-day.jpg\n",
      "3. https://c.files.bbci.co.uk/16F83/production/_118738049_gettyimages-829003942.jpg\n",
      "4. https://static.scientificamerican.com/sciam/cache/file/5C51E427-1715-44E6-9B14D9487D7B7F2D_source.jpg\n",
      "5. https://images.saymedia-content.com/.image/ar_1:1%2Cc_fill%2Ccs_srgb%2Cq_auto:eco%2Cw_1200/MTc0NTEwNDc0MzI5NTk3ODk3/the-big-cat-series-tigers-of-the-world.png\n",
      "GoogleImageScraper Notification: Saving Image... Please wait.\n",
      "0 .Image saved at: C:\\Users\\SEC\\OneDrive\\바탕 화면\\2021-K-Digital-Training-main\\Web_Crawling.\\images\\tiger0.jpg\n",
      "1 .Image saved at: C:\\Users\\SEC\\OneDrive\\바탕 화면\\2021-K-Digital-Training-main\\Web_Crawling.\\images\\tiger1.jpg\n",
      "2 .Image saved at: C:\\Users\\SEC\\OneDrive\\바탕 화면\\2021-K-Digital-Training-main\\Web_Crawling.\\images\\tiger2.jpg\n",
      "3 .Image saved at: C:\\Users\\SEC\\OneDrive\\바탕 화면\\2021-K-Digital-Training-main\\Web_Crawling.\\images\\tiger3.jpg\n",
      "4 .Image saved at: C:\\Users\\SEC\\OneDrive\\바탕 화면\\2021-K-Digital-Training-main\\Web_Crawling.\\images\\tiger4.jpg\n",
      "5 .Image saved at: C:\\Users\\SEC\\OneDrive\\바탕 화면\\2021-K-Digital-Training-main\\Web_Crawling.\\images\\tiger5.jpg\n",
      "GoogleImageScraper Notification: Download Completed.\n"
     ]
    }
   ],
   "source": [
    "#image_path = os.getcwd()+\"\\\\photos\"\n",
    "#add new search key into array [\"cat\",\"t-shirt\",\"apple\",\"orange\",\"pear\",\"fish\"]\n",
    "#search_keys= [\"woodpecker\",\"owl\"]\n",
    "search_keys= [\"tiger\"]\n",
    "number_of_images = 15\n",
    "headless = False\n",
    "#min_resolution = (width,height)\n",
    "min_resolution=(0,0)\n",
    "#max_resolution = (width,height)\n",
    "max_resolution=(2000,2000)\n",
    "for search_key in search_keys:\n",
    "    image_scrapper = GoogleImageScraper(webdriver_path,image_path,search_key,number_of_images,headless,min_resolution,max_resolution)\n",
    "    image_urls = image_scrapper.find_image_urls()\n",
    "    image_scrapper.save_images(image_urls)\n",
    "    time.sleep(sleep_between_interactions)"
   ]
  },
  {
   "cell_type": "code",
   "execution_count": 9,
   "metadata": {},
   "outputs": [
    {
     "name": "stdout",
     "output_type": "stream",
     "text": [
      "GoogleImageScraper Notification: Scraping for image link... Please wait.\n",
      "0. https://www.maangchi.com/wp-content/uploads/2018/02/roasted-chicken-1.jpg\n",
      "1. https://www.simplyrecipes.com/thmb/WFAZWL7N-orBG_wnB52Zun4xxhk=/3111x3111/smart/filters:no_upscale()/Simply-Recipes-Grilled-BBQ-Chicken-LEAD-10-03fd9892eaae4ce1a8a3f4c949657cfd.jpg\n",
      "2. https://upload.wikimedia.org/wikipedia/commons/5/57/Chickens_in_market.jpg\n",
      "3. https://www.onceuponachef.com/images/2020/05/best-grilled-chicken-760x1050.jpg\n",
      "4. https://dinnerthendessert.com/wp-content/uploads/2017/09/Korean-Fried-Chicken.jpg\n",
      "GoogleImageScraper Skip: Unable to get the link for this photo\n",
      "5. https://www.koreanbapsang.com/wp-content/uploads/2014/03/DSC5357_01-3.jpg\n",
      "GoogleImageScraper Skip: Unable to get the link for this photo\n",
      "GoogleImageScraper Notification: Saving Image... Please wait.\n",
      "0 .Image saved at: C:\\Users\\SEC\\OneDrive\\바탕 화면\\2021-K-Digital-Training-main\\Web_Crawling.\\images\\chicken0.jpg\n",
      "1 .Image saved at: C:\\Users\\SEC\\OneDrive\\바탕 화면\\2021-K-Digital-Training-main\\Web_Crawling.\\images\\chicken1.jpg\n",
      "2 .Image saved at: C:\\Users\\SEC\\OneDrive\\바탕 화면\\2021-K-Digital-Training-main\\Web_Crawling.\\images\\chicken2.jpg\n",
      "3 .Image saved at: C:\\Users\\SEC\\OneDrive\\바탕 화면\\2021-K-Digital-Training-main\\Web_Crawling.\\images\\chicken3.jpg\n",
      "4 .Image saved at: C:\\Users\\SEC\\OneDrive\\바탕 화면\\2021-K-Digital-Training-main\\Web_Crawling.\\images\\chicken4.jpg\n",
      "5 .Image saved at: C:\\Users\\SEC\\OneDrive\\바탕 화면\\2021-K-Digital-Training-main\\Web_Crawling.\\images\\chicken5.jpg\n",
      "GoogleImageScraper Notification: Download Completed.\n"
     ]
    }
   ],
   "source": [
    "#image_path = os.getcwd()+\"\\\\photos\"\n",
    "#add new search key into array [\"cat\",\"t-shirt\",\"apple\",\"orange\",\"pear\",\"fish\"]\n",
    "#search_keys= [\"woodpecker\",\"owl\"]\n",
    "search_keys= [\"chicken\"]\n",
    "number_of_images = 10\n",
    "headless = False\n",
    "#min_resolution = (width,height)\n",
    "min_resolution=(0,0)\n",
    "#max_resolution = (width,height)\n",
    "max_resolution=(2000,2000)\n",
    "for search_key in search_keys:\n",
    "    image_scrapper = GoogleImageScraper(webdriver_path,image_path,search_key,number_of_images,headless,min_resolution,max_resolution)\n",
    "    image_urls = image_scrapper.find_image_urls()\n",
    "    image_scrapper.save_images(image_urls)\n",
    "    time.sleep(sleep_between_interactions)"
   ]
  },
  {
   "cell_type": "code",
   "execution_count": 10,
   "metadata": {},
   "outputs": [
    {
     "name": "stdout",
     "output_type": "stream",
     "text": [
      "GoogleImageScraper Notification: Scraping for image link... Please wait.\n",
      "0. https://www.maangchi.com/wp-content/uploads/2018/02/roasted-chicken-1.jpg\n",
      "1. https://www.simplyrecipes.com/thmb/WFAZWL7N-orBG_wnB52Zun4xxhk=/3111x3111/smart/filters:no_upscale()/Simply-Recipes-Grilled-BBQ-Chicken-LEAD-10-03fd9892eaae4ce1a8a3f4c949657cfd.jpg\n",
      "GoogleImageScraper Notification: Saving Image... Please wait.\n",
      "0 .Image saved at: C:\\Users\\SEC\\OneDrive\\바탕 화면\\2021-K-Digital-Training-main\\Web_Crawling.\\images\\chicken0.jpg\n",
      "1 .Image saved at: C:\\Users\\SEC\\OneDrive\\바탕 화면\\2021-K-Digital-Training-main\\Web_Crawling.\\images\\chicken1.jpg\n",
      "GoogleImageScraper Notification: Download Completed.\n"
     ]
    }
   ],
   "source": [
    "#image_path = os.getcwd()+\"\\\\photos\"\n",
    "#add new search key into array [\"cat\",\"t-shirt\",\"apple\",\"orange\",\"pear\",\"fish\"]\n",
    "#search_keys= [\"woodpecker\",\"owl\"]\n",
    "search_keys= [\"chicken\"]\n",
    "number_of_images = 3\n",
    "headless = False\n",
    "#min_resolution = (width,height)\n",
    "min_resolution=(0,0)\n",
    "#max_resolution = (width,height)\n",
    "max_resolution=(3000,2000)\n",
    "for search_key in search_keys:\n",
    "    image_scrapper = GoogleImageScraper(webdriver_path,image_path,search_key,number_of_images,headless,min_resolution,max_resolution)\n",
    "    image_urls = image_scrapper.find_image_urls()\n",
    "    image_scrapper.save_images(image_urls)\n",
    "    time.sleep(sleep_between_interactions)"
   ]
  },
  {
   "cell_type": "code",
   "execution_count": null,
   "metadata": {},
   "outputs": [],
   "source": []
  }
 ],
 "metadata": {
  "kernelspec": {
   "display_name": "Python 3",
   "language": "python",
   "name": "python3"
  },
  "language_info": {
   "codemirror_mode": {
    "name": "ipython",
    "version": 3
   },
   "file_extension": ".py",
   "mimetype": "text/x-python",
   "name": "python",
   "nbconvert_exporter": "python",
   "pygments_lexer": "ipython3",
   "version": "3.8.8"
  }
 },
 "nbformat": 4,
 "nbformat_minor": 4
}
