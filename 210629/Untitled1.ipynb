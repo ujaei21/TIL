{
 "cells": [
  {
   "cell_type": "code",
   "execution_count": 1,
   "id": "498c5177-fc80-4d51-b2ac-7904724dceed",
   "metadata": {},
   "outputs": [],
   "source": [
    "from selenium import webdriver as wd\n",
    "from bs4 import BeautifulSoup as bs\n",
    "from selenium.webdriver.common.by import By\n",
    "# 명시적 대기를 위해 \n",
    "from selenium.webdriver.support.ui import WebDriverWait\n",
    "from selenium.webdriver.support import expected_conditions as EC\n",
    "\n",
    "import time\n"
   ]
  },
  {
   "cell_type": "code",
   "execution_count": 35,
   "id": "d37748af-117e-4fc3-8152-1588e20aa4a5",
   "metadata": {},
   "outputs": [],
   "source": [
    "# 사전에 필요한 정보를 로드 => 디비혹스 쉘, 베치 파일에서 인자로 받아서 세팅\n",
    "\n",
    "main_url = 'http://www.naver.com/' \n",
    "keyword  = '한화에어로스페이스'\n",
    "# 상품 정보를 담는 리스트 (TourInfo 리스트)\n",
    "tour_list = []"
   ]
  },
  {
   "cell_type": "code",
   "execution_count": 31,
   "id": "d142f729-eb48-4445-9d03-2e2f2459dfa9",
   "metadata": {},
   "outputs": [
    {
     "name": "stderr",
     "output_type": "stream",
     "text": [
      "<ipython-input-31-1b1fca78e40d>:1: DeprecationWarning: executable_path has been deprecated, please pass in a Service object\n",
      "  driver = wd.Chrome(executable_path='.\\\\webdriver\\\\chromedriver.exe')\n"
     ]
    }
   ],
   "source": [
    "driver = wd.Chrome(executable_path='.\\\\webdriver\\\\chromedriver.exe')"
   ]
  },
  {
   "cell_type": "code",
   "execution_count": 36,
   "id": "6ea81f32-4ed1-4c50-8160-c561de24243b",
   "metadata": {},
   "outputs": [],
   "source": [
    "driver.get(main_url)"
   ]
  },
  {
   "cell_type": "code",
   "execution_count": 37,
   "id": "62d2ba46-5e5b-40c2-988f-f3ba6479a2cd",
   "metadata": {},
   "outputs": [],
   "source": [
    "driver.find_element_by_id('query').send_keys(keyword)"
   ]
  },
  {
   "cell_type": "code",
   "execution_count": 38,
   "id": "c2cc0a20-fb9c-4130-9d5a-3d5809e5bd14",
   "metadata": {},
   "outputs": [],
   "source": [
    "driver.find_element_by_id('search_btn').click()"
   ]
  },
  {
   "cell_type": "code",
   "execution_count": 28,
   "id": "f755fbcb-47df-4519-8edc-4a8331d0e17f",
   "metadata": {},
   "outputs": [],
   "source": [
    "time.sleep(5)"
   ]
  },
  {
   "cell_type": "code",
   "execution_count": 39,
   "id": "ea5c6e2c-35ae-40d2-aa0a-10aac5b26de0",
   "metadata": {},
   "outputs": [],
   "source": [
    "driver.close()"
   ]
  },
  {
   "cell_type": "code",
   "execution_count": null,
   "id": "fab570d4-18bd-467f-b456-cc2a603b8e03",
   "metadata": {},
   "outputs": [],
   "source": []
  }
 ],
 "metadata": {
  "kernelspec": {
   "display_name": "Python 3",
   "language": "python",
   "name": "python3"
  },
  "language_info": {
   "codemirror_mode": {
    "name": "ipython",
    "version": 3
   },
   "file_extension": ".py",
   "mimetype": "text/x-python",
   "name": "python",
   "nbconvert_exporter": "python",
   "pygments_lexer": "ipython3",
   "version": "3.8.8"
  }
 },
 "nbformat": 4,
 "nbformat_minor": 5
}
