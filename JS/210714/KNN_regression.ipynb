{
  "nbformat": 4,
  "nbformat_minor": 0,
  "metadata": {
    "colab": {
      "name": "KNN_regression.ipynb",
      "private_outputs": true,
      "provenance": []
    },
    "kernelspec": {
      "name": "python3",
      "display_name": "Python 3"
    },
    "language_info": {
      "name": "python"
    }
  },
  "cells": [
    {
      "cell_type": "code",
      "metadata": {
        "id": "lQIa6ToRxcYr"
      },
      "source": [
        "from sklearn.neighbors import KNeighborsRegressor\n",
        "from sklearn.model_selection import train_test_split\n",
        "from sklearn.preprocessing import MinMaxScaler\n",
        "import pandas as pd \n",
        "\n",
        "data=pd.read_csv('/content/drive/MyDrive/DataSet.csv')"
      ],
      "execution_count": null,
      "outputs": []
    },
    {
      "cell_type": "code",
      "metadata": {
        "id": "gzZAhRfOXiri"
      },
      "source": [
        "x = data.drop(['Station code','Date','PM10'],axis=1)\n",
        "\n",
        "y = data[['PM10']]\n",
        "\n",
        "x_train, x_test, y_train, y_test = train_test_split(x, y, train_size=0.8, test_size=0.2)"
      ],
      "execution_count": null,
      "outputs": []
    },
    {
      "cell_type": "code",
      "metadata": {
        "id": "vrU-PDWVXf-s"
      },
      "source": [
        "regressor = KNeighborsRegressor(n_neighbors = 3, weights = \"distance\")"
      ],
      "execution_count": null,
      "outputs": []
    },
    {
      "cell_type": "code",
      "metadata": {
        "id": "oe9VdtWZdMjA"
      },
      "source": [
        "regressor.fit(x_train,y_train)"
      ],
      "execution_count": null,
      "outputs": []
    },
    {
      "cell_type": "code",
      "metadata": {
        "id": "71JT8uKce4ks"
      },
      "source": [
        "x = regressor.predict(x_test)"
      ],
      "execution_count": null,
      "outputs": []
    },
    {
      "cell_type": "code",
      "metadata": {
        "id": "E368FadAfd6S"
      },
      "source": [
        "regressor.score(x_test,y_test)"
      ],
      "execution_count": null,
      "outputs": []
    },
    {
      "cell_type": "markdown",
      "metadata": {
        "id": "f3BXttrdhPq5"
      },
      "source": [
        "## 기상환경만으로 미세먼지 예측하기\n"
      ]
    },
    {
      "cell_type": "code",
      "metadata": {
        "id": "aI0lN5uIgNIc"
      },
      "source": [
        "x = data[['Temp', 'Prec', 'WS', 'Humi', 'Pres', 'cbwd']]\n",
        "\n",
        "y = data[['PM10']]\n",
        "\n",
        "x_train, x_test, y_train, y_test = train_test_split(x, y, train_size=0.8, test_size=0.2)"
      ],
      "execution_count": null,
      "outputs": []
    },
    {
      "cell_type": "code",
      "metadata": {
        "id": "LU5HM92Bgpw6"
      },
      "source": [
        "regressor = KNeighborsRegressor(n_neighbors = 5, weights = \"distance\")"
      ],
      "execution_count": null,
      "outputs": []
    },
    {
      "cell_type": "code",
      "metadata": {
        "id": "7tB0wRFegsEq"
      },
      "source": [
        "regressor.fit(x_train,y_train)"
      ],
      "execution_count": null,
      "outputs": []
    },
    {
      "cell_type": "code",
      "metadata": {
        "id": "knx3Ssz9jFLI"
      },
      "source": [
        "scores=[]\n",
        "for k in range(1,26):\n",
        "    regressor = KNeighborsRegressor(n_neighbors = k, weights = \"distance\")\n",
        "    regressor.fit(x_train,y_train)\n",
        "    score=regressor.score(x_test,y_test)\n",
        "    print('k가 {0:2d} 일때 score는 {1:.3f} '.format(k,score))\n",
        "    scores.append(score)\n",
        "scores=pd.DataFrame(scores)\n",
        "scores.plot()"
      ],
      "execution_count": null,
      "outputs": []
    },
    {
      "cell_type": "markdown",
      "metadata": {
        "id": "YLFqk3Dkifft"
      },
      "source": [
        "## PM2.5 예측\n"
      ]
    },
    {
      "cell_type": "code",
      "metadata": {
        "id": "B6tGWZAGgx5L"
      },
      "source": [
        "x = data[['Temp', 'Prec', 'WS', 'Humi', 'Pres', 'cbwd']]\n",
        "\n",
        "y = data[['PM25']]\n",
        "\n",
        "x_train, x_test, y_train, y_test = train_test_split(x, y, train_size=0.8, test_size=0.2)"
      ],
      "execution_count": null,
      "outputs": []
    },
    {
      "cell_type": "code",
      "metadata": {
        "id": "3V0ShbBdimyH"
      },
      "source": [
        "regressor = KNeighborsRegressor(n_neighbors = 5, weights = \"distance\")"
      ],
      "execution_count": null,
      "outputs": []
    },
    {
      "cell_type": "code",
      "metadata": {
        "id": "374U9UZFio7L"
      },
      "source": [
        "regressor.fit(x_train,y_train)"
      ],
      "execution_count": null,
      "outputs": []
    },
    {
      "cell_type": "code",
      "metadata": {
        "id": "vgHwe35hixk7"
      },
      "source": [
        "scores=[]\n",
        "for k in range(1,26):\n",
        "    regressor = KNeighborsRegressor(n_neighbors = k, weights = \"distance\")\n",
        "    regressor.fit(x_train,y_train)\n",
        "    score=regressor.score(x_test,y_test)\n",
        "    print('k가 {0:2d} 일때 score는 {1:.3f} '.format(k,score))\n",
        "    scores.append(score)\n",
        "scores=pd.DataFrame({'score':scores})\n",
        "scores.plot()"
      ],
      "execution_count": null,
      "outputs": []
    },
    {
      "cell_type": "code",
      "metadata": {
        "id": "J17FFFqUnY9U"
      },
      "source": [
        ""
      ],
      "execution_count": null,
      "outputs": []
    },
    {
      "cell_type": "markdown",
      "metadata": {
        "id": "wMq9k26ttGU_"
      },
      "source": [
        "## MinMaxScaler\n",
        "- PM10"
      ]
    },
    {
      "cell_type": "code",
      "metadata": {
        "id": "-WvKoBT7tJyZ"
      },
      "source": [
        "x = data[['Temp', 'Prec', 'WS', 'Humi', 'Pres', 'cbwd']]\n",
        "trans = MinMaxScaler()\n",
        "X = trans.fit_transform(x)\n",
        "\n",
        "y = data[['PM10']]\n",
        "\n",
        "x_train, x_test, y_train, y_test = train_test_split(X, y, train_size=0.8, test_size=0.2)"
      ],
      "execution_count": null,
      "outputs": []
    },
    {
      "cell_type": "code",
      "metadata": {
        "id": "AvkEg-NUtUMB"
      },
      "source": [
        "regressor = KNeighborsRegressor(n_neighbors = 5, weights = \"distance\")"
      ],
      "execution_count": null,
      "outputs": []
    },
    {
      "cell_type": "code",
      "metadata": {
        "id": "iJ2BAKfWtiG3"
      },
      "source": [
        "regressor.fit(x_test,y_test)"
      ],
      "execution_count": null,
      "outputs": []
    },
    {
      "cell_type": "code",
      "metadata": {
        "id": "1rdqYssOtU2s"
      },
      "source": [
        "regressor.score(x_test,y_test)"
      ],
      "execution_count": null,
      "outputs": []
    },
    {
      "cell_type": "code",
      "metadata": {
        "id": "fEgYoP7HtfEE"
      },
      "source": [
        "scores=[]\n",
        "for k in range(1,26):\n",
        "    regressor = KNeighborsRegressor(n_neighbors = k, weights = \"distance\")\n",
        "    regressor.fit(x_train,y_train)\n",
        "    score=regressor.score(x_test,y_test)\n",
        "    print('k가 {0:2d} 일때 score는 {1:.3f} '.format(k,score))\n",
        "    scores.append(score)\n",
        "scores=pd.DataFrame({'score':scores})\n",
        "scores.plot()"
      ],
      "execution_count": null,
      "outputs": []
    },
    {
      "cell_type": "markdown",
      "metadata": {
        "id": "q_uqc-8Rt5nr"
      },
      "source": [
        "- PM2.5\n"
      ]
    },
    {
      "cell_type": "code",
      "metadata": {
        "id": "y1keo6h-tpEf"
      },
      "source": [
        "x = data[['Temp', 'Prec', 'WS', 'Humi', 'Pres', 'cbwd']]\n",
        "trans = MinMaxScaler()\n",
        "X = trans.fit_transform(x)\n",
        "\n",
        "y = data[['PM25']]\n",
        "\n",
        "x_train, x_test, y_train, y_test = train_test_split(X, y, train_size=0.8, test_size=0.2)"
      ],
      "execution_count": null,
      "outputs": []
    },
    {
      "cell_type": "code",
      "metadata": {
        "id": "f_tJYWrOuB0S"
      },
      "source": [
        "regressor = KNeighborsRegressor(n_neighbors = 5, weights = \"distance\")"
      ],
      "execution_count": null,
      "outputs": []
    },
    {
      "cell_type": "code",
      "metadata": {
        "id": "mRWFnSJBuH-F"
      },
      "source": [
        "regressor.fit(x_test,y_test)"
      ],
      "execution_count": null,
      "outputs": []
    },
    {
      "cell_type": "code",
      "metadata": {
        "id": "YSxo7XfguJA0"
      },
      "source": [
        "regressor.score(x_test,y_test)"
      ],
      "execution_count": null,
      "outputs": []
    },
    {
      "cell_type": "code",
      "metadata": {
        "id": "G1SJIJLQuSfP"
      },
      "source": [
        "scores=[]\n",
        "for k in range(1,26):\n",
        "    regressor = KNeighborsRegressor(n_neighbors = k, weights = \"distance\")\n",
        "    regressor.fit(x_train,y_train)\n",
        "    score=regressor.score(x_test,y_test)\n",
        "    print('k가 {0:2d} 일때 score는 {1:.3f} '.format(k,score))\n",
        "    scores.append(score)\n",
        "scores=pd.DataFrame({'score':scores})\n",
        "scores.plot()"
      ],
      "execution_count": null,
      "outputs": []
    },
    {
      "cell_type": "code",
      "metadata": {
        "id": "8z4Wu0wGuUt8"
      },
      "source": [
        ""
      ],
      "execution_count": null,
      "outputs": []
    }
  ]
}