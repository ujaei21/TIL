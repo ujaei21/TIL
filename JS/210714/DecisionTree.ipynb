{
  "nbformat": 4,
  "nbformat_minor": 0,
  "metadata": {
    "colab": {
      "name": "DecisionTree.ipynb",
      "private_outputs": true,
      "provenance": [],
      "collapsed_sections": []
    },
    "kernelspec": {
      "name": "python3",
      "display_name": "Python 3"
    },
    "language_info": {
      "name": "python"
    }
  },
  "cells": [
    {
      "cell_type": "code",
      "metadata": {
        "id": "bsf7zlEA1CiZ"
      },
      "source": [
        "import pandas as pd\n",
        "from sklearn.model_selection import train_test_split\n",
        "from sklearn.tree import DecisionTreeRegressor\n",
        "from sklearn.preprocessing import MinMaxScaler\n",
        "from sklearn.metrics import mean_squared_error, r2_score"
      ],
      "execution_count": null,
      "outputs": []
    },
    {
      "cell_type": "code",
      "metadata": {
        "id": "D6ERAda_1CVK"
      },
      "source": [
        "data=pd.read_csv('/content/drive/MyDrive/DataSet.csv')"
      ],
      "execution_count": null,
      "outputs": []
    },
    {
      "cell_type": "markdown",
      "metadata": {
        "id": "MPZIKn393lIt"
      },
      "source": [
        "## PM10"
      ]
    },
    {
      "cell_type": "code",
      "metadata": {
        "id": "NlAYFRkOwDlD"
      },
      "source": [
        "x = data[['Temp', 'Prec', 'WS', 'Humi', 'Pres', 'cbwd']]\n",
        "\n",
        "y = data[['PM10']]\n",
        "\n",
        "x_train, x_test, y_train, y_test = train_test_split(x, y, train_size=0.8, test_size=0.2)"
      ],
      "execution_count": null,
      "outputs": []
    },
    {
      "cell_type": "code",
      "metadata": {
        "id": "kcHg9xBEwJ40"
      },
      "source": [
        "estimator = DecisionTreeRegressor(max_depth=5)"
      ],
      "execution_count": null,
      "outputs": []
    },
    {
      "cell_type": "code",
      "metadata": {
        "id": "frPZNLV7yEyv"
      },
      "source": [
        "estimator.fit(x_train,y_train)"
      ],
      "execution_count": null,
      "outputs": []
    },
    {
      "cell_type": "code",
      "metadata": {
        "id": "t5Jlnj1z0Gbk"
      },
      "source": [
        "y_pred=estimator.predict(x_test)"
      ],
      "execution_count": null,
      "outputs": []
    },
    {
      "cell_type": "code",
      "metadata": {
        "id": "NTYzEL7U0TSG"
      },
      "source": [
        "mse= mean_squared_error(y_test,y_pred)\n",
        "r2 = r2_score(y_test,y_pred)\n",
        "print('MSE : ',mse)\n",
        "print('R2 Score : ', r2)"
      ],
      "execution_count": null,
      "outputs": []
    },
    {
      "cell_type": "code",
      "metadata": {
        "id": "t1R8-NmH05ns"
      },
      "source": [
        "scores=[]\n",
        "for depth in range(1,25):\n",
        "    estimator = DecisionTreeRegressor(max_depth=depth)\n",
        "    estimator.fit(x_train,y_train)\n",
        "    y_pred=estimator.predict(x_test)\n",
        "    r2 = r2_score(y_test,y_pred)\n",
        "    print('depth = {0:2d} R2 Score : {1:.3f}'.format(depth, r2))\n",
        "    scores.append(r2)\n",
        "scores=pd.DataFrame({'score':scores})\n",
        "scores.plot()"
      ],
      "execution_count": null,
      "outputs": []
    },
    {
      "cell_type": "markdown",
      "metadata": {
        "id": "UxE2JSUB3hgI"
      },
      "source": [
        "## PM2.5 "
      ]
    },
    {
      "cell_type": "code",
      "metadata": {
        "id": "-ZonHYoyujeC"
      },
      "source": [
        "x = data[['Temp', 'Prec', 'WS', 'Humi', 'Pres', 'cbwd']]\n",
        "\n",
        "y = data[['PM25']]\n",
        "\n",
        "x_train, x_test, y_train, y_test = train_test_split(x, y, train_size=0.8, test_size=0.2)"
      ],
      "execution_count": null,
      "outputs": []
    },
    {
      "cell_type": "code",
      "metadata": {
        "id": "ZUCyA4Qy3H5X"
      },
      "source": [
        "estimator = DecisionTreeRegressor(max_depth=5)\n",
        "estimator.fit(x_train,y_train)"
      ],
      "execution_count": null,
      "outputs": []
    },
    {
      "cell_type": "code",
      "metadata": {
        "id": "Ccv7krQl3NZl"
      },
      "source": [
        "scores=[]\n",
        "for depth in range(1,25):\n",
        "    estimator = DecisionTreeRegressor(max_depth=depth)\n",
        "    estimator.fit(x_train,y_train)\n",
        "    y_pred=estimator.predict(x_test)\n",
        "    r2 = r2_score(y_test,y_pred)\n",
        "    print('depth = {0:2d} R2 Score : {1:.3f}'.format(depth, r2))\n",
        "    scores.append(r2)\n",
        "scores=pd.DataFrame({'score':scores})\n",
        "scores.plot()"
      ],
      "execution_count": null,
      "outputs": []
    },
    {
      "cell_type": "markdown",
      "metadata": {
        "id": "uKiJ_Oa-3n3d"
      },
      "source": [
        "# MimMaxScaler - PM10"
      ]
    },
    {
      "cell_type": "code",
      "metadata": {
        "id": "s69f5g-_3Ux1"
      },
      "source": [
        "x = data[['Temp', 'Prec', 'WS', 'Humi', 'Pres', 'cbwd']]\n",
        "trans=MinMaxScaler()\n",
        "X=trans.fit_transform(x)\n",
        "y = data['PM10']\n",
        "\n",
        "x_train, x_test, y_train, y_test = train_test_split(X, y, train_size=0.8, test_size=0.2)"
      ],
      "execution_count": null,
      "outputs": []
    },
    {
      "cell_type": "code",
      "metadata": {
        "id": "bcnTHIDL4HdR"
      },
      "source": [
        "estimator = DecisionTreeRegressor(max_depth=5)\n",
        "estimator.fit(x_train,y_train)"
      ],
      "execution_count": null,
      "outputs": []
    },
    {
      "cell_type": "code",
      "metadata": {
        "id": "DsNGIZMG4MN2"
      },
      "source": [
        "mse= mean_squared_error(y_test,y_pred)\n",
        "r2 = r2_score(y_test,y_pred)\n",
        "print('MSE : ',mse)\n",
        "print('R2 Score : ', r2)"
      ],
      "execution_count": null,
      "outputs": []
    },
    {
      "cell_type": "code",
      "metadata": {
        "id": "xZGY5CkR4QVV"
      },
      "source": [
        "scores=[]\n",
        "for depth in range(1,25):\n",
        "    estimator = DecisionTreeRegressor(max_depth=depth)\n",
        "    estimator.fit(x_train,y_train)\n",
        "    y_pred=estimator.predict(x_test)\n",
        "    r2 = r2_score(y_test,y_pred)\n",
        "    print('depth = {0:2d} R2 Score : {1:.3f}'.format(depth, r2))\n",
        "    scores.append(r2)\n",
        "scores=pd.DataFrame({'score':scores})\n",
        "scores.plot()"
      ],
      "execution_count": null,
      "outputs": []
    },
    {
      "cell_type": "code",
      "metadata": {
        "id": "oHRXTu684V7l"
      },
      "source": [
        "x = data[['Temp', 'Prec', 'WS', 'Humi', 'Pres', 'cbwd']]\n",
        "trans=MinMaxScaler()\n",
        "X=trans.fit_transform(x)\n",
        "y = data['PM25']\n",
        "\n",
        "x_train, x_test, y_train, y_test = train_test_split(X, y, train_size=0.8, test_size=0.2)"
      ],
      "execution_count": null,
      "outputs": []
    },
    {
      "cell_type": "code",
      "metadata": {
        "id": "oFhdFt8e5lIK"
      },
      "source": [
        "estimator = DecisionTreeRegressor(max_depth=5)\n",
        "estimator.fit(x_train,y_train)"
      ],
      "execution_count": null,
      "outputs": []
    },
    {
      "cell_type": "code",
      "metadata": {
        "id": "mRSK4X985n7W"
      },
      "source": [
        "mse= mean_squared_error(y_test,y_pred)\n",
        "r2 = r2_score(y_test,y_pred)\n",
        "print('MSE : ',mse)\n",
        "print('R2 Score : ', r2)"
      ],
      "execution_count": null,
      "outputs": []
    },
    {
      "cell_type": "code",
      "metadata": {
        "id": "6sUifGcG5yuV"
      },
      "source": [
        "scores=[]\n",
        "for depth in range(1,25):\n",
        "    estimator = DecisionTreeRegressor(max_depth=depth)\n",
        "    estimator.fit(x_train,y_train)\n",
        "    y_pred=estimator.predict(x_test)\n",
        "    r2 = r2_score(y_test,y_pred)\n",
        "    print('depth = {0:2d} R2 Score : {1:.3f}'.format(depth, r2))\n",
        "    scores.append(r2)\n",
        "scores=pd.DataFrame({'score':scores})\n",
        "scores.plot()"
      ],
      "execution_count": null,
      "outputs": []
    },
    {
      "cell_type": "code",
      "metadata": {
        "id": "UfMdipYt53I-"
      },
      "source": [
        ""
      ],
      "execution_count": null,
      "outputs": []
    }
  ]
}