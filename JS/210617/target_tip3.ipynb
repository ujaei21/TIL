{
 "cells": [
  {
   "cell_type": "code",
   "execution_count": 1,
   "id": "eb41b2ae-4d50-45d7-9fa4-94e22471ec82",
   "metadata": {},
   "outputs": [],
   "source": [
    "import pandas as pd\n",
    "import pymysql.cursors\n",
    "import numpy as np"
   ]
  },
  {
   "cell_type": "code",
   "execution_count": 2,
   "id": "7a5dec7e-51cb-4661-b49a-58a6e97409bf",
   "metadata": {},
   "outputs": [],
   "source": [
    "# MySQL DB에서 데이터 받아와서 DataFrame에 저장\n",
    "\n",
    "conn = pymysql.connect(host='localhost', user='root', \n",
    "                       password='054867', db='tip', charset='utf8',\n",
    "                       autocommit=True, cursorclass=pymysql.cursors.DictCursor)"
   ]
  },
  {
   "cell_type": "code",
   "execution_count": 3,
   "id": "6ec7221a-2308-4b29-971f-97cad02095c2",
   "metadata": {},
   "outputs": [
    {
     "name": "stdout",
     "output_type": "stream",
     "text": [
      "     total_bill   tip     sex smoker   day    time  size\n",
      "0         16.99  1.01  Female     No   Sun  Dinner     2\n",
      "1         10.34  1.66    Male     No   Sun  Dinner     3\n",
      "2         21.01  3.50    Male     No   Sun  Dinner     3\n",
      "3         23.68  3.31    Male     No   Sun  Dinner     2\n",
      "4         24.59  3.61  Female     No   Sun  Dinner     4\n",
      "..          ...   ...     ...    ...   ...     ...   ...\n",
      "243       18.78  3.00  Female     No  Thur  Dinner     2\n",
      "244       16.99  1.01  Female     No   Sun  Dinner     2\n",
      "245       26.88  3.12    Male     No        Dinner     4\n",
      "246       26.88  3.12    Male     No        Dinner     4\n",
      "247       26.88  3.12    Male     No        Dinner     5\n",
      "\n",
      "[248 rows x 7 columns]\n"
     ]
    }
   ],
   "source": [
    "try:\n",
    "\n",
    "   with conn.cursor() as curs:\n",
    "      sql=\"SELECT * FROM tips;\"\n",
    "      curs.execute(sql)\n",
    "      rs = curs.fetchall()\n",
    "\n",
    "      # DB에서 받아온 값을 DataFrame에 넣음\n",
    "\n",
    "      df = pd.DataFrame(rs)\n",
    "      print(df)\n",
    "\n",
    "finally:\n",
    "\n",
    "   conn.close()"
   ]
  },
  {
   "cell_type": "code",
   "execution_count": 4,
   "id": "a7b9773c-0d82-4a33-abe1-167a43642524",
   "metadata": {},
   "outputs": [],
   "source": [
    "df['tip_rate']=df.tip/df.total_bill*100"
   ]
  },
  {
   "cell_type": "code",
   "execution_count": 7,
   "id": "f38e71f1-3bff-433f-a738-c4c9085b0f73",
   "metadata": {},
   "outputs": [
    {
     "data": {
      "text/html": [
       "<div>\n",
       "<style scoped>\n",
       "    .dataframe tbody tr th:only-of-type {\n",
       "        vertical-align: middle;\n",
       "    }\n",
       "\n",
       "    .dataframe tbody tr th {\n",
       "        vertical-align: top;\n",
       "    }\n",
       "\n",
       "    .dataframe thead th {\n",
       "        text-align: right;\n",
       "    }\n",
       "</style>\n",
       "<table border=\"1\" class=\"dataframe\">\n",
       "  <thead>\n",
       "    <tr style=\"text-align: right;\">\n",
       "      <th></th>\n",
       "      <th>total_bill</th>\n",
       "      <th>tip</th>\n",
       "      <th>sex</th>\n",
       "      <th>smoker</th>\n",
       "      <th>day</th>\n",
       "      <th>time</th>\n",
       "      <th>size</th>\n",
       "      <th>tip_rate</th>\n",
       "    </tr>\n",
       "  </thead>\n",
       "  <tbody>\n",
       "    <tr>\n",
       "      <th>0</th>\n",
       "      <td>16.99</td>\n",
       "      <td>1.01</td>\n",
       "      <td>Female</td>\n",
       "      <td>No</td>\n",
       "      <td>Sun</td>\n",
       "      <td>Dinner</td>\n",
       "      <td>2</td>\n",
       "      <td>5.944673</td>\n",
       "    </tr>\n",
       "    <tr>\n",
       "      <th>1</th>\n",
       "      <td>10.34</td>\n",
       "      <td>1.66</td>\n",
       "      <td>Male</td>\n",
       "      <td>No</td>\n",
       "      <td>Sun</td>\n",
       "      <td>Dinner</td>\n",
       "      <td>3</td>\n",
       "      <td>16.054159</td>\n",
       "    </tr>\n",
       "    <tr>\n",
       "      <th>2</th>\n",
       "      <td>21.01</td>\n",
       "      <td>3.50</td>\n",
       "      <td>Male</td>\n",
       "      <td>No</td>\n",
       "      <td>Sun</td>\n",
       "      <td>Dinner</td>\n",
       "      <td>3</td>\n",
       "      <td>16.658734</td>\n",
       "    </tr>\n",
       "    <tr>\n",
       "      <th>3</th>\n",
       "      <td>23.68</td>\n",
       "      <td>3.31</td>\n",
       "      <td>Male</td>\n",
       "      <td>No</td>\n",
       "      <td>Sun</td>\n",
       "      <td>Dinner</td>\n",
       "      <td>2</td>\n",
       "      <td>13.978041</td>\n",
       "    </tr>\n",
       "    <tr>\n",
       "      <th>4</th>\n",
       "      <td>24.59</td>\n",
       "      <td>3.61</td>\n",
       "      <td>Female</td>\n",
       "      <td>No</td>\n",
       "      <td>Sun</td>\n",
       "      <td>Dinner</td>\n",
       "      <td>4</td>\n",
       "      <td>14.680765</td>\n",
       "    </tr>\n",
       "  </tbody>\n",
       "</table>\n",
       "</div>"
      ],
      "text/plain": [
       "   total_bill   tip     sex smoker  day    time  size   tip_rate\n",
       "0       16.99  1.01  Female     No  Sun  Dinner     2   5.944673\n",
       "1       10.34  1.66    Male     No  Sun  Dinner     3  16.054159\n",
       "2       21.01  3.50    Male     No  Sun  Dinner     3  16.658734\n",
       "3       23.68  3.31    Male     No  Sun  Dinner     2  13.978041\n",
       "4       24.59  3.61  Female     No  Sun  Dinner     4  14.680765"
      ]
     },
     "execution_count": 7,
     "metadata": {},
     "output_type": "execute_result"
    }
   ],
   "source": [
    "df.head()"
   ]
  },
  {
   "cell_type": "code",
   "execution_count": 8,
   "id": "eda90a1b-1c27-432d-8be2-698e1e91dcc3",
   "metadata": {},
   "outputs": [
    {
     "data": {
      "text/html": [
       "<div>\n",
       "<style scoped>\n",
       "    .dataframe tbody tr th:only-of-type {\n",
       "        vertical-align: middle;\n",
       "    }\n",
       "\n",
       "    .dataframe tbody tr th {\n",
       "        vertical-align: top;\n",
       "    }\n",
       "\n",
       "    .dataframe thead th {\n",
       "        text-align: right;\n",
       "    }\n",
       "</style>\n",
       "<table border=\"1\" class=\"dataframe\">\n",
       "  <thead>\n",
       "    <tr style=\"text-align: right;\">\n",
       "      <th></th>\n",
       "      <th>total_bill</th>\n",
       "      <th>tip</th>\n",
       "      <th>sex</th>\n",
       "      <th>smoker</th>\n",
       "      <th>day</th>\n",
       "      <th>time</th>\n",
       "      <th>size</th>\n",
       "      <th>tip_rate</th>\n",
       "    </tr>\n",
       "  </thead>\n",
       "  <tbody>\n",
       "    <tr>\n",
       "      <th>243</th>\n",
       "      <td>18.78</td>\n",
       "      <td>3.00</td>\n",
       "      <td>Female</td>\n",
       "      <td>No</td>\n",
       "      <td>Thur</td>\n",
       "      <td>Dinner</td>\n",
       "      <td>2</td>\n",
       "      <td>15.974441</td>\n",
       "    </tr>\n",
       "    <tr>\n",
       "      <th>244</th>\n",
       "      <td>16.99</td>\n",
       "      <td>1.01</td>\n",
       "      <td>Female</td>\n",
       "      <td>No</td>\n",
       "      <td>Sun</td>\n",
       "      <td>Dinner</td>\n",
       "      <td>2</td>\n",
       "      <td>5.944673</td>\n",
       "    </tr>\n",
       "    <tr>\n",
       "      <th>245</th>\n",
       "      <td>26.88</td>\n",
       "      <td>3.12</td>\n",
       "      <td>Male</td>\n",
       "      <td>No</td>\n",
       "      <td></td>\n",
       "      <td>Dinner</td>\n",
       "      <td>4</td>\n",
       "      <td>11.607143</td>\n",
       "    </tr>\n",
       "    <tr>\n",
       "      <th>246</th>\n",
       "      <td>26.88</td>\n",
       "      <td>3.12</td>\n",
       "      <td>Male</td>\n",
       "      <td>No</td>\n",
       "      <td></td>\n",
       "      <td>Dinner</td>\n",
       "      <td>4</td>\n",
       "      <td>11.607143</td>\n",
       "    </tr>\n",
       "    <tr>\n",
       "      <th>247</th>\n",
       "      <td>26.88</td>\n",
       "      <td>3.12</td>\n",
       "      <td>Male</td>\n",
       "      <td>No</td>\n",
       "      <td></td>\n",
       "      <td>Dinner</td>\n",
       "      <td>5</td>\n",
       "      <td>11.607143</td>\n",
       "    </tr>\n",
       "  </tbody>\n",
       "</table>\n",
       "</div>"
      ],
      "text/plain": [
       "     total_bill   tip     sex smoker   day    time  size   tip_rate\n",
       "243       18.78  3.00  Female     No  Thur  Dinner     2  15.974441\n",
       "244       16.99  1.01  Female     No   Sun  Dinner     2   5.944673\n",
       "245       26.88  3.12    Male     No        Dinner     4  11.607143\n",
       "246       26.88  3.12    Male     No        Dinner     4  11.607143\n",
       "247       26.88  3.12    Male     No        Dinner     5  11.607143"
      ]
     },
     "execution_count": 8,
     "metadata": {},
     "output_type": "execute_result"
    }
   ],
   "source": [
    "df.tail()"
   ]
  },
  {
   "cell_type": "code",
   "execution_count": 10,
   "id": "2a5c8c6a-26ff-4633-85fa-4395faa99a02",
   "metadata": {},
   "outputs": [
    {
     "data": {
      "text/plain": [
       "total_bill    0\n",
       "tip           0\n",
       "sex           0\n",
       "smoker        0\n",
       "day           0\n",
       "time          0\n",
       "size          0\n",
       "tip_rate      0\n",
       "dtype: int64"
      ]
     },
     "execution_count": 10,
     "metadata": {},
     "output_type": "execute_result"
    }
   ],
   "source": [
    "df.isnull().sum()"
   ]
  },
  {
   "cell_type": "code",
   "execution_count": 13,
   "id": "a9b6a33d-08d3-43d5-a6fc-356406c13a38",
   "metadata": {},
   "outputs": [],
   "source": [
    "df.replace('',np.nan,inplace=True)"
   ]
  },
  {
   "cell_type": "code",
   "execution_count": 14,
   "id": "e447c0cb-bf76-45cd-b109-438d22f2ffd4",
   "metadata": {},
   "outputs": [
    {
     "data": {
      "text/plain": [
       "total_bill    0\n",
       "tip           0\n",
       "sex           0\n",
       "smoker        0\n",
       "day           3\n",
       "time          0\n",
       "size          0\n",
       "tip_rate      0\n",
       "dtype: int64"
      ]
     },
     "execution_count": 14,
     "metadata": {},
     "output_type": "execute_result"
    }
   ],
   "source": [
    "df.isnull().sum()"
   ]
  },
  {
   "cell_type": "code",
   "execution_count": 18,
   "id": "8f75a276-07ed-43ce-ae15-de343881265a",
   "metadata": {},
   "outputs": [],
   "source": [
    "df.sex.replace({'Female':0,'Male':1},inplace=True)\n",
    "df.smoker.replace({'No':0,'Yes':1},inplace=True)\n",
    "df.day.replace({'Thur':0,'Fri':1,'Sat':2,'Sun':3},inplace=True)\n",
    "df.time.replace({'Lunch':0,'Dinner':1},inplace=True)"
   ]
  },
  {
   "cell_type": "code",
   "execution_count": 19,
   "id": "cc1d7659-3da3-431b-bd5f-084015e62c22",
   "metadata": {},
   "outputs": [
    {
     "data": {
      "text/html": [
       "<div>\n",
       "<style scoped>\n",
       "    .dataframe tbody tr th:only-of-type {\n",
       "        vertical-align: middle;\n",
       "    }\n",
       "\n",
       "    .dataframe tbody tr th {\n",
       "        vertical-align: top;\n",
       "    }\n",
       "\n",
       "    .dataframe thead th {\n",
       "        text-align: right;\n",
       "    }\n",
       "</style>\n",
       "<table border=\"1\" class=\"dataframe\">\n",
       "  <thead>\n",
       "    <tr style=\"text-align: right;\">\n",
       "      <th></th>\n",
       "      <th>total_bill</th>\n",
       "      <th>tip</th>\n",
       "      <th>sex</th>\n",
       "      <th>smoker</th>\n",
       "      <th>day</th>\n",
       "      <th>time</th>\n",
       "      <th>size</th>\n",
       "      <th>tip_rate</th>\n",
       "    </tr>\n",
       "  </thead>\n",
       "  <tbody>\n",
       "    <tr>\n",
       "      <th>0</th>\n",
       "      <td>16.99</td>\n",
       "      <td>1.01</td>\n",
       "      <td>0</td>\n",
       "      <td>0</td>\n",
       "      <td>3.0</td>\n",
       "      <td>1</td>\n",
       "      <td>2</td>\n",
       "      <td>5.944673</td>\n",
       "    </tr>\n",
       "    <tr>\n",
       "      <th>1</th>\n",
       "      <td>10.34</td>\n",
       "      <td>1.66</td>\n",
       "      <td>1</td>\n",
       "      <td>0</td>\n",
       "      <td>3.0</td>\n",
       "      <td>1</td>\n",
       "      <td>3</td>\n",
       "      <td>16.054159</td>\n",
       "    </tr>\n",
       "    <tr>\n",
       "      <th>2</th>\n",
       "      <td>21.01</td>\n",
       "      <td>3.50</td>\n",
       "      <td>1</td>\n",
       "      <td>0</td>\n",
       "      <td>3.0</td>\n",
       "      <td>1</td>\n",
       "      <td>3</td>\n",
       "      <td>16.658734</td>\n",
       "    </tr>\n",
       "    <tr>\n",
       "      <th>3</th>\n",
       "      <td>23.68</td>\n",
       "      <td>3.31</td>\n",
       "      <td>1</td>\n",
       "      <td>0</td>\n",
       "      <td>3.0</td>\n",
       "      <td>1</td>\n",
       "      <td>2</td>\n",
       "      <td>13.978041</td>\n",
       "    </tr>\n",
       "    <tr>\n",
       "      <th>4</th>\n",
       "      <td>24.59</td>\n",
       "      <td>3.61</td>\n",
       "      <td>0</td>\n",
       "      <td>0</td>\n",
       "      <td>3.0</td>\n",
       "      <td>1</td>\n",
       "      <td>4</td>\n",
       "      <td>14.680765</td>\n",
       "    </tr>\n",
       "  </tbody>\n",
       "</table>\n",
       "</div>"
      ],
      "text/plain": [
       "   total_bill   tip  sex  smoker  day  time  size   tip_rate\n",
       "0       16.99  1.01    0       0  3.0     1     2   5.944673\n",
       "1       10.34  1.66    1       0  3.0     1     3  16.054159\n",
       "2       21.01  3.50    1       0  3.0     1     3  16.658734\n",
       "3       23.68  3.31    1       0  3.0     1     2  13.978041\n",
       "4       24.59  3.61    0       0  3.0     1     4  14.680765"
      ]
     },
     "execution_count": 19,
     "metadata": {},
     "output_type": "execute_result"
    }
   ],
   "source": [
    "df.head()"
   ]
  },
  {
   "cell_type": "code",
   "execution_count": 20,
   "id": "d002f304-292d-4f74-a13b-c5520e532d2c",
   "metadata": {},
   "outputs": [
    {
     "data": {
      "text/plain": [
       "total_bill    0\n",
       "tip           0\n",
       "sex           0\n",
       "smoker        0\n",
       "day           3\n",
       "time          0\n",
       "size          0\n",
       "tip_rate      0\n",
       "dtype: int64"
      ]
     },
     "execution_count": 20,
     "metadata": {},
     "output_type": "execute_result"
    }
   ],
   "source": [
    "df.isnull().sum()"
   ]
  },
  {
   "cell_type": "code",
   "execution_count": 21,
   "id": "16c1fbe2-07a7-40d2-aac1-1a8d8a7d183d",
   "metadata": {},
   "outputs": [
    {
     "data": {
      "text/plain": [
       "pandas.core.frame.DataFrame"
      ]
     },
     "execution_count": 21,
     "metadata": {},
     "output_type": "execute_result"
    }
   ],
   "source": [
    "type(df)"
   ]
  },
  {
   "cell_type": "code",
   "execution_count": 22,
   "id": "345f99fc-8fcc-49ce-b015-20c5d5fc637c",
   "metadata": {},
   "outputs": [],
   "source": [
    "from sklearn.impute import SimpleImputer"
   ]
  },
  {
   "cell_type": "code",
   "execution_count": 23,
   "id": "31efd1a9-e9d5-46e4-88b6-2bf6230b0893",
   "metadata": {},
   "outputs": [],
   "source": [
    "data=df.values"
   ]
  },
  {
   "cell_type": "code",
   "execution_count": 25,
   "id": "a95ab320-7b1f-4a5f-8744-0c462ec44999",
   "metadata": {},
   "outputs": [
    {
     "data": {
      "text/html": [
       "<div>\n",
       "<style scoped>\n",
       "    .dataframe tbody tr th:only-of-type {\n",
       "        vertical-align: middle;\n",
       "    }\n",
       "\n",
       "    .dataframe tbody tr th {\n",
       "        vertical-align: top;\n",
       "    }\n",
       "\n",
       "    .dataframe thead th {\n",
       "        text-align: right;\n",
       "    }\n",
       "</style>\n",
       "<table border=\"1\" class=\"dataframe\">\n",
       "  <thead>\n",
       "    <tr style=\"text-align: right;\">\n",
       "      <th></th>\n",
       "      <th>total_bill</th>\n",
       "      <th>tip</th>\n",
       "      <th>sex</th>\n",
       "      <th>smoker</th>\n",
       "      <th>day</th>\n",
       "      <th>time</th>\n",
       "      <th>size</th>\n",
       "      <th>tip_rate</th>\n",
       "    </tr>\n",
       "  </thead>\n",
       "  <tbody>\n",
       "    <tr>\n",
       "      <th>count</th>\n",
       "      <td>248.000000</td>\n",
       "      <td>248.000000</td>\n",
       "      <td>248.000000</td>\n",
       "      <td>248.000000</td>\n",
       "      <td>245.000000</td>\n",
       "      <td>248.000000</td>\n",
       "      <td>248.000000</td>\n",
       "      <td>248.000000</td>\n",
       "    </tr>\n",
       "    <tr>\n",
       "      <th>mean</th>\n",
       "      <td>19.860484</td>\n",
       "      <td>2.991734</td>\n",
       "      <td>0.645161</td>\n",
       "      <td>0.375000</td>\n",
       "      <td>1.730612</td>\n",
       "      <td>0.725806</td>\n",
       "      <td>2.588710</td>\n",
       "      <td>15.985279</td>\n",
       "    </tr>\n",
       "    <tr>\n",
       "      <th>std</th>\n",
       "      <td>8.866048</td>\n",
       "      <td>1.378257</td>\n",
       "      <td>0.479432</td>\n",
       "      <td>0.485102</td>\n",
       "      <td>1.156274</td>\n",
       "      <td>0.447009</td>\n",
       "      <td>0.965075</td>\n",
       "      <td>6.110974</td>\n",
       "    </tr>\n",
       "    <tr>\n",
       "      <th>min</th>\n",
       "      <td>3.070000</td>\n",
       "      <td>1.000000</td>\n",
       "      <td>0.000000</td>\n",
       "      <td>0.000000</td>\n",
       "      <td>0.000000</td>\n",
       "      <td>0.000000</td>\n",
       "      <td>1.000000</td>\n",
       "      <td>3.563814</td>\n",
       "    </tr>\n",
       "    <tr>\n",
       "      <th>25%</th>\n",
       "      <td>13.385000</td>\n",
       "      <td>2.000000</td>\n",
       "      <td>0.000000</td>\n",
       "      <td>0.000000</td>\n",
       "      <td>0.000000</td>\n",
       "      <td>0.000000</td>\n",
       "      <td>2.000000</td>\n",
       "      <td>12.534046</td>\n",
       "    </tr>\n",
       "    <tr>\n",
       "      <th>50%</th>\n",
       "      <td>17.815000</td>\n",
       "      <td>2.960000</td>\n",
       "      <td>1.000000</td>\n",
       "      <td>0.000000</td>\n",
       "      <td>2.000000</td>\n",
       "      <td>1.000000</td>\n",
       "      <td>2.000000</td>\n",
       "      <td>15.384615</td>\n",
       "    </tr>\n",
       "    <tr>\n",
       "      <th>75%</th>\n",
       "      <td>24.527500</td>\n",
       "      <td>3.520000</td>\n",
       "      <td>1.000000</td>\n",
       "      <td>1.000000</td>\n",
       "      <td>3.000000</td>\n",
       "      <td>1.000000</td>\n",
       "      <td>3.000000</td>\n",
       "      <td>19.065829</td>\n",
       "    </tr>\n",
       "    <tr>\n",
       "      <th>max</th>\n",
       "      <td>50.810000</td>\n",
       "      <td>10.000000</td>\n",
       "      <td>1.000000</td>\n",
       "      <td>1.000000</td>\n",
       "      <td>3.000000</td>\n",
       "      <td>1.000000</td>\n",
       "      <td>6.000000</td>\n",
       "      <td>71.034483</td>\n",
       "    </tr>\n",
       "  </tbody>\n",
       "</table>\n",
       "</div>"
      ],
      "text/plain": [
       "       total_bill         tip         sex      smoker         day        time  \\\n",
       "count  248.000000  248.000000  248.000000  248.000000  245.000000  248.000000   \n",
       "mean    19.860484    2.991734    0.645161    0.375000    1.730612    0.725806   \n",
       "std      8.866048    1.378257    0.479432    0.485102    1.156274    0.447009   \n",
       "min      3.070000    1.000000    0.000000    0.000000    0.000000    0.000000   \n",
       "25%     13.385000    2.000000    0.000000    0.000000    0.000000    0.000000   \n",
       "50%     17.815000    2.960000    1.000000    0.000000    2.000000    1.000000   \n",
       "75%     24.527500    3.520000    1.000000    1.000000    3.000000    1.000000   \n",
       "max     50.810000   10.000000    1.000000    1.000000    3.000000    1.000000   \n",
       "\n",
       "             size    tip_rate  \n",
       "count  248.000000  248.000000  \n",
       "mean     2.588710   15.985279  \n",
       "std      0.965075    6.110974  \n",
       "min      1.000000    3.563814  \n",
       "25%      2.000000   12.534046  \n",
       "50%      2.000000   15.384615  \n",
       "75%      3.000000   19.065829  \n",
       "max      6.000000   71.034483  "
      ]
     },
     "execution_count": 25,
     "metadata": {},
     "output_type": "execute_result"
    }
   ],
   "source": [
    "df.describe()"
   ]
  },
  {
   "cell_type": "code",
   "execution_count": 30,
   "id": "e37fac1c-54c4-4024-83e0-c0133c9099f9",
   "metadata": {},
   "outputs": [
    {
     "data": {
      "text/plain": [
       "array([0, 0, 0, 0, 3, 0, 0, 0])"
      ]
     },
     "execution_count": 30,
     "metadata": {},
     "output_type": "execute_result"
    }
   ],
   "source": [
    "sum(np.isnan(data))"
   ]
  },
  {
   "cell_type": "markdown",
   "id": "5d23ce6d-e1cf-4629-9a95-355fafc90c21",
   "metadata": {},
   "source": [
    "#### flatten은 위의 array를 밑에와 같이 만든다."
   ]
  },
  {
   "cell_type": "code",
   "execution_count": 32,
   "id": "693995d4-30b1-4999-a6a4-742c5be9b470",
   "metadata": {},
   "outputs": [
    {
     "data": {
      "text/plain": [
       "3"
      ]
     },
     "execution_count": 32,
     "metadata": {},
     "output_type": "execute_result"
    }
   ],
   "source": [
    "sum(np.isnan(data).flatten())"
   ]
  },
  {
   "cell_type": "markdown",
   "id": "002d209e-b59c-4533-9c64-9287325b4b27",
   "metadata": {},
   "source": [
    "SimpleImputer(\n",
    "    *,\n",
    "    missing_values=nan,\n",
    "    strategy='mean',\n",
    "    fill_value=None,\n",
    "    verbose=0,\n",
    "    copy=True,\n",
    "    add_indicator=False,\n",
    ")"
   ]
  },
  {
   "cell_type": "code",
   "execution_count": 33,
   "id": "662ac6ff-c031-4d16-a7da-1f3ea4a70808",
   "metadata": {},
   "outputs": [],
   "source": [
    "imputer =SimpleImputer(strategy='median')"
   ]
  },
  {
   "cell_type": "code",
   "execution_count": 34,
   "id": "185ac7b3-18c1-4ee3-825a-5ab95ce08178",
   "metadata": {},
   "outputs": [
    {
     "data": {
      "text/plain": [
       "SimpleImputer(strategy='median')"
      ]
     },
     "execution_count": 34,
     "metadata": {},
     "output_type": "execute_result"
    }
   ],
   "source": [
    "# fit on the dataset\n",
    "imputer.fit(data)"
   ]
  },
  {
   "cell_type": "code",
   "execution_count": 39,
   "id": "db51a9ef-5f37-4d8a-89cc-cd8a9007c9e7",
   "metadata": {},
   "outputs": [],
   "source": [
    "data_trans=imputer.transform(data)"
   ]
  },
  {
   "cell_type": "code",
   "execution_count": 41,
   "id": "99f07c09-c0b3-4f1e-9fe6-a7d73999bd56",
   "metadata": {},
   "outputs": [],
   "source": [
    "df_trans = pd.DataFrame(data_trans)"
   ]
  },
  {
   "cell_type": "code",
   "execution_count": 42,
   "id": "cf523f76-c731-4dcd-b2b6-2f0d28e58955",
   "metadata": {},
   "outputs": [
    {
     "data": {
      "text/plain": [
       "0    0\n",
       "1    0\n",
       "2    0\n",
       "3    0\n",
       "4    0\n",
       "5    0\n",
       "6    0\n",
       "7    0\n",
       "dtype: int64"
      ]
     },
     "execution_count": 42,
     "metadata": {},
     "output_type": "execute_result"
    }
   ],
   "source": [
    "df_trans.isnull().sum()"
   ]
  },
  {
   "cell_type": "code",
   "execution_count": 43,
   "id": "00088c09-40fa-4ac1-bd33-f90e16d01660",
   "metadata": {},
   "outputs": [],
   "source": [
    "from sklearn.preprocessing import StandardScaler"
   ]
  },
  {
   "cell_type": "markdown",
   "id": "ceac416b-009d-49a0-9b47-f39fcec96ae5",
   "metadata": {},
   "source": [
    "StandardScaler\n",
    "(*, copy=True, with_mean=True, with_std=True)"
   ]
  },
  {
   "cell_type": "code",
   "execution_count": 44,
   "id": "4c639134-df51-43dc-a901-1ca38d26bba1",
   "metadata": {},
   "outputs": [],
   "source": [
    "sc=StandardScaler()"
   ]
  },
  {
   "cell_type": "code",
   "execution_count": 46,
   "id": "00ab836a-c703-4de8-9c2a-e403030d75f1",
   "metadata": {},
   "outputs": [],
   "source": [
    "sc_df=sc.fit_transform(data_trans)"
   ]
  },
  {
   "cell_type": "code",
   "execution_count": 47,
   "id": "34034509-5d77-4ab8-9442-af2a4c78526c",
   "metadata": {},
   "outputs": [],
   "source": [
    "df_transform_sc=pd.DataFrame(sc_df)"
   ]
  },
  {
   "cell_type": "code",
   "execution_count": 48,
   "id": "f04c7f8d-3d5f-4749-a8ca-ba25fb6b70f8",
   "metadata": {},
   "outputs": [
    {
     "data": {
      "text/html": [
       "<div>\n",
       "<style scoped>\n",
       "    .dataframe tbody tr th:only-of-type {\n",
       "        vertical-align: middle;\n",
       "    }\n",
       "\n",
       "    .dataframe tbody tr th {\n",
       "        vertical-align: top;\n",
       "    }\n",
       "\n",
       "    .dataframe thead th {\n",
       "        text-align: right;\n",
       "    }\n",
       "</style>\n",
       "<table border=\"1\" class=\"dataframe\">\n",
       "  <thead>\n",
       "    <tr style=\"text-align: right;\">\n",
       "      <th></th>\n",
       "      <th>0</th>\n",
       "      <th>1</th>\n",
       "      <th>2</th>\n",
       "      <th>3</th>\n",
       "      <th>4</th>\n",
       "      <th>5</th>\n",
       "      <th>6</th>\n",
       "      <th>7</th>\n",
       "    </tr>\n",
       "  </thead>\n",
       "  <tbody>\n",
       "    <tr>\n",
       "      <th>0</th>\n",
       "      <td>-0.324416</td>\n",
       "      <td>-1.440762</td>\n",
       "      <td>-1.34840</td>\n",
       "      <td>-0.774597</td>\n",
       "      <td>1.103583</td>\n",
       "      <td>0.614636</td>\n",
       "      <td>-0.611248</td>\n",
       "      <td>-1.646368</td>\n",
       "    </tr>\n",
       "    <tr>\n",
       "      <th>1</th>\n",
       "      <td>-1.075985</td>\n",
       "      <td>-0.968199</td>\n",
       "      <td>0.74162</td>\n",
       "      <td>-0.774597</td>\n",
       "      <td>1.103583</td>\n",
       "      <td>0.614636</td>\n",
       "      <td>0.427036</td>\n",
       "      <td>0.011294</td>\n",
       "    </tr>\n",
       "    <tr>\n",
       "      <th>2</th>\n",
       "      <td>0.129916</td>\n",
       "      <td>0.369520</td>\n",
       "      <td>0.74162</td>\n",
       "      <td>-0.774597</td>\n",
       "      <td>1.103583</td>\n",
       "      <td>0.614636</td>\n",
       "      <td>0.427036</td>\n",
       "      <td>0.110427</td>\n",
       "    </tr>\n",
       "    <tr>\n",
       "      <th>3</th>\n",
       "      <td>0.431674</td>\n",
       "      <td>0.231386</td>\n",
       "      <td>0.74162</td>\n",
       "      <td>-0.774597</td>\n",
       "      <td>1.103583</td>\n",
       "      <td>0.614636</td>\n",
       "      <td>-0.611248</td>\n",
       "      <td>-0.329129</td>\n",
       "    </tr>\n",
       "    <tr>\n",
       "      <th>4</th>\n",
       "      <td>0.534520</td>\n",
       "      <td>0.449493</td>\n",
       "      <td>-1.34840</td>\n",
       "      <td>-0.774597</td>\n",
       "      <td>1.103583</td>\n",
       "      <td>0.614636</td>\n",
       "      <td>1.465320</td>\n",
       "      <td>-0.213902</td>\n",
       "    </tr>\n",
       "    <tr>\n",
       "      <th>...</th>\n",
       "      <td>...</td>\n",
       "      <td>...</td>\n",
       "      <td>...</td>\n",
       "      <td>...</td>\n",
       "      <td>...</td>\n",
       "      <td>...</td>\n",
       "      <td>...</td>\n",
       "      <td>...</td>\n",
       "    </tr>\n",
       "    <tr>\n",
       "      <th>243</th>\n",
       "      <td>-0.122114</td>\n",
       "      <td>0.006010</td>\n",
       "      <td>-1.34840</td>\n",
       "      <td>-0.774597</td>\n",
       "      <td>-1.511277</td>\n",
       "      <td>0.614636</td>\n",
       "      <td>-0.611248</td>\n",
       "      <td>-0.001777</td>\n",
       "    </tr>\n",
       "    <tr>\n",
       "      <th>244</th>\n",
       "      <td>-0.324416</td>\n",
       "      <td>-1.440762</td>\n",
       "      <td>-1.34840</td>\n",
       "      <td>-0.774597</td>\n",
       "      <td>1.103583</td>\n",
       "      <td>0.614636</td>\n",
       "      <td>-0.611248</td>\n",
       "      <td>-1.646368</td>\n",
       "    </tr>\n",
       "    <tr>\n",
       "      <th>245</th>\n",
       "      <td>0.793331</td>\n",
       "      <td>0.093252</td>\n",
       "      <td>0.74162</td>\n",
       "      <td>-0.774597</td>\n",
       "      <td>0.231963</td>\n",
       "      <td>0.614636</td>\n",
       "      <td>1.465320</td>\n",
       "      <td>-0.717887</td>\n",
       "    </tr>\n",
       "    <tr>\n",
       "      <th>246</th>\n",
       "      <td>0.793331</td>\n",
       "      <td>0.093252</td>\n",
       "      <td>0.74162</td>\n",
       "      <td>-0.774597</td>\n",
       "      <td>0.231963</td>\n",
       "      <td>0.614636</td>\n",
       "      <td>1.465320</td>\n",
       "      <td>-0.717887</td>\n",
       "    </tr>\n",
       "    <tr>\n",
       "      <th>247</th>\n",
       "      <td>0.793331</td>\n",
       "      <td>0.093252</td>\n",
       "      <td>0.74162</td>\n",
       "      <td>-0.774597</td>\n",
       "      <td>0.231963</td>\n",
       "      <td>0.614636</td>\n",
       "      <td>2.503605</td>\n",
       "      <td>-0.717887</td>\n",
       "    </tr>\n",
       "  </tbody>\n",
       "</table>\n",
       "<p>248 rows × 8 columns</p>\n",
       "</div>"
      ],
      "text/plain": [
       "            0         1        2         3         4         5         6  \\\n",
       "0   -0.324416 -1.440762 -1.34840 -0.774597  1.103583  0.614636 -0.611248   \n",
       "1   -1.075985 -0.968199  0.74162 -0.774597  1.103583  0.614636  0.427036   \n",
       "2    0.129916  0.369520  0.74162 -0.774597  1.103583  0.614636  0.427036   \n",
       "3    0.431674  0.231386  0.74162 -0.774597  1.103583  0.614636 -0.611248   \n",
       "4    0.534520  0.449493 -1.34840 -0.774597  1.103583  0.614636  1.465320   \n",
       "..        ...       ...      ...       ...       ...       ...       ...   \n",
       "243 -0.122114  0.006010 -1.34840 -0.774597 -1.511277  0.614636 -0.611248   \n",
       "244 -0.324416 -1.440762 -1.34840 -0.774597  1.103583  0.614636 -0.611248   \n",
       "245  0.793331  0.093252  0.74162 -0.774597  0.231963  0.614636  1.465320   \n",
       "246  0.793331  0.093252  0.74162 -0.774597  0.231963  0.614636  1.465320   \n",
       "247  0.793331  0.093252  0.74162 -0.774597  0.231963  0.614636  2.503605   \n",
       "\n",
       "            7  \n",
       "0   -1.646368  \n",
       "1    0.011294  \n",
       "2    0.110427  \n",
       "3   -0.329129  \n",
       "4   -0.213902  \n",
       "..        ...  \n",
       "243 -0.001777  \n",
       "244 -1.646368  \n",
       "245 -0.717887  \n",
       "246 -0.717887  \n",
       "247 -0.717887  \n",
       "\n",
       "[248 rows x 8 columns]"
      ]
     },
     "execution_count": 48,
     "metadata": {},
     "output_type": "execute_result"
    }
   ],
   "source": [
    "df_transform_sc"
   ]
  },
  {
   "cell_type": "code",
   "execution_count": 49,
   "id": "fe737210-c3fe-472c-8cea-aae3f893138d",
   "metadata": {},
   "outputs": [],
   "source": [
    "from sklearn.decomposition import PCA"
   ]
  },
  {
   "cell_type": "code",
   "execution_count": 52,
   "id": "339038e8-91d1-437f-8c0b-42de977ed6c2",
   "metadata": {},
   "outputs": [],
   "source": [
    "trans = PCA(n_components=4)\n",
    "data_dim = trans.fit_transform(df_transform_sc)"
   ]
  },
  {
   "cell_type": "code",
   "execution_count": 53,
   "id": "2c56e4f2-25b3-4da9-8369-a426f00dee47",
   "metadata": {},
   "outputs": [
    {
     "data": {
      "text/plain": [
       "PCA(n_components=4)"
      ]
     },
     "execution_count": 53,
     "metadata": {},
     "output_type": "execute_result"
    }
   ],
   "source": [
    "trans.fit(data_dim)"
   ]
  },
  {
   "cell_type": "code",
   "execution_count": 68,
   "id": "7985937c-0710-4199-b3b1-766e4412cc2e",
   "metadata": {},
   "outputs": [],
   "source": [
    "pca=trans.explained_variance_ratio_"
   ]
  },
  {
   "cell_type": "code",
   "execution_count": 69,
   "id": "af7b7259-bd22-49f5-95de-4097866a357b",
   "metadata": {},
   "outputs": [
    {
     "data": {
      "text/plain": [
       "0.839425664539384"
      ]
     },
     "execution_count": 69,
     "metadata": {},
     "output_type": "execute_result"
    }
   ],
   "source": [
    "sum(pca[:3])"
   ]
  },
  {
   "cell_type": "code",
   "execution_count": null,
   "id": "8b58e1a0-efb8-43d4-b62b-8c5acb619fdc",
   "metadata": {},
   "outputs": [],
   "source": []
  }
 ],
 "metadata": {
  "kernelspec": {
   "display_name": "Python Multi",
   "language": "python",
   "name": "multi"
  },
  "language_info": {
   "codemirror_mode": {
    "name": "ipython",
    "version": 3
   },
   "file_extension": ".py",
   "mimetype": "text/x-python",
   "name": "python",
   "nbconvert_exporter": "python",
   "pygments_lexer": "ipython3",
   "version": "3.7.6"
  }
 },
 "nbformat": 4,
 "nbformat_minor": 5
}
