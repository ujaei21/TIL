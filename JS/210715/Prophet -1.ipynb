{
  "nbformat": 4,
  "nbformat_minor": 0,
  "metadata": {
    "colab": {
      "name": "Prophet.ipynb",
      "private_outputs": true,
      "provenance": []
    },
    "kernelspec": {
      "name": "python3",
      "display_name": "Python 3"
    },
    "language_info": {
      "name": "python"
    }
  },
  "cells": [
    {
      "cell_type": "code",
      "metadata": {
        "id": "w5l8W0VKZNns"
      },
      "source": [
        "from fbprophet import Prophet\n",
        "from sklearn.metrics import mean_absolute_error,mean_squared_error\n",
        "import pandas as pd"
      ],
      "execution_count": null,
      "outputs": []
    },
    {
      "cell_type": "code",
      "metadata": {
        "id": "mXzbahqEaPoH"
      },
      "source": [
        "data=pd.read_csv('/content/drive/MyDrive/DataSet.csv')"
      ],
      "execution_count": null,
      "outputs": []
    },
    {
      "cell_type": "code",
      "metadata": {
        "id": "O5namtS8a4KR"
      },
      "source": [
        "data.head()"
      ],
      "execution_count": null,
      "outputs": []
    },
    {
      "cell_type": "code",
      "metadata": {
        "id": "nHVI7S7vbbwI"
      },
      "source": [
        "PM10=data.groupby('Date').mean()"
      ],
      "execution_count": null,
      "outputs": []
    },
    {
      "cell_type": "code",
      "metadata": {
        "id": "K8AcfVVLblco"
      },
      "source": [
        "PM10.drop(['Station code','SO2','CO','O3','NO2','PM25','Temp','Prec','WS','Humi','Pres','cbwd'],axis=1,inplace=True)"
      ],
      "execution_count": null,
      "outputs": []
    },
    {
      "cell_type": "code",
      "metadata": {
        "id": "9J7sXkh3bqLA"
      },
      "source": [
        "PM10.reset_index(inplace=True)"
      ],
      "execution_count": null,
      "outputs": []
    },
    {
      "cell_type": "code",
      "metadata": {
        "id": "W7sbMw3kcOZT"
      },
      "source": [
        "PM10.columns=['ds','y']"
      ],
      "execution_count": null,
      "outputs": []
    },
    {
      "cell_type": "code",
      "metadata": {
        "id": "zCkp256schGr"
      },
      "source": [
        "prophet = Prophet(seasonality_mode='multiplicative', \n",
        "                  yearly_seasonality=True,\n",
        "                  weekly_seasonality=True, daily_seasonality=True,\n",
        "                  changepoint_prior_scale=0.5)\n",
        "prophet.fit(PM10)"
      ],
      "execution_count": null,
      "outputs": []
    },
    {
      "cell_type": "code",
      "metadata": {
        "id": "QMWquYcic0mh"
      },
      "source": [
        "future_data = prophet.make_future_dataframe(periods=60, freq='d')\n",
        "forecast_data = prophet.predict(future_data)\n",
        "forecast_data[['ds', 'yhat', 'yhat_lower', 'yhat_upper']].tail(5)"
      ],
      "execution_count": null,
      "outputs": []
    },
    {
      "cell_type": "code",
      "metadata": {
        "id": "qDW3lYv8d3_j"
      },
      "source": [
        "tset=pd.read_csv('/content/drive/MyDrive/testset.csv')"
      ],
      "execution_count": null,
      "outputs": []
    },
    {
      "cell_type": "code",
      "metadata": {
        "id": "mt2v3zoOeDi6"
      },
      "source": [
        "y_test=tset.PM10[:60]\n",
        "x_test=forecast_data[['yhat']][-60:]"
      ],
      "execution_count": null,
      "outputs": []
    },
    {
      "cell_type": "code",
      "metadata": {
        "id": "XusPkXq1f-Wk"
      },
      "source": [
        "fig1 = prophet.plot(forecast_data,xlabel='Date',ylabel='PM10')"
      ],
      "execution_count": null,
      "outputs": []
    },
    {
      "cell_type": "code",
      "metadata": {
        "id": "RZt1QfbEdLYA"
      },
      "source": [
        "mae = mean_absolute_error(x_test,y_test)\n",
        "mse = mean_squared_error(x_test,y_test)\n",
        "print('MAE: %.3f' % mae)\n",
        "print('MSE: %.3f' % mse)"
      ],
      "execution_count": null,
      "outputs": []
    },
    {
      "cell_type": "code",
      "metadata": {
        "id": "Z2KnBqufecox"
      },
      "source": [
        ""
      ],
      "execution_count": null,
      "outputs": []
    },
    {
      "cell_type": "markdown",
      "metadata": {
        "id": "yJ0D8kcPGDar"
      },
      "source": [
        "## PM 2.5 prophet"
      ]
    },
    {
      "cell_type": "code",
      "metadata": {
        "id": "fT9s_Krze9zj"
      },
      "source": [
        "PM25=data.groupby('Date').mean()"
      ],
      "execution_count": null,
      "outputs": []
    },
    {
      "cell_type": "code",
      "metadata": {
        "id": "m-YW_-ACfMRy"
      },
      "source": [
        "PM25.drop(['Station code','SO2','CO','O3','NO2','PM10','Temp','Prec','WS','Humi','Pres','cbwd'],axis=1,inplace=True)"
      ],
      "execution_count": null,
      "outputs": []
    },
    {
      "cell_type": "code",
      "metadata": {
        "id": "GUMml6IYfQvj"
      },
      "source": [
        "PM25.reset_index(inplace=True)"
      ],
      "execution_count": null,
      "outputs": []
    },
    {
      "cell_type": "code",
      "metadata": {
        "id": "gqWvP9s-fUeh"
      },
      "source": [
        "PM25.columns=['ds','y']"
      ],
      "execution_count": null,
      "outputs": []
    },
    {
      "cell_type": "code",
      "metadata": {
        "id": "c8rDbYmMfZaR"
      },
      "source": [
        "prophet = Prophet(seasonality_mode='multiplicative', \n",
        "                  yearly_seasonality=True,\n",
        "                  weekly_seasonality=True, daily_seasonality=True,\n",
        "                  changepoint_prior_scale=0.5)\n",
        "prophet.fit(PM25)"
      ],
      "execution_count": null,
      "outputs": []
    },
    {
      "cell_type": "code",
      "metadata": {
        "id": "iUsb9FFbfdrp"
      },
      "source": [
        "future_data = prophet.make_future_dataframe(periods=60, freq='d')\n",
        "forecast_data = prophet.predict(future_data)\n",
        "forecast_data[['ds', 'yhat', 'yhat_lower', 'yhat_upper']].tail(5)"
      ],
      "execution_count": null,
      "outputs": []
    },
    {
      "cell_type": "code",
      "metadata": {
        "id": "OsYegEESflby"
      },
      "source": [
        "y_test=tset.PM25[:60]\n",
        "x_test=forecast_data[['yhat']][-60:]"
      ],
      "execution_count": null,
      "outputs": []
    },
    {
      "cell_type": "code",
      "metadata": {
        "id": "dhDcCmm1fss5"
      },
      "source": [
        "mae = mean_absolute_error(x_test,y_test)\n",
        "mse = mean_squared_error(x_test,y_test)\n",
        "print('MAE: %.3f' % mae)\n",
        "print('MSE: %.3f' % mse)"
      ],
      "execution_count": null,
      "outputs": []
    },
    {
      "cell_type": "code",
      "metadata": {
        "id": "4VUmhcqjfvPZ"
      },
      "source": [
        "fig1 = prophet.plot(forecast_data,xlabel='Date',ylabel='PM25')"
      ],
      "execution_count": null,
      "outputs": []
    },
    {
      "cell_type": "code",
      "metadata": {
        "id": "bQekRP6ugwDZ"
      },
      "source": [
        "train = PM10.drop(PM10.index[-365:])\n",
        "y_true = PM10['y'][-365:].values"
      ],
      "execution_count": null,
      "outputs": []
    },
    {
      "cell_type": "code",
      "metadata": {
        "id": "25SaBH-lJHkr"
      },
      "source": [
        "model=Prophet(seasonality_mode='multiplicative',\n",
        "              yearly_seasonality=True,\n",
        "              weekly_seasonality=True, \n",
        "              daily_seasonality=True,\n",
        "              changepoint_prior_scale=0.5)\n",
        "model.fit(train)"
      ],
      "execution_count": null,
      "outputs": []
    },
    {
      "cell_type": "code",
      "metadata": {
        "id": "XLFsSkn2JWLi"
      },
      "source": [
        "future=model.make_future_dataframe(periods=365)"
      ],
      "execution_count": null,
      "outputs": []
    },
    {
      "cell_type": "code",
      "metadata": {
        "id": "CbF2KKqFJaqC"
      },
      "source": [
        "forecast=model.predict(future)\n",
        "y_pred=forecast['yhat'][-365:]"
      ],
      "execution_count": null,
      "outputs": []
    },
    {
      "cell_type": "code",
      "metadata": {
        "id": "4UMqLuoJLCud"
      },
      "source": [
        "mae=mean_absolute_error(y_pred,y_true)"
      ],
      "execution_count": null,
      "outputs": []
    },
    {
      "cell_type": "code",
      "metadata": {
        "id": "XugTUoIXMCLm"
      },
      "source": [
        "print('MAE : %.3f' %mae)"
      ],
      "execution_count": null,
      "outputs": []
    },
    {
      "cell_type": "code",
      "metadata": {
        "id": "BgUmmh09M5Xc"
      },
      "source": [
        "train = PM25.drop(PM25.index[-365:])\n",
        "y_true = PM25['y'][-365:].values\n",
        "\n",
        "model=Prophet(seasonality_mode='multiplicative',\n",
        "              yearly_seasonality=True,\n",
        "              weekly_seasonality=True, \n",
        "              daily_seasonality=True,\n",
        "              changepoint_prior_scale=0.5)\n",
        "model.fit(train)\n",
        "\n",
        "future=model.make_future_dataframe(periods=365)\n",
        "\n",
        "forecast=model.predict(future)\n",
        "y_pred=forecast['yhat'][-365:]\n",
        "\n",
        "mae=mean_absolute_error(y_pred,y_true)\n",
        "\n",
        "print('MAE : %.3f' %mae)"
      ],
      "execution_count": null,
      "outputs": []
    },
    {
      "cell_type": "code",
      "metadata": {
        "id": "I8MsHgU_OtM4"
      },
      "source": [
        "y_pred=y_pred.to_numpy()"
      ],
      "execution_count": null,
      "outputs": []
    },
    {
      "cell_type": "code",
      "metadata": {
        "id": "LbrkG9hhPEZW"
      },
      "source": [
        "from matplotlib import pyplot\n",
        "import numpy as np\n",
        "pyplot.plot(y_true, label='Actual')\n",
        "pyplot.plot(y_pred, label='Predicted')\n",
        "pyplot.legend()\n",
        "pyplot.show()"
      ],
      "execution_count": null,
      "outputs": []
    },
    {
      "cell_type": "code",
      "metadata": {
        "id": "UfDVhLw7PWlT"
      },
      "source": [
        ""
      ],
      "execution_count": null,
      "outputs": []
    }
  ]
}