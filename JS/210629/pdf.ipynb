{
 "cells": [
  {
   "cell_type": "code",
   "execution_count": 1,
   "metadata": {},
   "outputs": [],
   "source": [
    "###!pip install camelot"
   ]
  },
  {
   "cell_type": "code",
   "execution_count": 2,
   "metadata": {},
   "outputs": [
    {
     "name": "stdout",
     "output_type": "stream",
     "text": [
      " C 드라이브의 볼륨에는 이름이 없습니다.\n",
      " 볼륨 일련 번호: 18F9-02FB\n",
      "\n",
      " C:\\Users\\SEC\\OneDrive\\바탕 화면\\2021-K-Digital-Training-main\\camelot 디렉터리\n",
      "\n",
      "2021-06-29  오후 05:21    <DIR>          .\n",
      "2021-06-29  오후 05:21    <DIR>          ..\n",
      "2021-06-29  오후 05:22    <DIR>          .ipynb_checkpoints\n",
      "2021-06-29  오후 05:02         1,657,306 example.pdf\n",
      "2021-06-29  오후 04:35            84,158 foo.pdf\n",
      "2021-06-29  오후 05:21            15,861 pdf.ipynb\n",
      "2021-06-29  오후 04:35                48 README.md\n",
      "2021-06-29  오후 04:35           245,180 RPA_part20(camelot).pdf\n",
      "2021-06-29  오후 05:17             5,899 table0.xlsx\n",
      "2021-06-29  오후 05:20             5,760 tb01.xlsx\n",
      "               7개 파일           2,014,212 바이트\n",
      "               3개 디렉터리  20,365,463,552 바이트 남음\n"
     ]
    }
   ],
   "source": [
    "!dir"
   ]
  },
  {
   "cell_type": "code",
   "execution_count": 3,
   "metadata": {},
   "outputs": [],
   "source": [
    "import camelot\n",
    "#import sys\n",
    "tables=camelot.read_pdf('foo.pdf')"
   ]
  },
  {
   "cell_type": "code",
   "execution_count": 4,
   "metadata": {},
   "outputs": [
    {
     "data": {
      "text/plain": [
       "camelot.core.TableList"
      ]
     },
     "execution_count": 4,
     "metadata": {},
     "output_type": "execute_result"
    }
   ],
   "source": [
    "type(tables)"
   ]
  },
  {
   "cell_type": "code",
   "execution_count": 5,
   "metadata": {},
   "outputs": [
    {
     "data": {
      "text/html": [
       "<div>\n",
       "<style scoped>\n",
       "    .dataframe tbody tr th:only-of-type {\n",
       "        vertical-align: middle;\n",
       "    }\n",
       "\n",
       "    .dataframe tbody tr th {\n",
       "        vertical-align: top;\n",
       "    }\n",
       "\n",
       "    .dataframe thead th {\n",
       "        text-align: right;\n",
       "    }\n",
       "</style>\n",
       "<table border=\"1\" class=\"dataframe\">\n",
       "  <thead>\n",
       "    <tr style=\"text-align: right;\">\n",
       "      <th></th>\n",
       "      <th>0</th>\n",
       "      <th>1</th>\n",
       "      <th>2</th>\n",
       "      <th>3</th>\n",
       "      <th>4</th>\n",
       "      <th>5</th>\n",
       "      <th>6</th>\n",
       "    </tr>\n",
       "  </thead>\n",
       "  <tbody>\n",
       "    <tr>\n",
       "      <th>0</th>\n",
       "      <td>Cycle \\nName</td>\n",
       "      <td>KI \\n(1/km)</td>\n",
       "      <td>Distance \\n(mi)</td>\n",
       "      <td>Percent Fuel Savings</td>\n",
       "      <td></td>\n",
       "      <td></td>\n",
       "      <td></td>\n",
       "    </tr>\n",
       "    <tr>\n",
       "      <th>1</th>\n",
       "      <td></td>\n",
       "      <td></td>\n",
       "      <td></td>\n",
       "      <td>Improved \\nSpeed</td>\n",
       "      <td>Decreased \\nAccel</td>\n",
       "      <td>Eliminate \\nStops</td>\n",
       "      <td>Decreased \\nIdle</td>\n",
       "    </tr>\n",
       "    <tr>\n",
       "      <th>2</th>\n",
       "      <td>2012_2</td>\n",
       "      <td>3.30</td>\n",
       "      <td>1.3</td>\n",
       "      <td>5.9%</td>\n",
       "      <td>9.5%</td>\n",
       "      <td>29.2%</td>\n",
       "      <td>17.4%</td>\n",
       "    </tr>\n",
       "    <tr>\n",
       "      <th>3</th>\n",
       "      <td>2145_1</td>\n",
       "      <td>0.68</td>\n",
       "      <td>11.2</td>\n",
       "      <td>2.4%</td>\n",
       "      <td>0.1%</td>\n",
       "      <td>9.5%</td>\n",
       "      <td>2.7%</td>\n",
       "    </tr>\n",
       "    <tr>\n",
       "      <th>4</th>\n",
       "      <td>4234_1</td>\n",
       "      <td>0.59</td>\n",
       "      <td>58.7</td>\n",
       "      <td>8.5%</td>\n",
       "      <td>1.3%</td>\n",
       "      <td>8.5%</td>\n",
       "      <td>3.3%</td>\n",
       "    </tr>\n",
       "    <tr>\n",
       "      <th>5</th>\n",
       "      <td>2032_2</td>\n",
       "      <td>0.17</td>\n",
       "      <td>57.8</td>\n",
       "      <td>21.7%</td>\n",
       "      <td>0.3%</td>\n",
       "      <td>2.7%</td>\n",
       "      <td>1.2%</td>\n",
       "    </tr>\n",
       "    <tr>\n",
       "      <th>6</th>\n",
       "      <td>4171_1</td>\n",
       "      <td>0.07</td>\n",
       "      <td>173.9</td>\n",
       "      <td>58.1%</td>\n",
       "      <td>1.6%</td>\n",
       "      <td>2.1%</td>\n",
       "      <td>0.5%</td>\n",
       "    </tr>\n",
       "  </tbody>\n",
       "</table>\n",
       "</div>"
      ],
      "text/plain": [
       "              0            1                2                     3  \\\n",
       "0  Cycle \\nName  KI \\n(1/km)  Distance \\n(mi)  Percent Fuel Savings   \n",
       "1                                                  Improved \\nSpeed   \n",
       "2        2012_2         3.30              1.3                  5.9%   \n",
       "3        2145_1         0.68             11.2                  2.4%   \n",
       "4        4234_1         0.59             58.7                  8.5%   \n",
       "5        2032_2         0.17             57.8                 21.7%   \n",
       "6        4171_1         0.07            173.9                 58.1%   \n",
       "\n",
       "                   4                  5                 6  \n",
       "0                                                          \n",
       "1  Decreased \\nAccel  Eliminate \\nStops  Decreased \\nIdle  \n",
       "2               9.5%              29.2%             17.4%  \n",
       "3               0.1%               9.5%              2.7%  \n",
       "4               1.3%               8.5%              3.3%  \n",
       "5               0.3%               2.7%              1.2%  \n",
       "6               1.6%               2.1%              0.5%  "
      ]
     },
     "execution_count": 5,
     "metadata": {},
     "output_type": "execute_result"
    }
   ],
   "source": [
    "tables[0].df"
   ]
  },
  {
   "cell_type": "code",
   "execution_count": 6,
   "metadata": {},
   "outputs": [
    {
     "name": "stdout",
     "output_type": "stream",
     "text": [
      "<Table shape=(7, 7)>\n"
     ]
    }
   ],
   "source": [
    "print(tables[0])"
   ]
  },
  {
   "cell_type": "code",
   "execution_count": 7,
   "metadata": {},
   "outputs": [],
   "source": [
    "tables[0].to_excel('table0.xlsx')"
   ]
  },
  {
   "cell_type": "code",
   "execution_count": 8,
   "metadata": {},
   "outputs": [],
   "source": [
    "tables0=camelot.read_pdf('example.pdf',pages='1,2,3')"
   ]
  },
  {
   "cell_type": "code",
   "execution_count": 9,
   "metadata": {},
   "outputs": [
    {
     "data": {
      "text/plain": [
       "<TableList n=5>"
      ]
     },
     "execution_count": 9,
     "metadata": {},
     "output_type": "execute_result"
    }
   ],
   "source": [
    "tables0"
   ]
  },
  {
   "cell_type": "code",
   "execution_count": 10,
   "metadata": {},
   "outputs": [
    {
     "data": {
      "text/html": [
       "<div>\n",
       "<style scoped>\n",
       "    .dataframe tbody tr th:only-of-type {\n",
       "        vertical-align: middle;\n",
       "    }\n",
       "\n",
       "    .dataframe tbody tr th {\n",
       "        vertical-align: top;\n",
       "    }\n",
       "\n",
       "    .dataframe thead th {\n",
       "        text-align: right;\n",
       "    }\n",
       "</style>\n",
       "<table border=\"1\" class=\"dataframe\">\n",
       "  <thead>\n",
       "    <tr style=\"text-align: right;\">\n",
       "      <th></th>\n",
       "      <th>0</th>\n",
       "      <th>1</th>\n",
       "      <th>2</th>\n",
       "      <th>3</th>\n",
       "    </tr>\n",
       "  </thead>\n",
       "  <tbody>\n",
       "    <tr>\n",
       "      <th>0</th>\n",
       "      <td>Powertrain system</td>\n",
       "      <td>IC</td>\n",
       "      <td>Parallel</td>\n",
       "      <td>Power \\nsplit</td>\n",
       "    </tr>\n",
       "    <tr>\n",
       "      <th>1</th>\n",
       "      <td>displacement (cc)</td>\n",
       "      <td>2,359</td>\n",
       "      <td>2,359</td>\n",
       "      <td>2,362</td>\n",
       "    </tr>\n",
       "    <tr>\n",
       "      <th>2</th>\n",
       "      <td>Weight (kg)</td>\n",
       "      <td>1,530</td>\n",
       "      <td>1,680</td>\n",
       "      <td>1,670</td>\n",
       "    </tr>\n",
       "    <tr>\n",
       "      <th>3</th>\n",
       "      <td>Engine power (kW)</td>\n",
       "      <td>150</td>\n",
       "      <td>117</td>\n",
       "      <td>110</td>\n",
       "    </tr>\n",
       "    <tr>\n",
       "      <th>4</th>\n",
       "      <td>Battery output power (kW)</td>\n",
       "      <td>-</td>\n",
       "      <td>34</td>\n",
       "      <td>30</td>\n",
       "    </tr>\n",
       "    <tr>\n",
       "      <th>5</th>\n",
       "      <td>Battey capacity (Wh)</td>\n",
       "      <td>-</td>\n",
       "      <td>1,431</td>\n",
       "      <td>1,591</td>\n",
       "    </tr>\n",
       "    <tr>\n",
       "      <th>6</th>\n",
       "      <td>Transmission system</td>\n",
       "      <td>Transmission \\n6 speed</td>\n",
       "      <td>Transmission \\n6 speed</td>\n",
       "      <td>ECVT</td>\n",
       "    </tr>\n",
       "    <tr>\n",
       "      <th>7</th>\n",
       "      <td>Motor power (kW)</td>\n",
       "      <td>-</td>\n",
       "      <td>35</td>\n",
       "      <td>105</td>\n",
       "    </tr>\n",
       "    <tr>\n",
       "      <th>8</th>\n",
       "      <td>Total system power (kW)</td>\n",
       "      <td>150</td>\n",
       "      <td>150</td>\n",
       "      <td>140</td>\n",
       "    </tr>\n",
       "  </tbody>\n",
       "</table>\n",
       "</div>"
      ],
      "text/plain": [
       "                           0                       1                       2  \\\n",
       "0          Powertrain system                      IC                Parallel   \n",
       "1          displacement (cc)                   2,359                   2,359   \n",
       "2                Weight (kg)                   1,530                   1,680   \n",
       "3          Engine power (kW)                     150                     117   \n",
       "4  Battery output power (kW)                       -                      34   \n",
       "5       Battey capacity (Wh)                       -                   1,431   \n",
       "6        Transmission system  Transmission \\n6 speed  Transmission \\n6 speed   \n",
       "7           Motor power (kW)                       -                      35   \n",
       "8    Total system power (kW)                     150                     150   \n",
       "\n",
       "               3  \n",
       "0  Power \\nsplit  \n",
       "1          2,362  \n",
       "2          1,670  \n",
       "3            110  \n",
       "4             30  \n",
       "5          1,591  \n",
       "6           ECVT  \n",
       "7            105  \n",
       "8            140  "
      ]
     },
     "execution_count": 10,
     "metadata": {},
     "output_type": "execute_result"
    }
   ],
   "source": [
    "tables0[0].df"
   ]
  },
  {
   "cell_type": "code",
   "execution_count": 11,
   "metadata": {},
   "outputs": [],
   "source": [
    "df1=tables0[0].df"
   ]
  },
  {
   "cell_type": "code",
   "execution_count": 12,
   "metadata": {},
   "outputs": [
    {
     "data": {
      "text/plain": [
       "0            Powertrain system\n",
       "1            displacement (cc)\n",
       "2                  Weight (kg)\n",
       "3            Engine power (kW)\n",
       "4    Battery output power (kW)\n",
       "5         Battey capacity (Wh)\n",
       "6          Transmission system\n",
       "7             Motor power (kW)\n",
       "8      Total system power (kW)\n",
       "Name: 0, dtype: object"
      ]
     },
     "execution_count": 12,
     "metadata": {},
     "output_type": "execute_result"
    }
   ],
   "source": [
    "df1[0]"
   ]
  },
  {
   "cell_type": "code",
   "execution_count": 13,
   "metadata": {},
   "outputs": [
    {
     "data": {
      "text/html": [
       "<div>\n",
       "<style scoped>\n",
       "    .dataframe tbody tr th:only-of-type {\n",
       "        vertical-align: middle;\n",
       "    }\n",
       "\n",
       "    .dataframe tbody tr th {\n",
       "        vertical-align: top;\n",
       "    }\n",
       "\n",
       "    .dataframe thead th {\n",
       "        text-align: right;\n",
       "    }\n",
       "</style>\n",
       "<table border=\"1\" class=\"dataframe\">\n",
       "  <thead>\n",
       "    <tr style=\"text-align: right;\">\n",
       "      <th></th>\n",
       "      <th>0</th>\n",
       "      <th>1</th>\n",
       "      <th>2</th>\n",
       "      <th>3</th>\n",
       "    </tr>\n",
       "  </thead>\n",
       "  <tbody>\n",
       "    <tr>\n",
       "      <th>0</th>\n",
       "      <td>Season</td>\n",
       "      <td>Summer</td>\n",
       "      <td>Autumn</td>\n",
       "      <td>Winter</td>\n",
       "    </tr>\n",
       "    <tr>\n",
       "      <th>1</th>\n",
       "      <td>Ambient (°C)</td>\n",
       "      <td>30</td>\n",
       "      <td>25</td>\n",
       "      <td>0</td>\n",
       "    </tr>\n",
       "    <tr>\n",
       "      <th>2</th>\n",
       "      <td>A/C Temperature (°C)</td>\n",
       "      <td>22</td>\n",
       "      <td>-</td>\n",
       "      <td>24</td>\n",
       "    </tr>\n",
       "    <tr>\n",
       "      <th>3</th>\n",
       "      <td>A/C</td>\n",
       "      <td>on</td>\n",
       "      <td>off</td>\n",
       "      <td>off</td>\n",
       "    </tr>\n",
       "    <tr>\n",
       "      <th>4</th>\n",
       "      <td>Heater</td>\n",
       "      <td>off</td>\n",
       "      <td>off</td>\n",
       "      <td>on</td>\n",
       "    </tr>\n",
       "  </tbody>\n",
       "</table>\n",
       "</div>"
      ],
      "text/plain": [
       "                      0       1       2       3\n",
       "0                Season  Summer  Autumn  Winter\n",
       "1          Ambient (°C)      30      25       0\n",
       "2  A/C Temperature (°C)      22       -      24\n",
       "3                   A/C      on     off     off\n",
       "4                Heater     off     off      on"
      ]
     },
     "execution_count": 13,
     "metadata": {},
     "output_type": "execute_result"
    }
   ],
   "source": [
    "tables0[1].df"
   ]
  },
  {
   "cell_type": "code",
   "execution_count": 14,
   "metadata": {},
   "outputs": [],
   "source": [
    "tables0[2].to_excel('tb01.xlsx')"
   ]
  },
  {
   "cell_type": "code",
   "execution_count": 15,
   "metadata": {},
   "outputs": [],
   "source": [
    "tables1=camelot.read_pdf('example.pdf',pages='1,2,3,4,5,6,7')"
   ]
  },
  {
   "cell_type": "code",
   "execution_count": 16,
   "metadata": {},
   "outputs": [
    {
     "data": {
      "text/plain": [
       "<TableList n=16>"
      ]
     },
     "execution_count": 16,
     "metadata": {},
     "output_type": "execute_result"
    }
   ],
   "source": [
    "tables1"
   ]
  },
  {
   "cell_type": "code",
   "execution_count": 18,
   "metadata": {},
   "outputs": [
    {
     "data": {
      "text/plain": [
       "<Table shape=(10, 4)>"
      ]
     },
     "execution_count": 18,
     "metadata": {},
     "output_type": "execute_result"
    }
   ],
   "source": [
    "tables1[15]"
   ]
  },
  {
   "cell_type": "code",
   "execution_count": 20,
   "metadata": {},
   "outputs": [
    {
     "data": {
      "text/html": [
       "<div>\n",
       "<style scoped>\n",
       "    .dataframe tbody tr th:only-of-type {\n",
       "        vertical-align: middle;\n",
       "    }\n",
       "\n",
       "    .dataframe tbody tr th {\n",
       "        vertical-align: top;\n",
       "    }\n",
       "\n",
       "    .dataframe thead th {\n",
       "        text-align: right;\n",
       "    }\n",
       "</style>\n",
       "<table border=\"1\" class=\"dataframe\">\n",
       "  <thead>\n",
       "    <tr style=\"text-align: right;\">\n",
       "      <th></th>\n",
       "      <th>0</th>\n",
       "      <th>1</th>\n",
       "      <th>2</th>\n",
       "      <th>3</th>\n",
       "    </tr>\n",
       "  </thead>\n",
       "  <tbody>\n",
       "    <tr>\n",
       "      <th>0</th>\n",
       "      <td>Expressway\\ncondition</td>\n",
       "      <td>Drive distance 200 km</td>\n",
       "      <td></td>\n",
       "      <td></td>\n",
       "    </tr>\n",
       "    <tr>\n",
       "      <th>1</th>\n",
       "      <td>City real road\\ncondition</td>\n",
       "      <td>Average speed</td>\n",
       "      <td></td>\n",
       "      <td></td>\n",
       "    </tr>\n",
       "    <tr>\n",
       "      <th>2</th>\n",
       "      <td></td>\n",
       "      <td>City 1</td>\n",
       "      <td>City 2</td>\n",
       "      <td>City 3</td>\n",
       "    </tr>\n",
       "    <tr>\n",
       "      <th>3</th>\n",
       "      <td></td>\n",
       "      <td>12 km/h</td>\n",
       "      <td>21 km/h</td>\n",
       "      <td>29 km/h</td>\n",
       "    </tr>\n",
       "    <tr>\n",
       "      <th>4</th>\n",
       "      <td>Internal \\ncombustion \\nvehicle</td>\n",
       "      <td>2053 L</td>\n",
       "      <td>1709 L</td>\n",
       "      <td>1532 L</td>\n",
       "    </tr>\n",
       "    <tr>\n",
       "      <th>5</th>\n",
       "      <td></td>\n",
       "      <td>₩2,796,364</td>\n",
       "      <td>₩2,328,166</td>\n",
       "      <td>₩2,087,129</td>\n",
       "    </tr>\n",
       "    <tr>\n",
       "      <th>6</th>\n",
       "      <td>Parallel \\nhybrid vehicle</td>\n",
       "      <td>1403 L (32 %)</td>\n",
       "      <td>1236 L (28 %)</td>\n",
       "      <td>1150 L (25 %)</td>\n",
       "    </tr>\n",
       "    <tr>\n",
       "      <th>7</th>\n",
       "      <td></td>\n",
       "      <td>₩1,911,141</td>\n",
       "      <td>₩1,683,813</td>\n",
       "      <td>₩1,566,637</td>\n",
       "    </tr>\n",
       "    <tr>\n",
       "      <th>8</th>\n",
       "      <td>Powersplit\\nhybrid vehicle</td>\n",
       "      <td>1347 L (34 %)</td>\n",
       "      <td>1192 L (30 %)</td>\n",
       "      <td>1119 L (27 %)</td>\n",
       "    </tr>\n",
       "    <tr>\n",
       "      <th>9</th>\n",
       "      <td></td>\n",
       "      <td>₩1,834,358</td>\n",
       "      <td>₩1,622,890</td>\n",
       "      <td>₩1,524,061</td>\n",
       "    </tr>\n",
       "  </tbody>\n",
       "</table>\n",
       "</div>"
      ],
      "text/plain": [
       "                                 0                      1              2  \\\n",
       "0            Expressway\\ncondition  Drive distance 200 km                  \n",
       "1        City real road\\ncondition          Average speed                  \n",
       "2                                                  City 1         City 2   \n",
       "3                                                 12 km/h        21 km/h   \n",
       "4  Internal \\ncombustion \\nvehicle                 2053 L         1709 L   \n",
       "5                                              ₩2,796,364     ₩2,328,166   \n",
       "6        Parallel \\nhybrid vehicle          1403 L (32 %)  1236 L (28 %)   \n",
       "7                                              ₩1,911,141     ₩1,683,813   \n",
       "8       Powersplit\\nhybrid vehicle          1347 L (34 %)  1192 L (30 %)   \n",
       "9                                              ₩1,834,358     ₩1,622,890   \n",
       "\n",
       "               3  \n",
       "0                 \n",
       "1                 \n",
       "2         City 3  \n",
       "3        29 km/h  \n",
       "4         1532 L  \n",
       "5     ₩2,087,129  \n",
       "6  1150 L (25 %)  \n",
       "7     ₩1,566,637  \n",
       "8  1119 L (27 %)  \n",
       "9     ₩1,524,061  "
      ]
     },
     "execution_count": 20,
     "metadata": {},
     "output_type": "execute_result"
    }
   ],
   "source": [
    "tables1[15].df"
   ]
  },
  {
   "cell_type": "code",
   "execution_count": null,
   "metadata": {},
   "outputs": [],
   "source": []
  }
 ],
 "metadata": {
  "kernelspec": {
   "display_name": "Python 3",
   "language": "python",
   "name": "python3"
  },
  "language_info": {
   "codemirror_mode": {
    "name": "ipython",
    "version": 3
   },
   "file_extension": ".py",
   "mimetype": "text/x-python",
   "name": "python",
   "nbconvert_exporter": "python",
   "pygments_lexer": "ipython3",
   "version": "3.8.8"
  }
 },
 "nbformat": 4,
 "nbformat_minor": 4
}
