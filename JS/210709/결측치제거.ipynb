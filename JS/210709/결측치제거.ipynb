{
 "cells": [
  {
   "cell_type": "code",
   "execution_count": 1,
   "id": "20b1bbd3-3a56-4bb1-aad9-67637de36597",
   "metadata": {},
   "outputs": [],
   "source": [
    "import pandas as pd"
   ]
  },
  {
   "cell_type": "code",
   "execution_count": 2,
   "id": "116cb47f-868d-404a-8ced-2a138e183350",
   "metadata": {},
   "outputs": [],
   "source": [
    "airdata=pd.read_csv('C:/Users/SEC/TIL/210708-시간전처리/전처리 완료/AirDate.csv')"
   ]
  },
  {
   "cell_type": "code",
   "execution_count": 3,
   "id": "75db30cb-0760-4453-ab87-c00dfc491362",
   "metadata": {},
   "outputs": [
    {
     "name": "stdout",
     "output_type": "stream",
     "text": [
      "<class 'pandas.core.frame.DataFrame'>\n",
      "RangeIndex: 43536 entries, 0 to 43535\n",
      "Data columns (total 9 columns):\n",
      " #   Column        Non-Null Count  Dtype  \n",
      "---  ------        --------------  -----  \n",
      " 0   Unnamed: 0    43536 non-null  int64  \n",
      " 1   Station code  43536 non-null  int64  \n",
      " 2   Date          43536 non-null  object \n",
      " 3   SO2           42619 non-null  float64\n",
      " 4   CO            42575 non-null  float64\n",
      " 5   O3            42721 non-null  float64\n",
      " 6   NO2           42656 non-null  float64\n",
      " 7   PM10          42269 non-null  float64\n",
      " 8   PM25          41056 non-null  float64\n",
      "dtypes: float64(6), int64(2), object(1)\n",
      "memory usage: 3.0+ MB\n"
     ]
    }
   ],
   "source": [
    "airdata.info()"
   ]
  },
  {
   "cell_type": "code",
   "execution_count": 4,
   "id": "c71a9b06-eab2-41b2-9f35-6c8812907149",
   "metadata": {},
   "outputs": [
    {
     "data": {
      "text/html": [
       "<div>\n",
       "<style scoped>\n",
       "    .dataframe tbody tr th:only-of-type {\n",
       "        vertical-align: middle;\n",
       "    }\n",
       "\n",
       "    .dataframe tbody tr th {\n",
       "        vertical-align: top;\n",
       "    }\n",
       "\n",
       "    .dataframe thead th {\n",
       "        text-align: right;\n",
       "    }\n",
       "</style>\n",
       "<table border=\"1\" class=\"dataframe\">\n",
       "  <thead>\n",
       "    <tr style=\"text-align: right;\">\n",
       "      <th></th>\n",
       "      <th>Unnamed: 0</th>\n",
       "      <th>Station code</th>\n",
       "      <th>Date</th>\n",
       "      <th>SO2</th>\n",
       "      <th>CO</th>\n",
       "      <th>O3</th>\n",
       "      <th>NO2</th>\n",
       "      <th>PM10</th>\n",
       "      <th>PM25</th>\n",
       "    </tr>\n",
       "  </thead>\n",
       "  <tbody>\n",
       "    <tr>\n",
       "      <th>0</th>\n",
       "      <td>0</td>\n",
       "      <td>111121</td>\n",
       "      <td>2018-01-01</td>\n",
       "      <td>0.004833</td>\n",
       "      <td>0.554167</td>\n",
       "      <td>0.014583</td>\n",
       "      <td>0.029292</td>\n",
       "      <td>32.666667</td>\n",
       "      <td>17.791667</td>\n",
       "    </tr>\n",
       "    <tr>\n",
       "      <th>1</th>\n",
       "      <td>1</td>\n",
       "      <td>111121</td>\n",
       "      <td>2018-01-02</td>\n",
       "      <td>0.004625</td>\n",
       "      <td>0.783333</td>\n",
       "      <td>0.012208</td>\n",
       "      <td>0.036292</td>\n",
       "      <td>32.125000</td>\n",
       "      <td>19.666667</td>\n",
       "    </tr>\n",
       "    <tr>\n",
       "      <th>2</th>\n",
       "      <td>2</td>\n",
       "      <td>111121</td>\n",
       "      <td>2018-01-03</td>\n",
       "      <td>0.004583</td>\n",
       "      <td>0.491667</td>\n",
       "      <td>0.017833</td>\n",
       "      <td>0.020625</td>\n",
       "      <td>29.583333</td>\n",
       "      <td>17.583333</td>\n",
       "    </tr>\n",
       "    <tr>\n",
       "      <th>3</th>\n",
       "      <td>3</td>\n",
       "      <td>111121</td>\n",
       "      <td>2018-01-04</td>\n",
       "      <td>0.004625</td>\n",
       "      <td>0.662500</td>\n",
       "      <td>0.008792</td>\n",
       "      <td>0.036042</td>\n",
       "      <td>38.708333</td>\n",
       "      <td>23.833333</td>\n",
       "    </tr>\n",
       "    <tr>\n",
       "      <th>4</th>\n",
       "      <td>4</td>\n",
       "      <td>111121</td>\n",
       "      <td>2018-01-05</td>\n",
       "      <td>0.005083</td>\n",
       "      <td>0.766667</td>\n",
       "      <td>0.006292</td>\n",
       "      <td>0.044083</td>\n",
       "      <td>47.875000</td>\n",
       "      <td>32.708333</td>\n",
       "    </tr>\n",
       "  </tbody>\n",
       "</table>\n",
       "</div>"
      ],
      "text/plain": [
       "   Unnamed: 0  Station code        Date       SO2        CO        O3  \\\n",
       "0           0        111121  2018-01-01  0.004833  0.554167  0.014583   \n",
       "1           1        111121  2018-01-02  0.004625  0.783333  0.012208   \n",
       "2           2        111121  2018-01-03  0.004583  0.491667  0.017833   \n",
       "3           3        111121  2018-01-04  0.004625  0.662500  0.008792   \n",
       "4           4        111121  2018-01-05  0.005083  0.766667  0.006292   \n",
       "\n",
       "        NO2       PM10       PM25  \n",
       "0  0.029292  32.666667  17.791667  \n",
       "1  0.036292  32.125000  19.666667  \n",
       "2  0.020625  29.583333  17.583333  \n",
       "3  0.036042  38.708333  23.833333  \n",
       "4  0.044083  47.875000  32.708333  "
      ]
     },
     "execution_count": 4,
     "metadata": {},
     "output_type": "execute_result"
    }
   ],
   "source": [
    "airdata.head()"
   ]
  },
  {
   "cell_type": "code",
   "execution_count": 5,
   "id": "90555a16-eb8c-4dba-a119-0d0d05f4500c",
   "metadata": {},
   "outputs": [],
   "source": [
    "airdata.drop('Unnamed: 0',axis=1,inplace=True)"
   ]
  },
  {
   "cell_type": "code",
   "execution_count": 6,
   "id": "7729cf59-bc13-4fcb-aeba-7b1fbaf483c3",
   "metadata": {},
   "outputs": [
    {
     "data": {
      "text/html": [
       "<div>\n",
       "<style scoped>\n",
       "    .dataframe tbody tr th:only-of-type {\n",
       "        vertical-align: middle;\n",
       "    }\n",
       "\n",
       "    .dataframe tbody tr th {\n",
       "        vertical-align: top;\n",
       "    }\n",
       "\n",
       "    .dataframe thead th {\n",
       "        text-align: right;\n",
       "    }\n",
       "</style>\n",
       "<table border=\"1\" class=\"dataframe\">\n",
       "  <thead>\n",
       "    <tr style=\"text-align: right;\">\n",
       "      <th></th>\n",
       "      <th>Station code</th>\n",
       "      <th>Date</th>\n",
       "      <th>SO2</th>\n",
       "      <th>CO</th>\n",
       "      <th>O3</th>\n",
       "      <th>NO2</th>\n",
       "      <th>PM10</th>\n",
       "      <th>PM25</th>\n",
       "    </tr>\n",
       "  </thead>\n",
       "  <tbody>\n",
       "    <tr>\n",
       "      <th>0</th>\n",
       "      <td>111121</td>\n",
       "      <td>2018-01-01</td>\n",
       "      <td>0.004833</td>\n",
       "      <td>0.554167</td>\n",
       "      <td>0.014583</td>\n",
       "      <td>0.029292</td>\n",
       "      <td>32.666667</td>\n",
       "      <td>17.791667</td>\n",
       "    </tr>\n",
       "    <tr>\n",
       "      <th>1</th>\n",
       "      <td>111121</td>\n",
       "      <td>2018-01-02</td>\n",
       "      <td>0.004625</td>\n",
       "      <td>0.783333</td>\n",
       "      <td>0.012208</td>\n",
       "      <td>0.036292</td>\n",
       "      <td>32.125000</td>\n",
       "      <td>19.666667</td>\n",
       "    </tr>\n",
       "    <tr>\n",
       "      <th>2</th>\n",
       "      <td>111121</td>\n",
       "      <td>2018-01-03</td>\n",
       "      <td>0.004583</td>\n",
       "      <td>0.491667</td>\n",
       "      <td>0.017833</td>\n",
       "      <td>0.020625</td>\n",
       "      <td>29.583333</td>\n",
       "      <td>17.583333</td>\n",
       "    </tr>\n",
       "    <tr>\n",
       "      <th>3</th>\n",
       "      <td>111121</td>\n",
       "      <td>2018-01-04</td>\n",
       "      <td>0.004625</td>\n",
       "      <td>0.662500</td>\n",
       "      <td>0.008792</td>\n",
       "      <td>0.036042</td>\n",
       "      <td>38.708333</td>\n",
       "      <td>23.833333</td>\n",
       "    </tr>\n",
       "    <tr>\n",
       "      <th>4</th>\n",
       "      <td>111121</td>\n",
       "      <td>2018-01-05</td>\n",
       "      <td>0.005083</td>\n",
       "      <td>0.766667</td>\n",
       "      <td>0.006292</td>\n",
       "      <td>0.044083</td>\n",
       "      <td>47.875000</td>\n",
       "      <td>32.708333</td>\n",
       "    </tr>\n",
       "  </tbody>\n",
       "</table>\n",
       "</div>"
      ],
      "text/plain": [
       "   Station code        Date       SO2        CO        O3       NO2  \\\n",
       "0        111121  2018-01-01  0.004833  0.554167  0.014583  0.029292   \n",
       "1        111121  2018-01-02  0.004625  0.783333  0.012208  0.036292   \n",
       "2        111121  2018-01-03  0.004583  0.491667  0.017833  0.020625   \n",
       "3        111121  2018-01-04  0.004625  0.662500  0.008792  0.036042   \n",
       "4        111121  2018-01-05  0.005083  0.766667  0.006292  0.044083   \n",
       "\n",
       "        PM10       PM25  \n",
       "0  32.666667  17.791667  \n",
       "1  32.125000  19.666667  \n",
       "2  29.583333  17.583333  \n",
       "3  38.708333  23.833333  \n",
       "4  47.875000  32.708333  "
      ]
     },
     "execution_count": 6,
     "metadata": {},
     "output_type": "execute_result"
    }
   ],
   "source": [
    "airdata.head()"
   ]
  },
  {
   "cell_type": "code",
   "execution_count": 7,
   "id": "4ca59ac5-4459-4060-be16-9a3fe2058721",
   "metadata": {},
   "outputs": [
    {
     "data": {
      "text/plain": [
       "Station code       0\n",
       "Date               0\n",
       "SO2              917\n",
       "CO               961\n",
       "O3               815\n",
       "NO2              880\n",
       "PM10            1267\n",
       "PM25            2480\n",
       "dtype: int64"
      ]
     },
     "execution_count": 7,
     "metadata": {},
     "output_type": "execute_result"
    }
   ],
   "source": [
    "airdata.isnull().sum()"
   ]
  },
  {
   "cell_type": "code",
   "execution_count": 8,
   "id": "7c0ec48f-20e9-4f2a-8bb3-f6a46ee6b689",
   "metadata": {},
   "outputs": [],
   "source": [
    "median1=airdata.SO2.median()"
   ]
  },
  {
   "cell_type": "code",
   "execution_count": 9,
   "id": "7c8b2b3d-9487-4db7-8742-26b494ee0772",
   "metadata": {},
   "outputs": [],
   "source": [
    "airdata.SO2.fillna(median1,inplace=True)"
   ]
  },
  {
   "cell_type": "code",
   "execution_count": 10,
   "id": "dac165eb-f4df-4ec4-9ed5-5ba694ed7d57",
   "metadata": {},
   "outputs": [],
   "source": [
    "median2=airdata.CO.median()\n",
    "median3=airdata.O3.median()\n",
    "median4=airdata.NO2.median()\n",
    "median5=airdata.PM10.median()\n",
    "median6=airdata.PM25.median()"
   ]
  },
  {
   "cell_type": "code",
   "execution_count": 12,
   "id": "59e9b16a-24b7-413d-b29d-011c5655eff6",
   "metadata": {},
   "outputs": [],
   "source": [
    "airdata.CO.fillna(median2,inplace=True)\n",
    "airdata.O3.fillna(median3,inplace=True)\n",
    "airdata.NO2.fillna(median4,inplace=True)\n",
    "airdata.PM10.fillna(median5,inplace=True)\n",
    "airdata.PM25.fillna(median6,inplace=True)"
   ]
  },
  {
   "cell_type": "code",
   "execution_count": 13,
   "id": "6241ac9d-f52b-46a0-83e5-9ea2de698983",
   "metadata": {},
   "outputs": [
    {
     "data": {
      "text/plain": [
       "Station code    0\n",
       "Date            0\n",
       "SO2             0\n",
       "CO              0\n",
       "O3              0\n",
       "NO2             0\n",
       "PM10            0\n",
       "PM25            0\n",
       "dtype: int64"
      ]
     },
     "execution_count": 13,
     "metadata": {},
     "output_type": "execute_result"
    }
   ],
   "source": [
    "airdata.isnull().sum()"
   ]
  },
  {
   "cell_type": "code",
   "execution_count": 21,
   "id": "08399ef6-4393-4fbb-925c-9a1c18d5f003",
   "metadata": {},
   "outputs": [
    {
     "data": {
      "text/html": [
       "<div>\n",
       "<style scoped>\n",
       "    .dataframe tbody tr th:only-of-type {\n",
       "        vertical-align: middle;\n",
       "    }\n",
       "\n",
       "    .dataframe tbody tr th {\n",
       "        vertical-align: top;\n",
       "    }\n",
       "\n",
       "    .dataframe thead th {\n",
       "        text-align: right;\n",
       "    }\n",
       "</style>\n",
       "<table border=\"1\" class=\"dataframe\">\n",
       "  <thead>\n",
       "    <tr style=\"text-align: right;\">\n",
       "      <th></th>\n",
       "      <th>Station code</th>\n",
       "      <th>Date</th>\n",
       "      <th>SO2</th>\n",
       "      <th>CO</th>\n",
       "      <th>O3</th>\n",
       "      <th>NO2</th>\n",
       "      <th>PM10</th>\n",
       "      <th>PM25</th>\n",
       "    </tr>\n",
       "  </thead>\n",
       "  <tbody>\n",
       "    <tr>\n",
       "      <th>0</th>\n",
       "      <td>111121</td>\n",
       "      <td>2018-01-01</td>\n",
       "      <td>0.005</td>\n",
       "      <td>0.554</td>\n",
       "      <td>0.015</td>\n",
       "      <td>0.029</td>\n",
       "      <td>32.667</td>\n",
       "      <td>17.792</td>\n",
       "    </tr>\n",
       "    <tr>\n",
       "      <th>1</th>\n",
       "      <td>111121</td>\n",
       "      <td>2018-01-02</td>\n",
       "      <td>0.005</td>\n",
       "      <td>0.783</td>\n",
       "      <td>0.012</td>\n",
       "      <td>0.036</td>\n",
       "      <td>32.125</td>\n",
       "      <td>19.667</td>\n",
       "    </tr>\n",
       "    <tr>\n",
       "      <th>2</th>\n",
       "      <td>111121</td>\n",
       "      <td>2018-01-03</td>\n",
       "      <td>0.005</td>\n",
       "      <td>0.492</td>\n",
       "      <td>0.018</td>\n",
       "      <td>0.021</td>\n",
       "      <td>29.583</td>\n",
       "      <td>17.583</td>\n",
       "    </tr>\n",
       "    <tr>\n",
       "      <th>3</th>\n",
       "      <td>111121</td>\n",
       "      <td>2018-01-04</td>\n",
       "      <td>0.005</td>\n",
       "      <td>0.662</td>\n",
       "      <td>0.009</td>\n",
       "      <td>0.036</td>\n",
       "      <td>38.708</td>\n",
       "      <td>23.833</td>\n",
       "    </tr>\n",
       "    <tr>\n",
       "      <th>4</th>\n",
       "      <td>111121</td>\n",
       "      <td>2018-01-05</td>\n",
       "      <td>0.005</td>\n",
       "      <td>0.767</td>\n",
       "      <td>0.006</td>\n",
       "      <td>0.044</td>\n",
       "      <td>47.875</td>\n",
       "      <td>32.708</td>\n",
       "    </tr>\n",
       "    <tr>\n",
       "      <th>...</th>\n",
       "      <td>...</td>\n",
       "      <td>...</td>\n",
       "      <td>...</td>\n",
       "      <td>...</td>\n",
       "      <td>...</td>\n",
       "      <td>...</td>\n",
       "      <td>...</td>\n",
       "      <td>...</td>\n",
       "    </tr>\n",
       "    <tr>\n",
       "      <th>43531</th>\n",
       "      <td>111312</td>\n",
       "      <td>2020-12-27</td>\n",
       "      <td>0.003</td>\n",
       "      <td>0.700</td>\n",
       "      <td>0.006</td>\n",
       "      <td>0.045</td>\n",
       "      <td>65.708</td>\n",
       "      <td>39.000</td>\n",
       "    </tr>\n",
       "    <tr>\n",
       "      <th>43532</th>\n",
       "      <td>111312</td>\n",
       "      <td>2020-12-28</td>\n",
       "      <td>0.003</td>\n",
       "      <td>0.754</td>\n",
       "      <td>0.004</td>\n",
       "      <td>0.054</td>\n",
       "      <td>66.708</td>\n",
       "      <td>44.250</td>\n",
       "    </tr>\n",
       "    <tr>\n",
       "      <th>43533</th>\n",
       "      <td>111312</td>\n",
       "      <td>2020-12-29</td>\n",
       "      <td>0.003</td>\n",
       "      <td>0.683</td>\n",
       "      <td>0.008</td>\n",
       "      <td>0.037</td>\n",
       "      <td>64.375</td>\n",
       "      <td>41.000</td>\n",
       "    </tr>\n",
       "    <tr>\n",
       "      <th>43534</th>\n",
       "      <td>111312</td>\n",
       "      <td>2020-12-30</td>\n",
       "      <td>0.002</td>\n",
       "      <td>0.275</td>\n",
       "      <td>0.013</td>\n",
       "      <td>0.019</td>\n",
       "      <td>37.958</td>\n",
       "      <td>13.500</td>\n",
       "    </tr>\n",
       "    <tr>\n",
       "      <th>43535</th>\n",
       "      <td>111312</td>\n",
       "      <td>2020-12-31</td>\n",
       "      <td>0.003</td>\n",
       "      <td>0.342</td>\n",
       "      <td>0.010</td>\n",
       "      <td>0.027</td>\n",
       "      <td>29.750</td>\n",
       "      <td>12.917</td>\n",
       "    </tr>\n",
       "  </tbody>\n",
       "</table>\n",
       "<p>43536 rows × 8 columns</p>\n",
       "</div>"
      ],
      "text/plain": [
       "       Station code        Date    SO2     CO     O3    NO2    PM10    PM25\n",
       "0            111121  2018-01-01  0.005  0.554  0.015  0.029  32.667  17.792\n",
       "1            111121  2018-01-02  0.005  0.783  0.012  0.036  32.125  19.667\n",
       "2            111121  2018-01-03  0.005  0.492  0.018  0.021  29.583  17.583\n",
       "3            111121  2018-01-04  0.005  0.662  0.009  0.036  38.708  23.833\n",
       "4            111121  2018-01-05  0.005  0.767  0.006  0.044  47.875  32.708\n",
       "...             ...         ...    ...    ...    ...    ...     ...     ...\n",
       "43531        111312  2020-12-27  0.003  0.700  0.006  0.045  65.708  39.000\n",
       "43532        111312  2020-12-28  0.003  0.754  0.004  0.054  66.708  44.250\n",
       "43533        111312  2020-12-29  0.003  0.683  0.008  0.037  64.375  41.000\n",
       "43534        111312  2020-12-30  0.002  0.275  0.013  0.019  37.958  13.500\n",
       "43535        111312  2020-12-31  0.003  0.342  0.010  0.027  29.750  12.917\n",
       "\n",
       "[43536 rows x 8 columns]"
      ]
     },
     "execution_count": 21,
     "metadata": {},
     "output_type": "execute_result"
    }
   ],
   "source": [
    "airdata.round(3)"
   ]
  },
  {
   "cell_type": "code",
   "execution_count": 22,
   "id": "80f1c2da-3c79-44f9-8db8-13fe13193fe9",
   "metadata": {},
   "outputs": [],
   "source": [
    "airdata.to_csv('AirData.csv')"
   ]
  },
  {
   "cell_type": "code",
   "execution_count": 17,
   "id": "3b3f9ce7-3775-477a-8c74-0b27e954d5fd",
   "metadata": {},
   "outputs": [
    {
     "name": "stdout",
     "output_type": "stream",
     "text": [
      "C:\\Users\\SEC\\TIL\\210709\n"
     ]
    }
   ],
   "source": [
    "cd TIL/210709"
   ]
  },
  {
   "cell_type": "code",
   "execution_count": 18,
   "id": "1007a7ea-24ce-4184-82fc-7c49de41a3b0",
   "metadata": {},
   "outputs": [],
   "source": [
    "whe=pd.read_csv('C:/Users/SEC/TIL/210708-시간전처리/전처리 완료/whether.csv')"
   ]
  },
  {
   "cell_type": "code",
   "execution_count": 20,
   "id": "9639d8a0-a2ca-4ce7-96a8-0c5934d0db90",
   "metadata": {},
   "outputs": [
    {
     "name": "stdout",
     "output_type": "stream",
     "text": [
      "<class 'pandas.core.frame.DataFrame'>\n",
      "RangeIndex: 1096 entries, 0 to 1095\n",
      "Data columns (total 10 columns):\n",
      " #   Column        Non-Null Count  Dtype  \n",
      "---  ------        --------------  -----  \n",
      " 0   Unnamed: 0    1096 non-null   int64  \n",
      " 1   Station Code  1096 non-null   int64  \n",
      " 2   Name          1096 non-null   object \n",
      " 3   Date          1096 non-null   object \n",
      " 4   Temp          1096 non-null   float64\n",
      " 5   Prec          418 non-null    float64\n",
      " 6   WS            1096 non-null   float64\n",
      " 7   Humi          1096 non-null   float64\n",
      " 8   Pres          1095 non-null   float64\n",
      " 9   cbwd          1096 non-null   int64  \n",
      "dtypes: float64(5), int64(3), object(2)\n",
      "memory usage: 85.8+ KB\n"
     ]
    }
   ],
   "source": [
    "whe.info()"
   ]
  },
  {
   "cell_type": "code",
   "execution_count": 23,
   "id": "3e353fc9-ae5c-4c51-9c47-56926d076e8a",
   "metadata": {},
   "outputs": [],
   "source": [
    "whe.Prec.fillna(0,inplace=True)"
   ]
  },
  {
   "cell_type": "code",
   "execution_count": 24,
   "id": "cfe903a3-c2cd-451f-80b4-6879cab1b99d",
   "metadata": {},
   "outputs": [
    {
     "data": {
      "text/plain": [
       "Unnamed: 0      0\n",
       "Station Code    0\n",
       "Name            0\n",
       "Date            0\n",
       "Temp            0\n",
       "Prec            0\n",
       "WS              0\n",
       "Humi            0\n",
       "Pres            1\n",
       "cbwd            0\n",
       "dtype: int64"
      ]
     },
     "execution_count": 24,
     "metadata": {},
     "output_type": "execute_result"
    }
   ],
   "source": [
    "whe.isnull().sum()"
   ]
  },
  {
   "cell_type": "code",
   "execution_count": 26,
   "id": "27332898-ab8a-433f-bd21-3a69193e54a2",
   "metadata": {},
   "outputs": [],
   "source": [
    "pres_med=whe.Pres.median()"
   ]
  },
  {
   "cell_type": "code",
   "execution_count": 27,
   "id": "ba7228ae-bc17-4784-8784-c1d6ff2226ad",
   "metadata": {},
   "outputs": [],
   "source": [
    "whe.Pres.fillna(pres_med,inplace=True)"
   ]
  },
  {
   "cell_type": "code",
   "execution_count": 28,
   "id": "c28ff634-ec54-4998-ab37-b7e67ade696f",
   "metadata": {},
   "outputs": [
    {
     "data": {
      "text/plain": [
       "Unnamed: 0      0\n",
       "Station Code    0\n",
       "Name            0\n",
       "Date            0\n",
       "Temp            0\n",
       "Prec            0\n",
       "WS              0\n",
       "Humi            0\n",
       "Pres            0\n",
       "cbwd            0\n",
       "dtype: int64"
      ]
     },
     "execution_count": 28,
     "metadata": {},
     "output_type": "execute_result"
    }
   ],
   "source": [
    "whe.isnull().sum()"
   ]
  },
  {
   "cell_type": "code",
   "execution_count": 29,
   "id": "b3d1f5be-7c07-4404-abd1-8b987e5d7c40",
   "metadata": {},
   "outputs": [],
   "source": [
    "whe.to_csv('Whether.csv')"
   ]
  },
  {
   "cell_type": "code",
   "execution_count": null,
   "id": "81ed33ff-49dd-441e-b7b4-83640131efa2",
   "metadata": {},
   "outputs": [],
   "source": []
  }
 ],
 "metadata": {
  "kernelspec": {
   "display_name": "Python Multi",
   "language": "python",
   "name": "multi"
  },
  "language_info": {
   "codemirror_mode": {
    "name": "ipython",
    "version": 3
   },
   "file_extension": ".py",
   "mimetype": "text/x-python",
   "name": "python",
   "nbconvert_exporter": "python",
   "pygments_lexer": "ipython3",
   "version": "3.7.6"
  }
 },
 "nbformat": 4,
 "nbformat_minor": 5
}
