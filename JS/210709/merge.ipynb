{
 "cells": [
  {
   "cell_type": "code",
   "execution_count": 1,
   "id": "e887da1a-7fdd-4ed3-98d2-d46d788eeba3",
   "metadata": {},
   "outputs": [],
   "source": [
    "import pandas as pd"
   ]
  },
  {
   "cell_type": "code",
   "execution_count": 2,
   "id": "d27fb978-6e6a-4b50-ad13-c6c335603fe8",
   "metadata": {},
   "outputs": [],
   "source": [
    "air=pd.read_csv('AirData.csv')\n",
    "whe=pd.read_csv('Whether.csv')"
   ]
  },
  {
   "cell_type": "code",
   "execution_count": 3,
   "id": "752f3421-aecf-4e0d-a867-49ba65d5770d",
   "metadata": {},
   "outputs": [
    {
     "name": "stdout",
     "output_type": "stream",
     "text": [
      "<class 'pandas.core.frame.DataFrame'>\n",
      "RangeIndex: 1096 entries, 0 to 1095\n",
      "Data columns (total 11 columns):\n",
      " #   Column        Non-Null Count  Dtype  \n",
      "---  ------        --------------  -----  \n",
      " 0   Unnamed: 0    1096 non-null   int64  \n",
      " 1   Unnamed: 0.1  1096 non-null   int64  \n",
      " 2   Station Code  1096 non-null   int64  \n",
      " 3   Name          1096 non-null   object \n",
      " 4   Date          1096 non-null   object \n",
      " 5   Temp          1096 non-null   float64\n",
      " 6   Prec          1096 non-null   float64\n",
      " 7   WS            1096 non-null   float64\n",
      " 8   Humi          1096 non-null   float64\n",
      " 9   Pres          1096 non-null   float64\n",
      " 10  cbwd          1096 non-null   int64  \n",
      "dtypes: float64(5), int64(4), object(2)\n",
      "memory usage: 94.3+ KB\n"
     ]
    }
   ],
   "source": [
    "whe.info()"
   ]
  },
  {
   "cell_type": "code",
   "execution_count": 5,
   "id": "75ac3e7d-2af8-4bf3-9a89-7c9c105ea2ce",
   "metadata": {},
   "outputs": [],
   "source": [
    "W=whe.drop(['Unnamed: 0','Unnamed: 0.1','Station Code','Name'],axis=1)"
   ]
  },
  {
   "cell_type": "code",
   "execution_count": 6,
   "id": "4e7eccd2-d9de-4a6d-99fa-afa84ba06ab8",
   "metadata": {},
   "outputs": [
    {
     "name": "stdout",
     "output_type": "stream",
     "text": [
      "<class 'pandas.core.frame.DataFrame'>\n",
      "RangeIndex: 1096 entries, 0 to 1095\n",
      "Data columns (total 7 columns):\n",
      " #   Column  Non-Null Count  Dtype  \n",
      "---  ------  --------------  -----  \n",
      " 0   Date    1096 non-null   object \n",
      " 1   Temp    1096 non-null   float64\n",
      " 2   Prec    1096 non-null   float64\n",
      " 3   WS      1096 non-null   float64\n",
      " 4   Humi    1096 non-null   float64\n",
      " 5   Pres    1096 non-null   float64\n",
      " 6   cbwd    1096 non-null   int64  \n",
      "dtypes: float64(5), int64(1), object(1)\n",
      "memory usage: 60.1+ KB\n"
     ]
    }
   ],
   "source": [
    "W.info()"
   ]
  },
  {
   "cell_type": "code",
   "execution_count": 7,
   "id": "85aca74f-c2e8-45f7-8047-a1c00784313c",
   "metadata": {},
   "outputs": [
    {
     "name": "stdout",
     "output_type": "stream",
     "text": [
      "<class 'pandas.core.frame.DataFrame'>\n",
      "RangeIndex: 43536 entries, 0 to 43535\n",
      "Data columns (total 9 columns):\n",
      " #   Column        Non-Null Count  Dtype  \n",
      "---  ------        --------------  -----  \n",
      " 0   Unnamed: 0    43536 non-null  int64  \n",
      " 1   Station code  43536 non-null  int64  \n",
      " 2   Date          43536 non-null  object \n",
      " 3   SO2           43536 non-null  float64\n",
      " 4   CO            43536 non-null  float64\n",
      " 5   O3            43536 non-null  float64\n",
      " 6   NO2           43536 non-null  float64\n",
      " 7   PM10          43536 non-null  float64\n",
      " 8   PM25          43536 non-null  float64\n",
      "dtypes: float64(6), int64(2), object(1)\n",
      "memory usage: 3.0+ MB\n"
     ]
    }
   ],
   "source": [
    "air.info()"
   ]
  },
  {
   "cell_type": "code",
   "execution_count": 9,
   "id": "146bd7d3-080c-4332-bc37-7895914766c7",
   "metadata": {},
   "outputs": [],
   "source": [
    "A=air.drop(['Unnamed: 0'],axis=1)"
   ]
  },
  {
   "cell_type": "code",
   "execution_count": 10,
   "id": "1f8829d6-6129-459b-8574-e8a3ef37913a",
   "metadata": {},
   "outputs": [
    {
     "name": "stdout",
     "output_type": "stream",
     "text": [
      "<class 'pandas.core.frame.DataFrame'>\n",
      "RangeIndex: 43536 entries, 0 to 43535\n",
      "Data columns (total 8 columns):\n",
      " #   Column        Non-Null Count  Dtype  \n",
      "---  ------        --------------  -----  \n",
      " 0   Station code  43536 non-null  int64  \n",
      " 1   Date          43536 non-null  object \n",
      " 2   SO2           43536 non-null  float64\n",
      " 3   CO            43536 non-null  float64\n",
      " 4   O3            43536 non-null  float64\n",
      " 5   NO2           43536 non-null  float64\n",
      " 6   PM10          43536 non-null  float64\n",
      " 7   PM25          43536 non-null  float64\n",
      "dtypes: float64(6), int64(1), object(1)\n",
      "memory usage: 2.7+ MB\n"
     ]
    }
   ],
   "source": [
    "A.info()"
   ]
  },
  {
   "cell_type": "code",
   "execution_count": 12,
   "id": "84ea0e19-0091-4317-9583-8f6359b0f739",
   "metadata": {},
   "outputs": [],
   "source": [
    "data=pd.merge(A,W,on='Date')"
   ]
  },
  {
   "cell_type": "code",
   "execution_count": 13,
   "id": "c5539c77-2c04-4e96-94ac-e702ded10d35",
   "metadata": {},
   "outputs": [
    {
     "name": "stdout",
     "output_type": "stream",
     "text": [
      "<class 'pandas.core.frame.DataFrame'>\n",
      "Int64Index: 43536 entries, 0 to 43535\n",
      "Data columns (total 14 columns):\n",
      " #   Column        Non-Null Count  Dtype  \n",
      "---  ------        --------------  -----  \n",
      " 0   Station code  43536 non-null  int64  \n",
      " 1   Date          43536 non-null  object \n",
      " 2   SO2           43536 non-null  float64\n",
      " 3   CO            43536 non-null  float64\n",
      " 4   O3            43536 non-null  float64\n",
      " 5   NO2           43536 non-null  float64\n",
      " 6   PM10          43536 non-null  float64\n",
      " 7   PM25          43536 non-null  float64\n",
      " 8   Temp          43536 non-null  float64\n",
      " 9   Prec          43536 non-null  float64\n",
      " 10  WS            43536 non-null  float64\n",
      " 11  Humi          43536 non-null  float64\n",
      " 12  Pres          43536 non-null  float64\n",
      " 13  cbwd          43536 non-null  int64  \n",
      "dtypes: float64(11), int64(2), object(1)\n",
      "memory usage: 5.0+ MB\n"
     ]
    }
   ],
   "source": [
    "data.info()"
   ]
  },
  {
   "cell_type": "code",
   "execution_count": 14,
   "id": "b98e17ce-2e73-4225-857b-77d329941c0d",
   "metadata": {},
   "outputs": [
    {
     "data": {
      "text/plain": [
       "Station code    0\n",
       "Date            0\n",
       "SO2             0\n",
       "CO              0\n",
       "O3              0\n",
       "NO2             0\n",
       "PM10            0\n",
       "PM25            0\n",
       "Temp            0\n",
       "Prec            0\n",
       "WS              0\n",
       "Humi            0\n",
       "Pres            0\n",
       "cbwd            0\n",
       "dtype: int64"
      ]
     },
     "execution_count": 14,
     "metadata": {},
     "output_type": "execute_result"
    }
   ],
   "source": [
    "data.isnull().sum()"
   ]
  },
  {
   "cell_type": "code",
   "execution_count": 16,
   "id": "f60cab5d-7f57-4ecd-80cb-85eaae6c1009",
   "metadata": {},
   "outputs": [],
   "source": [
    "data.to_csv('DataSet.csv',index=False)"
   ]
  },
  {
   "cell_type": "code",
   "execution_count": null,
   "id": "45611770-cf8a-475d-96bf-640b1c9da6d9",
   "metadata": {},
   "outputs": [],
   "source": []
  }
 ],
 "metadata": {
  "kernelspec": {
   "display_name": "Python 3",
   "language": "python",
   "name": "python3"
  },
  "language_info": {
   "codemirror_mode": {
    "name": "ipython",
    "version": 3
   },
   "file_extension": ".py",
   "mimetype": "text/x-python",
   "name": "python",
   "nbconvert_exporter": "python",
   "pygments_lexer": "ipython3",
   "version": "3.8.8"
  }
 },
 "nbformat": 4,
 "nbformat_minor": 5
}
