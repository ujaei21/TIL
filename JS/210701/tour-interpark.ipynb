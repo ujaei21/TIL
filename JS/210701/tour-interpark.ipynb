{
 "cells": [
  {
   "cell_type": "code",
   "execution_count": null,
   "id": "arbitrary-diary",
   "metadata": {},
   "outputs": [],
   "source": []
  },
  {
   "cell_type": "code",
   "execution_count": 1,
   "id": "a9155b14-d96e-4ffe-ab41-172d10e04b0f",
   "metadata": {},
   "outputs": [],
   "source": [
    "from selenium import webdriver as wd\n",
    "from bs4 import BeautifulSoup as bs\n",
    "from selenium.webdriver.common.by import By\n",
    "# 명시적 대기를 위해 \n",
    "from selenium.webdriver.support.ui import WebDriverWait\n",
    "from selenium.webdriver.support import expected_conditions as EC\n",
    "\n",
    "import time"
   ]
  },
  {
   "cell_type": "code",
   "execution_count": 2,
   "id": "71755ce0-4479-4ced-83dc-586d0722d5b2",
   "metadata": {},
   "outputs": [],
   "source": [
    "import pymysql as my\n",
    "\n",
    "class DBHelper:\n",
    "    '''\n",
    "    맴버변수 : 커넥션 \n",
    "    '''\n",
    "    conn = None\n",
    "    '''\n",
    "    생성자\n",
    "    '''\n",
    "    def __init__(self):\n",
    "        self.db_init()\n",
    "    '''\n",
    "    맴버 함수\n",
    "    '''\n",
    "    def db_init(self):\n",
    "        self.conn = my.connect(\n",
    "                        host='localhost',\n",
    "                        user='root',\n",
    "                        password='054867',\n",
    "                        db='pythondb',\n",
    "                        charset='utf8',\n",
    "                        cursorclass=my.cursors.DictCursor )\n",
    "    \n",
    "    def db_free(self):\n",
    "        if self.conn:\n",
    "            self.conn.close()\n",
    "\n",
    "    # 검색 키워드 가져오기 => 웹에서 검색\n",
    "    def db_selectKeyword(self):\n",
    "        # 커서 오픈\n",
    "        # with => 닫기를 처리를 자동으로 처리해준다 => I/O 많이 사용\n",
    "        rows = None\n",
    "        with self.conn.cursor() as cursor:\n",
    "            sql  = \"select * from tbl_keyword;\"\n",
    "            cursor.execute(sql)\n",
    "            rows = cursor.fetchall()\n",
    "            print(rows)\n",
    "        return rows\n",
    "        \n",
    "    def db_insertCrawlingData(self, title, price, area, contents, keyword ):\n",
    "        with self.conn.cursor() as cursor:\n",
    "            sql = \"insert into tbl_crawlingdata (title, price, area, contents, keyword) values( %s,%s,%s,%s,%s );\"\n",
    "            cursor.execute(sql, (title, price, area, contents, keyword) )\n",
    "        self.conn.commit()"
   ]
  },
  {
   "cell_type": "code",
   "execution_count": 3,
   "id": "enclosed-speaker",
   "metadata": {},
   "outputs": [],
   "source": [
    "# 상품 정보를 담는 클레스\n",
    "class TourInfo:\n",
    "    # 맴버변수 (실제 컬럼보다는 작게 세팅했음)\n",
    "    title = ''\n",
    "    price = ''\n",
    "    area  = ''\n",
    "    link  = ''\n",
    "    img   = ''\n",
    "    contents = ''\n",
    "    # 생성자\n",
    "    def __init__(self, title, price, area, link, img, contents=None ):\n",
    "        self.title = title\n",
    "        self.price = price\n",
    "        self.area  = area\n",
    "        self.link  = link\n",
    "        self.img   = img\n",
    "        self.contents = contents"
   ]
  },
  {
   "cell_type": "code",
   "execution_count": 4,
   "id": "stunning-upper",
   "metadata": {},
   "outputs": [
    {
     "name": "stderr",
     "output_type": "stream",
     "text": [
      "C:\\Users\\SEC\\anaconda3\\envs\\multi\\lib\\site-packages\\ipykernel_launcher.py:12: DeprecationWarning: 'db' is deprecated, use 'database'\n",
      "  if sys.path[0] == '':\n"
     ]
    }
   ],
   "source": [
    "# 사전에 필요한 정보를 로드 => 디비혹스 쉘, 베치 파일에서 인자로 받아서 세팅\n",
    "db=DBHelper()\n",
    "main_url = 'http://tour.interpark.com/' \n",
    "keyword  = '로마'\n",
    "# 상품 정보를 담는 리스트 (TourInfo 리스트)\n",
    "tour_list = []"
   ]
  },
  {
   "cell_type": "code",
   "execution_count": 5,
   "id": "creative-glass",
   "metadata": {},
   "outputs": [
    {
     "name": "stderr",
     "output_type": "stream",
     "text": [
      "C:\\Users\\SEC\\anaconda3\\envs\\multi\\lib\\site-packages\\ipykernel_launcher.py:2: DeprecationWarning: executable_path has been deprecated, please pass in a Service object\n",
      "  \n"
     ]
    }
   ],
   "source": [
    "# 윈도우용\n",
    "driver = wd.Chrome(executable_path='.\\\\webdriver\\\\chromedriver.exe')"
   ]
  },
  {
   "cell_type": "code",
   "execution_count": 6,
   "id": "6b736ed3-bfc1-4ff5-b024-e2d363f3f7e5",
   "metadata": {},
   "outputs": [],
   "source": [
    "# 사이트 접속 (get)\n",
    "driver.get(main_url)"
   ]
  },
  {
   "cell_type": "code",
   "execution_count": 7,
   "id": "f3ed2971-881a-45c4-896e-5f8a7e2b3620",
   "metadata": {},
   "outputs": [
    {
     "name": "stderr",
     "output_type": "stream",
     "text": [
      "C:\\Users\\SEC\\anaconda3\\envs\\multi\\lib\\site-packages\\selenium\\webdriver\\remote\\webdriver.py:390: UserWarning: find_element_by_* commands are deprecated. Please use find_element() instead\n",
      "  warnings.warn(\"find_element_by_* commands are deprecated. Please use find_element() instead\")\n"
     ]
    }
   ],
   "source": [
    "# 검색창을 찾아서 검색어 입력\n",
    "# id : SearchGNBText\n",
    "driver.find_element_by_id('SearchGNBText').send_keys(keyword)"
   ]
  },
  {
   "cell_type": "code",
   "execution_count": 8,
   "id": "f05986eb-bed9-4c24-83f4-6de9fc0975e3",
   "metadata": {},
   "outputs": [
    {
     "name": "stderr",
     "output_type": "stream",
     "text": [
      "C:\\Users\\SEC\\anaconda3\\envs\\multi\\lib\\site-packages\\selenium\\webdriver\\remote\\webdriver.py:670: UserWarning: find_element_by_* commands are deprecated. Please use find_element() instead\n",
      "  warnings.warn(\"find_element_by_* commands are deprecated. Please use find_element() instead\")\n"
     ]
    }
   ],
   "source": [
    "# 수정할경우 => 뒤에 내용이 붙어버림 => .clear() -> send_keys('내용')\n",
    "# 검색 버튼 클릭\n",
    "time.sleep(2)\n",
    "driver.find_element_by_css_selector('button.search-btn').click()"
   ]
  },
  {
   "cell_type": "code",
   "execution_count": 9,
   "id": "aa447b4c-52c7-41f7-887d-8942bd0bef16",
   "metadata": {},
   "outputs": [],
   "source": [
    "# driver.find_element_by_css_selector('button.recent-btn').click()"
   ]
  },
  {
   "cell_type": "code",
   "execution_count": 9,
   "id": "9bcbdf1b-c5c2-43f1-bdc4-db4875f2e4e0",
   "metadata": {},
   "outputs": [],
   "source": [
    "# 잠시 대기 => 페이가 로드되고 나서 즉각적으로 데이터를 획득 하는 행위는 \n",
    "# 명시적 대기 => 특정 요소가 로케이트(발결된때까지) 대기\n",
    "try:\n",
    "    element = WebDriverWait(driver, 10).until(\n",
    "        # 지정한 한개 요소가 올라면 웨이트 종료\n",
    "        EC.presence_of_element_located( (By.CLASS_NAME, 'oTravelBox') )\n",
    "    )\n",
    "except Exception as e:\n",
    "    print( '오류 발생', e)\n",
    "# 암묵적 대기 => DOM이 다 로드 될때까지 대기 하고 먼저 로드되면 바로 진행\n",
    "# 요소를 찾을 특정 시간 동안 DOM 풀링을 지시 예를 들어 10 초이내 라로 \n",
    "# 발견 되면 진행\n",
    "driver.implicitly_wait( 10 )\n",
    "# 절대기 대기 => time.sleep(10) -> 클라우드 페어(디도스 방어  솔류션)\n",
    "# 더보기 눌러서 => 게시판 진입 "
   ]
  },
  {
   "cell_type": "code",
   "execution_count": 10,
   "id": "6e0333f9-f9d4-4f14-bd47-b4f93752d1e0",
   "metadata": {},
   "outputs": [],
   "source": [
    "driver.find_element_by_css_selector('.oTravelBox>.boxList>.moreBtnWrap>.moreBtn').click()"
   ]
  },
  {
   "cell_type": "code",
   "execution_count": 11,
   "id": "capital-sierra",
   "metadata": {},
   "outputs": [
    {
     "name": "stdout",
     "output_type": "stream",
     "text": [
      "2 페이지 이동\n",
      "썸네임 http://tourimage.interpark.com/product/tour/00161/A30/280/A3015110_2_920.jpg\n",
      "링크 searchModule.OnClickDetail('http://tour.interpark.com/goods/detail/?BaseGoodsCd=A3015110','')\n",
      "상품명 [서유럽 10국 16일] 하나도빠지지않는 완전일주+바티칸하이패스+뮈렌\n"
     ]
    },
    {
     "name": "stderr",
     "output_type": "stream",
     "text": [
      "C:\\Users\\SEC\\anaconda3\\envs\\multi\\lib\\site-packages\\selenium\\webdriver\\remote\\webdriver.py:689: UserWarning: find_elements_by_* commands are deprecated. Please use find_elements() instead\n",
      "  warnings.warn(\"find_elements_by_* commands are deprecated. Please use find_elements() instead\")\n",
      "C:\\Users\\SEC\\anaconda3\\envs\\multi\\lib\\site-packages\\selenium\\webdriver\\remote\\webelement.py:487: UserWarning: find_element_by_* commands are deprecated. Please use find_element() instead\n",
      "  warnings.warn(\"find_element_by_* commands are deprecated. Please use find_element() instead\")\n"
     ]
    },
    {
     "name": "stdout",
     "output_type": "stream",
     "text": [
      "코멘트 서유럽 완전정복! 베네룩스+남프랑스+이태리 일주까지!\n",
      "가격 3,090,000 원~\n",
      "여행 기간 : 14박16일\n",
      "출발 가능 기간 : 2021.07.02~2021.12.31"
     ]
    },
    {
     "name": "stderr",
     "output_type": "stream",
     "text": [
      "C:\\Users\\SEC\\anaconda3\\envs\\multi\\lib\\site-packages\\selenium\\webdriver\\remote\\webelement.py:505: UserWarning: find_elements_by_* commands are deprecated. Please use find_elements() instead\n",
      "  warnings.warn(\"find_elements_by_* commands are deprecated. Please use find_elements() instead\")\n"
     ]
    },
    {
     "name": "stdout",
     "output_type": "stream",
     "text": [
      "\n",
      "평점 8.8\n",
      "56개의 상품평\n",
      "====================================================================================================\n",
      "썸네임 http://tourimage.interpark.com/product/tour/00161/A30/280/A3015084_14_480.jpg\n",
      "링크 searchModule.OnClickDetail('http://tour.interpark.com/goods/detail/?BaseGoodsCd=A3015084','')\n",
      "상품명 [서유럽 4국 12일] 1급UP! 모나코+융프라우 산악열차\n",
      "코멘트 루체른/베른 + 모나코/니스\n",
      "가격 3,540,000 원~\n",
      "여행 기간 : 10박12일\n",
      "출발 가능 기간 : 2021.07.01~2021.12.30\n",
      "평점 9.5\n",
      "48개의 상품평\n",
      "====================================================================================================\n",
      "썸네임 http://tourimage.interpark.com/product/tour/00161/A30/280/A3015996_7_217.jpg\n",
      "링크 searchModule.OnClickDetail('http://tour.interpark.com/goods/detail/?BaseGoodsCd=A3015996','')\n",
      "상품명 [서유럽4국10일]런던+옥스포드/윈저 내부관람+리기정상식\n",
      "코멘트 영국2DAY 로 깊이있게\n",
      "가격 2,050,000 원~\n",
      "여행 기간 : 8박10일\n",
      "출발 가능 기간 : 2021.07.01~2021.12.30\n",
      "평점 9.2\n",
      "15개의 상품평\n",
      "====================================================================================================\n",
      "썸네임 http://tourimage.interpark.com/product/tour/00161/A30/280/A3013164_2_283.jpg\n",
      "링크 searchModule.OnClickDetail('http://tour.interpark.com/goods/detail/?BaseGoodsCd=A3013164','')\n",
      "상품명 [♥프랑스/스위스/이탈리아/오스트리아/독일 10일]\n",
      "코멘트 ■ 실속 서유럽 5국 핵심도시!\n",
      "가격 2,150,000 원~\n",
      "여행 기간 : 8박10일\n",
      "출발 가능 기간 : 2021.07.02~2021.12.31\n",
      "평점 9.6\n",
      "13개의 상품평\n",
      "====================================================================================================\n",
      "썸네임 http://tourimage.interpark.com/product/tour/00161/A30/280/A3016077_5_437.jpg\n",
      "링크 searchModule.OnClickDetail('http://tour.interpark.com/goods/detail/?BaseGoodsCd=A3016077','')\n",
      "상품명 [스위스/이태리9일]1급호텔+융프라우+정상식사\n",
      "코멘트 국적기직항/전일정1급/VIP 전용차량\n",
      "가격 2,890,000 원~\n",
      "여행 기간 : 7박9일\n",
      "출발 가능 기간 : 2021.07.01~2021.12.30\n",
      "평점 8.4\n",
      "10개의 상품평\n",
      "====================================================================================================\n",
      "썸네임 http://tourimage.interpark.com/product/tour/00161/A30/280/A3013522_22_970.jpg\n",
      "링크 searchModule.OnClickDetail('http://tour.interpark.com/goods/detail/?BaseGoodsCd=A3013522','')\n",
      "상품명 [서유럽 4국 12일] 피렌체 더몰+옥스포드 2DAY\n",
      "코멘트 산들의 왕 융프라우+산들의 여왕 리기산\n",
      "가격 2,600,000 원~\n",
      "여행 기간 : 10박12일\n",
      "출발 가능 기간 : 2021.07.01~2021.12.30\n",
      "평점 9.6\n",
      "8개의 상품평\n",
      "====================================================================================================\n",
      "썸네임 http://tourimage.interpark.com/product/tour/00161/A30/280/A3014840_4_250.jpg\n",
      "링크 searchModule.OnClickDetail('http://tour.interpark.com/goods/detail/?BaseGoodsCd=A3014840','')\n",
      "상품명 [서유럽 3국 9일] 뮈렌+베르사유+폼페이_아시아나직항\n",
      "코멘트 ＃국적기 ＃스위스뮈렌 ＃실속특가\n",
      "가격 2,690,000 원~\n",
      "여행 기간 : 7박9일\n",
      "출발 가능 기간 : 2021.07.03~2021.12.26\n",
      "평점 9.5\n",
      "7개의 상품평\n",
      "====================================================================================================\n",
      "썸네임 http://tourimage.interpark.com/product/tour/00161/A30/280/A3015825_1_530.jpg\n",
      "링크 searchModule.OnClickDetail('http://tour.interpark.com/goods/detail/?BaseGoodsCd=A3015825','')\n",
      "상품명 [이태리일주 9일]THE 여유&꼼꼼하게 아말피/포지타노_아시아나\n",
      "코멘트 이태리 남부도시 풍성하게 즐기기\n",
      "가격 2,400,000 원~\n",
      "여행 기간 : 7박9일\n",
      "출발 가능 기간 : 2021.07.02~2021.12.31\n",
      "평점 9.3\n",
      "5개의 상품평\n",
      "====================================================================================================\n",
      "썸네임 http://tourimage.interpark.com/product/tour/00161/A30/280/A3014588_8_110.jpg\n",
      "링크 searchModule.OnClickDetail('http://tour.interpark.com/goods/detail/?BaseGoodsCd=A3014588','')\n",
      "상품명 [이태리일주+알프스9일] 세계문화유산 돌로미티/친퀘테레_아시아나 직항\n",
      "코멘트 알프스산맥 유네스코문화유산 돌로미티/편안한 직항!\n",
      "가격 2,500,000 원~\n",
      "여행 기간 : 7박9일\n",
      "출발 가능 기간 : 2021.07.01~2021.11.28\n",
      "평점 8.1\n",
      "4개의 상품평\n",
      "====================================================================================================\n",
      "썸네임 http://tourimage.interpark.com/product/tour/00161/A30/280/A3016915_4_123.jpg\n",
      "링크 searchModule.OnClickDetail('http://tour.interpark.com/goods/detail/?BaseGoodsCd=A3016915','')\n",
      "상품명 [서유럽 3국10일] 알자스마을+융프라우+호텔 UP\n",
      "코멘트 ■ 효도여행/여유로운/인기상품\n",
      "가격 2,150,000 원~\n",
      "여행 기간 : 8박10일\n",
      "출발 가능 기간 : 2021.07.06~2021.12.28\n",
      "평점 9.8\n",
      "3개의 상품평\n",
      "====================================================================================================\n",
      "[<__main__.TourInfo object at 0x000002466851FC08>, <__main__.TourInfo object at 0x00000246684F1408>, <__main__.TourInfo object at 0x0000024668382348>, <__main__.TourInfo object at 0x000002466850E448>, <__main__.TourInfo object at 0x0000024668531248>, <__main__.TourInfo object at 0x00000246684F41C8>, <__main__.TourInfo object at 0x000002466852BE48>, <__main__.TourInfo object at 0x0000024668382388>, <__main__.TourInfo object at 0x000002466852B908>, <__main__.TourInfo object at 0x00000246684F1448>] 10\n"
     ]
    }
   ],
   "source": [
    "# searchModule.SetCategoryList(1, '') 스크립트 실행\n",
    "# 16은 임시값, 게시물을 넘어갔을때 현상을 확인차\n",
    "for page in range(2, 3): # 2):\n",
    "    try:\n",
    "        # 자바스크립트 구동하기\n",
    "        driver.execute_script(\"searchModule.SetCategoryList(%s, '')\" % page)\n",
    "        time.sleep(2)\n",
    "        print(\"%s 페이지 이동\" % page)\n",
    "        #############################################################\n",
    "        # 여러 사이트에서 정보를 수집할 경우 공통 정보 정의 단계 필요\n",
    "        # 상품명, 코멘트, 기간1, 기간2, 가격, 평점, 썸네일, 링크(상품상세정보)\n",
    "        boxItems = driver.find_elements_by_css_selector('.oTravelBox>.boxList>li')\n",
    "        # 상품 하나 하나 접근\n",
    "        for li in boxItems:\n",
    "            # 이미지를 링크값을 사용할것인가? \n",
    "            # 직접 다운로드 해서 우리 서버에 업로드(ftp) 할것인가?\n",
    "            print( '썸네임', li.find_element_by_css_selector('img').get_attribute('src') )\n",
    "            print( '링크', li.find_element_by_css_selector('a').get_attribute('onclick') )\n",
    "            print( '상품명', li.find_element_by_css_selector('h5.proTit').text )\n",
    "            print( '코멘트', li.find_element_by_css_selector('.proSub').text )\n",
    "            print( '가격',   li.find_element_by_css_selector('.proPrice').text )\n",
    "            area = ''\n",
    "            for info in li.find_elements_by_css_selector('.info-row .proInfo'):\n",
    "                print(  info.text )\n",
    "            print('='*100)\n",
    "            # 데이터 모음\n",
    "            # li.find_elements_by_css_selector('.info-row .proInfo')[1].text\n",
    "            # 데이터가 부족하거나 없을수도 있으므로 직접 인덱스로 표현은 위험성이 있음\n",
    "            obj = TourInfo(  \n",
    "                li.find_element_by_css_selector('h5.proTit').text,\n",
    "                li.find_element_by_css_selector('.proPrice').text,\n",
    "                li.find_elements_by_css_selector('.info-row .proInfo')[1].text,\n",
    "                li.find_element_by_css_selector('a').get_attribute('onclick'),\n",
    "                li.find_element_by_css_selector('img').get_attribute('src')\n",
    "            )\n",
    "            tour_list.append( obj )\n",
    "    except Exception as e1:\n",
    "        print( '오류', e1 )\n",
    "\n",
    "print( tour_list, len(tour_list) )\n"
   ]
  },
  {
   "cell_type": "code",
   "execution_count": 12,
   "id": "bb4db889-27de-498b-b425-a21d5dce36e2",
   "metadata": {},
   "outputs": [
    {
     "name": "stdout",
     "output_type": "stream",
     "text": [
      "<class '__main__.TourInfo'>\n",
      "<class 'bs4.element.ResultSet'> 1 <class 'list'>\n",
      "test\n",
      "<class '__main__.TourInfo'>\n",
      "<class 'bs4.element.ResultSet'> 1 <class 'list'>\n",
      "test\n",
      "<class '__main__.TourInfo'>\n",
      "<class 'bs4.element.ResultSet'> 1 <class 'list'>\n",
      "test\n",
      "<class '__main__.TourInfo'>\n",
      "<class 'bs4.element.ResultSet'> 1 <class 'list'>\n",
      "test\n",
      "<class '__main__.TourInfo'>\n",
      "<class 'bs4.element.ResultSet'> 1 <class 'list'>\n",
      "test\n",
      "<class '__main__.TourInfo'>\n",
      "<class 'bs4.element.ResultSet'> 1 <class 'list'>\n",
      "test\n",
      "<class '__main__.TourInfo'>\n",
      "<class 'bs4.element.ResultSet'> 1 <class 'list'>\n",
      "test\n",
      "<class '__main__.TourInfo'>\n",
      "<class 'bs4.element.ResultSet'> 1 <class 'list'>\n",
      "test\n",
      "<class '__main__.TourInfo'>\n",
      "<class 'bs4.element.ResultSet'> 1 <class 'list'>\n",
      "test\n",
      "<class '__main__.TourInfo'>\n",
      "<class 'bs4.element.ResultSet'> 1 <class 'list'>\n",
      "test\n"
     ]
    }
   ],
   "source": [
    "for tour in tour_list:\n",
    "    # tour => TourInfo\n",
    "    print( type(tour) )\n",
    "    # 링크 데이터에서 실데이터 획득\n",
    "    # 분해\n",
    "    arr = tour.link.split(',')\n",
    "    if arr:\n",
    "        # 대체\n",
    "        link = arr[0].replace('searchModule.OnClickDetail(','')\n",
    "        # 슬라이싱 => 앞에 ', 뒤에 ' 제거\n",
    "        detail_url = link[1:-1]\n",
    "        # 상세 페이지 이동 : URL 값이 완성된 형태인지 확인 (http~)\n",
    "        driver.get( detail_url )\n",
    "        time.sleep(2)\n",
    "        # pip install bs4\n",
    "        # 혖재 페이지를 beautifulsoup 의 DOM으로 구성\n",
    "        soup = bs( driver.page_source, 'html.parser')\n",
    "        # 현제 상세 정보 페이지에서 스케줄 정보 획득\n",
    "        data = soup.select('.tip-cover')\n",
    "        print( type(data), len(data), type(data[0].contents)  )\n",
    "        # \n",
    "        # 데이터 sum\n",
    "        data[0].contents = 'test' # me\n",
    "        content_final = ''\n",
    "        for c in data[0].contents:\n",
    "            content_final += str(c)\n",
    "        \n",
    "        # html 콘첸츠 데이터 전처리 (디비에 입력 가능토록)\n",
    "        import re\n",
    "        content_final   = re.sub(\"'\", '\"', content_final)\n",
    "        content_final   = re.sub(re.compile(r'\\r\\n|\\r|\\n|\\n\\r+'), '', content_final)\n",
    "\n",
    "        print( content_final )\n",
    "        # 콘텐츠 내용에 따라 전처리 => data[0].contents\n",
    "        db.db_insertCrawlingData(\n",
    "            tour.title,\n",
    "            tour.price[:-1],\n",
    "            tour.area.replace('출발 가능 기간 : ',''),\n",
    "            content_final,\n",
    "            keyword\n",
    "        )"
   ]
  },
  {
   "cell_type": "code",
   "execution_count": 13,
   "id": "tough-treat",
   "metadata": {},
   "outputs": [],
   "source": [
    "driver.close()"
   ]
  },
  {
   "cell_type": "code",
   "execution_count": 13,
   "id": "ongoing-transfer",
   "metadata": {},
   "outputs": [],
   "source": [
    "# import sys \n",
    "\n",
    "# sys.exit()"
   ]
  },
  {
   "cell_type": "code",
   "execution_count": 14,
   "id": "traditional-special",
   "metadata": {},
   "outputs": [
    {
     "name": "stdout",
     "output_type": "stream",
     "text": [
      "()\n",
      "()\n",
      "None\n"
     ]
    },
    {
     "name": "stderr",
     "output_type": "stream",
     "text": [
      "C:\\Users\\SEC\\anaconda3\\envs\\multi\\lib\\site-packages\\ipykernel_launcher.py:12: DeprecationWarning: 'db' is deprecated, use 'database'\n",
      "  if sys.path[0] == '':\n"
     ]
    }
   ],
   "source": [
    "# DB test        \n",
    "if __name__=='__main__':\n",
    "    db = DBHelper()\n",
    "    print( db.db_selectKeyword() )\n",
    "    print( db.db_insertCrawlingData('1','2','3','4','5') )\n",
    "    db.db_free()"
   ]
  },
  {
   "cell_type": "markdown",
   "id": "0b09fa43-0608-48d1-bda6-972086e04ef7",
   "metadata": {},
   "source": [
    "### data"
   ]
  },
  {
   "cell_type": "code",
   "execution_count": 18,
   "id": "55d1c8e7-4e84-4cab-92af-947bf84979e9",
   "metadata": {},
   "outputs": [
    {
     "data": {
      "text/plain": [
       "'출발 가능 기간 : 2021.07.01~2021.12.30'"
      ]
     },
     "execution_count": 18,
     "metadata": {},
     "output_type": "execute_result"
    }
   ],
   "source": [
    "tour_list[0].area"
   ]
  },
  {
   "cell_type": "code",
   "execution_count": 21,
   "id": "2ed7d10a-9c2a-4a04-ade5-c7cbf0c5bc48",
   "metadata": {},
   "outputs": [],
   "source": [
    "arr=tour_list[0].link.split(',')"
   ]
  },
  {
   "cell_type": "code",
   "execution_count": 22,
   "id": "b86432dc-783c-42d2-9cf3-56fde8572aef",
   "metadata": {},
   "outputs": [
    {
     "data": {
      "text/plain": [
       "2"
      ]
     },
     "execution_count": 22,
     "metadata": {},
     "output_type": "execute_result"
    }
   ],
   "source": [
    "len(arr)"
   ]
  },
  {
   "cell_type": "code",
   "execution_count": 26,
   "id": "af9d0eb8-d95f-47cc-aa1c-dee28107e867",
   "metadata": {},
   "outputs": [],
   "source": [
    "link=arr[0].replace(\"searchModule.OnClickDetail('\",'')"
   ]
  },
  {
   "cell_type": "code",
   "execution_count": 28,
   "id": "eb76fa31-c845-42c6-981b-1e0a9de17f9f",
   "metadata": {},
   "outputs": [],
   "source": [
    "detail_url=link[0:-1]"
   ]
  },
  {
   "cell_type": "code",
   "execution_count": 30,
   "id": "5adc05cb-e2d9-4fb1-8969-286f58a0b955",
   "metadata": {},
   "outputs": [
    {
     "data": {
      "text/plain": [
       "'http://tour.interpark.com/goods/detail/?BaseGoodsCd=A3015008'"
      ]
     },
     "execution_count": 30,
     "metadata": {},
     "output_type": "execute_result"
    }
   ],
   "source": [
    "detail_url"
   ]
  },
  {
   "cell_type": "code",
   "execution_count": 33,
   "id": "62412bd2-94a0-4c8a-b58f-68908e61e4e0",
   "metadata": {},
   "outputs": [],
   "source": [
    "driver.get(detail_url)"
   ]
  },
  {
   "cell_type": "code",
   "execution_count": 36,
   "id": "ad471c76-eeaa-4d25-87b1-702332da1753",
   "metadata": {},
   "outputs": [],
   "source": [
    "soup=bs(driver.page_source,'html.parser')"
   ]
  },
  {
   "cell_type": "code",
   "execution_count": 37,
   "id": "f2295173-3945-411a-8370-42b7522ad797",
   "metadata": {},
   "outputs": [],
   "source": [
    "data=soup.select('.tip-cover')"
   ]
  },
  {
   "cell_type": "code",
   "execution_count": 38,
   "id": "d28b0904-4327-4194-8992-7df1c1aa181d",
   "metadata": {},
   "outputs": [],
   "source": [
    "driver.close()"
   ]
  },
  {
   "cell_type": "code",
   "execution_count": 39,
   "id": "f1ed8ab5-4ec5-4a2a-a953-2e13f087a42d",
   "metadata": {},
   "outputs": [
    {
     "name": "stdout",
     "output_type": "stream",
     "text": [
      "hello! \n",
      "\n",
      "hello!\n",
      "hello!\n",
      "\n"
     ]
    }
   ],
   "source": [
    "print('hello! \\n')\n",
    "print('hello!\\r')\n",
    "print('hello!\\r\\n')"
   ]
  },
  {
   "cell_type": "code",
   "execution_count": 46,
   "id": "bc13ab77-c393-424f-8802-ca5f57619c78",
   "metadata": {},
   "outputs": [],
   "source": [
    "# contend_final = data[0].contents"
   ]
  },
  {
   "cell_type": "code",
   "execution_count": 41,
   "id": "25e20a49-3db3-49c8-a524-795abe071607",
   "metadata": {},
   "outputs": [],
   "source": [
    "# import re"
   ]
  },
  {
   "cell_type": "code",
   "execution_count": 47,
   "id": "b722ac63-4c53-439c-b9bc-037934043459",
   "metadata": {},
   "outputs": [
    {
     "ename": "TypeError",
     "evalue": "expected string or bytes-like object",
     "output_type": "error",
     "traceback": [
      "\u001b[1;31m---------------------------------------------------------------------------\u001b[0m",
      "\u001b[1;31mTypeError\u001b[0m                                 Traceback (most recent call last)",
      "\u001b[1;32m<ipython-input-47-ca87b0251df2>\u001b[0m in \u001b[0;36m<module>\u001b[1;34m\u001b[0m\n\u001b[1;32m----> 1\u001b[1;33m \u001b[0mcontend_final\u001b[0m \u001b[1;33m=\u001b[0m \u001b[0mre\u001b[0m\u001b[1;33m.\u001b[0m\u001b[0msub\u001b[0m\u001b[1;33m(\u001b[0m\u001b[1;34m\"''\"\u001b[0m\u001b[1;33m,\u001b[0m\u001b[1;34m'\"\"'\u001b[0m\u001b[1;33m,\u001b[0m\u001b[0mcontend_final\u001b[0m\u001b[1;33m)\u001b[0m\u001b[1;33m\u001b[0m\u001b[1;33m\u001b[0m\u001b[0m\n\u001b[0m\u001b[0;32m      2\u001b[0m \u001b[0mcontend_final\u001b[0m \u001b[1;33m=\u001b[0m \u001b[0mre\u001b[0m\u001b[1;33m.\u001b[0m\u001b[0msub\u001b[0m\u001b[1;33m(\u001b[0m\u001b[0mre\u001b[0m\u001b[1;33m.\u001b[0m\u001b[0mcompile\u001b[0m\u001b[1;33m(\u001b[0m\u001b[1;34mr'\\r\\n|\\r|\\n|\\n\\r+'\u001b[0m\u001b[1;33m)\u001b[0m\u001b[1;33m,\u001b[0m\u001b[1;34m''\u001b[0m\u001b[1;33m,\u001b[0m\u001b[0mcontend_final\u001b[0m\u001b[1;33m)\u001b[0m\u001b[1;33m\u001b[0m\u001b[1;33m\u001b[0m\u001b[0m\n",
      "\u001b[1;32m~\\anaconda3\\envs\\multi\\lib\\re.py\u001b[0m in \u001b[0;36msub\u001b[1;34m(pattern, repl, string, count, flags)\u001b[0m\n\u001b[0;32m    190\u001b[0m     \u001b[0ma\u001b[0m \u001b[0mcallable\u001b[0m\u001b[1;33m,\u001b[0m \u001b[0mit\u001b[0m\u001b[0;31m'\u001b[0m\u001b[0ms\u001b[0m \u001b[0mpassed\u001b[0m \u001b[0mthe\u001b[0m \u001b[0mMatch\u001b[0m \u001b[0mobject\u001b[0m \u001b[1;32mand\u001b[0m \u001b[0mmust\u001b[0m \u001b[1;32mreturn\u001b[0m\u001b[1;33m\u001b[0m\u001b[1;33m\u001b[0m\u001b[0m\n\u001b[0;32m    191\u001b[0m     a replacement string to be used.\"\"\"\n\u001b[1;32m--> 192\u001b[1;33m     \u001b[1;32mreturn\u001b[0m \u001b[0m_compile\u001b[0m\u001b[1;33m(\u001b[0m\u001b[0mpattern\u001b[0m\u001b[1;33m,\u001b[0m \u001b[0mflags\u001b[0m\u001b[1;33m)\u001b[0m\u001b[1;33m.\u001b[0m\u001b[0msub\u001b[0m\u001b[1;33m(\u001b[0m\u001b[0mrepl\u001b[0m\u001b[1;33m,\u001b[0m \u001b[0mstring\u001b[0m\u001b[1;33m,\u001b[0m \u001b[0mcount\u001b[0m\u001b[1;33m)\u001b[0m\u001b[1;33m\u001b[0m\u001b[1;33m\u001b[0m\u001b[0m\n\u001b[0m\u001b[0;32m    193\u001b[0m \u001b[1;33m\u001b[0m\u001b[0m\n\u001b[0;32m    194\u001b[0m \u001b[1;32mdef\u001b[0m \u001b[0msubn\u001b[0m\u001b[1;33m(\u001b[0m\u001b[0mpattern\u001b[0m\u001b[1;33m,\u001b[0m \u001b[0mrepl\u001b[0m\u001b[1;33m,\u001b[0m \u001b[0mstring\u001b[0m\u001b[1;33m,\u001b[0m \u001b[0mcount\u001b[0m\u001b[1;33m=\u001b[0m\u001b[1;36m0\u001b[0m\u001b[1;33m,\u001b[0m \u001b[0mflags\u001b[0m\u001b[1;33m=\u001b[0m\u001b[1;36m0\u001b[0m\u001b[1;33m)\u001b[0m\u001b[1;33m:\u001b[0m\u001b[1;33m\u001b[0m\u001b[1;33m\u001b[0m\u001b[0m\n",
      "\u001b[1;31mTypeError\u001b[0m: expected string or bytes-like object"
     ]
    }
   ],
   "source": [
    "# contend_final = re.sub(\"''\",'\"\"',contend_final)\n",
    "# contend_final = re.sub(re.compile(r'\\r\\n|\\r|\\n|\\n\\r+'),'',contend_final)"
   ]
  },
  {
   "cell_type": "code",
   "execution_count": null,
   "id": "a1340eef-5bf4-4fee-995d-8a8488ce918b",
   "metadata": {},
   "outputs": [],
   "source": [
    "# for tour in tour_list:DD\n",
    "#     # tour => TourInfo\n",
    "#     print( type(tour) )\n",
    "#     # 링크 데이터에서 실데이터 획득\n",
    "#     # 분해\n",
    "#     arr = tour.link.split(',')\n",
    "#     if arr:\n",
    "#         # 대체\n",
    "#         link = arr[0].replace('searchModule.OnClickDetail(','')\n",
    "#         # 슬라이싱 => 앞에 ', 뒤에 ' 제거\n",
    "#         detail_url = link[1:-1]\n",
    "#         # 상세 페이지 이동 : URL 값이 완성된 형태인지 확인 (http~)\n",
    "#         driver.get( detail_url )\n",
    "#         time.sleep(2)\n",
    "#         # pip install bs4\n",
    "#         # 혖재 페이지를 beautifulsoup 의 DOM으로 구성\n",
    "#         soup = bs( driver.page_source, 'html.parser')\n",
    "#         # 현제 상세 정보 페이지에서 스케줄 정보 획득\n",
    "#         data = soup.select('.tip-cover')\n",
    "#         print( type(data), len(data), type(data[0].contents)  )\n",
    "#         # \n",
    "#         # 데이터 sum\n",
    "#         data[0].contents = 'test' # me\n",
    "#         content_final = ''\n",
    "#         for c in data[0].contents:\n",
    "#             content_final += str(c)\n",
    "        \n",
    "#         # html 콘첸츠 데이터 전처리 (디비에 입력 가능토록)\n",
    "#         import re\n",
    "#         content_final   = re.sub(\"'\", '\"', content_final)\n",
    "#         content_final   = re.sub(re.compile(r'\\r\\n|\\r|\\n|\\n\\r+'), '', content_final)\n",
    "\n",
    "#         print( content_final )\n",
    "#         # 콘텐츠 내용에 따라 전처리 => data[0].contents\n",
    "#         db.db_insertCrawlingData(\n",
    "#             tour.title,\n",
    "#             tour.price[:-1],\n",
    "#             tour.area.replace('출발 가능 기간 : ',''),\n",
    "#             content_final,\n",
    "#             keyword\n",
    "#         )"
   ]
  }
 ],
 "metadata": {
  "kernelspec": {
   "display_name": "Python Multi",
   "language": "python",
   "name": "multi"
  },
  "language_info": {
   "codemirror_mode": {
    "name": "ipython",
    "version": 3
   },
   "file_extension": ".py",
   "mimetype": "text/x-python",
   "name": "python",
   "nbconvert_exporter": "python",
   "pygments_lexer": "ipython3",
   "version": "3.7.6"
  }
 },
 "nbformat": 4,
 "nbformat_minor": 5
}
