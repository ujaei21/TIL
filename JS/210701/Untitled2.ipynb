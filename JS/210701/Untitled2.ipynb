{
 "cells": [
  {
   "cell_type": "code",
   "execution_count": 1,
   "id": "109ddb64-79b1-4c6e-8dba-3ec601961c4b",
   "metadata": {},
   "outputs": [],
   "source": [
    "from selenium import webdriver as wd\n",
    "from bs4 import BeautifulSoup as bs\n",
    "\n",
    "import time"
   ]
  },
  {
   "cell_type": "code",
   "execution_count": 2,
   "id": "c078e675-ea52-4d56-88c0-38b2145dfac4",
   "metadata": {},
   "outputs": [],
   "source": [
    "url='https://www.naver.com/'"
   ]
  },
  {
   "cell_type": "code",
   "execution_count": 3,
   "id": "088682ca-c9cd-45f0-9ba4-38daf1b1d9a5",
   "metadata": {},
   "outputs": [
    {
     "name": "stderr",
     "output_type": "stream",
     "text": [
      "C:\\Users\\SEC\\anaconda3\\envs\\multi\\lib\\site-packages\\ipykernel_launcher.py:1: DeprecationWarning: executable_path has been deprecated, please pass in a Service object\n",
      "  \"\"\"Entry point for launching an IPython kernel.\n"
     ]
    }
   ],
   "source": [
    "driver = wd.Chrome(executable_path='.\\\\webdriver\\\\chromedriver.exe')"
   ]
  },
  {
   "cell_type": "code",
   "execution_count": 4,
   "id": "9ec261e3-27fc-4733-afaf-ca8caeb73073",
   "metadata": {},
   "outputs": [],
   "source": [
    "driver.get(url)"
   ]
  },
  {
   "cell_type": "code",
   "execution_count": 5,
   "id": "76d20ac0-3c40-4185-b3c9-3e3b46ce2304",
   "metadata": {},
   "outputs": [],
   "source": [
    "soup = bs( driver.page_source, 'html.parser')"
   ]
  },
  {
   "cell_type": "code",
   "execution_count": 6,
   "id": "f6a48198-f5a9-4f98-8281-42fa1777bc48",
   "metadata": {},
   "outputs": [
    {
     "name": "stdout",
     "output_type": "stream",
     "text": [
      "<class 'bs4.element.ResultSet'> 1 <class 'list'>\n"
     ]
    }
   ],
   "source": [
    "data = soup.select('body')\n",
    "print( type(data), len(data), type(data[0].contents)  )"
   ]
  },
  {
   "cell_type": "code",
   "execution_count": 7,
   "id": "944a00a8-895a-43b4-b81f-89a176039fd2",
   "metadata": {},
   "outputs": [],
   "source": [
    "driver.close()"
   ]
  },
  {
   "cell_type": "code",
   "execution_count": null,
   "id": "5ad10ba4-25d1-4fb9-a780-e4cc86ada3f6",
   "metadata": {},
   "outputs": [],
   "source": []
  }
 ],
 "metadata": {
  "kernelspec": {
   "display_name": "Python Multi",
   "language": "python",
   "name": "multi"
  },
  "language_info": {
   "codemirror_mode": {
    "name": "ipython",
    "version": 3
   },
   "file_extension": ".py",
   "mimetype": "text/x-python",
   "name": "python",
   "nbconvert_exporter": "python",
   "pygments_lexer": "ipython3",
   "version": "3.7.6"
  }
 },
 "nbformat": 4,
 "nbformat_minor": 5
}
