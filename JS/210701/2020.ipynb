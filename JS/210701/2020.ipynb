{
 "cells": [
  {
   "cell_type": "code",
   "execution_count": 1,
   "id": "757c2f9a-d4ff-434e-a76c-0dd7b288c1a3",
   "metadata": {},
   "outputs": [],
   "source": [
    "import pandas as pd"
   ]
  },
  {
   "cell_type": "code",
   "execution_count": 2,
   "id": "3616e7bf-72b4-4e52-a497-f02353ccdab3",
   "metadata": {},
   "outputs": [],
   "source": [
    "data1=pd.read_csv('C:/Users/SEC/OneDrive/바탕 화면/air/AIR_HOUR_202001.csv')\n",
    "data2=pd.read_csv('C:/Users/SEC/OneDrive/바탕 화면/air/AIR_HOUR_202002.csv')\n",
    "data3=pd.read_csv('C:/Users/SEC/OneDrive/바탕 화면/air/AIR_HOUR_202003.csv')\n",
    "data4=pd.read_csv('C:/Users/SEC/OneDrive/바탕 화면/air/AIR_HOUR_202004.csv')\n",
    "data5=pd.read_csv('C:/Users/SEC/OneDrive/바탕 화면/air/AIR_HOUR_202005.csv')\n",
    "data6=pd.read_csv('C:/Users/SEC/OneDrive/바탕 화면/air/AIR_HOUR_202006.csv')\n",
    "data7=pd.read_csv('C:/Users/SEC/OneDrive/바탕 화면/air/AIR_HOUR_202007.csv')\n",
    "data8=pd.read_csv('C:/Users/SEC/OneDrive/바탕 화면/air/AIR_HOUR_202008.csv')\n",
    "data9=pd.read_csv('C:/Users/SEC/OneDrive/바탕 화면/air/AIR_HOUR_202009.csv')\n",
    "data10=pd.read_csv('C:/Users/SEC/OneDrive/바탕 화면/air/AIR_HOUR_202010.csv')\n",
    "data11=pd.read_csv('C:/Users/SEC/OneDrive/바탕 화면/air/AIR_HOUR_202011.csv')\n",
    "data12=pd.read_csv('C:/Users/SEC/OneDrive/바탕 화면/air/AIR_HOUR_202012.csv')"
   ]
  },
  {
   "cell_type": "code",
   "execution_count": 3,
   "id": "8feca743-7bf3-4486-a4ca-99bbd228e77d",
   "metadata": {},
   "outputs": [],
   "source": [
    "data=data1.append(data2)"
   ]
  },
  {
   "cell_type": "code",
   "execution_count": 4,
   "id": "440a11bf-31ef-48b6-83fb-e4e5a680269a",
   "metadata": {},
   "outputs": [],
   "source": [
    "data=data.append(data3)"
   ]
  },
  {
   "cell_type": "code",
   "execution_count": 5,
   "id": "f5fbe364-28d1-4678-ac48-2a34c0a8ca5a",
   "metadata": {},
   "outputs": [],
   "source": [
    "data=data.append(data4)"
   ]
  },
  {
   "cell_type": "code",
   "execution_count": 6,
   "id": "3a3abf8c-50fc-4365-96f7-267f8c2c4bc6",
   "metadata": {},
   "outputs": [],
   "source": [
    "data=data.append(data5)"
   ]
  },
  {
   "cell_type": "code",
   "execution_count": 7,
   "id": "edc52bb9-2013-49b3-b087-8b9acd220d60",
   "metadata": {},
   "outputs": [],
   "source": [
    "data=data.append(data6)"
   ]
  },
  {
   "cell_type": "code",
   "execution_count": 8,
   "id": "b7d464d3-4388-4fd6-81e9-784501cc05ea",
   "metadata": {},
   "outputs": [],
   "source": [
    "data=data.append(data7)"
   ]
  },
  {
   "cell_type": "code",
   "execution_count": 9,
   "id": "ff94dbef-3d60-44db-b3ea-c93d026619eb",
   "metadata": {},
   "outputs": [],
   "source": [
    "data=data.append(data8)"
   ]
  },
  {
   "cell_type": "code",
   "execution_count": 10,
   "id": "b0821adf-1317-4e47-979a-25a573702206",
   "metadata": {},
   "outputs": [],
   "source": [
    "data=data.append(data9)"
   ]
  },
  {
   "cell_type": "code",
   "execution_count": 11,
   "id": "6689c0f8-433b-40ce-a4c7-f9cb91e948e6",
   "metadata": {},
   "outputs": [],
   "source": [
    "data=data.append(data10)"
   ]
  },
  {
   "cell_type": "code",
   "execution_count": 12,
   "id": "db8f99e9-5be1-4ce0-bce4-647633c56244",
   "metadata": {},
   "outputs": [],
   "source": [
    "data=data.append(data11)"
   ]
  },
  {
   "cell_type": "code",
   "execution_count": 13,
   "id": "e9c49a98-e571-4656-a95f-4c5e66a995e7",
   "metadata": {},
   "outputs": [],
   "source": [
    "data=data.append(data12)"
   ]
  },
  {
   "cell_type": "code",
   "execution_count": 14,
   "id": "a0902102-5b93-4c0d-b0dc-ece7cb11e7c8",
   "metadata": {},
   "outputs": [
    {
     "data": {
      "text/html": [
       "<div>\n",
       "<style scoped>\n",
       "    .dataframe tbody tr th:only-of-type {\n",
       "        vertical-align: middle;\n",
       "    }\n",
       "\n",
       "    .dataframe tbody tr th {\n",
       "        vertical-align: top;\n",
       "    }\n",
       "\n",
       "    .dataframe thead th {\n",
       "        text-align: right;\n",
       "    }\n",
       "</style>\n",
       "<table border=\"1\" class=\"dataframe\">\n",
       "  <thead>\n",
       "    <tr style=\"text-align: right;\">\n",
       "      <th></th>\n",
       "      <th>�����Ͻ�</th>\n",
       "      <th>������ �ڵ�</th>\n",
       "      <th>�����׸� �ڵ�</th>\n",
       "      <th>��հ�</th>\n",
       "      <th>������ ����</th>\n",
       "      <th>���� �����ʰ� ����</th>\n",
       "      <th>����ü �����ʰ� ����</th>\n",
       "      <th>�����Ͻ�.1</th>\n",
       "    </tr>\n",
       "  </thead>\n",
       "  <tbody>\n",
       "    <tr>\n",
       "      <th>0</th>\n",
       "      <td>20200131230000</td>\n",
       "      <td>117</td>\n",
       "      <td>1</td>\n",
       "      <td>0.005</td>\n",
       "      <td>0</td>\n",
       "      <td>0</td>\n",
       "      <td>0</td>\n",
       "      <td>20200131235849</td>\n",
       "    </tr>\n",
       "    <tr>\n",
       "      <th>1</th>\n",
       "      <td>20200131230000</td>\n",
       "      <td>104</td>\n",
       "      <td>9</td>\n",
       "      <td>35.000</td>\n",
       "      <td>0</td>\n",
       "      <td>0</td>\n",
       "      <td>0</td>\n",
       "      <td>20200201000015</td>\n",
       "    </tr>\n",
       "    <tr>\n",
       "      <th>2</th>\n",
       "      <td>20200131230000</td>\n",
       "      <td>104</td>\n",
       "      <td>8</td>\n",
       "      <td>47.000</td>\n",
       "      <td>0</td>\n",
       "      <td>0</td>\n",
       "      <td>0</td>\n",
       "      <td>20200201000015</td>\n",
       "    </tr>\n",
       "    <tr>\n",
       "      <th>3</th>\n",
       "      <td>20200131230000</td>\n",
       "      <td>101</td>\n",
       "      <td>3</td>\n",
       "      <td>0.048</td>\n",
       "      <td>0</td>\n",
       "      <td>0</td>\n",
       "      <td>0</td>\n",
       "      <td>20200201000015</td>\n",
       "    </tr>\n",
       "    <tr>\n",
       "      <th>4</th>\n",
       "      <td>20200131230000</td>\n",
       "      <td>101</td>\n",
       "      <td>1</td>\n",
       "      <td>0.003</td>\n",
       "      <td>0</td>\n",
       "      <td>0</td>\n",
       "      <td>0</td>\n",
       "      <td>20200201000015</td>\n",
       "    </tr>\n",
       "  </tbody>\n",
       "</table>\n",
       "</div>"
      ],
      "text/plain": [
       "          �����Ͻ�  ������ �ڵ�  �����׸� �ڵ�    ��հ�  ������ ����  \\\n",
       "0  20200131230000         117            1   0.005            0   \n",
       "1  20200131230000         104            9  35.000            0   \n",
       "2  20200131230000         104            8  47.000            0   \n",
       "3  20200131230000         101            3   0.048            0   \n",
       "4  20200131230000         101            1   0.003            0   \n",
       "\n",
       "   ���� �����ʰ� ����  ����ü �����ʰ� ����       �����Ͻ�.1  \n",
       "0                  0                   0  20200131235849  \n",
       "1                  0                   0  20200201000015  \n",
       "2                  0                   0  20200201000015  \n",
       "3                  0                   0  20200201000015  \n",
       "4                  0                   0  20200201000015  "
      ]
     },
     "execution_count": 14,
     "metadata": {},
     "output_type": "execute_result"
    }
   ],
   "source": [
    "data.head()"
   ]
  },
  {
   "cell_type": "code",
   "execution_count": 15,
   "id": "152a7be0-302b-4208-a27d-6eff94ba0e72",
   "metadata": {},
   "outputs": [],
   "source": [
    "data.drop(data.columns[4:],axis=1, inplace=True)"
   ]
  },
  {
   "cell_type": "code",
   "execution_count": 16,
   "id": "6efe093b-4c2c-466b-b4fb-39d880bd3876",
   "metadata": {},
   "outputs": [],
   "source": [
    "data.columns=['Measurement date','Station code','Item code','Average value']"
   ]
  },
  {
   "cell_type": "code",
   "execution_count": 17,
   "id": "607c32a3-0d5d-43e9-a41b-0b252e65b583",
   "metadata": {},
   "outputs": [
    {
     "data": {
      "text/html": [
       "<div>\n",
       "<style scoped>\n",
       "    .dataframe tbody tr th:only-of-type {\n",
       "        vertical-align: middle;\n",
       "    }\n",
       "\n",
       "    .dataframe tbody tr th {\n",
       "        vertical-align: top;\n",
       "    }\n",
       "\n",
       "    .dataframe thead th {\n",
       "        text-align: right;\n",
       "    }\n",
       "</style>\n",
       "<table border=\"1\" class=\"dataframe\">\n",
       "  <thead>\n",
       "    <tr style=\"text-align: right;\">\n",
       "      <th></th>\n",
       "      <th>Measurement date</th>\n",
       "      <th>Station code</th>\n",
       "      <th>Item code</th>\n",
       "      <th>Average value</th>\n",
       "    </tr>\n",
       "  </thead>\n",
       "  <tbody>\n",
       "    <tr>\n",
       "      <th>111595</th>\n",
       "      <td>20201201000000</td>\n",
       "      <td>124</td>\n",
       "      <td>3</td>\n",
       "      <td>0.046</td>\n",
       "    </tr>\n",
       "    <tr>\n",
       "      <th>111596</th>\n",
       "      <td>20201201000000</td>\n",
       "      <td>105</td>\n",
       "      <td>9</td>\n",
       "      <td>15.000</td>\n",
       "    </tr>\n",
       "    <tr>\n",
       "      <th>111597</th>\n",
       "      <td>20201201000000</td>\n",
       "      <td>119</td>\n",
       "      <td>1</td>\n",
       "      <td>0.004</td>\n",
       "    </tr>\n",
       "    <tr>\n",
       "      <th>111598</th>\n",
       "      <td>20201201000000</td>\n",
       "      <td>107</td>\n",
       "      <td>9</td>\n",
       "      <td>22.000</td>\n",
       "    </tr>\n",
       "    <tr>\n",
       "      <th>111599</th>\n",
       "      <td>20201201000000</td>\n",
       "      <td>103</td>\n",
       "      <td>1</td>\n",
       "      <td>0.003</td>\n",
       "    </tr>\n",
       "  </tbody>\n",
       "</table>\n",
       "</div>"
      ],
      "text/plain": [
       "        Measurement date  Station code  Item code  Average value\n",
       "111595    20201201000000           124          3          0.046\n",
       "111596    20201201000000           105          9         15.000\n",
       "111597    20201201000000           119          1          0.004\n",
       "111598    20201201000000           107          9         22.000\n",
       "111599    20201201000000           103          1          0.003"
      ]
     },
     "execution_count": 17,
     "metadata": {},
     "output_type": "execute_result"
    }
   ],
   "source": [
    "data.tail()"
   ]
  },
  {
   "cell_type": "code",
   "execution_count": 27,
   "id": "d9014d7a-feb8-4d14-8f41-a85129684447",
   "metadata": {},
   "outputs": [
    {
     "data": {
      "text/html": [
       "<div>\n",
       "<style scoped>\n",
       "    .dataframe tbody tr th:only-of-type {\n",
       "        vertical-align: middle;\n",
       "    }\n",
       "\n",
       "    .dataframe tbody tr th {\n",
       "        vertical-align: top;\n",
       "    }\n",
       "\n",
       "    .dataframe thead th {\n",
       "        text-align: right;\n",
       "    }\n",
       "</style>\n",
       "<table border=\"1\" class=\"dataframe\">\n",
       "  <thead>\n",
       "    <tr style=\"text-align: right;\">\n",
       "      <th></th>\n",
       "      <th>Measurement date</th>\n",
       "      <th>Station code</th>\n",
       "      <th>Item code</th>\n",
       "      <th>Average value</th>\n",
       "    </tr>\n",
       "  </thead>\n",
       "  <tbody>\n",
       "    <tr>\n",
       "      <th>0</th>\n",
       "      <td>20200131230000</td>\n",
       "      <td>117</td>\n",
       "      <td>1</td>\n",
       "      <td>0.005</td>\n",
       "    </tr>\n",
       "    <tr>\n",
       "      <th>1</th>\n",
       "      <td>20200131230000</td>\n",
       "      <td>104</td>\n",
       "      <td>9</td>\n",
       "      <td>35.000</td>\n",
       "    </tr>\n",
       "    <tr>\n",
       "      <th>2</th>\n",
       "      <td>20200131230000</td>\n",
       "      <td>104</td>\n",
       "      <td>8</td>\n",
       "      <td>47.000</td>\n",
       "    </tr>\n",
       "    <tr>\n",
       "      <th>3</th>\n",
       "      <td>20200131230000</td>\n",
       "      <td>101</td>\n",
       "      <td>3</td>\n",
       "      <td>0.048</td>\n",
       "    </tr>\n",
       "    <tr>\n",
       "      <th>4</th>\n",
       "      <td>20200131230000</td>\n",
       "      <td>101</td>\n",
       "      <td>1</td>\n",
       "      <td>0.003</td>\n",
       "    </tr>\n",
       "  </tbody>\n",
       "</table>\n",
       "</div>"
      ],
      "text/plain": [
       "   Measurement date  Station code  Item code  Average value\n",
       "0    20200131230000           117          1          0.005\n",
       "1    20200131230000           104          9         35.000\n",
       "2    20200131230000           104          8         47.000\n",
       "3    20200131230000           101          3          0.048\n",
       "4    20200131230000           101          1          0.003"
      ]
     },
     "execution_count": 27,
     "metadata": {},
     "output_type": "execute_result"
    }
   ],
   "source": [
    "data.head()"
   ]
  },
  {
   "cell_type": "code",
   "execution_count": 20,
   "id": "38d514cc-3d22-4993-988e-8062aacf3cb9",
   "metadata": {},
   "outputs": [
    {
     "data": {
      "text/plain": [
       "pandas.core.frame.DataFrame"
      ]
     },
     "execution_count": 20,
     "metadata": {},
     "output_type": "execute_result"
    }
   ],
   "source": [
    "type(data)"
   ]
  },
  {
   "cell_type": "code",
   "execution_count": 18,
   "id": "65145dda-9ec7-48d1-9125-2ffe3f844e46",
   "metadata": {},
   "outputs": [],
   "source": [
    "data1=data[data['Item code']==1]\n",
    "data3=data[data['Item code']==3]\n",
    "data5=data[data['Item code']==5]\n",
    "data6=data[data['Item code']==6]\n",
    "data8=data[data['Item code']==8]\n",
    "data9=data[data['Item code']==9]"
   ]
  },
  {
   "cell_type": "code",
   "execution_count": 19,
   "id": "4ba41539-caa1-4c1b-ac92-3bf21c387aa9",
   "metadata": {},
   "outputs": [
    {
     "name": "stderr",
     "output_type": "stream",
     "text": [
      "C:\\Users\\SEC\\anaconda3\\envs\\multi\\lib\\site-packages\\pandas\\core\\frame.py:4315: SettingWithCopyWarning: \n",
      "A value is trying to be set on a copy of a slice from a DataFrame\n",
      "\n",
      "See the caveats in the documentation: https://pandas.pydata.org/pandas-docs/stable/user_guide/indexing.html#returning-a-view-versus-a-copy\n",
      "  errors=errors,\n"
     ]
    }
   ],
   "source": [
    "data1.drop('Item code',axis=1,inplace=True)\n",
    "data3.drop('Item code',axis=1,inplace=True)\n",
    "data5.drop('Item code',axis=1,inplace=True)\n",
    "data6.drop('Item code',axis=1,inplace=True)\n",
    "data8.drop('Item code',axis=1,inplace=True)\n",
    "data9.drop('Item code',axis=1,inplace=True)"
   ]
  },
  {
   "cell_type": "code",
   "execution_count": 20,
   "id": "c9c2a130-79cf-42c5-b3c2-bbd7ab5472d5",
   "metadata": {},
   "outputs": [
    {
     "name": "stdout",
     "output_type": "stream",
     "text": [
      "<class 'pandas.core.frame.DataFrame'>\n",
      "Int64Index: 218948 entries, 5 to 111593\n",
      "Data columns (total 3 columns):\n",
      " #   Column            Non-Null Count   Dtype  \n",
      "---  ------            --------------   -----  \n",
      " 0   Measurement date  218948 non-null  int64  \n",
      " 1   Station code      218948 non-null  int64  \n",
      " 2   Average value     218948 non-null  float64\n",
      "dtypes: float64(1), int64(2)\n",
      "memory usage: 6.7 MB\n"
     ]
    }
   ],
   "source": [
    "data5.info()"
   ]
  },
  {
   "cell_type": "code",
   "execution_count": 21,
   "id": "336c7836-bd4d-4acc-8b94-c844df4ecea6",
   "metadata": {},
   "outputs": [],
   "source": [
    "merged1=pd.merge(data1,data3,on=['Measurement date','Station code'])"
   ]
  },
  {
   "cell_type": "code",
   "execution_count": 22,
   "id": "935af0e2-5c38-48df-a0fc-741dc39f55e0",
   "metadata": {},
   "outputs": [],
   "source": [
    "merged1.columns=['Measurement date', 'Station code', 'SO2','NO2']"
   ]
  },
  {
   "cell_type": "code",
   "execution_count": 23,
   "id": "0933415b-c023-438f-93c7-acf2f3ca1a83",
   "metadata": {},
   "outputs": [
    {
     "name": "stdout",
     "output_type": "stream",
     "text": [
      "<class 'pandas.core.frame.DataFrame'>\n",
      "Int64Index: 218948 entries, 0 to 218947\n",
      "Data columns (total 4 columns):\n",
      " #   Column            Non-Null Count   Dtype  \n",
      "---  ------            --------------   -----  \n",
      " 0   Measurement date  218948 non-null  int64  \n",
      " 1   Station code      218948 non-null  int64  \n",
      " 2   SO2               218948 non-null  float64\n",
      " 3   NO2               218948 non-null  float64\n",
      "dtypes: float64(2), int64(2)\n",
      "memory usage: 8.4 MB\n"
     ]
    }
   ],
   "source": [
    "merged1.info()"
   ]
  },
  {
   "cell_type": "code",
   "execution_count": 24,
   "id": "eb775388-5dba-4ba3-89c7-f8dc03336c2f",
   "metadata": {},
   "outputs": [],
   "source": [
    "merged2=pd.merge(merged1,data5,on=['Measurement date','Station code'])"
   ]
  },
  {
   "cell_type": "code",
   "execution_count": 25,
   "id": "c52f24e8-388e-4794-a52f-45624a939846",
   "metadata": {},
   "outputs": [
    {
     "data": {
      "text/html": [
       "<div>\n",
       "<style scoped>\n",
       "    .dataframe tbody tr th:only-of-type {\n",
       "        vertical-align: middle;\n",
       "    }\n",
       "\n",
       "    .dataframe tbody tr th {\n",
       "        vertical-align: top;\n",
       "    }\n",
       "\n",
       "    .dataframe thead th {\n",
       "        text-align: right;\n",
       "    }\n",
       "</style>\n",
       "<table border=\"1\" class=\"dataframe\">\n",
       "  <thead>\n",
       "    <tr style=\"text-align: right;\">\n",
       "      <th></th>\n",
       "      <th>Measurement date</th>\n",
       "      <th>Station code</th>\n",
       "      <th>SO2</th>\n",
       "      <th>NO2</th>\n",
       "      <th>Average value</th>\n",
       "    </tr>\n",
       "  </thead>\n",
       "  <tbody>\n",
       "    <tr>\n",
       "      <th>0</th>\n",
       "      <td>20200131230000</td>\n",
       "      <td>117</td>\n",
       "      <td>0.005</td>\n",
       "      <td>0.036</td>\n",
       "      <td>0.5</td>\n",
       "    </tr>\n",
       "    <tr>\n",
       "      <th>1</th>\n",
       "      <td>20200131230000</td>\n",
       "      <td>101</td>\n",
       "      <td>0.003</td>\n",
       "      <td>0.048</td>\n",
       "      <td>0.7</td>\n",
       "    </tr>\n",
       "    <tr>\n",
       "      <th>2</th>\n",
       "      <td>20200131230000</td>\n",
       "      <td>111</td>\n",
       "      <td>0.003</td>\n",
       "      <td>0.051</td>\n",
       "      <td>1.0</td>\n",
       "    </tr>\n",
       "    <tr>\n",
       "      <th>3</th>\n",
       "      <td>20200131230000</td>\n",
       "      <td>112</td>\n",
       "      <td>0.002</td>\n",
       "      <td>0.039</td>\n",
       "      <td>0.6</td>\n",
       "    </tr>\n",
       "    <tr>\n",
       "      <th>4</th>\n",
       "      <td>20200131230000</td>\n",
       "      <td>121</td>\n",
       "      <td>0.004</td>\n",
       "      <td>0.049</td>\n",
       "      <td>0.7</td>\n",
       "    </tr>\n",
       "  </tbody>\n",
       "</table>\n",
       "</div>"
      ],
      "text/plain": [
       "   Measurement date  Station code    SO2    NO2  Average value\n",
       "0    20200131230000           117  0.005  0.036            0.5\n",
       "1    20200131230000           101  0.003  0.048            0.7\n",
       "2    20200131230000           111  0.003  0.051            1.0\n",
       "3    20200131230000           112  0.002  0.039            0.6\n",
       "4    20200131230000           121  0.004  0.049            0.7"
      ]
     },
     "execution_count": 25,
     "metadata": {},
     "output_type": "execute_result"
    }
   ],
   "source": [
    "merged2.head()"
   ]
  },
  {
   "cell_type": "code",
   "execution_count": 26,
   "id": "12d5904e-f5c8-4600-bb75-92b3383c8626",
   "metadata": {},
   "outputs": [],
   "source": [
    "merged2.columns=['Measurement date', 'Station code', 'SO2','NO2','CO']"
   ]
  },
  {
   "cell_type": "code",
   "execution_count": 27,
   "id": "6f9cc0a9-f42a-489a-91cc-ed6a859c41fd",
   "metadata": {},
   "outputs": [],
   "source": [
    "merged3=pd.merge(merged2,data6,on=['Measurement date','Station code'])"
   ]
  },
  {
   "cell_type": "code",
   "execution_count": 28,
   "id": "29c89978-ffd1-4d27-b753-e5adfb7c65ec",
   "metadata": {},
   "outputs": [],
   "source": [
    "merged3.columns=['Measurement date', 'Station code', 'SO2','NO2','CO','O3']"
   ]
  },
  {
   "cell_type": "code",
   "execution_count": 29,
   "id": "42b1d80a-e3fe-4929-8895-8f30ba4ce436",
   "metadata": {},
   "outputs": [
    {
     "data": {
      "text/html": [
       "<div>\n",
       "<style scoped>\n",
       "    .dataframe tbody tr th:only-of-type {\n",
       "        vertical-align: middle;\n",
       "    }\n",
       "\n",
       "    .dataframe tbody tr th {\n",
       "        vertical-align: top;\n",
       "    }\n",
       "\n",
       "    .dataframe thead th {\n",
       "        text-align: right;\n",
       "    }\n",
       "</style>\n",
       "<table border=\"1\" class=\"dataframe\">\n",
       "  <thead>\n",
       "    <tr style=\"text-align: right;\">\n",
       "      <th></th>\n",
       "      <th>Measurement date</th>\n",
       "      <th>Station code</th>\n",
       "      <th>SO2</th>\n",
       "      <th>NO2</th>\n",
       "      <th>CO</th>\n",
       "      <th>O3</th>\n",
       "    </tr>\n",
       "  </thead>\n",
       "  <tbody>\n",
       "    <tr>\n",
       "      <th>0</th>\n",
       "      <td>20200131230000</td>\n",
       "      <td>117</td>\n",
       "      <td>0.005</td>\n",
       "      <td>0.036</td>\n",
       "      <td>0.5</td>\n",
       "      <td>0.020</td>\n",
       "    </tr>\n",
       "    <tr>\n",
       "      <th>1</th>\n",
       "      <td>20200131230000</td>\n",
       "      <td>101</td>\n",
       "      <td>0.003</td>\n",
       "      <td>0.048</td>\n",
       "      <td>0.7</td>\n",
       "      <td>0.007</td>\n",
       "    </tr>\n",
       "    <tr>\n",
       "      <th>2</th>\n",
       "      <td>20200131230000</td>\n",
       "      <td>111</td>\n",
       "      <td>0.003</td>\n",
       "      <td>0.051</td>\n",
       "      <td>1.0</td>\n",
       "      <td>0.008</td>\n",
       "    </tr>\n",
       "    <tr>\n",
       "      <th>3</th>\n",
       "      <td>20200131230000</td>\n",
       "      <td>112</td>\n",
       "      <td>0.002</td>\n",
       "      <td>0.039</td>\n",
       "      <td>0.6</td>\n",
       "      <td>0.014</td>\n",
       "    </tr>\n",
       "    <tr>\n",
       "      <th>4</th>\n",
       "      <td>20200131230000</td>\n",
       "      <td>121</td>\n",
       "      <td>0.004</td>\n",
       "      <td>0.049</td>\n",
       "      <td>0.7</td>\n",
       "      <td>0.012</td>\n",
       "    </tr>\n",
       "  </tbody>\n",
       "</table>\n",
       "</div>"
      ],
      "text/plain": [
       "   Measurement date  Station code    SO2    NO2   CO     O3\n",
       "0    20200131230000           117  0.005  0.036  0.5  0.020\n",
       "1    20200131230000           101  0.003  0.048  0.7  0.007\n",
       "2    20200131230000           111  0.003  0.051  1.0  0.008\n",
       "3    20200131230000           112  0.002  0.039  0.6  0.014\n",
       "4    20200131230000           121  0.004  0.049  0.7  0.012"
      ]
     },
     "execution_count": 29,
     "metadata": {},
     "output_type": "execute_result"
    }
   ],
   "source": [
    "merged3.head()"
   ]
  },
  {
   "cell_type": "code",
   "execution_count": 30,
   "id": "9482862f-bb90-416d-8384-f9e71f1d54da",
   "metadata": {},
   "outputs": [],
   "source": [
    "merged4=pd.merge(merged3,data8,on=['Measurement date','Station code'])"
   ]
  },
  {
   "cell_type": "code",
   "execution_count": 31,
   "id": "8bdbd51e-9f2b-4e6e-bdaf-69d34644e5c5",
   "metadata": {},
   "outputs": [],
   "source": [
    "merged4.columns=['Measurement date', 'Station code', 'SO2','NO2','CO','O3','PM10']"
   ]
  },
  {
   "cell_type": "code",
   "execution_count": 32,
   "id": "3cf45c2d-5803-44b0-86a3-1266f09223ba",
   "metadata": {},
   "outputs": [
    {
     "data": {
      "text/html": [
       "<div>\n",
       "<style scoped>\n",
       "    .dataframe tbody tr th:only-of-type {\n",
       "        vertical-align: middle;\n",
       "    }\n",
       "\n",
       "    .dataframe tbody tr th {\n",
       "        vertical-align: top;\n",
       "    }\n",
       "\n",
       "    .dataframe thead th {\n",
       "        text-align: right;\n",
       "    }\n",
       "</style>\n",
       "<table border=\"1\" class=\"dataframe\">\n",
       "  <thead>\n",
       "    <tr style=\"text-align: right;\">\n",
       "      <th></th>\n",
       "      <th>Measurement date</th>\n",
       "      <th>Station code</th>\n",
       "      <th>SO2</th>\n",
       "      <th>NO2</th>\n",
       "      <th>CO</th>\n",
       "      <th>O3</th>\n",
       "      <th>PM10</th>\n",
       "    </tr>\n",
       "  </thead>\n",
       "  <tbody>\n",
       "    <tr>\n",
       "      <th>0</th>\n",
       "      <td>20200131230000</td>\n",
       "      <td>117</td>\n",
       "      <td>0.005</td>\n",
       "      <td>0.036</td>\n",
       "      <td>0.5</td>\n",
       "      <td>0.020</td>\n",
       "      <td>44.0</td>\n",
       "    </tr>\n",
       "    <tr>\n",
       "      <th>1</th>\n",
       "      <td>20200131230000</td>\n",
       "      <td>101</td>\n",
       "      <td>0.003</td>\n",
       "      <td>0.048</td>\n",
       "      <td>0.7</td>\n",
       "      <td>0.007</td>\n",
       "      <td>48.0</td>\n",
       "    </tr>\n",
       "    <tr>\n",
       "      <th>2</th>\n",
       "      <td>20200131230000</td>\n",
       "      <td>111</td>\n",
       "      <td>0.003</td>\n",
       "      <td>0.051</td>\n",
       "      <td>1.0</td>\n",
       "      <td>0.008</td>\n",
       "      <td>49.0</td>\n",
       "    </tr>\n",
       "    <tr>\n",
       "      <th>3</th>\n",
       "      <td>20200131230000</td>\n",
       "      <td>112</td>\n",
       "      <td>0.002</td>\n",
       "      <td>0.039</td>\n",
       "      <td>0.6</td>\n",
       "      <td>0.014</td>\n",
       "      <td>52.0</td>\n",
       "    </tr>\n",
       "    <tr>\n",
       "      <th>4</th>\n",
       "      <td>20200131230000</td>\n",
       "      <td>121</td>\n",
       "      <td>0.004</td>\n",
       "      <td>0.049</td>\n",
       "      <td>0.7</td>\n",
       "      <td>0.012</td>\n",
       "      <td>50.0</td>\n",
       "    </tr>\n",
       "  </tbody>\n",
       "</table>\n",
       "</div>"
      ],
      "text/plain": [
       "   Measurement date  Station code    SO2    NO2   CO     O3  PM10\n",
       "0    20200131230000           117  0.005  0.036  0.5  0.020  44.0\n",
       "1    20200131230000           101  0.003  0.048  0.7  0.007  48.0\n",
       "2    20200131230000           111  0.003  0.051  1.0  0.008  49.0\n",
       "3    20200131230000           112  0.002  0.039  0.6  0.014  52.0\n",
       "4    20200131230000           121  0.004  0.049  0.7  0.012  50.0"
      ]
     },
     "execution_count": 32,
     "metadata": {},
     "output_type": "execute_result"
    }
   ],
   "source": [
    "merged4.head()"
   ]
  },
  {
   "cell_type": "code",
   "execution_count": 33,
   "id": "134b003a-7b66-487e-ac2e-8f295a3483fa",
   "metadata": {},
   "outputs": [],
   "source": [
    "merged5=pd.merge(merged4,data9,on=['Measurement date','Station code'])"
   ]
  },
  {
   "cell_type": "code",
   "execution_count": 34,
   "id": "ee6b95d1-0b5b-455e-90fb-a7b9d115bd69",
   "metadata": {},
   "outputs": [],
   "source": [
    "merged5.columns=['Measurement date', 'Station code', 'SO2','NO2','CO','O3','PM10','PM2.5']"
   ]
  },
  {
   "cell_type": "code",
   "execution_count": 35,
   "id": "920a450e-a484-4567-a992-f489ea859c64",
   "metadata": {},
   "outputs": [
    {
     "name": "stdout",
     "output_type": "stream",
     "text": [
      "<class 'pandas.core.frame.DataFrame'>\n",
      "Int64Index: 218948 entries, 0 to 218947\n",
      "Data columns (total 8 columns):\n",
      " #   Column            Non-Null Count   Dtype  \n",
      "---  ------            --------------   -----  \n",
      " 0   Measurement date  218948 non-null  int64  \n",
      " 1   Station code      218948 non-null  int64  \n",
      " 2   SO2               218948 non-null  float64\n",
      " 3   NO2               218948 non-null  float64\n",
      " 4   CO                218948 non-null  float64\n",
      " 5   O3                218948 non-null  float64\n",
      " 6   PM10              218948 non-null  float64\n",
      " 7   PM2.5             218948 non-null  float64\n",
      "dtypes: float64(6), int64(2)\n",
      "memory usage: 15.0 MB\n"
     ]
    }
   ],
   "source": [
    "merged5.info()"
   ]
  },
  {
   "cell_type": "code",
   "execution_count": 36,
   "id": "6d283aff-573e-4b29-9baf-d272230ca5ef",
   "metadata": {},
   "outputs": [],
   "source": [
    "merged5.to_csv('seoul_Air_2020.csv')"
   ]
  },
  {
   "cell_type": "code",
   "execution_count": 40,
   "id": "d0d21a17-f6d7-47b9-bf04-6619879d9dc3",
   "metadata": {},
   "outputs": [],
   "source": [
    "data=merged5"
   ]
  },
  {
   "cell_type": "code",
   "execution_count": 42,
   "id": "6ebd4080-54bd-4791-967c-975cafba72df",
   "metadata": {},
   "outputs": [],
   "source": [
    "data.drop('temp',axis=1,inplace=True)"
   ]
  },
  {
   "cell_type": "code",
   "execution_count": 44,
   "id": "465e02df-43ee-4b13-8d34-8044201410e0",
   "metadata": {},
   "outputs": [],
   "source": [
    "df=pd.DataFrame({'Measurement date':data['Measurement date'],\n",
    "                'Station code':data['Station code'],\n",
    "                'SO2':data['SO2'],\n",
    "                'NO2':data['NO2'],\n",
    "                'O3':data['O3'],\n",
    "                'CO':data['CO'],\n",
    "                'PM10':data['PM10'],\n",
    "                'PM2.5':data['PM2.5']})"
   ]
  },
  {
   "cell_type": "code",
   "execution_count": 48,
   "id": "32152cf6-d4c1-46a4-b205-765125ff04a5",
   "metadata": {},
   "outputs": [],
   "source": [
    "df.to_csv('seoul_air_2020_re.csv',index=False)"
   ]
  },
  {
   "cell_type": "code",
   "execution_count": null,
   "id": "bdddda9d-d4c5-4c95-963a-122c26a949fe",
   "metadata": {},
   "outputs": [],
   "source": []
  }
 ],
 "metadata": {
  "kernelspec": {
   "display_name": "Python Multi",
   "language": "python",
   "name": "multi"
  },
  "language_info": {
   "codemirror_mode": {
    "name": "ipython",
    "version": 3
   },
   "file_extension": ".py",
   "mimetype": "text/x-python",
   "name": "python",
   "nbconvert_exporter": "python",
   "pygments_lexer": "ipython3",
   "version": "3.7.6"
  }
 },
 "nbformat": 4,
 "nbformat_minor": 5
}
