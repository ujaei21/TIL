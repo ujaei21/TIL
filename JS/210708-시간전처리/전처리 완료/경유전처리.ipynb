{
 "cells": [
  {
   "cell_type": "code",
   "execution_count": 1,
   "id": "8bc4fef9-a0c2-44c5-9cf4-681671160097",
   "metadata": {},
   "outputs": [],
   "source": [
    "import pandas as pd"
   ]
  },
  {
   "cell_type": "code",
   "execution_count": 2,
   "id": "b7aa7be5-537b-4692-a1b6-02364ac09022",
   "metadata": {},
   "outputs": [],
   "source": [
    "diesel=pd.read_excel('경유소비량.xlsx')"
   ]
  },
  {
   "cell_type": "code",
   "execution_count": 4,
   "id": "7a00234e-033d-43d6-9bf1-71e238d19767",
   "metadata": {},
   "outputs": [],
   "source": [
    "diesel.to_csv(\"diesel.csv\")"
   ]
  },
  {
   "cell_type": "code",
   "execution_count": null,
   "id": "7f9e64f2-c997-4f49-be5c-98fe73b1a316",
   "metadata": {},
   "outputs": [],
   "source": []
  }
 ],
 "metadata": {
  "kernelspec": {
   "display_name": "Python Multi",
   "language": "python",
   "name": "multi"
  },
  "language_info": {
   "codemirror_mode": {
    "name": "ipython",
    "version": 3
   },
   "file_extension": ".py",
   "mimetype": "text/x-python",
   "name": "python",
   "nbconvert_exporter": "python",
   "pygments_lexer": "ipython3",
   "version": "3.7.6"
  }
 },
 "nbformat": 4,
 "nbformat_minor": 5
}
