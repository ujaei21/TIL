{
 "cells": [
  {
   "cell_type": "code",
   "execution_count": 1,
   "id": "f4a884f4-dc85-4261-9167-8b77e858dcaf",
   "metadata": {},
   "outputs": [],
   "source": [
    "import pandas as pd"
   ]
  },
  {
   "cell_type": "code",
   "execution_count": 3,
   "id": "9d3860b3-052c-4313-b2bb-6bec3c2bdd1e",
   "metadata": {},
   "outputs": [],
   "source": [
    "data = pd.read_csv('C:/Users/SEC/OneDrive/바탕 화면/air/AIR_HOUR_2019.csv')"
   ]
  },
  {
   "cell_type": "code",
   "execution_count": 5,
   "id": "26d7b0b6-20b1-4970-8f6d-9f061dc623fc",
   "metadata": {},
   "outputs": [
    {
     "data": {
      "text/html": [
       "<div>\n",
       "<style scoped>\n",
       "    .dataframe tbody tr th:only-of-type {\n",
       "        vertical-align: middle;\n",
       "    }\n",
       "\n",
       "    .dataframe tbody tr th {\n",
       "        vertical-align: top;\n",
       "    }\n",
       "\n",
       "    .dataframe thead th {\n",
       "        text-align: right;\n",
       "    }\n",
       "</style>\n",
       "<table border=\"1\" class=\"dataframe\">\n",
       "  <thead>\n",
       "    <tr style=\"text-align: right;\">\n",
       "      <th></th>\n",
       "      <th>�����Ͻ�</th>\n",
       "      <th>������ �ڵ�</th>\n",
       "      <th>�����׸� �ڵ�</th>\n",
       "      <th>��հ�</th>\n",
       "      <th>������ ����</th>\n",
       "      <th>���� �����ʰ� ����</th>\n",
       "      <th>����ü �����ʰ� ����</th>\n",
       "    </tr>\n",
       "  </thead>\n",
       "  <tbody>\n",
       "    <tr>\n",
       "      <th>1257061</th>\n",
       "      <td>2019-12-31 23:00</td>\n",
       "      <td>123</td>\n",
       "      <td>9</td>\n",
       "      <td>13.000</td>\n",
       "      <td>0</td>\n",
       "      <td>0</td>\n",
       "      <td>0</td>\n",
       "    </tr>\n",
       "    <tr>\n",
       "      <th>1257062</th>\n",
       "      <td>2019-12-31 23:00</td>\n",
       "      <td>118</td>\n",
       "      <td>9</td>\n",
       "      <td>24.000</td>\n",
       "      <td>0</td>\n",
       "      <td>0</td>\n",
       "      <td>0</td>\n",
       "    </tr>\n",
       "    <tr>\n",
       "      <th>1257063</th>\n",
       "      <td>2019-12-31 23:00</td>\n",
       "      <td>105</td>\n",
       "      <td>8</td>\n",
       "      <td>19.000</td>\n",
       "      <td>0</td>\n",
       "      <td>0</td>\n",
       "      <td>0</td>\n",
       "    </tr>\n",
       "    <tr>\n",
       "      <th>1257064</th>\n",
       "      <td>2019-12-31 23:00</td>\n",
       "      <td>125</td>\n",
       "      <td>3</td>\n",
       "      <td>0.037</td>\n",
       "      <td>0</td>\n",
       "      <td>0</td>\n",
       "      <td>0</td>\n",
       "    </tr>\n",
       "    <tr>\n",
       "      <th>1257065</th>\n",
       "      <td>2019-12-31 23:00</td>\n",
       "      <td>108</td>\n",
       "      <td>3</td>\n",
       "      <td>0.030</td>\n",
       "      <td>0</td>\n",
       "      <td>0</td>\n",
       "      <td>0</td>\n",
       "    </tr>\n",
       "  </tbody>\n",
       "</table>\n",
       "</div>"
      ],
      "text/plain": [
       "                  �����Ͻ�  ������ �ڵ�  �����׸� �ڵ�    ��հ�  ������ ����  \\\n",
       "1257061  2019-12-31 23:00         123            9  13.000            0   \n",
       "1257062  2019-12-31 23:00         118            9  24.000            0   \n",
       "1257063  2019-12-31 23:00         105            8  19.000            0   \n",
       "1257064  2019-12-31 23:00         125            3   0.037            0   \n",
       "1257065  2019-12-31 23:00         108            3   0.030            0   \n",
       "\n",
       "         ���� �����ʰ� ����  ����ü �����ʰ� ����  \n",
       "1257061                  0                   0  \n",
       "1257062                  0                   0  \n",
       "1257063                  0                   0  \n",
       "1257064                  0                   0  \n",
       "1257065                  0                   0  "
      ]
     },
     "execution_count": 5,
     "metadata": {},
     "output_type": "execute_result"
    }
   ],
   "source": [
    "data.tail()"
   ]
  },
  {
   "cell_type": "code",
   "execution_count": 11,
   "id": "fac591c2-46e5-4bd9-936c-ece8c1e60699",
   "metadata": {},
   "outputs": [],
   "source": [
    "data.drop(data.columns[4:],axis=1, inplace=True)"
   ]
  },
  {
   "cell_type": "code",
   "execution_count": null,
   "id": "c568b203-bee7-46e5-989e-322ace4f2f6d",
   "metadata": {},
   "outputs": [],
   "source": []
  },
  {
   "cell_type": "code",
   "execution_count": null,
   "id": "1f4d53d2-3c57-41fa-b0b0-616383352b36",
   "metadata": {},
   "outputs": [],
   "source": []
  },
  {
   "cell_type": "code",
   "execution_count": null,
   "id": "47f16d9d-d6dc-4598-9210-23a3b4a2b837",
   "metadata": {},
   "outputs": [],
   "source": []
  },
  {
   "cell_type": "code",
   "execution_count": null,
   "id": "dc8a565d-bbe7-45d4-bd8a-6a114471be9c",
   "metadata": {},
   "outputs": [],
   "source": []
  },
  {
   "cell_type": "code",
   "execution_count": null,
   "id": "7a9920b9-9c35-410e-9105-a10a5c4e61e9",
   "metadata": {},
   "outputs": [],
   "source": []
  },
  {
   "cell_type": "code",
   "execution_count": null,
   "id": "38f354ac-b3b8-411d-974e-8178435d0cdc",
   "metadata": {},
   "outputs": [],
   "source": []
  },
  {
   "cell_type": "code",
   "execution_count": null,
   "id": "4f08722d-c28b-4317-a182-4516cdb62e1f",
   "metadata": {},
   "outputs": [],
   "source": []
  },
  {
   "cell_type": "code",
   "execution_count": null,
   "id": "48155704-8666-4383-8f25-8187f11081a9",
   "metadata": {},
   "outputs": [],
   "source": []
  },
  {
   "cell_type": "code",
   "execution_count": null,
   "id": "77fa622e-3486-4d42-aeff-27b1932fa671",
   "metadata": {},
   "outputs": [],
   "source": []
  },
  {
   "cell_type": "code",
   "execution_count": null,
   "id": "303b914b-85f5-46be-99ef-96bfa189eff2",
   "metadata": {},
   "outputs": [],
   "source": []
  },
  {
   "cell_type": "code",
   "execution_count": null,
   "id": "89ae1fe9-6bdd-423a-bd14-7dfa51d78961",
   "metadata": {},
   "outputs": [],
   "source": []
  },
  {
   "cell_type": "code",
   "execution_count": null,
   "id": "a7c9339d-f96f-4c4c-9c3a-b9f9cba84293",
   "metadata": {},
   "outputs": [],
   "source": []
  },
  {
   "cell_type": "code",
   "execution_count": 14,
   "id": "7105ac12-2c1e-46b5-864f-733de6788a5a",
   "metadata": {},
   "outputs": [],
   "source": [
    "data.columns=['Measurement date','Station code','Item code','Average value']"
   ]
  },
  {
   "cell_type": "code",
   "execution_count": 15,
   "id": "7273ef79-8c5b-4f5b-a547-abef8504e187",
   "metadata": {},
   "outputs": [
    {
     "data": {
      "text/html": [
       "<div>\n",
       "<style scoped>\n",
       "    .dataframe tbody tr th:only-of-type {\n",
       "        vertical-align: middle;\n",
       "    }\n",
       "\n",
       "    .dataframe tbody tr th {\n",
       "        vertical-align: top;\n",
       "    }\n",
       "\n",
       "    .dataframe thead th {\n",
       "        text-align: right;\n",
       "    }\n",
       "</style>\n",
       "<table border=\"1\" class=\"dataframe\">\n",
       "  <thead>\n",
       "    <tr style=\"text-align: right;\">\n",
       "      <th></th>\n",
       "      <th>Measurement date</th>\n",
       "      <th>Station code</th>\n",
       "      <th>Item code</th>\n",
       "      <th>Average value</th>\n",
       "    </tr>\n",
       "  </thead>\n",
       "  <tbody>\n",
       "    <tr>\n",
       "      <th>1257061</th>\n",
       "      <td>2019-12-31 23:00</td>\n",
       "      <td>123</td>\n",
       "      <td>9</td>\n",
       "      <td>13.000</td>\n",
       "    </tr>\n",
       "    <tr>\n",
       "      <th>1257062</th>\n",
       "      <td>2019-12-31 23:00</td>\n",
       "      <td>118</td>\n",
       "      <td>9</td>\n",
       "      <td>24.000</td>\n",
       "    </tr>\n",
       "    <tr>\n",
       "      <th>1257063</th>\n",
       "      <td>2019-12-31 23:00</td>\n",
       "      <td>105</td>\n",
       "      <td>8</td>\n",
       "      <td>19.000</td>\n",
       "    </tr>\n",
       "    <tr>\n",
       "      <th>1257064</th>\n",
       "      <td>2019-12-31 23:00</td>\n",
       "      <td>125</td>\n",
       "      <td>3</td>\n",
       "      <td>0.037</td>\n",
       "    </tr>\n",
       "    <tr>\n",
       "      <th>1257065</th>\n",
       "      <td>2019-12-31 23:00</td>\n",
       "      <td>108</td>\n",
       "      <td>3</td>\n",
       "      <td>0.030</td>\n",
       "    </tr>\n",
       "  </tbody>\n",
       "</table>\n",
       "</div>"
      ],
      "text/plain": [
       "         Measurement date  Station code  Item code  Average value\n",
       "1257061  2019-12-31 23:00           123          9         13.000\n",
       "1257062  2019-12-31 23:00           118          9         24.000\n",
       "1257063  2019-12-31 23:00           105          8         19.000\n",
       "1257064  2019-12-31 23:00           125          3          0.037\n",
       "1257065  2019-12-31 23:00           108          3          0.030"
      ]
     },
     "execution_count": 15,
     "metadata": {},
     "output_type": "execute_result"
    }
   ],
   "source": [
    "data.tail()"
   ]
  },
  {
   "cell_type": "code",
   "execution_count": 19,
   "id": "2ea0a33c-bb7e-4614-a21a-c9f46c321675",
   "metadata": {},
   "outputs": [],
   "source": [
    "data1=data[data['Item code']==1]\n",
    "data3=data[data['Item code']==3]\n",
    "data5=data[data['Item code']==5]\n",
    "data6=data[data['Item code']==6]\n",
    "data8=data[data['Item code']==8]\n",
    "data9=data[data['Item code']==9]"
   ]
  },
  {
   "cell_type": "code",
   "execution_count": 18,
   "id": "b729ab7d-16c2-4e61-953b-8f3e53095ea0",
   "metadata": {},
   "outputs": [
    {
     "data": {
      "text/plain": [
       "array([1, 3, 6, 5, 8, 9], dtype=int64)"
      ]
     },
     "execution_count": 18,
     "metadata": {},
     "output_type": "execute_result"
    }
   ],
   "source": [
    "data['Item code'].unique()"
   ]
  },
  {
   "cell_type": "code",
   "execution_count": 24,
   "id": "3467fb6f-d45e-41c5-b802-516ba1c66972",
   "metadata": {},
   "outputs": [
    {
     "data": {
      "text/plain": [
       "25"
      ]
     },
     "execution_count": 24,
     "metadata": {},
     "output_type": "execute_result"
    }
   ],
   "source": [
    "len(data1['Station code'].unique())"
   ]
  },
  {
   "cell_type": "code",
   "execution_count": 26,
   "id": "e0948979-2b4a-4789-a1e3-5efe914a4e39",
   "metadata": {},
   "outputs": [
    {
     "data": {
      "text/plain": [
       "(209511, 4)"
      ]
     },
     "execution_count": 26,
     "metadata": {},
     "output_type": "execute_result"
    }
   ],
   "source": [
    "data1.shape"
   ]
  },
  {
   "cell_type": "code",
   "execution_count": 27,
   "id": "440bc557-9a0a-4c27-87c6-fb87f053355d",
   "metadata": {},
   "outputs": [],
   "source": [
    "merge1=pd.merge(data1,data3,on=['Measurement date','Station code'])"
   ]
  },
  {
   "cell_type": "code",
   "execution_count": 30,
   "id": "9ac04a62-e90e-4369-9e97-26322aa519ed",
   "metadata": {},
   "outputs": [
    {
     "data": {
      "text/plain": [
       "Index(['Measurement date', 'Station code', 'Item code_x', 'Average value_x',\n",
       "       'Item code_y', 'Average value_y'],\n",
       "      dtype='object')"
      ]
     },
     "execution_count": 30,
     "metadata": {},
     "output_type": "execute_result"
    }
   ],
   "source": [
    "merge1.columns"
   ]
  },
  {
   "cell_type": "code",
   "execution_count": 31,
   "id": "a0129969-610a-4546-8de0-560a04421806",
   "metadata": {},
   "outputs": [],
   "source": [
    "merge1.columns=['Measurement date', 'Station code', '1', 'SO2',\n",
    "       '3', 'NO2']"
   ]
  },
  {
   "cell_type": "code",
   "execution_count": 32,
   "id": "38d36739-2a72-4eec-b274-c53f89f2d974",
   "metadata": {},
   "outputs": [],
   "source": [
    "merge1.drop(['1','3'],axis=1,inplace=True)"
   ]
  },
  {
   "cell_type": "code",
   "execution_count": 33,
   "id": "a837761d-33b4-4735-aab7-50b77b1e701f",
   "metadata": {},
   "outputs": [
    {
     "data": {
      "text/html": [
       "<div>\n",
       "<style scoped>\n",
       "    .dataframe tbody tr th:only-of-type {\n",
       "        vertical-align: middle;\n",
       "    }\n",
       "\n",
       "    .dataframe tbody tr th {\n",
       "        vertical-align: top;\n",
       "    }\n",
       "\n",
       "    .dataframe thead th {\n",
       "        text-align: right;\n",
       "    }\n",
       "</style>\n",
       "<table border=\"1\" class=\"dataframe\">\n",
       "  <thead>\n",
       "    <tr style=\"text-align: right;\">\n",
       "      <th></th>\n",
       "      <th>Measurement date</th>\n",
       "      <th>Station code</th>\n",
       "      <th>SO2</th>\n",
       "      <th>NO2</th>\n",
       "    </tr>\n",
       "  </thead>\n",
       "  <tbody>\n",
       "    <tr>\n",
       "      <th>0</th>\n",
       "      <td>2019-01-01 01:00</td>\n",
       "      <td>101</td>\n",
       "      <td>0.004</td>\n",
       "      <td>0.061</td>\n",
       "    </tr>\n",
       "    <tr>\n",
       "      <th>1</th>\n",
       "      <td>2019-01-01 01:00</td>\n",
       "      <td>123</td>\n",
       "      <td>0.006</td>\n",
       "      <td>0.051</td>\n",
       "    </tr>\n",
       "    <tr>\n",
       "      <th>2</th>\n",
       "      <td>2019-01-01 01:00</td>\n",
       "      <td>112</td>\n",
       "      <td>0.002</td>\n",
       "      <td>0.032</td>\n",
       "    </tr>\n",
       "    <tr>\n",
       "      <th>3</th>\n",
       "      <td>2019-01-01 01:00</td>\n",
       "      <td>124</td>\n",
       "      <td>0.005</td>\n",
       "      <td>0.071</td>\n",
       "    </tr>\n",
       "    <tr>\n",
       "      <th>4</th>\n",
       "      <td>2019-01-01 01:00</td>\n",
       "      <td>125</td>\n",
       "      <td>0.005</td>\n",
       "      <td>0.060</td>\n",
       "    </tr>\n",
       "  </tbody>\n",
       "</table>\n",
       "</div>"
      ],
      "text/plain": [
       "   Measurement date  Station code    SO2    NO2\n",
       "0  2019-01-01 01:00           101  0.004  0.061\n",
       "1  2019-01-01 01:00           123  0.006  0.051\n",
       "2  2019-01-01 01:00           112  0.002  0.032\n",
       "3  2019-01-01 01:00           124  0.005  0.071\n",
       "4  2019-01-01 01:00           125  0.005  0.060"
      ]
     },
     "execution_count": 33,
     "metadata": {},
     "output_type": "execute_result"
    }
   ],
   "source": [
    "merge1.head()"
   ]
  },
  {
   "cell_type": "code",
   "execution_count": 37,
   "id": "45792651-70e6-4201-95c1-8f23efb50b99",
   "metadata": {},
   "outputs": [],
   "source": [
    "merge2=pd.merge(merge1,data5,on=['Measurement date','Station code'])"
   ]
  },
  {
   "cell_type": "code",
   "execution_count": 38,
   "id": "9f172d20-63a2-4833-8f48-54f9c85aeb44",
   "metadata": {},
   "outputs": [],
   "source": [
    "merge2.drop('Item code',axis=1,inplace=True)"
   ]
  },
  {
   "cell_type": "code",
   "execution_count": 42,
   "id": "297a425b-690b-4b82-86b5-5b6db33e443e",
   "metadata": {},
   "outputs": [],
   "source": [
    "merge2.columns=['Measurement date', 'Station code', 'SO2',\n",
    "       'NO2','CO']"
   ]
  },
  {
   "cell_type": "code",
   "execution_count": 43,
   "id": "97c7d28c-3986-495e-92f8-d64cdae66411",
   "metadata": {},
   "outputs": [
    {
     "data": {
      "text/html": [
       "<div>\n",
       "<style scoped>\n",
       "    .dataframe tbody tr th:only-of-type {\n",
       "        vertical-align: middle;\n",
       "    }\n",
       "\n",
       "    .dataframe tbody tr th {\n",
       "        vertical-align: top;\n",
       "    }\n",
       "\n",
       "    .dataframe thead th {\n",
       "        text-align: right;\n",
       "    }\n",
       "</style>\n",
       "<table border=\"1\" class=\"dataframe\">\n",
       "  <thead>\n",
       "    <tr style=\"text-align: right;\">\n",
       "      <th></th>\n",
       "      <th>Measurement date</th>\n",
       "      <th>Station code</th>\n",
       "      <th>SO2</th>\n",
       "      <th>NO2</th>\n",
       "      <th>CO</th>\n",
       "    </tr>\n",
       "  </thead>\n",
       "  <tbody>\n",
       "    <tr>\n",
       "      <th>0</th>\n",
       "      <td>2019-01-01 01:00</td>\n",
       "      <td>101</td>\n",
       "      <td>0.004</td>\n",
       "      <td>0.061</td>\n",
       "      <td>1.1</td>\n",
       "    </tr>\n",
       "    <tr>\n",
       "      <th>1</th>\n",
       "      <td>2019-01-01 01:00</td>\n",
       "      <td>123</td>\n",
       "      <td>0.006</td>\n",
       "      <td>0.051</td>\n",
       "      <td>0.9</td>\n",
       "    </tr>\n",
       "    <tr>\n",
       "      <th>2</th>\n",
       "      <td>2019-01-01 01:00</td>\n",
       "      <td>112</td>\n",
       "      <td>0.002</td>\n",
       "      <td>0.032</td>\n",
       "      <td>0.6</td>\n",
       "    </tr>\n",
       "    <tr>\n",
       "      <th>3</th>\n",
       "      <td>2019-01-01 01:00</td>\n",
       "      <td>124</td>\n",
       "      <td>0.005</td>\n",
       "      <td>0.071</td>\n",
       "      <td>1.3</td>\n",
       "    </tr>\n",
       "    <tr>\n",
       "      <th>4</th>\n",
       "      <td>2019-01-01 01:00</td>\n",
       "      <td>125</td>\n",
       "      <td>0.005</td>\n",
       "      <td>0.060</td>\n",
       "      <td>1.0</td>\n",
       "    </tr>\n",
       "  </tbody>\n",
       "</table>\n",
       "</div>"
      ],
      "text/plain": [
       "   Measurement date  Station code    SO2    NO2   CO\n",
       "0  2019-01-01 01:00           101  0.004  0.061  1.1\n",
       "1  2019-01-01 01:00           123  0.006  0.051  0.9\n",
       "2  2019-01-01 01:00           112  0.002  0.032  0.6\n",
       "3  2019-01-01 01:00           124  0.005  0.071  1.3\n",
       "4  2019-01-01 01:00           125  0.005  0.060  1.0"
      ]
     },
     "execution_count": 43,
     "metadata": {},
     "output_type": "execute_result"
    }
   ],
   "source": [
    "merge2.head()"
   ]
  },
  {
   "cell_type": "code",
   "execution_count": 45,
   "id": "b3c4c1e1-5261-4dd9-a9fa-721a4865e78e",
   "metadata": {},
   "outputs": [],
   "source": [
    "merge3=pd.merge(merge2,data6,on=['Measurement date','Station code'])"
   ]
  },
  {
   "cell_type": "code",
   "execution_count": 46,
   "id": "2b915dd0-e357-44c3-8653-e858a19b44bd",
   "metadata": {},
   "outputs": [],
   "source": [
    "merge3.drop('Item code',axis=1,inplace=True)"
   ]
  },
  {
   "cell_type": "code",
   "execution_count": 48,
   "id": "2cf47db1-a87c-4d2b-8ef2-bb7f16bc987f",
   "metadata": {},
   "outputs": [],
   "source": [
    "merge3.columns=['Measurement date', 'Station code', 'SO2',\n",
    "       'NO2','CO','O3']"
   ]
  },
  {
   "cell_type": "code",
   "execution_count": 49,
   "id": "4b4be103-75e5-47aa-bf4a-17f26b24388e",
   "metadata": {},
   "outputs": [
    {
     "data": {
      "text/html": [
       "<div>\n",
       "<style scoped>\n",
       "    .dataframe tbody tr th:only-of-type {\n",
       "        vertical-align: middle;\n",
       "    }\n",
       "\n",
       "    .dataframe tbody tr th {\n",
       "        vertical-align: top;\n",
       "    }\n",
       "\n",
       "    .dataframe thead th {\n",
       "        text-align: right;\n",
       "    }\n",
       "</style>\n",
       "<table border=\"1\" class=\"dataframe\">\n",
       "  <thead>\n",
       "    <tr style=\"text-align: right;\">\n",
       "      <th></th>\n",
       "      <th>Measurement date</th>\n",
       "      <th>Station code</th>\n",
       "      <th>SO2</th>\n",
       "      <th>NO2</th>\n",
       "      <th>CO</th>\n",
       "      <th>O3</th>\n",
       "    </tr>\n",
       "  </thead>\n",
       "  <tbody>\n",
       "    <tr>\n",
       "      <th>0</th>\n",
       "      <td>2019-01-01 01:00</td>\n",
       "      <td>101</td>\n",
       "      <td>0.004</td>\n",
       "      <td>0.061</td>\n",
       "      <td>1.1</td>\n",
       "      <td>0.002</td>\n",
       "    </tr>\n",
       "    <tr>\n",
       "      <th>1</th>\n",
       "      <td>2019-01-01 01:00</td>\n",
       "      <td>123</td>\n",
       "      <td>0.006</td>\n",
       "      <td>0.051</td>\n",
       "      <td>0.9</td>\n",
       "      <td>0.002</td>\n",
       "    </tr>\n",
       "    <tr>\n",
       "      <th>2</th>\n",
       "      <td>2019-01-01 01:00</td>\n",
       "      <td>112</td>\n",
       "      <td>0.002</td>\n",
       "      <td>0.032</td>\n",
       "      <td>0.6</td>\n",
       "      <td>0.010</td>\n",
       "    </tr>\n",
       "    <tr>\n",
       "      <th>3</th>\n",
       "      <td>2019-01-01 01:00</td>\n",
       "      <td>124</td>\n",
       "      <td>0.005</td>\n",
       "      <td>0.071</td>\n",
       "      <td>1.3</td>\n",
       "      <td>0.002</td>\n",
       "    </tr>\n",
       "    <tr>\n",
       "      <th>4</th>\n",
       "      <td>2019-01-01 01:00</td>\n",
       "      <td>125</td>\n",
       "      <td>0.005</td>\n",
       "      <td>0.060</td>\n",
       "      <td>1.0</td>\n",
       "      <td>0.002</td>\n",
       "    </tr>\n",
       "  </tbody>\n",
       "</table>\n",
       "</div>"
      ],
      "text/plain": [
       "   Measurement date  Station code    SO2    NO2   CO     O3\n",
       "0  2019-01-01 01:00           101  0.004  0.061  1.1  0.002\n",
       "1  2019-01-01 01:00           123  0.006  0.051  0.9  0.002\n",
       "2  2019-01-01 01:00           112  0.002  0.032  0.6  0.010\n",
       "3  2019-01-01 01:00           124  0.005  0.071  1.3  0.002\n",
       "4  2019-01-01 01:00           125  0.005  0.060  1.0  0.002"
      ]
     },
     "execution_count": 49,
     "metadata": {},
     "output_type": "execute_result"
    }
   ],
   "source": [
    "merge3.head()"
   ]
  },
  {
   "cell_type": "code",
   "execution_count": 51,
   "id": "0216d0c8-5683-463e-8811-0e63427a39dc",
   "metadata": {},
   "outputs": [],
   "source": [
    "merge4=pd.merge(merge3,data8,on=['Measurement date','Station code'])"
   ]
  },
  {
   "cell_type": "code",
   "execution_count": 52,
   "id": "3d22cb13-8084-4762-af5d-11369eb8a2e3",
   "metadata": {},
   "outputs": [],
   "source": [
    "merge4.drop('Item code',axis=1,inplace=True)"
   ]
  },
  {
   "cell_type": "code",
   "execution_count": 53,
   "id": "2c9723dc-30b3-4ed5-8f3f-a4a73bf0f737",
   "metadata": {},
   "outputs": [],
   "source": [
    "merge4.columns=['Measurement date', 'Station code', 'SO2',\n",
    "       'NO2','CO','O3','PM10']"
   ]
  },
  {
   "cell_type": "code",
   "execution_count": 54,
   "id": "b7852a26-d66a-47fe-9951-93b9317d35c7",
   "metadata": {},
   "outputs": [],
   "source": [
    "merge5=pd.merge(merge4,data9,on=['Measurement date','Station code'])"
   ]
  },
  {
   "cell_type": "code",
   "execution_count": 56,
   "id": "4a9cea71-4619-43bd-b66a-9984235efbf1",
   "metadata": {},
   "outputs": [],
   "source": [
    "merge5.drop('Item code',axis=1,inplace=True)"
   ]
  },
  {
   "cell_type": "code",
   "execution_count": 58,
   "id": "aa7b4f80-e24d-4e84-b860-1631404e2561",
   "metadata": {},
   "outputs": [],
   "source": [
    "merge5.columns=['Measurement date', 'Station code', 'SO2',\n",
    "       'NO2','CO','O3','PM10','PM2.5']"
   ]
  },
  {
   "cell_type": "code",
   "execution_count": 59,
   "id": "16967768-fbd0-45af-b35e-6729d060126b",
   "metadata": {},
   "outputs": [
    {
     "data": {
      "text/html": [
       "<div>\n",
       "<style scoped>\n",
       "    .dataframe tbody tr th:only-of-type {\n",
       "        vertical-align: middle;\n",
       "    }\n",
       "\n",
       "    .dataframe tbody tr th {\n",
       "        vertical-align: top;\n",
       "    }\n",
       "\n",
       "    .dataframe thead th {\n",
       "        text-align: right;\n",
       "    }\n",
       "</style>\n",
       "<table border=\"1\" class=\"dataframe\">\n",
       "  <thead>\n",
       "    <tr style=\"text-align: right;\">\n",
       "      <th></th>\n",
       "      <th>Measurement date</th>\n",
       "      <th>Station code</th>\n",
       "      <th>SO2</th>\n",
       "      <th>NO2</th>\n",
       "      <th>CO</th>\n",
       "      <th>O3</th>\n",
       "      <th>PM10</th>\n",
       "      <th>PM2.5</th>\n",
       "    </tr>\n",
       "  </thead>\n",
       "  <tbody>\n",
       "    <tr>\n",
       "      <th>0</th>\n",
       "      <td>2019-01-01 01:00</td>\n",
       "      <td>101</td>\n",
       "      <td>0.004</td>\n",
       "      <td>0.061</td>\n",
       "      <td>1.1</td>\n",
       "      <td>0.002</td>\n",
       "      <td>37.0</td>\n",
       "      <td>22.0</td>\n",
       "    </tr>\n",
       "    <tr>\n",
       "      <th>1</th>\n",
       "      <td>2019-01-01 01:00</td>\n",
       "      <td>123</td>\n",
       "      <td>0.006</td>\n",
       "      <td>0.051</td>\n",
       "      <td>0.9</td>\n",
       "      <td>0.002</td>\n",
       "      <td>40.0</td>\n",
       "      <td>30.0</td>\n",
       "    </tr>\n",
       "    <tr>\n",
       "      <th>2</th>\n",
       "      <td>2019-01-01 01:00</td>\n",
       "      <td>112</td>\n",
       "      <td>0.002</td>\n",
       "      <td>0.032</td>\n",
       "      <td>0.6</td>\n",
       "      <td>0.010</td>\n",
       "      <td>43.0</td>\n",
       "      <td>26.0</td>\n",
       "    </tr>\n",
       "    <tr>\n",
       "      <th>3</th>\n",
       "      <td>2019-01-01 01:00</td>\n",
       "      <td>124</td>\n",
       "      <td>0.005</td>\n",
       "      <td>0.071</td>\n",
       "      <td>1.3</td>\n",
       "      <td>0.002</td>\n",
       "      <td>60.0</td>\n",
       "      <td>32.0</td>\n",
       "    </tr>\n",
       "    <tr>\n",
       "      <th>4</th>\n",
       "      <td>2019-01-01 01:00</td>\n",
       "      <td>125</td>\n",
       "      <td>0.005</td>\n",
       "      <td>0.060</td>\n",
       "      <td>1.0</td>\n",
       "      <td>0.002</td>\n",
       "      <td>48.0</td>\n",
       "      <td>34.0</td>\n",
       "    </tr>\n",
       "  </tbody>\n",
       "</table>\n",
       "</div>"
      ],
      "text/plain": [
       "   Measurement date  Station code    SO2    NO2   CO     O3  PM10  PM2.5\n",
       "0  2019-01-01 01:00           101  0.004  0.061  1.1  0.002  37.0   22.0\n",
       "1  2019-01-01 01:00           123  0.006  0.051  0.9  0.002  40.0   30.0\n",
       "2  2019-01-01 01:00           112  0.002  0.032  0.6  0.010  43.0   26.0\n",
       "3  2019-01-01 01:00           124  0.005  0.071  1.3  0.002  60.0   32.0\n",
       "4  2019-01-01 01:00           125  0.005  0.060  1.0  0.002  48.0   34.0"
      ]
     },
     "execution_count": 59,
     "metadata": {},
     "output_type": "execute_result"
    }
   ],
   "source": [
    "merge5.head()"
   ]
  },
  {
   "cell_type": "code",
   "execution_count": 60,
   "id": "7423605c-a4fe-465f-9cb0-98f369b185dd",
   "metadata": {},
   "outputs": [],
   "source": [
    "merge5.to_csv('seoul_Air_2019.csv')"
   ]
  },
  {
   "cell_type": "code",
   "execution_count": null,
   "id": "11fb8d72-c561-4f6b-a386-7aa277435961",
   "metadata": {},
   "outputs": [],
   "source": []
  }
 ],
 "metadata": {
  "kernelspec": {
   "display_name": "Python Multi",
   "language": "python",
   "name": "multi"
  },
  "language_info": {
   "codemirror_mode": {
    "name": "ipython",
    "version": 3
   },
   "file_extension": ".py",
   "mimetype": "text/x-python",
   "name": "python",
   "nbconvert_exporter": "python",
   "pygments_lexer": "ipython3",
   "version": "3.7.6"
  }
 },
 "nbformat": 4,
 "nbformat_minor": 5
}
