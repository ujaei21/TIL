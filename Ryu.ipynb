{
  "nbformat": 4,
  "nbformat_minor": 0,
  "metadata": {
    "colab": {
      "name": "Ryu",
      "provenance": [],
      "collapsed_sections": [],
      "mount_file_id": "17zOlqog1czJscWCKxmBSi6JiQzYpWWxv",
      "authorship_tag": "ABX9TyNlrcZMLb3x7AFvHem5rCCz",
      "include_colab_link": true
    },
    "kernelspec": {
      "name": "python3",
      "display_name": "Python 3"
    },
    "language_info": {
      "name": "python"
    }
  },
  "cells": [
    {
      "cell_type": "markdown",
      "metadata": {
        "id": "view-in-github",
        "colab_type": "text"
      },
      "source": [
        "<a href=\"https://colab.research.google.com/github/ujaei21/TIL/blob/master/Ryu.ipynb\" target=\"_parent\"><img src=\"https://colab.research.google.com/assets/colab-badge.svg\" alt=\"Open In Colab\"/></a>"
      ]
    },
    {
      "cell_type": "code",
      "metadata": {
        "id": "LMIRwtri_w5J",
        "colab": {
          "base_uri": "https://localhost:8080/"
        },
        "outputId": "65359ca5-2f0d-4a09-d669-41192f45a7cc"
      },
      "source": [
        "!git clone https://github.com/jldbc/pybaseball"
      ],
      "execution_count": 1,
      "outputs": [
        {
          "output_type": "stream",
          "name": "stdout",
          "text": [
            "Cloning into 'pybaseball'...\n",
            "remote: Enumerating objects: 2406, done.\u001b[K\n",
            "remote: Counting objects: 100% (232/232), done.\u001b[K\n",
            "remote: Compressing objects: 100% (171/171), done.\u001b[K\n",
            "remote: Total 2406 (delta 110), reused 128 (delta 58), pack-reused 2174\u001b[K\n",
            "Receiving objects: 100% (2406/2406), 6.62 MiB | 17.57 MiB/s, done.\n",
            "Resolving deltas: 100% (1423/1423), done.\n"
          ]
        }
      ]
    },
    {
      "cell_type": "markdown",
      "metadata": {
        "id": "JNjK-wOTAbHH"
      },
      "source": [
        ""
      ]
    },
    {
      "cell_type": "code",
      "metadata": {
        "id": "z_cHxb50_ysc",
        "colab": {
          "base_uri": "https://localhost:8080/"
        },
        "outputId": "60c2e435-5783-41f1-9a61-f67a9d1115ed"
      },
      "source": [
        "cd /content/pybaseball"
      ],
      "execution_count": 2,
      "outputs": [
        {
          "output_type": "stream",
          "name": "stdout",
          "text": [
            "/content/pybaseball\n"
          ]
        }
      ]
    },
    {
      "cell_type": "code",
      "metadata": {
        "id": "XrZRBJrZBEzV"
      },
      "source": [
        "pip install -e ."
      ],
      "execution_count": null,
      "outputs": []
    },
    {
      "cell_type": "code",
      "metadata": {
        "id": "qh_0gsgOClXi"
      },
      "source": [
        "from pybaseball import statcast"
      ],
      "execution_count": 4,
      "outputs": []
    },
    {
      "cell_type": "code",
      "metadata": {
        "id": "Fq8Ja4xbCsQH",
        "colab": {
          "base_uri": "https://localhost:8080/",
          "height": 98
        },
        "outputId": "b4e42974-e107-44d2-ebea-29846c1a239c"
      },
      "source": [
        "from pybaseball import playerid_lookup\n",
        "from pybaseball import statcast_pitcher\n",
        "playerid_lookup('ryu', 'hyun jin')"
      ],
      "execution_count": 5,
      "outputs": [
        {
          "output_type": "stream",
          "name": "stdout",
          "text": [
            "Gathering player lookup table. This may take a moment.\n"
          ]
        },
        {
          "output_type": "execute_result",
          "data": {
            "text/html": [
              "<div>\n",
              "<style scoped>\n",
              "    .dataframe tbody tr th:only-of-type {\n",
              "        vertical-align: middle;\n",
              "    }\n",
              "\n",
              "    .dataframe tbody tr th {\n",
              "        vertical-align: top;\n",
              "    }\n",
              "\n",
              "    .dataframe thead th {\n",
              "        text-align: right;\n",
              "    }\n",
              "</style>\n",
              "<table border=\"1\" class=\"dataframe\">\n",
              "  <thead>\n",
              "    <tr style=\"text-align: right;\">\n",
              "      <th></th>\n",
              "      <th>name_last</th>\n",
              "      <th>name_first</th>\n",
              "      <th>key_mlbam</th>\n",
              "      <th>key_retro</th>\n",
              "      <th>key_bbref</th>\n",
              "      <th>key_fangraphs</th>\n",
              "      <th>mlb_played_first</th>\n",
              "      <th>mlb_played_last</th>\n",
              "    </tr>\n",
              "  </thead>\n",
              "  <tbody>\n",
              "    <tr>\n",
              "      <th>0</th>\n",
              "      <td>ryu</td>\n",
              "      <td>hyun jin</td>\n",
              "      <td>547943</td>\n",
              "      <td>ryu-h001</td>\n",
              "      <td>ryuhy01</td>\n",
              "      <td>14444</td>\n",
              "      <td>2013.0</td>\n",
              "      <td>2021.0</td>\n",
              "    </tr>\n",
              "  </tbody>\n",
              "</table>\n",
              "</div>"
            ],
            "text/plain": [
              "  name_last name_first  ...  mlb_played_first mlb_played_last\n",
              "0       ryu   hyun jin  ...            2013.0          2021.0\n",
              "\n",
              "[1 rows x 8 columns]"
            ]
          },
          "metadata": {},
          "execution_count": 5
        }
      ]
    },
    {
      "cell_type": "code",
      "metadata": {
        "id": "4Xo9Ceo8C0Gn",
        "colab": {
          "base_uri": "https://localhost:8080/",
          "height": 866
        },
        "outputId": "fd075d83-f1be-47f7-cbde-1df3679aa726"
      },
      "source": [
        "ryu_stats = statcast_pitcher('2021-07-01', '2021-07-20', 547943)\n",
        "ryu_stats.head(5)"
      ],
      "execution_count": 6,
      "outputs": [
        {
          "output_type": "stream",
          "name": "stdout",
          "text": [
            "Gathering Player Data\n"
          ]
        },
        {
          "output_type": "execute_result",
          "data": {
            "text/html": [
              "<div>\n",
              "<style scoped>\n",
              "    .dataframe tbody tr th:only-of-type {\n",
              "        vertical-align: middle;\n",
              "    }\n",
              "\n",
              "    .dataframe tbody tr th {\n",
              "        vertical-align: top;\n",
              "    }\n",
              "\n",
              "    .dataframe thead th {\n",
              "        text-align: right;\n",
              "    }\n",
              "</style>\n",
              "<table border=\"1\" class=\"dataframe\">\n",
              "  <thead>\n",
              "    <tr style=\"text-align: right;\">\n",
              "      <th></th>\n",
              "      <th>pitch_type</th>\n",
              "      <th>game_date</th>\n",
              "      <th>release_speed</th>\n",
              "      <th>release_pos_x</th>\n",
              "      <th>release_pos_z</th>\n",
              "      <th>player_name</th>\n",
              "      <th>batter</th>\n",
              "      <th>pitcher</th>\n",
              "      <th>events</th>\n",
              "      <th>description</th>\n",
              "      <th>spin_dir</th>\n",
              "      <th>spin_rate_deprecated</th>\n",
              "      <th>break_angle_deprecated</th>\n",
              "      <th>break_length_deprecated</th>\n",
              "      <th>zone</th>\n",
              "      <th>des</th>\n",
              "      <th>game_type</th>\n",
              "      <th>stand</th>\n",
              "      <th>p_throws</th>\n",
              "      <th>home_team</th>\n",
              "      <th>away_team</th>\n",
              "      <th>type</th>\n",
              "      <th>hit_location</th>\n",
              "      <th>bb_type</th>\n",
              "      <th>balls</th>\n",
              "      <th>strikes</th>\n",
              "      <th>game_year</th>\n",
              "      <th>pfx_x</th>\n",
              "      <th>pfx_z</th>\n",
              "      <th>plate_x</th>\n",
              "      <th>plate_z</th>\n",
              "      <th>on_3b</th>\n",
              "      <th>on_2b</th>\n",
              "      <th>on_1b</th>\n",
              "      <th>outs_when_up</th>\n",
              "      <th>inning</th>\n",
              "      <th>inning_topbot</th>\n",
              "      <th>hc_x</th>\n",
              "      <th>hc_y</th>\n",
              "      <th>tfs_deprecated</th>\n",
              "      <th>...</th>\n",
              "      <th>hit_distance_sc</th>\n",
              "      <th>launch_speed</th>\n",
              "      <th>launch_angle</th>\n",
              "      <th>effective_speed</th>\n",
              "      <th>release_spin_rate</th>\n",
              "      <th>release_extension</th>\n",
              "      <th>game_pk</th>\n",
              "      <th>pitcher.1</th>\n",
              "      <th>fielder_2.1</th>\n",
              "      <th>fielder_3</th>\n",
              "      <th>fielder_4</th>\n",
              "      <th>fielder_5</th>\n",
              "      <th>fielder_6</th>\n",
              "      <th>fielder_7</th>\n",
              "      <th>fielder_8</th>\n",
              "      <th>fielder_9</th>\n",
              "      <th>release_pos_y</th>\n",
              "      <th>estimated_ba_using_speedangle</th>\n",
              "      <th>estimated_woba_using_speedangle</th>\n",
              "      <th>woba_value</th>\n",
              "      <th>woba_denom</th>\n",
              "      <th>babip_value</th>\n",
              "      <th>iso_value</th>\n",
              "      <th>launch_speed_angle</th>\n",
              "      <th>at_bat_number</th>\n",
              "      <th>pitch_number</th>\n",
              "      <th>pitch_name</th>\n",
              "      <th>home_score</th>\n",
              "      <th>away_score</th>\n",
              "      <th>bat_score</th>\n",
              "      <th>fld_score</th>\n",
              "      <th>post_away_score</th>\n",
              "      <th>post_home_score</th>\n",
              "      <th>post_bat_score</th>\n",
              "      <th>post_fld_score</th>\n",
              "      <th>if_fielding_alignment</th>\n",
              "      <th>of_fielding_alignment</th>\n",
              "      <th>spin_axis</th>\n",
              "      <th>delta_home_win_exp</th>\n",
              "      <th>delta_run_exp</th>\n",
              "    </tr>\n",
              "  </thead>\n",
              "  <tbody>\n",
              "    <tr>\n",
              "      <th>0</th>\n",
              "      <td>FC</td>\n",
              "      <td>2021-07-18</td>\n",
              "      <td>86.7</td>\n",
              "      <td>2.23</td>\n",
              "      <td>5.82</td>\n",
              "      <td>Ryu, Hyun Jin</td>\n",
              "      <td>621311</td>\n",
              "      <td>547943</td>\n",
              "      <td>field_out</td>\n",
              "      <td>hit_into_play</td>\n",
              "      <td>NaN</td>\n",
              "      <td>NaN</td>\n",
              "      <td>NaN</td>\n",
              "      <td>NaN</td>\n",
              "      <td>5</td>\n",
              "      <td>David Dahl flies out sharply to center fielder...</td>\n",
              "      <td>R</td>\n",
              "      <td>L</td>\n",
              "      <td>L</td>\n",
              "      <td>TOR</td>\n",
              "      <td>TEX</td>\n",
              "      <td>X</td>\n",
              "      <td>8.0</td>\n",
              "      <td>fly_ball</td>\n",
              "      <td>1</td>\n",
              "      <td>0</td>\n",
              "      <td>2021</td>\n",
              "      <td>-0.06</td>\n",
              "      <td>0.63</td>\n",
              "      <td>0.02</td>\n",
              "      <td>2.51</td>\n",
              "      <td>NaN</td>\n",
              "      <td>NaN</td>\n",
              "      <td>NaN</td>\n",
              "      <td>2</td>\n",
              "      <td>7</td>\n",
              "      <td>Top</td>\n",
              "      <td>114.66</td>\n",
              "      <td>41.06</td>\n",
              "      <td>NaN</td>\n",
              "      <td>...</td>\n",
              "      <td>390.0</td>\n",
              "      <td>104.2</td>\n",
              "      <td>33.0</td>\n",
              "      <td>87.7</td>\n",
              "      <td>2096</td>\n",
              "      <td>6.4</td>\n",
              "      <td>633256</td>\n",
              "      <td>547943</td>\n",
              "      <td>643376</td>\n",
              "      <td>665489</td>\n",
              "      <td>543760</td>\n",
              "      <td>669289</td>\n",
              "      <td>666182</td>\n",
              "      <td>641505</td>\n",
              "      <td>543807</td>\n",
              "      <td>545341</td>\n",
              "      <td>54.12</td>\n",
              "      <td>0.723</td>\n",
              "      <td>1.473</td>\n",
              "      <td>0.0</td>\n",
              "      <td>1.0</td>\n",
              "      <td>0.0</td>\n",
              "      <td>0.0</td>\n",
              "      <td>6.0</td>\n",
              "      <td>52</td>\n",
              "      <td>2</td>\n",
              "      <td>Cutter</td>\n",
              "      <td>5</td>\n",
              "      <td>0</td>\n",
              "      <td>0</td>\n",
              "      <td>5</td>\n",
              "      <td>0</td>\n",
              "      <td>5</td>\n",
              "      <td>0</td>\n",
              "      <td>5</td>\n",
              "      <td>Standard</td>\n",
              "      <td>Standard</td>\n",
              "      <td>153</td>\n",
              "      <td>0.000</td>\n",
              "      <td>-0.120</td>\n",
              "    </tr>\n",
              "    <tr>\n",
              "      <th>1</th>\n",
              "      <td>FF</td>\n",
              "      <td>2021-07-18</td>\n",
              "      <td>91.0</td>\n",
              "      <td>2.07</td>\n",
              "      <td>5.73</td>\n",
              "      <td>Ryu, Hyun Jin</td>\n",
              "      <td>621311</td>\n",
              "      <td>547943</td>\n",
              "      <td>NaN</td>\n",
              "      <td>ball</td>\n",
              "      <td>NaN</td>\n",
              "      <td>NaN</td>\n",
              "      <td>NaN</td>\n",
              "      <td>NaN</td>\n",
              "      <td>11</td>\n",
              "      <td>David Dahl flies out sharply to center fielder...</td>\n",
              "      <td>R</td>\n",
              "      <td>L</td>\n",
              "      <td>L</td>\n",
              "      <td>TOR</td>\n",
              "      <td>TEX</td>\n",
              "      <td>B</td>\n",
              "      <td>NaN</td>\n",
              "      <td>NaN</td>\n",
              "      <td>0</td>\n",
              "      <td>0</td>\n",
              "      <td>2021</td>\n",
              "      <td>0.90</td>\n",
              "      <td>1.07</td>\n",
              "      <td>-1.48</td>\n",
              "      <td>2.54</td>\n",
              "      <td>NaN</td>\n",
              "      <td>NaN</td>\n",
              "      <td>NaN</td>\n",
              "      <td>2</td>\n",
              "      <td>7</td>\n",
              "      <td>Top</td>\n",
              "      <td>NaN</td>\n",
              "      <td>NaN</td>\n",
              "      <td>NaN</td>\n",
              "      <td>...</td>\n",
              "      <td>NaN</td>\n",
              "      <td>NaN</td>\n",
              "      <td>NaN</td>\n",
              "      <td>91.2</td>\n",
              "      <td>2066</td>\n",
              "      <td>6.4</td>\n",
              "      <td>633256</td>\n",
              "      <td>547943</td>\n",
              "      <td>643376</td>\n",
              "      <td>665489</td>\n",
              "      <td>543760</td>\n",
              "      <td>669289</td>\n",
              "      <td>666182</td>\n",
              "      <td>641505</td>\n",
              "      <td>543807</td>\n",
              "      <td>545341</td>\n",
              "      <td>54.12</td>\n",
              "      <td>NaN</td>\n",
              "      <td>NaN</td>\n",
              "      <td>NaN</td>\n",
              "      <td>NaN</td>\n",
              "      <td>NaN</td>\n",
              "      <td>NaN</td>\n",
              "      <td>NaN</td>\n",
              "      <td>52</td>\n",
              "      <td>1</td>\n",
              "      <td>4-Seam Fastball</td>\n",
              "      <td>5</td>\n",
              "      <td>0</td>\n",
              "      <td>0</td>\n",
              "      <td>5</td>\n",
              "      <td>0</td>\n",
              "      <td>5</td>\n",
              "      <td>0</td>\n",
              "      <td>5</td>\n",
              "      <td>Standard</td>\n",
              "      <td>Standard</td>\n",
              "      <td>130</td>\n",
              "      <td>0.000</td>\n",
              "      <td>0.016</td>\n",
              "    </tr>\n",
              "    <tr>\n",
              "      <th>2</th>\n",
              "      <td>FF</td>\n",
              "      <td>2021-07-18</td>\n",
              "      <td>90.9</td>\n",
              "      <td>2.16</td>\n",
              "      <td>5.77</td>\n",
              "      <td>Ryu, Hyun Jin</td>\n",
              "      <td>642201</td>\n",
              "      <td>547943</td>\n",
              "      <td>field_out</td>\n",
              "      <td>hit_into_play</td>\n",
              "      <td>NaN</td>\n",
              "      <td>NaN</td>\n",
              "      <td>NaN</td>\n",
              "      <td>NaN</td>\n",
              "      <td>11</td>\n",
              "      <td>Eli White flies out to center fielder George S...</td>\n",
              "      <td>R</td>\n",
              "      <td>R</td>\n",
              "      <td>L</td>\n",
              "      <td>TOR</td>\n",
              "      <td>TEX</td>\n",
              "      <td>X</td>\n",
              "      <td>8.0</td>\n",
              "      <td>fly_ball</td>\n",
              "      <td>0</td>\n",
              "      <td>2</td>\n",
              "      <td>2021</td>\n",
              "      <td>1.05</td>\n",
              "      <td>0.92</td>\n",
              "      <td>-0.27</td>\n",
              "      <td>3.54</td>\n",
              "      <td>NaN</td>\n",
              "      <td>NaN</td>\n",
              "      <td>NaN</td>\n",
              "      <td>1</td>\n",
              "      <td>7</td>\n",
              "      <td>Top</td>\n",
              "      <td>138.35</td>\n",
              "      <td>68.11</td>\n",
              "      <td>NaN</td>\n",
              "      <td>...</td>\n",
              "      <td>326.0</td>\n",
              "      <td>92.9</td>\n",
              "      <td>37.0</td>\n",
              "      <td>91.2</td>\n",
              "      <td>1940</td>\n",
              "      <td>6.4</td>\n",
              "      <td>633256</td>\n",
              "      <td>547943</td>\n",
              "      <td>643376</td>\n",
              "      <td>665489</td>\n",
              "      <td>543760</td>\n",
              "      <td>669289</td>\n",
              "      <td>666182</td>\n",
              "      <td>641505</td>\n",
              "      <td>543807</td>\n",
              "      <td>545341</td>\n",
              "      <td>54.15</td>\n",
              "      <td>0.053</td>\n",
              "      <td>0.090</td>\n",
              "      <td>0.0</td>\n",
              "      <td>1.0</td>\n",
              "      <td>0.0</td>\n",
              "      <td>0.0</td>\n",
              "      <td>3.0</td>\n",
              "      <td>51</td>\n",
              "      <td>3</td>\n",
              "      <td>4-Seam Fastball</td>\n",
              "      <td>5</td>\n",
              "      <td>0</td>\n",
              "      <td>0</td>\n",
              "      <td>5</td>\n",
              "      <td>0</td>\n",
              "      <td>5</td>\n",
              "      <td>0</td>\n",
              "      <td>5</td>\n",
              "      <td>Standard</td>\n",
              "      <td>Standard</td>\n",
              "      <td>131</td>\n",
              "      <td>0.002</td>\n",
              "      <td>-0.101</td>\n",
              "    </tr>\n",
              "    <tr>\n",
              "      <th>3</th>\n",
              "      <td>CH</td>\n",
              "      <td>2021-07-18</td>\n",
              "      <td>82.7</td>\n",
              "      <td>2.36</td>\n",
              "      <td>5.75</td>\n",
              "      <td>Ryu, Hyun Jin</td>\n",
              "      <td>642201</td>\n",
              "      <td>547943</td>\n",
              "      <td>NaN</td>\n",
              "      <td>foul</td>\n",
              "      <td>NaN</td>\n",
              "      <td>NaN</td>\n",
              "      <td>NaN</td>\n",
              "      <td>NaN</td>\n",
              "      <td>6</td>\n",
              "      <td>Eli White flies out to center fielder George S...</td>\n",
              "      <td>R</td>\n",
              "      <td>R</td>\n",
              "      <td>L</td>\n",
              "      <td>TOR</td>\n",
              "      <td>TEX</td>\n",
              "      <td>S</td>\n",
              "      <td>NaN</td>\n",
              "      <td>NaN</td>\n",
              "      <td>0</td>\n",
              "      <td>1</td>\n",
              "      <td>2021</td>\n",
              "      <td>1.00</td>\n",
              "      <td>0.40</td>\n",
              "      <td>0.81</td>\n",
              "      <td>2.65</td>\n",
              "      <td>NaN</td>\n",
              "      <td>NaN</td>\n",
              "      <td>NaN</td>\n",
              "      <td>1</td>\n",
              "      <td>7</td>\n",
              "      <td>Top</td>\n",
              "      <td>NaN</td>\n",
              "      <td>NaN</td>\n",
              "      <td>NaN</td>\n",
              "      <td>...</td>\n",
              "      <td>221.0</td>\n",
              "      <td>79.0</td>\n",
              "      <td>48.0</td>\n",
              "      <td>83.1</td>\n",
              "      <td>1545</td>\n",
              "      <td>6.4</td>\n",
              "      <td>633256</td>\n",
              "      <td>547943</td>\n",
              "      <td>643376</td>\n",
              "      <td>665489</td>\n",
              "      <td>543760</td>\n",
              "      <td>669289</td>\n",
              "      <td>666182</td>\n",
              "      <td>641505</td>\n",
              "      <td>543807</td>\n",
              "      <td>545341</td>\n",
              "      <td>54.10</td>\n",
              "      <td>NaN</td>\n",
              "      <td>NaN</td>\n",
              "      <td>NaN</td>\n",
              "      <td>NaN</td>\n",
              "      <td>NaN</td>\n",
              "      <td>NaN</td>\n",
              "      <td>NaN</td>\n",
              "      <td>51</td>\n",
              "      <td>2</td>\n",
              "      <td>Changeup</td>\n",
              "      <td>5</td>\n",
              "      <td>0</td>\n",
              "      <td>0</td>\n",
              "      <td>5</td>\n",
              "      <td>0</td>\n",
              "      <td>5</td>\n",
              "      <td>0</td>\n",
              "      <td>5</td>\n",
              "      <td>Standard</td>\n",
              "      <td>Standard</td>\n",
              "      <td>116</td>\n",
              "      <td>0.000</td>\n",
              "      <td>-0.035</td>\n",
              "    </tr>\n",
              "    <tr>\n",
              "      <th>4</th>\n",
              "      <td>FC</td>\n",
              "      <td>2021-07-18</td>\n",
              "      <td>86.9</td>\n",
              "      <td>2.22</td>\n",
              "      <td>5.90</td>\n",
              "      <td>Ryu, Hyun Jin</td>\n",
              "      <td>642201</td>\n",
              "      <td>547943</td>\n",
              "      <td>NaN</td>\n",
              "      <td>foul</td>\n",
              "      <td>NaN</td>\n",
              "      <td>NaN</td>\n",
              "      <td>NaN</td>\n",
              "      <td>NaN</td>\n",
              "      <td>13</td>\n",
              "      <td>Eli White flies out to center fielder George S...</td>\n",
              "      <td>R</td>\n",
              "      <td>R</td>\n",
              "      <td>L</td>\n",
              "      <td>TOR</td>\n",
              "      <td>TEX</td>\n",
              "      <td>S</td>\n",
              "      <td>NaN</td>\n",
              "      <td>NaN</td>\n",
              "      <td>0</td>\n",
              "      <td>0</td>\n",
              "      <td>2021</td>\n",
              "      <td>0.03</td>\n",
              "      <td>0.62</td>\n",
              "      <td>-0.86</td>\n",
              "      <td>2.46</td>\n",
              "      <td>NaN</td>\n",
              "      <td>NaN</td>\n",
              "      <td>NaN</td>\n",
              "      <td>1</td>\n",
              "      <td>7</td>\n",
              "      <td>Top</td>\n",
              "      <td>NaN</td>\n",
              "      <td>NaN</td>\n",
              "      <td>NaN</td>\n",
              "      <td>...</td>\n",
              "      <td>8.0</td>\n",
              "      <td>76.5</td>\n",
              "      <td>-16.0</td>\n",
              "      <td>87.4</td>\n",
              "      <td>1992</td>\n",
              "      <td>6.3</td>\n",
              "      <td>633256</td>\n",
              "      <td>547943</td>\n",
              "      <td>643376</td>\n",
              "      <td>665489</td>\n",
              "      <td>543760</td>\n",
              "      <td>669289</td>\n",
              "      <td>666182</td>\n",
              "      <td>641505</td>\n",
              "      <td>543807</td>\n",
              "      <td>545341</td>\n",
              "      <td>54.22</td>\n",
              "      <td>NaN</td>\n",
              "      <td>NaN</td>\n",
              "      <td>NaN</td>\n",
              "      <td>NaN</td>\n",
              "      <td>NaN</td>\n",
              "      <td>NaN</td>\n",
              "      <td>NaN</td>\n",
              "      <td>51</td>\n",
              "      <td>1</td>\n",
              "      <td>Cutter</td>\n",
              "      <td>5</td>\n",
              "      <td>0</td>\n",
              "      <td>0</td>\n",
              "      <td>5</td>\n",
              "      <td>0</td>\n",
              "      <td>5</td>\n",
              "      <td>0</td>\n",
              "      <td>5</td>\n",
              "      <td>Standard</td>\n",
              "      <td>Standard</td>\n",
              "      <td>148</td>\n",
              "      <td>0.000</td>\n",
              "      <td>-0.027</td>\n",
              "    </tr>\n",
              "  </tbody>\n",
              "</table>\n",
              "<p>5 rows × 92 columns</p>\n",
              "</div>"
            ],
            "text/plain": [
              "  pitch_type   game_date  ...  delta_home_win_exp  delta_run_exp\n",
              "0         FC  2021-07-18  ...               0.000         -0.120\n",
              "1         FF  2021-07-18  ...               0.000          0.016\n",
              "2         FF  2021-07-18  ...               0.002         -0.101\n",
              "3         CH  2021-07-18  ...               0.000         -0.035\n",
              "4         FC  2021-07-18  ...               0.000         -0.027\n",
              "\n",
              "[5 rows x 92 columns]"
            ]
          },
          "metadata": {},
          "execution_count": 6
        }
      ]
    },
    {
      "cell_type": "code",
      "metadata": {
        "id": "gJJs8bPhljTb"
      },
      "source": [
        "result=ryu_stats[['pitch_type','game_date','release_speed','release_pos_x','release_pos_z','release_spin_rate','release_extension','spin_axis']]"
      ],
      "execution_count": 7,
      "outputs": []
    },
    {
      "cell_type": "code",
      "metadata": {
        "id": "iGOD7sV1l_cM"
      },
      "source": [
        "import pandas as pd"
      ],
      "execution_count": 8,
      "outputs": []
    },
    {
      "cell_type": "code",
      "metadata": {
        "id": "3CBNIyxRmflE",
        "colab": {
          "base_uri": "https://localhost:8080/",
          "height": 419
        },
        "outputId": "3d61c8f6-5ac5-4cd1-b706-6e861b97c68f"
      },
      "source": [
        "pd.DataFrame(result)"
      ],
      "execution_count": 9,
      "outputs": [
        {
          "output_type": "execute_result",
          "data": {
            "text/html": [
              "<div>\n",
              "<style scoped>\n",
              "    .dataframe tbody tr th:only-of-type {\n",
              "        vertical-align: middle;\n",
              "    }\n",
              "\n",
              "    .dataframe tbody tr th {\n",
              "        vertical-align: top;\n",
              "    }\n",
              "\n",
              "    .dataframe thead th {\n",
              "        text-align: right;\n",
              "    }\n",
              "</style>\n",
              "<table border=\"1\" class=\"dataframe\">\n",
              "  <thead>\n",
              "    <tr style=\"text-align: right;\">\n",
              "      <th></th>\n",
              "      <th>pitch_type</th>\n",
              "      <th>game_date</th>\n",
              "      <th>release_speed</th>\n",
              "      <th>release_pos_x</th>\n",
              "      <th>release_pos_z</th>\n",
              "      <th>release_spin_rate</th>\n",
              "      <th>release_extension</th>\n",
              "      <th>spin_axis</th>\n",
              "    </tr>\n",
              "  </thead>\n",
              "  <tbody>\n",
              "    <tr>\n",
              "      <th>0</th>\n",
              "      <td>FC</td>\n",
              "      <td>2021-07-18</td>\n",
              "      <td>86.7</td>\n",
              "      <td>2.23</td>\n",
              "      <td>5.82</td>\n",
              "      <td>2096</td>\n",
              "      <td>6.4</td>\n",
              "      <td>153</td>\n",
              "    </tr>\n",
              "    <tr>\n",
              "      <th>1</th>\n",
              "      <td>FF</td>\n",
              "      <td>2021-07-18</td>\n",
              "      <td>91.0</td>\n",
              "      <td>2.07</td>\n",
              "      <td>5.73</td>\n",
              "      <td>2066</td>\n",
              "      <td>6.4</td>\n",
              "      <td>130</td>\n",
              "    </tr>\n",
              "    <tr>\n",
              "      <th>2</th>\n",
              "      <td>FF</td>\n",
              "      <td>2021-07-18</td>\n",
              "      <td>90.9</td>\n",
              "      <td>2.16</td>\n",
              "      <td>5.77</td>\n",
              "      <td>1940</td>\n",
              "      <td>6.4</td>\n",
              "      <td>131</td>\n",
              "    </tr>\n",
              "    <tr>\n",
              "      <th>3</th>\n",
              "      <td>CH</td>\n",
              "      <td>2021-07-18</td>\n",
              "      <td>82.7</td>\n",
              "      <td>2.36</td>\n",
              "      <td>5.75</td>\n",
              "      <td>1545</td>\n",
              "      <td>6.4</td>\n",
              "      <td>116</td>\n",
              "    </tr>\n",
              "    <tr>\n",
              "      <th>4</th>\n",
              "      <td>FC</td>\n",
              "      <td>2021-07-18</td>\n",
              "      <td>86.9</td>\n",
              "      <td>2.22</td>\n",
              "      <td>5.90</td>\n",
              "      <td>1992</td>\n",
              "      <td>6.3</td>\n",
              "      <td>148</td>\n",
              "    </tr>\n",
              "    <tr>\n",
              "      <th>...</th>\n",
              "      <td>...</td>\n",
              "      <td>...</td>\n",
              "      <td>...</td>\n",
              "      <td>...</td>\n",
              "      <td>...</td>\n",
              "      <td>...</td>\n",
              "      <td>...</td>\n",
              "      <td>...</td>\n",
              "    </tr>\n",
              "    <tr>\n",
              "      <th>249</th>\n",
              "      <td>CH</td>\n",
              "      <td>2021-07-01</td>\n",
              "      <td>80.8</td>\n",
              "      <td>2.60</td>\n",
              "      <td>5.84</td>\n",
              "      <td>1707</td>\n",
              "      <td>6.4</td>\n",
              "      <td>116</td>\n",
              "    </tr>\n",
              "    <tr>\n",
              "      <th>250</th>\n",
              "      <td>FC</td>\n",
              "      <td>2021-07-01</td>\n",
              "      <td>85.9</td>\n",
              "      <td>2.45</td>\n",
              "      <td>5.98</td>\n",
              "      <td>2005</td>\n",
              "      <td>6.4</td>\n",
              "      <td>139</td>\n",
              "    </tr>\n",
              "    <tr>\n",
              "      <th>251</th>\n",
              "      <td>CU</td>\n",
              "      <td>2021-07-01</td>\n",
              "      <td>73.7</td>\n",
              "      <td>2.46</td>\n",
              "      <td>6.13</td>\n",
              "      <td>2458</td>\n",
              "      <td>6.1</td>\n",
              "      <td>322</td>\n",
              "    </tr>\n",
              "    <tr>\n",
              "      <th>252</th>\n",
              "      <td>CU</td>\n",
              "      <td>2021-07-01</td>\n",
              "      <td>73.6</td>\n",
              "      <td>2.17</td>\n",
              "      <td>6.23</td>\n",
              "      <td>2500</td>\n",
              "      <td>5.9</td>\n",
              "      <td>322</td>\n",
              "    </tr>\n",
              "    <tr>\n",
              "      <th>253</th>\n",
              "      <td>FF</td>\n",
              "      <td>2021-07-01</td>\n",
              "      <td>88.4</td>\n",
              "      <td>2.27</td>\n",
              "      <td>6.12</td>\n",
              "      <td>1733</td>\n",
              "      <td>6.1</td>\n",
              "      <td>131</td>\n",
              "    </tr>\n",
              "  </tbody>\n",
              "</table>\n",
              "<p>254 rows × 8 columns</p>\n",
              "</div>"
            ],
            "text/plain": [
              "    pitch_type   game_date  ...  release_extension  spin_axis\n",
              "0           FC  2021-07-18  ...                6.4        153\n",
              "1           FF  2021-07-18  ...                6.4        130\n",
              "2           FF  2021-07-18  ...                6.4        131\n",
              "3           CH  2021-07-18  ...                6.4        116\n",
              "4           FC  2021-07-18  ...                6.3        148\n",
              "..         ...         ...  ...                ...        ...\n",
              "249         CH  2021-07-01  ...                6.4        116\n",
              "250         FC  2021-07-01  ...                6.4        139\n",
              "251         CU  2021-07-01  ...                6.1        322\n",
              "252         CU  2021-07-01  ...                5.9        322\n",
              "253         FF  2021-07-01  ...                6.1        131\n",
              "\n",
              "[254 rows x 8 columns]"
            ]
          },
          "metadata": {},
          "execution_count": 9
        }
      ]
    },
    {
      "cell_type": "code",
      "metadata": {
        "id": "OmGOU5Pwmy9x",
        "colab": {
          "base_uri": "https://localhost:8080/"
        },
        "outputId": "e082ac76-39d2-42e4-98bc-75c622861b43"
      },
      "source": [
        "result[(result['pitch_type']=='FF') & (result['game_date']=='2021-07-07')].mean()"
      ],
      "execution_count": 10,
      "outputs": [
        {
          "output_type": "execute_result",
          "data": {
            "text/plain": [
              "release_speed          90.535714\n",
              "release_pos_x           2.219762\n",
              "release_pos_z           5.904524\n",
              "release_spin_rate    1927.523810\n",
              "release_extension       6.640476\n",
              "spin_axis             135.904762\n",
              "dtype: float64"
            ]
          },
          "metadata": {},
          "execution_count": 10
        }
      ]
    },
    {
      "cell_type": "code",
      "metadata": {
        "id": "JT4ziwPH06Uc",
        "colab": {
          "base_uri": "https://localhost:8080/"
        },
        "outputId": "069163b0-3963-41e3-8c18-0e7943635baf"
      },
      "source": [
        "result[(result['pitch_type']=='FF') & (result['game_date']=='2021-07-07')].mean()"
      ],
      "execution_count": 16,
      "outputs": [
        {
          "output_type": "execute_result",
          "data": {
            "text/plain": [
              "release_speed          90.535714\n",
              "release_pos_x           2.219762\n",
              "release_pos_z           5.904524\n",
              "release_spin_rate    1927.523810\n",
              "release_extension       6.640476\n",
              "spin_axis             135.904762\n",
              "dtype: float64"
            ]
          },
          "metadata": {},
          "execution_count": 16
        }
      ]
    },
    {
      "cell_type": "code",
      "metadata": {
        "id": "I1u58drfwqaQ",
        "colab": {
          "base_uri": "https://localhost:8080/"
        },
        "outputId": "ddf1510d-8c67-4e3a-eb0c-1d9182286eb5"
      },
      "source": [
        "result[(result['pitch_type']=='FC') & (result['game_date']=='2021-07-07')].mean()"
      ],
      "execution_count": 11,
      "outputs": [
        {
          "output_type": "execute_result",
          "data": {
            "text/plain": [
              "release_speed          86.306250\n",
              "release_pos_x           2.294375\n",
              "release_pos_z           5.891250\n",
              "release_spin_rate    2028.875000\n",
              "release_extension       6.512500\n",
              "spin_axis             182.187500\n",
              "dtype: float64"
            ]
          },
          "metadata": {},
          "execution_count": 11
        }
      ]
    },
    {
      "cell_type": "code",
      "metadata": {
        "id": "UTErSrsLpSru",
        "colab": {
          "base_uri": "https://localhost:8080/"
        },
        "outputId": "527df171-e2d1-4f03-847b-44312076c771"
      },
      "source": [
        "result[(result['pitch_type']=='FF') & (result['game_date']=='2021-07-01')].mean()"
      ],
      "execution_count": 12,
      "outputs": [
        {
          "output_type": "execute_result",
          "data": {
            "text/plain": [
              "release_speed          89.99500\n",
              "release_pos_x           2.18175\n",
              "release_pos_z           5.83600\n",
              "release_spin_rate    2011.72500\n",
              "release_extension       6.43250\n",
              "spin_axis             133.80000\n",
              "dtype: float64"
            ]
          },
          "metadata": {},
          "execution_count": 12
        }
      ]
    },
    {
      "cell_type": "code",
      "metadata": {
        "id": "9CX-NM-TrXaR",
        "colab": {
          "base_uri": "https://localhost:8080/"
        },
        "outputId": "78e7e5ef-2ee5-43a2-c9ef-f6753e73ea55"
      },
      "source": [
        "result[(result['pitch_type']=='FC') & (result['game_date']=='2021-07-01')].mean()"
      ],
      "execution_count": 13,
      "outputs": [
        {
          "output_type": "execute_result",
          "data": {
            "text/plain": [
              "release_speed          85.379167\n",
              "release_pos_x           2.300417\n",
              "release_pos_z           5.864583\n",
              "release_spin_rate    2011.708333\n",
              "release_extension       6.383333\n",
              "spin_axis             149.083333\n",
              "dtype: float64"
            ]
          },
          "metadata": {},
          "execution_count": 13
        }
      ]
    },
    {
      "cell_type": "code",
      "metadata": {
        "id": "i-O9pSQ3wtK-",
        "colab": {
          "base_uri": "https://localhost:8080/"
        },
        "outputId": "8c2fa537-25fb-447d-c24b-5979ee63d011"
      },
      "source": [
        "result[(result['pitch_type']=='CH') & (result['game_date']=='2021-07-07')].mean()"
      ],
      "execution_count": 14,
      "outputs": [
        {
          "output_type": "execute_result",
          "data": {
            "text/plain": [
              "release_speed          81.205556\n",
              "release_pos_x           2.376111\n",
              "release_pos_z           5.831111\n",
              "release_spin_rate    1540.888889\n",
              "release_extension       6.688889\n",
              "spin_axis             119.500000\n",
              "dtype: float64"
            ]
          },
          "metadata": {},
          "execution_count": 14
        }
      ]
    },
    {
      "cell_type": "code",
      "metadata": {
        "id": "lCpw97HG041Z",
        "colab": {
          "base_uri": "https://localhost:8080/"
        },
        "outputId": "a606d22b-ddc6-4359-855d-a010ccefd7fa"
      },
      "source": [
        "result[(result['pitch_type']=='CH') & (result['game_date']=='2021-07-01')].mean()"
      ],
      "execution_count": 15,
      "outputs": [
        {
          "output_type": "execute_result",
          "data": {
            "text/plain": [
              "release_speed          80.058333\n",
              "release_pos_x           2.421667\n",
              "release_pos_z           5.749167\n",
              "release_spin_rate    1572.250000\n",
              "release_extension       6.500000\n",
              "spin_axis             118.333333\n",
              "dtype: float64"
            ]
          },
          "metadata": {},
          "execution_count": 15
        }
      ]
    },
    {
      "cell_type": "code",
      "metadata": {
        "id": "-ttfMFlp4_AT",
        "colab": {
          "base_uri": "https://localhost:8080/",
          "height": 483
        },
        "outputId": "8a7d0d50-ff91-4007-e9ee-8f21daeb6d1a"
      },
      "source": [
        "import numpy as np\n",
        "result.groupby(['game_date','pitch_type']).agg({'release_speed':np.mean,'pitch_type':np.size,'release_pos_x':np.mean,'release_pos_z':np.mean,'release_spin_rate':np.mean,'release_extension':np.mean})"
      ],
      "execution_count": 17,
      "outputs": [
        {
          "output_type": "execute_result",
          "data": {
            "text/html": [
              "<div>\n",
              "<style scoped>\n",
              "    .dataframe tbody tr th:only-of-type {\n",
              "        vertical-align: middle;\n",
              "    }\n",
              "\n",
              "    .dataframe tbody tr th {\n",
              "        vertical-align: top;\n",
              "    }\n",
              "\n",
              "    .dataframe thead th {\n",
              "        text-align: right;\n",
              "    }\n",
              "</style>\n",
              "<table border=\"1\" class=\"dataframe\">\n",
              "  <thead>\n",
              "    <tr style=\"text-align: right;\">\n",
              "      <th></th>\n",
              "      <th></th>\n",
              "      <th>release_speed</th>\n",
              "      <th>pitch_type</th>\n",
              "      <th>release_pos_x</th>\n",
              "      <th>release_pos_z</th>\n",
              "      <th>release_spin_rate</th>\n",
              "      <th>release_extension</th>\n",
              "    </tr>\n",
              "    <tr>\n",
              "      <th>game_date</th>\n",
              "      <th>pitch_type</th>\n",
              "      <th></th>\n",
              "      <th></th>\n",
              "      <th></th>\n",
              "      <th></th>\n",
              "      <th></th>\n",
              "      <th></th>\n",
              "    </tr>\n",
              "  </thead>\n",
              "  <tbody>\n",
              "    <tr>\n",
              "      <th rowspan=\"4\" valign=\"top\">2021-07-01</th>\n",
              "      <th>CH</th>\n",
              "      <td>80.058333</td>\n",
              "      <td>12</td>\n",
              "      <td>2.421667</td>\n",
              "      <td>5.749167</td>\n",
              "      <td>1572.250000</td>\n",
              "      <td>6.500000</td>\n",
              "    </tr>\n",
              "    <tr>\n",
              "      <th>CU</th>\n",
              "      <td>74.155556</td>\n",
              "      <td>9</td>\n",
              "      <td>2.168889</td>\n",
              "      <td>6.086667</td>\n",
              "      <td>2481.222222</td>\n",
              "      <td>6.177778</td>\n",
              "    </tr>\n",
              "    <tr>\n",
              "      <th>FC</th>\n",
              "      <td>85.379167</td>\n",
              "      <td>24</td>\n",
              "      <td>2.300417</td>\n",
              "      <td>5.864583</td>\n",
              "      <td>2011.708333</td>\n",
              "      <td>6.383333</td>\n",
              "    </tr>\n",
              "    <tr>\n",
              "      <th>FF</th>\n",
              "      <td>89.995000</td>\n",
              "      <td>40</td>\n",
              "      <td>2.181750</td>\n",
              "      <td>5.836000</td>\n",
              "      <td>2011.725000</td>\n",
              "      <td>6.432500</td>\n",
              "    </tr>\n",
              "    <tr>\n",
              "      <th rowspan=\"5\" valign=\"top\">2021-07-07</th>\n",
              "      <th>CH</th>\n",
              "      <td>81.205556</td>\n",
              "      <td>18</td>\n",
              "      <td>2.376111</td>\n",
              "      <td>5.831111</td>\n",
              "      <td>1540.888889</td>\n",
              "      <td>6.688889</td>\n",
              "    </tr>\n",
              "    <tr>\n",
              "      <th>CU</th>\n",
              "      <td>73.775000</td>\n",
              "      <td>8</td>\n",
              "      <td>2.092500</td>\n",
              "      <td>6.076250</td>\n",
              "      <td>2492.875000</td>\n",
              "      <td>6.525000</td>\n",
              "    </tr>\n",
              "    <tr>\n",
              "      <th>FC</th>\n",
              "      <td>86.306250</td>\n",
              "      <td>16</td>\n",
              "      <td>2.294375</td>\n",
              "      <td>5.891250</td>\n",
              "      <td>2028.875000</td>\n",
              "      <td>6.512500</td>\n",
              "    </tr>\n",
              "    <tr>\n",
              "      <th>FF</th>\n",
              "      <td>90.535714</td>\n",
              "      <td>42</td>\n",
              "      <td>2.219762</td>\n",
              "      <td>5.904524</td>\n",
              "      <td>1927.523810</td>\n",
              "      <td>6.640476</td>\n",
              "    </tr>\n",
              "    <tr>\n",
              "      <th>SI</th>\n",
              "      <td>83.950000</td>\n",
              "      <td>2</td>\n",
              "      <td>2.480000</td>\n",
              "      <td>5.690000</td>\n",
              "      <td>1656.000000</td>\n",
              "      <td>6.800000</td>\n",
              "    </tr>\n",
              "    <tr>\n",
              "      <th rowspan=\"4\" valign=\"top\">2021-07-18</th>\n",
              "      <th>CH</th>\n",
              "      <td>82.950000</td>\n",
              "      <td>24</td>\n",
              "      <td>2.303333</td>\n",
              "      <td>5.727917</td>\n",
              "      <td>1569.625000</td>\n",
              "      <td>6.445833</td>\n",
              "    </tr>\n",
              "    <tr>\n",
              "      <th>CU</th>\n",
              "      <td>74.750000</td>\n",
              "      <td>6</td>\n",
              "      <td>2.038333</td>\n",
              "      <td>6.030000</td>\n",
              "      <td>2501.500000</td>\n",
              "      <td>6.116667</td>\n",
              "    </tr>\n",
              "    <tr>\n",
              "      <th>FC</th>\n",
              "      <td>87.252174</td>\n",
              "      <td>23</td>\n",
              "      <td>2.196522</td>\n",
              "      <td>5.861739</td>\n",
              "      <td>1982.608696</td>\n",
              "      <td>6.291304</td>\n",
              "    </tr>\n",
              "    <tr>\n",
              "      <th>FF</th>\n",
              "      <td>90.836667</td>\n",
              "      <td>30</td>\n",
              "      <td>2.134333</td>\n",
              "      <td>5.850667</td>\n",
              "      <td>1944.300000</td>\n",
              "      <td>6.360000</td>\n",
              "    </tr>\n",
              "  </tbody>\n",
              "</table>\n",
              "</div>"
            ],
            "text/plain": [
              "                       release_speed  ...  release_extension\n",
              "game_date  pitch_type                 ...                   \n",
              "2021-07-01 CH              80.058333  ...           6.500000\n",
              "           CU              74.155556  ...           6.177778\n",
              "           FC              85.379167  ...           6.383333\n",
              "           FF              89.995000  ...           6.432500\n",
              "2021-07-07 CH              81.205556  ...           6.688889\n",
              "           CU              73.775000  ...           6.525000\n",
              "           FC              86.306250  ...           6.512500\n",
              "           FF              90.535714  ...           6.640476\n",
              "           SI              83.950000  ...           6.800000\n",
              "2021-07-18 CH              82.950000  ...           6.445833\n",
              "           CU              74.750000  ...           6.116667\n",
              "           FC              87.252174  ...           6.291304\n",
              "           FF              90.836667  ...           6.360000\n",
              "\n",
              "[13 rows x 6 columns]"
            ]
          },
          "metadata": {},
          "execution_count": 17
        }
      ]
    },
    {
      "cell_type": "code",
      "metadata": {
        "id": "vsNI5kUn6J5Q"
      },
      "source": [
        "loc1=result[(result['pitch_type']=='FF') & (result['game_date']=='2021-07-18')]\n",
        "loc2=result[(result['pitch_type']=='FC') & (result['game_date']=='2021-07-18')]\n",
        "loc3=result[(result['pitch_type']=='CU') & (result['game_date']=='2021-07-18')]\n",
        "loc4=result[(result['pitch_type']=='CH') & (result['game_date']=='2021-07-18')]"
      ],
      "execution_count": 18,
      "outputs": []
    },
    {
      "cell_type": "code",
      "metadata": {
        "colab": {
          "base_uri": "https://localhost:8080/",
          "height": 281
        },
        "id": "qYbe_iih4JBK",
        "outputId": "b66d0eb9-5c3b-43f5-e61b-cbf7c90b25eb"
      },
      "source": [
        "\n",
        "import matplotlib.pyplot as plt\n",
        "\n",
        "plt.scatter(loc1.release_pos_x,loc1.release_pos_z,color='red',alpha=0.5)\n",
        "plt.scatter(loc2.release_pos_x,loc2.release_pos_z,color='violet',alpha=0.5)\n",
        "plt.scatter(loc3.release_pos_x,loc3.release_pos_z,color='blue',alpha=0.5)\n",
        "plt.scatter(loc4.release_pos_x,loc4.release_pos_z,color='yellow',alpha=0.5)\n",
        "plt.axis([0, 3, 0, 7])\n",
        "plt.legend(['FF','FC','CU','CH'],loc=4)\n",
        "plt.title('July 19th Release point')\n",
        "\n",
        "plt.savefig('pitchs')\n",
        "plt.show()"
      ],
      "execution_count": 19,
      "outputs": [
        {
          "output_type": "display_data",
          "data": {
            "image/png": "[encoded data removed]",
            "text/plain": [
              "<Figure size 432x288 with 1 Axes>"
            ]
          },
          "metadata": {
            "needs_background": "light"
          }
        }
      ]
    },
    {
      "cell_type": "code",
      "metadata": {
        "colab": {
          "base_uri": "https://localhost:8080/",
          "height": 281
        },
        "id": "Q61ivMkm4Mdr",
        "outputId": "f42471f3-8c7d-490d-baa3-3a05512bcd6d"
      },
      "source": [
        "\n",
        "loc1=result[(result['pitch_type']=='FF') & (result['game_date']=='2021-07-01')]\n",
        "loc2=result[(result['pitch_type']=='FC') & (result['game_date']=='2021-07-01')]\n",
        "loc3=result[(result['pitch_type']=='CU') & (result['game_date']=='2021-07-01')]\n",
        "loc4=result[(result['pitch_type']=='CH') & (result['game_date']=='2021-07-01')]\n",
        "\n",
        "plt.scatter(loc1.release_pos_x,loc1.release_pos_z,color='red')\n",
        "plt.scatter(loc2.release_pos_x,loc2.release_pos_z,color='violet')\n",
        "plt.scatter(loc3.release_pos_x,loc3.release_pos_z,color='blue')\n",
        "plt.scatter(loc4.release_pos_x,loc4.release_pos_z,color='yellow')\n",
        "plt.axis([0, 3, 0, 7])\n",
        "plt.legend(['FF','FC','CU','CH'],loc=4)\n",
        "plt.title('July 1st Release point')\n",
        "\n",
        "plt.savefig('pitchs1')\n",
        "plt.show()"
      ],
      "execution_count": 20,
      "outputs": [
        {
          "output_type": "display_data",
          "data": {
            "image/png": "[encoded data removed]",
            "text/plain": [
              "<Figure size 432x288 with 1 Axes>"
            ]
          },
          "metadata": {
            "needs_background": "light"
          }
        }
      ]
    },
    {
      "cell_type": "code",
      "metadata": {
        "id": "hi-kFZPF4Xe1"
      },
      "source": [
        "target=ryu_stats[['game_date','pitch_type','plate_x', 'plate_z']]"
      ],
      "execution_count": 21,
      "outputs": []
    },
    {
      "cell_type": "code",
      "metadata": {
        "id": "pFfTwlpw4htj"
      },
      "source": [
        "target_FF=target[(target['game_date']=='2021-07-18') & (target['pitch_type']=='FF')]\n",
        "target_FC=target[(target['game_date']=='2021-07-18') & (target['pitch_type']=='FC')]\n",
        "target_CH=target[(target['game_date']=='2021-07-18') & (target['pitch_type']=='CH')]\n",
        "target_CU=target[(target['game_date']=='2021-07-18') & (target['pitch_type']=='CU')]"
      ],
      "execution_count": 22,
      "outputs": []
    },
    {
      "cell_type": "code",
      "metadata": {
        "colab": {
          "base_uri": "https://localhost:8080/",
          "height": 281
        },
        "id": "XGcx3bZy4lAl",
        "outputId": "86dc43c5-9459-43cf-f74d-958788d45521"
      },
      "source": [
        "fig,ax = plt.subplots()\n",
        "plt.scatter(target_FF.plate_x,target_FF.plate_z,color='red')\n",
        "plt.scatter(target_FC.plate_x,target_FC.plate_z,color='chocolate')\n",
        "plt.scatter(target_CH.plate_x,target_CH.plate_z,color='green')\n",
        "plt.scatter(target_CU.plate_x,target_CU.plate_z,color='deepskyblue')\n",
        "import matplotlib.patches as patches\n",
        "ax.add_patch(\n",
        "    patches.Rectangle((-0.7, 1.6),1.4,1.9,edgecolor = 'blue',fill=False)\n",
        ")\n",
        "plt.legend(['','FF','FC','CH','CU'],loc=4)\n",
        "plt.axis([-5, 5, -2, 5])\n",
        "plt.title('Location of All pitching at July 19,21')\n",
        "plt.show()"
      ],
      "execution_count": 23,
      "outputs": [
        {
          "output_type": "display_data",
          "data": {
            "image/png": "[encoded data removed]",
            "text/plain": [
              "<Figure size 432x288 with 1 Axes>"
            ]
          },
          "metadata": {
            "needs_background": "light"
          }
        }
      ]
    },
    {
      "cell_type": "code",
      "metadata": {
        "id": "DKx2Knpz4nrN"
      },
      "source": [
        "import matplotlib.patches as patches\n",
        "from datetime import datetime\n",
        "\n",
        "def date_pitch(start_date,end_date=datetime.today()):\n",
        "\n",
        "    end_date = end_date.strftime(\"%Y-%m-%d\")\n",
        "    \n",
        "    # 데이터 로드\n",
        "    ryu_stats = statcast_pitcher(start_dt= start_date, end_dt= end_date, player_id = 547943)\n",
        "\n",
        "    # 데이터 선택\n",
        "    target=ryu_stats[['game_date','pitch_type','plate_x', 'plate_z']]\n",
        "    \n",
        "    # 구종별 저장\n",
        "    target_FF=target[(target['game_date']== start_date) & (target['pitch_type']=='FF')]\n",
        "    target_FC=target[(target['game_date']== start_date) & (target['pitch_type']=='FC')]\n",
        "    target_CH=target[(target['game_date']== start_date) & (target['pitch_type']=='CH')]\n",
        "    target_CU=target[(target['game_date']== start_date) & (target['pitch_type']=='CU')]\n",
        "\n",
        "    # 시각화\n",
        "    fig,ax = plt.subplots()\n",
        "    plt.scatter(target_FF.plate_x,target_FF.plate_z,color='red')\n",
        "    plt.scatter(target_FC.plate_x,target_FC.plate_z,color='chocolate')\n",
        "    plt.scatter(target_CH.plate_x,target_CH.plate_z,color='green')\n",
        "    plt.scatter(target_CU.plate_x,target_CU.plate_z,color='deepskyblue')\n",
        "    \n",
        "    # 스트라이크 존\n",
        "    ax.add_patch(patches.Rectangle((-0.7, 1.6),1.4,1.9,edgecolor = 'blue',fill=False))\n",
        "    \n",
        "    plt.legend(['','FF','FC','CH','CU'],loc=4)\n",
        "    plt.axis([-5, 5, -2, 5])\n",
        "    plt.show()\n",
        "\n",
        "    return 0"
      ],
      "execution_count": 63,
      "outputs": []
    },
    {
      "cell_type": "code",
      "metadata": {
        "colab": {
          "base_uri": "https://localhost:8080/",
          "height": 305
        },
        "id": "gSNwEwI86GuK",
        "outputId": "0bacc69b-86f0-4cb8-f7c8-953059b329dc"
      },
      "source": [
        "date_pitch(start_date = '2021-09-17')"
      ],
      "execution_count": 64,
      "outputs": [
        {
          "output_type": "stream",
          "name": "stdout",
          "text": [
            "Gathering Player Data\n"
          ]
        },
        {
          "output_type": "display_data",
          "data": {
            "image/png": "[encoded data removed]",
            "text/plain": [
              "<Figure size 432x288 with 1 Axes>"
            ]
          },
          "metadata": {
            "needs_background": "light"
          }
        },
        {
          "output_type": "execute_result",
          "data": {
            "text/plain": [
              "0"
            ]
          },
          "metadata": {},
          "execution_count": 64
        }
      ]
    },
    {
      "cell_type": "code",
      "metadata": {
        "id": "2GyNHVhB-0iz"
      },
      "source": [
        "def release_point(start_date,end_date=datetime.today(),verti_angle=30,hori_angle=0):\n",
        "    \n",
        "    # end_dt 변환\n",
        "    end_date = end_date.strftime('%Y-%m-%d')\n",
        "    \n",
        "    # 정보 불러오기\n",
        "    ryu_stats = statcast_pitcher(start_dt=start_date, end_dt= end_date , player_id = 547943)\n",
        "\n",
        "    # 변수설정\n",
        "    result = ryu_stats[['game_date','pitch_type','release_pos_x','release_pos_y', 'release_pos_z']]\n",
        "\n",
        "    # 구종별 저장\n",
        "    loc1=result[(result['pitch_type']=='FF') & (result['game_date']==start_date)]\n",
        "    loc2=result[(result['pitch_type']=='FC') & (result['game_date']==start_date)]\n",
        "    loc3=result[(result['pitch_type']=='CU') & (result['game_date']==start_date)]\n",
        "    loc4=result[(result['pitch_type']=='CH') & (result['game_date']==start_date)]\n",
        "\n",
        "    # 시각화\n",
        "    fig = plt.figure(figsize=(6, 6))\n",
        "    ax = fig.add_subplot(111, projection='3d')\n",
        "    ax.scatter(loc1.release_pos_x,loc1.release_pos_y,loc1.release_pos_z,color='red')\n",
        "    ax.scatter(loc2.release_pos_x,loc2.release_pos_y,loc2.release_pos_z,color='chocolate')\n",
        "    ax.scatter(loc3.release_pos_x,loc3.release_pos_y,loc3.release_pos_z,color='green')\n",
        "    ax.scatter(loc4.release_pos_x,loc4.release_pos_y,loc4.release_pos_z,color='deepskyblue')\n",
        "\n",
        "\n",
        "    ax.legend(['FF','FC','CH','CU'],loc=4)\n",
        "    ax.set_xlim(0,3)\n",
        "    ax.set_ylim(51,57)\n",
        "    ax.set_zlim(0,7)\n",
        "\n",
        "    # 각도설정\n",
        "    ax.view_init(verti_angle,hori_angle)\n",
        "    plt.show()\n",
        "\n",
        "    return 0\n"
      ],
      "execution_count": 75,
      "outputs": []
    },
    {
      "cell_type": "code",
      "metadata": {
        "colab": {
          "base_uri": "https://localhost:8080/",
          "height": 393
        },
        "id": "fLTKyLUUBW3N",
        "outputId": "9cccd021-63c3-4ee8-d34c-c0baf0e16d29"
      },
      "source": [
        "release_point(start_date='2021-09-17',verti_angle=0,hori_angle=90)"
      ],
      "execution_count": 76,
      "outputs": [
        {
          "output_type": "stream",
          "name": "stdout",
          "text": [
            "Gathering Player Data\n"
          ]
        },
        {
          "output_type": "display_data",
          "data": {
            "image/png": "[encoded data removed]",
            "text/plain": [
              "<Figure size 432x432 with 1 Axes>"
            ]
          },
          "metadata": {
            "needs_background": "light"
          }
        },
        {
          "output_type": "execute_result",
          "data": {
            "text/plain": [
              "0"
            ]
          },
          "metadata": {},
          "execution_count": 76
        }
      ]
    },
    {
      "cell_type": "code",
      "metadata": {
        "colab": {
          "base_uri": "https://localhost:8080/",
          "height": 393
        },
        "id": "DXmPsc14Bf2-",
        "outputId": "579f767f-a66b-4f20-80cd-e83bcb9a8bfd"
      },
      "source": [
        "release_point(start_date='2021-07-18',verti_angle=0,hori_angle=90)"
      ],
      "execution_count": 77,
      "outputs": [
        {
          "output_type": "stream",
          "name": "stdout",
          "text": [
            "Gathering Player Data\n"
          ]
        },
        {
          "output_type": "display_data",
          "data": {
            "image/png": "[encoded data removed]",
            "text/plain": [
              "<Figure size 432x432 with 1 Axes>"
            ]
          },
          "metadata": {
            "needs_background": "light"
          }
        },
        {
          "output_type": "execute_result",
          "data": {
            "text/plain": [
              "0"
            ]
          },
          "metadata": {},
          "execution_count": 77
        }
      ]
    },
    {
      "cell_type": "code",
      "metadata": {
        "colab": {
          "base_uri": "https://localhost:8080/",
          "height": 393
        },
        "id": "5wfLguNPC4Vv",
        "outputId": "018a679b-5793-4351-8025-de6881040834"
      },
      "source": [
        "release_point(start_date='2021-07-18',verti_angle=0,hori_angle=0)"
      ],
      "execution_count": 78,
      "outputs": [
        {
          "output_type": "stream",
          "name": "stdout",
          "text": [
            "Gathering Player Data\n"
          ]
        },
        {
          "output_type": "display_data",
          "data": {
            "image/png": "[encoded data removed]",
            "text/plain": [
              "<Figure size 432x432 with 1 Axes>"
            ]
          },
          "metadata": {
            "needs_background": "light"
          }
        },
        {
          "output_type": "execute_result",
          "data": {
            "text/plain": [
              "0"
            ]
          },
          "metadata": {},
          "execution_count": 78
        }
      ]
    },
    {
      "cell_type": "code",
      "metadata": {
        "colab": {
          "base_uri": "https://localhost:8080/",
          "height": 393
        },
        "id": "_TkwU7FCDryB",
        "outputId": "6c1913ca-2f0a-45fb-d57b-97ae4c3c162f"
      },
      "source": [
        "release_point(start_date='2021-09-17',verti_angle=0,hori_angle=0)"
      ],
      "execution_count": 79,
      "outputs": [
        {
          "output_type": "stream",
          "name": "stdout",
          "text": [
            "Gathering Player Data\n"
          ]
        },
        {
          "output_type": "display_data",
          "data": {
            "image/png": "[encoded data removed]",
            "text/plain": [
              "<Figure size 432x432 with 1 Axes>"
            ]
          },
          "metadata": {
            "needs_background": "light"
          }
        },
        {
          "output_type": "execute_result",
          "data": {
            "text/plain": [
              "0"
            ]
          },
          "metadata": {},
          "execution_count": 79
        }
      ]
    },
    {
      "cell_type": "code",
      "metadata": {
        "colab": {
          "base_uri": "https://localhost:8080/",
          "height": 393
        },
        "id": "iOp_F6AHDuTu",
        "outputId": "ad22c14f-49b8-4daa-c049-fa7d94cc23e6"
      },
      "source": [
        "release_point(start_date='2021-07-18',verti_angle=30,hori_angle=30)"
      ],
      "execution_count": 81,
      "outputs": [
        {
          "output_type": "stream",
          "name": "stdout",
          "text": [
            "Gathering Player Data\n"
          ]
        },
        {
          "output_type": "display_data",
          "data": {
            "image/png": "[encoded data removed]",
            "text/plain": [
              "<Figure size 432x432 with 1 Axes>"
            ]
          },
          "metadata": {
            "needs_background": "light"
          }
        },
        {
          "output_type": "execute_result",
          "data": {
            "text/plain": [
              "0"
            ]
          },
          "metadata": {},
          "execution_count": 81
        }
      ]
    },
    {
      "cell_type": "code",
      "metadata": {
        "colab": {
          "base_uri": "https://localhost:8080/",
          "height": 393
        },
        "id": "IO3rkio4D082",
        "outputId": "293ae739-567b-4902-fb02-9bd297e2d46f"
      },
      "source": [
        "release_point(start_date='2021-09-17',verti_angle=30,hori_angle=30)"
      ],
      "execution_count": 82,
      "outputs": [
        {
          "output_type": "stream",
          "name": "stdout",
          "text": [
            "Gathering Player Data\n"
          ]
        },
        {
          "output_type": "display_data",
          "data": {
            "image/png": "[encoded data removed]",
            "text/plain": [
              "<Figure size 432x432 with 1 Axes>"
            ]
          },
          "metadata": {
            "needs_background": "light"
          }
        },
        {
          "output_type": "execute_result",
          "data": {
            "text/plain": [
              "0"
            ]
          },
          "metadata": {},
          "execution_count": 82
        }
      ]
    },
    {
      "cell_type": "code",
      "metadata": {
        "colab": {
          "base_uri": "https://localhost:8080/",
          "height": 393
        },
        "id": "jxz13saBEkJG",
        "outputId": "2b743a04-9b07-43fe-d7e5-897b01f2afd2"
      },
      "source": [
        "release_point(start_date='2021-07-18',verti_angle=30,hori_angle=-30)"
      ],
      "execution_count": 84,
      "outputs": [
        {
          "output_type": "stream",
          "name": "stdout",
          "text": [
            "Gathering Player Data\n"
          ]
        },
        {
          "output_type": "display_data",
          "data": {
            "image/png": "[encoded data removed]",
            "text/plain": [
              "<Figure size 432x432 with 1 Axes>"
            ]
          },
          "metadata": {
            "needs_background": "light"
          }
        },
        {
          "output_type": "execute_result",
          "data": {
            "text/plain": [
              "0"
            ]
          },
          "metadata": {},
          "execution_count": 84
        }
      ]
    },
    {
      "cell_type": "code",
      "metadata": {
        "colab": {
          "base_uri": "https://localhost:8080/",
          "height": 393
        },
        "id": "JHO4sIWqEhxD",
        "outputId": "6cab4f5c-a42e-4bb8-829c-0c074a9269d7"
      },
      "source": [
        "release_point(start_date='2021-09-17',verti_angle=30,hori_angle=-30)"
      ],
      "execution_count": 83,
      "outputs": [
        {
          "output_type": "stream",
          "name": "stdout",
          "text": [
            "Gathering Player Data\n"
          ]
        },
        {
          "output_type": "display_data",
          "data": {
            "image/png": "[encoded data removed]",
            "text/plain": [
              "<Figure size 432x432 with 1 Axes>"
            ]
          },
          "metadata": {
            "needs_background": "light"
          }
        },
        {
          "output_type": "execute_result",
          "data": {
            "text/plain": [
              "0"
            ]
          },
          "metadata": {},
          "execution_count": 83
        }
      ]
    },
    {
      "cell_type": "code",
      "metadata": {
        "id": "X_cBt_yrEp52"
      },
      "source": [
        ""
      ],
      "execution_count": null,
      "outputs": []
    }
  ]
}