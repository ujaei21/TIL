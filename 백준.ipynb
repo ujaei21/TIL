{
  "nbformat": 4,
  "nbformat_minor": 0,
  "metadata": {
    "colab": {
      "name": "백준.ipynb",
      "provenance": [],
      "collapsed_sections": [],
      "authorship_tag": "ABX9TyN8aXZznLP9Bum9wrurc5ya",
      "include_colab_link": true
    },
    "kernelspec": {
      "name": "python3",
      "display_name": "Python 3"
    },
    "language_info": {
      "name": "python"
    }
  },
  "cells": [
    {
      "cell_type": "markdown",
      "metadata": {
        "id": "view-in-github",
        "colab_type": "text"
      },
      "source": [
        "<a href=\"https://colab.research.google.com/github/ujaei21/TIL/blob/master/%EB%B0%B1%EC%A4%80.ipynb\" target=\"_parent\"><img src=\"https://colab.research.google.com/assets/colab-badge.svg\" alt=\"Open In Colab\"/></a>"
      ]
    },
    {
      "cell_type": "code",
      "metadata": {
        "id": "_yRR5ouzTG8t"
      },
      "source": [
        " a,b =input('input two numbers: ').split()\n",
        " print(int(a)+int(b))"
      ],
      "execution_count": null,
      "outputs": []
    },
    {
      "cell_type": "code",
      "metadata": {
        "id": "5ef78dGoTs11"
      },
      "source": [
        "a,b = map(int,input().split())\n",
        "print(a+b)"
      ],
      "execution_count": null,
      "outputs": []
    },
    {
      "cell_type": "code",
      "metadata": {
        "id": "Nr4UfljcUHQY"
      },
      "source": [
        "def fibonachi(n):\n",
        "    if n == 0:\n",
        "        return 0\n",
        "    elif n == 1:\n",
        "        return 1\n",
        "    else:\n",
        "        return fibonachi(n-1) + fibonachi(n-2)\n"
      ],
      "execution_count": null,
      "outputs": []
    },
    {
      "cell_type": "code",
      "metadata": {
        "id": "h1rCkXAHXv3-"
      },
      "source": [
        "fibonachi(5)"
      ],
      "execution_count": null,
      "outputs": []
    },
    {
      "cell_type": "code",
      "metadata": {
        "id": "iHjq5Tl7XyEJ"
      },
      "source": [
        "print(\"\\\\    /\\\\\")\n",
        "print(\" )  ( ')\")\n",
        "print(\"(  /  )\")\n",
        "print(\" \\\\(__) |\")"
      ],
      "execution_count": null,
      "outputs": []
    },
    {
      "cell_type": "code",
      "metadata": {
        "id": "U3Qx-RhvaCIO"
      },
      "source": [
        "print(\"\\\\    /\\\\\")\n",
        "print(\" )  ( ')\")\n",
        "print(\"(  /  )\")\n",
        "print(\" \\\\(__)|\")"
      ],
      "execution_count": null,
      "outputs": []
    },
    {
      "cell_type": "code",
      "metadata": {
        "id": "MnhqLNUSfzW1"
      },
      "source": [
        "# 첫째 줄에 A+B, 둘째 줄에 A-B, 셋째 줄에 A*B, 넷째 줄에 A/B, 다섯째 줄에 A%B를 출력한다.\n",
        "a,b = map(int,input().split())\n",
        "print(a+b)\n",
        "print(a-b)\n",
        "print(a*b)\n",
        "print(a//b)\n",
        "print(a%b)"
      ],
      "execution_count": null,
      "outputs": []
    },
    {
      "cell_type": "code",
      "metadata": {
        "id": "q2mkik8li53P"
      },
      "source": [
        "# 첫째 줄에 (A+B)%C, 둘째 줄에 ((A%C) + (B%C))%C, 셋째 줄에 (A×B)%C, 넷째 줄에 ((A%C) × (B%C))%C를 \n",
        "# 출력한다.\n",
        "a,b,c = map(int,input().split())\n",
        "print((a+b)%c)\n",
        "print(((a%c)+(b%c))%c)\n",
        "print((a*b)%c)\n",
        "print(((a%c)*(b%c))%c)"
      ],
      "execution_count": null,
      "outputs": []
    },
    {
      "cell_type": "code",
      "metadata": {
        "id": "B-qQdUQEj6hf"
      },
      "source": [
        "a = input()\n",
        "for i in range(3):\n",
        "    print(a[i])"
      ],
      "execution_count": null,
      "outputs": []
    },
    {
      "cell_type": "code",
      "metadata": {
        "id": "qEK4pD3NlMj-"
      },
      "source": [
        "a = int(input())\n",
        "b = input()\n",
        "for i in range(1,4):\n",
        "    print(a*int(b[-i]))\n",
        "print(a*int(b))"
      ],
      "execution_count": null,
      "outputs": []
    },
    {
      "cell_type": "code",
      "metadata": {
        "id": "rsvfDNiomGWm"
      },
      "source": [
        "b[-1]"
      ],
      "execution_count": null,
      "outputs": []
    },
    {
      "cell_type": "code",
      "metadata": {
        "id": "aP4oB4lkn4Pe"
      },
      "source": [
        "print('|\\_/|')\n",
        "print('|q p|   /}')\n",
        "print('( 0 )\"\"\"\\\\')\n",
        "print('|\"^\"`    |')\n",
        "print('||_/=\\\\\\\\__|')"
      ],
      "execution_count": null,
      "outputs": []
    },
    {
      "cell_type": "code",
      "metadata": {
        "id": "IOX6WF0wpAuO"
      },
      "source": [
        "a,b = map(int,input().split())\n",
        "if a>b:\n",
        "    print('>')\n",
        "elif a<b:\n",
        "    print('<')\n",
        "else:\n",
        "    print('==')"
      ],
      "execution_count": null,
      "outputs": []
    },
    {
      "cell_type": "code",
      "metadata": {
        "id": "M7qldgH9pRuk",
        "colab": {
          "base_uri": "https://localhost:8080/"
        },
        "outputId": "ed0d96c7-e754-4a7d-89c7-a6f3fc42c1e7"
      },
      "source": [
        "# 2753번\n",
        "# 연도가 주어졌을 때, 윤년이면 1, 아니면 0을 출력하는 프로그램을 작성하시오.\n",
        "\n",
        "# 윤년은 연도가 4의 배수이면서, 100의 배수가 아닐 때 또는 400의 배수일 때이다.\n",
        "\n",
        "# 예를 들어, 2012년은 4의 배수이면서 100의 배수가 아니라서 윤년이다. 1900년은 100의 배수이고 400의 배수는 아니기 때문에 윤년이 아니다. 하지만, 2000년은 400의 배수이기 때문에 윤년이다.\n",
        "\n",
        "year = int(input())\n",
        "\n",
        "if ((year % 4 == 0) and (year % 100 != 0)) or (year%400 == 0):\n",
        "    print(1)\n",
        "else:\n",
        "    print(0)"
      ],
      "execution_count": null,
      "outputs": [
        {
          "output_type": "stream",
          "name": "stdout",
          "text": [
            "2000\n",
            "1\n"
          ]
        }
      ]
    },
    {
      "cell_type": "code",
      "metadata": {
        "colab": {
          "base_uri": "https://localhost:8080/"
        },
        "id": "2WtRqyCW7dk8",
        "outputId": "dbbe9a36-3fb8-4344-a937-9678edf25ace"
      },
      "source": [
        "2000%4"
      ],
      "execution_count": null,
      "outputs": [
        {
          "output_type": "execute_result",
          "data": {
            "text/plain": [
              "0"
            ]
          },
          "metadata": {},
          "execution_count": 10
        }
      ]
    },
    {
      "cell_type": "code",
      "metadata": {
        "colab": {
          "base_uri": "https://localhost:8080/"
        },
        "id": "6ANu6Ue48He_",
        "outputId": "3e9966f9-6a8d-4435-ec6e-10bf8ab627a7"
      },
      "source": [
        "# 14681번\n",
        "# 흔한 수학 문제 중 하나는 주어진 점이 어느 사분면에 속하는지 알아내는 것이다.\n",
        "\n",
        "x = int(input())\n",
        "y = int(input())\n",
        "\n",
        "if x > 0 and y > 0:\n",
        "    print(1)\n",
        "elif x < 0 and y > 0:\n",
        "    print(2)\n",
        "elif x < 0 and y < 0:\n",
        "    print(3)\n",
        "else:\n",
        "    print(4)"
      ],
      "execution_count": null,
      "outputs": [
        {
          "output_type": "stream",
          "name": "stdout",
          "text": [
            "-12\n",
            "5\n",
            "2\n"
          ]
        }
      ]
    },
    {
      "cell_type": "code",
      "metadata": {
        "colab": {
          "base_uri": "https://localhost:8080/"
        },
        "id": "9uknj11K9j46",
        "outputId": "55c1c9ae-5524-4636-c43a-e97f0b77af00"
      },
      "source": [
        "# 2884 번\n",
        "\n",
        "# 상근이는 매일 아침 알람을 듣고 일어난다. 알람을 듣고 바로 일어나면 다행이겠지만, 항상 조금만 더 자려는 마음 때문에 매일 학교를 지각하고 있다.\n",
        "\n",
        "# 상근이는 모든 방법을 동원해보았지만, 조금만 더 자려는 마음은 그 어떤 것도 없앨 수가 없었다.\n",
        "\n",
        "# 이런 상근이를 불쌍하게 보던, 창영이는 자신이 사용하는 방법을 추천해 주었다.\n",
        "\n",
        "# 바로 \"45분 일찍 알람 설정하기\"이다.\n",
        "\n",
        "# 이 방법은 단순하다. 원래 설정되어 있는 알람을 45분 앞서는 시간으로 바꾸는 것이다. 어차피 알람 소리를 들으면, 알람을 끄고 조금 더 잘 것이기 때문이다. 이 방법을 사용하면, 매일 아침 더 잤다는 기분을 느낄 수 있고, 학교도 지각하지 않게 된다.\n",
        "\n",
        "# 현재 상근이가 설정한 알람 시각이 주어졌을 때, 창영이의 방법을 사용한다면, 이를 언제로 고쳐야 하는지 구하는 프로그램을 작성하시오.\n",
        "\n",
        "H,M = map(int,input().split())\n",
        "if M < 45:\n",
        "    if H == 0:\n",
        "        H = 23\n",
        "        M += 60\n",
        "    else:\n",
        "        H -= 1\n",
        "        M += 60\n",
        "print(H,M-45)"
      ],
      "execution_count": null,
      "outputs": [
        {
          "output_type": "stream",
          "name": "stdout",
          "text": [
            "12 20\n",
            "11 35\n"
          ]
        }
      ]
    },
    {
      "cell_type": "code",
      "metadata": {
        "colab": {
          "base_uri": "https://localhost:8080/"
        },
        "id": "MeKS1gg2_tAn",
        "outputId": "b4b9eadd-aaa1-4d08-89a8-550e933b68c7"
      },
      "source": [
        "# 2739 번\n",
        "\n",
        "# N을 입력받은 뒤, 구구단 N단을 출력하는 프로그램을 작성하시오. 출력 형식에 맞춰서 출력하면 된다.\n",
        "\n",
        "N = int(input())\n",
        "for i in range(1,10):\n",
        "    print(\"{0} * {1} = {2}\".format(N,i,N*i))"
      ],
      "execution_count": null,
      "outputs": [
        {
          "output_type": "stream",
          "name": "stdout",
          "text": [
            "9\n",
            "9 * 1 = 9\n",
            "9 * 2 = 18\n",
            "9 * 3 = 27\n",
            "9 * 4 = 36\n",
            "9 * 5 = 45\n",
            "9 * 6 = 54\n",
            "9 * 7 = 63\n",
            "9 * 8 = 72\n",
            "9 * 9 = 81\n"
          ]
        }
      ]
    },
    {
      "cell_type": "code",
      "metadata": {
        "colab": {
          "base_uri": "https://localhost:8080/"
        },
        "id": "2IV9UPM-AqGb",
        "outputId": "0e669fe9-014c-4df5-c183-72b5c2de2593"
      },
      "source": [
        "# 10950번\n",
        "\n",
        "# 첫째 줄에 테스트 케이스의 개수 T가 주어진다.\n",
        "\n",
        "# 각 테스트 케이스는 한 줄로 이루어져 있으며, 각 줄에 A와 B가 주어진다. (0 < A, B < 10)\n",
        "\n",
        "iter = int(input())\n",
        "\n",
        "for i in range(iter):\n",
        "    a,b = map(int,input().split())\n",
        "    print(a+b)"
      ],
      "execution_count": null,
      "outputs": [
        {
          "output_type": "stream",
          "name": "stdout",
          "text": [
            "5\n",
            "2 3\n",
            "5\n",
            "9 8\n",
            "17\n",
            "5 2\n",
            "7\n",
            "22 23\n",
            "45\n",
            "5 5 \n",
            "10\n"
          ]
        }
      ]
    },
    {
      "cell_type": "code",
      "metadata": {
        "colab": {
          "base_uri": "https://localhost:8080/"
        },
        "id": "8P6V4XJsBrcw",
        "outputId": "ea26d5cc-560c-4787-9b59-53b0df837af4"
      },
      "source": [
        "fin = int(input())\n",
        "num=0\n",
        "\n",
        "for i in range(1,fin+1):\n",
        "    num += i\n",
        "\n",
        "print(num)"
      ],
      "execution_count": null,
      "outputs": [
        {
          "output_type": "stream",
          "name": "stdout",
          "text": [
            "5\n",
            "15\n"
          ]
        }
      ]
    },
    {
      "cell_type": "code",
      "metadata": {
        "id": "GsIZWmoXEHab",
        "colab": {
          "base_uri": "https://localhost:8080/",
          "height": 244
        },
        "outputId": "68d70fb6-b5f1-4739-fc6a-66fe7edc6690"
      },
      "source": [
        "# 15552번 빠른 A+B\n",
        "\n",
        "# 맞았다 뜨는데 여기선 에러\n",
        "\n",
        "import sys\n",
        "\n",
        "iter = int(input())\n",
        "\n",
        "for _ in range(iter):\n",
        "    a,b =  map(int, sys.stdin.readline().rstrip().split())\n",
        "    print(a+b)"
      ],
      "execution_count": null,
      "outputs": [
        {
          "name": "stdout",
          "output_type": "stream",
          "text": [
            "5\n"
          ]
        },
        {
          "output_type": "error",
          "ename": "ValueError",
          "evalue": "ignored",
          "traceback": [
            "\u001b[0;31m---------------------------------------------------------------------------\u001b[0m",
            "\u001b[0;31mValueError\u001b[0m                                Traceback (most recent call last)",
            "\u001b[0;32m<ipython-input-4-9329136f67fd>\u001b[0m in \u001b[0;36m<module>\u001b[0;34m()\u001b[0m\n\u001b[1;32m      4\u001b[0m \u001b[0;34m\u001b[0m\u001b[0m\n\u001b[1;32m      5\u001b[0m \u001b[0;32mfor\u001b[0m \u001b[0m_\u001b[0m \u001b[0;32min\u001b[0m \u001b[0mrange\u001b[0m\u001b[0;34m(\u001b[0m\u001b[0miter\u001b[0m\u001b[0;34m)\u001b[0m\u001b[0;34m:\u001b[0m\u001b[0;34m\u001b[0m\u001b[0;34m\u001b[0m\u001b[0m\n\u001b[0;32m----> 6\u001b[0;31m     \u001b[0ma\u001b[0m\u001b[0;34m,\u001b[0m\u001b[0mb\u001b[0m \u001b[0;34m=\u001b[0m  \u001b[0mmap\u001b[0m\u001b[0;34m(\u001b[0m\u001b[0mint\u001b[0m\u001b[0;34m,\u001b[0m \u001b[0msys\u001b[0m\u001b[0;34m.\u001b[0m\u001b[0mstdin\u001b[0m\u001b[0;34m.\u001b[0m\u001b[0mreadline\u001b[0m\u001b[0;34m(\u001b[0m\u001b[0;34m)\u001b[0m\u001b[0;34m.\u001b[0m\u001b[0mrstrip\u001b[0m\u001b[0;34m(\u001b[0m\u001b[0;34m)\u001b[0m\u001b[0;34m.\u001b[0m\u001b[0msplit\u001b[0m\u001b[0;34m(\u001b[0m\u001b[0;34m)\u001b[0m\u001b[0;34m)\u001b[0m\u001b[0;34m\u001b[0m\u001b[0;34m\u001b[0m\u001b[0m\n\u001b[0m\u001b[1;32m      7\u001b[0m     \u001b[0mprint\u001b[0m\u001b[0;34m(\u001b[0m\u001b[0ma\u001b[0m\u001b[0;34m+\u001b[0m\u001b[0mb\u001b[0m\u001b[0;34m)\u001b[0m\u001b[0;34m\u001b[0m\u001b[0;34m\u001b[0m\u001b[0m\n",
            "\u001b[0;31mValueError\u001b[0m: not enough values to unpack (expected 2, got 0)"
          ]
        }
      ]
    },
    {
      "cell_type": "code",
      "metadata": {
        "colab": {
          "base_uri": "https://localhost:8080/"
        },
        "id": "5_UWipP5DHpG",
        "outputId": "7c3c7ae7-009c-4720-9e61-8f8d8b58c332"
      },
      "source": [
        "# 2714번\n",
        "\n",
        "T = int(input())\n",
        "\n",
        "for i in range(1,T+1):\n",
        "    print(i)"
      ],
      "execution_count": null,
      "outputs": [
        {
          "output_type": "stream",
          "name": "stdout",
          "text": [
            "5\n",
            "1\n",
            "2\n",
            "3\n",
            "4\n",
            "5\n"
          ]
        }
      ]
    },
    {
      "cell_type": "code",
      "metadata": {
        "colab": {
          "base_uri": "https://localhost:8080/"
        },
        "id": "vKxQzAffDbEX",
        "outputId": "ff04ccef-ddaf-4123-de8b-f27f3b77b12c"
      },
      "source": [
        "# 2742번\n",
        "\n",
        "T = int(input())\n",
        "\n",
        "for i in range(T,0,-1):\n",
        "    print(i)"
      ],
      "execution_count": null,
      "outputs": [
        {
          "output_type": "stream",
          "name": "stdout",
          "text": [
            "5\n",
            "5\n",
            "4\n",
            "3\n",
            "2\n",
            "1\n"
          ]
        }
      ]
    },
    {
      "cell_type": "code",
      "metadata": {
        "colab": {
          "base_uri": "https://localhost:8080/"
        },
        "id": "J1VCL1FzDrHx",
        "outputId": "a7084beb-ad5f-4b35-fe67-d832ca535a78"
      },
      "source": [
        "# 11021번\n",
        "\n",
        "T = int(input())\n",
        "\n",
        "for i in range(1,T+1):\n",
        "    a,b = map(int,input().split())\n",
        "    print(\"Case #\"+str(i)+\":\",a+b)"
      ],
      "execution_count": null,
      "outputs": [
        {
          "output_type": "stream",
          "name": "stdout",
          "text": [
            "2\n",
            "1 2\n",
            "Case #1: 3\n",
            "2 3\n",
            "Case #2: 5\n"
          ]
        }
      ]
    },
    {
      "cell_type": "code",
      "metadata": {
        "colab": {
          "base_uri": "https://localhost:8080/"
        },
        "id": "8cJTMsacHQ-8",
        "outputId": "dd87c440-d521-4483-e2ba-b3656ed40838"
      },
      "source": [
        "# 11022번 \n",
        "\n",
        "# 각 테스트 케이스마다 \"Case #x: A + B = C\" 형식으로 출력한다. x는 테스트 케이스 번호이고 1부터 시작하며, C는 A+B이다.\n",
        "\n",
        "T = int(input())\n",
        "\n",
        "for i in range(1,T+1):\n",
        "    a,b = map(int,input().split())\n",
        "    print(\"Case #\"+str(i)+\":\",a,\"+\",b,'=',a+b)"
      ],
      "execution_count": null,
      "outputs": [
        {
          "output_type": "stream",
          "name": "stdout",
          "text": [
            "2\n",
            "5 7\n",
            "Case #1: 5 + 7 = 12\n",
            "5 5\n",
            "Case #2: 5 + 5 = 10\n"
          ]
        }
      ]
    },
    {
      "cell_type": "code",
      "metadata": {
        "colab": {
          "base_uri": "https://localhost:8080/"
        },
        "id": "bhY-HO10INU9",
        "outputId": "1bb476fa-5281-434f-ebe4-8aa552885e95"
      },
      "source": [
        "# 2438\n",
        "\n",
        "iter = int(input())\n",
        "\n",
        "for i in range(1,iter+1):\n",
        "    for j in range(i):\n",
        "        print('*',end='') \n",
        "    print()"
      ],
      "execution_count": null,
      "outputs": [
        {
          "output_type": "stream",
          "name": "stdout",
          "text": [
            "5\n",
            "    *\n",
            "   **\n",
            "  ***\n",
            " ****\n",
            "*****\n"
          ]
        }
      ]
    },
    {
      "cell_type": "code",
      "metadata": {
        "colab": {
          "base_uri": "https://localhost:8080/"
        },
        "id": "TU-SY2ptIw0j",
        "outputId": "53cce1ec-7677-49ca-c94d-f2623e6d2a82"
      },
      "source": [
        "# 2439\n",
        "\n",
        "iter = int(input())\n",
        "\n",
        "for i in range(1,iter+1):\n",
        "    for j in range(iter-i,0,-1):\n",
        "        print(' ',end='')\n",
        "    for j in range(i):\n",
        "        print('*',end='') \n",
        "    print()"
      ],
      "execution_count": null,
      "outputs": [
        {
          "output_type": "stream",
          "name": "stdout",
          "text": [
            "5\n",
            "    *\n",
            "   **\n",
            "  ***\n",
            " ****\n",
            "*****\n"
          ]
        }
      ]
    },
    {
      "cell_type": "code",
      "metadata": {
        "colab": {
          "base_uri": "https://localhost:8080/"
        },
        "id": "zvtiMWrlOU-7",
        "outputId": "2bb0bee9-272e-4f0e-d36d-94e2de74b5be"
      },
      "source": [
        "# 10872\n",
        "iter, stand = map(int,input().split())\n",
        "a=list(map(int,input().split()))\n",
        "for i in a:\n",
        "    if i < stand:\n",
        "        print(i,end=' ')"
      ],
      "execution_count": null,
      "outputs": [
        {
          "output_type": "stream",
          "name": "stdout",
          "text": [
            "10 5\n",
            "1 10 4 9 2 3 8 5 7 6\n",
            "1 4 2 3 "
          ]
        }
      ]
    },
    {
      "cell_type": "code",
      "metadata": {
        "colab": {
          "base_uri": "https://localhost:8080/"
        },
        "id": "6_nwvfWLHiT8",
        "outputId": "647f4ea5-50aa-41b5-da91-cfa90b45d0af"
      },
      "source": [
        "# 10952\n",
        "\n",
        "while True:\n",
        "    a,b = map(int,input().split())\n",
        "    if a == 0 and b == 0:\n",
        "        break\n",
        "    else:\n",
        "        print(a+b)"
      ],
      "execution_count": null,
      "outputs": [
        {
          "name": "stdout",
          "output_type": "stream",
          "text": [
            "1 2\n",
            "3\n",
            "4 5\n",
            "9\n",
            "0 5\n",
            "5\n",
            "0 0\n"
          ]
        }
      ]
    },
    {
      "cell_type": "code",
      "metadata": {
        "id": "oD5ZTaZUJkz1"
      },
      "source": [
        "# 10951\n",
        "\n",
        "while True:\n",
        "    try:\n",
        "        a,b = map(int,input().split())\n",
        "        print(a+b)\n",
        "    except:\n",
        "        break\n",
        "    "
      ],
      "execution_count": null,
      "outputs": []
    },
    {
      "cell_type": "code",
      "metadata": {
        "colab": {
          "base_uri": "https://localhost:8080/"
        },
        "id": "EsndtL37KAvr",
        "outputId": "42d59942-76c1-4011-caa3-ed9c5a63c48a"
      },
      "source": [
        "# 1110\n",
        "origin = int(input())\n",
        "num = origin\n",
        "cnt = 0\n",
        "while 1:\n",
        "    sum_num = num//10 + num %10\n",
        "    new_num = ((num%10)*10) + sum_num % 10  \n",
        "    cnt += 1\n",
        "    if new_num == origin:\n",
        "        break\n",
        "    num = new_num\n",
        "print(cnt)"
      ],
      "execution_count": null,
      "outputs": [
        {
          "output_type": "stream",
          "name": "stdout",
          "text": [
            "26\n",
            "4\n"
          ]
        }
      ]
    },
    {
      "cell_type": "code",
      "metadata": {
        "id": "uWjOBbx_M5XW",
        "colab": {
          "base_uri": "https://localhost:8080/"
        },
        "outputId": "44078d54-0913-448b-863b-de22c1a72abb"
      },
      "source": [
        "# 10818 번\n",
        "\n",
        "N = int(input())\n",
        "array = list(map(int,input().split()))\n",
        "array.sort()\n",
        "print(array[0], array[N-1])"
      ],
      "execution_count": null,
      "outputs": [
        {
          "output_type": "stream",
          "name": "stdout",
          "text": [
            "5\n",
            "20 10 35 30 7\n",
            "7 35\n"
          ]
        }
      ]
    },
    {
      "cell_type": "code",
      "metadata": {
        "colab": {
          "base_uri": "https://localhost:8080/"
        },
        "id": "9U68wm9qUOci",
        "outputId": "816af661-5828-409f-cc2b-3fc0853e001e"
      },
      "source": [
        "# 2562 번\n",
        "arr = list()\n",
        "for i in range(9):\n",
        "    arr.insert(i,int(input()))\n",
        "print(arr)"
      ],
      "execution_count": null,
      "outputs": [
        {
          "output_type": "stream",
          "name": "stdout",
          "text": [
            "3\n",
            "29\n",
            "38\n",
            "12\n",
            "57\n",
            "74\n",
            "40\n",
            "85\n",
            "61\n",
            "[3, 29, 38, 12, 57, 74, 40, 85, 61]\n"
          ]
        }
      ]
    },
    {
      "cell_type": "code",
      "metadata": {
        "colab": {
          "base_uri": "https://localhost:8080/"
        },
        "id": "sy6Ml-DLWzre",
        "outputId": "cb3a1e5d-4bda-4fc1-a384-dc3d0aab05bc"
      },
      "source": [
        "print(max(arr))\n",
        "print(arr.index(max(arr)))"
      ],
      "execution_count": null,
      "outputs": [
        {
          "output_type": "stream",
          "name": "stdout",
          "text": [
            "85\n",
            "7\n"
          ]
        }
      ]
    },
    {
      "cell_type": "code",
      "metadata": {
        "colab": {
          "base_uri": "https://localhost:8080/"
        },
        "id": "MWadDo3qXraP",
        "outputId": "2f6b195a-d2bb-485b-d152-26034f937497"
      },
      "source": [
        "# 2562 번\n",
        "arr = list()\n",
        "for i in range(9):\n",
        "    arr.insert(i,int(input()))\n",
        "print(max(arr))\n",
        "print(arr.index(max(arr))+1)"
      ],
      "execution_count": null,
      "outputs": [
        {
          "output_type": "stream",
          "name": "stdout",
          "text": [
            "3\n",
            "29\n",
            "38\n",
            "12\n",
            "57\n",
            "74\n",
            "40\n",
            "85\n",
            "61\n",
            "85\n",
            "8\n"
          ]
        }
      ]
    },
    {
      "cell_type": "code",
      "metadata": {
        "colab": {
          "base_uri": "https://localhost:8080/"
        },
        "id": "cOCmA--VX-Hn",
        "outputId": "6d172c9e-8b20-4131-d559-9cf28d79cb3b"
      },
      "source": [
        "# 2577번\n",
        "A = int(input())\n",
        "B = int(input())\n",
        "C = int(input())\n",
        "print(A*B*C)"
      ],
      "execution_count": null,
      "outputs": [
        {
          "output_type": "stream",
          "name": "stdout",
          "text": [
            "150\n",
            "266\n",
            "427\n",
            "17037300\n"
          ]
        }
      ]
    },
    {
      "cell_type": "code",
      "metadata": {
        "colab": {
          "base_uri": "https://localhost:8080/"
        },
        "id": "xO717ffWZ8eQ",
        "outputId": "a2095e86-3504-4708-abc5-25758beca910"
      },
      "source": [
        "arr=[0]*10\n",
        "print(arr)"
      ],
      "execution_count": null,
      "outputs": [
        {
          "output_type": "stream",
          "name": "stdout",
          "text": [
            "[0, 0, 0, 0, 0, 0, 0, 0, 0, 0]\n"
          ]
        }
      ]
    },
    {
      "cell_type": "code",
      "metadata": {
        "colab": {
          "base_uri": "https://localhost:8080/"
        },
        "id": "vlN672gLbQSv",
        "outputId": "799718d3-2b81-423f-99db-fb5c8ba51797"
      },
      "source": [
        "a,b,c = list(int(input()) for _ in range(3) )"
      ],
      "execution_count": null,
      "outputs": [
        {
          "name": "stdout",
          "output_type": "stream",
          "text": [
            "150\n",
            "266\n",
            "427\n"
          ]
        }
      ]
    },
    {
      "cell_type": "code",
      "metadata": {
        "colab": {
          "base_uri": "https://localhost:8080/"
        },
        "id": "-usWXVU_aP6e",
        "outputId": "c77e9dfa-63ef-4728-cb16-64a4efeb7d19"
      },
      "source": [
        "a,b,c = list(int(input()) for _ in range(3) )\n",
        "\n",
        "abc = a*b*c\n",
        "arr = [0]*10\n",
        "\n",
        "for i in str(abc):\n",
        "    arr[int(i)] += 1\n",
        "\n",
        "for i in arr:\n",
        "    print(i)"
      ],
      "execution_count": null,
      "outputs": [
        {
          "output_type": "stream",
          "name": "stdout",
          "text": [
            "150\n",
            "266\n",
            "427\n",
            "3\n",
            "1\n",
            "0\n",
            "2\n",
            "0\n",
            "0\n",
            "0\n",
            "2\n",
            "0\n",
            "0\n"
          ]
        }
      ]
    },
    {
      "cell_type": "code",
      "metadata": {
        "colab": {
          "base_uri": "https://localhost:8080/"
        },
        "id": "b_AvLauCb_pJ",
        "outputId": "bd72a2ab-0c19-43a0-d3a4-be01ac917d6e"
      },
      "source": [
        "# 3052 번 \n",
        "# set 함수 사용\n",
        "\n",
        "nums = set()\n",
        "\n",
        "for _ in range(10):\n",
        "    i = int(input())\n",
        "    nums.add(i%42)\n",
        "print(len(nums))"
      ],
      "execution_count": null,
      "outputs": [
        {
          "name": "stdout",
          "output_type": "stream",
          "text": [
            "1\n",
            "2\n",
            "3\n",
            "4\n",
            "5\n",
            "6\n",
            "7\n",
            "8\n",
            "9\n",
            "10\n"
          ]
        },
        {
          "output_type": "execute_result",
          "data": {
            "text/plain": [
              "10"
            ]
          },
          "metadata": {},
          "execution_count": 60
        }
      ]
    },
    {
      "cell_type": "markdown",
      "metadata": {
        "id": "YNvgF7C-Bxjf"
      },
      "source": [
        "## 4일차"
      ]
    },
    {
      "cell_type": "markdown",
      "metadata": {
        "id": "FHAC7AsKCHd1"
      },
      "source": [
        "###1546\n",
        "\n",
        "### 문제\n",
        "\n",
        "세준이는 기말고사를 망쳤다. 세준이는 점수를 조작해서 집에 가져가기로 했다. 일단 세준이는 자기 점수 중에 최댓값을 골랐다. 이 값을 M이라고 한다. 그리고 나서 모든 점수를 점수/M*100으로 고쳤다.\n",
        "\n",
        "예를 들어, 세준이의 최고점이 70이고, 수학점수가 50이었으면 수학점수는 50/70*100이 되어 71.43점이 된다.\n",
        "\n",
        "세준이의 성적을 위의 방법대로 새로 계산했을 때, 새로운 평균을 구하는 프로그램을 작성하시오.\n",
        "\n",
        "### 입력\n",
        "\n",
        "첫째 줄에 시험 본 과목의 개수 N이 주어진다. 이 값은 1000보다 작거나 같다. 둘째 줄에 세준이의 현재 성적이 주어진다. 이 값은 100보다 작거나 같은 음이 아닌 정수이고, 적어도 하나의 값은 0보다 크다."
      ]
    },
    {
      "cell_type": "code",
      "metadata": {
        "colab": {
          "base_uri": "https://localhost:8080/"
        },
        "id": "YM7aKmp2C7xX",
        "outputId": "39dedafe-ccbc-4154-ef0b-72b6ea15acff"
      },
      "source": [
        "n = int(input())\n",
        "arr =list(map(int,input().split()))\n",
        "avg = (sum(arr)/max(arr)*100)/n\n",
        "print(avg)"
      ],
      "execution_count": null,
      "outputs": [
        {
          "output_type": "stream",
          "name": "stdout",
          "text": [
            "4\n",
            "1 100 100 100\n",
            "75.25\n"
          ]
        }
      ]
    },
    {
      "cell_type": "markdown",
      "metadata": {
        "id": "x3rWXZb_Ltb7"
      },
      "source": [
        "### 8958\n",
        "### 문제\n",
        "\"OOXXOXXOOO\"와 같은 OX퀴즈의 결과가 있다. O는 문제를 맞은 것이고, X는 문제를 틀린 것이다. 문제를 맞은 경우 그 문제의 점수는 그 문제까지 연속된 O의 개수가 된다. 예를 들어, 10번 문제의 점수는 3이 된다.\n",
        "\n",
        "\"OOXXOXXOOO\"의 점수는 1+2+0+0+1+0+0+1+2+3 = 10점이다.\n",
        "\n",
        "OX퀴즈의 결과가 주어졌을 때, 점수를 구하는 프로그램을 작성하시오.\n",
        "### 입력\n",
        "\n",
        "첫째 줄에 테스트 케이스의 개수가 주어진다. 각 테스트 케이스는 한 줄로 이루어져 있고, 길이가 0보다 크고 80보다 작은 문자열이 주어진다. 문자열은 O와 X만으로 이루어져 있다."
      ]
    },
    {
      "cell_type": "code",
      "metadata": {
        "colab": {
          "base_uri": "https://localhost:8080/"
        },
        "id": "-YhRARRtFgTo",
        "outputId": "b55366e5-bf08-48e9-fee4-995247b5a87e"
      },
      "source": [
        "text = \"OOXXOXXOOO\"\n",
        "num = len(text)\n",
        "score = [0]*num\n",
        "for i in range(num):\n",
        "    if text[i] ==\"O\":\n",
        "        score[i]+=1\n",
        "        if i == 0:\n",
        "            pass\n",
        "        elif score[i-1] != 0:\n",
        "            score[i] = score[i-1] +1\n",
        "\n",
        "print(sum(score))"
      ],
      "execution_count": null,
      "outputs": [
        {
          "output_type": "stream",
          "name": "stdout",
          "text": [
            "10\n"
          ]
        }
      ]
    },
    {
      "cell_type": "code",
      "metadata": {
        "colab": {
          "base_uri": "https://localhost:8080/"
        },
        "id": "b5XdZ_TChlK8",
        "outputId": "ddef5208-0079-466e-dcd2-8b93affb633a"
      },
      "source": [
        "n = int(input())\n",
        "sumscore = [0]*n\n",
        "\n",
        "for j in range(n):\n",
        "    text = input()\n",
        "    num = len(text)\n",
        "    score = [0]*num\n",
        "    for i in range(num):\n",
        "        if text[i] ==\"O\":\n",
        "            score[i]+=1\n",
        "            if i == 0:\n",
        "                pass\n",
        "            elif score[i-1] != 0:\n",
        "                score[i] = score[i-1] +1\n",
        "    sumscore[j] = sum(score)\n",
        "\n",
        "for k in range(n):\n",
        "    print(sumscore[k])"
      ],
      "execution_count": null,
      "outputs": [
        {
          "output_type": "stream",
          "name": "stdout",
          "text": [
            "5\n",
            "OOXXOXXOOO\n",
            "OOXXOOXXOO\n",
            "OXOXOXOXOXOXOX\n",
            "OOOOOOOOOO\n",
            "OOOOXOOOOXOOOOX\n",
            "10\n",
            "9\n",
            "7\n",
            "55\n",
            "30\n"
          ]
        }
      ]
    },
    {
      "cell_type": "code",
      "metadata": {
        "colab": {
          "base_uri": "https://localhost:8080/"
        },
        "id": "FtGqHE2Qr1cl",
        "outputId": "b42708a3-8c22-4058-ced4-9ed01c933698"
      },
      "source": [
        "# 인터넷 예시\n",
        "T = int(input())\n",
        "\n",
        "for i in range(T):\n",
        "    score = 0\n",
        "    test = str(input())\n",
        "    temp = 1\n",
        "    for i in range(len(test)):\n",
        "        # \"O\" 이 반복될 시 temp가 하나씩 올라감 \n",
        "        if test[i] == \"O\":\n",
        "            score += temp\n",
        "            temp += 1\n",
        "        # 아닐결우 다시 1로 초기화\n",
        "        else:\n",
        "            temp = 1\n",
        "    print(score) "
      ],
      "execution_count": null,
      "outputs": [
        {
          "output_type": "stream",
          "name": "stdout",
          "text": [
            "1\n",
            "OXOXOXOXOXOXOX\n",
            "7\n"
          ]
        }
      ]
    },
    {
      "cell_type": "markdown",
      "metadata": {
        "id": "LQ_kllocJ8M4"
      },
      "source": [
        "## 5일차\n",
        "면접준비로 인하여 오랜만에 참여"
      ]
    },
    {
      "cell_type": "markdown",
      "metadata": {
        "id": "oRKfhLTbEiAF"
      },
      "source": [
        "### 4344번 \n",
        "\n",
        "### 입력\n",
        "첫째 줄에는 테스트 케이스의 개수 C가 주어진다.\n",
        "\n",
        "둘째 줄부터 각 테스트 케이스마다 학생의 수 N(1 ≤ N ≤ 1000, N은 정수)이 첫 수로 주어지고, 이어서 N명의 점수가 주어진다. 점수는 0보다 크거나 같고, 100보다 작거나 같은 정수이다.\n",
        "\n",
        "### 출력\n",
        "각 케이스마다 한 줄씩 평균을 넘는 학생들의 비율을 반올림하여 소수점 셋째 자리까지 출력한다."
      ]
    },
    {
      "cell_type": "code",
      "metadata": {
        "id": "AKCewaI-y919",
        "colab": {
          "base_uri": "https://localhost:8080/"
        },
        "outputId": "ea37795a-c881-4975-bb16-192953eb4f74"
      },
      "source": [
        "num = int(input())\n",
        "for _ in range(num):\n",
        "    arr = list(map(int,input().split()))\n",
        "    result = sum(arr[1:])/arr[0]\n",
        "    cnt = 0\n",
        "    for score in arr[1:]:\n",
        "        if score > result:\n",
        "            cnt += 1\n",
        "    print(\"{0:.3f}%\".format(cnt/arr[0]*100))"
      ],
      "execution_count": null,
      "outputs": [
        {
          "output_type": "stream",
          "name": "stdout",
          "text": [
            "1\n",
            "5 50 50 70 80 100\n",
            "40.000%\n"
          ]
        }
      ]
    },
    {
      "cell_type": "markdown",
      "metadata": {
        "id": "RckOEFhIIlkV"
      },
      "source": [
        "### 15596번\n",
        "\n",
        "### 문제\n",
        "정수 n개가 주어졌을 때, n개의 합을 구하는 함수를 작성하시오.\n",
        "\n",
        "작성해야 하는 함수는 다음과 같다.\n",
        "\n",
        "Python 2, Python 3, PyPy, PyPy3: def solve(a: list) -> int\n",
        "a: 합을 구해야 하는 정수 n개가 저장되어 있는 리스트 (0 ≤ a[i] ≤ 1,000,000, 1 ≤ n ≤ 3,000,000)\n",
        "리턴값: a에 포함되어 있는 정수 n개의 합 (정수)"
      ]
    },
    {
      "cell_type": "code",
      "metadata": {
        "id": "18Us3thFFtSc"
      },
      "source": [
        "def solve(a):\n",
        "    return sum(a)"
      ],
      "execution_count": 8,
      "outputs": []
    },
    {
      "cell_type": "code",
      "metadata": {
        "id": "ZCXexluiKFbi"
      },
      "source": [
        ""
      ],
      "execution_count": null,
      "outputs": []
    }
  ]
}