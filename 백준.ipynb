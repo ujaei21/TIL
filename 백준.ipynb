{
  "nbformat": 4,
  "nbformat_minor": 0,
  "metadata": {
    "colab": {
      "name": "백준.ipynb",
      "provenance": [],
      "collapsed_sections": [],
      "authorship_tag": "ABX9TyN0XL9MPy2TU6XO24WlBu32",
      "include_colab_link": true
    },
    "kernelspec": {
      "name": "python3",
      "display_name": "Python 3"
    },
    "language_info": {
      "name": "python"
    }
  },
  "cells": [
    {
      "cell_type": "markdown",
      "metadata": {
        "id": "view-in-github",
        "colab_type": "text"
      },
      "source": [
        "<a href=\"https://colab.research.google.com/github/ujaei21/TIL/blob/master/%EB%B0%B1%EC%A4%80.ipynb\" target=\"_parent\"><img src=\"https://colab.research.google.com/assets/colab-badge.svg\" alt=\"Open In Colab\"/></a>"
      ]
    },
    {
      "cell_type": "code",
      "metadata": {
        "id": "_yRR5ouzTG8t"
      },
      "source": [
        " a,b =input('input two numbers: ').split()\n",
        " print(int(a)+int(b))"
      ],
      "execution_count": null,
      "outputs": []
    },
    {
      "cell_type": "code",
      "metadata": {
        "id": "5ef78dGoTs11"
      },
      "source": [
        "a,b = map(int,input().split())\n",
        "print(a+b)"
      ],
      "execution_count": null,
      "outputs": []
    },
    {
      "cell_type": "code",
      "metadata": {
        "id": "Nr4UfljcUHQY"
      },
      "source": [
        "def fibonachi(n):\n",
        "    if n == 0:\n",
        "        return 0\n",
        "    elif n == 1:\n",
        "        return 1\n",
        "    else:\n",
        "        return fibonachi(n-1) + fibonachi(n-2)\n"
      ],
      "execution_count": null,
      "outputs": []
    },
    {
      "cell_type": "code",
      "metadata": {
        "id": "h1rCkXAHXv3-"
      },
      "source": [
        "fibonachi(5)"
      ],
      "execution_count": null,
      "outputs": []
    },
    {
      "cell_type": "code",
      "metadata": {
        "id": "iHjq5Tl7XyEJ"
      },
      "source": [
        "print(\"\\\\    /\\\\\")\n",
        "print(\" )  ( ')\")\n",
        "print(\"(  /  )\")\n",
        "print(\" \\\\(__) |\")"
      ],
      "execution_count": null,
      "outputs": []
    },
    {
      "cell_type": "code",
      "metadata": {
        "id": "U3Qx-RhvaCIO"
      },
      "source": [
        "print(\"\\\\    /\\\\\")\n",
        "print(\" )  ( ')\")\n",
        "print(\"(  /  )\")\n",
        "print(\" \\\\(__)|\")"
      ],
      "execution_count": null,
      "outputs": []
    },
    {
      "cell_type": "code",
      "metadata": {
        "id": "MnhqLNUSfzW1"
      },
      "source": [
        "# 첫째 줄에 A+B, 둘째 줄에 A-B, 셋째 줄에 A*B, 넷째 줄에 A/B, 다섯째 줄에 A%B를 출력한다.\n",
        "a,b = map(int,input().split())\n",
        "print(a+b)\n",
        "print(a-b)\n",
        "print(a*b)\n",
        "print(a//b)\n",
        "print(a%b)"
      ],
      "execution_count": null,
      "outputs": []
    },
    {
      "cell_type": "code",
      "metadata": {
        "id": "q2mkik8li53P"
      },
      "source": [
        "# 첫째 줄에 (A+B)%C, 둘째 줄에 ((A%C) + (B%C))%C, 셋째 줄에 (A×B)%C, 넷째 줄에 ((A%C) × (B%C))%C를 \n",
        "# 출력한다.\n",
        "a,b,c = map(int,input().split())\n",
        "print((a+b)%c)\n",
        "print(((a%c)+(b%c))%c)\n",
        "print((a*b)%c)\n",
        "print(((a%c)*(b%c))%c)"
      ],
      "execution_count": null,
      "outputs": []
    },
    {
      "cell_type": "code",
      "metadata": {
        "id": "B-qQdUQEj6hf"
      },
      "source": [
        "a = input()\n",
        "for i in range(3):\n",
        "    print(a[i])"
      ],
      "execution_count": null,
      "outputs": []
    },
    {
      "cell_type": "code",
      "metadata": {
        "id": "qEK4pD3NlMj-"
      },
      "source": [
        "a = int(input())\n",
        "b = input()\n",
        "for i in range(1,4):\n",
        "    print(a*int(b[-i]))\n",
        "print(a*int(b))"
      ],
      "execution_count": null,
      "outputs": []
    },
    {
      "cell_type": "code",
      "metadata": {
        "id": "rsvfDNiomGWm"
      },
      "source": [
        "b[-1]"
      ],
      "execution_count": null,
      "outputs": []
    },
    {
      "cell_type": "code",
      "metadata": {
        "id": "aP4oB4lkn4Pe"
      },
      "source": [
        "print('|\\_/|')\n",
        "print('|q p|   /}')\n",
        "print('( 0 )\"\"\"\\\\')\n",
        "print('|\"^\"`    |')\n",
        "print('||_/=\\\\\\\\__|')"
      ],
      "execution_count": null,
      "outputs": []
    },
    {
      "cell_type": "code",
      "metadata": {
        "id": "IOX6WF0wpAuO"
      },
      "source": [
        "a,b = map(int,input().split())\n",
        "if a>b:\n",
        "    print('>')\n",
        "elif a<b:\n",
        "    print('<')\n",
        "else:\n",
        "    print('==')"
      ],
      "execution_count": null,
      "outputs": []
    },
    {
      "cell_type": "code",
      "metadata": {
        "id": "M7qldgH9pRuk",
        "colab": {
          "base_uri": "https://localhost:8080/"
        },
        "outputId": "ed0d96c7-e754-4a7d-89c7-a6f3fc42c1e7"
      },
      "source": [
        "# 2753번\n",
        "# 연도가 주어졌을 때, 윤년이면 1, 아니면 0을 출력하는 프로그램을 작성하시오.\n",
        "\n",
        "# 윤년은 연도가 4의 배수이면서, 100의 배수가 아닐 때 또는 400의 배수일 때이다.\n",
        "\n",
        "# 예를 들어, 2012년은 4의 배수이면서 100의 배수가 아니라서 윤년이다. 1900년은 100의 배수이고 400의 배수는 아니기 때문에 윤년이 아니다. 하지만, 2000년은 400의 배수이기 때문에 윤년이다.\n",
        "\n",
        "year = int(input())\n",
        "\n",
        "if ((year % 4 == 0) and (year % 100 != 0)) or (year%400 == 0):\n",
        "    print(1)\n",
        "else:\n",
        "    print(0)"
      ],
      "execution_count": null,
      "outputs": [
        {
          "output_type": "stream",
          "name": "stdout",
          "text": [
            "2000\n",
            "1\n"
          ]
        }
      ]
    },
    {
      "cell_type": "code",
      "metadata": {
        "colab": {
          "base_uri": "https://localhost:8080/"
        },
        "id": "2WtRqyCW7dk8",
        "outputId": "dbbe9a36-3fb8-4344-a937-9678edf25ace"
      },
      "source": [
        "2000%4"
      ],
      "execution_count": null,
      "outputs": [
        {
          "output_type": "execute_result",
          "data": {
            "text/plain": [
              "0"
            ]
          },
          "metadata": {},
          "execution_count": 10
        }
      ]
    },
    {
      "cell_type": "code",
      "metadata": {
        "colab": {
          "base_uri": "https://localhost:8080/"
        },
        "id": "6ANu6Ue48He_",
        "outputId": "3e9966f9-6a8d-4435-ec6e-10bf8ab627a7"
      },
      "source": [
        "# 14681번\n",
        "# 흔한 수학 문제 중 하나는 주어진 점이 어느 사분면에 속하는지 알아내는 것이다.\n",
        "\n",
        "x = int(input())\n",
        "y = int(input())\n",
        "\n",
        "if x > 0 and y > 0:\n",
        "    print(1)\n",
        "elif x < 0 and y > 0:\n",
        "    print(2)\n",
        "elif x < 0 and y < 0:\n",
        "    print(3)\n",
        "else:\n",
        "    print(4)"
      ],
      "execution_count": null,
      "outputs": [
        {
          "output_type": "stream",
          "name": "stdout",
          "text": [
            "-12\n",
            "5\n",
            "2\n"
          ]
        }
      ]
    },
    {
      "cell_type": "code",
      "metadata": {
        "colab": {
          "base_uri": "https://localhost:8080/"
        },
        "id": "9uknj11K9j46",
        "outputId": "55c1c9ae-5524-4636-c43a-e97f0b77af00"
      },
      "source": [
        "# 2884 번\n",
        "\n",
        "# 상근이는 매일 아침 알람을 듣고 일어난다. 알람을 듣고 바로 일어나면 다행이겠지만, 항상 조금만 더 자려는 마음 때문에 매일 학교를 지각하고 있다.\n",
        "\n",
        "# 상근이는 모든 방법을 동원해보았지만, 조금만 더 자려는 마음은 그 어떤 것도 없앨 수가 없었다.\n",
        "\n",
        "# 이런 상근이를 불쌍하게 보던, 창영이는 자신이 사용하는 방법을 추천해 주었다.\n",
        "\n",
        "# 바로 \"45분 일찍 알람 설정하기\"이다.\n",
        "\n",
        "# 이 방법은 단순하다. 원래 설정되어 있는 알람을 45분 앞서는 시간으로 바꾸는 것이다. 어차피 알람 소리를 들으면, 알람을 끄고 조금 더 잘 것이기 때문이다. 이 방법을 사용하면, 매일 아침 더 잤다는 기분을 느낄 수 있고, 학교도 지각하지 않게 된다.\n",
        "\n",
        "# 현재 상근이가 설정한 알람 시각이 주어졌을 때, 창영이의 방법을 사용한다면, 이를 언제로 고쳐야 하는지 구하는 프로그램을 작성하시오.\n",
        "\n",
        "H,M = map(int,input().split())\n",
        "if M < 45:\n",
        "    if H == 0:\n",
        "        H = 23\n",
        "        M += 60\n",
        "    else:\n",
        "        H -= 1\n",
        "        M += 60\n",
        "print(H,M-45)"
      ],
      "execution_count": null,
      "outputs": [
        {
          "output_type": "stream",
          "name": "stdout",
          "text": [
            "12 20\n",
            "11 35\n"
          ]
        }
      ]
    },
    {
      "cell_type": "code",
      "metadata": {
        "colab": {
          "base_uri": "https://localhost:8080/"
        },
        "id": "MeKS1gg2_tAn",
        "outputId": "b4b9eadd-aaa1-4d08-89a8-550e933b68c7"
      },
      "source": [
        "# 2739 번\n",
        "\n",
        "# N을 입력받은 뒤, 구구단 N단을 출력하는 프로그램을 작성하시오. 출력 형식에 맞춰서 출력하면 된다.\n",
        "\n",
        "N = int(input())\n",
        "for i in range(1,10):\n",
        "    print(\"{0} * {1} = {2}\".format(N,i,N*i))"
      ],
      "execution_count": null,
      "outputs": [
        {
          "output_type": "stream",
          "name": "stdout",
          "text": [
            "9\n",
            "9 * 1 = 9\n",
            "9 * 2 = 18\n",
            "9 * 3 = 27\n",
            "9 * 4 = 36\n",
            "9 * 5 = 45\n",
            "9 * 6 = 54\n",
            "9 * 7 = 63\n",
            "9 * 8 = 72\n",
            "9 * 9 = 81\n"
          ]
        }
      ]
    },
    {
      "cell_type": "code",
      "metadata": {
        "colab": {
          "base_uri": "https://localhost:8080/"
        },
        "id": "2IV9UPM-AqGb",
        "outputId": "0e669fe9-014c-4df5-c183-72b5c2de2593"
      },
      "source": [
        "# 10950번\n",
        "\n",
        "# 첫째 줄에 테스트 케이스의 개수 T가 주어진다.\n",
        "\n",
        "# 각 테스트 케이스는 한 줄로 이루어져 있으며, 각 줄에 A와 B가 주어진다. (0 < A, B < 10)\n",
        "\n",
        "iter = int(input())\n",
        "\n",
        "for i in range(iter):\n",
        "    a,b = map(int,input().split())\n",
        "    print(a+b)"
      ],
      "execution_count": null,
      "outputs": [
        {
          "output_type": "stream",
          "name": "stdout",
          "text": [
            "5\n",
            "2 3\n",
            "5\n",
            "9 8\n",
            "17\n",
            "5 2\n",
            "7\n",
            "22 23\n",
            "45\n",
            "5 5 \n",
            "10\n"
          ]
        }
      ]
    },
    {
      "cell_type": "code",
      "metadata": {
        "colab": {
          "base_uri": "https://localhost:8080/"
        },
        "id": "8P6V4XJsBrcw",
        "outputId": "ea26d5cc-560c-4787-9b59-53b0df837af4"
      },
      "source": [
        "fin = int(input())\n",
        "num=0\n",
        "\n",
        "for i in range(1,fin+1):\n",
        "    num += i\n",
        "\n",
        "print(num)"
      ],
      "execution_count": null,
      "outputs": [
        {
          "output_type": "stream",
          "name": "stdout",
          "text": [
            "5\n",
            "15\n"
          ]
        }
      ]
    },
    {
      "cell_type": "code",
      "metadata": {
        "id": "GsIZWmoXEHab"
      },
      "source": [
        ""
      ],
      "execution_count": null,
      "outputs": []
    }
  ]
}