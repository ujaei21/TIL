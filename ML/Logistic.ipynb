{
 "cells": [
  {
   "cell_type": "markdown",
   "metadata": {
    "id": "iwuqy6aBqyfI"
   },
   "source": [
    "# 분류\n",
    "## 이진 분류\n",
    "- 0과 1로 분류\n",
    "- 획룰에서 기반한다.\n",
    "- 분류기준으로 분류함으로 이진 분류가 일어난다.\n",
    "\n",
    "## 성능평가\n",
    "- 정확도\n",
    "- 재현율\n",
    "- 정밀도\n",
    "- F-1 \n",
    "\n"
   ]
  },
  {
   "cell_type": "code",
   "execution_count": 2,
   "metadata": {
    "executionInfo": {
     "elapsed": 571,
     "status": "ok",
     "timestamp": 1627979711373,
     "user": {
      "displayName": "이우재",
      "photoUrl": "",
      "userId": "15709195273175322901"
     },
     "user_tz": -540
    },
    "id": "FZQk4-ShqsWu"
   },
   "outputs": [],
   "source": [
    "import warnings \n",
    "warnings.filterwarnings('ignore')"
   ]
  },
  {
   "cell_type": "code",
   "execution_count": 3,
   "metadata": {
    "executionInfo": {
     "elapsed": 28,
     "status": "ok",
     "timestamp": 1627979713247,
     "user": {
      "displayName": "이우재",
      "photoUrl": "",
      "userId": "15709195273175322901"
     },
     "user_tz": -540
    },
    "id": "PMumCJCZJeVi"
   },
   "outputs": [],
   "source": [
    "import pandas as pd\n",
    "\n",
    "url = 'https://raw.githubusercontent.com/rusita-ai/pyData/master/Default.csv'\n",
    "df = pd.read_csv(url)"
   ]
  },
  {
   "cell_type": "code",
   "execution_count": 4,
   "metadata": {
    "colab": {
     "base_uri": "https://localhost:8080/",
     "height": 204
    },
    "executionInfo": {
     "elapsed": 416,
     "status": "ok",
     "timestamp": 1627979721241,
     "user": {
      "displayName": "이우재",
      "photoUrl": "",
      "userId": "15709195273175322901"
     },
     "user_tz": -540
    },
    "id": "QBwYT684Jotq",
    "outputId": "f85f945e-69ba-4f01-9386-601217235a1f"
   },
   "outputs": [
    {
     "data": {
      "text/html": [
       "<div>\n",
       "<style scoped>\n",
       "    .dataframe tbody tr th:only-of-type {\n",
       "        vertical-align: middle;\n",
       "    }\n",
       "\n",
       "    .dataframe tbody tr th {\n",
       "        vertical-align: top;\n",
       "    }\n",
       "\n",
       "    .dataframe thead th {\n",
       "        text-align: right;\n",
       "    }\n",
       "</style>\n",
       "<table border=\"1\" class=\"dataframe\">\n",
       "  <thead>\n",
       "    <tr style=\"text-align: right;\">\n",
       "      <th></th>\n",
       "      <th>default</th>\n",
       "      <th>student</th>\n",
       "      <th>balance</th>\n",
       "      <th>income</th>\n",
       "    </tr>\n",
       "  </thead>\n",
       "  <tbody>\n",
       "    <tr>\n",
       "      <th>0</th>\n",
       "      <td>No</td>\n",
       "      <td>No</td>\n",
       "      <td>729.526495</td>\n",
       "      <td>44361.62507</td>\n",
       "    </tr>\n",
       "    <tr>\n",
       "      <th>1</th>\n",
       "      <td>No</td>\n",
       "      <td>Yes</td>\n",
       "      <td>817.180407</td>\n",
       "      <td>12106.13470</td>\n",
       "    </tr>\n",
       "    <tr>\n",
       "      <th>2</th>\n",
       "      <td>No</td>\n",
       "      <td>No</td>\n",
       "      <td>1073.549164</td>\n",
       "      <td>31767.13895</td>\n",
       "    </tr>\n",
       "    <tr>\n",
       "      <th>3</th>\n",
       "      <td>No</td>\n",
       "      <td>No</td>\n",
       "      <td>529.250605</td>\n",
       "      <td>35704.49394</td>\n",
       "    </tr>\n",
       "    <tr>\n",
       "      <th>4</th>\n",
       "      <td>No</td>\n",
       "      <td>No</td>\n",
       "      <td>785.655883</td>\n",
       "      <td>38463.49588</td>\n",
       "    </tr>\n",
       "  </tbody>\n",
       "</table>\n",
       "</div>"
      ],
      "text/plain": [
       "  default student      balance       income\n",
       "0      No      No   729.526495  44361.62507\n",
       "1      No     Yes   817.180407  12106.13470\n",
       "2      No      No  1073.549164  31767.13895\n",
       "3      No      No   529.250605  35704.49394\n",
       "4      No      No   785.655883  38463.49588"
      ]
     },
     "execution_count": 4,
     "metadata": {
      "tags": []
     },
     "output_type": "execute_result"
    }
   ],
   "source": [
    "df.head()"
   ]
  },
  {
   "cell_type": "code",
   "execution_count": 6,
   "metadata": {
    "colab": {
     "base_uri": "https://localhost:8080/"
    },
    "executionInfo": {
     "elapsed": 454,
     "status": "ok",
     "timestamp": 1627979752886,
     "user": {
      "displayName": "이우재",
      "photoUrl": "",
      "userId": "15709195273175322901"
     },
     "user_tz": -540
    },
    "id": "WdpnlM-fJyKm",
    "outputId": "e15ff42d-f584-4f43-bfa0-addb9e3a74e7"
   },
   "outputs": [
    {
     "data": {
      "text/plain": [
       "No     9667\n",
       "Yes     333\n",
       "Name: default, dtype: int64"
      ]
     },
     "execution_count": 6,
     "metadata": {
      "tags": []
     },
     "output_type": "execute_result"
    }
   ],
   "source": [
    "df.default.value_counts()"
   ]
  },
  {
   "cell_type": "code",
   "execution_count": 8,
   "metadata": {
    "colab": {
     "base_uri": "https://localhost:8080/",
     "height": 374
    },
    "executionInfo": {
     "elapsed": 448,
     "status": "ok",
     "timestamp": 1627979970714,
     "user": {
      "displayName": "이우재",
      "photoUrl": "",
      "userId": "15709195273175322901"
     },
     "user_tz": -540
    },
    "id": "B0PqYJcLJ08W",
    "outputId": "4b5847df-8533-4760-f30b-f0529efce8fd"
   },
   "outputs": [
    {
     "data": {
      "image/png": "[encoded data removed]",
      "text/plain": [
       "<Figure size 648x432 with 1 Axes>"
      ]
     },
     "metadata": {
      "needs_background": "light",
      "tags": []
     },
     "output_type": "display_data"
    }
   ],
   "source": [
    "import matplotlib.pyplot as plt\n",
    "\n",
    "plt.figure(figsize=(9,6))\n",
    "plt.boxplot([df[df.default=='No'].balance,\n",
    "             df[df.default=='Yes'].balance],\n",
    "            labels=['No','Yes'])\n",
    "plt.show()"
   ]
  },
  {
   "cell_type": "code",
   "execution_count": 9,
   "metadata": {
    "executionInfo": {
     "elapsed": 536,
     "status": "ok",
     "timestamp": 1627980053480,
     "user": {
      "displayName": "이우재",
      "photoUrl": "",
      "userId": "15709195273175322901"
     },
     "user_tz": -540
    },
    "id": "ytf9yeC9KhNN"
   },
   "outputs": [],
   "source": [
    "# data preprocessing\n",
    "# 1) standardization\n",
    "X=df[['balance']]\n",
    "y=df['default']"
   ]
  },
  {
   "cell_type": "code",
   "execution_count": 10,
   "metadata": {
    "executionInfo": {
     "elapsed": 538,
     "status": "ok",
     "timestamp": 1627980121841,
     "user": {
      "displayName": "이우재",
      "photoUrl": "",
      "userId": "15709195273175322901"
     },
     "user_tz": -540
    },
    "id": "1iKVsDR1LDaV"
   },
   "outputs": [],
   "source": [
    "from sklearn.preprocessing import StandardScaler\n",
    "\n",
    "scaler = StandardScaler()\n",
    "X_scaled = scaler.fit_transform(X)"
   ]
  },
  {
   "cell_type": "code",
   "execution_count": 11,
   "metadata": {
    "executionInfo": {
     "elapsed": 544,
     "status": "ok",
     "timestamp": 1627980213991,
     "user": {
      "displayName": "이우재",
      "photoUrl": "",
      "userId": "15709195273175322901"
     },
     "user_tz": -540
    },
    "id": "Bs6HRqJdLUEC"
   },
   "outputs": [],
   "source": [
    "from sklearn.model_selection import train_test_split\n",
    "\n",
    "X_train,X_test,y_train,y_test = train_test_split(X_scaled,y,test_size=0.3,random_state = 2045)"
   ]
  },
  {
   "cell_type": "code",
   "execution_count": 12,
   "metadata": {
    "colab": {
     "base_uri": "https://localhost:8080/"
    },
    "executionInfo": {
     "elapsed": 464,
     "status": "ok",
     "timestamp": 1627980307014,
     "user": {
      "displayName": "이우재",
      "photoUrl": "",
      "userId": "15709195273175322901"
     },
     "user_tz": -540
    },
    "id": "oWa4lmTELfPY",
    "outputId": "beb54d98-1bb6-4f4a-c73c-e0458e7727ba"
   },
   "outputs": [
    {
     "data": {
      "text/plain": [
       "LogisticRegression(C=1.0, class_weight=None, dual=False, fit_intercept=True,\n",
       "                   intercept_scaling=1, l1_ratio=None, max_iter=100,\n",
       "                   multi_class='auto', n_jobs=None, penalty='l2',\n",
       "                   random_state=None, solver='lbfgs', tol=0.0001, verbose=0,\n",
       "                   warm_start=False)"
      ]
     },
     "execution_count": 12,
     "metadata": {
      "tags": []
     },
     "output_type": "execute_result"
    }
   ],
   "source": [
    "from sklearn.linear_model import LogisticRegression\n",
    "\n",
    "model1 = LogisticRegression()\n",
    "model1.fit(X_train,y_train)"
   ]
  },
  {
   "cell_type": "code",
   "execution_count": 13,
   "metadata": {
    "executionInfo": {
     "elapsed": 459,
     "status": "ok",
     "timestamp": 1627980336258,
     "user": {
      "displayName": "이우재",
      "photoUrl": "",
      "userId": "15709195273175322901"
     },
     "user_tz": -540
    },
    "id": "wnSm2aJ5MBWd"
   },
   "outputs": [],
   "source": [
    "y_hat =model1.predict(X_test)"
   ]
  },
  {
   "cell_type": "code",
   "execution_count": 14,
   "metadata": {
    "colab": {
     "base_uri": "https://localhost:8080/"
    },
    "executionInfo": {
     "elapsed": 556,
     "status": "ok",
     "timestamp": 1627980377756,
     "user": {
      "displayName": "이우재",
      "photoUrl": "",
      "userId": "15709195273175322901"
     },
     "user_tz": -540
    },
    "id": "9Y4TZ1UVMIWQ",
    "outputId": "7271233c-a0e0-4ceb-b078-29acae0371a0"
   },
   "outputs": [
    {
     "data": {
      "text/plain": [
       "0.9724285714285714"
      ]
     },
     "execution_count": 14,
     "metadata": {
      "tags": []
     },
     "output_type": "execute_result"
    }
   ],
   "source": [
    "model1.score(X_train,y_train)"
   ]
  },
  {
   "cell_type": "code",
   "execution_count": 16,
   "metadata": {
    "colab": {
     "base_uri": "https://localhost:8080/"
    },
    "executionInfo": {
     "elapsed": 378,
     "status": "ok",
     "timestamp": 1627980403131,
     "user": {
      "displayName": "이우재",
      "photoUrl": "",
      "userId": "15709195273175322901"
     },
     "user_tz": -540
    },
    "id": "dPWWo6KzMShg",
    "outputId": "e44005c3-8584-4a95-f89f-e5f48b9bd1e0"
   },
   "outputs": [
    {
     "data": {
      "text/plain": [
       "0.9736666666666667"
      ]
     },
     "execution_count": 16,
     "metadata": {
      "tags": []
     },
     "output_type": "execute_result"
    }
   ],
   "source": [
    "model1.score(X_test,y_test)"
   ]
  },
  {
   "cell_type": "code",
   "execution_count": 18,
   "metadata": {
    "colab": {
     "base_uri": "https://localhost:8080/"
    },
    "executionInfo": {
     "elapsed": 21,
     "status": "ok",
     "timestamp": 1627980512859,
     "user": {
      "displayName": "이우재",
      "photoUrl": "",
      "userId": "15709195273175322901"
     },
     "user_tz": -540
    },
    "id": "xmCwPe1LMWzd",
    "outputId": "2c1b323d-818c-4719-c8fc-917c02017096"
   },
   "outputs": [
    {
     "data": {
      "text/plain": [
       "array([[  32,   72],\n",
       "       [   7, 2889]])"
      ]
     },
     "execution_count": 18,
     "metadata": {
      "tags": []
     },
     "output_type": "execute_result"
    }
   ],
   "source": [
    "# confusion matrix\n",
    "\n",
    "from sklearn.metrics import confusion_matrix\n",
    "\n",
    "confusion_matrix(y_test,y_hat,labels=['Yes','No'])"
   ]
  },
  {
   "cell_type": "code",
   "execution_count": 19,
   "metadata": {
    "colab": {
     "base_uri": "https://localhost:8080/"
    },
    "executionInfo": {
     "elapsed": 463,
     "status": "ok",
     "timestamp": 1627980601566,
     "user": {
      "displayName": "이우재",
      "photoUrl": "",
      "userId": "15709195273175322901"
     },
     "user_tz": -540
    },
    "id": "TbH3bs3_Mw41",
    "outputId": "0a465f2d-1507-42d2-cd57-d565b39124b7"
   },
   "outputs": [
    {
     "name": "stdout",
     "output_type": "stream",
     "text": [
      "0.9736666666666667\n",
      "0.9756838905775076\n",
      "0.9975828729281768\n"
     ]
    }
   ],
   "source": [
    "from sklearn.metrics import precision_score,accuracy_score,recall_score\n",
    "\n",
    "print(accuracy_score(y_test, y_hat))\n",
    "print(precision_score(y_test, y_hat, pos_label = 'No'))\n",
    "print(recall_score(y_test, y_hat, pos_label = 'No'))"
   ]
  },
  {
   "cell_type": "code",
   "execution_count": 20,
   "metadata": {
    "colab": {
     "base_uri": "https://localhost:8080/"
    },
    "executionInfo": {
     "elapsed": 545,
     "status": "ok",
     "timestamp": 1627980629864,
     "user": {
      "displayName": "이우재",
      "photoUrl": "",
      "userId": "15709195273175322901"
     },
     "user_tz": -540
    },
    "id": "9FQPWEkLNJPV",
    "outputId": "02e50fb7-4271-4df7-c3b3-4c387b15a228"
   },
   "outputs": [
    {
     "name": "stdout",
     "output_type": "stream",
     "text": [
      "0.9736666666666667\n",
      "0.8205128205128205\n",
      "0.3076923076923077\n"
     ]
    }
   ],
   "source": [
    "print(accuracy_score(y_test, y_hat))\n",
    "print(precision_score(y_test, y_hat, pos_label = 'Yes'))\n",
    "print(recall_score(y_test, y_hat, pos_label = 'Yes'))"
   ]
  },
  {
   "cell_type": "code",
   "execution_count": 21,
   "metadata": {
    "colab": {
     "base_uri": "https://localhost:8080/"
    },
    "executionInfo": {
     "elapsed": 415,
     "status": "ok",
     "timestamp": 1627981051446,
     "user": {
      "displayName": "이우재",
      "photoUrl": "",
      "userId": "15709195273175322901"
     },
     "user_tz": -540
    },
    "id": "pnyMKqPlNQDV",
    "outputId": "a388a0b2-3dcf-4feb-9907-828cf605a842"
   },
   "outputs": [
    {
     "data": {
      "text/plain": [
       "0.44755244755244755"
      ]
     },
     "execution_count": 21,
     "metadata": {
      "tags": []
     },
     "output_type": "execute_result"
    }
   ],
   "source": [
    "from sklearn.metrics import f1_score\n",
    "\n",
    "f1_score(y_test,y_hat,pos_label='Yes')"
   ]
  },
  {
   "cell_type": "code",
   "execution_count": 23,
   "metadata": {
    "colab": {
     "base_uri": "https://localhost:8080/"
    },
    "executionInfo": {
     "elapsed": 360,
     "status": "ok",
     "timestamp": 1627981173458,
     "user": {
      "displayName": "이우재",
      "photoUrl": "",
      "userId": "15709195273175322901"
     },
     "user_tz": -540
    },
    "id": "DIZxAthmO3It",
    "outputId": "926ab5c5-e5f5-48b4-fd41-83e10971eeea"
   },
   "outputs": [
    {
     "name": "stdout",
     "output_type": "stream",
     "text": [
      "              precision    recall  f1-score   support\n",
      "\n",
      "          No    0.97568   0.99758   0.98651      2896\n",
      "         Yes    0.82051   0.30769   0.44755       104\n",
      "\n",
      "    accuracy                        0.97367      3000\n",
      "   macro avg    0.89810   0.65264   0.71703      3000\n",
      "weighted avg    0.97030   0.97367   0.96783      3000\n",
      "\n"
     ]
    }
   ],
   "source": [
    "from sklearn.metrics import classification_report\n",
    "print(classification_report(y_test,y_hat,target_names=['No','Yes'],digits=5))"
   ]
  },
  {
   "cell_type": "code",
   "execution_count": null,
   "metadata": {
    "id": "DWFJ04_oPR0-"
   },
   "outputs": [],
   "source": []
  }
 ],
 "metadata": {
  "colab": {
   "authorship_tag": "ABX9TyNf2/d8JsvN4yNLX8L0e2yu",
   "name": "Logistic.ipynb",
   "provenance": []
  },
  "kernelspec": {
   "display_name": "Python 3",
   "language": "python",
   "name": "python3"
  },
  "language_info": {
   "codemirror_mode": {
    "name": "ipython",
    "version": 3
   },
   "file_extension": ".py",
   "mimetype": "text/x-python",
   "name": "python",
   "nbconvert_exporter": "python",
   "pygments_lexer": "ipython3",
   "version": "3.8.8"
  }
 },
 "nbformat": 4,
 "nbformat_minor": 4
}
