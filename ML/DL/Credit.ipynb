{
  "nbformat": 4,
  "nbformat_minor": 0,
  "metadata": {
    "colab": {
      "name": "Credit.ipynb",
      "provenance": [],
      "collapsed_sections": []
    },
    "kernelspec": {
      "name": "python3",
      "display_name": "Python 3"
    },
    "language_info": {
      "name": "python"
    }
  },
  "cells": [
    {
      "cell_type": "markdown",
      "metadata": {
        "id": "wTmlK7D5pkFT"
      },
      "source": [
        "# Credit card fraud detection"
      ]
    },
    {
      "cell_type": "code",
      "metadata": {
        "id": "v5oMAKO8iJZg"
      },
      "source": [
        "import warnings \n",
        "warnings.filterwarnings('ignore')"
      ],
      "execution_count": null,
      "outputs": []
    },
    {
      "cell_type": "code",
      "metadata": {
        "colab": {
          "base_uri": "https://localhost:8080/"
        },
        "id": "Ur7KTjOYtFK-",
        "outputId": "2617abef-8d99-424f-cc23-fc4e7c9471b5"
      },
      "source": [
        "!unzip /content/drive/My\\ Drive/Colab\\ Notebooks/datasets/creditCardFraud.zip"
      ],
      "execution_count": null,
      "outputs": [
        {
          "output_type": "stream",
          "text": [
            "Archive:  /content/drive/My Drive/Colab Notebooks/datasets/creditCardFraud.zip\n",
            "  inflating: creditcard.csv          \n"
          ],
          "name": "stdout"
        }
      ]
    },
    {
      "cell_type": "code",
      "metadata": {
        "colab": {
          "base_uri": "https://localhost:8080/"
        },
        "id": "QBft-3rLyPvK",
        "outputId": "781da03b-0b17-410e-ced4-9882342f2545"
      },
      "source": [
        "import pandas as pd\n",
        "\n",
        "df = pd.read_csv('creditcard.csv')\n",
        "\n",
        "df.info()"
      ],
      "execution_count": null,
      "outputs": [
        {
          "output_type": "stream",
          "text": [
            "<class 'pandas.core.frame.DataFrame'>\n",
            "RangeIndex: 284807 entries, 0 to 284806\n",
            "Data columns (total 31 columns):\n",
            " #   Column  Non-Null Count   Dtype  \n",
            "---  ------  --------------   -----  \n",
            " 0   Time    284807 non-null  float64\n",
            " 1   V1      284807 non-null  float64\n",
            " 2   V2      284807 non-null  float64\n",
            " 3   V3      284807 non-null  float64\n",
            " 4   V4      284807 non-null  float64\n",
            " 5   V5      284807 non-null  float64\n",
            " 6   V6      284807 non-null  float64\n",
            " 7   V7      284807 non-null  float64\n",
            " 8   V8      284807 non-null  float64\n",
            " 9   V9      284807 non-null  float64\n",
            " 10  V10     284807 non-null  float64\n",
            " 11  V11     284807 non-null  float64\n",
            " 12  V12     284807 non-null  float64\n",
            " 13  V13     284807 non-null  float64\n",
            " 14  V14     284807 non-null  float64\n",
            " 15  V15     284807 non-null  float64\n",
            " 16  V16     284807 non-null  float64\n",
            " 17  V17     284807 non-null  float64\n",
            " 18  V18     284807 non-null  float64\n",
            " 19  V19     284807 non-null  float64\n",
            " 20  V20     284807 non-null  float64\n",
            " 21  V21     284807 non-null  float64\n",
            " 22  V22     284807 non-null  float64\n",
            " 23  V23     284807 non-null  float64\n",
            " 24  V24     284807 non-null  float64\n",
            " 25  V25     284807 non-null  float64\n",
            " 26  V26     284807 non-null  float64\n",
            " 27  V27     284807 non-null  float64\n",
            " 28  V28     284807 non-null  float64\n",
            " 29  Amount  284807 non-null  float64\n",
            " 30  Class   284807 non-null  int64  \n",
            "dtypes: float64(30), int64(1)\n",
            "memory usage: 67.4 MB\n"
          ],
          "name": "stdout"
        }
      ]
    },
    {
      "cell_type": "code",
      "metadata": {
        "colab": {
          "base_uri": "https://localhost:8080/"
        },
        "id": "Q0F2GUE-ycj9",
        "outputId": "73717424-c386-4198-dd5c-d7067a4371fc"
      },
      "source": [
        "df.Class.value_counts()"
      ],
      "execution_count": null,
      "outputs": [
        {
          "output_type": "execute_result",
          "data": {
            "text/plain": [
              "0    284315\n",
              "1       492\n",
              "Name: Class, dtype: int64"
            ]
          },
          "metadata": {
            "tags": []
          },
          "execution_count": 5
        }
      ]
    },
    {
      "cell_type": "code",
      "metadata": {
        "colab": {
          "base_uri": "https://localhost:8080/"
        },
        "id": "6hwyHuh-yk2r",
        "outputId": "81e816ca-9335-48dd-f04a-6b2b903ab91b"
      },
      "source": [
        "df.Class.value_counts()/df.shape[0]*100"
      ],
      "execution_count": null,
      "outputs": [
        {
          "output_type": "execute_result",
          "data": {
            "text/plain": [
              "0    99.827251\n",
              "1     0.172749\n",
              "Name: Class, dtype: float64"
            ]
          },
          "metadata": {
            "tags": []
          },
          "execution_count": 6
        }
      ]
    },
    {
      "cell_type": "code",
      "metadata": {
        "colab": {
          "base_uri": "https://localhost:8080/",
          "height": 224
        },
        "id": "r1XQDEbIyurk",
        "outputId": "2cf6ff8d-7c40-489c-923f-11a4f5b58935"
      },
      "source": [
        "df.head()"
      ],
      "execution_count": null,
      "outputs": [
        {
          "output_type": "execute_result",
          "data": {
            "text/html": [
              "<div>\n",
              "<style scoped>\n",
              "    .dataframe tbody tr th:only-of-type {\n",
              "        vertical-align: middle;\n",
              "    }\n",
              "\n",
              "    .dataframe tbody tr th {\n",
              "        vertical-align: top;\n",
              "    }\n",
              "\n",
              "    .dataframe thead th {\n",
              "        text-align: right;\n",
              "    }\n",
              "</style>\n",
              "<table border=\"1\" class=\"dataframe\">\n",
              "  <thead>\n",
              "    <tr style=\"text-align: right;\">\n",
              "      <th></th>\n",
              "      <th>Time</th>\n",
              "      <th>V1</th>\n",
              "      <th>V2</th>\n",
              "      <th>V3</th>\n",
              "      <th>V4</th>\n",
              "      <th>V5</th>\n",
              "      <th>V6</th>\n",
              "      <th>V7</th>\n",
              "      <th>V8</th>\n",
              "      <th>V9</th>\n",
              "      <th>V10</th>\n",
              "      <th>V11</th>\n",
              "      <th>V12</th>\n",
              "      <th>V13</th>\n",
              "      <th>V14</th>\n",
              "      <th>V15</th>\n",
              "      <th>V16</th>\n",
              "      <th>V17</th>\n",
              "      <th>V18</th>\n",
              "      <th>V19</th>\n",
              "      <th>V20</th>\n",
              "      <th>V21</th>\n",
              "      <th>V22</th>\n",
              "      <th>V23</th>\n",
              "      <th>V24</th>\n",
              "      <th>V25</th>\n",
              "      <th>V26</th>\n",
              "      <th>V27</th>\n",
              "      <th>V28</th>\n",
              "      <th>Amount</th>\n",
              "      <th>Class</th>\n",
              "    </tr>\n",
              "  </thead>\n",
              "  <tbody>\n",
              "    <tr>\n",
              "      <th>0</th>\n",
              "      <td>0.0</td>\n",
              "      <td>-1.359807</td>\n",
              "      <td>-0.072781</td>\n",
              "      <td>2.536347</td>\n",
              "      <td>1.378155</td>\n",
              "      <td>-0.338321</td>\n",
              "      <td>0.462388</td>\n",
              "      <td>0.239599</td>\n",
              "      <td>0.098698</td>\n",
              "      <td>0.363787</td>\n",
              "      <td>0.090794</td>\n",
              "      <td>-0.551600</td>\n",
              "      <td>-0.617801</td>\n",
              "      <td>-0.991390</td>\n",
              "      <td>-0.311169</td>\n",
              "      <td>1.468177</td>\n",
              "      <td>-0.470401</td>\n",
              "      <td>0.207971</td>\n",
              "      <td>0.025791</td>\n",
              "      <td>0.403993</td>\n",
              "      <td>0.251412</td>\n",
              "      <td>-0.018307</td>\n",
              "      <td>0.277838</td>\n",
              "      <td>-0.110474</td>\n",
              "      <td>0.066928</td>\n",
              "      <td>0.128539</td>\n",
              "      <td>-0.189115</td>\n",
              "      <td>0.133558</td>\n",
              "      <td>-0.021053</td>\n",
              "      <td>149.62</td>\n",
              "      <td>0</td>\n",
              "    </tr>\n",
              "    <tr>\n",
              "      <th>1</th>\n",
              "      <td>0.0</td>\n",
              "      <td>1.191857</td>\n",
              "      <td>0.266151</td>\n",
              "      <td>0.166480</td>\n",
              "      <td>0.448154</td>\n",
              "      <td>0.060018</td>\n",
              "      <td>-0.082361</td>\n",
              "      <td>-0.078803</td>\n",
              "      <td>0.085102</td>\n",
              "      <td>-0.255425</td>\n",
              "      <td>-0.166974</td>\n",
              "      <td>1.612727</td>\n",
              "      <td>1.065235</td>\n",
              "      <td>0.489095</td>\n",
              "      <td>-0.143772</td>\n",
              "      <td>0.635558</td>\n",
              "      <td>0.463917</td>\n",
              "      <td>-0.114805</td>\n",
              "      <td>-0.183361</td>\n",
              "      <td>-0.145783</td>\n",
              "      <td>-0.069083</td>\n",
              "      <td>-0.225775</td>\n",
              "      <td>-0.638672</td>\n",
              "      <td>0.101288</td>\n",
              "      <td>-0.339846</td>\n",
              "      <td>0.167170</td>\n",
              "      <td>0.125895</td>\n",
              "      <td>-0.008983</td>\n",
              "      <td>0.014724</td>\n",
              "      <td>2.69</td>\n",
              "      <td>0</td>\n",
              "    </tr>\n",
              "    <tr>\n",
              "      <th>2</th>\n",
              "      <td>1.0</td>\n",
              "      <td>-1.358354</td>\n",
              "      <td>-1.340163</td>\n",
              "      <td>1.773209</td>\n",
              "      <td>0.379780</td>\n",
              "      <td>-0.503198</td>\n",
              "      <td>1.800499</td>\n",
              "      <td>0.791461</td>\n",
              "      <td>0.247676</td>\n",
              "      <td>-1.514654</td>\n",
              "      <td>0.207643</td>\n",
              "      <td>0.624501</td>\n",
              "      <td>0.066084</td>\n",
              "      <td>0.717293</td>\n",
              "      <td>-0.165946</td>\n",
              "      <td>2.345865</td>\n",
              "      <td>-2.890083</td>\n",
              "      <td>1.109969</td>\n",
              "      <td>-0.121359</td>\n",
              "      <td>-2.261857</td>\n",
              "      <td>0.524980</td>\n",
              "      <td>0.247998</td>\n",
              "      <td>0.771679</td>\n",
              "      <td>0.909412</td>\n",
              "      <td>-0.689281</td>\n",
              "      <td>-0.327642</td>\n",
              "      <td>-0.139097</td>\n",
              "      <td>-0.055353</td>\n",
              "      <td>-0.059752</td>\n",
              "      <td>378.66</td>\n",
              "      <td>0</td>\n",
              "    </tr>\n",
              "    <tr>\n",
              "      <th>3</th>\n",
              "      <td>1.0</td>\n",
              "      <td>-0.966272</td>\n",
              "      <td>-0.185226</td>\n",
              "      <td>1.792993</td>\n",
              "      <td>-0.863291</td>\n",
              "      <td>-0.010309</td>\n",
              "      <td>1.247203</td>\n",
              "      <td>0.237609</td>\n",
              "      <td>0.377436</td>\n",
              "      <td>-1.387024</td>\n",
              "      <td>-0.054952</td>\n",
              "      <td>-0.226487</td>\n",
              "      <td>0.178228</td>\n",
              "      <td>0.507757</td>\n",
              "      <td>-0.287924</td>\n",
              "      <td>-0.631418</td>\n",
              "      <td>-1.059647</td>\n",
              "      <td>-0.684093</td>\n",
              "      <td>1.965775</td>\n",
              "      <td>-1.232622</td>\n",
              "      <td>-0.208038</td>\n",
              "      <td>-0.108300</td>\n",
              "      <td>0.005274</td>\n",
              "      <td>-0.190321</td>\n",
              "      <td>-1.175575</td>\n",
              "      <td>0.647376</td>\n",
              "      <td>-0.221929</td>\n",
              "      <td>0.062723</td>\n",
              "      <td>0.061458</td>\n",
              "      <td>123.50</td>\n",
              "      <td>0</td>\n",
              "    </tr>\n",
              "    <tr>\n",
              "      <th>4</th>\n",
              "      <td>2.0</td>\n",
              "      <td>-1.158233</td>\n",
              "      <td>0.877737</td>\n",
              "      <td>1.548718</td>\n",
              "      <td>0.403034</td>\n",
              "      <td>-0.407193</td>\n",
              "      <td>0.095921</td>\n",
              "      <td>0.592941</td>\n",
              "      <td>-0.270533</td>\n",
              "      <td>0.817739</td>\n",
              "      <td>0.753074</td>\n",
              "      <td>-0.822843</td>\n",
              "      <td>0.538196</td>\n",
              "      <td>1.345852</td>\n",
              "      <td>-1.119670</td>\n",
              "      <td>0.175121</td>\n",
              "      <td>-0.451449</td>\n",
              "      <td>-0.237033</td>\n",
              "      <td>-0.038195</td>\n",
              "      <td>0.803487</td>\n",
              "      <td>0.408542</td>\n",
              "      <td>-0.009431</td>\n",
              "      <td>0.798278</td>\n",
              "      <td>-0.137458</td>\n",
              "      <td>0.141267</td>\n",
              "      <td>-0.206010</td>\n",
              "      <td>0.502292</td>\n",
              "      <td>0.219422</td>\n",
              "      <td>0.215153</td>\n",
              "      <td>69.99</td>\n",
              "      <td>0</td>\n",
              "    </tr>\n",
              "  </tbody>\n",
              "</table>\n",
              "</div>"
            ],
            "text/plain": [
              "   Time        V1        V2        V3  ...       V27       V28  Amount  Class\n",
              "0   0.0 -1.359807 -0.072781  2.536347  ...  0.133558 -0.021053  149.62      0\n",
              "1   0.0  1.191857  0.266151  0.166480  ... -0.008983  0.014724    2.69      0\n",
              "2   1.0 -1.358354 -1.340163  1.773209  ... -0.055353 -0.059752  378.66      0\n",
              "3   1.0 -0.966272 -0.185226  1.792993  ...  0.062723  0.061458  123.50      0\n",
              "4   2.0 -1.158233  0.877737  1.548718  ...  0.219422  0.215153   69.99      0\n",
              "\n",
              "[5 rows x 31 columns]"
            ]
          },
          "metadata": {
            "tags": []
          },
          "execution_count": 7
        }
      ]
    },
    {
      "cell_type": "code",
      "metadata": {
        "colab": {
          "base_uri": "https://localhost:8080/",
          "height": 224
        },
        "id": "RZS_JQv10Ofr",
        "outputId": "4def5d34-4ff8-424a-c2c2-47bc45cb2a86"
      },
      "source": [
        "df.drop('Time',axis =1, inplace=True)\n",
        "df.head()"
      ],
      "execution_count": null,
      "outputs": [
        {
          "output_type": "execute_result",
          "data": {
            "text/html": [
              "<div>\n",
              "<style scoped>\n",
              "    .dataframe tbody tr th:only-of-type {\n",
              "        vertical-align: middle;\n",
              "    }\n",
              "\n",
              "    .dataframe tbody tr th {\n",
              "        vertical-align: top;\n",
              "    }\n",
              "\n",
              "    .dataframe thead th {\n",
              "        text-align: right;\n",
              "    }\n",
              "</style>\n",
              "<table border=\"1\" class=\"dataframe\">\n",
              "  <thead>\n",
              "    <tr style=\"text-align: right;\">\n",
              "      <th></th>\n",
              "      <th>V1</th>\n",
              "      <th>V2</th>\n",
              "      <th>V3</th>\n",
              "      <th>V4</th>\n",
              "      <th>V5</th>\n",
              "      <th>V6</th>\n",
              "      <th>V7</th>\n",
              "      <th>V8</th>\n",
              "      <th>V9</th>\n",
              "      <th>V10</th>\n",
              "      <th>V11</th>\n",
              "      <th>V12</th>\n",
              "      <th>V13</th>\n",
              "      <th>V14</th>\n",
              "      <th>V15</th>\n",
              "      <th>V16</th>\n",
              "      <th>V17</th>\n",
              "      <th>V18</th>\n",
              "      <th>V19</th>\n",
              "      <th>V20</th>\n",
              "      <th>V21</th>\n",
              "      <th>V22</th>\n",
              "      <th>V23</th>\n",
              "      <th>V24</th>\n",
              "      <th>V25</th>\n",
              "      <th>V26</th>\n",
              "      <th>V27</th>\n",
              "      <th>V28</th>\n",
              "      <th>Amount</th>\n",
              "      <th>Class</th>\n",
              "    </tr>\n",
              "  </thead>\n",
              "  <tbody>\n",
              "    <tr>\n",
              "      <th>0</th>\n",
              "      <td>-1.359807</td>\n",
              "      <td>-0.072781</td>\n",
              "      <td>2.536347</td>\n",
              "      <td>1.378155</td>\n",
              "      <td>-0.338321</td>\n",
              "      <td>0.462388</td>\n",
              "      <td>0.239599</td>\n",
              "      <td>0.098698</td>\n",
              "      <td>0.363787</td>\n",
              "      <td>0.090794</td>\n",
              "      <td>-0.551600</td>\n",
              "      <td>-0.617801</td>\n",
              "      <td>-0.991390</td>\n",
              "      <td>-0.311169</td>\n",
              "      <td>1.468177</td>\n",
              "      <td>-0.470401</td>\n",
              "      <td>0.207971</td>\n",
              "      <td>0.025791</td>\n",
              "      <td>0.403993</td>\n",
              "      <td>0.251412</td>\n",
              "      <td>-0.018307</td>\n",
              "      <td>0.277838</td>\n",
              "      <td>-0.110474</td>\n",
              "      <td>0.066928</td>\n",
              "      <td>0.128539</td>\n",
              "      <td>-0.189115</td>\n",
              "      <td>0.133558</td>\n",
              "      <td>-0.021053</td>\n",
              "      <td>149.62</td>\n",
              "      <td>0</td>\n",
              "    </tr>\n",
              "    <tr>\n",
              "      <th>1</th>\n",
              "      <td>1.191857</td>\n",
              "      <td>0.266151</td>\n",
              "      <td>0.166480</td>\n",
              "      <td>0.448154</td>\n",
              "      <td>0.060018</td>\n",
              "      <td>-0.082361</td>\n",
              "      <td>-0.078803</td>\n",
              "      <td>0.085102</td>\n",
              "      <td>-0.255425</td>\n",
              "      <td>-0.166974</td>\n",
              "      <td>1.612727</td>\n",
              "      <td>1.065235</td>\n",
              "      <td>0.489095</td>\n",
              "      <td>-0.143772</td>\n",
              "      <td>0.635558</td>\n",
              "      <td>0.463917</td>\n",
              "      <td>-0.114805</td>\n",
              "      <td>-0.183361</td>\n",
              "      <td>-0.145783</td>\n",
              "      <td>-0.069083</td>\n",
              "      <td>-0.225775</td>\n",
              "      <td>-0.638672</td>\n",
              "      <td>0.101288</td>\n",
              "      <td>-0.339846</td>\n",
              "      <td>0.167170</td>\n",
              "      <td>0.125895</td>\n",
              "      <td>-0.008983</td>\n",
              "      <td>0.014724</td>\n",
              "      <td>2.69</td>\n",
              "      <td>0</td>\n",
              "    </tr>\n",
              "    <tr>\n",
              "      <th>2</th>\n",
              "      <td>-1.358354</td>\n",
              "      <td>-1.340163</td>\n",
              "      <td>1.773209</td>\n",
              "      <td>0.379780</td>\n",
              "      <td>-0.503198</td>\n",
              "      <td>1.800499</td>\n",
              "      <td>0.791461</td>\n",
              "      <td>0.247676</td>\n",
              "      <td>-1.514654</td>\n",
              "      <td>0.207643</td>\n",
              "      <td>0.624501</td>\n",
              "      <td>0.066084</td>\n",
              "      <td>0.717293</td>\n",
              "      <td>-0.165946</td>\n",
              "      <td>2.345865</td>\n",
              "      <td>-2.890083</td>\n",
              "      <td>1.109969</td>\n",
              "      <td>-0.121359</td>\n",
              "      <td>-2.261857</td>\n",
              "      <td>0.524980</td>\n",
              "      <td>0.247998</td>\n",
              "      <td>0.771679</td>\n",
              "      <td>0.909412</td>\n",
              "      <td>-0.689281</td>\n",
              "      <td>-0.327642</td>\n",
              "      <td>-0.139097</td>\n",
              "      <td>-0.055353</td>\n",
              "      <td>-0.059752</td>\n",
              "      <td>378.66</td>\n",
              "      <td>0</td>\n",
              "    </tr>\n",
              "    <tr>\n",
              "      <th>3</th>\n",
              "      <td>-0.966272</td>\n",
              "      <td>-0.185226</td>\n",
              "      <td>1.792993</td>\n",
              "      <td>-0.863291</td>\n",
              "      <td>-0.010309</td>\n",
              "      <td>1.247203</td>\n",
              "      <td>0.237609</td>\n",
              "      <td>0.377436</td>\n",
              "      <td>-1.387024</td>\n",
              "      <td>-0.054952</td>\n",
              "      <td>-0.226487</td>\n",
              "      <td>0.178228</td>\n",
              "      <td>0.507757</td>\n",
              "      <td>-0.287924</td>\n",
              "      <td>-0.631418</td>\n",
              "      <td>-1.059647</td>\n",
              "      <td>-0.684093</td>\n",
              "      <td>1.965775</td>\n",
              "      <td>-1.232622</td>\n",
              "      <td>-0.208038</td>\n",
              "      <td>-0.108300</td>\n",
              "      <td>0.005274</td>\n",
              "      <td>-0.190321</td>\n",
              "      <td>-1.175575</td>\n",
              "      <td>0.647376</td>\n",
              "      <td>-0.221929</td>\n",
              "      <td>0.062723</td>\n",
              "      <td>0.061458</td>\n",
              "      <td>123.50</td>\n",
              "      <td>0</td>\n",
              "    </tr>\n",
              "    <tr>\n",
              "      <th>4</th>\n",
              "      <td>-1.158233</td>\n",
              "      <td>0.877737</td>\n",
              "      <td>1.548718</td>\n",
              "      <td>0.403034</td>\n",
              "      <td>-0.407193</td>\n",
              "      <td>0.095921</td>\n",
              "      <td>0.592941</td>\n",
              "      <td>-0.270533</td>\n",
              "      <td>0.817739</td>\n",
              "      <td>0.753074</td>\n",
              "      <td>-0.822843</td>\n",
              "      <td>0.538196</td>\n",
              "      <td>1.345852</td>\n",
              "      <td>-1.119670</td>\n",
              "      <td>0.175121</td>\n",
              "      <td>-0.451449</td>\n",
              "      <td>-0.237033</td>\n",
              "      <td>-0.038195</td>\n",
              "      <td>0.803487</td>\n",
              "      <td>0.408542</td>\n",
              "      <td>-0.009431</td>\n",
              "      <td>0.798278</td>\n",
              "      <td>-0.137458</td>\n",
              "      <td>0.141267</td>\n",
              "      <td>-0.206010</td>\n",
              "      <td>0.502292</td>\n",
              "      <td>0.219422</td>\n",
              "      <td>0.215153</td>\n",
              "      <td>69.99</td>\n",
              "      <td>0</td>\n",
              "    </tr>\n",
              "  </tbody>\n",
              "</table>\n",
              "</div>"
            ],
            "text/plain": [
              "         V1        V2        V3        V4  ...       V27       V28  Amount  Class\n",
              "0 -1.359807 -0.072781  2.536347  1.378155  ...  0.133558 -0.021053  149.62      0\n",
              "1  1.191857  0.266151  0.166480  0.448154  ... -0.008983  0.014724    2.69      0\n",
              "2 -1.358354 -1.340163  1.773209  0.379780  ... -0.055353 -0.059752  378.66      0\n",
              "3 -0.966272 -0.185226  1.792993 -0.863291  ...  0.062723  0.061458  123.50      0\n",
              "4 -1.158233  0.877737  1.548718  0.403034  ...  0.219422  0.215153   69.99      0\n",
              "\n",
              "[5 rows x 30 columns]"
            ]
          },
          "metadata": {
            "tags": []
          },
          "execution_count": 8
        }
      ]
    },
    {
      "cell_type": "code",
      "metadata": {
        "colab": {
          "base_uri": "https://localhost:8080/"
        },
        "id": "dSnyJVue0bLV",
        "outputId": "63ced6e3-23ea-4c93-cdb3-911378b46a70"
      },
      "source": [
        "from sklearn.model_selection import train_test_split\n",
        "\n",
        "X=df.iloc[:,:-1]\n",
        "y=df.iloc[:,-1]\n",
        "\n",
        "X.shape,y.shape"
      ],
      "execution_count": null,
      "outputs": [
        {
          "output_type": "execute_result",
          "data": {
            "text/plain": [
              "((284807, 29), (284807,))"
            ]
          },
          "metadata": {
            "tags": []
          },
          "execution_count": 9
        }
      ]
    },
    {
      "cell_type": "code",
      "metadata": {
        "colab": {
          "base_uri": "https://localhost:8080/"
        },
        "id": "69ExU4fa0vEd",
        "outputId": "101c0ee0-d9d8-46a3-9b57-e8f9427aa257"
      },
      "source": [
        "X_train,X_test,y_train,y_test = train_test_split(X,y,test_size=0.3,random_state=2045,stratify=y)\n",
        "\n",
        "X_train.shape,y_train.shape,X_test.shape,y_test.shape"
      ],
      "execution_count": null,
      "outputs": [
        {
          "output_type": "execute_result",
          "data": {
            "text/plain": [
              "((199364, 29), (199364,), (85443, 29), (85443,))"
            ]
          },
          "metadata": {
            "tags": []
          },
          "execution_count": 15
        }
      ]
    },
    {
      "cell_type": "code",
      "metadata": {
        "colab": {
          "base_uri": "https://localhost:8080/"
        },
        "id": "PDdLVPxa1OSN",
        "outputId": "e397e6da-69de-487e-b7db-2b6015dea506"
      },
      "source": [
        "print('Train_Data :','\\n', (y_train.value_counts() / y_train.shape[0]) * 100)\n",
        "print('Test_Data :','\\n', (y_test.value_counts() / y_test.shape[0]) * 100)"
      ],
      "execution_count": null,
      "outputs": [
        {
          "output_type": "stream",
          "text": [
            "Train_Data : \n",
            " 0    99.827451\n",
            "1     0.172549\n",
            "Name: Class, dtype: float64\n",
            "Test_Data : \n",
            " 0    99.826785\n",
            "1     0.173215\n",
            "Name: Class, dtype: float64\n"
          ],
          "name": "stdout"
        }
      ]
    },
    {
      "cell_type": "markdown",
      "metadata": {
        "id": "wXs0YMi54AaT"
      },
      "source": [
        "keras modeling"
      ]
    },
    {
      "cell_type": "code",
      "metadata": {
        "colab": {
          "base_uri": "https://localhost:8080/",
          "height": 35
        },
        "id": "SqpY5iy41eJv",
        "outputId": "d18a3532-0229-4d50-a3de-4877a4fdfd46"
      },
      "source": [
        "import tensorflow\n",
        "\n",
        "tensorflow.__version__"
      ],
      "execution_count": null,
      "outputs": [
        {
          "output_type": "execute_result",
          "data": {
            "application/vnd.google.colaboratory.intrinsic+json": {
              "type": "string"
            },
            "text/plain": [
              "'2.5.0'"
            ]
          },
          "metadata": {
            "tags": []
          },
          "execution_count": 17
        }
      ]
    },
    {
      "cell_type": "code",
      "metadata": {
        "id": "vPFfGlCm5CI2"
      },
      "source": [
        "from tensorflow.keras import models\n",
        "from tensorflow.keras import layers\n",
        "\n",
        "code = models.Sequential()\n",
        "code.add(layers.Dense(128,activation='relu',input_shape=(29,)))\n",
        "code.add(layers.Dense(64,activation='relu'))\n",
        "code.add(layers.Dense(32,activation='relu'))\n",
        "code.add(layers.Dense(1,activation='sigmoid'))\n"
      ],
      "execution_count": null,
      "outputs": []
    },
    {
      "cell_type": "code",
      "metadata": {
        "colab": {
          "base_uri": "https://localhost:8080/"
        },
        "id": "gRFjWtkV7tdI",
        "outputId": "38eb1355-b87d-4aa4-820a-3234a27d5555"
      },
      "source": [
        "code.summary()"
      ],
      "execution_count": null,
      "outputs": [
        {
          "output_type": "stream",
          "text": [
            "Model: \"sequential\"\n",
            "_________________________________________________________________\n",
            "Layer (type)                 Output Shape              Param #   \n",
            "=================================================================\n",
            "dense (Dense)                (None, 128)               3840      \n",
            "_________________________________________________________________\n",
            "dense_1 (Dense)              (None, 64)                8256      \n",
            "_________________________________________________________________\n",
            "dense_2 (Dense)              (None, 32)                2080      \n",
            "_________________________________________________________________\n",
            "dense_3 (Dense)              (None, 1)                 33        \n",
            "=================================================================\n",
            "Total params: 14,209\n",
            "Trainable params: 14,209\n",
            "Non-trainable params: 0\n",
            "_________________________________________________________________\n"
          ],
          "name": "stdout"
        }
      ]
    },
    {
      "cell_type": "markdown",
      "metadata": {
        "id": "2_iOn6sW-Qt0"
      },
      "source": [
        "compile"
      ]
    },
    {
      "cell_type": "code",
      "metadata": {
        "id": "QAvZuY_k70XK"
      },
      "source": [
        "code.compile(loss='binary_crossentropy',\n",
        "             optimizer='adam',\n",
        "            metrics=['Recall'])"
      ],
      "execution_count": null,
      "outputs": []
    },
    {
      "cell_type": "markdown",
      "metadata": {
        "id": "mzszMfY6-VUn"
      },
      "source": [
        "fit"
      ]
    },
    {
      "cell_type": "code",
      "metadata": {
        "colab": {
          "base_uri": "https://localhost:8080/"
        },
        "id": "eRzVHqHD8LC5",
        "outputId": "5ddd20c0-adb3-4ad6-b4d0-3ee97ac6a4f9"
      },
      "source": [
        "%%time\n",
        "\n",
        "Hist_code = code.fit(X_train,y_train,\n",
        "                     epochs=50,batch_size=1024,\n",
        "                     validation_data=(X_test,y_test))"
      ],
      "execution_count": null,
      "outputs": [
        {
          "output_type": "stream",
          "text": [
            "Epoch 1/50\n",
            "195/195 [==============================] - 2s 7ms/step - loss: 0.0510 - recall: 0.4448 - val_loss: 0.0060 - val_recall: 0.8311\n",
            "Epoch 2/50\n",
            "195/195 [==============================] - 1s 5ms/step - loss: 0.0058 - recall: 0.7238 - val_loss: 0.0707 - val_recall: 0.3176\n",
            "Epoch 3/50\n",
            "195/195 [==============================] - 1s 6ms/step - loss: 0.0330 - recall: 0.6483 - val_loss: 0.0052 - val_recall: 0.8311\n",
            "Epoch 4/50\n",
            "195/195 [==============================] - 1s 5ms/step - loss: 0.0348 - recall: 0.6395 - val_loss: 0.0038 - val_recall: 0.8041\n",
            "Epoch 5/50\n",
            "195/195 [==============================] - 1s 5ms/step - loss: 0.0456 - recall: 0.6599 - val_loss: 0.0041 - val_recall: 0.8243\n",
            "Epoch 6/50\n",
            "195/195 [==============================] - 1s 5ms/step - loss: 0.0045 - recall: 0.7762 - val_loss: 0.0043 - val_recall: 0.7095\n",
            "Epoch 7/50\n",
            "195/195 [==============================] - 1s 5ms/step - loss: 0.0143 - recall: 0.7384 - val_loss: 0.0042 - val_recall: 0.8378\n",
            "Epoch 8/50\n",
            "195/195 [==============================] - 1s 5ms/step - loss: 0.0040 - recall: 0.7936 - val_loss: 0.0039 - val_recall: 0.8378\n",
            "Epoch 9/50\n",
            "195/195 [==============================] - 1s 5ms/step - loss: 0.0187 - recall: 0.7326 - val_loss: 0.0066 - val_recall: 0.8514\n",
            "Epoch 10/50\n",
            "195/195 [==============================] - 1s 5ms/step - loss: 0.0052 - recall: 0.7733 - val_loss: 0.0037 - val_recall: 0.8378\n",
            "Epoch 11/50\n",
            "195/195 [==============================] - 1s 5ms/step - loss: 0.0055 - recall: 0.7616 - val_loss: 0.0037 - val_recall: 0.8514\n",
            "Epoch 12/50\n",
            "195/195 [==============================] - 1s 5ms/step - loss: 0.0045 - recall: 0.7907 - val_loss: 0.0036 - val_recall: 0.8243\n",
            "Epoch 13/50\n",
            "195/195 [==============================] - 1s 5ms/step - loss: 0.0034 - recall: 0.7936 - val_loss: 0.0038 - val_recall: 0.8041\n",
            "Epoch 14/50\n",
            "195/195 [==============================] - 1s 5ms/step - loss: 0.0036 - recall: 0.7994 - val_loss: 0.0033 - val_recall: 0.8514\n",
            "Epoch 15/50\n",
            "195/195 [==============================] - 1s 5ms/step - loss: 0.0113 - recall: 0.7558 - val_loss: 0.0033 - val_recall: 0.8311\n",
            "Epoch 16/50\n",
            "195/195 [==============================] - 1s 5ms/step - loss: 0.0245 - recall: 0.7093 - val_loss: 0.0049 - val_recall: 0.7973\n",
            "Epoch 17/50\n",
            "195/195 [==============================] - 1s 5ms/step - loss: 0.0142 - recall: 0.7500 - val_loss: 0.0040 - val_recall: 0.7838\n",
            "Epoch 18/50\n",
            "195/195 [==============================] - 1s 5ms/step - loss: 0.0033 - recall: 0.8023 - val_loss: 0.0034 - val_recall: 0.8514\n",
            "Epoch 19/50\n",
            "195/195 [==============================] - 1s 5ms/step - loss: 0.0030 - recall: 0.7965 - val_loss: 0.0031 - val_recall: 0.8378\n",
            "Epoch 20/50\n",
            "195/195 [==============================] - 1s 5ms/step - loss: 0.0026 - recall: 0.8227 - val_loss: 0.0032 - val_recall: 0.8041\n",
            "Epoch 21/50\n",
            "195/195 [==============================] - 1s 5ms/step - loss: 0.0027 - recall: 0.8023 - val_loss: 0.0031 - val_recall: 0.8514\n",
            "Epoch 22/50\n",
            "195/195 [==============================] - 1s 5ms/step - loss: 0.0023 - recall: 0.8285 - val_loss: 0.0029 - val_recall: 0.7973\n",
            "Epoch 23/50\n",
            "195/195 [==============================] - 1s 5ms/step - loss: 0.0025 - recall: 0.8401 - val_loss: 0.0029 - val_recall: 0.8649\n",
            "Epoch 24/50\n",
            "195/195 [==============================] - 1s 5ms/step - loss: 0.0062 - recall: 0.7994 - val_loss: 0.0107 - val_recall: 0.7703\n",
            "Epoch 25/50\n",
            "195/195 [==============================] - 1s 5ms/step - loss: 0.0057 - recall: 0.7994 - val_loss: 0.0034 - val_recall: 0.8446\n",
            "Epoch 26/50\n",
            "195/195 [==============================] - 1s 5ms/step - loss: 0.0026 - recall: 0.8256 - val_loss: 0.0030 - val_recall: 0.8243\n",
            "Epoch 27/50\n",
            "195/195 [==============================] - 1s 5ms/step - loss: 0.0023 - recall: 0.8343 - val_loss: 0.0031 - val_recall: 0.8041\n",
            "Epoch 28/50\n",
            "195/195 [==============================] - 1s 5ms/step - loss: 0.0023 - recall: 0.8430 - val_loss: 0.0033 - val_recall: 0.7973\n",
            "Epoch 29/50\n",
            "195/195 [==============================] - 1s 5ms/step - loss: 0.0032 - recall: 0.8401 - val_loss: 0.0032 - val_recall: 0.8041\n",
            "Epoch 30/50\n",
            "195/195 [==============================] - 1s 5ms/step - loss: 0.0028 - recall: 0.8256 - val_loss: 0.0040 - val_recall: 0.8649\n",
            "Epoch 31/50\n",
            "195/195 [==============================] - 1s 5ms/step - loss: 0.0026 - recall: 0.8430 - val_loss: 0.0031 - val_recall: 0.8716\n",
            "Epoch 32/50\n",
            "195/195 [==============================] - 1s 5ms/step - loss: 0.0017 - recall: 0.8605 - val_loss: 0.0031 - val_recall: 0.8514\n",
            "Epoch 33/50\n",
            "195/195 [==============================] - 1s 5ms/step - loss: 0.0018 - recall: 0.8547 - val_loss: 0.0031 - val_recall: 0.8311\n",
            "Epoch 34/50\n",
            "195/195 [==============================] - 1s 5ms/step - loss: 0.0024 - recall: 0.8430 - val_loss: 0.0031 - val_recall: 0.8581\n",
            "Epoch 35/50\n",
            "195/195 [==============================] - 1s 5ms/step - loss: 0.0022 - recall: 0.8401 - val_loss: 0.0036 - val_recall: 0.8514\n",
            "Epoch 36/50\n",
            "195/195 [==============================] - 1s 5ms/step - loss: 0.0018 - recall: 0.8576 - val_loss: 0.0035 - val_recall: 0.8176\n",
            "Epoch 37/50\n",
            "195/195 [==============================] - 1s 5ms/step - loss: 0.0016 - recall: 0.8576 - val_loss: 0.0032 - val_recall: 0.8378\n",
            "Epoch 38/50\n",
            "195/195 [==============================] - 1s 5ms/step - loss: 0.0016 - recall: 0.8547 - val_loss: 0.0035 - val_recall: 0.8716\n",
            "Epoch 39/50\n",
            "195/195 [==============================] - 1s 5ms/step - loss: 0.0015 - recall: 0.8576 - val_loss: 0.0035 - val_recall: 0.8311\n",
            "Epoch 40/50\n",
            "195/195 [==============================] - 1s 6ms/step - loss: 0.0018 - recall: 0.8663 - val_loss: 0.0036 - val_recall: 0.8378\n",
            "Epoch 41/50\n",
            "195/195 [==============================] - 1s 5ms/step - loss: 0.0015 - recall: 0.8663 - val_loss: 0.0036 - val_recall: 0.8581\n",
            "Epoch 42/50\n",
            "195/195 [==============================] - 1s 5ms/step - loss: 0.0021 - recall: 0.8576 - val_loss: 0.0039 - val_recall: 0.8581\n",
            "Epoch 43/50\n",
            "195/195 [==============================] - 1s 5ms/step - loss: 0.0018 - recall: 0.8547 - val_loss: 0.0052 - val_recall: 0.8176\n",
            "Epoch 44/50\n",
            "195/195 [==============================] - 1s 6ms/step - loss: 0.0019 - recall: 0.8663 - val_loss: 0.0035 - val_recall: 0.8176\n",
            "Epoch 45/50\n",
            "195/195 [==============================] - 1s 5ms/step - loss: 0.0015 - recall: 0.8663 - val_loss: 0.0035 - val_recall: 0.8378\n",
            "Epoch 46/50\n",
            "195/195 [==============================] - 1s 5ms/step - loss: 0.0022 - recall: 0.8430 - val_loss: 0.0042 - val_recall: 0.8784\n",
            "Epoch 47/50\n",
            "195/195 [==============================] - 1s 5ms/step - loss: 0.0024 - recall: 0.8488 - val_loss: 0.0044 - val_recall: 0.8176\n",
            "Epoch 48/50\n",
            "195/195 [==============================] - 1s 5ms/step - loss: 0.0017 - recall: 0.8779 - val_loss: 0.0038 - val_recall: 0.8581\n",
            "Epoch 49/50\n",
            "195/195 [==============================] - 1s 5ms/step - loss: 0.0014 - recall: 0.8808 - val_loss: 0.0038 - val_recall: 0.8378\n",
            "Epoch 50/50\n",
            "195/195 [==============================] - 1s 5ms/step - loss: 0.0074 - recall: 0.8285 - val_loss: 0.0054 - val_recall: 0.8041\n",
            "CPU times: user 1min 13s, sys: 5.21 s, total: 1min 18s\n",
            "Wall time: 1min 22s\n"
          ],
          "name": "stdout"
        }
      ]
    },
    {
      "cell_type": "markdown",
      "metadata": {
        "id": "B17joJZ7-XTU"
      },
      "source": [
        "visualization"
      ]
    },
    {
      "cell_type": "code",
      "metadata": {
        "colab": {
          "base_uri": "https://localhost:8080/",
          "height": 404
        },
        "id": "pG6Kz-IT8mJY",
        "outputId": "9663994a-570e-4401-ae07-b787cd5faf1e"
      },
      "source": [
        "import matplotlib.pyplot as plt\n",
        "epochs = range(1, len(Hist_code.history['loss']) + 1)\n",
        "plt.figure(figsize = (9, 6))\n",
        "plt.plot(epochs, Hist_code.history['loss'])\n",
        "plt.plot(epochs, Hist_code.history['val_loss'])\n",
        "plt.title('Training & Validation Loss')\n",
        "plt.xlabel('Epochs')\n",
        "plt.ylabel('Loss')\n",
        "plt.legend(['Training Loss', 'Validation Loss'])\n",
        "plt.grid()\n",
        "plt.show()"
      ],
      "execution_count": null,
      "outputs": [
        {
          "output_type": "display_data",
          "data": {
            "image/png": "[encoded data removed]",
            "text/plain": [
              "<Figure size 648x432 with 1 Axes>"
            ]
          },
          "metadata": {
            "tags": [],
            "needs_background": "light"
          }
        }
      ]
    },
    {
      "cell_type": "code",
      "metadata": {
        "colab": {
          "base_uri": "https://localhost:8080/",
          "height": 404
        },
        "id": "27M2cKbm875X",
        "outputId": "cb89df29-79ec-4533-ac88-50aa0a7030b9"
      },
      "source": [
        "import matplotlib.pyplot as plt\n",
        "epochs = range(1, len(Hist_code.history['recall']) + 1)\n",
        "plt.figure(figsize = (9, 6))\n",
        "plt.plot(epochs, Hist_code.history['recall'])\n",
        "plt.plot(epochs, Hist_code.history['val_recall'])\n",
        "plt.title('Training & Validation Recall')\n",
        "plt.xlabel('Epochs')\n",
        "plt.ylabel('Recall')\n",
        "plt.legend(['Training Recall', 'Validation Recall'])\n",
        "plt.grid()\n",
        "plt.show()"
      ],
      "execution_count": null,
      "outputs": [
        {
          "output_type": "display_data",
          "data": {
            "image/png": "[encoded data removed]",
            "text/plain": [
              "<Figure size 648x432 with 1 Axes>"
            ]
          },
          "metadata": {
            "tags": [],
            "needs_background": "light"
          }
        }
      ]
    },
    {
      "cell_type": "code",
      "metadata": {
        "id": "i-C3x8W58_ZH"
      },
      "source": [
        "y_hat = code.predict_classes(X_test)"
      ],
      "execution_count": null,
      "outputs": []
    },
    {
      "cell_type": "code",
      "metadata": {
        "colab": {
          "base_uri": "https://localhost:8080/"
        },
        "id": "xL3XcmRf9TB7",
        "outputId": "3aca1f47-1d7e-4090-e9e3-274cb16efe29"
      },
      "source": [
        "from sklearn.metrics import confusion_matrix\n",
        "\n",
        "confusion_matrix(y_test,y_hat)"
      ],
      "execution_count": null,
      "outputs": [
        {
          "output_type": "execute_result",
          "data": {
            "text/plain": [
              "array([[85270,    25],\n",
              "       [   29,   119]])"
            ]
          },
          "metadata": {
            "tags": []
          },
          "execution_count": 27
        }
      ]
    },
    {
      "cell_type": "code",
      "metadata": {
        "colab": {
          "base_uri": "https://localhost:8080/"
        },
        "id": "ry2AtIuj9ah0",
        "outputId": "263a0b3d-836c-4724-d0c5-5fa4b2b7d913"
      },
      "source": [
        "from sklearn.metrics import accuracy_score,precision_score,recall_score\n",
        "\n",
        "print(accuracy_score(y_test,y_hat))\n",
        "print(precision_score(y_test,y_hat,pos_label = 1))\n",
        "print(recall_score(y_test,y_hat,pos_label = 1))"
      ],
      "execution_count": null,
      "outputs": [
        {
          "output_type": "stream",
          "text": [
            "0.9995201479348805\n",
            "0.9349593495934959\n",
            "0.777027027027027\n"
          ],
          "name": "stdout"
        }
      ]
    },
    {
      "cell_type": "code",
      "metadata": {
        "id": "aTRxlDU2_Hie"
      },
      "source": [
        "from sklearn.ensemble import RandomForestClassifier\n",
        "\n",
        "rd= RandomForestClassifier(max_depth=5)"
      ],
      "execution_count": null,
      "outputs": []
    },
    {
      "cell_type": "code",
      "metadata": {
        "colab": {
          "base_uri": "https://localhost:8080/"
        },
        "id": "hERGHDG4CRyu",
        "outputId": "1c873e1d-cad8-4fd3-9d75-1effb21447ac"
      },
      "source": [
        "rd.fit(X_train,y_train)"
      ],
      "execution_count": null,
      "outputs": [
        {
          "output_type": "execute_result",
          "data": {
            "text/plain": [
              "RandomForestClassifier(bootstrap=True, ccp_alpha=0.0, class_weight=None,\n",
              "                       criterion='gini', max_depth=5, max_features='auto',\n",
              "                       max_leaf_nodes=None, max_samples=None,\n",
              "                       min_impurity_decrease=0.0, min_impurity_split=None,\n",
              "                       min_samples_leaf=1, min_samples_split=2,\n",
              "                       min_weight_fraction_leaf=0.0, n_estimators=100,\n",
              "                       n_jobs=None, oob_score=False, random_state=None,\n",
              "                       verbose=0, warm_start=False)"
            ]
          },
          "metadata": {
            "tags": []
          },
          "execution_count": 39
        }
      ]
    },
    {
      "cell_type": "code",
      "metadata": {
        "id": "Kk1g9T50CWUv"
      },
      "source": [
        "y_hat=rd.predict(X_test)"
      ],
      "execution_count": null,
      "outputs": []
    },
    {
      "cell_type": "code",
      "metadata": {
        "colab": {
          "base_uri": "https://localhost:8080/"
        },
        "id": "PDn0AmKyCtZg",
        "outputId": "84ce86ee-2541-4547-e2bf-ac49ec9f2197"
      },
      "source": [
        "confusion_matrix(y_test,y_hat)"
      ],
      "execution_count": null,
      "outputs": [
        {
          "output_type": "execute_result",
          "data": {
            "text/plain": [
              "array([[85287,     8],\n",
              "       [   33,   115]])"
            ]
          },
          "metadata": {
            "tags": []
          },
          "execution_count": 41
        }
      ]
    },
    {
      "cell_type": "code",
      "metadata": {
        "colab": {
          "base_uri": "https://localhost:8080/"
        },
        "id": "GTELNRxxCvYg",
        "outputId": "29f97119-9aed-4220-e21f-eacab8f8de1a"
      },
      "source": [
        "print(accuracy_score(y_test,y_hat))\n",
        "print(precision_score(y_test,y_hat,pos_label = 1))\n",
        "print(recall_score(y_test,y_hat,pos_label = 1))"
      ],
      "execution_count": null,
      "outputs": [
        {
          "output_type": "stream",
          "text": [
            "0.9995201479348805\n",
            "0.9349593495934959\n",
            "0.777027027027027\n"
          ],
          "name": "stdout"
        }
      ]
    },
    {
      "cell_type": "code",
      "metadata": {
        "id": "s6v7iRPdCxlo"
      },
      "source": [
        ""
      ],
      "execution_count": null,
      "outputs": []
    }
  ]
}