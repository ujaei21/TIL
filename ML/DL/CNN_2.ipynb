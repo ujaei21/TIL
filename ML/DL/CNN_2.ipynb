{
  "nbformat": 4,
  "nbformat_minor": 0,
  "metadata": {
    "colab": {
      "name": "CNN_2.ipynb",
      "provenance": []
    },
    "kernelspec": {
      "name": "python3",
      "display_name": "Python 3"
    },
    "language_info": {
      "name": "python"
    },
    "accelerator": "GPU"
  },
  "cells": [
    {
      "cell_type": "markdown",
      "metadata": {
        "id": "33zeIvNB2zYt"
      },
      "source": [
        "### 사진학습의 문제점\n",
        "1. 이미지마다 크기가 다르다.\n",
        " - 디렉토리에서 불러올 때 크기를 맞춘다. \n",
        "2. 레이블이 없다. \n",
        " - 레이블링이 되어있다. 폴더명. 사람이 미리 분류를 해놓았음\n",
        " \n"
      ]
    },
    {
      "cell_type": "code",
      "metadata": {
        "colab": {
          "base_uri": "https://localhost:8080/"
        },
        "id": "MGZiCn3S52aY",
        "outputId": "d9c376b7-5d30-45cd-c070-693369518627"
      },
      "source": [
        "# from google.colab import drive\n",
        "# drive.mount('/content/drive')"
      ],
      "execution_count": 1,
      "outputs": [
        {
          "output_type": "stream",
          "text": [
            "Drive already mounted at /content/drive; to attempt to forcibly remount, call drive.mount(\"/content/drive\", force_remount=True).\n"
          ],
          "name": "stdout"
        }
      ]
    },
    {
      "cell_type": "code",
      "metadata": {
        "id": "hPwL-xs7537M"
      },
      "source": [
        "import warnings\n",
        "warnings.filterwarnings('ignore')"
      ],
      "execution_count": 1,
      "outputs": []
    },
    {
      "cell_type": "code",
      "metadata": {
        "id": "lByfqcAL_1Qc"
      },
      "source": [
        "# !unzip /content/drive/My\\ Drive/Colab\\ Notebooks/datasets/dogs_and_cats_small.zip"
      ],
      "execution_count": null,
      "outputs": []
    },
    {
      "cell_type": "code",
      "metadata": {
        "id": "Focyszw_APD_"
      },
      "source": [
        "train_dir = 'train'\n",
        "valid_dir = 'validation'\n",
        "test_dir = 'test'"
      ],
      "execution_count": 2,
      "outputs": []
    },
    {
      "cell_type": "code",
      "metadata": {
        "colab": {
          "base_uri": "https://localhost:8080/"
        },
        "id": "hwRbrwAeAcFc",
        "outputId": "f1cd8a04-3d11-4fa0-b7a7-22c10b55526d"
      },
      "source": [
        "from tensorflow.keras.preprocessing.image import ImageDataGenerator\n",
        "\n",
        "train_datagen=ImageDataGenerator(rescale = 1./255)\n",
        "valid_datagen=ImageDataGenerator(rescale = 1./255)\n",
        "\n",
        "train_generator = train_datagen.flow_from_directory(train_dir,\n",
        "                                                    target_size=(150,150),\n",
        "                                                    batch_size=20,\n",
        "                                                    class_mode='binary')\n",
        "valid_generator = valid_datagen.flow_from_directory(valid_dir,\n",
        "                                                    target_size=(150,150),\n",
        "                                                    batch_size=20,\n",
        "                                                    class_mode='binary')"
      ],
      "execution_count": 3,
      "outputs": [
        {
          "output_type": "stream",
          "text": [
            "Found 2000 images belonging to 2 classes.\n",
            "Found 1000 images belonging to 2 classes.\n"
          ],
          "name": "stdout"
        }
      ]
    },
    {
      "cell_type": "code",
      "metadata": {
        "colab": {
          "base_uri": "https://localhost:8080/"
        },
        "id": "R0uXAHcgDhx0",
        "outputId": "05a29b52-a812-4b07-eaab-cd7cf5e1d34a"
      },
      "source": [
        "for data_batch, labels_batch in train_generator:\n",
        "    print('배치 데이터 크기 : ',data_batch.shape)\n",
        "    print('배피 레이블 크기 : ',labels_batch.shape)\n",
        "    break"
      ],
      "execution_count": 4,
      "outputs": [
        {
          "output_type": "stream",
          "text": [
            "배치 데이터 크기 :  (20, 150, 150, 3)\n",
            "배피 레이블 크기 :  (20,)\n"
          ],
          "name": "stdout"
        }
      ]
    },
    {
      "cell_type": "code",
      "metadata": {
        "id": "dfZnCKwrEwVd"
      },
      "source": [
        "from tensorflow.keras import layers\n",
        "from tensorflow.keras import models\n",
        "\n",
        "model = models.Sequential()\n",
        "model.add(layers.Conv2D(32,(3,3),activation='relu',input_shape=(150,150,3)))\n",
        "model.add(layers.MaxPool2D(2,2))\n",
        "model.add(layers.Conv2D(64,(3,3),activation='relu'))\n",
        "model.add(layers.MaxPool2D(2,2))\n",
        "model.add(layers.Conv2D(128,(3,3),activation='relu'))\n",
        "model.add(layers.MaxPool2D(2,2))\n",
        "model.add(layers.Conv2D(128,(3,3),activation='relu'))\n",
        "model.add(layers.MaxPool2D(2,2))\n",
        "\n",
        "model.add(layers.Flatten())\n",
        "model.add(layers.Dense(512,activation='relu'))\n",
        "model.add(layers.Dense(1,activation='sigmoid'))"
      ],
      "execution_count": 5,
      "outputs": []
    },
    {
      "cell_type": "code",
      "metadata": {
        "colab": {
          "base_uri": "https://localhost:8080/"
        },
        "id": "8BwwG0RSF9sg",
        "outputId": "9d5b32a3-4378-4722-b77f-d27e7e60ce6e"
      },
      "source": [
        "model.summary()"
      ],
      "execution_count": 6,
      "outputs": [
        {
          "output_type": "stream",
          "text": [
            "Model: \"sequential\"\n",
            "_________________________________________________________________\n",
            "Layer (type)                 Output Shape              Param #   \n",
            "=================================================================\n",
            "conv2d (Conv2D)              (None, 148, 148, 32)      896       \n",
            "_________________________________________________________________\n",
            "max_pooling2d (MaxPooling2D) (None, 74, 74, 32)        0         \n",
            "_________________________________________________________________\n",
            "conv2d_1 (Conv2D)            (None, 72, 72, 64)        18496     \n",
            "_________________________________________________________________\n",
            "max_pooling2d_1 (MaxPooling2 (None, 36, 36, 64)        0         \n",
            "_________________________________________________________________\n",
            "conv2d_2 (Conv2D)            (None, 34, 34, 128)       73856     \n",
            "_________________________________________________________________\n",
            "max_pooling2d_2 (MaxPooling2 (None, 17, 17, 128)       0         \n",
            "_________________________________________________________________\n",
            "conv2d_3 (Conv2D)            (None, 15, 15, 128)       147584    \n",
            "_________________________________________________________________\n",
            "max_pooling2d_3 (MaxPooling2 (None, 7, 7, 128)         0         \n",
            "_________________________________________________________________\n",
            "flatten (Flatten)            (None, 6272)              0         \n",
            "_________________________________________________________________\n",
            "dense (Dense)                (None, 512)               3211776   \n",
            "_________________________________________________________________\n",
            "dense_1 (Dense)              (None, 1)                 513       \n",
            "=================================================================\n",
            "Total params: 3,453,121\n",
            "Trainable params: 3,453,121\n",
            "Non-trainable params: 0\n",
            "_________________________________________________________________\n"
          ],
          "name": "stdout"
        }
      ]
    },
    {
      "cell_type": "code",
      "metadata": {
        "id": "oXqidPFeGBiM"
      },
      "source": [
        "model.compile(loss='binary_crossentropy',\n",
        "              optimizer='adam',\n",
        "              metrics=['accuracy'])"
      ],
      "execution_count": 7,
      "outputs": []
    },
    {
      "cell_type": "code",
      "metadata": {
        "colab": {
          "base_uri": "https://localhost:8080/"
        },
        "id": "x0DAuncIGTrE",
        "outputId": "7e1d61b3-8ec6-4af8-ce2e-44304d7087e1"
      },
      "source": [
        "%%time\n",
        "\n",
        "Hist_dandc = model.fit(train_generator,\n",
        "                       steps_per_epoch = 100,\n",
        "                       validation_data=valid_generator,\n",
        "                       epochs=60,\n",
        "                       validation_steps = 50)"
      ],
      "execution_count": 8,
      "outputs": [
        {
          "output_type": "stream",
          "text": [
            "Epoch 1/60\n",
            "100/100 [==============================] - 13s 107ms/step - loss: 0.6965 - accuracy: 0.5095 - val_loss: 0.6923 - val_accuracy: 0.5930\n",
            "Epoch 2/60\n",
            "100/100 [==============================] - 10s 101ms/step - loss: 0.6932 - accuracy: 0.4970 - val_loss: 0.6909 - val_accuracy: 0.5090\n",
            "Epoch 3/60\n",
            "100/100 [==============================] - 10s 101ms/step - loss: 0.6940 - accuracy: 0.5190 - val_loss: 0.6876 - val_accuracy: 0.5050\n",
            "Epoch 4/60\n",
            "100/100 [==============================] - 10s 104ms/step - loss: 0.6891 - accuracy: 0.5405 - val_loss: 0.6825 - val_accuracy: 0.5140\n",
            "Epoch 5/60\n",
            "100/100 [==============================] - 11s 107ms/step - loss: 0.6653 - accuracy: 0.6165 - val_loss: 0.6737 - val_accuracy: 0.6010\n",
            "Epoch 6/60\n",
            "100/100 [==============================] - 10s 105ms/step - loss: 0.6287 - accuracy: 0.6470 - val_loss: 0.6125 - val_accuracy: 0.6560\n",
            "Epoch 7/60\n",
            "100/100 [==============================] - 10s 104ms/step - loss: 0.5977 - accuracy: 0.6810 - val_loss: 0.6320 - val_accuracy: 0.6410\n",
            "Epoch 8/60\n",
            "100/100 [==============================] - 11s 109ms/step - loss: 0.5456 - accuracy: 0.7205 - val_loss: 0.6248 - val_accuracy: 0.6690\n",
            "Epoch 9/60\n",
            "100/100 [==============================] - 11s 109ms/step - loss: 0.5021 - accuracy: 0.7465 - val_loss: 0.6493 - val_accuracy: 0.6810\n",
            "Epoch 10/60\n",
            "100/100 [==============================] - 11s 105ms/step - loss: 0.3929 - accuracy: 0.8230 - val_loss: 0.6453 - val_accuracy: 0.6960\n",
            "Epoch 11/60\n",
            "100/100 [==============================] - 11s 106ms/step - loss: 0.2865 - accuracy: 0.8670 - val_loss: 0.8483 - val_accuracy: 0.6910\n",
            "Epoch 12/60\n",
            "100/100 [==============================] - 11s 107ms/step - loss: 0.1849 - accuracy: 0.9285 - val_loss: 0.9139 - val_accuracy: 0.7020\n",
            "Epoch 13/60\n",
            "100/100 [==============================] - 11s 108ms/step - loss: 0.1033 - accuracy: 0.9595 - val_loss: 1.3093 - val_accuracy: 0.6800\n",
            "Epoch 14/60\n",
            "100/100 [==============================] - 11s 108ms/step - loss: 0.0827 - accuracy: 0.9740 - val_loss: 1.4513 - val_accuracy: 0.6950\n",
            "Epoch 15/60\n",
            "100/100 [==============================] - 10s 104ms/step - loss: 0.0248 - accuracy: 0.9925 - val_loss: 1.8798 - val_accuracy: 0.7030\n",
            "Epoch 16/60\n",
            "100/100 [==============================] - 11s 106ms/step - loss: 0.0310 - accuracy: 0.9900 - val_loss: 1.7049 - val_accuracy: 0.6810\n",
            "Epoch 17/60\n",
            "100/100 [==============================] - 11s 110ms/step - loss: 0.0051 - accuracy: 0.9995 - val_loss: 1.9976 - val_accuracy: 0.7040\n",
            "Epoch 18/60\n",
            "100/100 [==============================] - 11s 105ms/step - loss: 7.8334e-04 - accuracy: 1.0000 - val_loss: 2.1562 - val_accuracy: 0.7030\n",
            "Epoch 19/60\n",
            "100/100 [==============================] - 11s 108ms/step - loss: 3.9362e-04 - accuracy: 1.0000 - val_loss: 2.2488 - val_accuracy: 0.7100\n",
            "Epoch 20/60\n",
            "100/100 [==============================] - 11s 109ms/step - loss: 2.5314e-04 - accuracy: 1.0000 - val_loss: 2.4889 - val_accuracy: 0.7130\n",
            "Epoch 21/60\n",
            "100/100 [==============================] - 10s 105ms/step - loss: 1.6380e-04 - accuracy: 1.0000 - val_loss: 2.5922 - val_accuracy: 0.7070\n",
            "Epoch 22/60\n",
            "100/100 [==============================] - 11s 107ms/step - loss: 1.0666e-04 - accuracy: 1.0000 - val_loss: 2.6374 - val_accuracy: 0.7110\n",
            "Epoch 23/60\n",
            "100/100 [==============================] - 11s 107ms/step - loss: 7.7386e-05 - accuracy: 1.0000 - val_loss: 2.6836 - val_accuracy: 0.7110\n",
            "Epoch 24/60\n",
            "100/100 [==============================] - 10s 105ms/step - loss: 6.0570e-05 - accuracy: 1.0000 - val_loss: 2.7315 - val_accuracy: 0.7120\n",
            "Epoch 25/60\n",
            "100/100 [==============================] - 11s 107ms/step - loss: 4.9123e-05 - accuracy: 1.0000 - val_loss: 2.8122 - val_accuracy: 0.7090\n",
            "Epoch 26/60\n",
            "100/100 [==============================] - 11s 109ms/step - loss: 3.9923e-05 - accuracy: 1.0000 - val_loss: 2.8346 - val_accuracy: 0.7080\n",
            "Epoch 27/60\n",
            "100/100 [==============================] - 11s 105ms/step - loss: 3.2607e-05 - accuracy: 1.0000 - val_loss: 2.8893 - val_accuracy: 0.7080\n",
            "Epoch 28/60\n",
            "100/100 [==============================] - 11s 107ms/step - loss: 2.8434e-05 - accuracy: 1.0000 - val_loss: 2.9218 - val_accuracy: 0.7120\n",
            "Epoch 29/60\n",
            "100/100 [==============================] - 10s 105ms/step - loss: 2.4365e-05 - accuracy: 1.0000 - val_loss: 2.9427 - val_accuracy: 0.7090\n",
            "Epoch 30/60\n",
            "100/100 [==============================] - 10s 103ms/step - loss: 2.1400e-05 - accuracy: 1.0000 - val_loss: 2.9554 - val_accuracy: 0.7130\n",
            "Epoch 31/60\n",
            "100/100 [==============================] - 10s 105ms/step - loss: 1.8641e-05 - accuracy: 1.0000 - val_loss: 2.9971 - val_accuracy: 0.7140\n",
            "Epoch 32/60\n",
            "100/100 [==============================] - 11s 109ms/step - loss: 1.6309e-05 - accuracy: 1.0000 - val_loss: 3.0189 - val_accuracy: 0.7130\n",
            "Epoch 33/60\n",
            "100/100 [==============================] - 11s 109ms/step - loss: 1.4700e-05 - accuracy: 1.0000 - val_loss: 3.0449 - val_accuracy: 0.7120\n",
            "Epoch 34/60\n",
            "100/100 [==============================] - 11s 108ms/step - loss: 1.2983e-05 - accuracy: 1.0000 - val_loss: 3.0647 - val_accuracy: 0.7140\n",
            "Epoch 35/60\n",
            "100/100 [==============================] - 11s 112ms/step - loss: 1.1500e-05 - accuracy: 1.0000 - val_loss: 3.0918 - val_accuracy: 0.7130\n",
            "Epoch 36/60\n",
            "100/100 [==============================] - 11s 112ms/step - loss: 1.0418e-05 - accuracy: 1.0000 - val_loss: 3.1018 - val_accuracy: 0.7140\n",
            "Epoch 37/60\n",
            "100/100 [==============================] - 11s 113ms/step - loss: 9.4480e-06 - accuracy: 1.0000 - val_loss: 3.1236 - val_accuracy: 0.7140\n",
            "Epoch 38/60\n",
            "100/100 [==============================] - 11s 113ms/step - loss: 8.5567e-06 - accuracy: 1.0000 - val_loss: 3.1579 - val_accuracy: 0.7140\n",
            "Epoch 39/60\n",
            "100/100 [==============================] - 11s 112ms/step - loss: 7.8201e-06 - accuracy: 1.0000 - val_loss: 3.1557 - val_accuracy: 0.7140\n",
            "Epoch 40/60\n",
            "100/100 [==============================] - 11s 108ms/step - loss: 6.9973e-06 - accuracy: 1.0000 - val_loss: 3.1807 - val_accuracy: 0.7150\n",
            "Epoch 41/60\n",
            "100/100 [==============================] - 11s 108ms/step - loss: 6.4022e-06 - accuracy: 1.0000 - val_loss: 3.1928 - val_accuracy: 0.7150\n",
            "Epoch 42/60\n",
            "100/100 [==============================] - 11s 108ms/step - loss: 5.7796e-06 - accuracy: 1.0000 - val_loss: 3.2077 - val_accuracy: 0.7180\n",
            "Epoch 43/60\n",
            "100/100 [==============================] - 11s 107ms/step - loss: 5.3016e-06 - accuracy: 1.0000 - val_loss: 3.2203 - val_accuracy: 0.7130\n",
            "Epoch 44/60\n",
            "100/100 [==============================] - 11s 110ms/step - loss: 4.9676e-06 - accuracy: 1.0000 - val_loss: 3.2339 - val_accuracy: 0.7150\n",
            "Epoch 45/60\n",
            "100/100 [==============================] - 11s 108ms/step - loss: 4.5014e-06 - accuracy: 1.0000 - val_loss: 3.2477 - val_accuracy: 0.7140\n",
            "Epoch 46/60\n",
            "100/100 [==============================] - 11s 106ms/step - loss: 4.1555e-06 - accuracy: 1.0000 - val_loss: 3.2548 - val_accuracy: 0.7150\n",
            "Epoch 47/60\n",
            "100/100 [==============================] - 11s 107ms/step - loss: 3.8221e-06 - accuracy: 1.0000 - val_loss: 3.2913 - val_accuracy: 0.7140\n",
            "Epoch 48/60\n",
            "100/100 [==============================] - 11s 106ms/step - loss: 3.5441e-06 - accuracy: 1.0000 - val_loss: 3.2851 - val_accuracy: 0.7140\n",
            "Epoch 49/60\n",
            "100/100 [==============================] - 11s 106ms/step - loss: 3.2512e-06 - accuracy: 1.0000 - val_loss: 3.3065 - val_accuracy: 0.7150\n",
            "Epoch 50/60\n",
            "100/100 [==============================] - 13s 130ms/step - loss: 2.9986e-06 - accuracy: 1.0000 - val_loss: 3.3285 - val_accuracy: 0.7100\n",
            "Epoch 51/60\n",
            "100/100 [==============================] - 11s 110ms/step - loss: 2.8047e-06 - accuracy: 1.0000 - val_loss: 3.3345 - val_accuracy: 0.7140\n",
            "Epoch 52/60\n",
            "100/100 [==============================] - 11s 106ms/step - loss: 2.6142e-06 - accuracy: 1.0000 - val_loss: 3.3430 - val_accuracy: 0.7150\n",
            "Epoch 53/60\n",
            "100/100 [==============================] - 11s 106ms/step - loss: 2.4260e-06 - accuracy: 1.0000 - val_loss: 3.3484 - val_accuracy: 0.7150\n",
            "Epoch 54/60\n",
            "100/100 [==============================] - 11s 106ms/step - loss: 2.2404e-06 - accuracy: 1.0000 - val_loss: 3.3636 - val_accuracy: 0.7140\n",
            "Epoch 55/60\n",
            "100/100 [==============================] - 11s 106ms/step - loss: 2.0604e-06 - accuracy: 1.0000 - val_loss: 3.3820 - val_accuracy: 0.7150\n",
            "Epoch 56/60\n",
            "100/100 [==============================] - 11s 109ms/step - loss: 1.9301e-06 - accuracy: 1.0000 - val_loss: 3.3948 - val_accuracy: 0.7130\n",
            "Epoch 57/60\n",
            "100/100 [==============================] - 11s 108ms/step - loss: 1.7871e-06 - accuracy: 1.0000 - val_loss: 3.4082 - val_accuracy: 0.7140\n",
            "Epoch 58/60\n",
            "100/100 [==============================] - 11s 106ms/step - loss: 1.6740e-06 - accuracy: 1.0000 - val_loss: 3.4091 - val_accuracy: 0.7140\n",
            "Epoch 59/60\n",
            "100/100 [==============================] - 11s 109ms/step - loss: 1.5619e-06 - accuracy: 1.0000 - val_loss: 3.4239 - val_accuracy: 0.7130\n",
            "Epoch 60/60\n",
            "100/100 [==============================] - 11s 108ms/step - loss: 1.4508e-06 - accuracy: 1.0000 - val_loss: 3.4303 - val_accuracy: 0.7140\n",
            "CPU times: user 13min 37s, sys: 29.1 s, total: 14min 6s\n",
            "Wall time: 11min 36s\n"
          ],
          "name": "stdout"
        }
      ]
    },
    {
      "cell_type": "code",
      "metadata": {
        "colab": {
          "base_uri": "https://localhost:8080/",
          "height": 404
        },
        "id": "dULVoBBCHDYg",
        "outputId": "c56a9a3b-812a-427d-8017-dcd78974a92a"
      },
      "source": [
        "import matplotlib.pyplot as plt\n",
        "\n",
        "epochs = range(1, len(Hist_dandc.history['loss']) + 1)\n",
        "\n",
        "plt.figure(figsize = (9, 6))\n",
        "plt.plot(epochs, Hist_dandc.history['loss'])\n",
        "plt.plot(epochs, Hist_dandc.history['val_loss'])\n",
        "plt.title('Training & Validation Loss')\n",
        "plt.xlabel('Epochs')\n",
        "plt.ylabel('Loss')\n",
        "plt.legend(['Training Loss', 'Validation Loss'])\n",
        "plt.grid()\n",
        "plt.show()\n"
      ],
      "execution_count": 14,
      "outputs": [
        {
          "output_type": "display_data",
          "data": {
            "image/png": "[encoded data removed]",
            "text/plain": [
              "<Figure size 648x432 with 1 Axes>"
            ]
          },
          "metadata": {
            "tags": [],
            "needs_background": "light"
          }
        }
      ]
    },
    {
      "cell_type": "code",
      "metadata": {
        "colab": {
          "base_uri": "https://localhost:8080/",
          "height": 404
        },
        "id": "fSes4dVEIooy",
        "outputId": "3c93b5b9-8a67-4a32-9d5a-820527a280dd"
      },
      "source": [
        "import matplotlib.pyplot as plt\n",
        "epochs = range(1, len(Hist_dandc.history['loss']) + 1)\n",
        "plt.figure(figsize = (9, 6))\n",
        "plt.plot(epochs, Hist_dandc.history['accuracy'])\n",
        "plt.plot(epochs, Hist_dandc.history['val_accuracy'])\n",
        "plt.title('Training & Validation Accuracy')\n",
        "plt.xlabel('Epochs')\n",
        "plt.ylabel('Accuracy')\n",
        "plt.legend(['Training Accuracy', 'Validation Accuracy'])\n",
        "plt.grid()\n",
        "plt.show()"
      ],
      "execution_count": 10,
      "outputs": [
        {
          "output_type": "display_data",
          "data": {
            "image/png": "[encoded data removed]",
            "text/plain": [
              "<Figure size 648x432 with 1 Axes>"
            ]
          },
          "metadata": {
            "tags": [],
            "needs_background": "light"
          }
        }
      ]
    },
    {
      "cell_type": "code",
      "metadata": {
        "colab": {
          "base_uri": "https://localhost:8080/"
        },
        "id": "3-qCrGFnIqjH",
        "outputId": "84423f2b-dfcd-4417-8f2f-d96f93bfc7b8"
      },
      "source": [
        "test_datagen=ImageDataGenerator(rescale = 1./255)\n",
        "\n",
        "test_generator = test_datagen.flow_from_directory(test_dir,\n",
        "                                                    target_size=(150,150),\n",
        "                                                    batch_size=20,\n",
        "                                                    class_mode='binary')"
      ],
      "execution_count": 11,
      "outputs": [
        {
          "output_type": "stream",
          "text": [
            "Found 1000 images belonging to 2 classes.\n"
          ],
          "name": "stdout"
        }
      ]
    },
    {
      "cell_type": "code",
      "metadata": {
        "colab": {
          "base_uri": "https://localhost:8080/"
        },
        "id": "EDqA7AEMJR8M",
        "outputId": "a01b194a-da25-4798-914d-28a670140c41"
      },
      "source": [
        "loss,accuracy = model.evaluate(test_generator,steps = 50)\n",
        "\n",
        "print('Loss = {:.5f}'.format(loss))\n",
        "print('Accuracy = {:.5f}'.format(accuracy))"
      ],
      "execution_count": 12,
      "outputs": [
        {
          "output_type": "stream",
          "text": [
            "50/50 [==============================] - 3s 64ms/step - loss: 3.4851 - accuracy: 0.7070\n",
            "Loss = 3.48513\n",
            "Accuracy = 0.70700\n"
          ],
          "name": "stdout"
        }
      ]
    },
    {
      "cell_type": "code",
      "metadata": {
        "id": "noYhpuhUJsDO"
      },
      "source": [
        "# from google.colab import drive\n",
        "\n",
        "# drive.mount('/content/drive')"
      ],
      "execution_count": null,
      "outputs": []
    },
    {
      "cell_type": "code",
      "metadata": {
        "id": "_SRczQLIJ4ws"
      },
      "source": [
        "model.save('/content/drive/My Drive/Colab Notebooks/models/002_dogs_and_cats_small.h5')"
      ],
      "execution_count": 15,
      "outputs": []
    },
    {
      "cell_type": "code",
      "metadata": {
        "id": "cZGPHSyWK_hG"
      },
      "source": [
        "from tensorflow.keras.models import load_model\n",
        "model_small = load_model('/content/drive/My Drive/Colab Notebooks/models/002_dogs_and_cats_small.h5')"
      ],
      "execution_count": 16,
      "outputs": []
    },
    {
      "cell_type": "code",
      "metadata": {
        "colab": {
          "base_uri": "https://localhost:8080/"
        },
        "id": "ZMBuPGs0Kwpu",
        "outputId": "2159f7b8-73fa-4cf7-891e-9d3a1da0546c"
      },
      "source": [
        "loss, accuracy = model_small.evaluate(test_generator,steps = 50)\n",
        "print('Loss = {:.5f}'.format(loss))\n",
        "print('Accuracy = {:.5f}'.format(accuracy))"
      ],
      "execution_count": 17,
      "outputs": [
        {
          "output_type": "stream",
          "text": [
            "50/50 [==============================] - 4s 67ms/step - loss: 3.4851 - accuracy: 0.7070\n",
            "Loss = 3.48513\n",
            "Accuracy = 0.70700\n"
          ],
          "name": "stdout"
        }
      ]
    }
  ]
}