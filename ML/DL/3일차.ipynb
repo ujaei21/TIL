{
  "nbformat": 4,
  "nbformat_minor": 0,
  "metadata": {
    "colab": {
      "name": "3일차.ipynb",
      "provenance": []
    },
    "kernelspec": {
      "name": "python3",
      "display_name": "Python 3"
    },
    "language_info": {
      "name": "python"
    }
  },
  "cells": [
    {
      "cell_type": "markdown",
      "metadata": {
        "id": "sHldHIihRiY6"
      },
      "source": [
        "# Softmax Activation\n",
        "추가적인 연산을 하는 함수를 활성화 함수라 한다.\n",
        "\n",
        "결과값의 합은 1이 된다. 각각의 합을 전체로 나누어준다. 즉 비율."
      ]
    },
    {
      "cell_type": "code",
      "metadata": {
        "id": "GXglOBYeRfXy"
      },
      "source": [
        "import warnings\n",
        "warnings.filterwarnings('ignore')"
      ],
      "execution_count": null,
      "outputs": []
    },
    {
      "cell_type": "code",
      "metadata": {
        "id": "LlG1QhR_rwrc"
      },
      "source": [
        ""
      ],
      "execution_count": null,
      "outputs": []
    },
    {
      "cell_type": "markdown",
      "metadata": {
        "id": "Fe7G6-pWe5dK"
      },
      "source": [
        "# Error Backpropagation\n",
        "1. 우리가 보는 신경망 모델은 함수들의 곱이다.\n",
        "2. 오차 역전파를 통하여 미분없이 미분값을 구할 수 있다.\n",
        "\n",
        "학습이란 파라미터의 업데이트를 말하고, 학습의 원리는 경사하강법을 사용한다. $w=w-\\gamma*dw$\n",
        "\n",
        "목적: 미분하는 과정없이 미분값을 획득하는 것\n",
        "\n",
        "오차를 역으로 흘려보낼 수 있다면 미분없이 미분값을 흭득할 수 있다. \n",
        "\n",
        "$x -> sig(w*x+b) -> sig(sig(w*x+b)) -> \\hat y$\n",
        "\n",
        "neural Network는 간단한 함수들의 중첩(합성함수)으로 구성\n",
        "\n",
        "미분의 연쇄법칙 \n",
        "> 합성 함수의 곱은 함성함수를 구성하는 개별함수 미분의 곱으로 처리\n",
        "\n",
        "수치미분과정없이 학습을 위한 경사값 계산 \n",
        "더 많은 히든 레이어와 노드 구성 가능\n",
        "\n",
        "오차역전파의 개념: \n",
        "\n",
        "오차값 X 출력값(1-출력값) X 입력값 = 미분값 의 형태 반복\n",
        "\n",
        "## Vanishing Gradient\n",
        "사라지는 미분값, 경사소멸현상 \n",
        "\n",
        "원인: 역전파로 인한 시그모이드의 중첩으로 점차 0으로 수렴하게 된다. \n",
        "\n",
        "해결책: 시그모이드 외에 다른 걸 쓴다. tanh, ReLU,Leaky LeRU\n",
        "\n",
        "Rectified(정류) Linear Unit\n",
        "\n",
        "Leaky ReLU: 0이 안나오게 살짝 기울인다.\n",
        "\n",
        "eLU\n"
      ]
    },
    {
      "cell_type": "code",
      "metadata": {
        "id": "jdwRAu2lrkOb"
      },
      "source": [
        ""
      ],
      "execution_count": null,
      "outputs": []
    },
    {
      "cell_type": "markdown",
      "metadata": {
        "id": "DKPuhhjjrvwx"
      },
      "source": [
        "# Optimization Method\n",
        "우리의 모델을 최적화 시키는 방법: 경사하강 \n",
        "- SDG\n",
        "- Momentum\n",
        "- Adaptive Gradient\n",
        "- Adam\n",
        "\n",
        "경사하강식을 어떻게 다르게 사용할 것인가?\n",
        "\n",
        "1. Stochastic Gradient Descent\n",
        "\n",
        " 전체 데이터 대신 일부의 데이터만을 사용하여 경사하강을 수행한다. 그러나 성능이 그렇게 좋지는 못하다. \n",
        "\n",
        "2. Momentum 관성\n",
        "\n",
        "  이동과정에 관성을 반영한다. 예전에 이동했던 방식에 가중치를 반영하여 움직인다. \n",
        "\n",
        "  $w_t = w - \\gamma*dw + \\mu*dw$ \n",
        "\n",
        "3. Adaptive Gradient\n",
        "\n",
        "- 학습률이 작으면 안정적이지만 학습속도는 느리다. \n",
        "- 학습횟수가 증가함에 따라 학습률을 조절하는 옵션추가\n",
        "- 학습률 감소식 추가\n",
        "$w = w -\\frac{\\gamma}{\\sqrt g}*\\frac{\\partial I}{\\partial \\theta} $\n",
        " \n",
        "4. Adam\n",
        "\n",
        "  Stochastic 과 Adaptive 와 Mometum 방식의 장점을 합친 알고리즘\n",
        "\n",
        "5. Root Mean Square Propagation(RMSProp)\n",
        " \n",
        " Adagrad의 단점인 Gradient 제곱합을 지수평균으로 대체\n"
      ]
    },
    {
      "cell_type": "code",
      "metadata": {
        "id": "nx3U6ldM4xK-"
      },
      "source": [
        ""
      ],
      "execution_count": null,
      "outputs": []
    },
    {
      "cell_type": "markdown",
      "metadata": {
        "id": "qicelpiK5GaG"
      },
      "source": [
        "# TensorFlow\n",
        "\n",
        "**array는 행렬로 생각해주세요**\n",
        "\n",
        "Tensor는 문자나 정수를 맞지 않는다. Only 실수 행렬\n",
        "\n",
        "데이터 흐름 프로그래밍을 위한 오픈소스 \n",
        "\n",
        "## Tensor\n",
        "\n",
        "Neural Network 학습의 기본 데이터 단위 \n",
        "- 임의의 차원 또는 축(Rank)을 가짐\n",
        "\n",
        "\n",
        "## Keras Modeling\n",
        "\n",
        "- define : 신경망 구조정의 \n",
        "- compile: 학습방법설정\n",
        "- fit: 학습 수행\n",
        "- evaluate: 평가\n",
        "- predict: 적용"
      ]
    },
    {
      "cell_type": "code",
      "metadata": {
        "id": "vUrB_cKEEEuq"
      },
      "source": [
        "import warnings\n",
        "warnings.filterwarnings('ignore')"
      ],
      "execution_count": 1,
      "outputs": []
    },
    {
      "cell_type": "code",
      "metadata": {
        "id": "_UJAsgJiL0TT"
      },
      "source": [
        "import seaborn as sns\n",
        "\n",
        "iris = sns.load_dataset('iris')"
      ],
      "execution_count": 2,
      "outputs": []
    },
    {
      "cell_type": "code",
      "metadata": {
        "colab": {
          "base_uri": "https://localhost:8080/"
        },
        "id": "maRo9IAzME8H",
        "outputId": "e14037f5-dacf-488a-84ea-032bcfdcdf0f"
      },
      "source": [
        "iris.info()"
      ],
      "execution_count": 3,
      "outputs": [
        {
          "output_type": "stream",
          "text": [
            "<class 'pandas.core.frame.DataFrame'>\n",
            "RangeIndex: 150 entries, 0 to 149\n",
            "Data columns (total 5 columns):\n",
            " #   Column        Non-Null Count  Dtype  \n",
            "---  ------        --------------  -----  \n",
            " 0   sepal_length  150 non-null    float64\n",
            " 1   sepal_width   150 non-null    float64\n",
            " 2   petal_length  150 non-null    float64\n",
            " 3   petal_width   150 non-null    float64\n",
            " 4   species       150 non-null    object \n",
            "dtypes: float64(4), object(1)\n",
            "memory usage: 6.0+ KB\n"
          ],
          "name": "stdout"
        }
      ]
    },
    {
      "cell_type": "markdown",
      "metadata": {
        "id": "fc-vPTekMnP_"
      },
      "source": [
        "전처리"
      ]
    },
    {
      "cell_type": "code",
      "metadata": {
        "colab": {
          "base_uri": "https://localhost:8080/"
        },
        "id": "th6zgKzjMkrq",
        "outputId": "abdf5d82-f151-4376-e5f2-204b5fe4f889"
      },
      "source": [
        "iris.species.value_counts()"
      ],
      "execution_count": 4,
      "outputs": [
        {
          "output_type": "execute_result",
          "data": {
            "text/plain": [
              "versicolor    50\n",
              "setosa        50\n",
              "virginica     50\n",
              "Name: species, dtype: int64"
            ]
          },
          "metadata": {
            "tags": []
          },
          "execution_count": 4
        }
      ]
    },
    {
      "cell_type": "code",
      "metadata": {
        "id": "1qwhn5-9Mskh"
      },
      "source": [
        "iris_ar = iris.values"
      ],
      "execution_count": 5,
      "outputs": []
    },
    {
      "cell_type": "code",
      "metadata": {
        "colab": {
          "base_uri": "https://localhost:8080/"
        },
        "id": "9ShyGa-wMx-R",
        "outputId": "764bea7a-bba7-494b-8dfd-0c7e7bf07d15"
      },
      "source": [
        "ar_X =iris_ar[:,0:4].astype(float)\n",
        "ar_y =iris_ar[:,4]\n",
        "\n",
        "ar_X.shape ,ar_y.shape"
      ],
      "execution_count": 6,
      "outputs": [
        {
          "output_type": "execute_result",
          "data": {
            "text/plain": [
              "((150, 4), (150,))"
            ]
          },
          "metadata": {
            "tags": []
          },
          "execution_count": 6
        }
      ]
    },
    {
      "cell_type": "code",
      "metadata": {
        "id": "eW-sthDgNIML"
      },
      "source": [
        "from sklearn.preprocessing import LabelEncoder\n",
        "\n",
        "encoder = LabelEncoder()\n",
        "ar_yLBE = encoder.fit_transform(ar_y)"
      ],
      "execution_count": 7,
      "outputs": []
    },
    {
      "cell_type": "code",
      "metadata": {
        "colab": {
          "base_uri": "https://localhost:8080/"
        },
        "id": "0nUOvFskNdbb",
        "outputId": "7f0be3a7-9d3c-4e51-8374-a4918cf6e635"
      },
      "source": [
        "ar_yLBE"
      ],
      "execution_count": 8,
      "outputs": [
        {
          "output_type": "execute_result",
          "data": {
            "text/plain": [
              "array([0, 0, 0, 0, 0, 0, 0, 0, 0, 0, 0, 0, 0, 0, 0, 0, 0, 0, 0, 0, 0, 0,\n",
              "       0, 0, 0, 0, 0, 0, 0, 0, 0, 0, 0, 0, 0, 0, 0, 0, 0, 0, 0, 0, 0, 0,\n",
              "       0, 0, 0, 0, 0, 0, 1, 1, 1, 1, 1, 1, 1, 1, 1, 1, 1, 1, 1, 1, 1, 1,\n",
              "       1, 1, 1, 1, 1, 1, 1, 1, 1, 1, 1, 1, 1, 1, 1, 1, 1, 1, 1, 1, 1, 1,\n",
              "       1, 1, 1, 1, 1, 1, 1, 1, 1, 1, 1, 1, 2, 2, 2, 2, 2, 2, 2, 2, 2, 2,\n",
              "       2, 2, 2, 2, 2, 2, 2, 2, 2, 2, 2, 2, 2, 2, 2, 2, 2, 2, 2, 2, 2, 2,\n",
              "       2, 2, 2, 2, 2, 2, 2, 2, 2, 2, 2, 2, 2, 2, 2, 2, 2, 2])"
            ]
          },
          "metadata": {
            "tags": []
          },
          "execution_count": 8
        }
      ]
    },
    {
      "cell_type": "code",
      "metadata": {
        "colab": {
          "base_uri": "https://localhost:8080/"
        },
        "id": "jCAssHdHNfOo",
        "outputId": "df5297e9-db58-4bef-8d72-7efbf3f41d4a"
      },
      "source": [
        "from tensorflow.keras.utils import to_categorical\n",
        "\n",
        "ar_yOHE = to_categorical(ar_yLBE)\n",
        "\n",
        "ar_yOHE"
      ],
      "execution_count": 9,
      "outputs": [
        {
          "output_type": "execute_result",
          "data": {
            "text/plain": [
              "array([[1., 0., 0.],\n",
              "       [1., 0., 0.],\n",
              "       [1., 0., 0.],\n",
              "       [1., 0., 0.],\n",
              "       [1., 0., 0.],\n",
              "       [1., 0., 0.],\n",
              "       [1., 0., 0.],\n",
              "       [1., 0., 0.],\n",
              "       [1., 0., 0.],\n",
              "       [1., 0., 0.],\n",
              "       [1., 0., 0.],\n",
              "       [1., 0., 0.],\n",
              "       [1., 0., 0.],\n",
              "       [1., 0., 0.],\n",
              "       [1., 0., 0.],\n",
              "       [1., 0., 0.],\n",
              "       [1., 0., 0.],\n",
              "       [1., 0., 0.],\n",
              "       [1., 0., 0.],\n",
              "       [1., 0., 0.],\n",
              "       [1., 0., 0.],\n",
              "       [1., 0., 0.],\n",
              "       [1., 0., 0.],\n",
              "       [1., 0., 0.],\n",
              "       [1., 0., 0.],\n",
              "       [1., 0., 0.],\n",
              "       [1., 0., 0.],\n",
              "       [1., 0., 0.],\n",
              "       [1., 0., 0.],\n",
              "       [1., 0., 0.],\n",
              "       [1., 0., 0.],\n",
              "       [1., 0., 0.],\n",
              "       [1., 0., 0.],\n",
              "       [1., 0., 0.],\n",
              "       [1., 0., 0.],\n",
              "       [1., 0., 0.],\n",
              "       [1., 0., 0.],\n",
              "       [1., 0., 0.],\n",
              "       [1., 0., 0.],\n",
              "       [1., 0., 0.],\n",
              "       [1., 0., 0.],\n",
              "       [1., 0., 0.],\n",
              "       [1., 0., 0.],\n",
              "       [1., 0., 0.],\n",
              "       [1., 0., 0.],\n",
              "       [1., 0., 0.],\n",
              "       [1., 0., 0.],\n",
              "       [1., 0., 0.],\n",
              "       [1., 0., 0.],\n",
              "       [1., 0., 0.],\n",
              "       [0., 1., 0.],\n",
              "       [0., 1., 0.],\n",
              "       [0., 1., 0.],\n",
              "       [0., 1., 0.],\n",
              "       [0., 1., 0.],\n",
              "       [0., 1., 0.],\n",
              "       [0., 1., 0.],\n",
              "       [0., 1., 0.],\n",
              "       [0., 1., 0.],\n",
              "       [0., 1., 0.],\n",
              "       [0., 1., 0.],\n",
              "       [0., 1., 0.],\n",
              "       [0., 1., 0.],\n",
              "       [0., 1., 0.],\n",
              "       [0., 1., 0.],\n",
              "       [0., 1., 0.],\n",
              "       [0., 1., 0.],\n",
              "       [0., 1., 0.],\n",
              "       [0., 1., 0.],\n",
              "       [0., 1., 0.],\n",
              "       [0., 1., 0.],\n",
              "       [0., 1., 0.],\n",
              "       [0., 1., 0.],\n",
              "       [0., 1., 0.],\n",
              "       [0., 1., 0.],\n",
              "       [0., 1., 0.],\n",
              "       [0., 1., 0.],\n",
              "       [0., 1., 0.],\n",
              "       [0., 1., 0.],\n",
              "       [0., 1., 0.],\n",
              "       [0., 1., 0.],\n",
              "       [0., 1., 0.],\n",
              "       [0., 1., 0.],\n",
              "       [0., 1., 0.],\n",
              "       [0., 1., 0.],\n",
              "       [0., 1., 0.],\n",
              "       [0., 1., 0.],\n",
              "       [0., 1., 0.],\n",
              "       [0., 1., 0.],\n",
              "       [0., 1., 0.],\n",
              "       [0., 1., 0.],\n",
              "       [0., 1., 0.],\n",
              "       [0., 1., 0.],\n",
              "       [0., 1., 0.],\n",
              "       [0., 1., 0.],\n",
              "       [0., 1., 0.],\n",
              "       [0., 1., 0.],\n",
              "       [0., 1., 0.],\n",
              "       [0., 1., 0.],\n",
              "       [0., 1., 0.],\n",
              "       [0., 0., 1.],\n",
              "       [0., 0., 1.],\n",
              "       [0., 0., 1.],\n",
              "       [0., 0., 1.],\n",
              "       [0., 0., 1.],\n",
              "       [0., 0., 1.],\n",
              "       [0., 0., 1.],\n",
              "       [0., 0., 1.],\n",
              "       [0., 0., 1.],\n",
              "       [0., 0., 1.],\n",
              "       [0., 0., 1.],\n",
              "       [0., 0., 1.],\n",
              "       [0., 0., 1.],\n",
              "       [0., 0., 1.],\n",
              "       [0., 0., 1.],\n",
              "       [0., 0., 1.],\n",
              "       [0., 0., 1.],\n",
              "       [0., 0., 1.],\n",
              "       [0., 0., 1.],\n",
              "       [0., 0., 1.],\n",
              "       [0., 0., 1.],\n",
              "       [0., 0., 1.],\n",
              "       [0., 0., 1.],\n",
              "       [0., 0., 1.],\n",
              "       [0., 0., 1.],\n",
              "       [0., 0., 1.],\n",
              "       [0., 0., 1.],\n",
              "       [0., 0., 1.],\n",
              "       [0., 0., 1.],\n",
              "       [0., 0., 1.],\n",
              "       [0., 0., 1.],\n",
              "       [0., 0., 1.],\n",
              "       [0., 0., 1.],\n",
              "       [0., 0., 1.],\n",
              "       [0., 0., 1.],\n",
              "       [0., 0., 1.],\n",
              "       [0., 0., 1.],\n",
              "       [0., 0., 1.],\n",
              "       [0., 0., 1.],\n",
              "       [0., 0., 1.],\n",
              "       [0., 0., 1.],\n",
              "       [0., 0., 1.],\n",
              "       [0., 0., 1.],\n",
              "       [0., 0., 1.],\n",
              "       [0., 0., 1.],\n",
              "       [0., 0., 1.],\n",
              "       [0., 0., 1.],\n",
              "       [0., 0., 1.],\n",
              "       [0., 0., 1.],\n",
              "       [0., 0., 1.]], dtype=float32)"
            ]
          },
          "metadata": {
            "tags": []
          },
          "execution_count": 9
        }
      ]
    },
    {
      "cell_type": "code",
      "metadata": {
        "colab": {
          "base_uri": "https://localhost:8080/",
          "height": 35
        },
        "id": "F0pCxFkQN2CL",
        "outputId": "eacc7556-e14b-4418-bb39-6b85f89343c6"
      },
      "source": [
        "import tensorflow\n",
        "tensorflow.__version__"
      ],
      "execution_count": 10,
      "outputs": [
        {
          "output_type": "execute_result",
          "data": {
            "application/vnd.google.colaboratory.intrinsic+json": {
              "type": "string"
            },
            "text/plain": [
              "'2.5.0'"
            ]
          },
          "metadata": {
            "tags": []
          },
          "execution_count": 10
        }
      ]
    },
    {
      "cell_type": "code",
      "metadata": {
        "colab": {
          "base_uri": "https://localhost:8080/",
          "height": 35
        },
        "id": "lXA0eBCYOBa2",
        "outputId": "ddb06876-604f-467d-d480-9f911108d23c"
      },
      "source": [
        "tensorflow.keras.__version__"
      ],
      "execution_count": 11,
      "outputs": [
        {
          "output_type": "execute_result",
          "data": {
            "application/vnd.google.colaboratory.intrinsic+json": {
              "type": "string"
            },
            "text/plain": [
              "'2.5.0'"
            ]
          },
          "metadata": {
            "tags": []
          },
          "execution_count": 11
        }
      ]
    },
    {
      "cell_type": "code",
      "metadata": {
        "id": "HkTV2G8XOIRz"
      },
      "source": [
        "from sklearn.model_selection import train_test_split\n",
        "X_train,X_test,y_train,y_test = train_test_split(ar_X,ar_yOHE,test_size=0.3,random_state = 2045)"
      ],
      "execution_count": 12,
      "outputs": []
    },
    {
      "cell_type": "markdown",
      "metadata": {
        "id": "K26lhhWwOyx7"
      },
      "source": [
        "keras modeling"
      ]
    },
    {
      "cell_type": "code",
      "metadata": {
        "id": "2JJQRDXwOxq6"
      },
      "source": [
        "from tensorflow.keras import models\n",
        "from tensorflow.keras import layers"
      ],
      "execution_count": 13,
      "outputs": []
    },
    {
      "cell_type": "markdown",
      "metadata": {
        "id": "tMn0jRV2PJX0"
      },
      "source": [
        "model define"
      ]
    },
    {
      "cell_type": "code",
      "metadata": {
        "id": "wo2q5sA0PHqx"
      },
      "source": [
        "model_iris=models.Sequential()\n",
        "\n",
        "model_iris.add(layers.Dense(16,activation='relu',input_shape=(4,)))\n",
        "model_iris.add(layers.Dense(8,activation='relu'))\n",
        "model_iris.add(layers.Dense(3,activation='softmax'))"
      ],
      "execution_count": 14,
      "outputs": []
    },
    {
      "cell_type": "code",
      "metadata": {
        "colab": {
          "base_uri": "https://localhost:8080/"
        },
        "id": "LSas0RrVP1g5",
        "outputId": "ce07d8b6-cc4e-436e-d069-f2a220755caf"
      },
      "source": [
        "model_iris.summary()"
      ],
      "execution_count": 15,
      "outputs": [
        {
          "output_type": "stream",
          "text": [
            "Model: \"sequential\"\n",
            "_________________________________________________________________\n",
            "Layer (type)                 Output Shape              Param #   \n",
            "=================================================================\n",
            "dense (Dense)                (None, 16)                80        \n",
            "_________________________________________________________________\n",
            "dense_1 (Dense)              (None, 8)                 136       \n",
            "_________________________________________________________________\n",
            "dense_2 (Dense)              (None, 3)                 27        \n",
            "=================================================================\n",
            "Total params: 243\n",
            "Trainable params: 243\n",
            "Non-trainable params: 0\n",
            "_________________________________________________________________\n"
          ],
          "name": "stdout"
        }
      ]
    },
    {
      "cell_type": "markdown",
      "metadata": {
        "id": "h-RCrKcLP7tj"
      },
      "source": [
        "model compile"
      ]
    },
    {
      "cell_type": "code",
      "metadata": {
        "id": "sftViJTNP5SV"
      },
      "source": [
        "model_iris.compile(loss='categorical_crossentropy',optimizer='adam',metrics=['accuracy'])"
      ],
      "execution_count": 16,
      "outputs": []
    },
    {
      "cell_type": "code",
      "metadata": {
        "colab": {
          "base_uri": "https://localhost:8080/"
        },
        "id": "SMRSoKdjQSvC",
        "outputId": "e107e931-d047-45e1-dfdf-05208d60cc31"
      },
      "source": [
        "History_iris = model_iris.fit(X_train,y_train,epochs=500,batch_size=7,validation_data=(X_test,y_test))"
      ],
      "execution_count": 17,
      "outputs": [
        {
          "output_type": "stream",
          "text": [
            "Epoch 1/500\n",
            "15/15 [==============================] - 1s 17ms/step - loss: 1.1163 - accuracy: 0.3143 - val_loss: 1.1278 - val_accuracy: 0.3333\n",
            "Epoch 2/500\n",
            "15/15 [==============================] - 0s 3ms/step - loss: 1.0810 - accuracy: 0.3429 - val_loss: 1.1031 - val_accuracy: 0.3111\n",
            "Epoch 3/500\n",
            "15/15 [==============================] - 0s 3ms/step - loss: 1.0635 - accuracy: 0.3429 - val_loss: 1.0817 - val_accuracy: 0.3111\n",
            "Epoch 4/500\n",
            "15/15 [==============================] - 0s 4ms/step - loss: 1.0487 - accuracy: 0.3429 - val_loss: 1.0649 - val_accuracy: 0.3111\n",
            "Epoch 5/500\n",
            "15/15 [==============================] - 0s 3ms/step - loss: 1.0349 - accuracy: 0.3429 - val_loss: 1.0502 - val_accuracy: 0.3111\n",
            "Epoch 6/500\n",
            "15/15 [==============================] - 0s 3ms/step - loss: 1.0208 - accuracy: 0.3429 - val_loss: 1.0365 - val_accuracy: 0.3111\n",
            "Epoch 7/500\n",
            "15/15 [==============================] - 0s 3ms/step - loss: 1.0075 - accuracy: 0.3429 - val_loss: 1.0216 - val_accuracy: 0.3111\n",
            "Epoch 8/500\n",
            "15/15 [==============================] - 0s 4ms/step - loss: 0.9937 - accuracy: 0.3429 - val_loss: 1.0063 - val_accuracy: 0.3111\n",
            "Epoch 9/500\n",
            "15/15 [==============================] - 0s 3ms/step - loss: 0.9797 - accuracy: 0.3429 - val_loss: 0.9901 - val_accuracy: 0.3111\n",
            "Epoch 10/500\n",
            "15/15 [==============================] - 0s 3ms/step - loss: 0.9617 - accuracy: 0.3524 - val_loss: 0.9735 - val_accuracy: 0.3778\n",
            "Epoch 11/500\n",
            "15/15 [==============================] - 0s 4ms/step - loss: 0.9448 - accuracy: 0.4476 - val_loss: 0.9547 - val_accuracy: 0.6000\n",
            "Epoch 12/500\n",
            "15/15 [==============================] - 0s 3ms/step - loss: 0.9192 - accuracy: 0.6286 - val_loss: 0.9197 - val_accuracy: 0.6889\n",
            "Epoch 13/500\n",
            "15/15 [==============================] - 0s 4ms/step - loss: 0.8912 - accuracy: 0.6381 - val_loss: 0.8833 - val_accuracy: 0.6889\n",
            "Epoch 14/500\n",
            "15/15 [==============================] - 0s 4ms/step - loss: 0.8590 - accuracy: 0.6476 - val_loss: 0.8495 - val_accuracy: 0.6889\n",
            "Epoch 15/500\n",
            "15/15 [==============================] - 0s 3ms/step - loss: 0.8271 - accuracy: 0.6571 - val_loss: 0.8197 - val_accuracy: 0.6889\n",
            "Epoch 16/500\n",
            "15/15 [==============================] - 0s 4ms/step - loss: 0.7971 - accuracy: 0.6571 - val_loss: 0.7864 - val_accuracy: 0.6889\n",
            "Epoch 17/500\n",
            "15/15 [==============================] - 0s 3ms/step - loss: 0.7673 - accuracy: 0.6571 - val_loss: 0.7561 - val_accuracy: 0.6889\n",
            "Epoch 18/500\n",
            "15/15 [==============================] - 0s 3ms/step - loss: 0.7389 - accuracy: 0.6571 - val_loss: 0.7232 - val_accuracy: 0.6889\n",
            "Epoch 19/500\n",
            "15/15 [==============================] - 0s 3ms/step - loss: 0.7094 - accuracy: 0.6571 - val_loss: 0.6935 - val_accuracy: 0.6889\n",
            "Epoch 20/500\n",
            "15/15 [==============================] - 0s 3ms/step - loss: 0.6816 - accuracy: 0.6571 - val_loss: 0.6657 - val_accuracy: 0.6889\n",
            "Epoch 21/500\n",
            "15/15 [==============================] - 0s 3ms/step - loss: 0.6569 - accuracy: 0.6571 - val_loss: 0.6390 - val_accuracy: 0.6889\n",
            "Epoch 22/500\n",
            "15/15 [==============================] - 0s 3ms/step - loss: 0.6312 - accuracy: 0.6667 - val_loss: 0.6089 - val_accuracy: 0.6889\n",
            "Epoch 23/500\n",
            "15/15 [==============================] - 0s 3ms/step - loss: 0.6071 - accuracy: 0.6952 - val_loss: 0.5863 - val_accuracy: 0.7556\n",
            "Epoch 24/500\n",
            "15/15 [==============================] - 0s 3ms/step - loss: 0.5851 - accuracy: 0.7714 - val_loss: 0.5633 - val_accuracy: 0.7778\n",
            "Epoch 25/500\n",
            "15/15 [==============================] - 0s 3ms/step - loss: 0.5646 - accuracy: 0.7619 - val_loss: 0.5418 - val_accuracy: 0.7556\n",
            "Epoch 26/500\n",
            "15/15 [==============================] - 0s 3ms/step - loss: 0.5457 - accuracy: 0.7905 - val_loss: 0.5226 - val_accuracy: 0.7778\n",
            "Epoch 27/500\n",
            "15/15 [==============================] - 0s 3ms/step - loss: 0.5299 - accuracy: 0.8286 - val_loss: 0.5066 - val_accuracy: 0.8444\n",
            "Epoch 28/500\n",
            "15/15 [==============================] - 0s 4ms/step - loss: 0.5127 - accuracy: 0.8571 - val_loss: 0.4900 - val_accuracy: 0.8000\n",
            "Epoch 29/500\n",
            "15/15 [==============================] - 0s 3ms/step - loss: 0.5037 - accuracy: 0.7429 - val_loss: 0.4768 - val_accuracy: 0.7778\n",
            "Epoch 30/500\n",
            "15/15 [==============================] - 0s 3ms/step - loss: 0.4880 - accuracy: 0.8667 - val_loss: 0.4626 - val_accuracy: 0.8444\n",
            "Epoch 31/500\n",
            "15/15 [==============================] - 0s 3ms/step - loss: 0.4748 - accuracy: 0.8762 - val_loss: 0.4521 - val_accuracy: 0.8444\n",
            "Epoch 32/500\n",
            "15/15 [==============================] - 0s 3ms/step - loss: 0.4640 - accuracy: 0.9048 - val_loss: 0.4405 - val_accuracy: 0.9333\n",
            "Epoch 33/500\n",
            "15/15 [==============================] - 0s 4ms/step - loss: 0.4530 - accuracy: 0.9048 - val_loss: 0.4297 - val_accuracy: 0.8889\n",
            "Epoch 34/500\n",
            "15/15 [==============================] - 0s 3ms/step - loss: 0.4447 - accuracy: 0.9048 - val_loss: 0.4204 - val_accuracy: 0.8889\n",
            "Epoch 35/500\n",
            "15/15 [==============================] - 0s 3ms/step - loss: 0.4355 - accuracy: 0.9048 - val_loss: 0.4112 - val_accuracy: 0.8889\n",
            "Epoch 36/500\n",
            "15/15 [==============================] - 0s 3ms/step - loss: 0.4252 - accuracy: 0.9143 - val_loss: 0.4022 - val_accuracy: 0.9333\n",
            "Epoch 37/500\n",
            "15/15 [==============================] - 0s 3ms/step - loss: 0.4192 - accuracy: 0.9429 - val_loss: 0.3945 - val_accuracy: 0.9556\n",
            "Epoch 38/500\n",
            "15/15 [==============================] - 0s 4ms/step - loss: 0.4105 - accuracy: 0.9143 - val_loss: 0.3872 - val_accuracy: 0.9111\n",
            "Epoch 39/500\n",
            "15/15 [==============================] - 0s 3ms/step - loss: 0.4028 - accuracy: 0.9238 - val_loss: 0.3792 - val_accuracy: 0.9333\n",
            "Epoch 40/500\n",
            "15/15 [==============================] - 0s 3ms/step - loss: 0.3962 - accuracy: 0.9238 - val_loss: 0.3719 - val_accuracy: 0.9333\n",
            "Epoch 41/500\n",
            "15/15 [==============================] - 0s 3ms/step - loss: 0.3873 - accuracy: 0.9333 - val_loss: 0.3649 - val_accuracy: 0.9333\n",
            "Epoch 42/500\n",
            "15/15 [==============================] - 0s 4ms/step - loss: 0.3810 - accuracy: 0.9238 - val_loss: 0.3582 - val_accuracy: 0.9778\n",
            "Epoch 43/500\n",
            "15/15 [==============================] - 0s 3ms/step - loss: 0.3754 - accuracy: 0.9333 - val_loss: 0.3518 - val_accuracy: 0.9778\n",
            "Epoch 44/500\n",
            "15/15 [==============================] - 0s 3ms/step - loss: 0.3680 - accuracy: 0.9429 - val_loss: 0.3453 - val_accuracy: 0.9778\n",
            "Epoch 45/500\n",
            "15/15 [==============================] - 0s 3ms/step - loss: 0.3643 - accuracy: 0.9333 - val_loss: 0.3390 - val_accuracy: 1.0000\n",
            "Epoch 46/500\n",
            "15/15 [==============================] - 0s 3ms/step - loss: 0.3547 - accuracy: 0.9429 - val_loss: 0.3331 - val_accuracy: 0.9333\n",
            "Epoch 47/500\n",
            "15/15 [==============================] - 0s 3ms/step - loss: 0.3495 - accuracy: 0.9333 - val_loss: 0.3267 - val_accuracy: 0.9556\n",
            "Epoch 48/500\n",
            "15/15 [==============================] - 0s 4ms/step - loss: 0.3433 - accuracy: 0.9429 - val_loss: 0.3206 - val_accuracy: 1.0000\n",
            "Epoch 49/500\n",
            "15/15 [==============================] - 0s 3ms/step - loss: 0.3376 - accuracy: 0.9524 - val_loss: 0.3147 - val_accuracy: 1.0000\n",
            "Epoch 50/500\n",
            "15/15 [==============================] - 0s 3ms/step - loss: 0.3320 - accuracy: 0.9619 - val_loss: 0.3088 - val_accuracy: 1.0000\n",
            "Epoch 51/500\n",
            "15/15 [==============================] - 0s 3ms/step - loss: 0.3266 - accuracy: 0.9619 - val_loss: 0.3031 - val_accuracy: 1.0000\n",
            "Epoch 52/500\n",
            "15/15 [==============================] - 0s 4ms/step - loss: 0.3205 - accuracy: 0.9714 - val_loss: 0.2972 - val_accuracy: 1.0000\n",
            "Epoch 53/500\n",
            "15/15 [==============================] - 0s 3ms/step - loss: 0.3160 - accuracy: 0.9429 - val_loss: 0.2915 - val_accuracy: 1.0000\n",
            "Epoch 54/500\n",
            "15/15 [==============================] - 0s 3ms/step - loss: 0.3137 - accuracy: 0.9429 - val_loss: 0.2860 - val_accuracy: 1.0000\n",
            "Epoch 55/500\n",
            "15/15 [==============================] - 0s 3ms/step - loss: 0.3080 - accuracy: 0.9333 - val_loss: 0.2826 - val_accuracy: 0.9333\n",
            "Epoch 56/500\n",
            "15/15 [==============================] - 0s 3ms/step - loss: 0.2993 - accuracy: 0.9619 - val_loss: 0.2752 - val_accuracy: 1.0000\n",
            "Epoch 57/500\n",
            "15/15 [==============================] - 0s 3ms/step - loss: 0.2999 - accuracy: 0.9238 - val_loss: 0.2721 - val_accuracy: 1.0000\n",
            "Epoch 58/500\n",
            "15/15 [==============================] - 0s 4ms/step - loss: 0.2919 - accuracy: 0.9714 - val_loss: 0.2651 - val_accuracy: 1.0000\n",
            "Epoch 59/500\n",
            "15/15 [==============================] - 0s 3ms/step - loss: 0.2849 - accuracy: 0.9714 - val_loss: 0.2599 - val_accuracy: 1.0000\n",
            "Epoch 60/500\n",
            "15/15 [==============================] - 0s 3ms/step - loss: 0.2832 - accuracy: 0.9524 - val_loss: 0.2552 - val_accuracy: 1.0000\n",
            "Epoch 61/500\n",
            "15/15 [==============================] - 0s 4ms/step - loss: 0.2758 - accuracy: 0.9714 - val_loss: 0.2500 - val_accuracy: 1.0000\n",
            "Epoch 62/500\n",
            "15/15 [==============================] - 0s 3ms/step - loss: 0.2710 - accuracy: 0.9524 - val_loss: 0.2460 - val_accuracy: 1.0000\n",
            "Epoch 63/500\n",
            "15/15 [==============================] - 0s 4ms/step - loss: 0.2681 - accuracy: 0.9619 - val_loss: 0.2402 - val_accuracy: 1.0000\n",
            "Epoch 64/500\n",
            "15/15 [==============================] - 0s 3ms/step - loss: 0.2680 - accuracy: 0.9524 - val_loss: 0.2358 - val_accuracy: 1.0000\n",
            "Epoch 65/500\n",
            "15/15 [==============================] - 0s 3ms/step - loss: 0.2620 - accuracy: 0.9238 - val_loss: 0.2332 - val_accuracy: 1.0000\n",
            "Epoch 66/500\n",
            "15/15 [==============================] - 0s 4ms/step - loss: 0.2574 - accuracy: 0.9429 - val_loss: 0.2265 - val_accuracy: 1.0000\n",
            "Epoch 67/500\n",
            "15/15 [==============================] - 0s 3ms/step - loss: 0.2513 - accuracy: 0.9714 - val_loss: 0.2217 - val_accuracy: 1.0000\n",
            "Epoch 68/500\n",
            "15/15 [==============================] - 0s 3ms/step - loss: 0.2456 - accuracy: 0.9714 - val_loss: 0.2172 - val_accuracy: 1.0000\n",
            "Epoch 69/500\n",
            "15/15 [==============================] - 0s 4ms/step - loss: 0.2428 - accuracy: 0.9524 - val_loss: 0.2131 - val_accuracy: 1.0000\n",
            "Epoch 70/500\n",
            "15/15 [==============================] - 0s 3ms/step - loss: 0.2373 - accuracy: 0.9619 - val_loss: 0.2088 - val_accuracy: 1.0000\n",
            "Epoch 71/500\n",
            "15/15 [==============================] - 0s 3ms/step - loss: 0.2350 - accuracy: 0.9619 - val_loss: 0.2044 - val_accuracy: 1.0000\n",
            "Epoch 72/500\n",
            "15/15 [==============================] - 0s 3ms/step - loss: 0.2342 - accuracy: 0.9714 - val_loss: 0.2016 - val_accuracy: 1.0000\n",
            "Epoch 73/500\n",
            "15/15 [==============================] - 0s 3ms/step - loss: 0.2332 - accuracy: 0.9333 - val_loss: 0.1981 - val_accuracy: 1.0000\n",
            "Epoch 74/500\n",
            "15/15 [==============================] - 0s 3ms/step - loss: 0.2249 - accuracy: 0.9619 - val_loss: 0.1934 - val_accuracy: 1.0000\n",
            "Epoch 75/500\n",
            "15/15 [==============================] - 0s 3ms/step - loss: 0.2201 - accuracy: 0.9714 - val_loss: 0.1885 - val_accuracy: 1.0000\n",
            "Epoch 76/500\n",
            "15/15 [==============================] - 0s 3ms/step - loss: 0.2199 - accuracy: 0.9333 - val_loss: 0.1872 - val_accuracy: 1.0000\n",
            "Epoch 77/500\n",
            "15/15 [==============================] - 0s 3ms/step - loss: 0.2140 - accuracy: 0.9429 - val_loss: 0.1814 - val_accuracy: 1.0000\n",
            "Epoch 78/500\n",
            "15/15 [==============================] - 0s 4ms/step - loss: 0.2163 - accuracy: 0.9524 - val_loss: 0.1778 - val_accuracy: 1.0000\n",
            "Epoch 79/500\n",
            "15/15 [==============================] - 0s 4ms/step - loss: 0.2076 - accuracy: 0.9619 - val_loss: 0.1751 - val_accuracy: 1.0000\n",
            "Epoch 80/500\n",
            "15/15 [==============================] - 0s 3ms/step - loss: 0.2076 - accuracy: 0.9714 - val_loss: 0.1708 - val_accuracy: 1.0000\n",
            "Epoch 81/500\n",
            "15/15 [==============================] - 0s 4ms/step - loss: 0.2020 - accuracy: 0.9524 - val_loss: 0.1679 - val_accuracy: 1.0000\n",
            "Epoch 82/500\n",
            "15/15 [==============================] - 0s 3ms/step - loss: 0.1988 - accuracy: 0.9619 - val_loss: 0.1642 - val_accuracy: 1.0000\n",
            "Epoch 83/500\n",
            "15/15 [==============================] - 0s 4ms/step - loss: 0.1966 - accuracy: 0.9714 - val_loss: 0.1611 - val_accuracy: 1.0000\n",
            "Epoch 84/500\n",
            "15/15 [==============================] - 0s 3ms/step - loss: 0.1995 - accuracy: 0.9429 - val_loss: 0.1580 - val_accuracy: 1.0000\n",
            "Epoch 85/500\n",
            "15/15 [==============================] - 0s 3ms/step - loss: 0.1900 - accuracy: 0.9714 - val_loss: 0.1553 - val_accuracy: 1.0000\n",
            "Epoch 86/500\n",
            "15/15 [==============================] - 0s 4ms/step - loss: 0.1889 - accuracy: 0.9619 - val_loss: 0.1522 - val_accuracy: 1.0000\n",
            "Epoch 87/500\n",
            "15/15 [==============================] - 0s 3ms/step - loss: 0.1873 - accuracy: 0.9714 - val_loss: 0.1493 - val_accuracy: 1.0000\n",
            "Epoch 88/500\n",
            "15/15 [==============================] - 0s 4ms/step - loss: 0.1843 - accuracy: 0.9524 - val_loss: 0.1467 - val_accuracy: 1.0000\n",
            "Epoch 89/500\n",
            "15/15 [==============================] - 0s 3ms/step - loss: 0.1822 - accuracy: 0.9524 - val_loss: 0.1437 - val_accuracy: 1.0000\n",
            "Epoch 90/500\n",
            "15/15 [==============================] - 0s 3ms/step - loss: 0.1791 - accuracy: 0.9714 - val_loss: 0.1411 - val_accuracy: 1.0000\n",
            "Epoch 91/500\n",
            "15/15 [==============================] - 0s 3ms/step - loss: 0.1764 - accuracy: 0.9714 - val_loss: 0.1385 - val_accuracy: 1.0000\n",
            "Epoch 92/500\n",
            "15/15 [==============================] - 0s 3ms/step - loss: 0.1837 - accuracy: 0.9333 - val_loss: 0.1384 - val_accuracy: 1.0000\n",
            "Epoch 93/500\n",
            "15/15 [==============================] - 0s 4ms/step - loss: 0.1699 - accuracy: 0.9714 - val_loss: 0.1349 - val_accuracy: 1.0000\n",
            "Epoch 94/500\n",
            "15/15 [==============================] - 0s 3ms/step - loss: 0.1718 - accuracy: 0.9714 - val_loss: 0.1312 - val_accuracy: 1.0000\n",
            "Epoch 95/500\n",
            "15/15 [==============================] - 0s 3ms/step - loss: 0.1722 - accuracy: 0.9429 - val_loss: 0.1295 - val_accuracy: 1.0000\n",
            "Epoch 96/500\n",
            "15/15 [==============================] - 0s 4ms/step - loss: 0.1685 - accuracy: 0.9714 - val_loss: 0.1268 - val_accuracy: 1.0000\n",
            "Epoch 97/500\n",
            "15/15 [==============================] - 0s 3ms/step - loss: 0.1655 - accuracy: 0.9619 - val_loss: 0.1254 - val_accuracy: 1.0000\n",
            "Epoch 98/500\n",
            "15/15 [==============================] - 0s 3ms/step - loss: 0.1648 - accuracy: 0.9714 - val_loss: 0.1223 - val_accuracy: 1.0000\n",
            "Epoch 99/500\n",
            "15/15 [==============================] - 0s 4ms/step - loss: 0.1628 - accuracy: 0.9714 - val_loss: 0.1214 - val_accuracy: 1.0000\n",
            "Epoch 100/500\n",
            "15/15 [==============================] - 0s 3ms/step - loss: 0.1620 - accuracy: 0.9524 - val_loss: 0.1183 - val_accuracy: 1.0000\n",
            "Epoch 101/500\n",
            "15/15 [==============================] - 0s 4ms/step - loss: 0.1598 - accuracy: 0.9714 - val_loss: 0.1162 - val_accuracy: 1.0000\n",
            "Epoch 102/500\n",
            "15/15 [==============================] - 0s 3ms/step - loss: 0.1589 - accuracy: 0.9619 - val_loss: 0.1148 - val_accuracy: 1.0000\n",
            "Epoch 103/500\n",
            "15/15 [==============================] - 0s 3ms/step - loss: 0.1546 - accuracy: 0.9619 - val_loss: 0.1123 - val_accuracy: 1.0000\n",
            "Epoch 104/500\n",
            "15/15 [==============================] - 0s 3ms/step - loss: 0.1531 - accuracy: 0.9714 - val_loss: 0.1110 - val_accuracy: 1.0000\n",
            "Epoch 105/500\n",
            "15/15 [==============================] - 0s 3ms/step - loss: 0.1515 - accuracy: 0.9619 - val_loss: 0.1088 - val_accuracy: 1.0000\n",
            "Epoch 106/500\n",
            "15/15 [==============================] - 0s 4ms/step - loss: 0.1518 - accuracy: 0.9619 - val_loss: 0.1068 - val_accuracy: 1.0000\n",
            "Epoch 107/500\n",
            "15/15 [==============================] - 0s 4ms/step - loss: 0.1485 - accuracy: 0.9714 - val_loss: 0.1052 - val_accuracy: 1.0000\n",
            "Epoch 108/500\n",
            "15/15 [==============================] - 0s 3ms/step - loss: 0.1478 - accuracy: 0.9714 - val_loss: 0.1035 - val_accuracy: 1.0000\n",
            "Epoch 109/500\n",
            "15/15 [==============================] - 0s 3ms/step - loss: 0.1458 - accuracy: 0.9619 - val_loss: 0.1021 - val_accuracy: 1.0000\n",
            "Epoch 110/500\n",
            "15/15 [==============================] - 0s 3ms/step - loss: 0.1475 - accuracy: 0.9714 - val_loss: 0.1003 - val_accuracy: 1.0000\n",
            "Epoch 111/500\n",
            "15/15 [==============================] - 0s 3ms/step - loss: 0.1433 - accuracy: 0.9619 - val_loss: 0.0999 - val_accuracy: 1.0000\n",
            "Epoch 112/500\n",
            "15/15 [==============================] - 0s 3ms/step - loss: 0.1463 - accuracy: 0.9429 - val_loss: 0.0976 - val_accuracy: 1.0000\n",
            "Epoch 113/500\n",
            "15/15 [==============================] - 0s 3ms/step - loss: 0.1492 - accuracy: 0.9619 - val_loss: 0.0974 - val_accuracy: 1.0000\n",
            "Epoch 114/500\n",
            "15/15 [==============================] - 0s 3ms/step - loss: 0.1384 - accuracy: 0.9714 - val_loss: 0.0951 - val_accuracy: 1.0000\n",
            "Epoch 115/500\n",
            "15/15 [==============================] - 0s 3ms/step - loss: 0.1393 - accuracy: 0.9429 - val_loss: 0.0951 - val_accuracy: 1.0000\n",
            "Epoch 116/500\n",
            "15/15 [==============================] - 0s 3ms/step - loss: 0.1381 - accuracy: 0.9714 - val_loss: 0.0918 - val_accuracy: 1.0000\n",
            "Epoch 117/500\n",
            "15/15 [==============================] - 0s 3ms/step - loss: 0.1401 - accuracy: 0.9524 - val_loss: 0.0904 - val_accuracy: 1.0000\n",
            "Epoch 118/500\n",
            "15/15 [==============================] - 0s 3ms/step - loss: 0.1374 - accuracy: 0.9714 - val_loss: 0.0896 - val_accuracy: 1.0000\n",
            "Epoch 119/500\n",
            "15/15 [==============================] - 0s 4ms/step - loss: 0.1342 - accuracy: 0.9714 - val_loss: 0.0891 - val_accuracy: 1.0000\n",
            "Epoch 120/500\n",
            "15/15 [==============================] - 0s 3ms/step - loss: 0.1353 - accuracy: 0.9619 - val_loss: 0.0865 - val_accuracy: 1.0000\n",
            "Epoch 121/500\n",
            "15/15 [==============================] - 0s 3ms/step - loss: 0.1325 - accuracy: 0.9714 - val_loss: 0.0862 - val_accuracy: 1.0000\n",
            "Epoch 122/500\n",
            "15/15 [==============================] - 0s 3ms/step - loss: 0.1310 - accuracy: 0.9619 - val_loss: 0.0845 - val_accuracy: 1.0000\n",
            "Epoch 123/500\n",
            "15/15 [==============================] - 0s 3ms/step - loss: 0.1301 - accuracy: 0.9714 - val_loss: 0.0830 - val_accuracy: 1.0000\n",
            "Epoch 124/500\n",
            "15/15 [==============================] - 0s 4ms/step - loss: 0.1308 - accuracy: 0.9714 - val_loss: 0.0820 - val_accuracy: 1.0000\n",
            "Epoch 125/500\n",
            "15/15 [==============================] - 0s 3ms/step - loss: 0.1310 - accuracy: 0.9619 - val_loss: 0.0835 - val_accuracy: 1.0000\n",
            "Epoch 126/500\n",
            "15/15 [==============================] - 0s 3ms/step - loss: 0.1326 - accuracy: 0.9619 - val_loss: 0.0798 - val_accuracy: 1.0000\n",
            "Epoch 127/500\n",
            "15/15 [==============================] - 0s 3ms/step - loss: 0.1284 - accuracy: 0.9619 - val_loss: 0.0805 - val_accuracy: 1.0000\n",
            "Epoch 128/500\n",
            "15/15 [==============================] - 0s 3ms/step - loss: 0.1289 - accuracy: 0.9714 - val_loss: 0.0777 - val_accuracy: 1.0000\n",
            "Epoch 129/500\n",
            "15/15 [==============================] - 0s 4ms/step - loss: 0.1289 - accuracy: 0.9619 - val_loss: 0.0787 - val_accuracy: 1.0000\n",
            "Epoch 130/500\n",
            "15/15 [==============================] - 0s 3ms/step - loss: 0.1241 - accuracy: 0.9619 - val_loss: 0.0759 - val_accuracy: 1.0000\n",
            "Epoch 131/500\n",
            "15/15 [==============================] - 0s 4ms/step - loss: 0.1256 - accuracy: 0.9619 - val_loss: 0.0749 - val_accuracy: 1.0000\n",
            "Epoch 132/500\n",
            "15/15 [==============================] - 0s 3ms/step - loss: 0.1289 - accuracy: 0.9714 - val_loss: 0.0743 - val_accuracy: 1.0000\n",
            "Epoch 133/500\n",
            "15/15 [==============================] - 0s 3ms/step - loss: 0.1196 - accuracy: 0.9714 - val_loss: 0.0743 - val_accuracy: 1.0000\n",
            "Epoch 134/500\n",
            "15/15 [==============================] - 0s 3ms/step - loss: 0.1219 - accuracy: 0.9619 - val_loss: 0.0742 - val_accuracy: 1.0000\n",
            "Epoch 135/500\n",
            "15/15 [==============================] - 0s 3ms/step - loss: 0.1206 - accuracy: 0.9619 - val_loss: 0.0722 - val_accuracy: 1.0000\n",
            "Epoch 136/500\n",
            "15/15 [==============================] - 0s 3ms/step - loss: 0.1198 - accuracy: 0.9619 - val_loss: 0.0706 - val_accuracy: 1.0000\n",
            "Epoch 137/500\n",
            "15/15 [==============================] - 0s 3ms/step - loss: 0.1215 - accuracy: 0.9714 - val_loss: 0.0697 - val_accuracy: 1.0000\n",
            "Epoch 138/500\n",
            "15/15 [==============================] - 0s 4ms/step - loss: 0.1235 - accuracy: 0.9619 - val_loss: 0.0718 - val_accuracy: 1.0000\n",
            "Epoch 139/500\n",
            "15/15 [==============================] - 0s 3ms/step - loss: 0.1177 - accuracy: 0.9714 - val_loss: 0.0680 - val_accuracy: 1.0000\n",
            "Epoch 140/500\n",
            "15/15 [==============================] - 0s 4ms/step - loss: 0.1173 - accuracy: 0.9714 - val_loss: 0.0673 - val_accuracy: 1.0000\n",
            "Epoch 141/500\n",
            "15/15 [==============================] - 0s 3ms/step - loss: 0.1186 - accuracy: 0.9714 - val_loss: 0.0665 - val_accuracy: 1.0000\n",
            "Epoch 142/500\n",
            "15/15 [==============================] - 0s 3ms/step - loss: 0.1210 - accuracy: 0.9524 - val_loss: 0.0706 - val_accuracy: 1.0000\n",
            "Epoch 143/500\n",
            "15/15 [==============================] - 0s 3ms/step - loss: 0.1148 - accuracy: 0.9619 - val_loss: 0.0652 - val_accuracy: 1.0000\n",
            "Epoch 144/500\n",
            "15/15 [==============================] - 0s 3ms/step - loss: 0.1186 - accuracy: 0.9714 - val_loss: 0.0643 - val_accuracy: 1.0000\n",
            "Epoch 145/500\n",
            "15/15 [==============================] - 0s 3ms/step - loss: 0.1207 - accuracy: 0.9524 - val_loss: 0.0657 - val_accuracy: 1.0000\n",
            "Epoch 146/500\n",
            "15/15 [==============================] - 0s 3ms/step - loss: 0.1138 - accuracy: 0.9714 - val_loss: 0.0629 - val_accuracy: 1.0000\n",
            "Epoch 147/500\n",
            "15/15 [==============================] - 0s 3ms/step - loss: 0.1155 - accuracy: 0.9714 - val_loss: 0.0625 - val_accuracy: 1.0000\n",
            "Epoch 148/500\n",
            "15/15 [==============================] - 0s 3ms/step - loss: 0.1159 - accuracy: 0.9714 - val_loss: 0.0643 - val_accuracy: 1.0000\n",
            "Epoch 149/500\n",
            "15/15 [==============================] - 0s 4ms/step - loss: 0.1150 - accuracy: 0.9714 - val_loss: 0.0609 - val_accuracy: 1.0000\n",
            "Epoch 150/500\n",
            "15/15 [==============================] - 0s 4ms/step - loss: 0.1120 - accuracy: 0.9619 - val_loss: 0.0628 - val_accuracy: 1.0000\n",
            "Epoch 151/500\n",
            "15/15 [==============================] - 0s 3ms/step - loss: 0.1136 - accuracy: 0.9714 - val_loss: 0.0604 - val_accuracy: 1.0000\n",
            "Epoch 152/500\n",
            "15/15 [==============================] - 0s 3ms/step - loss: 0.1116 - accuracy: 0.9714 - val_loss: 0.0603 - val_accuracy: 1.0000\n",
            "Epoch 153/500\n",
            "15/15 [==============================] - 0s 3ms/step - loss: 0.1123 - accuracy: 0.9714 - val_loss: 0.0598 - val_accuracy: 1.0000\n",
            "Epoch 154/500\n",
            "15/15 [==============================] - 0s 3ms/step - loss: 0.1115 - accuracy: 0.9619 - val_loss: 0.0584 - val_accuracy: 1.0000\n",
            "Epoch 155/500\n",
            "15/15 [==============================] - 0s 4ms/step - loss: 0.1104 - accuracy: 0.9714 - val_loss: 0.0573 - val_accuracy: 1.0000\n",
            "Epoch 156/500\n",
            "15/15 [==============================] - 0s 3ms/step - loss: 0.1082 - accuracy: 0.9714 - val_loss: 0.0583 - val_accuracy: 1.0000\n",
            "Epoch 157/500\n",
            "15/15 [==============================] - 0s 3ms/step - loss: 0.1098 - accuracy: 0.9619 - val_loss: 0.0564 - val_accuracy: 1.0000\n",
            "Epoch 158/500\n",
            "15/15 [==============================] - 0s 3ms/step - loss: 0.1093 - accuracy: 0.9714 - val_loss: 0.0592 - val_accuracy: 1.0000\n",
            "Epoch 159/500\n",
            "15/15 [==============================] - 0s 3ms/step - loss: 0.1078 - accuracy: 0.9714 - val_loss: 0.0558 - val_accuracy: 1.0000\n",
            "Epoch 160/500\n",
            "15/15 [==============================] - 0s 3ms/step - loss: 0.1097 - accuracy: 0.9714 - val_loss: 0.0552 - val_accuracy: 1.0000\n",
            "Epoch 161/500\n",
            "15/15 [==============================] - 0s 4ms/step - loss: 0.1068 - accuracy: 0.9714 - val_loss: 0.0541 - val_accuracy: 1.0000\n",
            "Epoch 162/500\n",
            "15/15 [==============================] - 0s 3ms/step - loss: 0.1051 - accuracy: 0.9714 - val_loss: 0.0557 - val_accuracy: 1.0000\n",
            "Epoch 163/500\n",
            "15/15 [==============================] - 0s 3ms/step - loss: 0.1054 - accuracy: 0.9619 - val_loss: 0.0548 - val_accuracy: 1.0000\n",
            "Epoch 164/500\n",
            "15/15 [==============================] - 0s 3ms/step - loss: 0.1041 - accuracy: 0.9619 - val_loss: 0.0533 - val_accuracy: 1.0000\n",
            "Epoch 165/500\n",
            "15/15 [==============================] - 0s 3ms/step - loss: 0.1042 - accuracy: 0.9714 - val_loss: 0.0527 - val_accuracy: 1.0000\n",
            "Epoch 166/500\n",
            "15/15 [==============================] - 0s 3ms/step - loss: 0.1048 - accuracy: 0.9619 - val_loss: 0.0527 - val_accuracy: 1.0000\n",
            "Epoch 167/500\n",
            "15/15 [==============================] - 0s 4ms/step - loss: 0.1026 - accuracy: 0.9714 - val_loss: 0.0517 - val_accuracy: 1.0000\n",
            "Epoch 168/500\n",
            "15/15 [==============================] - 0s 3ms/step - loss: 0.1040 - accuracy: 0.9714 - val_loss: 0.0518 - val_accuracy: 1.0000\n",
            "Epoch 169/500\n",
            "15/15 [==============================] - 0s 4ms/step - loss: 0.1067 - accuracy: 0.9714 - val_loss: 0.0502 - val_accuracy: 1.0000\n",
            "Epoch 170/500\n",
            "15/15 [==============================] - 0s 4ms/step - loss: 0.1011 - accuracy: 0.9714 - val_loss: 0.0510 - val_accuracy: 1.0000\n",
            "Epoch 171/500\n",
            "15/15 [==============================] - 0s 3ms/step - loss: 0.1017 - accuracy: 0.9619 - val_loss: 0.0519 - val_accuracy: 1.0000\n",
            "Epoch 172/500\n",
            "15/15 [==============================] - 0s 3ms/step - loss: 0.1069 - accuracy: 0.9429 - val_loss: 0.0524 - val_accuracy: 1.0000\n",
            "Epoch 173/500\n",
            "15/15 [==============================] - 0s 3ms/step - loss: 0.1032 - accuracy: 0.9714 - val_loss: 0.0487 - val_accuracy: 1.0000\n",
            "Epoch 174/500\n",
            "15/15 [==============================] - 0s 3ms/step - loss: 0.1010 - accuracy: 0.9714 - val_loss: 0.0496 - val_accuracy: 1.0000\n",
            "Epoch 175/500\n",
            "15/15 [==============================] - 0s 4ms/step - loss: 0.1016 - accuracy: 0.9619 - val_loss: 0.0502 - val_accuracy: 1.0000\n",
            "Epoch 176/500\n",
            "15/15 [==============================] - 0s 3ms/step - loss: 0.1020 - accuracy: 0.9619 - val_loss: 0.0498 - val_accuracy: 1.0000\n",
            "Epoch 177/500\n",
            "15/15 [==============================] - 0s 3ms/step - loss: 0.1036 - accuracy: 0.9619 - val_loss: 0.0468 - val_accuracy: 1.0000\n",
            "Epoch 178/500\n",
            "15/15 [==============================] - 0s 3ms/step - loss: 0.0993 - accuracy: 0.9714 - val_loss: 0.0480 - val_accuracy: 1.0000\n",
            "Epoch 179/500\n",
            "15/15 [==============================] - 0s 3ms/step - loss: 0.1071 - accuracy: 0.9524 - val_loss: 0.0492 - val_accuracy: 1.0000\n",
            "Epoch 180/500\n",
            "15/15 [==============================] - 0s 3ms/step - loss: 0.1027 - accuracy: 0.9714 - val_loss: 0.0461 - val_accuracy: 1.0000\n",
            "Epoch 181/500\n",
            "15/15 [==============================] - 0s 3ms/step - loss: 0.1015 - accuracy: 0.9714 - val_loss: 0.0473 - val_accuracy: 1.0000\n",
            "Epoch 182/500\n",
            "15/15 [==============================] - 0s 4ms/step - loss: 0.0994 - accuracy: 0.9714 - val_loss: 0.0457 - val_accuracy: 1.0000\n",
            "Epoch 183/500\n",
            "15/15 [==============================] - 0s 3ms/step - loss: 0.0987 - accuracy: 0.9714 - val_loss: 0.0465 - val_accuracy: 1.0000\n",
            "Epoch 184/500\n",
            "15/15 [==============================] - 0s 3ms/step - loss: 0.0989 - accuracy: 0.9714 - val_loss: 0.0457 - val_accuracy: 1.0000\n",
            "Epoch 185/500\n",
            "15/15 [==============================] - 0s 4ms/step - loss: 0.0962 - accuracy: 0.9714 - val_loss: 0.0445 - val_accuracy: 1.0000\n",
            "Epoch 186/500\n",
            "15/15 [==============================] - 0s 3ms/step - loss: 0.0968 - accuracy: 0.9714 - val_loss: 0.0444 - val_accuracy: 1.0000\n",
            "Epoch 187/500\n",
            "15/15 [==============================] - 0s 3ms/step - loss: 0.0978 - accuracy: 0.9714 - val_loss: 0.0445 - val_accuracy: 1.0000\n",
            "Epoch 188/500\n",
            "15/15 [==============================] - 0s 3ms/step - loss: 0.0996 - accuracy: 0.9619 - val_loss: 0.0481 - val_accuracy: 1.0000\n",
            "Epoch 189/500\n",
            "15/15 [==============================] - 0s 3ms/step - loss: 0.0944 - accuracy: 0.9619 - val_loss: 0.0431 - val_accuracy: 1.0000\n",
            "Epoch 190/500\n",
            "15/15 [==============================] - 0s 5ms/step - loss: 0.0961 - accuracy: 0.9714 - val_loss: 0.0427 - val_accuracy: 1.0000\n",
            "Epoch 191/500\n",
            "15/15 [==============================] - 0s 3ms/step - loss: 0.0952 - accuracy: 0.9714 - val_loss: 0.0435 - val_accuracy: 1.0000\n",
            "Epoch 192/500\n",
            "15/15 [==============================] - 0s 3ms/step - loss: 0.0962 - accuracy: 0.9810 - val_loss: 0.0456 - val_accuracy: 1.0000\n",
            "Epoch 193/500\n",
            "15/15 [==============================] - 0s 3ms/step - loss: 0.1113 - accuracy: 0.9619 - val_loss: 0.0418 - val_accuracy: 1.0000\n",
            "Epoch 194/500\n",
            "15/15 [==============================] - 0s 4ms/step - loss: 0.0914 - accuracy: 0.9619 - val_loss: 0.0458 - val_accuracy: 1.0000\n",
            "Epoch 195/500\n",
            "15/15 [==============================] - 0s 4ms/step - loss: 0.0973 - accuracy: 0.9714 - val_loss: 0.0446 - val_accuracy: 1.0000\n",
            "Epoch 196/500\n",
            "15/15 [==============================] - 0s 3ms/step - loss: 0.0958 - accuracy: 0.9619 - val_loss: 0.0421 - val_accuracy: 1.0000\n",
            "Epoch 197/500\n",
            "15/15 [==============================] - 0s 3ms/step - loss: 0.0940 - accuracy: 0.9714 - val_loss: 0.0421 - val_accuracy: 1.0000\n",
            "Epoch 198/500\n",
            "15/15 [==============================] - 0s 3ms/step - loss: 0.0933 - accuracy: 0.9810 - val_loss: 0.0440 - val_accuracy: 1.0000\n",
            "Epoch 199/500\n",
            "15/15 [==============================] - 0s 4ms/step - loss: 0.0962 - accuracy: 0.9619 - val_loss: 0.0421 - val_accuracy: 1.0000\n",
            "Epoch 200/500\n",
            "15/15 [==============================] - 0s 3ms/step - loss: 0.0928 - accuracy: 0.9714 - val_loss: 0.0401 - val_accuracy: 1.0000\n",
            "Epoch 201/500\n",
            "15/15 [==============================] - 0s 3ms/step - loss: 0.0922 - accuracy: 0.9714 - val_loss: 0.0411 - val_accuracy: 1.0000\n",
            "Epoch 202/500\n",
            "15/15 [==============================] - 0s 4ms/step - loss: 0.0940 - accuracy: 0.9619 - val_loss: 0.0421 - val_accuracy: 1.0000\n",
            "Epoch 203/500\n",
            "15/15 [==============================] - 0s 3ms/step - loss: 0.0925 - accuracy: 0.9714 - val_loss: 0.0390 - val_accuracy: 1.0000\n",
            "Epoch 204/500\n",
            "15/15 [==============================] - 0s 4ms/step - loss: 0.0920 - accuracy: 0.9714 - val_loss: 0.0400 - val_accuracy: 1.0000\n",
            "Epoch 205/500\n",
            "15/15 [==============================] - 0s 3ms/step - loss: 0.0923 - accuracy: 0.9810 - val_loss: 0.0416 - val_accuracy: 1.0000\n",
            "Epoch 206/500\n",
            "15/15 [==============================] - 0s 4ms/step - loss: 0.0904 - accuracy: 0.9810 - val_loss: 0.0391 - val_accuracy: 1.0000\n",
            "Epoch 207/500\n",
            "15/15 [==============================] - 0s 3ms/step - loss: 0.0926 - accuracy: 0.9714 - val_loss: 0.0386 - val_accuracy: 1.0000\n",
            "Epoch 208/500\n",
            "15/15 [==============================] - 0s 4ms/step - loss: 0.0998 - accuracy: 0.9619 - val_loss: 0.0413 - val_accuracy: 1.0000\n",
            "Epoch 209/500\n",
            "15/15 [==============================] - 0s 4ms/step - loss: 0.1034 - accuracy: 0.9619 - val_loss: 0.0379 - val_accuracy: 1.0000\n",
            "Epoch 210/500\n",
            "15/15 [==============================] - 0s 3ms/step - loss: 0.0992 - accuracy: 0.9619 - val_loss: 0.0440 - val_accuracy: 0.9778\n",
            "Epoch 211/500\n",
            "15/15 [==============================] - 0s 3ms/step - loss: 0.0900 - accuracy: 0.9714 - val_loss: 0.0390 - val_accuracy: 1.0000\n",
            "Epoch 212/500\n",
            "15/15 [==============================] - 0s 4ms/step - loss: 0.0909 - accuracy: 0.9714 - val_loss: 0.0380 - val_accuracy: 1.0000\n",
            "Epoch 213/500\n",
            "15/15 [==============================] - 0s 3ms/step - loss: 0.0914 - accuracy: 0.9810 - val_loss: 0.0388 - val_accuracy: 1.0000\n",
            "Epoch 214/500\n",
            "15/15 [==============================] - 0s 4ms/step - loss: 0.0889 - accuracy: 0.9810 - val_loss: 0.0381 - val_accuracy: 1.0000\n",
            "Epoch 215/500\n",
            "15/15 [==============================] - 0s 4ms/step - loss: 0.0886 - accuracy: 0.9714 - val_loss: 0.0381 - val_accuracy: 1.0000\n",
            "Epoch 216/500\n",
            "15/15 [==============================] - 0s 4ms/step - loss: 0.0905 - accuracy: 0.9810 - val_loss: 0.0393 - val_accuracy: 1.0000\n",
            "Epoch 217/500\n",
            "15/15 [==============================] - 0s 3ms/step - loss: 0.0876 - accuracy: 0.9714 - val_loss: 0.0373 - val_accuracy: 1.0000\n",
            "Epoch 218/500\n",
            "15/15 [==============================] - 0s 4ms/step - loss: 0.0884 - accuracy: 0.9714 - val_loss: 0.0362 - val_accuracy: 1.0000\n",
            "Epoch 219/500\n",
            "15/15 [==============================] - 0s 4ms/step - loss: 0.0943 - accuracy: 0.9714 - val_loss: 0.0365 - val_accuracy: 1.0000\n",
            "Epoch 220/500\n",
            "15/15 [==============================] - 0s 3ms/step - loss: 0.0955 - accuracy: 0.9619 - val_loss: 0.0409 - val_accuracy: 0.9778\n",
            "Epoch 221/500\n",
            "15/15 [==============================] - 0s 3ms/step - loss: 0.0904 - accuracy: 0.9714 - val_loss: 0.0349 - val_accuracy: 1.0000\n",
            "Epoch 222/500\n",
            "15/15 [==============================] - 0s 3ms/step - loss: 0.0887 - accuracy: 0.9714 - val_loss: 0.0376 - val_accuracy: 1.0000\n",
            "Epoch 223/500\n",
            "15/15 [==============================] - 0s 3ms/step - loss: 0.0872 - accuracy: 0.9810 - val_loss: 0.0376 - val_accuracy: 1.0000\n",
            "Epoch 224/500\n",
            "15/15 [==============================] - 0s 3ms/step - loss: 0.0868 - accuracy: 0.9714 - val_loss: 0.0367 - val_accuracy: 1.0000\n",
            "Epoch 225/500\n",
            "15/15 [==============================] - 0s 3ms/step - loss: 0.0880 - accuracy: 0.9714 - val_loss: 0.0358 - val_accuracy: 1.0000\n",
            "Epoch 226/500\n",
            "15/15 [==============================] - 0s 4ms/step - loss: 0.0868 - accuracy: 0.9714 - val_loss: 0.0378 - val_accuracy: 1.0000\n",
            "Epoch 227/500\n",
            "15/15 [==============================] - 0s 4ms/step - loss: 0.0867 - accuracy: 0.9714 - val_loss: 0.0363 - val_accuracy: 1.0000\n",
            "Epoch 228/500\n",
            "15/15 [==============================] - 0s 3ms/step - loss: 0.0893 - accuracy: 0.9714 - val_loss: 0.0340 - val_accuracy: 1.0000\n",
            "Epoch 229/500\n",
            "15/15 [==============================] - 0s 3ms/step - loss: 0.0859 - accuracy: 0.9810 - val_loss: 0.0360 - val_accuracy: 1.0000\n",
            "Epoch 230/500\n",
            "15/15 [==============================] - 0s 4ms/step - loss: 0.0856 - accuracy: 0.9810 - val_loss: 0.0372 - val_accuracy: 1.0000\n",
            "Epoch 231/500\n",
            "15/15 [==============================] - 0s 4ms/step - loss: 0.0918 - accuracy: 0.9714 - val_loss: 0.0344 - val_accuracy: 1.0000\n",
            "Epoch 232/500\n",
            "15/15 [==============================] - 0s 3ms/step - loss: 0.0875 - accuracy: 0.9714 - val_loss: 0.0375 - val_accuracy: 1.0000\n",
            "Epoch 233/500\n",
            "15/15 [==============================] - 0s 4ms/step - loss: 0.0854 - accuracy: 0.9810 - val_loss: 0.0344 - val_accuracy: 1.0000\n",
            "Epoch 234/500\n",
            "15/15 [==============================] - 0s 3ms/step - loss: 0.0873 - accuracy: 0.9714 - val_loss: 0.0346 - val_accuracy: 1.0000\n",
            "Epoch 235/500\n",
            "15/15 [==============================] - 0s 4ms/step - loss: 0.0860 - accuracy: 0.9714 - val_loss: 0.0381 - val_accuracy: 0.9778\n",
            "Epoch 236/500\n",
            "15/15 [==============================] - 0s 3ms/step - loss: 0.0863 - accuracy: 0.9714 - val_loss: 0.0358 - val_accuracy: 1.0000\n",
            "Epoch 237/500\n",
            "15/15 [==============================] - 0s 3ms/step - loss: 0.0852 - accuracy: 0.9714 - val_loss: 0.0326 - val_accuracy: 1.0000\n",
            "Epoch 238/500\n",
            "15/15 [==============================] - 0s 3ms/step - loss: 0.0845 - accuracy: 0.9714 - val_loss: 0.0353 - val_accuracy: 1.0000\n",
            "Epoch 239/500\n",
            "15/15 [==============================] - 0s 4ms/step - loss: 0.0868 - accuracy: 0.9810 - val_loss: 0.0367 - val_accuracy: 0.9778\n",
            "Epoch 240/500\n",
            "15/15 [==============================] - 0s 3ms/step - loss: 0.0860 - accuracy: 0.9714 - val_loss: 0.0359 - val_accuracy: 1.0000\n",
            "Epoch 241/500\n",
            "15/15 [==============================] - 0s 4ms/step - loss: 0.0856 - accuracy: 0.9714 - val_loss: 0.0326 - val_accuracy: 1.0000\n",
            "Epoch 242/500\n",
            "15/15 [==============================] - 0s 3ms/step - loss: 0.0893 - accuracy: 0.9619 - val_loss: 0.0318 - val_accuracy: 1.0000\n",
            "Epoch 243/500\n",
            "15/15 [==============================] - 0s 3ms/step - loss: 0.0839 - accuracy: 0.9810 - val_loss: 0.0372 - val_accuracy: 0.9778\n",
            "Epoch 244/500\n",
            "15/15 [==============================] - 0s 3ms/step - loss: 0.0870 - accuracy: 0.9810 - val_loss: 0.0325 - val_accuracy: 1.0000\n",
            "Epoch 245/500\n",
            "15/15 [==============================] - 0s 4ms/step - loss: 0.0872 - accuracy: 0.9714 - val_loss: 0.0375 - val_accuracy: 0.9778\n",
            "Epoch 246/500\n",
            "15/15 [==============================] - 0s 4ms/step - loss: 0.0839 - accuracy: 0.9810 - val_loss: 0.0322 - val_accuracy: 1.0000\n",
            "Epoch 247/500\n",
            "15/15 [==============================] - 0s 4ms/step - loss: 0.0825 - accuracy: 0.9810 - val_loss: 0.0330 - val_accuracy: 1.0000\n",
            "Epoch 248/500\n",
            "15/15 [==============================] - 0s 3ms/step - loss: 0.0847 - accuracy: 0.9714 - val_loss: 0.0334 - val_accuracy: 1.0000\n",
            "Epoch 249/500\n",
            "15/15 [==============================] - 0s 3ms/step - loss: 0.0863 - accuracy: 0.9619 - val_loss: 0.0382 - val_accuracy: 0.9778\n",
            "Epoch 250/500\n",
            "15/15 [==============================] - 0s 3ms/step - loss: 0.0867 - accuracy: 0.9714 - val_loss: 0.0316 - val_accuracy: 1.0000\n",
            "Epoch 251/500\n",
            "15/15 [==============================] - 0s 5ms/step - loss: 0.0820 - accuracy: 0.9810 - val_loss: 0.0340 - val_accuracy: 1.0000\n",
            "Epoch 252/500\n",
            "15/15 [==============================] - 0s 4ms/step - loss: 0.0832 - accuracy: 0.9810 - val_loss: 0.0323 - val_accuracy: 1.0000\n",
            "Epoch 253/500\n",
            "15/15 [==============================] - 0s 4ms/step - loss: 0.0811 - accuracy: 0.9810 - val_loss: 0.0335 - val_accuracy: 1.0000\n",
            "Epoch 254/500\n",
            "15/15 [==============================] - 0s 3ms/step - loss: 0.0859 - accuracy: 0.9714 - val_loss: 0.0339 - val_accuracy: 1.0000\n",
            "Epoch 255/500\n",
            "15/15 [==============================] - 0s 3ms/step - loss: 0.0824 - accuracy: 0.9810 - val_loss: 0.0314 - val_accuracy: 1.0000\n",
            "Epoch 256/500\n",
            "15/15 [==============================] - 0s 3ms/step - loss: 0.0814 - accuracy: 0.9810 - val_loss: 0.0323 - val_accuracy: 1.0000\n",
            "Epoch 257/500\n",
            "15/15 [==============================] - 0s 3ms/step - loss: 0.0816 - accuracy: 0.9810 - val_loss: 0.0320 - val_accuracy: 1.0000\n",
            "Epoch 258/500\n",
            "15/15 [==============================] - 0s 3ms/step - loss: 0.0851 - accuracy: 0.9714 - val_loss: 0.0322 - val_accuracy: 1.0000\n",
            "Epoch 259/500\n",
            "15/15 [==============================] - 0s 4ms/step - loss: 0.0818 - accuracy: 0.9810 - val_loss: 0.0320 - val_accuracy: 1.0000\n",
            "Epoch 260/500\n",
            "15/15 [==============================] - 0s 4ms/step - loss: 0.0836 - accuracy: 0.9714 - val_loss: 0.0333 - val_accuracy: 1.0000\n",
            "Epoch 261/500\n",
            "15/15 [==============================] - 0s 4ms/step - loss: 0.0839 - accuracy: 0.9810 - val_loss: 0.0299 - val_accuracy: 1.0000\n",
            "Epoch 262/500\n",
            "15/15 [==============================] - 0s 3ms/step - loss: 0.0808 - accuracy: 0.9810 - val_loss: 0.0337 - val_accuracy: 0.9778\n",
            "Epoch 263/500\n",
            "15/15 [==============================] - 0s 3ms/step - loss: 0.0810 - accuracy: 0.9714 - val_loss: 0.0320 - val_accuracy: 1.0000\n",
            "Epoch 264/500\n",
            "15/15 [==============================] - 0s 3ms/step - loss: 0.0823 - accuracy: 0.9810 - val_loss: 0.0313 - val_accuracy: 1.0000\n",
            "Epoch 265/500\n",
            "15/15 [==============================] - 0s 4ms/step - loss: 0.0813 - accuracy: 0.9714 - val_loss: 0.0356 - val_accuracy: 0.9778\n",
            "Epoch 266/500\n",
            "15/15 [==============================] - 0s 4ms/step - loss: 0.0820 - accuracy: 0.9810 - val_loss: 0.0298 - val_accuracy: 1.0000\n",
            "Epoch 267/500\n",
            "15/15 [==============================] - 0s 5ms/step - loss: 0.0799 - accuracy: 0.9810 - val_loss: 0.0309 - val_accuracy: 1.0000\n",
            "Epoch 268/500\n",
            "15/15 [==============================] - 0s 3ms/step - loss: 0.0821 - accuracy: 0.9714 - val_loss: 0.0359 - val_accuracy: 0.9778\n",
            "Epoch 269/500\n",
            "15/15 [==============================] - 0s 3ms/step - loss: 0.0802 - accuracy: 0.9714 - val_loss: 0.0322 - val_accuracy: 1.0000\n",
            "Epoch 270/500\n",
            "15/15 [==============================] - 0s 3ms/step - loss: 0.0871 - accuracy: 0.9714 - val_loss: 0.0282 - val_accuracy: 1.0000\n",
            "Epoch 271/500\n",
            "15/15 [==============================] - 0s 3ms/step - loss: 0.0783 - accuracy: 0.9810 - val_loss: 0.0331 - val_accuracy: 0.9778\n",
            "Epoch 272/500\n",
            "15/15 [==============================] - 0s 3ms/step - loss: 0.0791 - accuracy: 0.9714 - val_loss: 0.0332 - val_accuracy: 0.9778\n",
            "Epoch 273/500\n",
            "15/15 [==============================] - 0s 3ms/step - loss: 0.0796 - accuracy: 0.9810 - val_loss: 0.0303 - val_accuracy: 1.0000\n",
            "Epoch 274/500\n",
            "15/15 [==============================] - 0s 5ms/step - loss: 0.0798 - accuracy: 0.9810 - val_loss: 0.0321 - val_accuracy: 0.9778\n",
            "Epoch 275/500\n",
            "15/15 [==============================] - 0s 4ms/step - loss: 0.0787 - accuracy: 0.9810 - val_loss: 0.0300 - val_accuracy: 1.0000\n",
            "Epoch 276/500\n",
            "15/15 [==============================] - 0s 4ms/step - loss: 0.0795 - accuracy: 0.9810 - val_loss: 0.0303 - val_accuracy: 1.0000\n",
            "Epoch 277/500\n",
            "15/15 [==============================] - 0s 3ms/step - loss: 0.0818 - accuracy: 0.9810 - val_loss: 0.0297 - val_accuracy: 1.0000\n",
            "Epoch 278/500\n",
            "15/15 [==============================] - 0s 4ms/step - loss: 0.0828 - accuracy: 0.9714 - val_loss: 0.0344 - val_accuracy: 0.9778\n",
            "Epoch 279/500\n",
            "15/15 [==============================] - 0s 4ms/step - loss: 0.0781 - accuracy: 0.9810 - val_loss: 0.0312 - val_accuracy: 1.0000\n",
            "Epoch 280/500\n",
            "15/15 [==============================] - 0s 4ms/step - loss: 0.0785 - accuracy: 0.9810 - val_loss: 0.0296 - val_accuracy: 1.0000\n",
            "Epoch 281/500\n",
            "15/15 [==============================] - 0s 3ms/step - loss: 0.0780 - accuracy: 0.9810 - val_loss: 0.0294 - val_accuracy: 1.0000\n",
            "Epoch 282/500\n",
            "15/15 [==============================] - 0s 3ms/step - loss: 0.0859 - accuracy: 0.9714 - val_loss: 0.0346 - val_accuracy: 0.9778\n",
            "Epoch 283/500\n",
            "15/15 [==============================] - 0s 4ms/step - loss: 0.0760 - accuracy: 0.9810 - val_loss: 0.0291 - val_accuracy: 1.0000\n",
            "Epoch 284/500\n",
            "15/15 [==============================] - 0s 3ms/step - loss: 0.0827 - accuracy: 0.9619 - val_loss: 0.0283 - val_accuracy: 1.0000\n",
            "Epoch 285/500\n",
            "15/15 [==============================] - 0s 5ms/step - loss: 0.0779 - accuracy: 0.9810 - val_loss: 0.0333 - val_accuracy: 0.9778\n",
            "Epoch 286/500\n",
            "15/15 [==============================] - 0s 4ms/step - loss: 0.0800 - accuracy: 0.9714 - val_loss: 0.0302 - val_accuracy: 1.0000\n",
            "Epoch 287/500\n",
            "15/15 [==============================] - 0s 3ms/step - loss: 0.0811 - accuracy: 0.9810 - val_loss: 0.0284 - val_accuracy: 1.0000\n",
            "Epoch 288/500\n",
            "15/15 [==============================] - 0s 3ms/step - loss: 0.0760 - accuracy: 0.9810 - val_loss: 0.0345 - val_accuracy: 0.9778\n",
            "Epoch 289/500\n",
            "15/15 [==============================] - 0s 4ms/step - loss: 0.0795 - accuracy: 0.9810 - val_loss: 0.0331 - val_accuracy: 0.9778\n",
            "Epoch 290/500\n",
            "15/15 [==============================] - 0s 4ms/step - loss: 0.0769 - accuracy: 0.9810 - val_loss: 0.0284 - val_accuracy: 1.0000\n",
            "Epoch 291/500\n",
            "15/15 [==============================] - 0s 4ms/step - loss: 0.0768 - accuracy: 0.9810 - val_loss: 0.0281 - val_accuracy: 1.0000\n",
            "Epoch 292/500\n",
            "15/15 [==============================] - 0s 5ms/step - loss: 0.0774 - accuracy: 0.9810 - val_loss: 0.0310 - val_accuracy: 0.9778\n",
            "Epoch 293/500\n",
            "15/15 [==============================] - 0s 3ms/step - loss: 0.0763 - accuracy: 0.9810 - val_loss: 0.0304 - val_accuracy: 0.9778\n",
            "Epoch 294/500\n",
            "15/15 [==============================] - 0s 3ms/step - loss: 0.0786 - accuracy: 0.9810 - val_loss: 0.0299 - val_accuracy: 1.0000\n",
            "Epoch 295/500\n",
            "15/15 [==============================] - 0s 3ms/step - loss: 0.0779 - accuracy: 0.9810 - val_loss: 0.0287 - val_accuracy: 1.0000\n",
            "Epoch 296/500\n",
            "15/15 [==============================] - 0s 3ms/step - loss: 0.0769 - accuracy: 0.9810 - val_loss: 0.0312 - val_accuracy: 0.9778\n",
            "Epoch 297/500\n",
            "15/15 [==============================] - 0s 3ms/step - loss: 0.0766 - accuracy: 0.9714 - val_loss: 0.0318 - val_accuracy: 0.9778\n",
            "Epoch 298/500\n",
            "15/15 [==============================] - 0s 5ms/step - loss: 0.0770 - accuracy: 0.9810 - val_loss: 0.0300 - val_accuracy: 0.9778\n",
            "Epoch 299/500\n",
            "15/15 [==============================] - 0s 3ms/step - loss: 0.0792 - accuracy: 0.9810 - val_loss: 0.0269 - val_accuracy: 1.0000\n",
            "Epoch 300/500\n",
            "15/15 [==============================] - 0s 3ms/step - loss: 0.0761 - accuracy: 0.9810 - val_loss: 0.0333 - val_accuracy: 0.9778\n",
            "Epoch 301/500\n",
            "15/15 [==============================] - 0s 3ms/step - loss: 0.0819 - accuracy: 0.9714 - val_loss: 0.0291 - val_accuracy: 1.0000\n",
            "Epoch 302/500\n",
            "15/15 [==============================] - 0s 3ms/step - loss: 0.0755 - accuracy: 0.9810 - val_loss: 0.0315 - val_accuracy: 0.9778\n",
            "Epoch 303/500\n",
            "15/15 [==============================] - 0s 3ms/step - loss: 0.0774 - accuracy: 0.9714 - val_loss: 0.0303 - val_accuracy: 0.9778\n",
            "Epoch 304/500\n",
            "15/15 [==============================] - 0s 3ms/step - loss: 0.0759 - accuracy: 0.9810 - val_loss: 0.0297 - val_accuracy: 0.9778\n",
            "Epoch 305/500\n",
            "15/15 [==============================] - 0s 3ms/step - loss: 0.0763 - accuracy: 0.9714 - val_loss: 0.0307 - val_accuracy: 0.9778\n",
            "Epoch 306/500\n",
            "15/15 [==============================] - 0s 3ms/step - loss: 0.0748 - accuracy: 0.9810 - val_loss: 0.0276 - val_accuracy: 1.0000\n",
            "Epoch 307/500\n",
            "15/15 [==============================] - 0s 3ms/step - loss: 0.0753 - accuracy: 0.9810 - val_loss: 0.0281 - val_accuracy: 1.0000\n",
            "Epoch 308/500\n",
            "15/15 [==============================] - 0s 3ms/step - loss: 0.0771 - accuracy: 0.9714 - val_loss: 0.0315 - val_accuracy: 0.9778\n",
            "Epoch 309/500\n",
            "15/15 [==============================] - 0s 4ms/step - loss: 0.0764 - accuracy: 0.9810 - val_loss: 0.0284 - val_accuracy: 1.0000\n",
            "Epoch 310/500\n",
            "15/15 [==============================] - 0s 5ms/step - loss: 0.0751 - accuracy: 0.9810 - val_loss: 0.0307 - val_accuracy: 0.9778\n",
            "Epoch 311/500\n",
            "15/15 [==============================] - 0s 3ms/step - loss: 0.0800 - accuracy: 0.9714 - val_loss: 0.0315 - val_accuracy: 0.9778\n",
            "Epoch 312/500\n",
            "15/15 [==============================] - 0s 4ms/step - loss: 0.0740 - accuracy: 0.9810 - val_loss: 0.0261 - val_accuracy: 1.0000\n",
            "Epoch 313/500\n",
            "15/15 [==============================] - 0s 5ms/step - loss: 0.0765 - accuracy: 0.9714 - val_loss: 0.0266 - val_accuracy: 1.0000\n",
            "Epoch 314/500\n",
            "15/15 [==============================] - 0s 4ms/step - loss: 0.0793 - accuracy: 0.9714 - val_loss: 0.0313 - val_accuracy: 0.9778\n",
            "Epoch 315/500\n",
            "15/15 [==============================] - 0s 3ms/step - loss: 0.0743 - accuracy: 0.9810 - val_loss: 0.0303 - val_accuracy: 0.9778\n",
            "Epoch 316/500\n",
            "15/15 [==============================] - 0s 5ms/step - loss: 0.0744 - accuracy: 0.9810 - val_loss: 0.0303 - val_accuracy: 0.9778\n",
            "Epoch 317/500\n",
            "15/15 [==============================] - 0s 3ms/step - loss: 0.0767 - accuracy: 0.9810 - val_loss: 0.0261 - val_accuracy: 1.0000\n",
            "Epoch 318/500\n",
            "15/15 [==============================] - 0s 4ms/step - loss: 0.0728 - accuracy: 0.9810 - val_loss: 0.0311 - val_accuracy: 0.9778\n",
            "Epoch 319/500\n",
            "15/15 [==============================] - 0s 3ms/step - loss: 0.0752 - accuracy: 0.9905 - val_loss: 0.0305 - val_accuracy: 0.9778\n",
            "Epoch 320/500\n",
            "15/15 [==============================] - 0s 4ms/step - loss: 0.0738 - accuracy: 0.9810 - val_loss: 0.0277 - val_accuracy: 1.0000\n",
            "Epoch 321/500\n",
            "15/15 [==============================] - 0s 3ms/step - loss: 0.0743 - accuracy: 0.9810 - val_loss: 0.0300 - val_accuracy: 0.9778\n",
            "Epoch 322/500\n",
            "15/15 [==============================] - 0s 3ms/step - loss: 0.0770 - accuracy: 0.9810 - val_loss: 0.0317 - val_accuracy: 0.9778\n",
            "Epoch 323/500\n",
            "15/15 [==============================] - 0s 4ms/step - loss: 0.0825 - accuracy: 0.9714 - val_loss: 0.0245 - val_accuracy: 1.0000\n",
            "Epoch 324/500\n",
            "15/15 [==============================] - 0s 4ms/step - loss: 0.0766 - accuracy: 0.9714 - val_loss: 0.0353 - val_accuracy: 0.9778\n",
            "Epoch 325/500\n",
            "15/15 [==============================] - 0s 4ms/step - loss: 0.0739 - accuracy: 0.9810 - val_loss: 0.0295 - val_accuracy: 0.9778\n",
            "Epoch 326/500\n",
            "15/15 [==============================] - 0s 4ms/step - loss: 0.0741 - accuracy: 0.9810 - val_loss: 0.0268 - val_accuracy: 1.0000\n",
            "Epoch 327/500\n",
            "15/15 [==============================] - 0s 3ms/step - loss: 0.0734 - accuracy: 0.9810 - val_loss: 0.0291 - val_accuracy: 0.9778\n",
            "Epoch 328/500\n",
            "15/15 [==============================] - 0s 3ms/step - loss: 0.0734 - accuracy: 0.9810 - val_loss: 0.0288 - val_accuracy: 0.9778\n",
            "Epoch 329/500\n",
            "15/15 [==============================] - 0s 4ms/step - loss: 0.0733 - accuracy: 0.9810 - val_loss: 0.0328 - val_accuracy: 0.9778\n",
            "Epoch 330/500\n",
            "15/15 [==============================] - 0s 4ms/step - loss: 0.0730 - accuracy: 0.9810 - val_loss: 0.0275 - val_accuracy: 1.0000\n",
            "Epoch 331/500\n",
            "15/15 [==============================] - 0s 3ms/step - loss: 0.0725 - accuracy: 0.9810 - val_loss: 0.0274 - val_accuracy: 1.0000\n",
            "Epoch 332/500\n",
            "15/15 [==============================] - 0s 4ms/step - loss: 0.0774 - accuracy: 0.9810 - val_loss: 0.0283 - val_accuracy: 0.9778\n",
            "Epoch 333/500\n",
            "15/15 [==============================] - 0s 4ms/step - loss: 0.0759 - accuracy: 0.9714 - val_loss: 0.0263 - val_accuracy: 1.0000\n",
            "Epoch 334/500\n",
            "15/15 [==============================] - 0s 4ms/step - loss: 0.0750 - accuracy: 0.9810 - val_loss: 0.0333 - val_accuracy: 0.9778\n",
            "Epoch 335/500\n",
            "15/15 [==============================] - 0s 4ms/step - loss: 0.0723 - accuracy: 0.9810 - val_loss: 0.0296 - val_accuracy: 0.9778\n",
            "Epoch 336/500\n",
            "15/15 [==============================] - 0s 3ms/step - loss: 0.0775 - accuracy: 0.9714 - val_loss: 0.0254 - val_accuracy: 1.0000\n",
            "Epoch 337/500\n",
            "15/15 [==============================] - 0s 4ms/step - loss: 0.0755 - accuracy: 0.9714 - val_loss: 0.0327 - val_accuracy: 0.9778\n",
            "Epoch 338/500\n",
            "15/15 [==============================] - 0s 3ms/step - loss: 0.0720 - accuracy: 0.9810 - val_loss: 0.0287 - val_accuracy: 0.9778\n",
            "Epoch 339/500\n",
            "15/15 [==============================] - 0s 4ms/step - loss: 0.0740 - accuracy: 0.9810 - val_loss: 0.0269 - val_accuracy: 1.0000\n",
            "Epoch 340/500\n",
            "15/15 [==============================] - 0s 4ms/step - loss: 0.0737 - accuracy: 0.9810 - val_loss: 0.0298 - val_accuracy: 0.9778\n",
            "Epoch 341/500\n",
            "15/15 [==============================] - 0s 4ms/step - loss: 0.0755 - accuracy: 0.9810 - val_loss: 0.0291 - val_accuracy: 0.9778\n",
            "Epoch 342/500\n",
            "15/15 [==============================] - 0s 3ms/step - loss: 0.0717 - accuracy: 0.9810 - val_loss: 0.0293 - val_accuracy: 0.9778\n",
            "Epoch 343/500\n",
            "15/15 [==============================] - 0s 3ms/step - loss: 0.0716 - accuracy: 0.9810 - val_loss: 0.0298 - val_accuracy: 0.9778\n",
            "Epoch 344/500\n",
            "15/15 [==============================] - 0s 4ms/step - loss: 0.0730 - accuracy: 0.9810 - val_loss: 0.0262 - val_accuracy: 1.0000\n",
            "Epoch 345/500\n",
            "15/15 [==============================] - 0s 3ms/step - loss: 0.0788 - accuracy: 0.9810 - val_loss: 0.0305 - val_accuracy: 0.9778\n",
            "Epoch 346/500\n",
            "15/15 [==============================] - 0s 4ms/step - loss: 0.0721 - accuracy: 0.9810 - val_loss: 0.0249 - val_accuracy: 1.0000\n",
            "Epoch 347/500\n",
            "15/15 [==============================] - 0s 4ms/step - loss: 0.0734 - accuracy: 0.9810 - val_loss: 0.0291 - val_accuracy: 0.9778\n",
            "Epoch 348/500\n",
            "15/15 [==============================] - 0s 4ms/step - loss: 0.0731 - accuracy: 0.9810 - val_loss: 0.0293 - val_accuracy: 0.9778\n",
            "Epoch 349/500\n",
            "15/15 [==============================] - 0s 5ms/step - loss: 0.0721 - accuracy: 0.9810 - val_loss: 0.0270 - val_accuracy: 0.9778\n",
            "Epoch 350/500\n",
            "15/15 [==============================] - 0s 3ms/step - loss: 0.0717 - accuracy: 0.9810 - val_loss: 0.0291 - val_accuracy: 0.9778\n",
            "Epoch 351/500\n",
            "15/15 [==============================] - 0s 3ms/step - loss: 0.0718 - accuracy: 0.9905 - val_loss: 0.0277 - val_accuracy: 0.9778\n",
            "Epoch 352/500\n",
            "15/15 [==============================] - 0s 4ms/step - loss: 0.0727 - accuracy: 0.9810 - val_loss: 0.0301 - val_accuracy: 0.9778\n",
            "Epoch 353/500\n",
            "15/15 [==============================] - 0s 4ms/step - loss: 0.0714 - accuracy: 0.9810 - val_loss: 0.0281 - val_accuracy: 0.9778\n",
            "Epoch 354/500\n",
            "15/15 [==============================] - 0s 3ms/step - loss: 0.0722 - accuracy: 0.9810 - val_loss: 0.0264 - val_accuracy: 1.0000\n",
            "Epoch 355/500\n",
            "15/15 [==============================] - 0s 3ms/step - loss: 0.0709 - accuracy: 0.9810 - val_loss: 0.0322 - val_accuracy: 0.9778\n",
            "Epoch 356/500\n",
            "15/15 [==============================] - 0s 5ms/step - loss: 0.0760 - accuracy: 0.9905 - val_loss: 0.0255 - val_accuracy: 1.0000\n",
            "Epoch 357/500\n",
            "15/15 [==============================] - 0s 3ms/step - loss: 0.0716 - accuracy: 0.9810 - val_loss: 0.0266 - val_accuracy: 0.9778\n",
            "Epoch 358/500\n",
            "15/15 [==============================] - 0s 4ms/step - loss: 0.0939 - accuracy: 0.9524 - val_loss: 0.0377 - val_accuracy: 0.9778\n",
            "Epoch 359/500\n",
            "15/15 [==============================] - 0s 4ms/step - loss: 0.0799 - accuracy: 0.9714 - val_loss: 0.0230 - val_accuracy: 1.0000\n",
            "Epoch 360/500\n",
            "15/15 [==============================] - 0s 3ms/step - loss: 0.0703 - accuracy: 0.9810 - val_loss: 0.0305 - val_accuracy: 0.9778\n",
            "Epoch 361/500\n",
            "15/15 [==============================] - 0s 3ms/step - loss: 0.0746 - accuracy: 0.9810 - val_loss: 0.0305 - val_accuracy: 0.9778\n",
            "Epoch 362/500\n",
            "15/15 [==============================] - 0s 3ms/step - loss: 0.0751 - accuracy: 0.9810 - val_loss: 0.0249 - val_accuracy: 1.0000\n",
            "Epoch 363/500\n",
            "15/15 [==============================] - 0s 3ms/step - loss: 0.0708 - accuracy: 0.9905 - val_loss: 0.0308 - val_accuracy: 0.9778\n",
            "Epoch 364/500\n",
            "15/15 [==============================] - 0s 4ms/step - loss: 0.0711 - accuracy: 0.9714 - val_loss: 0.0276 - val_accuracy: 0.9778\n",
            "Epoch 365/500\n",
            "15/15 [==============================] - 0s 4ms/step - loss: 0.0785 - accuracy: 0.9714 - val_loss: 0.0239 - val_accuracy: 1.0000\n",
            "Epoch 366/500\n",
            "15/15 [==============================] - 0s 3ms/step - loss: 0.0688 - accuracy: 0.9810 - val_loss: 0.0334 - val_accuracy: 0.9778\n",
            "Epoch 367/500\n",
            "15/15 [==============================] - 0s 3ms/step - loss: 0.0747 - accuracy: 0.9619 - val_loss: 0.0331 - val_accuracy: 0.9778\n",
            "Epoch 368/500\n",
            "15/15 [==============================] - 0s 4ms/step - loss: 0.0720 - accuracy: 0.9810 - val_loss: 0.0240 - val_accuracy: 1.0000\n",
            "Epoch 369/500\n",
            "15/15 [==============================] - 0s 3ms/step - loss: 0.0703 - accuracy: 0.9810 - val_loss: 0.0267 - val_accuracy: 0.9778\n",
            "Epoch 370/500\n",
            "15/15 [==============================] - 0s 3ms/step - loss: 0.0706 - accuracy: 0.9905 - val_loss: 0.0308 - val_accuracy: 0.9778\n",
            "Epoch 371/500\n",
            "15/15 [==============================] - 0s 5ms/step - loss: 0.0713 - accuracy: 0.9905 - val_loss: 0.0264 - val_accuracy: 0.9778\n",
            "Epoch 372/500\n",
            "15/15 [==============================] - 0s 3ms/step - loss: 0.0701 - accuracy: 0.9810 - val_loss: 0.0267 - val_accuracy: 0.9778\n",
            "Epoch 373/500\n",
            "15/15 [==============================] - 0s 3ms/step - loss: 0.0704 - accuracy: 0.9905 - val_loss: 0.0295 - val_accuracy: 0.9778\n",
            "Epoch 374/500\n",
            "15/15 [==============================] - 0s 5ms/step - loss: 0.0702 - accuracy: 0.9810 - val_loss: 0.0264 - val_accuracy: 0.9778\n",
            "Epoch 375/500\n",
            "15/15 [==============================] - 0s 3ms/step - loss: 0.0710 - accuracy: 0.9905 - val_loss: 0.0295 - val_accuracy: 0.9778\n",
            "Epoch 376/500\n",
            "15/15 [==============================] - 0s 4ms/step - loss: 0.0715 - accuracy: 0.9810 - val_loss: 0.0248 - val_accuracy: 1.0000\n",
            "Epoch 377/500\n",
            "15/15 [==============================] - 0s 3ms/step - loss: 0.0687 - accuracy: 0.9810 - val_loss: 0.0292 - val_accuracy: 0.9778\n",
            "Epoch 378/500\n",
            "15/15 [==============================] - 0s 3ms/step - loss: 0.0696 - accuracy: 0.9905 - val_loss: 0.0295 - val_accuracy: 0.9778\n",
            "Epoch 379/500\n",
            "15/15 [==============================] - 0s 4ms/step - loss: 0.0686 - accuracy: 0.9810 - val_loss: 0.0261 - val_accuracy: 0.9778\n",
            "Epoch 380/500\n",
            "15/15 [==============================] - 0s 4ms/step - loss: 0.0721 - accuracy: 0.9810 - val_loss: 0.0282 - val_accuracy: 0.9778\n",
            "Epoch 381/500\n",
            "15/15 [==============================] - 0s 3ms/step - loss: 0.0693 - accuracy: 0.9810 - val_loss: 0.0286 - val_accuracy: 0.9778\n",
            "Epoch 382/500\n",
            "15/15 [==============================] - 0s 3ms/step - loss: 0.0697 - accuracy: 0.9810 - val_loss: 0.0274 - val_accuracy: 0.9778\n",
            "Epoch 383/500\n",
            "15/15 [==============================] - 0s 3ms/step - loss: 0.0713 - accuracy: 0.9810 - val_loss: 0.0278 - val_accuracy: 0.9778\n",
            "Epoch 384/500\n",
            "15/15 [==============================] - 0s 3ms/step - loss: 0.0689 - accuracy: 0.9905 - val_loss: 0.0272 - val_accuracy: 0.9778\n",
            "Epoch 385/500\n",
            "15/15 [==============================] - 0s 4ms/step - loss: 0.0710 - accuracy: 0.9810 - val_loss: 0.0312 - val_accuracy: 0.9778\n",
            "Epoch 386/500\n",
            "15/15 [==============================] - 0s 3ms/step - loss: 0.0745 - accuracy: 0.9714 - val_loss: 0.0292 - val_accuracy: 0.9778\n",
            "Epoch 387/500\n",
            "15/15 [==============================] - 0s 4ms/step - loss: 0.0700 - accuracy: 0.9810 - val_loss: 0.0236 - val_accuracy: 1.0000\n",
            "Epoch 388/500\n",
            "15/15 [==============================] - 0s 4ms/step - loss: 0.0704 - accuracy: 0.9714 - val_loss: 0.0248 - val_accuracy: 1.0000\n",
            "Epoch 389/500\n",
            "15/15 [==============================] - 0s 3ms/step - loss: 0.0748 - accuracy: 0.9905 - val_loss: 0.0311 - val_accuracy: 0.9778\n",
            "Epoch 390/500\n",
            "15/15 [==============================] - 0s 4ms/step - loss: 0.0683 - accuracy: 0.9905 - val_loss: 0.0257 - val_accuracy: 0.9778\n",
            "Epoch 391/500\n",
            "15/15 [==============================] - 0s 4ms/step - loss: 0.0700 - accuracy: 0.9810 - val_loss: 0.0281 - val_accuracy: 0.9778\n",
            "Epoch 392/500\n",
            "15/15 [==============================] - 0s 5ms/step - loss: 0.0716 - accuracy: 0.9810 - val_loss: 0.0309 - val_accuracy: 0.9778\n",
            "Epoch 393/500\n",
            "15/15 [==============================] - 0s 4ms/step - loss: 0.0723 - accuracy: 0.9810 - val_loss: 0.0275 - val_accuracy: 0.9778\n",
            "Epoch 394/500\n",
            "15/15 [==============================] - 0s 3ms/step - loss: 0.0686 - accuracy: 0.9810 - val_loss: 0.0267 - val_accuracy: 0.9778\n",
            "Epoch 395/500\n",
            "15/15 [==============================] - 0s 4ms/step - loss: 0.0681 - accuracy: 0.9810 - val_loss: 0.0295 - val_accuracy: 0.9778\n",
            "Epoch 396/500\n",
            "15/15 [==============================] - 0s 3ms/step - loss: 0.0722 - accuracy: 0.9714 - val_loss: 0.0257 - val_accuracy: 0.9778\n",
            "Epoch 397/500\n",
            "15/15 [==============================] - 0s 4ms/step - loss: 0.0704 - accuracy: 0.9905 - val_loss: 0.0336 - val_accuracy: 0.9778\n",
            "Epoch 398/500\n",
            "15/15 [==============================] - 0s 4ms/step - loss: 0.0708 - accuracy: 0.9810 - val_loss: 0.0270 - val_accuracy: 0.9778\n",
            "Epoch 399/500\n",
            "15/15 [==============================] - 0s 3ms/step - loss: 0.0673 - accuracy: 0.9905 - val_loss: 0.0283 - val_accuracy: 0.9778\n",
            "Epoch 400/500\n",
            "15/15 [==============================] - 0s 4ms/step - loss: 0.0711 - accuracy: 0.9810 - val_loss: 0.0260 - val_accuracy: 0.9778\n",
            "Epoch 401/500\n",
            "15/15 [==============================] - 0s 4ms/step - loss: 0.0688 - accuracy: 0.9905 - val_loss: 0.0320 - val_accuracy: 0.9778\n",
            "Epoch 402/500\n",
            "15/15 [==============================] - 0s 3ms/step - loss: 0.0676 - accuracy: 0.9810 - val_loss: 0.0283 - val_accuracy: 0.9778\n",
            "Epoch 403/500\n",
            "15/15 [==============================] - 0s 4ms/step - loss: 0.0810 - accuracy: 0.9714 - val_loss: 0.0224 - val_accuracy: 1.0000\n",
            "Epoch 404/500\n",
            "15/15 [==============================] - 0s 4ms/step - loss: 0.0695 - accuracy: 0.9810 - val_loss: 0.0345 - val_accuracy: 0.9778\n",
            "Epoch 405/500\n",
            "15/15 [==============================] - 0s 3ms/step - loss: 0.0720 - accuracy: 0.9905 - val_loss: 0.0271 - val_accuracy: 0.9778\n",
            "Epoch 406/500\n",
            "15/15 [==============================] - 0s 4ms/step - loss: 0.0669 - accuracy: 0.9810 - val_loss: 0.0300 - val_accuracy: 0.9778\n",
            "Epoch 407/500\n",
            "15/15 [==============================] - 0s 3ms/step - loss: 0.0679 - accuracy: 0.9905 - val_loss: 0.0270 - val_accuracy: 0.9778\n",
            "Epoch 408/500\n",
            "15/15 [==============================] - 0s 3ms/step - loss: 0.0674 - accuracy: 0.9810 - val_loss: 0.0295 - val_accuracy: 0.9778\n",
            "Epoch 409/500\n",
            "15/15 [==============================] - 0s 5ms/step - loss: 0.0707 - accuracy: 0.9810 - val_loss: 0.0245 - val_accuracy: 0.9778\n",
            "Epoch 410/500\n",
            "15/15 [==============================] - 0s 3ms/step - loss: 0.0671 - accuracy: 0.9810 - val_loss: 0.0317 - val_accuracy: 0.9778\n",
            "Epoch 411/500\n",
            "15/15 [==============================] - 0s 3ms/step - loss: 0.0702 - accuracy: 0.9905 - val_loss: 0.0271 - val_accuracy: 0.9778\n",
            "Epoch 412/500\n",
            "15/15 [==============================] - 0s 3ms/step - loss: 0.0689 - accuracy: 0.9905 - val_loss: 0.0311 - val_accuracy: 0.9778\n",
            "Epoch 413/500\n",
            "15/15 [==============================] - 0s 4ms/step - loss: 0.0671 - accuracy: 0.9905 - val_loss: 0.0266 - val_accuracy: 0.9778\n",
            "Epoch 414/500\n",
            "15/15 [==============================] - 0s 5ms/step - loss: 0.0662 - accuracy: 0.9905 - val_loss: 0.0254 - val_accuracy: 0.9778\n",
            "Epoch 415/500\n",
            "15/15 [==============================] - 0s 3ms/step - loss: 0.0688 - accuracy: 0.9810 - val_loss: 0.0284 - val_accuracy: 0.9778\n",
            "Epoch 416/500\n",
            "15/15 [==============================] - 0s 3ms/step - loss: 0.0662 - accuracy: 0.9905 - val_loss: 0.0262 - val_accuracy: 0.9778\n",
            "Epoch 417/500\n",
            "15/15 [==============================] - 0s 4ms/step - loss: 0.0687 - accuracy: 0.9714 - val_loss: 0.0263 - val_accuracy: 0.9778\n",
            "Epoch 418/500\n",
            "15/15 [==============================] - 0s 4ms/step - loss: 0.0752 - accuracy: 0.9810 - val_loss: 0.0336 - val_accuracy: 0.9778\n",
            "Epoch 419/500\n",
            "15/15 [==============================] - 0s 5ms/step - loss: 0.0639 - accuracy: 0.9905 - val_loss: 0.0234 - val_accuracy: 1.0000\n",
            "Epoch 420/500\n",
            "15/15 [==============================] - 0s 4ms/step - loss: 0.0743 - accuracy: 0.9714 - val_loss: 0.0232 - val_accuracy: 1.0000\n",
            "Epoch 421/500\n",
            "15/15 [==============================] - 0s 4ms/step - loss: 0.0658 - accuracy: 0.9810 - val_loss: 0.0324 - val_accuracy: 0.9778\n",
            "Epoch 422/500\n",
            "15/15 [==============================] - 0s 3ms/step - loss: 0.0681 - accuracy: 0.9905 - val_loss: 0.0314 - val_accuracy: 0.9778\n",
            "Epoch 423/500\n",
            "15/15 [==============================] - 0s 4ms/step - loss: 0.0671 - accuracy: 0.9905 - val_loss: 0.0289 - val_accuracy: 0.9778\n",
            "Epoch 424/500\n",
            "15/15 [==============================] - 0s 3ms/step - loss: 0.0657 - accuracy: 0.9905 - val_loss: 0.0286 - val_accuracy: 0.9778\n",
            "Epoch 425/500\n",
            "15/15 [==============================] - 0s 3ms/step - loss: 0.0675 - accuracy: 0.9810 - val_loss: 0.0262 - val_accuracy: 0.9778\n",
            "Epoch 426/500\n",
            "15/15 [==============================] - 0s 5ms/step - loss: 0.0674 - accuracy: 0.9905 - val_loss: 0.0323 - val_accuracy: 0.9778\n",
            "Epoch 427/500\n",
            "15/15 [==============================] - 0s 3ms/step - loss: 0.0706 - accuracy: 0.9810 - val_loss: 0.0263 - val_accuracy: 0.9778\n",
            "Epoch 428/500\n",
            "15/15 [==============================] - 0s 3ms/step - loss: 0.0664 - accuracy: 0.9810 - val_loss: 0.0283 - val_accuracy: 0.9778\n",
            "Epoch 429/500\n",
            "15/15 [==============================] - 0s 4ms/step - loss: 0.0664 - accuracy: 0.9905 - val_loss: 0.0264 - val_accuracy: 0.9778\n",
            "Epoch 430/500\n",
            "15/15 [==============================] - 0s 3ms/step - loss: 0.0654 - accuracy: 0.9905 - val_loss: 0.0294 - val_accuracy: 0.9778\n",
            "Epoch 431/500\n",
            "15/15 [==============================] - 0s 3ms/step - loss: 0.0663 - accuracy: 0.9905 - val_loss: 0.0268 - val_accuracy: 0.9778\n",
            "Epoch 432/500\n",
            "15/15 [==============================] - 0s 4ms/step - loss: 0.0679 - accuracy: 0.9810 - val_loss: 0.0267 - val_accuracy: 0.9778\n",
            "Epoch 433/500\n",
            "15/15 [==============================] - 0s 4ms/step - loss: 0.0655 - accuracy: 0.9905 - val_loss: 0.0318 - val_accuracy: 0.9778\n",
            "Epoch 434/500\n",
            "15/15 [==============================] - 0s 4ms/step - loss: 0.0704 - accuracy: 0.9810 - val_loss: 0.0265 - val_accuracy: 0.9778\n",
            "Epoch 435/500\n",
            "15/15 [==============================] - 0s 4ms/step - loss: 0.0660 - accuracy: 0.9905 - val_loss: 0.0292 - val_accuracy: 0.9778\n",
            "Epoch 436/500\n",
            "15/15 [==============================] - 0s 3ms/step - loss: 0.0670 - accuracy: 0.9905 - val_loss: 0.0261 - val_accuracy: 0.9778\n",
            "Epoch 437/500\n",
            "15/15 [==============================] - 0s 3ms/step - loss: 0.0660 - accuracy: 0.9905 - val_loss: 0.0304 - val_accuracy: 0.9778\n",
            "Epoch 438/500\n",
            "15/15 [==============================] - 0s 4ms/step - loss: 0.0669 - accuracy: 0.9905 - val_loss: 0.0302 - val_accuracy: 0.9778\n",
            "Epoch 439/500\n",
            "15/15 [==============================] - 0s 4ms/step - loss: 0.0652 - accuracy: 0.9905 - val_loss: 0.0261 - val_accuracy: 0.9778\n",
            "Epoch 440/500\n",
            "15/15 [==============================] - 0s 4ms/step - loss: 0.0677 - accuracy: 0.9810 - val_loss: 0.0239 - val_accuracy: 0.9778\n",
            "Epoch 441/500\n",
            "15/15 [==============================] - 0s 4ms/step - loss: 0.0637 - accuracy: 0.9810 - val_loss: 0.0299 - val_accuracy: 0.9778\n",
            "Epoch 442/500\n",
            "15/15 [==============================] - 0s 4ms/step - loss: 0.0743 - accuracy: 0.9810 - val_loss: 0.0271 - val_accuracy: 0.9778\n",
            "Epoch 443/500\n",
            "15/15 [==============================] - 0s 3ms/step - loss: 0.0678 - accuracy: 0.9905 - val_loss: 0.0320 - val_accuracy: 0.9778\n",
            "Epoch 444/500\n",
            "15/15 [==============================] - 0s 3ms/step - loss: 0.0678 - accuracy: 0.9810 - val_loss: 0.0254 - val_accuracy: 0.9778\n",
            "Epoch 445/500\n",
            "15/15 [==============================] - 0s 5ms/step - loss: 0.0699 - accuracy: 0.9810 - val_loss: 0.0332 - val_accuracy: 0.9778\n",
            "Epoch 446/500\n",
            "15/15 [==============================] - 0s 3ms/step - loss: 0.0727 - accuracy: 0.9714 - val_loss: 0.0227 - val_accuracy: 1.0000\n",
            "Epoch 447/500\n",
            "15/15 [==============================] - 0s 3ms/step - loss: 0.0680 - accuracy: 0.9810 - val_loss: 0.0318 - val_accuracy: 0.9778\n",
            "Epoch 448/500\n",
            "15/15 [==============================] - 0s 3ms/step - loss: 0.0662 - accuracy: 0.9905 - val_loss: 0.0285 - val_accuracy: 0.9778\n",
            "Epoch 449/500\n",
            "15/15 [==============================] - 0s 4ms/step - loss: 0.0658 - accuracy: 0.9905 - val_loss: 0.0279 - val_accuracy: 0.9778\n",
            "Epoch 450/500\n",
            "15/15 [==============================] - 0s 4ms/step - loss: 0.0665 - accuracy: 0.9714 - val_loss: 0.0253 - val_accuracy: 0.9778\n",
            "Epoch 451/500\n",
            "15/15 [==============================] - 0s 3ms/step - loss: 0.0675 - accuracy: 0.9905 - val_loss: 0.0310 - val_accuracy: 0.9778\n",
            "Epoch 452/500\n",
            "15/15 [==============================] - 0s 4ms/step - loss: 0.0640 - accuracy: 0.9905 - val_loss: 0.0263 - val_accuracy: 0.9778\n",
            "Epoch 453/500\n",
            "15/15 [==============================] - 0s 3ms/step - loss: 0.0672 - accuracy: 0.9810 - val_loss: 0.0274 - val_accuracy: 0.9778\n",
            "Epoch 454/500\n",
            "15/15 [==============================] - 0s 3ms/step - loss: 0.0661 - accuracy: 0.9905 - val_loss: 0.0271 - val_accuracy: 0.9778\n",
            "Epoch 455/500\n",
            "15/15 [==============================] - 0s 3ms/step - loss: 0.0641 - accuracy: 0.9905 - val_loss: 0.0301 - val_accuracy: 0.9778\n",
            "Epoch 456/500\n",
            "15/15 [==============================] - 0s 4ms/step - loss: 0.0675 - accuracy: 0.9905 - val_loss: 0.0312 - val_accuracy: 0.9778\n",
            "Epoch 457/500\n",
            "15/15 [==============================] - 0s 3ms/step - loss: 0.0629 - accuracy: 0.9905 - val_loss: 0.0239 - val_accuracy: 0.9778\n",
            "Epoch 458/500\n",
            "15/15 [==============================] - 0s 3ms/step - loss: 0.0676 - accuracy: 0.9714 - val_loss: 0.0284 - val_accuracy: 0.9778\n",
            "Epoch 459/500\n",
            "15/15 [==============================] - 0s 4ms/step - loss: 0.0700 - accuracy: 0.9714 - val_loss: 0.0253 - val_accuracy: 0.9778\n",
            "Epoch 460/500\n",
            "15/15 [==============================] - 0s 4ms/step - loss: 0.0636 - accuracy: 0.9905 - val_loss: 0.0326 - val_accuracy: 0.9778\n",
            "Epoch 461/500\n",
            "15/15 [==============================] - 0s 4ms/step - loss: 0.0728 - accuracy: 0.9714 - val_loss: 0.0290 - val_accuracy: 0.9778\n",
            "Epoch 462/500\n",
            "15/15 [==============================] - 0s 4ms/step - loss: 0.0684 - accuracy: 0.9714 - val_loss: 0.0226 - val_accuracy: 1.0000\n",
            "Epoch 463/500\n",
            "15/15 [==============================] - 0s 3ms/step - loss: 0.0651 - accuracy: 0.9810 - val_loss: 0.0297 - val_accuracy: 0.9778\n",
            "Epoch 464/500\n",
            "15/15 [==============================] - 0s 4ms/step - loss: 0.0665 - accuracy: 0.9810 - val_loss: 0.0308 - val_accuracy: 0.9778\n",
            "Epoch 465/500\n",
            "15/15 [==============================] - 0s 3ms/step - loss: 0.0630 - accuracy: 0.9905 - val_loss: 0.0250 - val_accuracy: 0.9778\n",
            "Epoch 466/500\n",
            "15/15 [==============================] - 0s 3ms/step - loss: 0.0652 - accuracy: 0.9905 - val_loss: 0.0271 - val_accuracy: 0.9778\n",
            "Epoch 467/500\n",
            "15/15 [==============================] - 0s 4ms/step - loss: 0.0648 - accuracy: 0.9905 - val_loss: 0.0292 - val_accuracy: 0.9778\n",
            "Epoch 468/500\n",
            "15/15 [==============================] - 0s 3ms/step - loss: 0.0657 - accuracy: 0.9810 - val_loss: 0.0260 - val_accuracy: 0.9778\n",
            "Epoch 469/500\n",
            "15/15 [==============================] - 0s 3ms/step - loss: 0.0654 - accuracy: 0.9905 - val_loss: 0.0284 - val_accuracy: 0.9778\n",
            "Epoch 470/500\n",
            "15/15 [==============================] - 0s 3ms/step - loss: 0.0651 - accuracy: 0.9905 - val_loss: 0.0303 - val_accuracy: 0.9778\n",
            "Epoch 471/500\n",
            "15/15 [==============================] - 0s 3ms/step - loss: 0.0645 - accuracy: 0.9905 - val_loss: 0.0286 - val_accuracy: 0.9778\n",
            "Epoch 472/500\n",
            "15/15 [==============================] - 0s 3ms/step - loss: 0.0720 - accuracy: 0.9714 - val_loss: 0.0264 - val_accuracy: 0.9778\n",
            "Epoch 473/500\n",
            "15/15 [==============================] - 0s 3ms/step - loss: 0.0643 - accuracy: 0.9905 - val_loss: 0.0315 - val_accuracy: 0.9778\n",
            "Epoch 474/500\n",
            "15/15 [==============================] - 0s 3ms/step - loss: 0.0646 - accuracy: 0.9905 - val_loss: 0.0307 - val_accuracy: 0.9778\n",
            "Epoch 475/500\n",
            "15/15 [==============================] - 0s 3ms/step - loss: 0.0659 - accuracy: 0.9714 - val_loss: 0.0247 - val_accuracy: 0.9778\n",
            "Epoch 476/500\n",
            "15/15 [==============================] - 0s 5ms/step - loss: 0.0640 - accuracy: 0.9905 - val_loss: 0.0294 - val_accuracy: 0.9778\n",
            "Epoch 477/500\n",
            "15/15 [==============================] - 0s 4ms/step - loss: 0.0632 - accuracy: 0.9905 - val_loss: 0.0307 - val_accuracy: 0.9778\n",
            "Epoch 478/500\n",
            "15/15 [==============================] - 0s 3ms/step - loss: 0.0644 - accuracy: 0.9905 - val_loss: 0.0279 - val_accuracy: 0.9778\n",
            "Epoch 479/500\n",
            "15/15 [==============================] - 0s 4ms/step - loss: 0.0627 - accuracy: 0.9905 - val_loss: 0.0297 - val_accuracy: 0.9778\n",
            "Epoch 480/500\n",
            "15/15 [==============================] - 0s 5ms/step - loss: 0.0704 - accuracy: 0.9810 - val_loss: 0.0334 - val_accuracy: 0.9778\n",
            "Epoch 481/500\n",
            "15/15 [==============================] - 0s 4ms/step - loss: 0.0622 - accuracy: 0.9905 - val_loss: 0.0238 - val_accuracy: 0.9778\n",
            "Epoch 482/500\n",
            "15/15 [==============================] - 0s 3ms/step - loss: 0.0666 - accuracy: 0.9714 - val_loss: 0.0277 - val_accuracy: 0.9778\n",
            "Epoch 483/500\n",
            "15/15 [==============================] - 0s 5ms/step - loss: 0.0677 - accuracy: 0.9905 - val_loss: 0.0323 - val_accuracy: 0.9778\n",
            "Epoch 484/500\n",
            "15/15 [==============================] - 0s 4ms/step - loss: 0.0629 - accuracy: 0.9905 - val_loss: 0.0253 - val_accuracy: 0.9778\n",
            "Epoch 485/500\n",
            "15/15 [==============================] - 0s 3ms/step - loss: 0.0640 - accuracy: 0.9905 - val_loss: 0.0253 - val_accuracy: 0.9778\n",
            "Epoch 486/500\n",
            "15/15 [==============================] - 0s 4ms/step - loss: 0.0635 - accuracy: 0.9905 - val_loss: 0.0274 - val_accuracy: 0.9778\n",
            "Epoch 487/500\n",
            "15/15 [==============================] - 0s 3ms/step - loss: 0.0649 - accuracy: 0.9905 - val_loss: 0.0305 - val_accuracy: 0.9778\n",
            "Epoch 488/500\n",
            "15/15 [==============================] - 0s 3ms/step - loss: 0.0688 - accuracy: 0.9810 - val_loss: 0.0349 - val_accuracy: 0.9778\n",
            "Epoch 489/500\n",
            "15/15 [==============================] - 0s 3ms/step - loss: 0.0683 - accuracy: 0.9810 - val_loss: 0.0239 - val_accuracy: 0.9778\n",
            "Epoch 490/500\n",
            "15/15 [==============================] - 0s 4ms/step - loss: 0.0688 - accuracy: 0.9905 - val_loss: 0.0333 - val_accuracy: 0.9778\n",
            "Epoch 491/500\n",
            "15/15 [==============================] - 0s 3ms/step - loss: 0.0649 - accuracy: 0.9905 - val_loss: 0.0279 - val_accuracy: 0.9778\n",
            "Epoch 492/500\n",
            "15/15 [==============================] - 0s 4ms/step - loss: 0.0665 - accuracy: 0.9714 - val_loss: 0.0259 - val_accuracy: 0.9778\n",
            "Epoch 493/500\n",
            "15/15 [==============================] - 0s 4ms/step - loss: 0.0617 - accuracy: 0.9905 - val_loss: 0.0284 - val_accuracy: 0.9778\n",
            "Epoch 494/500\n",
            "15/15 [==============================] - 0s 3ms/step - loss: 0.0634 - accuracy: 0.9905 - val_loss: 0.0292 - val_accuracy: 0.9778\n",
            "Epoch 495/500\n",
            "15/15 [==============================] - 0s 3ms/step - loss: 0.0675 - accuracy: 0.9905 - val_loss: 0.0362 - val_accuracy: 0.9778\n",
            "Epoch 496/500\n",
            "15/15 [==============================] - 0s 3ms/step - loss: 0.0632 - accuracy: 0.9905 - val_loss: 0.0248 - val_accuracy: 0.9778\n",
            "Epoch 497/500\n",
            "15/15 [==============================] - 0s 3ms/step - loss: 0.0640 - accuracy: 0.9714 - val_loss: 0.0271 - val_accuracy: 0.9778\n",
            "Epoch 498/500\n",
            "15/15 [==============================] - 0s 3ms/step - loss: 0.0639 - accuracy: 0.9905 - val_loss: 0.0319 - val_accuracy: 0.9778\n",
            "Epoch 499/500\n",
            "15/15 [==============================] - 0s 4ms/step - loss: 0.0657 - accuracy: 0.9810 - val_loss: 0.0289 - val_accuracy: 0.9778\n",
            "Epoch 500/500\n",
            "15/15 [==============================] - 0s 3ms/step - loss: 0.0681 - accuracy: 0.9714 - val_loss: 0.0234 - val_accuracy: 0.9778\n"
          ],
          "name": "stdout"
        }
      ]
    },
    {
      "cell_type": "markdown",
      "metadata": {
        "id": "8iCscJxhQurk"
      },
      "source": [
        "학습결과 시각화"
      ]
    },
    {
      "cell_type": "code",
      "metadata": {
        "colab": {
          "base_uri": "https://localhost:8080/",
          "height": 378
        },
        "id": "APiCym9oQjm-",
        "outputId": "0db070b5-ff1c-4e94-b693-796ce02a9db8"
      },
      "source": [
        "import matplotlib.pyplot as plt\n",
        "plt.figure(figsize = (9, 6))\n",
        "plt.ylim(0, 1.2)\n",
        "plt.plot(History_iris.history['loss'])\n",
        "plt.plot(History_iris.history['val_loss'])\n",
        "plt.plot(History_iris.history['accuracy'])\n",
        "plt.plot(History_iris.history['val_accuracy'])\n",
        "plt.legend(['loss', 'val_loss', 'accuracy', 'val_accuracy'])\n",
        "plt.grid()\n",
        "plt.show()"
      ],
      "execution_count": 18,
      "outputs": [
        {
          "output_type": "display_data",
          "data": {
            "image/png": "[encoded data removed]",
            "text/plain": [
              "<Figure size 648x432 with 1 Axes>"
            ]
          },
          "metadata": {
            "tags": [],
            "needs_background": "light"
          }
        }
      ]
    },
    {
      "cell_type": "code",
      "metadata": {
        "colab": {
          "base_uri": "https://localhost:8080/"
        },
        "id": "g2m24gQaQsaP",
        "outputId": "85b6ecfc-f819-4983-9621-327d44167485"
      },
      "source": [
        "loss,accuracy = model_iris.evaluate(X_test,y_test)\n",
        "\n",
        "print('Loss = {0:.2f}'.format(loss))\n",
        "print('Accuracy = {0:.2f}'.format(accuracy))"
      ],
      "execution_count": 19,
      "outputs": [
        {
          "output_type": "stream",
          "text": [
            "2/2 [==============================] - 0s 7ms/step - loss: 0.0234 - accuracy: 0.9778\n",
            "Loss = 0.02\n",
            "Accuracy = 0.98\n"
          ],
          "name": "stdout"
        }
      ]
    },
    {
      "cell_type": "code",
      "metadata": {
        "colab": {
          "base_uri": "https://localhost:8080/"
        },
        "id": "0x_4ms0cRF7S",
        "outputId": "0f38a098-d4f3-47d9-b0f5-ef32a35c9ae2"
      },
      "source": [
        "import numpy as np\n",
        "np.set_printoptions(suppress = True,precision = 5)\n",
        "\n",
        "model_iris.predict(X_test)"
      ],
      "execution_count": 21,
      "outputs": [
        {
          "output_type": "execute_result",
          "data": {
            "text/plain": [
              "array([[0.99999, 0.00001, 0.     ],\n",
              "       [0.99992, 0.00008, 0.     ],\n",
              "       [0.00031, 0.99968, 0.00001],\n",
              "       [0.     , 0.00007, 0.99993],\n",
              "       [1.     , 0.     , 0.     ],\n",
              "       [0.00009, 0.99984, 0.00007],\n",
              "       [0.     , 0.0048 , 0.9952 ],\n",
              "       [1.     , 0.     , 0.     ],\n",
              "       [0.     , 0.00091, 0.99909],\n",
              "       [0.99999, 0.00001, 0.     ],\n",
              "       [0.00011, 0.86636, 0.13353],\n",
              "       [0.     , 0.00143, 0.99857],\n",
              "       [0.00008, 0.99343, 0.00649],\n",
              "       [1.     , 0.     , 0.     ],\n",
              "       [1.     , 0.     , 0.     ],\n",
              "       [0.00011, 0.99385, 0.00604],\n",
              "       [0.00008, 0.97374, 0.02619],\n",
              "       [1.     , 0.     , 0.     ],\n",
              "       [0.00004, 0.99923, 0.00073],\n",
              "       [1.     , 0.     , 0.     ],\n",
              "       [0.99999, 0.00001, 0.     ],\n",
              "       [0.99999, 0.00001, 0.     ],\n",
              "       [0.     , 0.00075, 0.99925],\n",
              "       [1.     , 0.     , 0.     ],\n",
              "       [0.     , 0.02819, 0.97181],\n",
              "       [0.00001, 0.00961, 0.99038],\n",
              "       [1.     , 0.     , 0.     ],\n",
              "       [0.00003, 0.99541, 0.00456],\n",
              "       [0.00005, 0.99384, 0.00612],\n",
              "       [0.00001, 0.03515, 0.96484],\n",
              "       [1.     , 0.     , 0.     ],\n",
              "       [0.00003, 0.99753, 0.00244],\n",
              "       [1.     , 0.     , 0.     ],\n",
              "       [0.00007, 0.52265, 0.47728],\n",
              "       [0.00006, 0.99212, 0.00783],\n",
              "       [0.00006, 0.99987, 0.00008],\n",
              "       [0.     , 0.00013, 0.99987],\n",
              "       [0.00009, 0.9996 , 0.00031],\n",
              "       [1.     , 0.     , 0.     ],\n",
              "       [0.00005, 0.99721, 0.00274],\n",
              "       [0.     , 0.00014, 0.99986],\n",
              "       [0.99985, 0.00015, 0.     ],\n",
              "       [0.     , 0.00231, 0.99768],\n",
              "       [0.     , 0.00062, 0.99938],\n",
              "       [0.     , 0.01909, 0.98091]], dtype=float32)"
            ]
          },
          "metadata": {
            "tags": []
          },
          "execution_count": 21
        }
      ]
    },
    {
      "cell_type": "code",
      "metadata": {
        "id": "Dard50O2Rbp9"
      },
      "source": [
        "y_hat=model_iris.predict_classes(X_test)"
      ],
      "execution_count": 23,
      "outputs": []
    },
    {
      "cell_type": "code",
      "metadata": {
        "colab": {
          "base_uri": "https://localhost:8080/"
        },
        "id": "T-ToxV-eSUPG",
        "outputId": "9860c83d-abc5-4ed3-aea1-528f58f19b8d"
      },
      "source": [
        "y=np.argmax(y_test,axis=1)\n",
        "y"
      ],
      "execution_count": 27,
      "outputs": [
        {
          "output_type": "execute_result",
          "data": {
            "text/plain": [
              "array([0, 0, 1, 2, 0, 1, 2, 0, 2, 0, 1, 2, 1, 0, 0, 1, 1, 0, 1, 0, 0, 0,\n",
              "       2, 0, 2, 2, 0, 1, 1, 2, 0, 1, 0, 2, 1, 1, 2, 1, 0, 1, 2, 0, 2, 2,\n",
              "       2])"
            ]
          },
          "metadata": {
            "tags": []
          },
          "execution_count": 27
        }
      ]
    },
    {
      "cell_type": "code",
      "metadata": {
        "colab": {
          "base_uri": "https://localhost:8080/"
        },
        "id": "MF-GDqMyRt3i",
        "outputId": "c16845c1-ac5f-4bbc-b2ee-8bc2c10152e5"
      },
      "source": [
        "from sklearn.metrics import confusion_matrix,classification_report\n",
        "\n",
        "confusion_matrix(y,y_hat)"
      ],
      "execution_count": 28,
      "outputs": [
        {
          "output_type": "execute_result",
          "data": {
            "text/plain": [
              "array([[17,  0,  0],\n",
              "       [ 0, 14,  0],\n",
              "       [ 0,  1, 13]])"
            ]
          },
          "metadata": {
            "tags": []
          },
          "execution_count": 28
        }
      ]
    },
    {
      "cell_type": "code",
      "metadata": {
        "colab": {
          "base_uri": "https://localhost:8080/"
        },
        "id": "JHu_t30zSICS",
        "outputId": "c9ea6759-f56e-44cd-a9e1-a19c91db4786"
      },
      "source": [
        "print(classification_report(y,y_hat,target_names=['setosa','virginica','versicolor']))"
      ],
      "execution_count": 29,
      "outputs": [
        {
          "output_type": "stream",
          "text": [
            "              precision    recall  f1-score   support\n",
            "\n",
            "      setosa       1.00      1.00      1.00        17\n",
            "   virginica       0.93      1.00      0.97        14\n",
            "  versicolor       1.00      0.93      0.96        14\n",
            "\n",
            "    accuracy                           0.98        45\n",
            "   macro avg       0.98      0.98      0.98        45\n",
            "weighted avg       0.98      0.98      0.98        45\n",
            "\n"
          ],
          "name": "stdout"
        }
      ]
    },
    {
      "cell_type": "markdown",
      "metadata": {
        "id": "Obfs5FMgSzNf"
      },
      "source": [
        "model save"
      ]
    },
    {
      "cell_type": "code",
      "metadata": {
        "colab": {
          "base_uri": "https://localhost:8080/"
        },
        "id": "KfQJ6Ht1SxPr",
        "outputId": "46f85196-4f11-4c8f-cfee-9ef8703aa006"
      },
      "source": [
        "!ls -l"
      ],
      "execution_count": 30,
      "outputs": [
        {
          "output_type": "stream",
          "text": [
            "total 4\n",
            "drwxr-xr-x 1 root root 4096 Jul 16 13:20 sample_data\n"
          ],
          "name": "stdout"
        }
      ]
    },
    {
      "cell_type": "code",
      "metadata": {
        "colab": {
          "base_uri": "https://localhost:8080/"
        },
        "id": "5tm-6QsDS1nF",
        "outputId": "bc75f047-ef21-4104-a8eb-98e6ab0af35c"
      },
      "source": [
        "!ls -l '/content/drive/My Drive/Colab Notebooks/datasets'"
      ],
      "execution_count": 31,
      "outputs": [
        {
          "output_type": "stream",
          "text": [
            "total 3850167\n",
            "-rw------- 1 root root   31374019 Aug  4 07:17 Camel.zip\n",
            "-rw------- 1 root root      20066 Aug  4 07:17 cat.1700.jpg\n",
            "-rw------- 1 root root   69155672 Aug  4 07:17 creditCardFraud.zip\n",
            "-rw------- 1 root root   82003032 Aug  4 07:17 DataSet.pkl\n",
            "-rw------- 1 root root   90618980 Aug  4 07:17 dogs_and_cats_small.zip\n",
            "-rw------- 1 root root   54561944 Aug  4 07:17 Face.zip\n",
            "-rw------- 1 root root  862182613 Aug  4 07:18 GloVe.zip\n",
            "-rw------- 1 root root  149574867 Aug  4 07:18 horse-or-human.zip\n",
            "-rw------- 1 root root 1245927936 Aug  4 07:19 imagenetV2.zip\n",
            "-rw------- 1 root root    8204887 Aug  4 07:19 Images_500.zip\n",
            "-rw------- 1 root root   60711700 Aug  4 07:19 IMDB.zip\n",
            "-rw------- 1 root root    4240457 Aug  4 07:19 Kaggle_Customer_Satisfaction.zip\n",
            "-rw------- 1 root root   80596565 Aug  4 07:19 ko_w2v.zip\n",
            "-rw------- 1 root root   12929865 Aug  4 07:19 Logo_Data.zip\n",
            "-rw------- 1 root root   18272469 Aug  4 07:19 MNIST.csv\n",
            "-rw------- 1 root root    7903524 Aug  4 07:19 naverRatings.zip\n",
            "-rw------- 1 root root   22824989 Aug  4 07:19 Online_Retail.zip\n",
            "-rw------- 1 root root        741 Aug  4 07:19 PII.csv\n",
            "-rw------- 1 root root 1141460846 Aug  4 07:20 waferImages.zip\n"
          ],
          "name": "stdout"
        }
      ]
    },
    {
      "cell_type": "code",
      "metadata": {
        "id": "s0zSDaG_TnqW"
      },
      "source": [
        "model_iris.save('/content/drive/My Drive/Colab Notebooks/models/001_Model_iris.h5')"
      ],
      "execution_count": 33,
      "outputs": []
    },
    {
      "cell_type": "code",
      "metadata": {
        "colab": {
          "base_uri": "https://localhost:8080/"
        },
        "id": "Rad_b74iTscM",
        "outputId": "e86e4be7-208a-4e1e-de30-da5c5f6011dd"
      },
      "source": [
        "!ls -l '/content/drive/My Drive/Colab Notebooks/models'"
      ],
      "execution_count": 34,
      "outputs": [
        {
          "output_type": "stream",
          "text": [
            "total 34\n",
            "-rw------- 1 root root 34600 Aug  4 08:37 001_Model_iris.h5\n"
          ],
          "name": "stdout"
        }
      ]
    },
    {
      "cell_type": "code",
      "metadata": {
        "id": "tQAcPQEXT7Bt"
      },
      "source": [
        "from keras.models import load_model\n",
        "\n",
        "model_google = load_model('/content/drive/MyDrive/Colab Notebooks/models/001_Model_iris.h5')"
      ],
      "execution_count": 35,
      "outputs": []
    },
    {
      "cell_type": "code",
      "metadata": {
        "colab": {
          "base_uri": "https://localhost:8080/"
        },
        "id": "Ocglb2azUZNV",
        "outputId": "ff1419e1-4ab4-4e3d-abbe-79c3eccb5bb2"
      },
      "source": [
        "model_google.predict_classes(X_test)"
      ],
      "execution_count": 36,
      "outputs": [
        {
          "output_type": "execute_result",
          "data": {
            "text/plain": [
              "array([0, 0, 1, 2, 0, 1, 2, 0, 2, 0, 1, 2, 1, 0, 0, 1, 1, 0, 1, 0, 0, 0,\n",
              "       2, 0, 2, 2, 0, 1, 1, 2, 0, 1, 0, 1, 1, 1, 2, 1, 0, 1, 2, 0, 2, 2,\n",
              "       2])"
            ]
          },
          "metadata": {
            "tags": []
          },
          "execution_count": 36
        }
      ]
    },
    {
      "cell_type": "markdown",
      "metadata": {
        "id": "JtHFYIT0VSCC"
      },
      "source": [
        "현재 폴더에 저장"
      ]
    },
    {
      "cell_type": "code",
      "metadata": {
        "id": "wZ6DBpY1Udkt"
      },
      "source": [
        "model_iris.save('Model_iris.h5')"
      ],
      "execution_count": 37,
      "outputs": []
    },
    {
      "cell_type": "markdown",
      "metadata": {
        "id": "R8GCGdATVUv_"
      },
      "source": [
        "컴퓨터에 저장"
      ]
    },
    {
      "cell_type": "code",
      "metadata": {
        "colab": {
          "base_uri": "https://localhost:8080/",
          "height": 17
        },
        "id": "v3KDG6rWVLl3",
        "outputId": "e6019bb1-a061-4232-ad92-b81d39908d52"
      },
      "source": [
        "from google.colab import files\n",
        "files.download('Model_iris.h5')"
      ],
      "execution_count": 38,
      "outputs": [
        {
          "output_type": "display_data",
          "data": {
            "application/javascript": [
              "\n",
              "    async function download(id, filename, size) {\n",
              "      if (!google.colab.kernel.accessAllowed) {\n",
              "        return;\n",
              "      }\n",
              "      const div = document.createElement('div');\n",
              "      const label = document.createElement('label');\n",
              "      label.textContent = `Downloading \"${filename}\": `;\n",
              "      div.appendChild(label);\n",
              "      const progress = document.createElement('progress');\n",
              "      progress.max = size;\n",
              "      div.appendChild(progress);\n",
              "      document.body.appendChild(div);\n",
              "\n",
              "      const buffers = [];\n",
              "      let downloaded = 0;\n",
              "\n",
              "      const channel = await google.colab.kernel.comms.open(id);\n",
              "      // Send a message to notify the kernel that we're ready.\n",
              "      channel.send({})\n",
              "\n",
              "      for await (const message of channel.messages) {\n",
              "        // Send a message to notify the kernel that we're ready.\n",
              "        channel.send({})\n",
              "        if (message.buffers) {\n",
              "          for (const buffer of message.buffers) {\n",
              "            buffers.push(buffer);\n",
              "            downloaded += buffer.byteLength;\n",
              "            progress.value = downloaded;\n",
              "          }\n",
              "        }\n",
              "      }\n",
              "      const blob = new Blob(buffers, {type: 'application/binary'});\n",
              "      const a = document.createElement('a');\n",
              "      a.href = window.URL.createObjectURL(blob);\n",
              "      a.download = filename;\n",
              "      div.appendChild(a);\n",
              "      a.click();\n",
              "      div.remove();\n",
              "    }\n",
              "  "
            ],
            "text/plain": [
              "<IPython.core.display.Javascript object>"
            ]
          },
          "metadata": {
            "tags": []
          }
        },
        {
          "output_type": "display_data",
          "data": {
            "application/javascript": [
              "download(\"download_978dc8b3-0e32-4860-bfdb-0f6545aef565\", \"Model_iris.h5\", 34600)"
            ],
            "text/plain": [
              "<IPython.core.display.Javascript object>"
            ]
          },
          "metadata": {
            "tags": []
          }
        }
      ]
    },
    {
      "cell_type": "code",
      "metadata": {
        "id": "4uTJASbWVjGU"
      },
      "source": [
        ""
      ],
      "execution_count": null,
      "outputs": []
    }
  ]
}