{
  "nbformat": 4,
  "nbformat_minor": 0,
  "metadata": {
    "colab": {
      "name": "DNN1.ipynb",
      "provenance": []
    },
    "kernelspec": {
      "name": "python3",
      "display_name": "Python 3"
    },
    "language_info": {
      "name": "python"
    },
    "accelerator": "GPU"
  },
  "cells": [
    {
      "cell_type": "markdown",
      "metadata": {
        "id": "UhbDVaJ9C0q6"
      },
      "source": [
        "# Deep Neural Network\n",
        "\n",
        "손글씨 모델링의 문제점\n",
        "\n",
        "1. 원 데이터는 2차원이나 실제 모델은 1차원을 입력받는다. 따라서 변환을 해줘야한다. reshape()\n",
        "2. 우리는 X만 가지고 있다. y는 어디에? 정답을 따로 가지고 있어야 한다. label data\n",
        "\n",
        "DNN 모델의 문제는 input shape가 1차원 밖에 안된다."
      ]
    },
    {
      "cell_type": "code",
      "metadata": {
        "id": "z_2XqyXjMXyF"
      },
      "source": [
        "import warnings\n",
        "warnings.filterwarnings('ignore')"
      ],
      "execution_count": null,
      "outputs": []
    },
    {
      "cell_type": "code",
      "metadata": {
        "colab": {
          "base_uri": "https://localhost:8080/",
          "height": 35
        },
        "id": "xzpf_OC0U8w5",
        "outputId": "0fb82981-e0ae-42bb-c7c4-a889a895d227"
      },
      "source": [
        "import tensorflow as tf\n",
        "tf.__version__"
      ],
      "execution_count": null,
      "outputs": [
        {
          "output_type": "execute_result",
          "data": {
            "application/vnd.google.colaboratory.intrinsic+json": {
              "type": "string"
            },
            "text/plain": [
              "'2.5.0'"
            ]
          },
          "metadata": {
            "tags": []
          },
          "execution_count": 2
        }
      ]
    },
    {
      "cell_type": "code",
      "metadata": {
        "colab": {
          "base_uri": "https://localhost:8080/",
          "height": 35
        },
        "id": "nVvsvddkVD_V",
        "outputId": "56ef9a02-59fd-4a2e-e2ef-8675d8567b45"
      },
      "source": [
        "tf.test.gpu_device_name()"
      ],
      "execution_count": null,
      "outputs": [
        {
          "output_type": "execute_result",
          "data": {
            "application/vnd.google.colaboratory.intrinsic+json": {
              "type": "string"
            },
            "text/plain": [
              "'/device:GPU:0'"
            ]
          },
          "metadata": {
            "tags": []
          },
          "execution_count": 3
        }
      ]
    },
    {
      "cell_type": "markdown",
      "metadata": {
        "id": "aWWh43isV9Gq"
      },
      "source": [
        "## MNIST Data_Set Load & Review"
      ]
    },
    {
      "cell_type": "markdown",
      "metadata": {
        "id": "lDe9C5iLWEq5"
      },
      "source": [
        "### 1) Load MNIST Data_Set"
      ]
    },
    {
      "cell_type": "code",
      "metadata": {
        "colab": {
          "base_uri": "https://localhost:8080/"
        },
        "id": "W_CCNI2tVLYB",
        "outputId": "f2a14a8e-cf29-468c-ac4a-3e6a8df4ab8b"
      },
      "source": [
        "from tensorflow.keras.datasets import mnist\n",
        "\n",
        "(X_train,y_train),(X_test,y_test) = mnist.load_data()"
      ],
      "execution_count": null,
      "outputs": [
        {
          "output_type": "stream",
          "text": [
            "Downloading data from https://storage.googleapis.com/tensorflow/tf-keras-datasets/mnist.npz\n",
            "11493376/11490434 [==============================] - 0s 0us/step\n"
          ],
          "name": "stdout"
        }
      ]
    },
    {
      "cell_type": "markdown",
      "metadata": {
        "id": "iZSE1sqnVz3f"
      },
      "source": [
        "### 2) visualization"
      ]
    },
    {
      "cell_type": "code",
      "metadata": {
        "colab": {
          "base_uri": "https://localhost:8080/",
          "height": 265
        },
        "id": "h8sostFUVmG6",
        "outputId": "37c2a936-f61d-42d0-bc4d-afe218e85aa9"
      },
      "source": [
        "import matplotlib.pyplot as plt\n",
        "\n",
        "digit = X_train[4]\n",
        "plt.imshow(digit,cmap='gray')\n",
        "plt.show()"
      ],
      "execution_count": null,
      "outputs": [
        {
          "output_type": "display_data",
          "data": {
            "image/png": "[encoded data removed]",
            "text/plain": [
              "<Figure size 432x288 with 1 Axes>"
            ]
          },
          "metadata": {
            "tags": [],
            "needs_background": "light"
          }
        }
      ]
    },
    {
      "cell_type": "code",
      "metadata": {
        "colab": {
          "base_uri": "https://localhost:8080/"
        },
        "id": "Gs3nXzMzWZ9y",
        "outputId": "8f9aa65b-726d-414d-8304-34814ab80d06"
      },
      "source": [
        "import numpy as np\n",
        "np.set_printoptions(linewidth=150)\n",
        "\n",
        "print(X_train[4])"
      ],
      "execution_count": null,
      "outputs": [
        {
          "output_type": "stream",
          "text": [
            "[[  0   0   0   0   0   0   0   0   0   0   0   0   0   0   0   0   0   0   0   0   0   0   0   0   0   0   0   0]\n",
            " [  0   0   0   0   0   0   0   0   0   0   0   0   0   0   0   0   0   0   0   0   0   0   0   0   0   0   0   0]\n",
            " [  0   0   0   0   0   0   0   0   0   0   0   0   0   0   0   0   0   0   0   0   0   0   0   0   0   0   0   0]\n",
            " [  0   0   0   0   0   0   0   0   0   0   0   0   0   0   0   0   0   0   0   0   0   0   0   0   0   0   0   0]\n",
            " [  0   0   0   0   0   0   0   0   0   0   0   0   0   0   0   0   0   0   0   0   0   0   0   0   0   0   0   0]\n",
            " [  0   0   0   0   0   0   0   0   0   0   0   0   0   0   0   0   0   0   0   0   0   0   0   0   0   0   0   0]\n",
            " [  0   0   0   0   0   0   0   0   0   0   0   0   0   0   0   0   0   0   0   0   0   0   0   0   0   0   0   0]\n",
            " [  0   0   0   0   0   0   0   0   0   0   0   0  55 148 210 253 253 113  87 148  55   0   0   0   0   0   0   0]\n",
            " [  0   0   0   0   0   0   0   0   0   0   0  87 232 252 253 189 210 252 252 253 168   0   0   0   0   0   0   0]\n",
            " [  0   0   0   0   0   0   0   0   0   4  57 242 252 190  65   5  12 182 252 253 116   0   0   0   0   0   0   0]\n",
            " [  0   0   0   0   0   0   0   0   0  96 252 252 183  14   0   0  92 252 252 225  21   0   0   0   0   0   0   0]\n",
            " [  0   0   0   0   0   0   0   0 132 253 252 146  14   0   0   0 215 252 252  79   0   0   0   0   0   0   0   0]\n",
            " [  0   0   0   0   0   0   0 126 253 247 176   9   0   0   8  78 245 253 129   0   0   0   0   0   0   0   0   0]\n",
            " [  0   0   0   0   0   0  16 232 252 176   0   0   0  36 201 252 252 169  11   0   0   0   0   0   0   0   0   0]\n",
            " [  0   0   0   0   0   0  22 252 252  30  22 119 197 241 253 252 251  77   0   0   0   0   0   0   0   0   0   0]\n",
            " [  0   0   0   0   0   0  16 231 252 253 252 252 252 226 227 252 231   0   0   0   0   0   0   0   0   0   0   0]\n",
            " [  0   0   0   0   0   0   0  55 235 253 217 138  42  24 192 252 143   0   0   0   0   0   0   0   0   0   0   0]\n",
            " [  0   0   0   0   0   0   0   0   0   0   0   0   0  62 255 253 109   0   0   0   0   0   0   0   0   0   0   0]\n",
            " [  0   0   0   0   0   0   0   0   0   0   0   0   0  71 253 252  21   0   0   0   0   0   0   0   0   0   0   0]\n",
            " [  0   0   0   0   0   0   0   0   0   0   0   0   0   0 253 252  21   0   0   0   0   0   0   0   0   0   0   0]\n",
            " [  0   0   0   0   0   0   0   0   0   0   0   0   0  71 253 252  21   0   0   0   0   0   0   0   0   0   0   0]\n",
            " [  0   0   0   0   0   0   0   0   0   0   0   0   0 106 253 252  21   0   0   0   0   0   0   0   0   0   0   0]\n",
            " [  0   0   0   0   0   0   0   0   0   0   0   0   0  45 255 253  21   0   0   0   0   0   0   0   0   0   0   0]\n",
            " [  0   0   0   0   0   0   0   0   0   0   0   0   0   0 218 252  56   0   0   0   0   0   0   0   0   0   0   0]\n",
            " [  0   0   0   0   0   0   0   0   0   0   0   0   0   0  96 252 189  42   0   0   0   0   0   0   0   0   0   0]\n",
            " [  0   0   0   0   0   0   0   0   0   0   0   0   0   0  14 184 252 170  11   0   0   0   0   0   0   0   0   0]\n",
            " [  0   0   0   0   0   0   0   0   0   0   0   0   0   0   0  14 147 252  42   0   0   0   0   0   0   0   0   0]\n",
            " [  0   0   0   0   0   0   0   0   0   0   0   0   0   0   0   0   0   0   0   0   0   0   0   0   0   0   0   0]]\n"
          ],
          "name": "stdout"
        }
      ]
    },
    {
      "cell_type": "markdown",
      "metadata": {
        "id": "ybJ9o3EiXX9X"
      },
      "source": [
        "##  데이터 전처리"
      ]
    },
    {
      "cell_type": "markdown",
      "metadata": {
        "id": "56dtJ4JmXbkU"
      },
      "source": [
        "### Reshape and Nomalization"
      ]
    },
    {
      "cell_type": "code",
      "metadata": {
        "colab": {
          "base_uri": "https://localhost:8080/"
        },
        "id": "OjEpa8jbXvDf",
        "outputId": "126fe172-3d6e-4485-b7f0-bb11df500959"
      },
      "source": [
        "X_train.shape, X_test.shape"
      ],
      "execution_count": null,
      "outputs": [
        {
          "output_type": "execute_result",
          "data": {
            "text/plain": [
              "((60000, 28, 28), (10000, 28, 28))"
            ]
          },
          "metadata": {
            "tags": []
          },
          "execution_count": 7
        }
      ]
    },
    {
      "cell_type": "code",
      "metadata": {
        "colab": {
          "base_uri": "https://localhost:8080/"
        },
        "id": "uhpkyguTXLa8",
        "outputId": "3557fda9-1fd0-478f-f24e-bd4e99f6ae97"
      },
      "source": [
        "X_train = X_train.reshape((60000,28*28))\n",
        "X_test = X_test.reshape((10000,28*28))\n",
        "\n",
        "X_train.shape,X_test.shape"
      ],
      "execution_count": null,
      "outputs": [
        {
          "output_type": "execute_result",
          "data": {
            "text/plain": [
              "((60000, 784), (10000, 784))"
            ]
          },
          "metadata": {
            "tags": []
          },
          "execution_count": 8
        }
      ]
    },
    {
      "cell_type": "code",
      "metadata": {
        "id": "2kLT3Nx9XzPI"
      },
      "source": [
        "X_train=X_train.astype(float)/255\n",
        "X_test=X_test.astype(float)/255"
      ],
      "execution_count": null,
      "outputs": []
    },
    {
      "cell_type": "markdown",
      "metadata": {
        "id": "15N2vcenYHjQ"
      },
      "source": [
        "### 2) One Hot Encoding"
      ]
    },
    {
      "cell_type": "code",
      "metadata": {
        "id": "9GhluPgZYF3s"
      },
      "source": [
        "from tensorflow.keras.utils import to_categorical\n",
        "\n",
        "y_train = to_categorical(y_train)\n",
        "y_test = to_categorical(y_test)"
      ],
      "execution_count": null,
      "outputs": []
    },
    {
      "cell_type": "code",
      "metadata": {
        "colab": {
          "base_uri": "https://localhost:8080/"
        },
        "id": "vWb9cWmlYjOW",
        "outputId": "4592b42d-3119-44e8-8199-986f9a7c3982"
      },
      "source": [
        "print(y_train[:5])"
      ],
      "execution_count": null,
      "outputs": [
        {
          "output_type": "stream",
          "text": [
            "[[0. 0. 0. 0. 0. 1. 0. 0. 0. 0.]\n",
            " [1. 0. 0. 0. 0. 0. 0. 0. 0. 0.]\n",
            " [0. 0. 0. 0. 1. 0. 0. 0. 0. 0.]\n",
            " [0. 1. 0. 0. 0. 0. 0. 0. 0. 0.]\n",
            " [0. 0. 0. 0. 0. 0. 0. 0. 0. 1.]]\n"
          ],
          "name": "stdout"
        }
      ]
    },
    {
      "cell_type": "markdown",
      "metadata": {
        "id": "r7hUzGC_Y6h8"
      },
      "source": [
        "## MNIST keras modeling"
      ]
    },
    {
      "cell_type": "markdown",
      "metadata": {
        "id": "3qCpANJvY_MI"
      },
      "source": [
        "### 1) Model Define"
      ]
    },
    {
      "cell_type": "code",
      "metadata": {
        "id": "mXuPQFmoY3LP"
      },
      "source": [
        "from tensorflow.keras import models\n",
        "from tensorflow.keras import layers\n",
        "\n",
        "# Sequential은 레이어의 선형 스택을 tf.keras.Model로 그룹화합니다. \n",
        "# Sequential은 이 모델에 대한 학습 및 추론 기능을 제공합니다.\n",
        "\n",
        "mnist = models.Sequential()\n",
        "\n",
        "mnist.add(layers.Dense(512,activation='relu',input_shape=(28*28,)))\n",
        "mnist.add(layers.Dense(256,activation='relu'))\n",
        "mnist.add(layers.Dense(10,activation='softmax'))"
      ],
      "execution_count": null,
      "outputs": []
    },
    {
      "cell_type": "code",
      "metadata": {
        "colab": {
          "base_uri": "https://localhost:8080/"
        },
        "id": "sTDlI0kHZzwl",
        "outputId": "f36d1338-b5b2-4426-dfea-be786acc0ff2"
      },
      "source": [
        "# 모델의 구조 확인\n",
        "mnist.summary()"
      ],
      "execution_count": null,
      "outputs": [
        {
          "output_type": "stream",
          "text": [
            "Model: \"sequential\"\n",
            "_________________________________________________________________\n",
            "Layer (type)                 Output Shape              Param #   \n",
            "=================================================================\n",
            "dense (Dense)                (None, 512)               401920    \n",
            "_________________________________________________________________\n",
            "dense_1 (Dense)              (None, 256)               131328    \n",
            "_________________________________________________________________\n",
            "dense_2 (Dense)              (None, 10)                2570      \n",
            "=================================================================\n",
            "Total params: 535,818\n",
            "Trainable params: 535,818\n",
            "Non-trainable params: 0\n",
            "_________________________________________________________________\n"
          ],
          "name": "stdout"
        }
      ]
    },
    {
      "cell_type": "markdown",
      "metadata": {
        "id": "pToidKcmaf5Q"
      },
      "source": [
        "### 2) Model Compile"
      ]
    },
    {
      "cell_type": "code",
      "metadata": {
        "id": "S0DBCu1daYUi"
      },
      "source": [
        "mnist.compile(loss='categorical_crossentropy',\n",
        "              optimizer='adam',\n",
        "              metrics=['accuracy'])"
      ],
      "execution_count": null,
      "outputs": []
    },
    {
      "cell_type": "code",
      "metadata": {
        "colab": {
          "base_uri": "https://localhost:8080/"
        },
        "id": "EqV2GlNta7fg",
        "outputId": "d8a068cc-4554-4a38-bda1-19d1918901d0"
      },
      "source": [
        "%%time\n",
        "# 60000*0.8/128=375\n",
        "Hist_mnist = mnist.fit(X_train,y_train,\n",
        "                 epochs = 100,\n",
        "                 batch_size=128,\n",
        "                 validation_split = 0.2)"
      ],
      "execution_count": null,
      "outputs": [
        {
          "output_type": "stream",
          "text": [
            "Epoch 1/100\n",
            "375/375 [==============================] - 5s 5ms/step - loss: 0.2599 - accuracy: 0.9250 - val_loss: 0.1402 - val_accuracy: 0.9592\n",
            "Epoch 2/100\n",
            "375/375 [==============================] - 2s 5ms/step - loss: 0.0931 - accuracy: 0.9720 - val_loss: 0.0947 - val_accuracy: 0.9704\n",
            "Epoch 3/100\n",
            "375/375 [==============================] - 2s 4ms/step - loss: 0.0590 - accuracy: 0.9812 - val_loss: 0.1058 - val_accuracy: 0.9693\n",
            "Epoch 4/100\n",
            "375/375 [==============================] - 2s 4ms/step - loss: 0.0400 - accuracy: 0.9881 - val_loss: 0.0805 - val_accuracy: 0.9767\n",
            "Epoch 5/100\n",
            "375/375 [==============================] - 2s 4ms/step - loss: 0.0264 - accuracy: 0.9918 - val_loss: 0.0799 - val_accuracy: 0.9794\n",
            "Epoch 6/100\n",
            "375/375 [==============================] - 2s 4ms/step - loss: 0.0221 - accuracy: 0.9929 - val_loss: 0.0833 - val_accuracy: 0.9785\n",
            "Epoch 7/100\n",
            "375/375 [==============================] - 2s 4ms/step - loss: 0.0180 - accuracy: 0.9941 - val_loss: 0.1147 - val_accuracy: 0.9722\n",
            "Epoch 8/100\n",
            "375/375 [==============================] - 2s 4ms/step - loss: 0.0178 - accuracy: 0.9940 - val_loss: 0.1028 - val_accuracy: 0.9758\n",
            "Epoch 9/100\n",
            "375/375 [==============================] - 2s 4ms/step - loss: 0.0142 - accuracy: 0.9951 - val_loss: 0.0910 - val_accuracy: 0.9778\n",
            "Epoch 10/100\n",
            "375/375 [==============================] - 2s 4ms/step - loss: 0.0102 - accuracy: 0.9967 - val_loss: 0.0963 - val_accuracy: 0.9796\n",
            "Epoch 11/100\n",
            "375/375 [==============================] - 2s 4ms/step - loss: 0.0072 - accuracy: 0.9974 - val_loss: 0.1187 - val_accuracy: 0.9758\n",
            "Epoch 12/100\n",
            "375/375 [==============================] - 2s 4ms/step - loss: 0.0159 - accuracy: 0.9946 - val_loss: 0.1186 - val_accuracy: 0.9740\n",
            "Epoch 13/100\n",
            "375/375 [==============================] - 2s 4ms/step - loss: 0.0140 - accuracy: 0.9949 - val_loss: 0.1045 - val_accuracy: 0.9786\n",
            "Epoch 14/100\n",
            "375/375 [==============================] - 2s 4ms/step - loss: 0.0087 - accuracy: 0.9970 - val_loss: 0.1122 - val_accuracy: 0.9779\n",
            "Epoch 15/100\n",
            "375/375 [==============================] - 2s 4ms/step - loss: 0.0086 - accuracy: 0.9970 - val_loss: 0.1052 - val_accuracy: 0.9797\n",
            "Epoch 16/100\n",
            "375/375 [==============================] - 2s 4ms/step - loss: 0.0061 - accuracy: 0.9978 - val_loss: 0.1052 - val_accuracy: 0.9797\n",
            "Epoch 17/100\n",
            "375/375 [==============================] - 2s 4ms/step - loss: 0.0039 - accuracy: 0.9986 - val_loss: 0.1133 - val_accuracy: 0.9794\n",
            "Epoch 18/100\n",
            "375/375 [==============================] - 2s 4ms/step - loss: 0.0085 - accuracy: 0.9969 - val_loss: 0.1305 - val_accuracy: 0.9761\n",
            "Epoch 19/100\n",
            "375/375 [==============================] - 2s 4ms/step - loss: 0.0130 - accuracy: 0.9957 - val_loss: 0.1181 - val_accuracy: 0.9780\n",
            "Epoch 20/100\n",
            "375/375 [==============================] - 2s 4ms/step - loss: 0.0064 - accuracy: 0.9976 - val_loss: 0.1086 - val_accuracy: 0.9785\n",
            "Epoch 21/100\n",
            "375/375 [==============================] - 2s 4ms/step - loss: 0.0050 - accuracy: 0.9984 - val_loss: 0.1269 - val_accuracy: 0.9775\n",
            "Epoch 22/100\n",
            "375/375 [==============================] - 2s 4ms/step - loss: 0.0052 - accuracy: 0.9987 - val_loss: 0.1159 - val_accuracy: 0.9798\n",
            "Epoch 23/100\n",
            "375/375 [==============================] - 2s 4ms/step - loss: 0.0041 - accuracy: 0.9989 - val_loss: 0.1354 - val_accuracy: 0.9773\n",
            "Epoch 24/100\n",
            "375/375 [==============================] - 2s 4ms/step - loss: 0.0077 - accuracy: 0.9978 - val_loss: 0.1240 - val_accuracy: 0.9795\n",
            "Epoch 25/100\n",
            "375/375 [==============================] - 2s 5ms/step - loss: 0.0050 - accuracy: 0.9984 - val_loss: 0.1441 - val_accuracy: 0.9766\n",
            "Epoch 26/100\n",
            "375/375 [==============================] - 2s 4ms/step - loss: 0.0097 - accuracy: 0.9970 - val_loss: 0.1481 - val_accuracy: 0.9771\n",
            "Epoch 27/100\n",
            "375/375 [==============================] - 2s 4ms/step - loss: 0.0044 - accuracy: 0.9987 - val_loss: 0.1348 - val_accuracy: 0.9787\n",
            "Epoch 28/100\n",
            "375/375 [==============================] - 2s 4ms/step - loss: 0.0056 - accuracy: 0.9983 - val_loss: 0.1496 - val_accuracy: 0.9762\n",
            "Epoch 29/100\n",
            "375/375 [==============================] - 2s 4ms/step - loss: 0.0079 - accuracy: 0.9973 - val_loss: 0.1573 - val_accuracy: 0.9757\n",
            "Epoch 30/100\n",
            "375/375 [==============================] - 2s 4ms/step - loss: 0.0038 - accuracy: 0.9986 - val_loss: 0.1285 - val_accuracy: 0.9807\n",
            "Epoch 31/100\n",
            "375/375 [==============================] - 2s 5ms/step - loss: 0.0039 - accuracy: 0.9990 - val_loss: 0.1355 - val_accuracy: 0.9788\n",
            "Epoch 32/100\n",
            "375/375 [==============================] - 2s 5ms/step - loss: 0.0034 - accuracy: 0.9990 - val_loss: 0.1409 - val_accuracy: 0.9766\n",
            "Epoch 33/100\n",
            "375/375 [==============================] - 2s 5ms/step - loss: 0.0064 - accuracy: 0.9982 - val_loss: 0.1353 - val_accuracy: 0.9794\n",
            "Epoch 34/100\n",
            "375/375 [==============================] - 2s 5ms/step - loss: 0.0067 - accuracy: 0.9979 - val_loss: 0.1267 - val_accuracy: 0.9797\n",
            "Epoch 35/100\n",
            "375/375 [==============================] - 2s 5ms/step - loss: 0.0052 - accuracy: 0.9984 - val_loss: 0.1258 - val_accuracy: 0.9797\n",
            "Epoch 36/100\n",
            "375/375 [==============================] - 2s 5ms/step - loss: 0.0020 - accuracy: 0.9994 - val_loss: 0.1339 - val_accuracy: 0.9799\n",
            "Epoch 37/100\n",
            "375/375 [==============================] - 2s 5ms/step - loss: 0.0084 - accuracy: 0.9978 - val_loss: 0.1225 - val_accuracy: 0.9821\n",
            "Epoch 38/100\n",
            "375/375 [==============================] - 2s 4ms/step - loss: 0.0015 - accuracy: 0.9995 - val_loss: 0.1337 - val_accuracy: 0.9807\n",
            "Epoch 39/100\n",
            "375/375 [==============================] - 2s 5ms/step - loss: 0.0048 - accuracy: 0.9984 - val_loss: 0.1394 - val_accuracy: 0.9812\n",
            "Epoch 40/100\n",
            "375/375 [==============================] - 2s 5ms/step - loss: 0.0024 - accuracy: 0.9992 - val_loss: 0.1287 - val_accuracy: 0.9827\n",
            "Epoch 41/100\n",
            "375/375 [==============================] - 2s 4ms/step - loss: 0.0046 - accuracy: 0.9989 - val_loss: 0.1299 - val_accuracy: 0.9805\n",
            "Epoch 42/100\n",
            "375/375 [==============================] - 2s 4ms/step - loss: 0.0013 - accuracy: 0.9997 - val_loss: 0.1553 - val_accuracy: 0.9783\n",
            "Epoch 43/100\n",
            "375/375 [==============================] - 2s 4ms/step - loss: 0.0051 - accuracy: 0.9984 - val_loss: 0.1800 - val_accuracy: 0.9768\n",
            "Epoch 44/100\n",
            "375/375 [==============================] - 2s 4ms/step - loss: 0.0073 - accuracy: 0.9977 - val_loss: 0.1569 - val_accuracy: 0.9786\n",
            "Epoch 45/100\n",
            "375/375 [==============================] - 2s 5ms/step - loss: 0.0050 - accuracy: 0.9986 - val_loss: 0.1403 - val_accuracy: 0.9789\n",
            "Epoch 46/100\n",
            "375/375 [==============================] - 2s 5ms/step - loss: 0.0027 - accuracy: 0.9991 - val_loss: 0.1499 - val_accuracy: 0.9798\n",
            "Epoch 47/100\n",
            "375/375 [==============================] - 2s 5ms/step - loss: 0.0059 - accuracy: 0.9989 - val_loss: 0.1476 - val_accuracy: 0.9775\n",
            "Epoch 48/100\n",
            "375/375 [==============================] - 2s 5ms/step - loss: 0.0031 - accuracy: 0.9989 - val_loss: 0.1541 - val_accuracy: 0.9795\n",
            "Epoch 49/100\n",
            "375/375 [==============================] - 2s 4ms/step - loss: 0.0035 - accuracy: 0.9989 - val_loss: 0.1603 - val_accuracy: 0.9791\n",
            "Epoch 50/100\n",
            "375/375 [==============================] - 2s 4ms/step - loss: 0.0048 - accuracy: 0.9987 - val_loss: 0.1723 - val_accuracy: 0.9772\n",
            "Epoch 51/100\n",
            "375/375 [==============================] - 2s 4ms/step - loss: 0.0049 - accuracy: 0.9985 - val_loss: 0.1492 - val_accuracy: 0.9791\n",
            "Epoch 52/100\n",
            "375/375 [==============================] - 2s 4ms/step - loss: 6.8259e-04 - accuracy: 0.9998 - val_loss: 0.1415 - val_accuracy: 0.9822\n",
            "Epoch 53/100\n",
            "375/375 [==============================] - 2s 4ms/step - loss: 7.3641e-05 - accuracy: 1.0000 - val_loss: 0.1352 - val_accuracy: 0.9833\n",
            "Epoch 54/100\n",
            "375/375 [==============================] - 2s 5ms/step - loss: 1.4296e-05 - accuracy: 1.0000 - val_loss: 0.1364 - val_accuracy: 0.9829\n",
            "Epoch 55/100\n",
            "375/375 [==============================] - 2s 4ms/step - loss: 9.1051e-06 - accuracy: 1.0000 - val_loss: 0.1371 - val_accuracy: 0.9830\n",
            "Epoch 56/100\n",
            "375/375 [==============================] - 2s 4ms/step - loss: 7.3050e-06 - accuracy: 1.0000 - val_loss: 0.1377 - val_accuracy: 0.9831\n",
            "Epoch 57/100\n",
            "375/375 [==============================] - 2s 4ms/step - loss: 6.0449e-06 - accuracy: 1.0000 - val_loss: 0.1383 - val_accuracy: 0.9830\n",
            "Epoch 58/100\n",
            "375/375 [==============================] - 2s 4ms/step - loss: 5.0536e-06 - accuracy: 1.0000 - val_loss: 0.1389 - val_accuracy: 0.9827\n",
            "Epoch 59/100\n",
            "375/375 [==============================] - 2s 4ms/step - loss: 4.2603e-06 - accuracy: 1.0000 - val_loss: 0.1396 - val_accuracy: 0.9827\n",
            "Epoch 60/100\n",
            "375/375 [==============================] - 2s 4ms/step - loss: 3.6095e-06 - accuracy: 1.0000 - val_loss: 0.1403 - val_accuracy: 0.9828\n",
            "Epoch 61/100\n",
            "375/375 [==============================] - 2s 5ms/step - loss: 3.0611e-06 - accuracy: 1.0000 - val_loss: 0.1411 - val_accuracy: 0.9827\n",
            "Epoch 62/100\n",
            "375/375 [==============================] - 2s 5ms/step - loss: 2.5926e-06 - accuracy: 1.0000 - val_loss: 0.1417 - val_accuracy: 0.9827\n",
            "Epoch 63/100\n",
            "375/375 [==============================] - 2s 5ms/step - loss: 2.1969e-06 - accuracy: 1.0000 - val_loss: 0.1425 - val_accuracy: 0.9827\n",
            "Epoch 64/100\n",
            "375/375 [==============================] - 2s 5ms/step - loss: 1.8580e-06 - accuracy: 1.0000 - val_loss: 0.1432 - val_accuracy: 0.9827\n",
            "Epoch 65/100\n",
            "375/375 [==============================] - 2s 4ms/step - loss: 1.5706e-06 - accuracy: 1.0000 - val_loss: 0.1441 - val_accuracy: 0.9826\n",
            "Epoch 66/100\n",
            "375/375 [==============================] - 2s 5ms/step - loss: 1.3228e-06 - accuracy: 1.0000 - val_loss: 0.1449 - val_accuracy: 0.9827\n",
            "Epoch 67/100\n",
            "375/375 [==============================] - 2s 4ms/step - loss: 1.1123e-06 - accuracy: 1.0000 - val_loss: 0.1460 - val_accuracy: 0.9827\n",
            "Epoch 68/100\n",
            "375/375 [==============================] - 2s 5ms/step - loss: 9.3194e-07 - accuracy: 1.0000 - val_loss: 0.1470 - val_accuracy: 0.9826\n",
            "Epoch 69/100\n",
            "375/375 [==============================] - 2s 5ms/step - loss: 7.7811e-07 - accuracy: 1.0000 - val_loss: 0.1480 - val_accuracy: 0.9827\n",
            "Epoch 70/100\n",
            "375/375 [==============================] - 2s 4ms/step - loss: 6.4688e-07 - accuracy: 1.0000 - val_loss: 0.1491 - val_accuracy: 0.9828\n",
            "Epoch 71/100\n",
            "375/375 [==============================] - 2s 4ms/step - loss: 5.3569e-07 - accuracy: 1.0000 - val_loss: 0.1506 - val_accuracy: 0.9827\n",
            "Epoch 72/100\n",
            "375/375 [==============================] - 2s 5ms/step - loss: 4.3754e-07 - accuracy: 1.0000 - val_loss: 0.1521 - val_accuracy: 0.9829\n",
            "Epoch 73/100\n",
            "375/375 [==============================] - 2s 4ms/step - loss: 3.5144e-07 - accuracy: 1.0000 - val_loss: 0.1539 - val_accuracy: 0.9829\n",
            "Epoch 74/100\n",
            "375/375 [==============================] - 2s 5ms/step - loss: 2.7565e-07 - accuracy: 1.0000 - val_loss: 0.1563 - val_accuracy: 0.9831\n",
            "Epoch 75/100\n",
            "375/375 [==============================] - 2s 4ms/step - loss: 2.0956e-07 - accuracy: 1.0000 - val_loss: 0.1587 - val_accuracy: 0.9830\n",
            "Epoch 76/100\n",
            "375/375 [==============================] - 2s 4ms/step - loss: 1.5912e-07 - accuracy: 1.0000 - val_loss: 0.1620 - val_accuracy: 0.9832\n",
            "Epoch 77/100\n",
            "375/375 [==============================] - 2s 4ms/step - loss: 1.1906e-07 - accuracy: 1.0000 - val_loss: 0.1644 - val_accuracy: 0.9833\n",
            "Epoch 78/100\n",
            "375/375 [==============================] - 2s 5ms/step - loss: 9.1197e-08 - accuracy: 1.0000 - val_loss: 0.1673 - val_accuracy: 0.9833\n",
            "Epoch 79/100\n",
            "375/375 [==============================] - 2s 4ms/step - loss: 7.0318e-08 - accuracy: 1.0000 - val_loss: 0.1706 - val_accuracy: 0.9832\n",
            "Epoch 80/100\n",
            "375/375 [==============================] - 2s 5ms/step - loss: 5.5132e-08 - accuracy: 1.0000 - val_loss: 0.1730 - val_accuracy: 0.9831\n",
            "Epoch 81/100\n",
            "375/375 [==============================] - 2s 5ms/step - loss: 4.4418e-08 - accuracy: 1.0000 - val_loss: 0.1755 - val_accuracy: 0.9830\n",
            "Epoch 82/100\n",
            "375/375 [==============================] - 2s 4ms/step - loss: 3.6185e-08 - accuracy: 1.0000 - val_loss: 0.1781 - val_accuracy: 0.9830\n",
            "Epoch 83/100\n",
            "375/375 [==============================] - 2s 5ms/step - loss: 2.9663e-08 - accuracy: 1.0000 - val_loss: 0.1804 - val_accuracy: 0.9831\n",
            "Epoch 84/100\n",
            "375/375 [==============================] - 2s 4ms/step - loss: 2.4719e-08 - accuracy: 1.0000 - val_loss: 0.1823 - val_accuracy: 0.9831\n",
            "Epoch 85/100\n",
            "375/375 [==============================] - 2s 5ms/step - loss: 2.0646e-08 - accuracy: 1.0000 - val_loss: 0.1839 - val_accuracy: 0.9830\n",
            "Epoch 86/100\n",
            "375/375 [==============================] - 2s 5ms/step - loss: 1.7566e-08 - accuracy: 1.0000 - val_loss: 0.1857 - val_accuracy: 0.9830\n",
            "Epoch 87/100\n",
            "375/375 [==============================] - 2s 4ms/step - loss: 1.4916e-08 - accuracy: 1.0000 - val_loss: 0.1876 - val_accuracy: 0.9830\n",
            "Epoch 88/100\n",
            "375/375 [==============================] - 2s 5ms/step - loss: 1.2959e-08 - accuracy: 1.0000 - val_loss: 0.1889 - val_accuracy: 0.9830\n",
            "Epoch 89/100\n",
            "375/375 [==============================] - 2s 4ms/step - loss: 1.1134e-08 - accuracy: 1.0000 - val_loss: 0.1906 - val_accuracy: 0.9829\n",
            "Epoch 90/100\n",
            "375/375 [==============================] - 2s 5ms/step - loss: 9.5218e-09 - accuracy: 1.0000 - val_loss: 0.1917 - val_accuracy: 0.9828\n",
            "Epoch 91/100\n",
            "375/375 [==============================] - 2s 4ms/step - loss: 8.4365e-09 - accuracy: 1.0000 - val_loss: 0.1932 - val_accuracy: 0.9830\n",
            "Epoch 92/100\n",
            "375/375 [==============================] - 2s 5ms/step - loss: 7.2494e-09 - accuracy: 1.0000 - val_loss: 0.1943 - val_accuracy: 0.9829\n",
            "Epoch 93/100\n",
            "375/375 [==============================] - 2s 5ms/step - loss: 6.4621e-09 - accuracy: 1.0000 - val_loss: 0.1953 - val_accuracy: 0.9830\n",
            "Epoch 94/100\n",
            "375/375 [==============================] - 2s 4ms/step - loss: 5.6177e-09 - accuracy: 1.0000 - val_loss: 0.1964 - val_accuracy: 0.9829\n",
            "Epoch 95/100\n",
            "375/375 [==============================] - 2s 5ms/step - loss: 5.0291e-09 - accuracy: 1.0000 - val_loss: 0.1973 - val_accuracy: 0.9828\n",
            "Epoch 96/100\n",
            "375/375 [==============================] - 2s 4ms/step - loss: 4.4256e-09 - accuracy: 1.0000 - val_loss: 0.1981 - val_accuracy: 0.9828\n",
            "Epoch 97/100\n",
            "375/375 [==============================] - 2s 4ms/step - loss: 3.9289e-09 - accuracy: 1.0000 - val_loss: 0.1990 - val_accuracy: 0.9829\n",
            "Epoch 98/100\n",
            "375/375 [==============================] - 2s 5ms/step - loss: 3.5341e-09 - accuracy: 1.0000 - val_loss: 0.2001 - val_accuracy: 0.9828\n",
            "Epoch 99/100\n",
            "375/375 [==============================] - 2s 5ms/step - loss: 3.1541e-09 - accuracy: 1.0000 - val_loss: 0.2007 - val_accuracy: 0.9828\n",
            "Epoch 100/100\n",
            "375/375 [==============================] - 2s 5ms/step - loss: 2.8511e-09 - accuracy: 1.0000 - val_loss: 0.2013 - val_accuracy: 0.9827\n",
            "CPU times: user 2min 51s, sys: 26.4 s, total: 3min 17s\n",
            "Wall time: 3min 22s\n"
          ],
          "name": "stdout"
        }
      ]
    },
    {
      "cell_type": "markdown",
      "metadata": {
        "id": "BoGgvD4xb6zX"
      },
      "source": [
        "### 4) 학습결과 시각화 - overfitting\n",
        "- Loss Visualization"
      ]
    },
    {
      "cell_type": "code",
      "metadata": {
        "colab": {
          "base_uri": "https://localhost:8080/",
          "height": 404
        },
        "id": "5yElbVN_bOxx",
        "outputId": "86e32cca-5fa3-40a2-df04-78efee5d6b7e"
      },
      "source": [
        "import matplotlib.pyplot as plt\n",
        "\n",
        "epochs = range(1,len(Hist_mnist.history['loss'])+1)\n",
        "\n",
        "plt.figure(figsize = (9, 6))\n",
        "plt.plot(epochs, Hist_mnist.history['loss'])\n",
        "plt.plot(epochs, Hist_mnist.history['val_loss'])\n",
        "# plt.ylim(0, 0.25)\n",
        "plt.title('Training & Validation Loss')\n",
        "plt.xlabel('Epochs')\n",
        "plt.ylabel('Loss')\n",
        "plt.legend(['Training Loss', 'Validation Loss'])\n",
        "plt.grid()\n",
        "plt.show()"
      ],
      "execution_count": null,
      "outputs": [
        {
          "output_type": "display_data",
          "data": {
            "image/png": "[encoded data removed]",
            "text/plain": [
              "<Figure size 648x432 with 1 Axes>"
            ]
          },
          "metadata": {
            "tags": [],
            "needs_background": "light"
          }
        }
      ]
    },
    {
      "cell_type": "markdown",
      "metadata": {
        "id": "vNeiYnjPcjW8"
      },
      "source": [
        "### 5) Model Evaluate\n",
        "- Loss & Accuracy"
      ]
    },
    {
      "cell_type": "code",
      "metadata": {
        "colab": {
          "base_uri": "https://localhost:8080/"
        },
        "id": "oYGhG7NmccRP",
        "outputId": "13ad9489-9046-46a0-d07f-ac9b0a870e89"
      },
      "source": [
        "loss, accuracy = mnist.evaluate(X_test,y_test)\n",
        "print('Loss = {:.5f}'.format(loss))\n",
        "print('Accuracy = {:.5f}'.format(accuracy))"
      ],
      "execution_count": null,
      "outputs": [
        {
          "output_type": "stream",
          "text": [
            "313/313 [==============================] - 1s 3ms/step - loss: 0.1510 - accuracy: 0.9851\n",
            "Loss = 0.15096\n",
            "Accuracy = 0.98510\n"
          ],
          "name": "stdout"
        }
      ]
    },
    {
      "cell_type": "markdown",
      "metadata": {
        "id": "Ttmd_yQtdJ82"
      },
      "source": [
        "### 6) Model Predicttion\n",
        "- Probablity"
      ]
    },
    {
      "cell_type": "code",
      "metadata": {
        "colab": {
          "base_uri": "https://localhost:8080/"
        },
        "id": "RqOwrDSWci2b",
        "outputId": "2a7e86b5-f691-4814-fd0f-be1e91e97890"
      },
      "source": [
        "np.set_printoptions(suppress=True,precision=9)\n",
        "\n",
        "print(mnist.predict(X_test[:1,:]))"
      ],
      "execution_count": null,
      "outputs": [
        {
          "output_type": "stream",
          "text": [
            "[[0. 0. 0. 0. 0. 0. 0. 1. 0. 0.]]\n"
          ],
          "name": "stdout"
        }
      ]
    },
    {
      "cell_type": "code",
      "metadata": {
        "colab": {
          "base_uri": "https://localhost:8080/"
        },
        "id": "B_rDzFVxdoyt",
        "outputId": "e42b76fd-fd39-45ff-d56b-991a6ed14a5d"
      },
      "source": [
        "print(mnist.predict_classes(X_test[:1,:]))"
      ],
      "execution_count": null,
      "outputs": [
        {
          "output_type": "stream",
          "text": [
            "[7]\n"
          ],
          "name": "stdout"
        }
      ]
    },
    {
      "cell_type": "markdown",
      "metadata": {
        "id": "OYGXrHTgkmrh"
      },
      "source": [
        "## keras Modeling - Categorical Classification\n",
        "- overfitting issues\n",
        "\n",
        " train_loss 와 validation_loss 의 차이가 크게 발생\n",
        " \n",
        " 발생원인\n",
        " 1. 학습데이터 부족\n",
        " 2. 모델의 capacity가 너무 높음\n",
        "> 파라미터가 너무 많거나 복잡한 경우\n",
        " \n",
        "언더피팅은 트레이닝과 테스트 모두 안좋아짐\n",
        "\n",
        "2번의 해결책\n",
        "\n",
        "1) model의 capacity 감소전략 \n",
        " \n",
        " > 파라미터의 개수를 줄여라! ->\n",
        " > 히든레이어와 파라미터의 개수를 줄인다\n",
        "\n",
        " 큰 모델을 만들어 놓고 점차 축소시켜 간략하게 만든다. \n",
        " 혹은 작은 모델을 만들고 점차 키워간다. \n",
        " \n",
        " 2) L2 Regularization \n",
        " \n",
        "  규제화: 강제로 규제를 강해서 학습을 방해한다. \n",
        "  \n",
        "  $mean(y-\\hat y)^2 + \\alpha*\\sum(w)^2$ -> L2\n",
        "  \n",
        "  or \n",
        "\n",
        "  $mean(y-\\hat y)^2 + \\alpha*\\sum |w|$ -> L1\n",
        "\n",
        "  충분히 학습이 되지 않을 수 있어 크게 봤을때 모델의 성능에 부정적인 영향을 미친다. 그러나 오버피팅 이슈를 피할 수 있다. 일반화된 모델을 만들기 위해서 감수\n",
        "\n",
        "3) Dropout\n",
        "\n",
        " 학습과정에서 일부 출력 네트워크를 무작위로 끊어버린다. \n",
        "\n",
        " ` mnist.add(layers.Dropout(0.2))`\n",
        "\n",
        " L2와 마찬가지로 성능은 떨어지게 된다. 그러나 파라미터는 줄어들지 않는다. \n",
        "\n",
        "4) Batch nomalization\n",
        "\n",
        "정규화된 체로 들어갔지만 레이어를 지나면서 데이터의 분포가 바뀌게 된다. 그래서 중간마다 스케일링(표준화)을 하는 것을 batch normalization이라 한다. \n",
        "\n",
        "`mnist.add(layer.BatchNomalization)`\n",
        "\n",
        "`mnist.add(activation='reru')`\n",
        "\n",
        "파라미터를 줄이지 않고 학습할 수 있다. capacity를 떨어틀이지 않는다. "
      ]
    },
    {
      "cell_type": "markdown",
      "metadata": {
        "id": "8UjoDs8R1tHR"
      },
      "source": [
        "## L2"
      ]
    },
    {
      "cell_type": "code",
      "metadata": {
        "id": "Aj_7O--Vky53"
      },
      "source": [
        "from tensorflow.keras import models\n",
        "from tensorflow.keras import layers\n",
        "from tensorflow.keras import regularizers\n",
        "\n",
        "# Sequential은 레이어의 선형 스택을 tf.keras.Model로 그룹화합니다. \n",
        "# Sequential은 이 모델에 대한 학습 및 추론 기능을 제공합니다.\n",
        "\n",
        "mnist = models.Sequential()\n",
        "\n",
        "mnist.add(layers.Dense(512,activation='relu',\n",
        "                       kernel_regularizer = regularizers.l2(0.00001),\n",
        "                       input_shape=(28*28,)))\n",
        "mnist.add(layers.Dense(256,activation='relu',\n",
        "                       kernel_regularizer = regularizers.l2(0.00001)))\n",
        "mnist.add(layers.Dense(10,activation='softmax'))"
      ],
      "execution_count": null,
      "outputs": []
    },
    {
      "cell_type": "code",
      "metadata": {
        "id": "J7IRyUuV02_x"
      },
      "source": [
        "mnist.compile(loss='categorical_crossentropy',\n",
        "              optimizer='adam',\n",
        "              metrics=['accuracy'])"
      ],
      "execution_count": null,
      "outputs": []
    },
    {
      "cell_type": "code",
      "metadata": {
        "colab": {
          "base_uri": "https://localhost:8080/"
        },
        "id": "oq__gp991W1c",
        "outputId": "81f73816-f243-4b62-9278-3c4c4e6df542"
      },
      "source": [
        "%%time\n",
        "# 60000*0.8/128=375\n",
        "Hist_mnist = mnist.fit(X_train,y_train,\n",
        "                 epochs = 100,\n",
        "                 batch_size=128,\n",
        "                 validation_split = 0.2)"
      ],
      "execution_count": null,
      "outputs": [
        {
          "output_type": "stream",
          "text": [
            "Epoch 1/100\n",
            "375/375 [==============================] - 2s 5ms/step - loss: 0.2593 - accuracy: 0.9265 - val_loss: 0.1657 - val_accuracy: 0.9517\n",
            "Epoch 2/100\n",
            "375/375 [==============================] - 2s 5ms/step - loss: 0.1035 - accuracy: 0.9715 - val_loss: 0.1064 - val_accuracy: 0.9703\n",
            "Epoch 3/100\n",
            "375/375 [==============================] - 2s 5ms/step - loss: 0.0694 - accuracy: 0.9818 - val_loss: 0.0979 - val_accuracy: 0.9742\n",
            "Epoch 4/100\n",
            "375/375 [==============================] - 2s 5ms/step - loss: 0.0519 - accuracy: 0.9876 - val_loss: 0.0974 - val_accuracy: 0.9747\n",
            "Epoch 5/100\n",
            "375/375 [==============================] - 2s 5ms/step - loss: 0.0415 - accuracy: 0.9908 - val_loss: 0.0934 - val_accuracy: 0.9771\n",
            "Epoch 6/100\n",
            "375/375 [==============================] - 2s 5ms/step - loss: 0.0365 - accuracy: 0.9925 - val_loss: 0.0956 - val_accuracy: 0.9762\n",
            "Epoch 7/100\n",
            "375/375 [==============================] - 2s 5ms/step - loss: 0.0309 - accuracy: 0.9946 - val_loss: 0.1003 - val_accuracy: 0.9779\n",
            "Epoch 8/100\n",
            "375/375 [==============================] - 2s 5ms/step - loss: 0.0308 - accuracy: 0.9944 - val_loss: 0.1126 - val_accuracy: 0.9740\n",
            "Epoch 9/100\n",
            "375/375 [==============================] - 2s 5ms/step - loss: 0.0307 - accuracy: 0.9947 - val_loss: 0.1167 - val_accuracy: 0.9752\n",
            "Epoch 10/100\n",
            "375/375 [==============================] - 2s 5ms/step - loss: 0.0343 - accuracy: 0.9935 - val_loss: 0.1091 - val_accuracy: 0.9782\n",
            "Epoch 11/100\n",
            "375/375 [==============================] - 2s 5ms/step - loss: 0.0252 - accuracy: 0.9970 - val_loss: 0.1110 - val_accuracy: 0.9772\n",
            "Epoch 12/100\n",
            "375/375 [==============================] - 2s 5ms/step - loss: 0.0269 - accuracy: 0.9963 - val_loss: 0.1526 - val_accuracy: 0.9707\n",
            "Epoch 13/100\n",
            "375/375 [==============================] - 2s 5ms/step - loss: 0.0299 - accuracy: 0.9953 - val_loss: 0.1078 - val_accuracy: 0.9797\n",
            "Epoch 14/100\n",
            "375/375 [==============================] - 2s 5ms/step - loss: 0.0254 - accuracy: 0.9970 - val_loss: 0.1150 - val_accuracy: 0.9787\n",
            "Epoch 15/100\n",
            "375/375 [==============================] - 2s 5ms/step - loss: 0.0301 - accuracy: 0.9957 - val_loss: 0.1121 - val_accuracy: 0.9791\n",
            "Epoch 16/100\n",
            "375/375 [==============================] - 2s 5ms/step - loss: 0.0294 - accuracy: 0.9960 - val_loss: 0.1081 - val_accuracy: 0.9800\n",
            "Epoch 17/100\n",
            "375/375 [==============================] - 2s 5ms/step - loss: 0.0245 - accuracy: 0.9976 - val_loss: 0.1144 - val_accuracy: 0.9808\n",
            "Epoch 18/100\n",
            "375/375 [==============================] - 2s 5ms/step - loss: 0.0236 - accuracy: 0.9978 - val_loss: 0.1231 - val_accuracy: 0.9781\n",
            "Epoch 19/100\n",
            "375/375 [==============================] - 2s 5ms/step - loss: 0.0277 - accuracy: 0.9967 - val_loss: 0.1120 - val_accuracy: 0.9798\n",
            "Epoch 20/100\n",
            "375/375 [==============================] - 2s 5ms/step - loss: 0.0270 - accuracy: 0.9970 - val_loss: 0.1204 - val_accuracy: 0.9774\n",
            "Epoch 21/100\n",
            "375/375 [==============================] - 2s 5ms/step - loss: 0.0222 - accuracy: 0.9984 - val_loss: 0.1192 - val_accuracy: 0.9779\n",
            "Epoch 22/100\n",
            "375/375 [==============================] - 2s 5ms/step - loss: 0.0266 - accuracy: 0.9967 - val_loss: 0.1402 - val_accuracy: 0.9735\n",
            "Epoch 23/100\n",
            "375/375 [==============================] - 2s 5ms/step - loss: 0.0250 - accuracy: 0.9974 - val_loss: 0.1138 - val_accuracy: 0.9789\n",
            "Epoch 24/100\n",
            "375/375 [==============================] - 2s 5ms/step - loss: 0.0218 - accuracy: 0.9983 - val_loss: 0.1306 - val_accuracy: 0.9782\n",
            "Epoch 25/100\n",
            "375/375 [==============================] - 2s 5ms/step - loss: 0.0244 - accuracy: 0.9978 - val_loss: 0.1145 - val_accuracy: 0.9812\n",
            "Epoch 26/100\n",
            "375/375 [==============================] - 2s 5ms/step - loss: 0.0278 - accuracy: 0.9967 - val_loss: 0.1213 - val_accuracy: 0.9768\n",
            "Epoch 27/100\n",
            "375/375 [==============================] - 2s 5ms/step - loss: 0.0237 - accuracy: 0.9979 - val_loss: 0.1221 - val_accuracy: 0.9800\n",
            "Epoch 28/100\n",
            "375/375 [==============================] - 2s 5ms/step - loss: 0.0214 - accuracy: 0.9983 - val_loss: 0.1313 - val_accuracy: 0.9792\n",
            "Epoch 29/100\n",
            "375/375 [==============================] - 2s 5ms/step - loss: 0.0222 - accuracy: 0.9981 - val_loss: 0.1282 - val_accuracy: 0.9797\n",
            "Epoch 30/100\n",
            "375/375 [==============================] - 2s 5ms/step - loss: 0.0221 - accuracy: 0.9981 - val_loss: 0.1134 - val_accuracy: 0.9812\n",
            "Epoch 31/100\n",
            "375/375 [==============================] - 2s 5ms/step - loss: 0.0192 - accuracy: 0.9990 - val_loss: 0.1277 - val_accuracy: 0.9785\n",
            "Epoch 32/100\n",
            "375/375 [==============================] - 2s 5ms/step - loss: 0.0253 - accuracy: 0.9970 - val_loss: 0.1122 - val_accuracy: 0.9817\n",
            "Epoch 33/100\n",
            "375/375 [==============================] - 2s 5ms/step - loss: 0.0189 - accuracy: 0.9990 - val_loss: 0.1173 - val_accuracy: 0.9801\n",
            "Epoch 34/100\n",
            "375/375 [==============================] - 2s 5ms/step - loss: 0.0239 - accuracy: 0.9974 - val_loss: 0.1324 - val_accuracy: 0.9768\n",
            "Epoch 35/100\n",
            "375/375 [==============================] - 2s 5ms/step - loss: 0.0245 - accuracy: 0.9975 - val_loss: 0.1266 - val_accuracy: 0.9780\n",
            "Epoch 36/100\n",
            "375/375 [==============================] - 2s 5ms/step - loss: 0.0230 - accuracy: 0.9976 - val_loss: 0.1228 - val_accuracy: 0.9793\n",
            "Epoch 37/100\n",
            "375/375 [==============================] - 2s 5ms/step - loss: 0.0185 - accuracy: 0.9992 - val_loss: 0.1084 - val_accuracy: 0.9818\n",
            "Epoch 38/100\n",
            "375/375 [==============================] - 2s 5ms/step - loss: 0.0166 - accuracy: 0.9996 - val_loss: 0.1065 - val_accuracy: 0.9833\n",
            "Epoch 39/100\n",
            "375/375 [==============================] - 2s 5ms/step - loss: 0.0145 - accuracy: 1.0000 - val_loss: 0.0994 - val_accuracy: 0.9837\n",
            "Epoch 40/100\n",
            "375/375 [==============================] - 2s 5ms/step - loss: 0.0134 - accuracy: 1.0000 - val_loss: 0.1028 - val_accuracy: 0.9833\n",
            "Epoch 41/100\n",
            "375/375 [==============================] - 2s 6ms/step - loss: 0.0323 - accuracy: 0.9936 - val_loss: 0.1094 - val_accuracy: 0.9797\n",
            "Epoch 42/100\n",
            "375/375 [==============================] - 2s 5ms/step - loss: 0.0207 - accuracy: 0.9982 - val_loss: 0.1028 - val_accuracy: 0.9822\n",
            "Epoch 43/100\n",
            "375/375 [==============================] - 2s 5ms/step - loss: 0.0200 - accuracy: 0.9984 - val_loss: 0.1352 - val_accuracy: 0.9747\n",
            "Epoch 44/100\n",
            "375/375 [==============================] - 2s 5ms/step - loss: 0.0212 - accuracy: 0.9979 - val_loss: 0.1131 - val_accuracy: 0.9810\n",
            "Epoch 45/100\n",
            "375/375 [==============================] - 2s 5ms/step - loss: 0.0152 - accuracy: 0.9998 - val_loss: 0.1069 - val_accuracy: 0.9832\n",
            "Epoch 46/100\n",
            "375/375 [==============================] - 2s 5ms/step - loss: 0.0135 - accuracy: 1.0000 - val_loss: 0.1025 - val_accuracy: 0.9840\n",
            "Epoch 47/100\n",
            "375/375 [==============================] - 2s 5ms/step - loss: 0.0126 - accuracy: 1.0000 - val_loss: 0.1023 - val_accuracy: 0.9844\n",
            "Epoch 48/100\n",
            "375/375 [==============================] - 2s 5ms/step - loss: 0.0117 - accuracy: 1.0000 - val_loss: 0.1023 - val_accuracy: 0.9842\n",
            "Epoch 49/100\n",
            "375/375 [==============================] - 2s 5ms/step - loss: 0.0107 - accuracy: 1.0000 - val_loss: 0.1000 - val_accuracy: 0.9837\n",
            "Epoch 50/100\n",
            "375/375 [==============================] - 2s 5ms/step - loss: 0.0101 - accuracy: 0.9999 - val_loss: 0.1561 - val_accuracy: 0.9693\n",
            "Epoch 51/100\n",
            "375/375 [==============================] - 2s 5ms/step - loss: 0.0427 - accuracy: 0.9905 - val_loss: 0.1048 - val_accuracy: 0.9768\n",
            "Epoch 52/100\n",
            "375/375 [==============================] - 2s 5ms/step - loss: 0.0180 - accuracy: 0.9983 - val_loss: 0.1013 - val_accuracy: 0.9806\n",
            "Epoch 53/100\n",
            "375/375 [==============================] - 2s 5ms/step - loss: 0.0146 - accuracy: 0.9995 - val_loss: 0.1068 - val_accuracy: 0.9804\n",
            "Epoch 54/100\n",
            "375/375 [==============================] - 2s 5ms/step - loss: 0.0157 - accuracy: 0.9987 - val_loss: 0.1120 - val_accuracy: 0.9795\n",
            "Epoch 55/100\n",
            "375/375 [==============================] - 2s 5ms/step - loss: 0.0188 - accuracy: 0.9980 - val_loss: 0.1155 - val_accuracy: 0.9796\n",
            "Epoch 56/100\n",
            "375/375 [==============================] - 2s 5ms/step - loss: 0.0192 - accuracy: 0.9979 - val_loss: 0.1124 - val_accuracy: 0.9783\n",
            "Epoch 57/100\n",
            "375/375 [==============================] - 2s 5ms/step - loss: 0.0150 - accuracy: 0.9993 - val_loss: 0.1058 - val_accuracy: 0.9808\n",
            "Epoch 58/100\n",
            "375/375 [==============================] - 2s 5ms/step - loss: 0.0146 - accuracy: 0.9993 - val_loss: 0.1118 - val_accuracy: 0.9810\n",
            "Epoch 59/100\n",
            "375/375 [==============================] - 2s 5ms/step - loss: 0.0191 - accuracy: 0.9979 - val_loss: 0.1117 - val_accuracy: 0.9808\n",
            "Epoch 60/100\n",
            "375/375 [==============================] - 2s 5ms/step - loss: 0.0208 - accuracy: 0.9967 - val_loss: 0.1228 - val_accuracy: 0.9768\n",
            "Epoch 61/100\n",
            "375/375 [==============================] - 2s 5ms/step - loss: 0.0156 - accuracy: 0.9990 - val_loss: 0.1115 - val_accuracy: 0.9811\n",
            "Epoch 62/100\n",
            "375/375 [==============================] - 2s 5ms/step - loss: 0.0139 - accuracy: 0.9994 - val_loss: 0.1180 - val_accuracy: 0.9804\n",
            "Epoch 63/100\n",
            "375/375 [==============================] - 2s 5ms/step - loss: 0.0165 - accuracy: 0.9985 - val_loss: 0.1115 - val_accuracy: 0.9787\n",
            "Epoch 64/100\n",
            "375/375 [==============================] - 2s 5ms/step - loss: 0.0167 - accuracy: 0.9984 - val_loss: 0.1134 - val_accuracy: 0.9807\n",
            "Epoch 65/100\n",
            "375/375 [==============================] - 2s 5ms/step - loss: 0.0152 - accuracy: 0.9991 - val_loss: 0.1143 - val_accuracy: 0.9814\n",
            "Epoch 66/100\n",
            "375/375 [==============================] - 2s 5ms/step - loss: 0.0168 - accuracy: 0.9985 - val_loss: 0.1204 - val_accuracy: 0.9795\n",
            "Epoch 67/100\n",
            "375/375 [==============================] - 2s 5ms/step - loss: 0.0184 - accuracy: 0.9978 - val_loss: 0.1265 - val_accuracy: 0.9790\n",
            "Epoch 68/100\n",
            "375/375 [==============================] - 2s 5ms/step - loss: 0.0158 - accuracy: 0.9987 - val_loss: 0.1156 - val_accuracy: 0.9803\n",
            "Epoch 69/100\n",
            "375/375 [==============================] - 2s 5ms/step - loss: 0.0148 - accuracy: 0.9991 - val_loss: 0.1098 - val_accuracy: 0.9823\n",
            "Epoch 70/100\n",
            "375/375 [==============================] - 2s 5ms/step - loss: 0.0136 - accuracy: 0.9996 - val_loss: 0.1099 - val_accuracy: 0.9827\n",
            "Epoch 71/100\n",
            "375/375 [==============================] - 2s 5ms/step - loss: 0.0179 - accuracy: 0.9980 - val_loss: 0.1242 - val_accuracy: 0.9808\n",
            "Epoch 72/100\n",
            "375/375 [==============================] - 2s 5ms/step - loss: 0.0172 - accuracy: 0.9983 - val_loss: 0.1390 - val_accuracy: 0.9768\n",
            "Epoch 73/100\n",
            "375/375 [==============================] - 2s 5ms/step - loss: 0.0162 - accuracy: 0.9987 - val_loss: 0.1288 - val_accuracy: 0.9769\n",
            "Epoch 74/100\n",
            "375/375 [==============================] - 2s 5ms/step - loss: 0.0137 - accuracy: 0.9995 - val_loss: 0.1127 - val_accuracy: 0.9823\n",
            "Epoch 75/100\n",
            "375/375 [==============================] - 2s 5ms/step - loss: 0.0170 - accuracy: 0.9983 - val_loss: 0.1516 - val_accuracy: 0.9765\n",
            "Epoch 76/100\n",
            "375/375 [==============================] - 2s 5ms/step - loss: 0.0182 - accuracy: 0.9979 - val_loss: 0.1238 - val_accuracy: 0.9795\n",
            "Epoch 77/100\n",
            "375/375 [==============================] - 2s 5ms/step - loss: 0.0150 - accuracy: 0.9990 - val_loss: 0.1297 - val_accuracy: 0.9795\n",
            "Epoch 78/100\n",
            "375/375 [==============================] - 2s 5ms/step - loss: 0.0141 - accuracy: 0.9992 - val_loss: 0.1547 - val_accuracy: 0.9756\n",
            "Epoch 79/100\n",
            "375/375 [==============================] - 2s 5ms/step - loss: 0.0186 - accuracy: 0.9982 - val_loss: 0.1164 - val_accuracy: 0.9803\n",
            "Epoch 80/100\n",
            "375/375 [==============================] - 2s 5ms/step - loss: 0.0172 - accuracy: 0.9984 - val_loss: 0.1111 - val_accuracy: 0.9816\n",
            "Epoch 81/100\n",
            "375/375 [==============================] - 2s 5ms/step - loss: 0.0150 - accuracy: 0.9990 - val_loss: 0.1140 - val_accuracy: 0.9811\n",
            "Epoch 82/100\n",
            "375/375 [==============================] - 2s 5ms/step - loss: 0.0134 - accuracy: 0.9995 - val_loss: 0.1049 - val_accuracy: 0.9822\n",
            "Epoch 83/100\n",
            "375/375 [==============================] - 2s 5ms/step - loss: 0.0117 - accuracy: 0.9999 - val_loss: 0.1013 - val_accuracy: 0.9832\n",
            "Epoch 84/100\n",
            "375/375 [==============================] - 2s 5ms/step - loss: 0.0132 - accuracy: 0.9993 - val_loss: 0.1313 - val_accuracy: 0.9781\n",
            "Epoch 85/100\n",
            "375/375 [==============================] - 2s 5ms/step - loss: 0.0238 - accuracy: 0.9961 - val_loss: 0.1262 - val_accuracy: 0.9787\n",
            "Epoch 86/100\n",
            "375/375 [==============================] - 2s 5ms/step - loss: 0.0183 - accuracy: 0.9981 - val_loss: 0.1188 - val_accuracy: 0.9789\n",
            "Epoch 87/100\n",
            "375/375 [==============================] - 2s 5ms/step - loss: 0.0164 - accuracy: 0.9986 - val_loss: 0.1196 - val_accuracy: 0.9809\n",
            "Epoch 88/100\n",
            "375/375 [==============================] - 2s 5ms/step - loss: 0.0136 - accuracy: 0.9994 - val_loss: 0.1019 - val_accuracy: 0.9837\n",
            "Epoch 89/100\n",
            "375/375 [==============================] - 2s 5ms/step - loss: 0.0116 - accuracy: 1.0000 - val_loss: 0.0998 - val_accuracy: 0.9843\n",
            "Epoch 90/100\n",
            "375/375 [==============================] - 2s 5ms/step - loss: 0.0109 - accuracy: 1.0000 - val_loss: 0.1001 - val_accuracy: 0.9842\n",
            "Epoch 91/100\n",
            "375/375 [==============================] - 2s 5ms/step - loss: 0.0103 - accuracy: 1.0000 - val_loss: 0.0990 - val_accuracy: 0.9840\n",
            "Epoch 92/100\n",
            "375/375 [==============================] - 2s 5ms/step - loss: 0.0097 - accuracy: 1.0000 - val_loss: 0.1008 - val_accuracy: 0.9836\n",
            "Epoch 93/100\n",
            "375/375 [==============================] - 2s 5ms/step - loss: 0.0091 - accuracy: 1.0000 - val_loss: 0.1021 - val_accuracy: 0.9835\n",
            "Epoch 94/100\n",
            "375/375 [==============================] - 2s 5ms/step - loss: 0.0084 - accuracy: 1.0000 - val_loss: 0.0996 - val_accuracy: 0.9834\n",
            "Epoch 95/100\n",
            "375/375 [==============================] - 2s 5ms/step - loss: 0.0270 - accuracy: 0.9944 - val_loss: 0.1173 - val_accuracy: 0.9747\n",
            "Epoch 96/100\n",
            "375/375 [==============================] - 2s 5ms/step - loss: 0.0208 - accuracy: 0.9962 - val_loss: 0.1069 - val_accuracy: 0.9778\n",
            "Epoch 97/100\n",
            "375/375 [==============================] - 2s 5ms/step - loss: 0.0156 - accuracy: 0.9982 - val_loss: 0.0937 - val_accuracy: 0.9827\n",
            "Epoch 98/100\n",
            "375/375 [==============================] - 2s 5ms/step - loss: 0.0121 - accuracy: 0.9995 - val_loss: 0.1114 - val_accuracy: 0.9793\n",
            "Epoch 99/100\n",
            "375/375 [==============================] - 2s 5ms/step - loss: 0.0126 - accuracy: 0.9993 - val_loss: 0.1014 - val_accuracy: 0.9828\n",
            "Epoch 100/100\n",
            "375/375 [==============================] - 2s 5ms/step - loss: 0.0101 - accuracy: 0.9999 - val_loss: 0.0981 - val_accuracy: 0.9829\n",
            "CPU times: user 3min 6s, sys: 26 s, total: 3min 32s\n",
            "Wall time: 2min 59s\n"
          ],
          "name": "stdout"
        }
      ]
    },
    {
      "cell_type": "code",
      "metadata": {
        "colab": {
          "base_uri": "https://localhost:8080/",
          "height": 404
        },
        "id": "jF0vCdM_1bOA",
        "outputId": "a93472d6-80e3-4644-d419-a0f99f885ca7"
      },
      "source": [
        "import matplotlib.pyplot as plt\n",
        "\n",
        "epochs = range(1,len(Hist_mnist.history['loss'])+1)\n",
        "\n",
        "plt.figure(figsize = (9, 6))\n",
        "plt.plot(epochs, Hist_mnist.history['loss'])\n",
        "plt.plot(epochs, Hist_mnist.history['val_loss'])\n",
        "# plt.ylim(0, 0.25)\n",
        "plt.title('Training & Validation Loss')\n",
        "plt.xlabel('Epochs')\n",
        "plt.ylabel('Loss')\n",
        "plt.legend(['Training Loss', 'Validation Loss'])\n",
        "plt.grid()\n",
        "plt.show()"
      ],
      "execution_count": null,
      "outputs": [
        {
          "output_type": "display_data",
          "data": {
            "image/png": "[encoded data removed]",
            "text/plain": [
              "<Figure size 648x432 with 1 Axes>"
            ]
          },
          "metadata": {
            "tags": [],
            "needs_background": "light"
          }
        }
      ]
    },
    {
      "cell_type": "code",
      "metadata": {
        "id": "zHRx6mTC772k"
      },
      "source": [
        "loss, accuracy = mnist.evaluate(X_test,y_test)\n",
        "print('Loss = {:.5f}'.format(loss))\n",
        "print('Accuracy = {:.5f}'.format(accuracy))"
      ],
      "execution_count": null,
      "outputs": []
    },
    {
      "cell_type": "markdown",
      "metadata": {
        "id": "pdeqRI9816EI"
      },
      "source": [
        "## Dropout"
      ]
    },
    {
      "cell_type": "code",
      "metadata": {
        "id": "ZGKiIAov15Sy"
      },
      "source": [
        "from tensorflow.keras import models\n",
        "from tensorflow.keras import layers\n",
        "\n",
        "# Sequential은 레이어의 선형 스택을 tf.keras.Model로 그룹화합니다. \n",
        "# Sequential은 이 모델에 대한 학습 및 추론 기능을 제공합니다.\n",
        "\n",
        "mnist = models.Sequential()\n",
        "\n",
        "mnist.add(layers.Dense(512,activation='relu',input_shape=(28*28,)))\n",
        "mnist.add(layers.Dropout(0.4))\n",
        "mnist.add(layers.Dense(256,activation='relu',))\n",
        "mnist.add(layers.Dropout(0.2))\n",
        "mnist.add(layers.Dense(10,activation='softmax'))"
      ],
      "execution_count": null,
      "outputs": []
    },
    {
      "cell_type": "code",
      "metadata": {
        "id": "hJiI6h40131i"
      },
      "source": [
        "mnist.compile(loss='categorical_crossentropy',\n",
        "              optimizer='adam',\n",
        "              metrics=['accuracy'])"
      ],
      "execution_count": null,
      "outputs": []
    },
    {
      "cell_type": "code",
      "metadata": {
        "colab": {
          "base_uri": "https://localhost:8080/"
        },
        "id": "vohfiTFH2bLk",
        "outputId": "63667671-8f70-4ca0-8bac-7b913d9e69e6"
      },
      "source": [
        "%%time\n",
        "# 60000*0.8/128=375\n",
        "Hist_mnist = mnist.fit(X_train,y_train,\n",
        "                 epochs = 100,\n",
        "                 batch_size=128,\n",
        "                 validation_split = 0.2)"
      ],
      "execution_count": null,
      "outputs": [
        {
          "output_type": "stream",
          "text": [
            "Epoch 1/100\n",
            "375/375 [==============================] - 2s 5ms/step - loss: 0.3366 - accuracy: 0.8985 - val_loss: 0.1332 - val_accuracy: 0.9588\n",
            "Epoch 2/100\n",
            "375/375 [==============================] - 2s 5ms/step - loss: 0.1449 - accuracy: 0.9560 - val_loss: 0.0948 - val_accuracy: 0.9705\n",
            "Epoch 3/100\n",
            "375/375 [==============================] - 2s 5ms/step - loss: 0.1103 - accuracy: 0.9667 - val_loss: 0.0834 - val_accuracy: 0.9743\n",
            "Epoch 4/100\n",
            "375/375 [==============================] - 2s 5ms/step - loss: 0.0878 - accuracy: 0.9727 - val_loss: 0.0898 - val_accuracy: 0.9723\n",
            "Epoch 5/100\n",
            "375/375 [==============================] - 2s 5ms/step - loss: 0.0768 - accuracy: 0.9754 - val_loss: 0.0797 - val_accuracy: 0.9768\n",
            "Epoch 6/100\n",
            "375/375 [==============================] - 2s 5ms/step - loss: 0.0640 - accuracy: 0.9794 - val_loss: 0.0750 - val_accuracy: 0.9777\n",
            "Epoch 7/100\n",
            "375/375 [==============================] - 2s 4ms/step - loss: 0.0551 - accuracy: 0.9827 - val_loss: 0.0721 - val_accuracy: 0.9798\n",
            "Epoch 8/100\n",
            "375/375 [==============================] - 2s 5ms/step - loss: 0.0515 - accuracy: 0.9835 - val_loss: 0.0778 - val_accuracy: 0.9787\n",
            "Epoch 9/100\n",
            "375/375 [==============================] - 2s 5ms/step - loss: 0.0482 - accuracy: 0.9845 - val_loss: 0.0768 - val_accuracy: 0.9796\n",
            "Epoch 10/100\n",
            "375/375 [==============================] - 2s 5ms/step - loss: 0.0438 - accuracy: 0.9860 - val_loss: 0.0756 - val_accuracy: 0.9801\n",
            "Epoch 11/100\n",
            "375/375 [==============================] - 2s 4ms/step - loss: 0.0416 - accuracy: 0.9868 - val_loss: 0.0783 - val_accuracy: 0.9787\n",
            "Epoch 12/100\n",
            "375/375 [==============================] - 2s 4ms/step - loss: 0.0408 - accuracy: 0.9865 - val_loss: 0.0783 - val_accuracy: 0.9801\n",
            "Epoch 13/100\n",
            "375/375 [==============================] - 2s 5ms/step - loss: 0.0350 - accuracy: 0.9881 - val_loss: 0.0809 - val_accuracy: 0.9791\n",
            "Epoch 14/100\n",
            "375/375 [==============================] - 2s 5ms/step - loss: 0.0350 - accuracy: 0.9883 - val_loss: 0.0766 - val_accuracy: 0.9807\n",
            "Epoch 15/100\n",
            "375/375 [==============================] - 2s 5ms/step - loss: 0.0297 - accuracy: 0.9903 - val_loss: 0.0842 - val_accuracy: 0.9802\n",
            "Epoch 16/100\n",
            "375/375 [==============================] - 2s 5ms/step - loss: 0.0315 - accuracy: 0.9900 - val_loss: 0.0774 - val_accuracy: 0.9810\n",
            "Epoch 17/100\n",
            "375/375 [==============================] - 2s 5ms/step - loss: 0.0309 - accuracy: 0.9901 - val_loss: 0.0780 - val_accuracy: 0.9814\n",
            "Epoch 18/100\n",
            "375/375 [==============================] - 2s 4ms/step - loss: 0.0268 - accuracy: 0.9909 - val_loss: 0.0853 - val_accuracy: 0.9803\n",
            "Epoch 19/100\n",
            "375/375 [==============================] - 2s 5ms/step - loss: 0.0273 - accuracy: 0.9908 - val_loss: 0.0767 - val_accuracy: 0.9823\n",
            "Epoch 20/100\n",
            "375/375 [==============================] - 2s 5ms/step - loss: 0.0262 - accuracy: 0.9913 - val_loss: 0.0747 - val_accuracy: 0.9817\n",
            "Epoch 21/100\n",
            "375/375 [==============================] - 2s 4ms/step - loss: 0.0255 - accuracy: 0.9916 - val_loss: 0.0840 - val_accuracy: 0.9808\n",
            "Epoch 22/100\n",
            "375/375 [==============================] - 2s 5ms/step - loss: 0.0233 - accuracy: 0.9918 - val_loss: 0.0817 - val_accuracy: 0.9812\n",
            "Epoch 23/100\n",
            "375/375 [==============================] - 2s 5ms/step - loss: 0.0240 - accuracy: 0.9919 - val_loss: 0.0875 - val_accuracy: 0.9815\n",
            "Epoch 24/100\n",
            "375/375 [==============================] - 2s 4ms/step - loss: 0.0243 - accuracy: 0.9915 - val_loss: 0.0813 - val_accuracy: 0.9809\n",
            "Epoch 25/100\n",
            "375/375 [==============================] - 2s 4ms/step - loss: 0.0258 - accuracy: 0.9915 - val_loss: 0.0800 - val_accuracy: 0.9814\n",
            "Epoch 26/100\n",
            "375/375 [==============================] - 2s 5ms/step - loss: 0.0242 - accuracy: 0.9917 - val_loss: 0.0774 - val_accuracy: 0.9828\n",
            "Epoch 27/100\n",
            "375/375 [==============================] - 2s 4ms/step - loss: 0.0228 - accuracy: 0.9927 - val_loss: 0.0808 - val_accuracy: 0.9827\n",
            "Epoch 28/100\n",
            "375/375 [==============================] - 2s 5ms/step - loss: 0.0212 - accuracy: 0.9931 - val_loss: 0.0759 - val_accuracy: 0.9829\n",
            "Epoch 29/100\n",
            "375/375 [==============================] - 2s 5ms/step - loss: 0.0216 - accuracy: 0.9926 - val_loss: 0.0880 - val_accuracy: 0.9808\n",
            "Epoch 30/100\n",
            "375/375 [==============================] - 2s 5ms/step - loss: 0.0200 - accuracy: 0.9935 - val_loss: 0.0804 - val_accuracy: 0.9823\n",
            "Epoch 31/100\n",
            "375/375 [==============================] - 2s 5ms/step - loss: 0.0191 - accuracy: 0.9937 - val_loss: 0.0809 - val_accuracy: 0.9827\n",
            "Epoch 32/100\n",
            "375/375 [==============================] - 2s 5ms/step - loss: 0.0206 - accuracy: 0.9933 - val_loss: 0.0833 - val_accuracy: 0.9822\n",
            "Epoch 33/100\n",
            "375/375 [==============================] - 2s 5ms/step - loss: 0.0189 - accuracy: 0.9940 - val_loss: 0.0885 - val_accuracy: 0.9818\n",
            "Epoch 34/100\n",
            "375/375 [==============================] - 2s 5ms/step - loss: 0.0203 - accuracy: 0.9935 - val_loss: 0.0837 - val_accuracy: 0.9824\n",
            "Epoch 35/100\n",
            "375/375 [==============================] - 2s 5ms/step - loss: 0.0174 - accuracy: 0.9939 - val_loss: 0.0905 - val_accuracy: 0.9824\n",
            "Epoch 36/100\n",
            "375/375 [==============================] - 2s 5ms/step - loss: 0.0164 - accuracy: 0.9944 - val_loss: 0.0852 - val_accuracy: 0.9831\n",
            "Epoch 37/100\n",
            "375/375 [==============================] - 2s 4ms/step - loss: 0.0165 - accuracy: 0.9945 - val_loss: 0.0882 - val_accuracy: 0.9835\n",
            "Epoch 38/100\n",
            "375/375 [==============================] - 2s 5ms/step - loss: 0.0173 - accuracy: 0.9944 - val_loss: 0.0874 - val_accuracy: 0.9822\n",
            "Epoch 39/100\n",
            "375/375 [==============================] - 2s 5ms/step - loss: 0.0176 - accuracy: 0.9943 - val_loss: 0.0931 - val_accuracy: 0.9820\n",
            "Epoch 40/100\n",
            "375/375 [==============================] - 2s 5ms/step - loss: 0.0210 - accuracy: 0.9937 - val_loss: 0.0960 - val_accuracy: 0.9812\n",
            "Epoch 41/100\n",
            "375/375 [==============================] - 2s 5ms/step - loss: 0.0176 - accuracy: 0.9943 - val_loss: 0.0880 - val_accuracy: 0.9830\n",
            "Epoch 42/100\n",
            "375/375 [==============================] - 2s 5ms/step - loss: 0.0165 - accuracy: 0.9945 - val_loss: 0.1043 - val_accuracy: 0.9816\n",
            "Epoch 43/100\n",
            "375/375 [==============================] - 2s 4ms/step - loss: 0.0161 - accuracy: 0.9948 - val_loss: 0.0863 - val_accuracy: 0.9831\n",
            "Epoch 44/100\n",
            "375/375 [==============================] - 2s 5ms/step - loss: 0.0133 - accuracy: 0.9960 - val_loss: 0.0870 - val_accuracy: 0.9833\n",
            "Epoch 45/100\n",
            "375/375 [==============================] - 2s 5ms/step - loss: 0.0162 - accuracy: 0.9943 - val_loss: 0.0973 - val_accuracy: 0.9818\n",
            "Epoch 46/100\n",
            "375/375 [==============================] - 2s 5ms/step - loss: 0.0183 - accuracy: 0.9939 - val_loss: 0.0950 - val_accuracy: 0.9833\n",
            "Epoch 47/100\n",
            "375/375 [==============================] - 2s 5ms/step - loss: 0.0130 - accuracy: 0.9958 - val_loss: 0.0905 - val_accuracy: 0.9833\n",
            "Epoch 48/100\n",
            "375/375 [==============================] - 2s 4ms/step - loss: 0.0157 - accuracy: 0.9947 - val_loss: 0.0925 - val_accuracy: 0.9843\n",
            "Epoch 49/100\n",
            "375/375 [==============================] - 2s 5ms/step - loss: 0.0138 - accuracy: 0.9957 - val_loss: 0.1023 - val_accuracy: 0.9817\n",
            "Epoch 50/100\n",
            "375/375 [==============================] - 2s 5ms/step - loss: 0.0146 - accuracy: 0.9956 - val_loss: 0.0981 - val_accuracy: 0.9832\n",
            "Epoch 51/100\n",
            "375/375 [==============================] - 2s 5ms/step - loss: 0.0154 - accuracy: 0.9955 - val_loss: 0.0994 - val_accuracy: 0.9836\n",
            "Epoch 52/100\n",
            "375/375 [==============================] - 2s 5ms/step - loss: 0.0140 - accuracy: 0.9954 - val_loss: 0.0987 - val_accuracy: 0.9820\n",
            "Epoch 53/100\n",
            "375/375 [==============================] - 2s 5ms/step - loss: 0.0137 - accuracy: 0.9957 - val_loss: 0.0964 - val_accuracy: 0.9833\n",
            "Epoch 54/100\n",
            "375/375 [==============================] - 2s 5ms/step - loss: 0.0134 - accuracy: 0.9959 - val_loss: 0.1063 - val_accuracy: 0.9828\n",
            "Epoch 55/100\n",
            "375/375 [==============================] - 2s 5ms/step - loss: 0.0147 - accuracy: 0.9955 - val_loss: 0.0924 - val_accuracy: 0.9843\n",
            "Epoch 56/100\n",
            "375/375 [==============================] - 2s 5ms/step - loss: 0.0146 - accuracy: 0.9955 - val_loss: 0.0852 - val_accuracy: 0.9845\n",
            "Epoch 57/100\n",
            "375/375 [==============================] - 2s 5ms/step - loss: 0.0136 - accuracy: 0.9958 - val_loss: 0.0952 - val_accuracy: 0.9840\n",
            "Epoch 58/100\n",
            "375/375 [==============================] - 2s 5ms/step - loss: 0.0151 - accuracy: 0.9950 - val_loss: 0.0942 - val_accuracy: 0.9839\n",
            "Epoch 59/100\n",
            "375/375 [==============================] - 2s 5ms/step - loss: 0.0150 - accuracy: 0.9954 - val_loss: 0.0942 - val_accuracy: 0.9838\n",
            "Epoch 60/100\n",
            "375/375 [==============================] - 2s 5ms/step - loss: 0.0133 - accuracy: 0.9959 - val_loss: 0.1117 - val_accuracy: 0.9821\n",
            "Epoch 61/100\n",
            "375/375 [==============================] - 2s 5ms/step - loss: 0.0161 - accuracy: 0.9952 - val_loss: 0.1025 - val_accuracy: 0.9824\n",
            "Epoch 62/100\n",
            "375/375 [==============================] - 2s 5ms/step - loss: 0.0124 - accuracy: 0.9960 - val_loss: 0.0995 - val_accuracy: 0.9838\n",
            "Epoch 63/100\n",
            "375/375 [==============================] - 2s 5ms/step - loss: 0.0151 - accuracy: 0.9954 - val_loss: 0.1024 - val_accuracy: 0.9837\n",
            "Epoch 64/100\n",
            "375/375 [==============================] - 2s 5ms/step - loss: 0.0129 - accuracy: 0.9961 - val_loss: 0.0974 - val_accuracy: 0.9831\n",
            "Epoch 65/100\n",
            "375/375 [==============================] - 2s 5ms/step - loss: 0.0159 - accuracy: 0.9950 - val_loss: 0.1069 - val_accuracy: 0.9831\n",
            "Epoch 66/100\n",
            "375/375 [==============================] - 2s 5ms/step - loss: 0.0124 - accuracy: 0.9963 - val_loss: 0.1020 - val_accuracy: 0.9835\n",
            "Epoch 67/100\n",
            "375/375 [==============================] - 2s 5ms/step - loss: 0.0121 - accuracy: 0.9959 - val_loss: 0.1082 - val_accuracy: 0.9822\n",
            "Epoch 68/100\n",
            "375/375 [==============================] - 2s 5ms/step - loss: 0.0130 - accuracy: 0.9962 - val_loss: 0.0985 - val_accuracy: 0.9828\n",
            "Epoch 69/100\n",
            "375/375 [==============================] - 2s 5ms/step - loss: 0.0138 - accuracy: 0.9955 - val_loss: 0.1083 - val_accuracy: 0.9823\n",
            "Epoch 70/100\n",
            "375/375 [==============================] - 2s 5ms/step - loss: 0.0130 - accuracy: 0.9959 - val_loss: 0.1114 - val_accuracy: 0.9824\n",
            "Epoch 71/100\n",
            "375/375 [==============================] - 2s 4ms/step - loss: 0.0119 - accuracy: 0.9959 - val_loss: 0.1019 - val_accuracy: 0.9825\n",
            "Epoch 72/100\n",
            "375/375 [==============================] - 2s 5ms/step - loss: 0.0135 - accuracy: 0.9957 - val_loss: 0.1144 - val_accuracy: 0.9833\n",
            "Epoch 73/100\n",
            "375/375 [==============================] - 2s 5ms/step - loss: 0.0127 - accuracy: 0.9960 - val_loss: 0.1054 - val_accuracy: 0.9836\n",
            "Epoch 74/100\n",
            "375/375 [==============================] - 2s 4ms/step - loss: 0.0125 - accuracy: 0.9961 - val_loss: 0.1039 - val_accuracy: 0.9833\n",
            "Epoch 75/100\n",
            "375/375 [==============================] - 2s 5ms/step - loss: 0.0147 - accuracy: 0.9955 - val_loss: 0.0971 - val_accuracy: 0.9836\n",
            "Epoch 76/100\n",
            "375/375 [==============================] - 2s 5ms/step - loss: 0.0110 - accuracy: 0.9963 - val_loss: 0.1144 - val_accuracy: 0.9831\n",
            "Epoch 77/100\n",
            "375/375 [==============================] - 2s 5ms/step - loss: 0.0135 - accuracy: 0.9960 - val_loss: 0.1060 - val_accuracy: 0.9829\n",
            "Epoch 78/100\n",
            "375/375 [==============================] - 2s 5ms/step - loss: 0.0135 - accuracy: 0.9960 - val_loss: 0.1078 - val_accuracy: 0.9839\n",
            "Epoch 79/100\n",
            "375/375 [==============================] - 2s 5ms/step - loss: 0.0103 - accuracy: 0.9964 - val_loss: 0.1122 - val_accuracy: 0.9834\n",
            "Epoch 80/100\n",
            "375/375 [==============================] - 2s 5ms/step - loss: 0.0129 - accuracy: 0.9959 - val_loss: 0.1133 - val_accuracy: 0.9823\n",
            "Epoch 81/100\n",
            "375/375 [==============================] - 2s 5ms/step - loss: 0.0098 - accuracy: 0.9968 - val_loss: 0.1098 - val_accuracy: 0.9843\n",
            "Epoch 82/100\n",
            "375/375 [==============================] - 2s 5ms/step - loss: 0.0134 - accuracy: 0.9962 - val_loss: 0.0982 - val_accuracy: 0.9844\n",
            "Epoch 83/100\n",
            "375/375 [==============================] - 2s 5ms/step - loss: 0.0108 - accuracy: 0.9966 - val_loss: 0.1033 - val_accuracy: 0.9834\n",
            "Epoch 84/100\n",
            "375/375 [==============================] - 2s 5ms/step - loss: 0.0113 - accuracy: 0.9963 - val_loss: 0.1202 - val_accuracy: 0.9833\n",
            "Epoch 85/100\n",
            "375/375 [==============================] - 2s 5ms/step - loss: 0.0121 - accuracy: 0.9963 - val_loss: 0.1180 - val_accuracy: 0.9827\n",
            "Epoch 86/100\n",
            "375/375 [==============================] - 2s 5ms/step - loss: 0.0105 - accuracy: 0.9968 - val_loss: 0.1118 - val_accuracy: 0.9830\n",
            "Epoch 87/100\n",
            "375/375 [==============================] - 2s 5ms/step - loss: 0.0126 - accuracy: 0.9967 - val_loss: 0.1037 - val_accuracy: 0.9836\n",
            "Epoch 88/100\n",
            "375/375 [==============================] - 2s 5ms/step - loss: 0.0089 - accuracy: 0.9972 - val_loss: 0.1095 - val_accuracy: 0.9842\n",
            "Epoch 89/100\n",
            "375/375 [==============================] - 2s 5ms/step - loss: 0.0107 - accuracy: 0.9966 - val_loss: 0.1192 - val_accuracy: 0.9828\n",
            "Epoch 90/100\n",
            "375/375 [==============================] - 2s 5ms/step - loss: 0.0093 - accuracy: 0.9971 - val_loss: 0.1327 - val_accuracy: 0.9827\n",
            "Epoch 91/100\n",
            "375/375 [==============================] - 2s 5ms/step - loss: 0.0156 - accuracy: 0.9952 - val_loss: 0.1207 - val_accuracy: 0.9833\n",
            "Epoch 92/100\n",
            "375/375 [==============================] - 2s 5ms/step - loss: 0.0123 - accuracy: 0.9964 - val_loss: 0.1126 - val_accuracy: 0.9840\n",
            "Epoch 93/100\n",
            "375/375 [==============================] - 2s 5ms/step - loss: 0.0123 - accuracy: 0.9967 - val_loss: 0.1235 - val_accuracy: 0.9834\n",
            "Epoch 94/100\n",
            "375/375 [==============================] - 2s 5ms/step - loss: 0.0109 - accuracy: 0.9971 - val_loss: 0.1160 - val_accuracy: 0.9833\n",
            "Epoch 95/100\n",
            "375/375 [==============================] - 2s 5ms/step - loss: 0.0127 - accuracy: 0.9964 - val_loss: 0.1141 - val_accuracy: 0.9833\n",
            "Epoch 96/100\n",
            "375/375 [==============================] - 2s 5ms/step - loss: 0.0101 - accuracy: 0.9972 - val_loss: 0.1140 - val_accuracy: 0.9829\n",
            "Epoch 97/100\n",
            "375/375 [==============================] - 2s 5ms/step - loss: 0.0105 - accuracy: 0.9969 - val_loss: 0.1147 - val_accuracy: 0.9837\n",
            "Epoch 98/100\n",
            "375/375 [==============================] - 2s 5ms/step - loss: 0.0112 - accuracy: 0.9969 - val_loss: 0.1141 - val_accuracy: 0.9835\n",
            "Epoch 99/100\n",
            "375/375 [==============================] - 2s 5ms/step - loss: 0.0121 - accuracy: 0.9965 - val_loss: 0.1165 - val_accuracy: 0.9834\n",
            "Epoch 100/100\n",
            "375/375 [==============================] - 2s 5ms/step - loss: 0.0102 - accuracy: 0.9969 - val_loss: 0.1136 - val_accuracy: 0.9843\n",
            "CPU times: user 2min 59s, sys: 26.6 s, total: 3min 26s\n",
            "Wall time: 3min 22s\n"
          ],
          "name": "stdout"
        }
      ]
    },
    {
      "cell_type": "code",
      "metadata": {
        "colab": {
          "base_uri": "https://localhost:8080/",
          "height": 404
        },
        "id": "A8F5jfDm2hhF",
        "outputId": "029c07b1-76d7-48ce-e71f-490e3e9b0c84"
      },
      "source": [
        "import matplotlib.pyplot as plt\n",
        "\n",
        "epochs = range(1,len(Hist_mnist.history['loss'])+1)\n",
        "\n",
        "plt.figure(figsize = (9, 6))\n",
        "plt.plot(epochs, Hist_mnist.history['loss'])\n",
        "plt.plot(epochs, Hist_mnist.history['val_loss'])\n",
        "# plt.ylim(0, 0.25)\n",
        "plt.title('Training & Validation Loss')\n",
        "plt.xlabel('Epochs')\n",
        "plt.ylabel('Loss')\n",
        "plt.legend(['Training Loss', 'Validation Loss'])\n",
        "plt.grid()\n",
        "plt.show()"
      ],
      "execution_count": null,
      "outputs": [
        {
          "output_type": "display_data",
          "data": {
            "image/png": "[encoded data removed]",
            "text/plain": [
              "<Figure size 648x432 with 1 Axes>"
            ]
          },
          "metadata": {
            "tags": [],
            "needs_background": "light"
          }
        }
      ]
    },
    {
      "cell_type": "code",
      "metadata": {
        "colab": {
          "base_uri": "https://localhost:8080/"
        },
        "id": "1leALpYS3Syg",
        "outputId": "5fc32ef3-248b-48cf-b9e1-8e4ed4dc3f86"
      },
      "source": [
        "loss, accuracy = mnist.evaluate(X_test,y_test)\n",
        "print('Loss = {:.5f}'.format(loss))\n",
        "print('Accuracy = {:.5f}'.format(accuracy))"
      ],
      "execution_count": null,
      "outputs": [
        {
          "output_type": "stream",
          "text": [
            "313/313 [==============================] - 1s 3ms/step - loss: 0.1033 - accuracy: 0.9838\n",
            "Loss = 0.10332\n",
            "Accuracy = 0.98380\n"
          ],
          "name": "stdout"
        }
      ]
    },
    {
      "cell_type": "markdown",
      "metadata": {
        "id": "z3sZV9SG2l_O"
      },
      "source": [
        "## Batch Normalization"
      ]
    },
    {
      "cell_type": "code",
      "metadata": {
        "id": "XQBPAlzQ2iWH"
      },
      "source": [
        "from tensorflow.keras import models\n",
        "from tensorflow.keras import layers\n",
        "\n",
        "# Sequential은 레이어의 선형 스택을 tf.keras.Model로 그룹화합니다. \n",
        "# Sequential은 이 모델에 대한 학습 및 추론 기능을 제공합니다.\n",
        "\n",
        "mnist = models.Sequential()\n",
        "\n",
        "mnist.add(layers.Dense(512,input_shape=(28*28,)))\n",
        "mnist.add(layers.BatchNormalization())\n",
        "mnist.add(layers.Activation('relu'))\n",
        "mnist.add(layers.Dense(256))\n",
        "mnist.add(layers.BatchNormalization())\n",
        "mnist.add(layers.Activation('relu'))\n",
        "mnist.add(layers.Dense(10,activation='softmax'))"
      ],
      "execution_count": null,
      "outputs": []
    },
    {
      "cell_type": "code",
      "metadata": {
        "id": "kSThPnVZ3Vu7"
      },
      "source": [
        "mnist.compile(loss='categorical_crossentropy',\n",
        "              optimizer='adam',\n",
        "              metrics=['accuracy'])"
      ],
      "execution_count": null,
      "outputs": []
    },
    {
      "cell_type": "code",
      "metadata": {
        "colab": {
          "base_uri": "https://localhost:8080/"
        },
        "id": "WLiqzDNK3iv2",
        "outputId": "4448168f-6b38-4cbf-f937-6f01a59f370a"
      },
      "source": [
        "%%time\n",
        "# 60000*0.8/128=375\n",
        "Hist_mnist = mnist.fit(X_train,y_train,\n",
        "                 epochs = 100,\n",
        "                 batch_size=128,\n",
        "                 validation_split = 0.2)"
      ],
      "execution_count": null,
      "outputs": [
        {
          "output_type": "stream",
          "text": [
            "Epoch 1/100\n",
            "375/375 [==============================] - 3s 6ms/step - loss: 0.1936 - accuracy: 0.9427 - val_loss: 0.1281 - val_accuracy: 0.9601\n",
            "Epoch 2/100\n",
            "375/375 [==============================] - 2s 6ms/step - loss: 0.0732 - accuracy: 0.9785 - val_loss: 0.1036 - val_accuracy: 0.9681\n",
            "Epoch 3/100\n",
            "375/375 [==============================] - 2s 5ms/step - loss: 0.0437 - accuracy: 0.9872 - val_loss: 0.0946 - val_accuracy: 0.9709\n",
            "Epoch 4/100\n",
            "375/375 [==============================] - 2s 6ms/step - loss: 0.0300 - accuracy: 0.9910 - val_loss: 0.0786 - val_accuracy: 0.9776\n",
            "Epoch 5/100\n",
            "375/375 [==============================] - 2s 6ms/step - loss: 0.0217 - accuracy: 0.9932 - val_loss: 0.0858 - val_accuracy: 0.9763\n",
            "Epoch 6/100\n",
            "375/375 [==============================] - 2s 6ms/step - loss: 0.0191 - accuracy: 0.9941 - val_loss: 0.0856 - val_accuracy: 0.9760\n",
            "Epoch 7/100\n",
            "375/375 [==============================] - 2s 6ms/step - loss: 0.0153 - accuracy: 0.9950 - val_loss: 0.0910 - val_accuracy: 0.9768\n",
            "Epoch 8/100\n",
            "375/375 [==============================] - 2s 5ms/step - loss: 0.0154 - accuracy: 0.9956 - val_loss: 0.0878 - val_accuracy: 0.9758\n",
            "Epoch 9/100\n",
            "375/375 [==============================] - 2s 6ms/step - loss: 0.0121 - accuracy: 0.9963 - val_loss: 0.0978 - val_accuracy: 0.9748\n",
            "Epoch 10/100\n",
            "375/375 [==============================] - 2s 6ms/step - loss: 0.0142 - accuracy: 0.9953 - val_loss: 0.1134 - val_accuracy: 0.9705\n",
            "Epoch 11/100\n",
            "375/375 [==============================] - 2s 5ms/step - loss: 0.0097 - accuracy: 0.9970 - val_loss: 0.0817 - val_accuracy: 0.9812\n",
            "Epoch 12/100\n",
            "375/375 [==============================] - 2s 6ms/step - loss: 0.0076 - accuracy: 0.9978 - val_loss: 0.0861 - val_accuracy: 0.9798\n",
            "Epoch 13/100\n",
            "375/375 [==============================] - 2s 5ms/step - loss: 0.0091 - accuracy: 0.9972 - val_loss: 0.0960 - val_accuracy: 0.9782\n",
            "Epoch 14/100\n",
            "375/375 [==============================] - 2s 5ms/step - loss: 0.0105 - accuracy: 0.9967 - val_loss: 0.0809 - val_accuracy: 0.9820\n",
            "Epoch 15/100\n",
            "375/375 [==============================] - 2s 6ms/step - loss: 0.0103 - accuracy: 0.9965 - val_loss: 0.0917 - val_accuracy: 0.9789\n",
            "Epoch 16/100\n",
            "375/375 [==============================] - 2s 5ms/step - loss: 0.0089 - accuracy: 0.9974 - val_loss: 0.0905 - val_accuracy: 0.9795\n",
            "Epoch 17/100\n",
            "375/375 [==============================] - 2s 5ms/step - loss: 0.0054 - accuracy: 0.9983 - val_loss: 0.0953 - val_accuracy: 0.9787\n",
            "Epoch 18/100\n",
            "375/375 [==============================] - 2s 5ms/step - loss: 0.0071 - accuracy: 0.9979 - val_loss: 0.0787 - val_accuracy: 0.9818\n",
            "Epoch 19/100\n",
            "375/375 [==============================] - 2s 5ms/step - loss: 0.0055 - accuracy: 0.9983 - val_loss: 0.0958 - val_accuracy: 0.9794\n",
            "Epoch 20/100\n",
            "375/375 [==============================] - 2s 5ms/step - loss: 0.0044 - accuracy: 0.9985 - val_loss: 0.1000 - val_accuracy: 0.9793\n",
            "Epoch 21/100\n",
            "375/375 [==============================] - 2s 5ms/step - loss: 0.0084 - accuracy: 0.9975 - val_loss: 0.1002 - val_accuracy: 0.9797\n",
            "Epoch 22/100\n",
            "375/375 [==============================] - 2s 6ms/step - loss: 0.0081 - accuracy: 0.9972 - val_loss: 0.1029 - val_accuracy: 0.9787\n",
            "Epoch 23/100\n",
            "375/375 [==============================] - 2s 5ms/step - loss: 0.0052 - accuracy: 0.9985 - val_loss: 0.0969 - val_accuracy: 0.9796\n",
            "Epoch 24/100\n",
            "375/375 [==============================] - 2s 6ms/step - loss: 0.0062 - accuracy: 0.9981 - val_loss: 0.0843 - val_accuracy: 0.9821\n",
            "Epoch 25/100\n",
            "375/375 [==============================] - 2s 6ms/step - loss: 0.0022 - accuracy: 0.9994 - val_loss: 0.0862 - val_accuracy: 0.9817\n",
            "Epoch 26/100\n",
            "375/375 [==============================] - 2s 6ms/step - loss: 0.0016 - accuracy: 0.9996 - val_loss: 0.0824 - val_accuracy: 0.9837\n",
            "Epoch 27/100\n",
            "375/375 [==============================] - 2s 5ms/step - loss: 0.0044 - accuracy: 0.9986 - val_loss: 0.1046 - val_accuracy: 0.9797\n",
            "Epoch 28/100\n",
            "375/375 [==============================] - 2s 6ms/step - loss: 0.0082 - accuracy: 0.9973 - val_loss: 0.1126 - val_accuracy: 0.9783\n",
            "Epoch 29/100\n",
            "375/375 [==============================] - 2s 5ms/step - loss: 0.0080 - accuracy: 0.9974 - val_loss: 0.1000 - val_accuracy: 0.9804\n",
            "Epoch 30/100\n",
            "375/375 [==============================] - 2s 5ms/step - loss: 0.0029 - accuracy: 0.9992 - val_loss: 0.0863 - val_accuracy: 0.9827\n",
            "Epoch 31/100\n",
            "375/375 [==============================] - 2s 5ms/step - loss: 0.0029 - accuracy: 0.9991 - val_loss: 0.0888 - val_accuracy: 0.9819\n",
            "Epoch 32/100\n",
            "375/375 [==============================] - 2s 5ms/step - loss: 0.0051 - accuracy: 0.9985 - val_loss: 0.0962 - val_accuracy: 0.9814\n",
            "Epoch 33/100\n",
            "375/375 [==============================] - 2s 6ms/step - loss: 0.0037 - accuracy: 0.9989 - val_loss: 0.0914 - val_accuracy: 0.9829\n",
            "Epoch 34/100\n",
            "375/375 [==============================] - 2s 5ms/step - loss: 0.0031 - accuracy: 0.9992 - val_loss: 0.0938 - val_accuracy: 0.9808\n",
            "Epoch 35/100\n",
            "375/375 [==============================] - 2s 6ms/step - loss: 0.0031 - accuracy: 0.9990 - val_loss: 0.1001 - val_accuracy: 0.9823\n",
            "Epoch 36/100\n",
            "375/375 [==============================] - 2s 5ms/step - loss: 0.0036 - accuracy: 0.9989 - val_loss: 0.1035 - val_accuracy: 0.9801\n",
            "Epoch 37/100\n",
            "375/375 [==============================] - 2s 6ms/step - loss: 0.0019 - accuracy: 0.9994 - val_loss: 0.1260 - val_accuracy: 0.9772\n",
            "Epoch 38/100\n",
            "375/375 [==============================] - 2s 6ms/step - loss: 0.0021 - accuracy: 0.9994 - val_loss: 0.1068 - val_accuracy: 0.9801\n",
            "Epoch 39/100\n",
            "375/375 [==============================] - 2s 6ms/step - loss: 0.0062 - accuracy: 0.9979 - val_loss: 0.1160 - val_accuracy: 0.9788\n",
            "Epoch 40/100\n",
            "375/375 [==============================] - 2s 6ms/step - loss: 0.0042 - accuracy: 0.9988 - val_loss: 0.0965 - val_accuracy: 0.9815\n",
            "Epoch 41/100\n",
            "375/375 [==============================] - 2s 6ms/step - loss: 0.0036 - accuracy: 0.9989 - val_loss: 0.0935 - val_accuracy: 0.9822\n",
            "Epoch 42/100\n",
            "375/375 [==============================] - 2s 5ms/step - loss: 0.0011 - accuracy: 0.9998 - val_loss: 0.0888 - val_accuracy: 0.9837\n",
            "Epoch 43/100\n",
            "375/375 [==============================] - 2s 6ms/step - loss: 0.0011 - accuracy: 0.9996 - val_loss: 0.0948 - val_accuracy: 0.9819\n",
            "Epoch 44/100\n",
            "375/375 [==============================] - 2s 6ms/step - loss: 0.0057 - accuracy: 0.9983 - val_loss: 0.1060 - val_accuracy: 0.9805\n",
            "Epoch 45/100\n",
            "375/375 [==============================] - 2s 6ms/step - loss: 0.0037 - accuracy: 0.9987 - val_loss: 0.1004 - val_accuracy: 0.9813\n",
            "Epoch 46/100\n",
            "375/375 [==============================] - 2s 6ms/step - loss: 0.0035 - accuracy: 0.9988 - val_loss: 0.0927 - val_accuracy: 0.9823\n",
            "Epoch 47/100\n",
            "375/375 [==============================] - 2s 5ms/step - loss: 0.0017 - accuracy: 0.9995 - val_loss: 0.0946 - val_accuracy: 0.9826\n",
            "Epoch 48/100\n",
            "375/375 [==============================] - 2s 6ms/step - loss: 8.4934e-04 - accuracy: 0.9998 - val_loss: 0.0971 - val_accuracy: 0.9829\n",
            "Epoch 49/100\n",
            "375/375 [==============================] - 2s 5ms/step - loss: 0.0019 - accuracy: 0.9994 - val_loss: 0.1011 - val_accuracy: 0.9833\n",
            "Epoch 50/100\n",
            "375/375 [==============================] - 2s 6ms/step - loss: 0.0036 - accuracy: 0.9988 - val_loss: 0.1054 - val_accuracy: 0.9803\n",
            "Epoch 51/100\n",
            "375/375 [==============================] - 2s 6ms/step - loss: 0.0034 - accuracy: 0.9990 - val_loss: 0.0948 - val_accuracy: 0.9828\n",
            "Epoch 52/100\n",
            "375/375 [==============================] - 2s 6ms/step - loss: 0.0014 - accuracy: 0.9997 - val_loss: 0.0901 - val_accuracy: 0.9849\n",
            "Epoch 53/100\n",
            "375/375 [==============================] - 2s 6ms/step - loss: 0.0017 - accuracy: 0.9995 - val_loss: 0.0989 - val_accuracy: 0.9839\n",
            "Epoch 54/100\n",
            "375/375 [==============================] - 2s 5ms/step - loss: 0.0019 - accuracy: 0.9993 - val_loss: 0.0990 - val_accuracy: 0.9837\n",
            "Epoch 55/100\n",
            "375/375 [==============================] - 2s 5ms/step - loss: 0.0021 - accuracy: 0.9992 - val_loss: 0.1007 - val_accuracy: 0.9840\n",
            "Epoch 56/100\n",
            "375/375 [==============================] - 2s 5ms/step - loss: 0.0031 - accuracy: 0.9991 - val_loss: 0.1014 - val_accuracy: 0.9832\n",
            "Epoch 57/100\n",
            "375/375 [==============================] - 2s 6ms/step - loss: 0.0040 - accuracy: 0.9990 - val_loss: 0.1036 - val_accuracy: 0.9823\n",
            "Epoch 58/100\n",
            "375/375 [==============================] - 2s 5ms/step - loss: 0.0025 - accuracy: 0.9994 - val_loss: 0.1000 - val_accuracy: 0.9833\n",
            "Epoch 59/100\n",
            "375/375 [==============================] - 2s 6ms/step - loss: 9.9643e-04 - accuracy: 0.9998 - val_loss: 0.1086 - val_accuracy: 0.9822\n",
            "Epoch 60/100\n",
            "375/375 [==============================] - 2s 6ms/step - loss: 0.0013 - accuracy: 0.9997 - val_loss: 0.1013 - val_accuracy: 0.9838\n",
            "Epoch 61/100\n",
            "375/375 [==============================] - 2s 5ms/step - loss: 0.0048 - accuracy: 0.9985 - val_loss: 0.1160 - val_accuracy: 0.9825\n",
            "Epoch 62/100\n",
            "375/375 [==============================] - 2s 6ms/step - loss: 0.0031 - accuracy: 0.9990 - val_loss: 0.1081 - val_accuracy: 0.9816\n",
            "Epoch 63/100\n",
            "375/375 [==============================] - 2s 6ms/step - loss: 0.0020 - accuracy: 0.9995 - val_loss: 0.1022 - val_accuracy: 0.9838\n",
            "Epoch 64/100\n",
            "375/375 [==============================] - 2s 6ms/step - loss: 0.0011 - accuracy: 0.9998 - val_loss: 0.1035 - val_accuracy: 0.9833\n",
            "Epoch 65/100\n",
            "375/375 [==============================] - 2s 6ms/step - loss: 0.0016 - accuracy: 0.9995 - val_loss: 0.0973 - val_accuracy: 0.9849\n",
            "Epoch 66/100\n",
            "375/375 [==============================] - 2s 6ms/step - loss: 2.5528e-04 - accuracy: 1.0000 - val_loss: 0.0935 - val_accuracy: 0.9852\n",
            "Epoch 67/100\n",
            "375/375 [==============================] - 2s 6ms/step - loss: 0.0034 - accuracy: 0.9989 - val_loss: 0.1376 - val_accuracy: 0.9794\n",
            "Epoch 68/100\n",
            "375/375 [==============================] - 2s 6ms/step - loss: 0.0043 - accuracy: 0.9984 - val_loss: 0.1082 - val_accuracy: 0.9818\n",
            "Epoch 69/100\n",
            "375/375 [==============================] - 2s 6ms/step - loss: 0.0021 - accuracy: 0.9993 - val_loss: 0.1125 - val_accuracy: 0.9828\n",
            "Epoch 70/100\n",
            "375/375 [==============================] - 2s 6ms/step - loss: 0.0016 - accuracy: 0.9994 - val_loss: 0.1055 - val_accuracy: 0.9827\n",
            "Epoch 71/100\n",
            "375/375 [==============================] - 2s 6ms/step - loss: 0.0013 - accuracy: 0.9996 - val_loss: 0.1029 - val_accuracy: 0.9834\n",
            "Epoch 72/100\n",
            "375/375 [==============================] - 2s 6ms/step - loss: 8.9039e-04 - accuracy: 0.9998 - val_loss: 0.1035 - val_accuracy: 0.9842\n",
            "Epoch 73/100\n",
            "375/375 [==============================] - 2s 6ms/step - loss: 4.6473e-04 - accuracy: 0.9999 - val_loss: 0.0953 - val_accuracy: 0.9840\n",
            "Epoch 74/100\n",
            "375/375 [==============================] - 2s 6ms/step - loss: 6.7606e-04 - accuracy: 0.9998 - val_loss: 0.1023 - val_accuracy: 0.9816\n",
            "Epoch 75/100\n",
            "375/375 [==============================] - 2s 6ms/step - loss: 0.0040 - accuracy: 0.9988 - val_loss: 0.1171 - val_accuracy: 0.9820\n",
            "Epoch 76/100\n",
            "375/375 [==============================] - 2s 6ms/step - loss: 0.0028 - accuracy: 0.9992 - val_loss: 0.1016 - val_accuracy: 0.9832\n",
            "Epoch 77/100\n",
            "375/375 [==============================] - 2s 6ms/step - loss: 4.9387e-04 - accuracy: 0.9999 - val_loss: 0.0983 - val_accuracy: 0.9850\n",
            "Epoch 78/100\n",
            "375/375 [==============================] - 2s 6ms/step - loss: 8.5385e-04 - accuracy: 0.9997 - val_loss: 0.1036 - val_accuracy: 0.9845\n",
            "Epoch 79/100\n",
            "375/375 [==============================] - 2s 6ms/step - loss: 0.0028 - accuracy: 0.9992 - val_loss: 0.1202 - val_accuracy: 0.9803\n",
            "Epoch 80/100\n",
            "375/375 [==============================] - 2s 6ms/step - loss: 0.0027 - accuracy: 0.9992 - val_loss: 0.0980 - val_accuracy: 0.9831\n",
            "Epoch 81/100\n",
            "375/375 [==============================] - 2s 6ms/step - loss: 0.0018 - accuracy: 0.9994 - val_loss: 0.1021 - val_accuracy: 0.9842\n",
            "Epoch 82/100\n",
            "375/375 [==============================] - 2s 6ms/step - loss: 3.6599e-04 - accuracy: 0.9999 - val_loss: 0.0980 - val_accuracy: 0.9841\n",
            "Epoch 83/100\n",
            "375/375 [==============================] - 2s 6ms/step - loss: 8.6399e-04 - accuracy: 0.9998 - val_loss: 0.1032 - val_accuracy: 0.9843\n",
            "Epoch 84/100\n",
            "375/375 [==============================] - 2s 6ms/step - loss: 0.0022 - accuracy: 0.9994 - val_loss: 0.1009 - val_accuracy: 0.9844\n",
            "Epoch 85/100\n",
            "375/375 [==============================] - 2s 6ms/step - loss: 8.1725e-04 - accuracy: 0.9997 - val_loss: 0.1093 - val_accuracy: 0.9833\n",
            "Epoch 86/100\n",
            "375/375 [==============================] - 2s 6ms/step - loss: 0.0023 - accuracy: 0.9994 - val_loss: 0.1257 - val_accuracy: 0.9812\n",
            "Epoch 87/100\n",
            "375/375 [==============================] - 2s 6ms/step - loss: 0.0031 - accuracy: 0.9990 - val_loss: 0.1242 - val_accuracy: 0.9809\n",
            "Epoch 88/100\n",
            "375/375 [==============================] - 2s 6ms/step - loss: 0.0019 - accuracy: 0.9995 - val_loss: 0.1149 - val_accuracy: 0.9818\n",
            "Epoch 89/100\n",
            "375/375 [==============================] - 2s 6ms/step - loss: 9.0482e-04 - accuracy: 0.9997 - val_loss: 0.1083 - val_accuracy: 0.9833\n",
            "Epoch 90/100\n",
            "375/375 [==============================] - 2s 6ms/step - loss: 2.5419e-04 - accuracy: 0.9999 - val_loss: 0.1009 - val_accuracy: 0.9834\n",
            "Epoch 91/100\n",
            "375/375 [==============================] - 2s 6ms/step - loss: 3.5714e-04 - accuracy: 1.0000 - val_loss: 0.1000 - val_accuracy: 0.9843\n",
            "Epoch 92/100\n",
            "375/375 [==============================] - 2s 6ms/step - loss: 0.0034 - accuracy: 0.9990 - val_loss: 0.1182 - val_accuracy: 0.9819\n",
            "Epoch 93/100\n",
            "375/375 [==============================] - 2s 6ms/step - loss: 0.0023 - accuracy: 0.9993 - val_loss: 0.1061 - val_accuracy: 0.9837\n",
            "Epoch 94/100\n",
            "375/375 [==============================] - 2s 6ms/step - loss: 6.8350e-04 - accuracy: 0.9998 - val_loss: 0.1070 - val_accuracy: 0.9832\n",
            "Epoch 95/100\n",
            "375/375 [==============================] - 2s 6ms/step - loss: 7.7362e-04 - accuracy: 0.9998 - val_loss: 0.1014 - val_accuracy: 0.9837\n",
            "Epoch 96/100\n",
            "375/375 [==============================] - 2s 6ms/step - loss: 0.0010 - accuracy: 0.9997 - val_loss: 0.1088 - val_accuracy: 0.9830\n",
            "Epoch 97/100\n",
            "375/375 [==============================] - 2s 6ms/step - loss: 0.0016 - accuracy: 0.9995 - val_loss: 0.1117 - val_accuracy: 0.9820\n",
            "Epoch 98/100\n",
            "375/375 [==============================] - 2s 6ms/step - loss: 1.9922e-04 - accuracy: 1.0000 - val_loss: 0.1001 - val_accuracy: 0.9837\n",
            "Epoch 99/100\n",
            "375/375 [==============================] - 2s 6ms/step - loss: 5.3563e-04 - accuracy: 0.9998 - val_loss: 0.1048 - val_accuracy: 0.9827\n",
            "Epoch 100/100\n",
            "375/375 [==============================] - 2s 6ms/step - loss: 0.0021 - accuracy: 0.9994 - val_loss: 0.1248 - val_accuracy: 0.9816\n",
            "CPU times: user 3min 37s, sys: 26.3 s, total: 4min 3s\n",
            "Wall time: 4min 22s\n"
          ],
          "name": "stdout"
        }
      ]
    },
    {
      "cell_type": "code",
      "metadata": {
        "id": "fvJ-1WQ85jr0"
      },
      "source": [
        "import matplotlib.pyplot as plt\n",
        "\n",
        "epochs = range(1,len(Hist_mnist.history['loss'])+1)\n",
        "\n",
        "plt.figure(figsize = (9, 6))\n",
        "plt.plot(epochs, Hist_mnist.history['loss'])\n",
        "plt.plot(epochs, Hist_mnist.history['val_loss'])\n",
        "# plt.ylim(0, 0.25)\n",
        "plt.title('Training & Validation Loss')\n",
        "plt.xlabel('Epochs')\n",
        "plt.ylabel('Loss')\n",
        "plt.legend(['Training Loss', 'Validation Loss'])\n",
        "plt.grid()\n",
        "plt.show()"
      ],
      "execution_count": null,
      "outputs": []
    },
    {
      "cell_type": "code",
      "metadata": {
        "colab": {
          "base_uri": "https://localhost:8080/"
        },
        "id": "1Noy5PTK3nla",
        "outputId": "ad0327f8-2bde-4d8d-fc4e-c9e6b03782e8"
      },
      "source": [
        "loss, accuracy = mnist.evaluate(X_test,y_test)\n",
        "print('Loss = {:.5f}'.format(loss))\n",
        "print('Accuracy = {:.5f}'.format(accuracy))"
      ],
      "execution_count": null,
      "outputs": [
        {
          "output_type": "stream",
          "text": [
            "313/313 [==============================] - 1s 3ms/step - loss: 0.1070 - accuracy: 0.9826\n",
            "Loss = 0.10704\n",
            "Accuracy = 0.98260\n"
          ],
          "name": "stdout"
        }
      ]
    },
    {
      "cell_type": "markdown",
      "metadata": {
        "id": "ZOIsL7gH3rTV"
      },
      "source": [
        "## L2+ Dropout"
      ]
    },
    {
      "cell_type": "code",
      "metadata": {
        "id": "qsnLDPTa3viG"
      },
      "source": [
        "from tensorflow.keras import models\n",
        "from tensorflow.keras import layers\n",
        "from tensorflow.keras import regularizers\n",
        "\n",
        "# Sequential은 레이어의 선형 스택을 tf.keras.Model로 그룹화합니다. \n",
        "# Sequential은 이 모델에 대한 학습 및 추론 기능을 제공합니다.\n",
        "\n",
        "mnist = models.Sequential()\n",
        "\n",
        "mnist.add(layers.Dense(512,activation='relu',input_shape=(28*28,),\n",
        "                       kernel_regularizer = regularizers.l2(0.00001)))\n",
        "mnist.add(layers.Dropout(0.4))\n",
        "mnist.add(layers.Dense(256,activation='relu',\n",
        "                       kernel_regularizer = regularizers.l2(0.00001)))\n",
        "mnist.add(layers.Dropout(0.2))\n",
        "mnist.add(layers.Dense(10,activation='softmax'))"
      ],
      "execution_count": null,
      "outputs": []
    },
    {
      "cell_type": "code",
      "metadata": {
        "id": "LZQgky6h3viP"
      },
      "source": [
        "mnist.compile(loss='categorical_crossentropy',\n",
        "              optimizer='adam',\n",
        "              metrics=['accuracy'])"
      ],
      "execution_count": null,
      "outputs": []
    },
    {
      "cell_type": "code",
      "metadata": {
        "colab": {
          "base_uri": "https://localhost:8080/"
        },
        "id": "HYkURM383viQ",
        "outputId": "abfa7016-2dae-4bfc-d131-1d126b2fb6e3"
      },
      "source": [
        "%%time\n",
        "# 60000*0.8/128=375\n",
        "Hist_mnist = mnist.fit(X_train,y_train,\n",
        "                 epochs = 100,\n",
        "                 batch_size=128,\n",
        "                 validation_split = 0.2)"
      ],
      "execution_count": null,
      "outputs": [
        {
          "output_type": "stream",
          "text": [
            "Epoch 1/100\n",
            "375/375 [==============================] - 3s 6ms/step - loss: 0.3432 - accuracy: 0.8991 - val_loss: 0.1467 - val_accuracy: 0.9597\n",
            "Epoch 2/100\n",
            "375/375 [==============================] - 2s 5ms/step - loss: 0.1560 - accuracy: 0.9554 - val_loss: 0.1114 - val_accuracy: 0.9688\n",
            "Epoch 3/100\n",
            "375/375 [==============================] - 2s 5ms/step - loss: 0.1211 - accuracy: 0.9664 - val_loss: 0.1025 - val_accuracy: 0.9732\n",
            "Epoch 4/100\n",
            "375/375 [==============================] - 2s 5ms/step - loss: 0.0986 - accuracy: 0.9731 - val_loss: 0.0981 - val_accuracy: 0.9743\n",
            "Epoch 5/100\n",
            "375/375 [==============================] - 2s 5ms/step - loss: 0.0904 - accuracy: 0.9749 - val_loss: 0.0916 - val_accuracy: 0.9773\n",
            "Epoch 6/100\n",
            "375/375 [==============================] - 2s 5ms/step - loss: 0.0807 - accuracy: 0.9782 - val_loss: 0.0937 - val_accuracy: 0.9787\n",
            "Epoch 7/100\n",
            "375/375 [==============================] - 2s 5ms/step - loss: 0.0728 - accuracy: 0.9816 - val_loss: 0.0935 - val_accuracy: 0.9790\n",
            "Epoch 8/100\n",
            "375/375 [==============================] - 2s 5ms/step - loss: 0.0691 - accuracy: 0.9825 - val_loss: 0.0927 - val_accuracy: 0.9783\n",
            "Epoch 9/100\n",
            "375/375 [==============================] - 2s 5ms/step - loss: 0.0659 - accuracy: 0.9837 - val_loss: 0.0946 - val_accuracy: 0.9789\n",
            "Epoch 10/100\n",
            "375/375 [==============================] - 2s 5ms/step - loss: 0.0655 - accuracy: 0.9843 - val_loss: 0.0995 - val_accuracy: 0.9783\n",
            "Epoch 11/100\n",
            "375/375 [==============================] - 2s 5ms/step - loss: 0.0601 - accuracy: 0.9863 - val_loss: 0.1025 - val_accuracy: 0.9789\n",
            "Epoch 12/100\n",
            "375/375 [==============================] - 2s 5ms/step - loss: 0.0586 - accuracy: 0.9873 - val_loss: 0.0987 - val_accuracy: 0.9794\n",
            "Epoch 13/100\n",
            "375/375 [==============================] - 2s 5ms/step - loss: 0.0567 - accuracy: 0.9875 - val_loss: 0.0976 - val_accuracy: 0.9805\n",
            "Epoch 14/100\n",
            "375/375 [==============================] - 2s 5ms/step - loss: 0.0579 - accuracy: 0.9877 - val_loss: 0.1024 - val_accuracy: 0.9794\n",
            "Epoch 15/100\n",
            "375/375 [==============================] - 2s 5ms/step - loss: 0.0560 - accuracy: 0.9883 - val_loss: 0.1003 - val_accuracy: 0.9805\n",
            "Epoch 16/100\n",
            "375/375 [==============================] - 2s 5ms/step - loss: 0.0571 - accuracy: 0.9879 - val_loss: 0.1034 - val_accuracy: 0.9805\n",
            "Epoch 17/100\n",
            "375/375 [==============================] - 2s 5ms/step - loss: 0.0555 - accuracy: 0.9886 - val_loss: 0.0972 - val_accuracy: 0.9808\n",
            "Epoch 18/100\n",
            "375/375 [==============================] - 2s 5ms/step - loss: 0.0550 - accuracy: 0.9896 - val_loss: 0.1050 - val_accuracy: 0.9815\n",
            "Epoch 19/100\n",
            "375/375 [==============================] - 2s 5ms/step - loss: 0.0554 - accuracy: 0.9894 - val_loss: 0.1088 - val_accuracy: 0.9804\n",
            "Epoch 20/100\n",
            "375/375 [==============================] - 2s 5ms/step - loss: 0.0527 - accuracy: 0.9900 - val_loss: 0.1008 - val_accuracy: 0.9803\n",
            "Epoch 21/100\n",
            "375/375 [==============================] - 2s 5ms/step - loss: 0.0538 - accuracy: 0.9903 - val_loss: 0.1010 - val_accuracy: 0.9807\n",
            "Epoch 22/100\n",
            "375/375 [==============================] - 2s 5ms/step - loss: 0.0517 - accuracy: 0.9911 - val_loss: 0.1140 - val_accuracy: 0.9798\n",
            "Epoch 23/100\n",
            "375/375 [==============================] - 2s 5ms/step - loss: 0.0535 - accuracy: 0.9906 - val_loss: 0.1054 - val_accuracy: 0.9813\n",
            "Epoch 24/100\n",
            "375/375 [==============================] - 2s 5ms/step - loss: 0.0526 - accuracy: 0.9907 - val_loss: 0.1089 - val_accuracy: 0.9808\n",
            "Epoch 25/100\n",
            "375/375 [==============================] - 2s 5ms/step - loss: 0.0506 - accuracy: 0.9912 - val_loss: 0.1058 - val_accuracy: 0.9819\n",
            "Epoch 26/100\n",
            "375/375 [==============================] - 2s 5ms/step - loss: 0.0527 - accuracy: 0.9914 - val_loss: 0.1024 - val_accuracy: 0.9827\n",
            "Epoch 27/100\n",
            "375/375 [==============================] - 2s 5ms/step - loss: 0.0527 - accuracy: 0.9916 - val_loss: 0.1055 - val_accuracy: 0.9810\n",
            "Epoch 28/100\n",
            "375/375 [==============================] - 2s 5ms/step - loss: 0.0512 - accuracy: 0.9919 - val_loss: 0.1039 - val_accuracy: 0.9827\n",
            "Epoch 29/100\n",
            "375/375 [==============================] - 2s 5ms/step - loss: 0.0528 - accuracy: 0.9914 - val_loss: 0.1098 - val_accuracy: 0.9813\n",
            "Epoch 30/100\n",
            "375/375 [==============================] - 2s 5ms/step - loss: 0.0515 - accuracy: 0.9916 - val_loss: 0.1115 - val_accuracy: 0.9812\n",
            "Epoch 31/100\n",
            "375/375 [==============================] - 2s 5ms/step - loss: 0.0519 - accuracy: 0.9921 - val_loss: 0.1047 - val_accuracy: 0.9818\n",
            "Epoch 32/100\n",
            "375/375 [==============================] - 2s 5ms/step - loss: 0.0530 - accuracy: 0.9917 - val_loss: 0.1148 - val_accuracy: 0.9818\n",
            "Epoch 33/100\n",
            "375/375 [==============================] - 2s 5ms/step - loss: 0.0514 - accuracy: 0.9924 - val_loss: 0.1113 - val_accuracy: 0.9818\n",
            "Epoch 34/100\n",
            "375/375 [==============================] - 2s 5ms/step - loss: 0.0518 - accuracy: 0.9923 - val_loss: 0.1117 - val_accuracy: 0.9816\n",
            "Epoch 35/100\n",
            "375/375 [==============================] - 2s 5ms/step - loss: 0.0492 - accuracy: 0.9933 - val_loss: 0.1230 - val_accuracy: 0.9791\n",
            "Epoch 36/100\n",
            "375/375 [==============================] - 2s 5ms/step - loss: 0.0545 - accuracy: 0.9916 - val_loss: 0.1106 - val_accuracy: 0.9822\n",
            "Epoch 37/100\n",
            "375/375 [==============================] - 2s 5ms/step - loss: 0.0509 - accuracy: 0.9926 - val_loss: 0.1100 - val_accuracy: 0.9822\n",
            "Epoch 38/100\n",
            "375/375 [==============================] - 2s 5ms/step - loss: 0.0545 - accuracy: 0.9918 - val_loss: 0.1039 - val_accuracy: 0.9827\n",
            "Epoch 39/100\n",
            "375/375 [==============================] - 2s 5ms/step - loss: 0.0516 - accuracy: 0.9924 - val_loss: 0.1157 - val_accuracy: 0.9818\n",
            "Epoch 40/100\n",
            "375/375 [==============================] - 2s 5ms/step - loss: 0.0542 - accuracy: 0.9924 - val_loss: 0.1058 - val_accuracy: 0.9837\n",
            "Epoch 41/100\n",
            "375/375 [==============================] - 2s 5ms/step - loss: 0.0520 - accuracy: 0.9927 - val_loss: 0.1146 - val_accuracy: 0.9827\n",
            "Epoch 42/100\n",
            "375/375 [==============================] - 2s 5ms/step - loss: 0.0501 - accuracy: 0.9934 - val_loss: 0.1151 - val_accuracy: 0.9828\n",
            "Epoch 43/100\n",
            "375/375 [==============================] - 2s 5ms/step - loss: 0.0528 - accuracy: 0.9924 - val_loss: 0.1144 - val_accuracy: 0.9811\n",
            "Epoch 44/100\n",
            "375/375 [==============================] - 2s 5ms/step - loss: 0.0543 - accuracy: 0.9923 - val_loss: 0.1070 - val_accuracy: 0.9825\n",
            "Epoch 45/100\n",
            "375/375 [==============================] - 2s 5ms/step - loss: 0.0484 - accuracy: 0.9938 - val_loss: 0.1155 - val_accuracy: 0.9807\n",
            "Epoch 46/100\n",
            "375/375 [==============================] - 2s 5ms/step - loss: 0.0529 - accuracy: 0.9923 - val_loss: 0.1173 - val_accuracy: 0.9817\n",
            "Epoch 47/100\n",
            "375/375 [==============================] - 2s 5ms/step - loss: 0.0518 - accuracy: 0.9933 - val_loss: 0.1203 - val_accuracy: 0.9814\n",
            "Epoch 48/100\n",
            "375/375 [==============================] - 2s 5ms/step - loss: 0.0518 - accuracy: 0.9933 - val_loss: 0.1174 - val_accuracy: 0.9821\n",
            "Epoch 49/100\n",
            "375/375 [==============================] - 2s 5ms/step - loss: 0.0500 - accuracy: 0.9939 - val_loss: 0.1141 - val_accuracy: 0.9837\n",
            "Epoch 50/100\n",
            "375/375 [==============================] - 2s 5ms/step - loss: 0.0527 - accuracy: 0.9933 - val_loss: 0.1103 - val_accuracy: 0.9837\n",
            "Epoch 51/100\n",
            "375/375 [==============================] - 2s 5ms/step - loss: 0.0535 - accuracy: 0.9930 - val_loss: 0.1111 - val_accuracy: 0.9837\n",
            "Epoch 52/100\n",
            "375/375 [==============================] - 2s 5ms/step - loss: 0.0538 - accuracy: 0.9932 - val_loss: 0.1084 - val_accuracy: 0.9833\n",
            "Epoch 53/100\n",
            "375/375 [==============================] - 2s 5ms/step - loss: 0.0520 - accuracy: 0.9934 - val_loss: 0.1136 - val_accuracy: 0.9821\n",
            "Epoch 54/100\n",
            "375/375 [==============================] - 2s 5ms/step - loss: 0.0513 - accuracy: 0.9937 - val_loss: 0.1257 - val_accuracy: 0.9810\n",
            "Epoch 55/100\n",
            "375/375 [==============================] - 2s 5ms/step - loss: 0.0518 - accuracy: 0.9937 - val_loss: 0.1138 - val_accuracy: 0.9830\n",
            "Epoch 56/100\n",
            "375/375 [==============================] - 2s 5ms/step - loss: 0.0480 - accuracy: 0.9946 - val_loss: 0.1314 - val_accuracy: 0.9824\n",
            "Epoch 57/100\n",
            "375/375 [==============================] - 2s 5ms/step - loss: 0.0553 - accuracy: 0.9924 - val_loss: 0.1255 - val_accuracy: 0.9827\n",
            "Epoch 58/100\n",
            "375/375 [==============================] - 2s 5ms/step - loss: 0.0538 - accuracy: 0.9928 - val_loss: 0.1169 - val_accuracy: 0.9834\n",
            "Epoch 59/100\n",
            "375/375 [==============================] - 2s 5ms/step - loss: 0.0504 - accuracy: 0.9942 - val_loss: 0.1145 - val_accuracy: 0.9828\n",
            "Epoch 60/100\n",
            "375/375 [==============================] - 2s 5ms/step - loss: 0.0549 - accuracy: 0.9930 - val_loss: 0.1176 - val_accuracy: 0.9818\n",
            "Epoch 61/100\n",
            "375/375 [==============================] - 2s 5ms/step - loss: 0.0485 - accuracy: 0.9947 - val_loss: 0.1127 - val_accuracy: 0.9831\n",
            "Epoch 62/100\n",
            "375/375 [==============================] - 2s 5ms/step - loss: 0.0515 - accuracy: 0.9937 - val_loss: 0.1176 - val_accuracy: 0.9832\n",
            "Epoch 63/100\n",
            "375/375 [==============================] - 2s 5ms/step - loss: 0.0495 - accuracy: 0.9942 - val_loss: 0.1175 - val_accuracy: 0.9832\n",
            "Epoch 64/100\n",
            "375/375 [==============================] - 2s 5ms/step - loss: 0.0519 - accuracy: 0.9940 - val_loss: 0.1182 - val_accuracy: 0.9831\n",
            "Epoch 65/100\n",
            "375/375 [==============================] - 2s 5ms/step - loss: 0.0513 - accuracy: 0.9942 - val_loss: 0.1154 - val_accuracy: 0.9825\n",
            "Epoch 66/100\n",
            "375/375 [==============================] - 2s 5ms/step - loss: 0.0544 - accuracy: 0.9936 - val_loss: 0.1116 - val_accuracy: 0.9835\n",
            "Epoch 67/100\n",
            "375/375 [==============================] - 2s 5ms/step - loss: 0.0523 - accuracy: 0.9937 - val_loss: 0.1071 - val_accuracy: 0.9843\n",
            "Epoch 68/100\n",
            "375/375 [==============================] - 2s 5ms/step - loss: 0.0534 - accuracy: 0.9933 - val_loss: 0.1244 - val_accuracy: 0.9822\n",
            "Epoch 69/100\n",
            "375/375 [==============================] - 2s 5ms/step - loss: 0.0522 - accuracy: 0.9934 - val_loss: 0.1253 - val_accuracy: 0.9817\n",
            "Epoch 70/100\n",
            "375/375 [==============================] - 2s 5ms/step - loss: 0.0503 - accuracy: 0.9942 - val_loss: 0.1134 - val_accuracy: 0.9835\n",
            "Epoch 71/100\n",
            "375/375 [==============================] - 2s 5ms/step - loss: 0.0523 - accuracy: 0.9937 - val_loss: 0.1299 - val_accuracy: 0.9816\n",
            "Epoch 72/100\n",
            "375/375 [==============================] - 2s 5ms/step - loss: 0.0510 - accuracy: 0.9940 - val_loss: 0.1204 - val_accuracy: 0.9820\n",
            "Epoch 73/100\n",
            "375/375 [==============================] - 2s 5ms/step - loss: 0.0508 - accuracy: 0.9944 - val_loss: 0.1200 - val_accuracy: 0.9818\n",
            "Epoch 74/100\n",
            "375/375 [==============================] - 2s 5ms/step - loss: 0.0512 - accuracy: 0.9941 - val_loss: 0.1181 - val_accuracy: 0.9833\n",
            "Epoch 75/100\n",
            "375/375 [==============================] - 2s 5ms/step - loss: 0.0502 - accuracy: 0.9943 - val_loss: 0.1155 - val_accuracy: 0.9847\n",
            "Epoch 76/100\n",
            "375/375 [==============================] - 2s 5ms/step - loss: 0.0522 - accuracy: 0.9941 - val_loss: 0.1158 - val_accuracy: 0.9835\n",
            "Epoch 77/100\n",
            "375/375 [==============================] - 2s 5ms/step - loss: 0.0516 - accuracy: 0.9940 - val_loss: 0.1168 - val_accuracy: 0.9819\n",
            "Epoch 78/100\n",
            "375/375 [==============================] - 2s 5ms/step - loss: 0.0511 - accuracy: 0.9940 - val_loss: 0.1170 - val_accuracy: 0.9827\n",
            "Epoch 79/100\n",
            "375/375 [==============================] - 2s 5ms/step - loss: 0.0535 - accuracy: 0.9935 - val_loss: 0.1125 - val_accuracy: 0.9820\n",
            "Epoch 80/100\n",
            "375/375 [==============================] - 2s 5ms/step - loss: 0.0504 - accuracy: 0.9944 - val_loss: 0.1156 - val_accuracy: 0.9837\n",
            "Epoch 81/100\n",
            "375/375 [==============================] - 2s 5ms/step - loss: 0.0517 - accuracy: 0.9940 - val_loss: 0.1220 - val_accuracy: 0.9827\n",
            "Epoch 82/100\n",
            "375/375 [==============================] - 2s 5ms/step - loss: 0.0508 - accuracy: 0.9942 - val_loss: 0.1132 - val_accuracy: 0.9831\n",
            "Epoch 83/100\n",
            "375/375 [==============================] - 2s 5ms/step - loss: 0.0515 - accuracy: 0.9942 - val_loss: 0.1214 - val_accuracy: 0.9827\n",
            "Epoch 84/100\n",
            "375/375 [==============================] - 2s 5ms/step - loss: 0.0518 - accuracy: 0.9938 - val_loss: 0.1173 - val_accuracy: 0.9824\n",
            "Epoch 85/100\n",
            "375/375 [==============================] - 2s 5ms/step - loss: 0.0523 - accuracy: 0.9935 - val_loss: 0.1181 - val_accuracy: 0.9827\n",
            "Epoch 86/100\n",
            "375/375 [==============================] - 2s 5ms/step - loss: 0.0495 - accuracy: 0.9950 - val_loss: 0.1120 - val_accuracy: 0.9848\n",
            "Epoch 87/100\n",
            "375/375 [==============================] - 2s 5ms/step - loss: 0.0490 - accuracy: 0.9948 - val_loss: 0.1157 - val_accuracy: 0.9836\n",
            "Epoch 88/100\n",
            "375/375 [==============================] - 2s 5ms/step - loss: 0.0544 - accuracy: 0.9931 - val_loss: 0.1132 - val_accuracy: 0.9825\n",
            "Epoch 89/100\n",
            "375/375 [==============================] - 2s 5ms/step - loss: 0.0532 - accuracy: 0.9940 - val_loss: 0.1139 - val_accuracy: 0.9828\n",
            "Epoch 90/100\n",
            "375/375 [==============================] - 2s 5ms/step - loss: 0.0516 - accuracy: 0.9944 - val_loss: 0.1172 - val_accuracy: 0.9828\n",
            "Epoch 91/100\n",
            "375/375 [==============================] - 2s 5ms/step - loss: 0.0512 - accuracy: 0.9942 - val_loss: 0.1128 - val_accuracy: 0.9822\n",
            "Epoch 92/100\n",
            "375/375 [==============================] - 2s 5ms/step - loss: 0.0525 - accuracy: 0.9938 - val_loss: 0.1175 - val_accuracy: 0.9822\n",
            "Epoch 93/100\n",
            "375/375 [==============================] - 2s 5ms/step - loss: 0.0504 - accuracy: 0.9945 - val_loss: 0.1229 - val_accuracy: 0.9837\n",
            "Epoch 94/100\n",
            "375/375 [==============================] - 2s 5ms/step - loss: 0.0506 - accuracy: 0.9943 - val_loss: 0.1149 - val_accuracy: 0.9833\n",
            "Epoch 95/100\n",
            "375/375 [==============================] - 2s 5ms/step - loss: 0.0499 - accuracy: 0.9946 - val_loss: 0.1122 - val_accuracy: 0.9842\n",
            "Epoch 96/100\n",
            "375/375 [==============================] - 2s 5ms/step - loss: 0.0502 - accuracy: 0.9947 - val_loss: 0.1165 - val_accuracy: 0.9822\n",
            "Epoch 97/100\n",
            "375/375 [==============================] - 2s 5ms/step - loss: 0.0512 - accuracy: 0.9949 - val_loss: 0.1138 - val_accuracy: 0.9843\n",
            "Epoch 98/100\n",
            "375/375 [==============================] - 2s 5ms/step - loss: 0.0495 - accuracy: 0.9948 - val_loss: 0.1236 - val_accuracy: 0.9830\n",
            "Epoch 99/100\n",
            "375/375 [==============================] - 2s 5ms/step - loss: 0.0490 - accuracy: 0.9951 - val_loss: 0.1212 - val_accuracy: 0.9828\n",
            "Epoch 100/100\n",
            "375/375 [==============================] - 2s 5ms/step - loss: 0.0554 - accuracy: 0.9931 - val_loss: 0.1183 - val_accuracy: 0.9822\n",
            "CPU times: user 3min 13s, sys: 26.8 s, total: 3min 40s\n",
            "Wall time: 3min 22s\n"
          ],
          "name": "stdout"
        }
      ]
    },
    {
      "cell_type": "code",
      "metadata": {
        "colab": {
          "base_uri": "https://localhost:8080/",
          "height": 404
        },
        "id": "bpGqKToz5mBb",
        "outputId": "603cdd33-77e7-40a3-ef4f-f13e132e367d"
      },
      "source": [
        "import matplotlib.pyplot as plt\n",
        "\n",
        "epochs = range(1,len(Hist_mnist.history['loss'])+1)\n",
        "\n",
        "plt.figure(figsize = (9, 6))\n",
        "plt.plot(epochs, Hist_mnist.history['loss'])\n",
        "plt.plot(epochs, Hist_mnist.history['val_loss'])\n",
        "# plt.ylim(0, 0.25)\n",
        "plt.title('Training & Validation Loss')\n",
        "plt.xlabel('Epochs')\n",
        "plt.ylabel('Loss')\n",
        "plt.legend(['Training Loss', 'Validation Loss'])\n",
        "plt.grid()\n",
        "plt.show()"
      ],
      "execution_count": null,
      "outputs": [
        {
          "output_type": "display_data",
          "data": {
            "image/png": "[encoded data removed]",
            "text/plain": [
              "<Figure size 648x432 with 1 Axes>"
            ]
          },
          "metadata": {
            "tags": [],
            "needs_background": "light"
          }
        }
      ]
    },
    {
      "cell_type": "code",
      "metadata": {
        "colab": {
          "base_uri": "https://localhost:8080/"
        },
        "id": "kbZt3rpS3viR",
        "outputId": "772b8eb0-b02c-45ef-d23e-84def0258d79"
      },
      "source": [
        "loss, accuracy = mnist.evaluate(X_test,y_test)\n",
        "print('Loss = {:.5f}'.format(loss))\n",
        "print('Accuracy = {:.5f}'.format(accuracy))"
      ],
      "execution_count": null,
      "outputs": [
        {
          "output_type": "stream",
          "text": [
            "313/313 [==============================] - 1s 3ms/step - loss: 0.1107 - accuracy: 0.9831\n",
            "Loss = 0.11069\n",
            "Accuracy = 0.98310\n"
          ],
          "name": "stdout"
        }
      ]
    },
    {
      "cell_type": "markdown",
      "metadata": {
        "id": "rg1d_kaS4snz"
      },
      "source": [
        "## L2+ Batch"
      ]
    },
    {
      "cell_type": "code",
      "metadata": {
        "id": "OGviWC6D5wZK"
      },
      "source": [
        "from tensorflow.keras import models\n",
        "from tensorflow.keras import layers\n",
        "from tensorflow.keras import regularizers\n",
        "\n",
        "# Sequential은 레이어의 선형 스택을 tf.keras.Model로 그룹화합니다. \n",
        "# Sequential은 이 모델에 대한 학습 및 추론 기능을 제공합니다.\n",
        "\n",
        "mnist = models.Sequential()\n",
        "\n",
        "mnist.add(layers.Dense(512,input_shape=(28*28,),\n",
        "                       kernel_regularizer = regularizers.l2(0.00001)))\n",
        "mnist.add(layers.BatchNormalization())\n",
        "mnist.add(layers.Activation('relu'))\n",
        "mnist.add(layers.Dense(256,\n",
        "                       kernel_regularizer = regularizers.l2(0.00001)))\n",
        "mnist.add(layers.BatchNormalization())\n",
        "mnist.add(layers.Activation('relu'))\n",
        "mnist.add(layers.Dense(10,activation='softmax'))"
      ],
      "execution_count": null,
      "outputs": []
    },
    {
      "cell_type": "code",
      "metadata": {
        "id": "4YJEcxTu5wZL"
      },
      "source": [
        "mnist.compile(loss='categorical_crossentropy',\n",
        "              optimizer='adam',\n",
        "              metrics=['accuracy'])"
      ],
      "execution_count": null,
      "outputs": []
    },
    {
      "cell_type": "code",
      "metadata": {
        "colab": {
          "base_uri": "https://localhost:8080/"
        },
        "id": "3Ob4ujRh5wZL",
        "outputId": "2b405bea-cdad-4634-d2ea-a3e945b224bc"
      },
      "source": [
        "%%time\n",
        "# 60000*0.8/128=375\n",
        "Hist_mnist = mnist.fit(X_train,y_train,\n",
        "                 epochs = 100,\n",
        "                 batch_size=128,\n",
        "                 validation_split = 0.2)"
      ],
      "execution_count": null,
      "outputs": [
        {
          "output_type": "stream",
          "text": [
            "Epoch 1/100\n",
            "375/375 [==============================] - 3s 6ms/step - loss: 0.2010 - accuracy: 0.9437 - val_loss: 0.1233 - val_accuracy: 0.9646\n",
            "Epoch 2/100\n",
            "375/375 [==============================] - 2s 6ms/step - loss: 0.0798 - accuracy: 0.9788 - val_loss: 0.1000 - val_accuracy: 0.9731\n",
            "Epoch 3/100\n",
            "375/375 [==============================] - 2s 6ms/step - loss: 0.0555 - accuracy: 0.9861 - val_loss: 0.1065 - val_accuracy: 0.9712\n",
            "Epoch 4/100\n",
            "375/375 [==============================] - 2s 6ms/step - loss: 0.0390 - accuracy: 0.9913 - val_loss: 0.0903 - val_accuracy: 0.9771\n",
            "Epoch 5/100\n",
            "375/375 [==============================] - 2s 6ms/step - loss: 0.0331 - accuracy: 0.9932 - val_loss: 0.0906 - val_accuracy: 0.9772\n",
            "Epoch 6/100\n",
            "375/375 [==============================] - 2s 6ms/step - loss: 0.0316 - accuracy: 0.9934 - val_loss: 0.1050 - val_accuracy: 0.9741\n",
            "Epoch 7/100\n",
            "375/375 [==============================] - 2s 6ms/step - loss: 0.0289 - accuracy: 0.9944 - val_loss: 0.1010 - val_accuracy: 0.9756\n",
            "Epoch 8/100\n",
            "375/375 [==============================] - 2s 6ms/step - loss: 0.0277 - accuracy: 0.9950 - val_loss: 0.1056 - val_accuracy: 0.9755\n",
            "Epoch 9/100\n",
            "375/375 [==============================] - 2s 6ms/step - loss: 0.0275 - accuracy: 0.9952 - val_loss: 0.0951 - val_accuracy: 0.9781\n",
            "Epoch 10/100\n",
            "375/375 [==============================] - 2s 6ms/step - loss: 0.0251 - accuracy: 0.9961 - val_loss: 0.1092 - val_accuracy: 0.9768\n",
            "Epoch 11/100\n",
            "375/375 [==============================] - 2s 6ms/step - loss: 0.0249 - accuracy: 0.9962 - val_loss: 0.1319 - val_accuracy: 0.9720\n",
            "Epoch 12/100\n",
            "375/375 [==============================] - 2s 6ms/step - loss: 0.0251 - accuracy: 0.9962 - val_loss: 0.1218 - val_accuracy: 0.9746\n",
            "Epoch 13/100\n",
            "375/375 [==============================] - 2s 6ms/step - loss: 0.0285 - accuracy: 0.9950 - val_loss: 0.1038 - val_accuracy: 0.9787\n",
            "Epoch 14/100\n",
            "375/375 [==============================] - 2s 6ms/step - loss: 0.0260 - accuracy: 0.9965 - val_loss: 0.1036 - val_accuracy: 0.9787\n",
            "Epoch 15/100\n",
            "375/375 [==============================] - 2s 6ms/step - loss: 0.0285 - accuracy: 0.9954 - val_loss: 0.1009 - val_accuracy: 0.9802\n",
            "Epoch 16/100\n",
            "375/375 [==============================] - 2s 6ms/step - loss: 0.0229 - accuracy: 0.9977 - val_loss: 0.0973 - val_accuracy: 0.9818\n",
            "Epoch 17/100\n",
            "375/375 [==============================] - 2s 6ms/step - loss: 0.0225 - accuracy: 0.9977 - val_loss: 0.1078 - val_accuracy: 0.9786\n",
            "Epoch 18/100\n",
            "375/375 [==============================] - 2s 6ms/step - loss: 0.0263 - accuracy: 0.9966 - val_loss: 0.1371 - val_accuracy: 0.9729\n",
            "Epoch 19/100\n",
            "375/375 [==============================] - 2s 6ms/step - loss: 0.0266 - accuracy: 0.9964 - val_loss: 0.1082 - val_accuracy: 0.9796\n",
            "Epoch 20/100\n",
            "375/375 [==============================] - 2s 6ms/step - loss: 0.0229 - accuracy: 0.9981 - val_loss: 0.1089 - val_accuracy: 0.9796\n",
            "Epoch 21/100\n",
            "375/375 [==============================] - 2s 6ms/step - loss: 0.0267 - accuracy: 0.9966 - val_loss: 0.1128 - val_accuracy: 0.9787\n",
            "Epoch 22/100\n",
            "375/375 [==============================] - 2s 6ms/step - loss: 0.0253 - accuracy: 0.9972 - val_loss: 0.1058 - val_accuracy: 0.9793\n",
            "Epoch 23/100\n",
            "375/375 [==============================] - 2s 6ms/step - loss: 0.0226 - accuracy: 0.9983 - val_loss: 0.1071 - val_accuracy: 0.9803\n",
            "Epoch 24/100\n",
            "375/375 [==============================] - 2s 6ms/step - loss: 0.0240 - accuracy: 0.9978 - val_loss: 0.1139 - val_accuracy: 0.9793\n",
            "Epoch 25/100\n",
            "375/375 [==============================] - 2s 6ms/step - loss: 0.0296 - accuracy: 0.9958 - val_loss: 0.1282 - val_accuracy: 0.9757\n",
            "Epoch 26/100\n",
            "375/375 [==============================] - 2s 6ms/step - loss: 0.0281 - accuracy: 0.9968 - val_loss: 0.1089 - val_accuracy: 0.9816\n",
            "Epoch 27/100\n",
            "375/375 [==============================] - 2s 6ms/step - loss: 0.0238 - accuracy: 0.9982 - val_loss: 0.1062 - val_accuracy: 0.9788\n",
            "Epoch 28/100\n",
            "375/375 [==============================] - 2s 6ms/step - loss: 0.0239 - accuracy: 0.9983 - val_loss: 0.1021 - val_accuracy: 0.9811\n",
            "Epoch 29/100\n",
            "375/375 [==============================] - 2s 6ms/step - loss: 0.0224 - accuracy: 0.9985 - val_loss: 0.1156 - val_accuracy: 0.9800\n",
            "Epoch 30/100\n",
            "375/375 [==============================] - 2s 6ms/step - loss: 0.0287 - accuracy: 0.9962 - val_loss: 0.1458 - val_accuracy: 0.9726\n",
            "Epoch 31/100\n",
            "375/375 [==============================] - 2s 6ms/step - loss: 0.0292 - accuracy: 0.9969 - val_loss: 0.1184 - val_accuracy: 0.9783\n",
            "Epoch 32/100\n",
            "375/375 [==============================] - 2s 6ms/step - loss: 0.0253 - accuracy: 0.9977 - val_loss: 0.1156 - val_accuracy: 0.9798\n",
            "Epoch 33/100\n",
            "375/375 [==============================] - 2s 6ms/step - loss: 0.0226 - accuracy: 0.9989 - val_loss: 0.0979 - val_accuracy: 0.9827\n",
            "Epoch 34/100\n",
            "375/375 [==============================] - 2s 6ms/step - loss: 0.0259 - accuracy: 0.9978 - val_loss: 0.1167 - val_accuracy: 0.9797\n",
            "Epoch 35/100\n",
            "375/375 [==============================] - 2s 6ms/step - loss: 0.0251 - accuracy: 0.9982 - val_loss: 0.1134 - val_accuracy: 0.9808\n",
            "Epoch 36/100\n",
            "375/375 [==============================] - 2s 6ms/step - loss: 0.0256 - accuracy: 0.9976 - val_loss: 0.1244 - val_accuracy: 0.9787\n",
            "Epoch 37/100\n",
            "375/375 [==============================] - 2s 6ms/step - loss: 0.0226 - accuracy: 0.9988 - val_loss: 0.1242 - val_accuracy: 0.9794\n",
            "Epoch 38/100\n",
            "375/375 [==============================] - 2s 6ms/step - loss: 0.0262 - accuracy: 0.9971 - val_loss: 0.1413 - val_accuracy: 0.9772\n",
            "Epoch 39/100\n",
            "375/375 [==============================] - 2s 6ms/step - loss: 0.0285 - accuracy: 0.9973 - val_loss: 0.1241 - val_accuracy: 0.9800\n",
            "Epoch 40/100\n",
            "375/375 [==============================] - 2s 6ms/step - loss: 0.0253 - accuracy: 0.9979 - val_loss: 0.1228 - val_accuracy: 0.9799\n",
            "Epoch 41/100\n",
            "375/375 [==============================] - 2s 6ms/step - loss: 0.0219 - accuracy: 0.9991 - val_loss: 0.1130 - val_accuracy: 0.9819\n",
            "Epoch 42/100\n",
            "375/375 [==============================] - 2s 6ms/step - loss: 0.0221 - accuracy: 0.9986 - val_loss: 0.1199 - val_accuracy: 0.9808\n",
            "Epoch 43/100\n",
            "375/375 [==============================] - 2s 6ms/step - loss: 0.0284 - accuracy: 0.9969 - val_loss: 0.1246 - val_accuracy: 0.9802\n",
            "Epoch 44/100\n",
            "375/375 [==============================] - 2s 6ms/step - loss: 0.0283 - accuracy: 0.9968 - val_loss: 0.1247 - val_accuracy: 0.9799\n",
            "Epoch 45/100\n",
            "375/375 [==============================] - 2s 6ms/step - loss: 0.0256 - accuracy: 0.9980 - val_loss: 0.1164 - val_accuracy: 0.9814\n",
            "Epoch 46/100\n",
            "375/375 [==============================] - 2s 6ms/step - loss: 0.0231 - accuracy: 0.9988 - val_loss: 0.1142 - val_accuracy: 0.9812\n",
            "Epoch 47/100\n",
            "375/375 [==============================] - 2s 6ms/step - loss: 0.0236 - accuracy: 0.9985 - val_loss: 0.1054 - val_accuracy: 0.9830\n",
            "Epoch 48/100\n",
            "375/375 [==============================] - 2s 6ms/step - loss: 0.0278 - accuracy: 0.9973 - val_loss: 0.1180 - val_accuracy: 0.9801\n",
            "Epoch 49/100\n",
            "375/375 [==============================] - 2s 6ms/step - loss: 0.0235 - accuracy: 0.9985 - val_loss: 0.1123 - val_accuracy: 0.9822\n",
            "Epoch 50/100\n",
            "375/375 [==============================] - 2s 6ms/step - loss: 0.0228 - accuracy: 0.9987 - val_loss: 0.1052 - val_accuracy: 0.9815\n",
            "Epoch 51/100\n",
            "375/375 [==============================] - 2s 6ms/step - loss: 0.0283 - accuracy: 0.9969 - val_loss: 0.1171 - val_accuracy: 0.9808\n",
            "Epoch 52/100\n",
            "375/375 [==============================] - 2s 6ms/step - loss: 0.0267 - accuracy: 0.9974 - val_loss: 0.1174 - val_accuracy: 0.9810\n",
            "Epoch 53/100\n",
            "375/375 [==============================] - 2s 6ms/step - loss: 0.0229 - accuracy: 0.9987 - val_loss: 0.1121 - val_accuracy: 0.9820\n",
            "Epoch 54/100\n",
            "375/375 [==============================] - 2s 6ms/step - loss: 0.0224 - accuracy: 0.9986 - val_loss: 0.1284 - val_accuracy: 0.9797\n",
            "Epoch 55/100\n",
            "375/375 [==============================] - 2s 6ms/step - loss: 0.0219 - accuracy: 0.9989 - val_loss: 0.1088 - val_accuracy: 0.9824\n",
            "Epoch 56/100\n",
            "375/375 [==============================] - 2s 6ms/step - loss: 0.0236 - accuracy: 0.9981 - val_loss: 0.1387 - val_accuracy: 0.9782\n",
            "Epoch 57/100\n",
            "375/375 [==============================] - 2s 6ms/step - loss: 0.0315 - accuracy: 0.9959 - val_loss: 0.1183 - val_accuracy: 0.9816\n",
            "Epoch 58/100\n",
            "375/375 [==============================] - 2s 6ms/step - loss: 0.0249 - accuracy: 0.9983 - val_loss: 0.1020 - val_accuracy: 0.9838\n",
            "Epoch 59/100\n",
            "375/375 [==============================] - 2s 6ms/step - loss: 0.0229 - accuracy: 0.9987 - val_loss: 0.1080 - val_accuracy: 0.9820\n",
            "Epoch 60/100\n",
            "375/375 [==============================] - 2s 6ms/step - loss: 0.0233 - accuracy: 0.9985 - val_loss: 0.1164 - val_accuracy: 0.9806\n",
            "Epoch 61/100\n",
            "375/375 [==============================] - 2s 6ms/step - loss: 0.0222 - accuracy: 0.9987 - val_loss: 0.1272 - val_accuracy: 0.9796\n",
            "Epoch 62/100\n",
            "375/375 [==============================] - 2s 6ms/step - loss: 0.0248 - accuracy: 0.9978 - val_loss: 0.1220 - val_accuracy: 0.9802\n",
            "Epoch 63/100\n",
            "375/375 [==============================] - 2s 6ms/step - loss: 0.0278 - accuracy: 0.9971 - val_loss: 0.1257 - val_accuracy: 0.9791\n",
            "Epoch 64/100\n",
            "375/375 [==============================] - 2s 6ms/step - loss: 0.0239 - accuracy: 0.9984 - val_loss: 0.1172 - val_accuracy: 0.9811\n",
            "Epoch 65/100\n",
            "375/375 [==============================] - 2s 6ms/step - loss: 0.0223 - accuracy: 0.9989 - val_loss: 0.1278 - val_accuracy: 0.9793\n",
            "Epoch 66/100\n",
            "375/375 [==============================] - 2s 6ms/step - loss: 0.0232 - accuracy: 0.9984 - val_loss: 0.1194 - val_accuracy: 0.9814\n",
            "Epoch 67/100\n",
            "375/375 [==============================] - 2s 6ms/step - loss: 0.0250 - accuracy: 0.9980 - val_loss: 0.1280 - val_accuracy: 0.9806\n",
            "Epoch 68/100\n",
            "375/375 [==============================] - 2s 6ms/step - loss: 0.0236 - accuracy: 0.9980 - val_loss: 0.1260 - val_accuracy: 0.9805\n",
            "Epoch 69/100\n",
            "375/375 [==============================] - 2s 6ms/step - loss: 0.0247 - accuracy: 0.9981 - val_loss: 0.1187 - val_accuracy: 0.9809\n",
            "Epoch 70/100\n",
            "375/375 [==============================] - 2s 6ms/step - loss: 0.0236 - accuracy: 0.9982 - val_loss: 0.1078 - val_accuracy: 0.9839\n",
            "Epoch 71/100\n",
            "375/375 [==============================] - 2s 6ms/step - loss: 0.0217 - accuracy: 0.9988 - val_loss: 0.1147 - val_accuracy: 0.9816\n",
            "Epoch 72/100\n",
            "375/375 [==============================] - 2s 6ms/step - loss: 0.0207 - accuracy: 0.9990 - val_loss: 0.1102 - val_accuracy: 0.9825\n",
            "Epoch 73/100\n",
            "375/375 [==============================] - 2s 6ms/step - loss: 0.0238 - accuracy: 0.9980 - val_loss: 0.1288 - val_accuracy: 0.9810\n",
            "Epoch 74/100\n",
            "375/375 [==============================] - 2s 6ms/step - loss: 0.0245 - accuracy: 0.9979 - val_loss: 0.1229 - val_accuracy: 0.9822\n",
            "Epoch 75/100\n",
            "375/375 [==============================] - 2s 6ms/step - loss: 0.0245 - accuracy: 0.9979 - val_loss: 0.1269 - val_accuracy: 0.9802\n",
            "Epoch 76/100\n",
            "375/375 [==============================] - 2s 6ms/step - loss: 0.0238 - accuracy: 0.9983 - val_loss: 0.1110 - val_accuracy: 0.9822\n",
            "Epoch 77/100\n",
            "375/375 [==============================] - 2s 6ms/step - loss: 0.0214 - accuracy: 0.9989 - val_loss: 0.1130 - val_accuracy: 0.9825\n",
            "Epoch 78/100\n",
            "375/375 [==============================] - 2s 6ms/step - loss: 0.0224 - accuracy: 0.9983 - val_loss: 0.1305 - val_accuracy: 0.9793\n",
            "Epoch 79/100\n",
            "375/375 [==============================] - 2s 6ms/step - loss: 0.0239 - accuracy: 0.9979 - val_loss: 0.1218 - val_accuracy: 0.9815\n",
            "Epoch 80/100\n",
            "375/375 [==============================] - 2s 6ms/step - loss: 0.0205 - accuracy: 0.9991 - val_loss: 0.1147 - val_accuracy: 0.9817\n",
            "Epoch 81/100\n",
            "375/375 [==============================] - 2s 6ms/step - loss: 0.0215 - accuracy: 0.9987 - val_loss: 0.1200 - val_accuracy: 0.9809\n",
            "Epoch 82/100\n",
            "375/375 [==============================] - 2s 6ms/step - loss: 0.0208 - accuracy: 0.9987 - val_loss: 0.1214 - val_accuracy: 0.9812\n",
            "Epoch 83/100\n",
            "375/375 [==============================] - 2s 6ms/step - loss: 0.0210 - accuracy: 0.9987 - val_loss: 0.1201 - val_accuracy: 0.9796\n",
            "Epoch 84/100\n",
            "375/375 [==============================] - 2s 6ms/step - loss: 0.0236 - accuracy: 0.9980 - val_loss: 0.1347 - val_accuracy: 0.9789\n",
            "Epoch 85/100\n",
            "375/375 [==============================] - 2s 6ms/step - loss: 0.0226 - accuracy: 0.9984 - val_loss: 0.1259 - val_accuracy: 0.9792\n",
            "Epoch 86/100\n",
            "375/375 [==============================] - 2s 6ms/step - loss: 0.0221 - accuracy: 0.9984 - val_loss: 0.1256 - val_accuracy: 0.9793\n",
            "Epoch 87/100\n",
            "375/375 [==============================] - 2s 6ms/step - loss: 0.0231 - accuracy: 0.9980 - val_loss: 0.1401 - val_accuracy: 0.9772\n",
            "Epoch 88/100\n",
            "375/375 [==============================] - 2s 6ms/step - loss: 0.0223 - accuracy: 0.9983 - val_loss: 0.1151 - val_accuracy: 0.9832\n",
            "Epoch 89/100\n",
            "375/375 [==============================] - 2s 6ms/step - loss: 0.0198 - accuracy: 0.9991 - val_loss: 0.1108 - val_accuracy: 0.9836\n",
            "Epoch 90/100\n",
            "375/375 [==============================] - 2s 6ms/step - loss: 0.0196 - accuracy: 0.9988 - val_loss: 0.1181 - val_accuracy: 0.9827\n",
            "Epoch 91/100\n",
            "375/375 [==============================] - 2s 6ms/step - loss: 0.0226 - accuracy: 0.9981 - val_loss: 0.1176 - val_accuracy: 0.9823\n",
            "Epoch 92/100\n",
            "375/375 [==============================] - 2s 6ms/step - loss: 0.0228 - accuracy: 0.9980 - val_loss: 0.1270 - val_accuracy: 0.9808\n",
            "Epoch 93/100\n",
            "375/375 [==============================] - 2s 6ms/step - loss: 0.0252 - accuracy: 0.9977 - val_loss: 0.1180 - val_accuracy: 0.9825\n",
            "Epoch 94/100\n",
            "375/375 [==============================] - 2s 6ms/step - loss: 0.0215 - accuracy: 0.9986 - val_loss: 0.1204 - val_accuracy: 0.9821\n",
            "Epoch 95/100\n",
            "375/375 [==============================] - 2s 6ms/step - loss: 0.0192 - accuracy: 0.9992 - val_loss: 0.1111 - val_accuracy: 0.9827\n",
            "Epoch 96/100\n",
            "375/375 [==============================] - 2s 6ms/step - loss: 0.0185 - accuracy: 0.9994 - val_loss: 0.1106 - val_accuracy: 0.9830\n",
            "Epoch 97/100\n",
            "375/375 [==============================] - 2s 6ms/step - loss: 0.0192 - accuracy: 0.9989 - val_loss: 0.1222 - val_accuracy: 0.9815\n",
            "Epoch 98/100\n",
            "375/375 [==============================] - 2s 6ms/step - loss: 0.0232 - accuracy: 0.9974 - val_loss: 0.1533 - val_accuracy: 0.9784\n",
            "Epoch 99/100\n",
            "375/375 [==============================] - 2s 6ms/step - loss: 0.0225 - accuracy: 0.9982 - val_loss: 0.1273 - val_accuracy: 0.9805\n",
            "Epoch 100/100\n",
            "375/375 [==============================] - 2s 6ms/step - loss: 0.0221 - accuracy: 0.9982 - val_loss: 0.1318 - val_accuracy: 0.9799\n",
            "CPU times: user 3min 45s, sys: 29.8 s, total: 4min 15s\n",
            "Wall time: 3min 40s\n"
          ],
          "name": "stdout"
        }
      ]
    },
    {
      "cell_type": "code",
      "metadata": {
        "colab": {
          "base_uri": "https://localhost:8080/",
          "height": 404
        },
        "id": "qVxwOc_a5wZL",
        "outputId": "104f5153-e010-42dc-ad41-609d392de57c"
      },
      "source": [
        "import matplotlib.pyplot as plt\n",
        "\n",
        "epochs = range(1,len(Hist_mnist.history['loss'])+1)\n",
        "\n",
        "plt.figure(figsize = (9, 6))\n",
        "plt.plot(epochs, Hist_mnist.history['loss'])\n",
        "plt.plot(epochs, Hist_mnist.history['val_loss'])\n",
        "# plt.ylim(0, 0.25)\n",
        "plt.title('Training & Validation Loss')\n",
        "plt.xlabel('Epochs')\n",
        "plt.ylabel('Loss')\n",
        "plt.legend(['Training Loss', 'Validation Loss'])\n",
        "plt.grid()\n",
        "plt.show()"
      ],
      "execution_count": null,
      "outputs": [
        {
          "output_type": "display_data",
          "data": {
            "image/png": "[encoded data removed]",
            "text/plain": [
              "<Figure size 648x432 with 1 Axes>"
            ]
          },
          "metadata": {
            "tags": [],
            "needs_background": "light"
          }
        }
      ]
    },
    {
      "cell_type": "code",
      "metadata": {
        "colab": {
          "base_uri": "https://localhost:8080/"
        },
        "id": "7Owe14n05wZM",
        "outputId": "66bb1901-d617-4ae2-9996-513ffdbc5932"
      },
      "source": [
        "loss, accuracy = mnist.evaluate(X_test,y_test)\n",
        "print('Loss = {:.5f}'.format(loss))\n",
        "print('Accuracy = {:.5f}'.format(accuracy))"
      ],
      "execution_count": null,
      "outputs": [
        {
          "output_type": "stream",
          "text": [
            "313/313 [==============================] - 1s 3ms/step - loss: 0.1099 - accuracy: 0.9815\n",
            "Loss = 0.10986\n",
            "Accuracy = 0.98150\n"
          ],
          "name": "stdout"
        }
      ]
    },
    {
      "cell_type": "markdown",
      "metadata": {
        "id": "awGcnJKr6Cn6"
      },
      "source": [
        "## Dropout + Batch"
      ]
    },
    {
      "cell_type": "code",
      "metadata": {
        "id": "e9Rh75s14vdh"
      },
      "source": [
        "from tensorflow.keras import models\n",
        "from tensorflow.keras import layers\n",
        "\n",
        "# Sequential은 레이어의 선형 스택을 tf.keras.Model로 그룹화합니다. \n",
        "# Sequential은 이 모델에 대한 학습 및 추론 기능을 제공합니다.\n",
        "\n",
        "mnist = models.Sequential()\n",
        "\n",
        "mnist.add(layers.Dense(512,input_shape=(28*28,)))\n",
        "mnist.add(layers.BatchNormalization())\n",
        "mnist.add(layers.Activation('relu'))\n",
        "mnist.add(layers.Dropout(0.4))\n",
        "mnist.add(layers.Dense(256))\n",
        "mnist.add(layers.BatchNormalization())\n",
        "mnist.add(layers.Activation('relu'))\n",
        "mnist.add(layers.Dropout(0.2))\n",
        "mnist.add(layers.Dense(10,activation='softmax'))"
      ],
      "execution_count": null,
      "outputs": []
    },
    {
      "cell_type": "code",
      "metadata": {
        "id": "zwQaI9ja4yit"
      },
      "source": [
        "mnist.compile(loss='categorical_crossentropy',\n",
        "              optimizer='adam',\n",
        "              metrics=['accuracy'])"
      ],
      "execution_count": null,
      "outputs": []
    },
    {
      "cell_type": "code",
      "metadata": {
        "colab": {
          "base_uri": "https://localhost:8080/"
        },
        "id": "YmWZ4OW643dy",
        "outputId": "5b25fb92-483d-4eaa-d2fc-55357e52e7c7"
      },
      "source": [
        "%%time\n",
        "# 60000*0.8/128=375\n",
        "Hist_mnist = mnist.fit(X_train,y_train,\n",
        "                 epochs = 100,\n",
        "                 batch_size=128,\n",
        "                 validation_split = 0.2)"
      ],
      "execution_count": null,
      "outputs": [
        {
          "output_type": "stream",
          "text": [
            "Epoch 1/100\n",
            "375/375 [==============================] - 3s 6ms/step - loss: 0.3083 - accuracy: 0.9069 - val_loss: 0.1408 - val_accuracy: 0.9566\n",
            "Epoch 2/100\n",
            "375/375 [==============================] - 2s 6ms/step - loss: 0.1469 - accuracy: 0.9554 - val_loss: 0.0940 - val_accuracy: 0.9707\n",
            "Epoch 3/100\n",
            "375/375 [==============================] - 2s 6ms/step - loss: 0.1111 - accuracy: 0.9653 - val_loss: 0.0866 - val_accuracy: 0.9737\n",
            "Epoch 4/100\n",
            "375/375 [==============================] - 2s 6ms/step - loss: 0.0926 - accuracy: 0.9704 - val_loss: 0.0781 - val_accuracy: 0.9768\n",
            "Epoch 5/100\n",
            "375/375 [==============================] - 2s 6ms/step - loss: 0.0786 - accuracy: 0.9752 - val_loss: 0.0715 - val_accuracy: 0.9795\n",
            "Epoch 6/100\n",
            "375/375 [==============================] - 2s 6ms/step - loss: 0.0709 - accuracy: 0.9772 - val_loss: 0.0775 - val_accuracy: 0.9766\n",
            "Epoch 7/100\n",
            "375/375 [==============================] - 2s 6ms/step - loss: 0.0616 - accuracy: 0.9800 - val_loss: 0.0686 - val_accuracy: 0.9800\n",
            "Epoch 8/100\n",
            "375/375 [==============================] - 2s 6ms/step - loss: 0.0561 - accuracy: 0.9814 - val_loss: 0.0710 - val_accuracy: 0.9792\n",
            "Epoch 9/100\n",
            "375/375 [==============================] - 2s 6ms/step - loss: 0.0514 - accuracy: 0.9827 - val_loss: 0.0668 - val_accuracy: 0.9802\n",
            "Epoch 10/100\n",
            "375/375 [==============================] - 2s 6ms/step - loss: 0.0466 - accuracy: 0.9845 - val_loss: 0.0718 - val_accuracy: 0.9802\n",
            "Epoch 11/100\n",
            "375/375 [==============================] - 2s 6ms/step - loss: 0.0416 - accuracy: 0.9854 - val_loss: 0.0749 - val_accuracy: 0.9782\n",
            "Epoch 12/100\n",
            "375/375 [==============================] - 2s 6ms/step - loss: 0.0402 - accuracy: 0.9867 - val_loss: 0.0723 - val_accuracy: 0.9796\n",
            "Epoch 13/100\n",
            "375/375 [==============================] - 2s 6ms/step - loss: 0.0374 - accuracy: 0.9875 - val_loss: 0.0678 - val_accuracy: 0.9816\n",
            "Epoch 14/100\n",
            "375/375 [==============================] - 2s 6ms/step - loss: 0.0348 - accuracy: 0.9880 - val_loss: 0.0724 - val_accuracy: 0.9796\n",
            "Epoch 15/100\n",
            "375/375 [==============================] - 2s 6ms/step - loss: 0.0344 - accuracy: 0.9881 - val_loss: 0.0686 - val_accuracy: 0.9809\n",
            "Epoch 16/100\n",
            "375/375 [==============================] - 2s 6ms/step - loss: 0.0315 - accuracy: 0.9894 - val_loss: 0.0718 - val_accuracy: 0.9822\n",
            "Epoch 17/100\n",
            "375/375 [==============================] - 2s 6ms/step - loss: 0.0316 - accuracy: 0.9895 - val_loss: 0.0686 - val_accuracy: 0.9832\n",
            "Epoch 18/100\n",
            "375/375 [==============================] - 2s 6ms/step - loss: 0.0300 - accuracy: 0.9893 - val_loss: 0.0662 - val_accuracy: 0.9829\n",
            "Epoch 19/100\n",
            "375/375 [==============================] - 2s 6ms/step - loss: 0.0260 - accuracy: 0.9914 - val_loss: 0.0692 - val_accuracy: 0.9820\n",
            "Epoch 20/100\n",
            "375/375 [==============================] - 2s 6ms/step - loss: 0.0252 - accuracy: 0.9914 - val_loss: 0.0637 - val_accuracy: 0.9832\n",
            "Epoch 21/100\n",
            "375/375 [==============================] - 2s 6ms/step - loss: 0.0242 - accuracy: 0.9917 - val_loss: 0.0709 - val_accuracy: 0.9833\n",
            "Epoch 22/100\n",
            "375/375 [==============================] - 2s 6ms/step - loss: 0.0262 - accuracy: 0.9912 - val_loss: 0.0730 - val_accuracy: 0.9820\n",
            "Epoch 23/100\n",
            "375/375 [==============================] - 2s 6ms/step - loss: 0.0238 - accuracy: 0.9922 - val_loss: 0.0694 - val_accuracy: 0.9826\n",
            "Epoch 24/100\n",
            "375/375 [==============================] - 2s 6ms/step - loss: 0.0241 - accuracy: 0.9918 - val_loss: 0.0668 - val_accuracy: 0.9826\n",
            "Epoch 25/100\n",
            "375/375 [==============================] - 2s 6ms/step - loss: 0.0217 - accuracy: 0.9926 - val_loss: 0.0671 - val_accuracy: 0.9836\n",
            "Epoch 26/100\n",
            "375/375 [==============================] - 2s 6ms/step - loss: 0.0199 - accuracy: 0.9927 - val_loss: 0.0744 - val_accuracy: 0.9837\n",
            "Epoch 27/100\n",
            "375/375 [==============================] - 2s 6ms/step - loss: 0.0202 - accuracy: 0.9931 - val_loss: 0.0746 - val_accuracy: 0.9829\n",
            "Epoch 28/100\n",
            "375/375 [==============================] - 2s 6ms/step - loss: 0.0165 - accuracy: 0.9942 - val_loss: 0.0721 - val_accuracy: 0.9837\n",
            "Epoch 29/100\n",
            "375/375 [==============================] - 2s 6ms/step - loss: 0.0179 - accuracy: 0.9938 - val_loss: 0.0764 - val_accuracy: 0.9821\n",
            "Epoch 30/100\n",
            "375/375 [==============================] - 2s 6ms/step - loss: 0.0201 - accuracy: 0.9932 - val_loss: 0.0749 - val_accuracy: 0.9829\n",
            "Epoch 31/100\n",
            "375/375 [==============================] - 2s 6ms/step - loss: 0.0180 - accuracy: 0.9937 - val_loss: 0.0784 - val_accuracy: 0.9826\n",
            "Epoch 32/100\n",
            "375/375 [==============================] - 2s 6ms/step - loss: 0.0179 - accuracy: 0.9940 - val_loss: 0.0692 - val_accuracy: 0.9851\n",
            "Epoch 33/100\n",
            "375/375 [==============================] - 2s 6ms/step - loss: 0.0167 - accuracy: 0.9942 - val_loss: 0.0731 - val_accuracy: 0.9831\n",
            "Epoch 34/100\n",
            "375/375 [==============================] - 2s 6ms/step - loss: 0.0160 - accuracy: 0.9945 - val_loss: 0.0755 - val_accuracy: 0.9837\n",
            "Epoch 35/100\n",
            "375/375 [==============================] - 2s 6ms/step - loss: 0.0182 - accuracy: 0.9938 - val_loss: 0.0742 - val_accuracy: 0.9841\n",
            "Epoch 36/100\n",
            "375/375 [==============================] - 2s 6ms/step - loss: 0.0149 - accuracy: 0.9951 - val_loss: 0.0729 - val_accuracy: 0.9846\n",
            "Epoch 37/100\n",
            "375/375 [==============================] - 2s 6ms/step - loss: 0.0154 - accuracy: 0.9947 - val_loss: 0.0774 - val_accuracy: 0.9832\n",
            "Epoch 38/100\n",
            "375/375 [==============================] - 2s 6ms/step - loss: 0.0143 - accuracy: 0.9950 - val_loss: 0.0738 - val_accuracy: 0.9837\n",
            "Epoch 39/100\n",
            "375/375 [==============================] - 2s 6ms/step - loss: 0.0126 - accuracy: 0.9957 - val_loss: 0.0731 - val_accuracy: 0.9845\n",
            "Epoch 40/100\n",
            "375/375 [==============================] - 2s 6ms/step - loss: 0.0146 - accuracy: 0.9948 - val_loss: 0.0735 - val_accuracy: 0.9839\n",
            "Epoch 41/100\n",
            "375/375 [==============================] - 2s 6ms/step - loss: 0.0143 - accuracy: 0.9952 - val_loss: 0.0785 - val_accuracy: 0.9847\n",
            "Epoch 42/100\n",
            "375/375 [==============================] - 2s 6ms/step - loss: 0.0131 - accuracy: 0.9958 - val_loss: 0.0733 - val_accuracy: 0.9847\n",
            "Epoch 43/100\n",
            "375/375 [==============================] - 2s 6ms/step - loss: 0.0128 - accuracy: 0.9960 - val_loss: 0.0729 - val_accuracy: 0.9848\n",
            "Epoch 44/100\n",
            "375/375 [==============================] - 2s 6ms/step - loss: 0.0135 - accuracy: 0.9952 - val_loss: 0.0772 - val_accuracy: 0.9846\n",
            "Epoch 45/100\n",
            "375/375 [==============================] - 2s 6ms/step - loss: 0.0151 - accuracy: 0.9947 - val_loss: 0.0760 - val_accuracy: 0.9856\n",
            "Epoch 46/100\n",
            "375/375 [==============================] - 2s 6ms/step - loss: 0.0126 - accuracy: 0.9958 - val_loss: 0.0718 - val_accuracy: 0.9856\n",
            "Epoch 47/100\n",
            "375/375 [==============================] - 2s 6ms/step - loss: 0.0124 - accuracy: 0.9960 - val_loss: 0.0726 - val_accuracy: 0.9852\n",
            "Epoch 48/100\n",
            "375/375 [==============================] - 2s 6ms/step - loss: 0.0106 - accuracy: 0.9963 - val_loss: 0.0729 - val_accuracy: 0.9855\n",
            "Epoch 49/100\n",
            "375/375 [==============================] - 2s 6ms/step - loss: 0.0125 - accuracy: 0.9956 - val_loss: 0.0769 - val_accuracy: 0.9845\n",
            "Epoch 50/100\n",
            "375/375 [==============================] - 2s 6ms/step - loss: 0.0114 - accuracy: 0.9961 - val_loss: 0.0807 - val_accuracy: 0.9839\n",
            "Epoch 51/100\n",
            "375/375 [==============================] - 2s 6ms/step - loss: 0.0121 - accuracy: 0.9957 - val_loss: 0.0764 - val_accuracy: 0.9849\n",
            "Epoch 52/100\n",
            "375/375 [==============================] - 2s 6ms/step - loss: 0.0100 - accuracy: 0.9967 - val_loss: 0.0771 - val_accuracy: 0.9844\n",
            "Epoch 53/100\n",
            "375/375 [==============================] - 2s 6ms/step - loss: 0.0092 - accuracy: 0.9970 - val_loss: 0.0782 - val_accuracy: 0.9847\n",
            "Epoch 54/100\n",
            "375/375 [==============================] - 2s 6ms/step - loss: 0.0109 - accuracy: 0.9963 - val_loss: 0.0743 - val_accuracy: 0.9854\n",
            "Epoch 55/100\n",
            "375/375 [==============================] - 2s 6ms/step - loss: 0.0117 - accuracy: 0.9962 - val_loss: 0.0871 - val_accuracy: 0.9832\n",
            "Epoch 56/100\n",
            "375/375 [==============================] - 2s 6ms/step - loss: 0.0096 - accuracy: 0.9968 - val_loss: 0.0829 - val_accuracy: 0.9852\n",
            "Epoch 57/100\n",
            "375/375 [==============================] - 2s 6ms/step - loss: 0.0118 - accuracy: 0.9957 - val_loss: 0.0860 - val_accuracy: 0.9845\n",
            "Epoch 58/100\n",
            "375/375 [==============================] - 2s 6ms/step - loss: 0.0117 - accuracy: 0.9962 - val_loss: 0.0833 - val_accuracy: 0.9849\n",
            "Epoch 59/100\n",
            "375/375 [==============================] - 2s 6ms/step - loss: 0.0097 - accuracy: 0.9964 - val_loss: 0.0839 - val_accuracy: 0.9846\n",
            "Epoch 60/100\n",
            "375/375 [==============================] - 2s 6ms/step - loss: 0.0118 - accuracy: 0.9961 - val_loss: 0.0885 - val_accuracy: 0.9846\n",
            "Epoch 61/100\n",
            "375/375 [==============================] - 2s 6ms/step - loss: 0.0101 - accuracy: 0.9961 - val_loss: 0.0869 - val_accuracy: 0.9843\n",
            "Epoch 62/100\n",
            "375/375 [==============================] - 2s 6ms/step - loss: 0.0098 - accuracy: 0.9967 - val_loss: 0.0846 - val_accuracy: 0.9847\n",
            "Epoch 63/100\n",
            "375/375 [==============================] - 2s 6ms/step - loss: 0.0095 - accuracy: 0.9967 - val_loss: 0.0852 - val_accuracy: 0.9848\n",
            "Epoch 64/100\n",
            "375/375 [==============================] - 2s 6ms/step - loss: 0.0096 - accuracy: 0.9967 - val_loss: 0.0882 - val_accuracy: 0.9837\n",
            "Epoch 65/100\n",
            "375/375 [==============================] - 2s 6ms/step - loss: 0.0111 - accuracy: 0.9961 - val_loss: 0.0863 - val_accuracy: 0.9842\n",
            "Epoch 66/100\n",
            "375/375 [==============================] - 2s 6ms/step - loss: 0.0089 - accuracy: 0.9970 - val_loss: 0.0858 - val_accuracy: 0.9847\n",
            "Epoch 67/100\n",
            "375/375 [==============================] - 2s 6ms/step - loss: 0.0105 - accuracy: 0.9967 - val_loss: 0.0808 - val_accuracy: 0.9843\n",
            "Epoch 68/100\n",
            "375/375 [==============================] - 2s 6ms/step - loss: 0.0093 - accuracy: 0.9970 - val_loss: 0.0861 - val_accuracy: 0.9853\n",
            "Epoch 69/100\n",
            "375/375 [==============================] - 2s 6ms/step - loss: 0.0103 - accuracy: 0.9964 - val_loss: 0.0857 - val_accuracy: 0.9845\n",
            "Epoch 70/100\n",
            "375/375 [==============================] - 2s 6ms/step - loss: 0.0086 - accuracy: 0.9973 - val_loss: 0.0817 - val_accuracy: 0.9852\n",
            "Epoch 71/100\n",
            "375/375 [==============================] - 2s 6ms/step - loss: 0.0092 - accuracy: 0.9969 - val_loss: 0.0815 - val_accuracy: 0.9855\n",
            "Epoch 72/100\n",
            "375/375 [==============================] - 2s 6ms/step - loss: 0.0090 - accuracy: 0.9970 - val_loss: 0.0785 - val_accuracy: 0.9858\n",
            "Epoch 73/100\n",
            "375/375 [==============================] - 2s 6ms/step - loss: 0.0102 - accuracy: 0.9962 - val_loss: 0.0882 - val_accuracy: 0.9843\n",
            "Epoch 74/100\n",
            "375/375 [==============================] - 2s 6ms/step - loss: 0.0089 - accuracy: 0.9969 - val_loss: 0.0844 - val_accuracy: 0.9847\n",
            "Epoch 75/100\n",
            "375/375 [==============================] - 2s 6ms/step - loss: 0.0097 - accuracy: 0.9970 - val_loss: 0.0854 - val_accuracy: 0.9851\n",
            "Epoch 76/100\n",
            "375/375 [==============================] - 2s 6ms/step - loss: 0.0084 - accuracy: 0.9971 - val_loss: 0.0853 - val_accuracy: 0.9848\n",
            "Epoch 77/100\n",
            "375/375 [==============================] - 2s 6ms/step - loss: 0.0078 - accuracy: 0.9973 - val_loss: 0.0863 - val_accuracy: 0.9851\n",
            "Epoch 78/100\n",
            "375/375 [==============================] - 2s 6ms/step - loss: 0.0089 - accuracy: 0.9972 - val_loss: 0.0908 - val_accuracy: 0.9851\n",
            "Epoch 79/100\n",
            "375/375 [==============================] - 2s 6ms/step - loss: 0.0082 - accuracy: 0.9971 - val_loss: 0.0899 - val_accuracy: 0.9849\n",
            "Epoch 80/100\n",
            "375/375 [==============================] - 2s 6ms/step - loss: 0.0069 - accuracy: 0.9974 - val_loss: 0.0855 - val_accuracy: 0.9851\n",
            "Epoch 81/100\n",
            "375/375 [==============================] - 2s 6ms/step - loss: 0.0078 - accuracy: 0.9973 - val_loss: 0.0856 - val_accuracy: 0.9845\n",
            "Epoch 82/100\n",
            "375/375 [==============================] - 2s 6ms/step - loss: 0.0083 - accuracy: 0.9974 - val_loss: 0.0880 - val_accuracy: 0.9854\n",
            "Epoch 83/100\n",
            "375/375 [==============================] - 2s 6ms/step - loss: 0.0075 - accuracy: 0.9974 - val_loss: 0.0843 - val_accuracy: 0.9852\n",
            "Epoch 84/100\n",
            "375/375 [==============================] - 2s 6ms/step - loss: 0.0067 - accuracy: 0.9976 - val_loss: 0.0861 - val_accuracy: 0.9852\n",
            "Epoch 85/100\n",
            "375/375 [==============================] - 2s 6ms/step - loss: 0.0078 - accuracy: 0.9974 - val_loss: 0.0933 - val_accuracy: 0.9844\n",
            "Epoch 86/100\n",
            "375/375 [==============================] - 2s 6ms/step - loss: 0.0076 - accuracy: 0.9974 - val_loss: 0.0873 - val_accuracy: 0.9862\n",
            "Epoch 87/100\n",
            "375/375 [==============================] - 2s 6ms/step - loss: 0.0084 - accuracy: 0.9973 - val_loss: 0.0848 - val_accuracy: 0.9847\n",
            "Epoch 88/100\n",
            "375/375 [==============================] - 2s 6ms/step - loss: 0.0072 - accuracy: 0.9976 - val_loss: 0.0900 - val_accuracy: 0.9850\n",
            "Epoch 89/100\n",
            "375/375 [==============================] - 2s 6ms/step - loss: 0.0073 - accuracy: 0.9975 - val_loss: 0.0907 - val_accuracy: 0.9847\n",
            "Epoch 90/100\n",
            "375/375 [==============================] - 2s 6ms/step - loss: 0.0083 - accuracy: 0.9973 - val_loss: 0.0873 - val_accuracy: 0.9845\n",
            "Epoch 91/100\n",
            "375/375 [==============================] - 2s 6ms/step - loss: 0.0087 - accuracy: 0.9972 - val_loss: 0.0903 - val_accuracy: 0.9847\n",
            "Epoch 92/100\n",
            "375/375 [==============================] - 2s 6ms/step - loss: 0.0070 - accuracy: 0.9974 - val_loss: 0.0882 - val_accuracy: 0.9844\n",
            "Epoch 93/100\n",
            "375/375 [==============================] - 2s 6ms/step - loss: 0.0070 - accuracy: 0.9976 - val_loss: 0.0877 - val_accuracy: 0.9833\n",
            "Epoch 94/100\n",
            "375/375 [==============================] - 2s 6ms/step - loss: 0.0068 - accuracy: 0.9975 - val_loss: 0.0878 - val_accuracy: 0.9845\n",
            "Epoch 95/100\n",
            "375/375 [==============================] - 2s 6ms/step - loss: 0.0084 - accuracy: 0.9970 - val_loss: 0.0881 - val_accuracy: 0.9837\n",
            "Epoch 96/100\n",
            "375/375 [==============================] - 2s 6ms/step - loss: 0.0080 - accuracy: 0.9972 - val_loss: 0.0889 - val_accuracy: 0.9843\n",
            "Epoch 97/100\n",
            "375/375 [==============================] - 2s 6ms/step - loss: 0.0077 - accuracy: 0.9973 - val_loss: 0.0872 - val_accuracy: 0.9848\n",
            "Epoch 98/100\n",
            "375/375 [==============================] - 2s 6ms/step - loss: 0.0069 - accuracy: 0.9976 - val_loss: 0.0831 - val_accuracy: 0.9855\n",
            "Epoch 99/100\n",
            "375/375 [==============================] - 2s 6ms/step - loss: 0.0072 - accuracy: 0.9975 - val_loss: 0.0888 - val_accuracy: 0.9845\n",
            "Epoch 100/100\n",
            "375/375 [==============================] - 2s 6ms/step - loss: 0.0073 - accuracy: 0.9975 - val_loss: 0.0857 - val_accuracy: 0.9851\n",
            "CPU times: user 3min 42s, sys: 28 s, total: 4min 10s\n",
            "Wall time: 4min 22s\n"
          ],
          "name": "stdout"
        }
      ]
    },
    {
      "cell_type": "code",
      "metadata": {
        "colab": {
          "base_uri": "https://localhost:8080/",
          "height": 404
        },
        "id": "0hfV3AMD5omJ",
        "outputId": "c80904bc-580f-44c9-b3fa-546ec4e2f952"
      },
      "source": [
        "import matplotlib.pyplot as plt\n",
        "\n",
        "epochs = range(1,len(Hist_mnist.history['loss'])+1)\n",
        "\n",
        "plt.figure(figsize = (9, 6))\n",
        "plt.plot(epochs, Hist_mnist.history['loss'])\n",
        "plt.plot(epochs, Hist_mnist.history['val_loss'])\n",
        "# plt.ylim(0, 0.25)\n",
        "plt.title('Training & Validation Loss')\n",
        "plt.xlabel('Epochs')\n",
        "plt.ylabel('Loss')\n",
        "plt.legend(['Training Loss', 'Validation Loss'])\n",
        "plt.grid()\n",
        "plt.show()"
      ],
      "execution_count": null,
      "outputs": [
        {
          "output_type": "display_data",
          "data": {
            "image/png": "[encoded data removed]",
            "text/plain": [
              "<Figure size 648x432 with 1 Axes>"
            ]
          },
          "metadata": {
            "tags": [],
            "needs_background": "light"
          }
        }
      ]
    },
    {
      "cell_type": "code",
      "metadata": {
        "colab": {
          "base_uri": "https://localhost:8080/"
        },
        "id": "1IMMkmuf44dM",
        "outputId": "6f6a2f1e-204c-402b-a11c-69939e4c93b3"
      },
      "source": [
        "loss, accuracy = mnist.evaluate(X_test,y_test)\n",
        "print('Loss = {:.5f}'.format(loss))\n",
        "print('Accuracy = {:.5f}'.format(accuracy))"
      ],
      "execution_count": null,
      "outputs": [
        {
          "output_type": "stream",
          "text": [
            "313/313 [==============================] - 1s 3ms/step - loss: 0.0756 - accuracy: 0.9856\n",
            "Loss = 0.07562\n",
            "Accuracy = 0.98560\n"
          ],
          "name": "stdout"
        }
      ]
    }
  ]
}