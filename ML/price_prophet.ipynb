{
  "nbformat": 4,
  "nbformat_minor": 0,
  "metadata": {
    "colab": {
      "name": "price+prophet.ipynb",
      "provenance": [],
      "collapsed_sections": []
    },
    "kernelspec": {
      "name": "python3",
      "display_name": "Python 3"
    },
    "language_info": {
      "name": "python"
    }
  },
  "cells": [
    {
      "cell_type": "code",
      "metadata": {
        "id": "MY5GRiGPv1jq"
      },
      "source": [
        "# from google.colab import drive\n",
        "# drive.mount('/content/drive')"
      ],
      "execution_count": 1,
      "outputs": []
    },
    {
      "cell_type": "code",
      "metadata": {
        "id": "gHL4w50wvzCP"
      },
      "source": [
        "import warnings \n",
        "warnings.filterwarnings('ignore')\n",
        "import pandas as pd"
      ],
      "execution_count": 2,
      "outputs": []
    },
    {
      "cell_type": "code",
      "metadata": {
        "colab": {
          "base_uri": "https://localhost:8080/",
          "height": 359
        },
        "id": "wh0vrjiDeFD2",
        "outputId": "ba50e860-47a6-4c19-d43e-8b90f450c358"
      },
      "source": [
        "url = '/content/drive/MyDrive/Colab Notebooks/apart/Apart Deal.csv'\n",
        "\n",
        "data = pd.read_csv(url)\n",
        "\n",
        "data.head(10)"
      ],
      "execution_count": 3,
      "outputs": [
        {
          "output_type": "execute_result",
          "data": {
            "text/html": [
              "<div>\n",
              "<style scoped>\n",
              "    .dataframe tbody tr th:only-of-type {\n",
              "        vertical-align: middle;\n",
              "    }\n",
              "\n",
              "    .dataframe tbody tr th {\n",
              "        vertical-align: top;\n",
              "    }\n",
              "\n",
              "    .dataframe thead th {\n",
              "        text-align: right;\n",
              "    }\n",
              "</style>\n",
              "<table border=\"1\" class=\"dataframe\">\n",
              "  <thead>\n",
              "    <tr style=\"text-align: right;\">\n",
              "      <th></th>\n",
              "      <th>지역코드</th>\n",
              "      <th>법정동</th>\n",
              "      <th>거래일</th>\n",
              "      <th>아파트</th>\n",
              "      <th>지번</th>\n",
              "      <th>전용면적</th>\n",
              "      <th>층</th>\n",
              "      <th>건축년도</th>\n",
              "      <th>거래금액</th>\n",
              "    </tr>\n",
              "  </thead>\n",
              "  <tbody>\n",
              "    <tr>\n",
              "      <th>0</th>\n",
              "      <td>31110</td>\n",
              "      <td>학성동</td>\n",
              "      <td>5/30/2020 0:00</td>\n",
              "      <td>남운학성타운</td>\n",
              "      <td>379</td>\n",
              "      <td>135.5800</td>\n",
              "      <td>8</td>\n",
              "      <td>1991</td>\n",
              "      <td>26700</td>\n",
              "    </tr>\n",
              "    <tr>\n",
              "      <th>1</th>\n",
              "      <td>31110</td>\n",
              "      <td>남외동</td>\n",
              "      <td>1/3/2020 0:00</td>\n",
              "      <td>남외푸르지오1차</td>\n",
              "      <td>506-1</td>\n",
              "      <td>101.6000</td>\n",
              "      <td>2</td>\n",
              "      <td>2006</td>\n",
              "      <td>35500</td>\n",
              "    </tr>\n",
              "    <tr>\n",
              "      <th>2</th>\n",
              "      <td>31110</td>\n",
              "      <td>남외동</td>\n",
              "      <td>1/3/2020 0:00</td>\n",
              "      <td>에일린의뜰</td>\n",
              "      <td>500</td>\n",
              "      <td>84.9920</td>\n",
              "      <td>11</td>\n",
              "      <td>2007</td>\n",
              "      <td>36500</td>\n",
              "    </tr>\n",
              "    <tr>\n",
              "      <th>3</th>\n",
              "      <td>31110</td>\n",
              "      <td>남외동</td>\n",
              "      <td>1/3/2020 0:00</td>\n",
              "      <td>남외푸르지오1차</td>\n",
              "      <td>506-1</td>\n",
              "      <td>118.7060</td>\n",
              "      <td>8</td>\n",
              "      <td>2006</td>\n",
              "      <td>43000</td>\n",
              "    </tr>\n",
              "    <tr>\n",
              "      <th>4</th>\n",
              "      <td>31110</td>\n",
              "      <td>남외동</td>\n",
              "      <td>1/4/2020 0:00</td>\n",
              "      <td>남외푸르지오2차</td>\n",
              "      <td>501-1</td>\n",
              "      <td>84.9636</td>\n",
              "      <td>7</td>\n",
              "      <td>2007</td>\n",
              "      <td>38700</td>\n",
              "    </tr>\n",
              "    <tr>\n",
              "      <th>5</th>\n",
              "      <td>31110</td>\n",
              "      <td>남외동</td>\n",
              "      <td>1/7/2020 0:00</td>\n",
              "      <td>에일린의뜰</td>\n",
              "      <td>500</td>\n",
              "      <td>114.7345</td>\n",
              "      <td>2</td>\n",
              "      <td>2007</td>\n",
              "      <td>41000</td>\n",
              "    </tr>\n",
              "    <tr>\n",
              "      <th>6</th>\n",
              "      <td>31110</td>\n",
              "      <td>남외동</td>\n",
              "      <td>1/8/2020 0:00</td>\n",
              "      <td>에일린의뜰</td>\n",
              "      <td>500</td>\n",
              "      <td>84.9920</td>\n",
              "      <td>5</td>\n",
              "      <td>2007</td>\n",
              "      <td>34000</td>\n",
              "    </tr>\n",
              "    <tr>\n",
              "      <th>7</th>\n",
              "      <td>31110</td>\n",
              "      <td>남외동</td>\n",
              "      <td>1/9/2020 0:00</td>\n",
              "      <td>백합</td>\n",
              "      <td>447-5</td>\n",
              "      <td>65.7200</td>\n",
              "      <td>5</td>\n",
              "      <td>1985</td>\n",
              "      <td>8000</td>\n",
              "    </tr>\n",
              "    <tr>\n",
              "      <th>8</th>\n",
              "      <td>31110</td>\n",
              "      <td>남외동</td>\n",
              "      <td>1/11/2020 0:00</td>\n",
              "      <td>에일린의뜰</td>\n",
              "      <td>500</td>\n",
              "      <td>114.7345</td>\n",
              "      <td>10</td>\n",
              "      <td>2007</td>\n",
              "      <td>44300</td>\n",
              "    </tr>\n",
              "    <tr>\n",
              "      <th>9</th>\n",
              "      <td>31110</td>\n",
              "      <td>남외동</td>\n",
              "      <td>1/18/2020 0:00</td>\n",
              "      <td>남외푸르지오1차</td>\n",
              "      <td>506-1</td>\n",
              "      <td>84.7820</td>\n",
              "      <td>9</td>\n",
              "      <td>2006</td>\n",
              "      <td>36000</td>\n",
              "    </tr>\n",
              "  </tbody>\n",
              "</table>\n",
              "</div>"
            ],
            "text/plain": [
              "    지역코드  법정동             거래일       아파트     지번      전용면적   층  건축년도   거래금액\n",
              "0  31110  학성동  5/30/2020 0:00    남운학성타운    379  135.5800   8  1991  26700\n",
              "1  31110  남외동   1/3/2020 0:00  남외푸르지오1차  506-1  101.6000   2  2006  35500\n",
              "2  31110  남외동   1/3/2020 0:00     에일린의뜰    500   84.9920  11  2007  36500\n",
              "3  31110  남외동   1/3/2020 0:00  남외푸르지오1차  506-1  118.7060   8  2006  43000\n",
              "4  31110  남외동   1/4/2020 0:00  남외푸르지오2차  501-1   84.9636   7  2007  38700\n",
              "5  31110  남외동   1/7/2020 0:00     에일린의뜰    500  114.7345   2  2007  41000\n",
              "6  31110  남외동   1/8/2020 0:00     에일린의뜰    500   84.9920   5  2007  34000\n",
              "7  31110  남외동   1/9/2020 0:00        백합  447-5   65.7200   5  1985   8000\n",
              "8  31110  남외동  1/11/2020 0:00     에일린의뜰    500  114.7345  10  2007  44300\n",
              "9  31110  남외동  1/18/2020 0:00  남외푸르지오1차  506-1   84.7820   9  2006  36000"
            ]
          },
          "metadata": {
            "tags": []
          },
          "execution_count": 3
        }
      ]
    },
    {
      "cell_type": "code",
      "metadata": {
        "colab": {
          "base_uri": "https://localhost:8080/"
        },
        "id": "rPMQVIRoeSOY",
        "outputId": "805578f3-851f-444e-cae9-e04cf29e54c1"
      },
      "source": [
        "data.지역코드.value_counts()"
      ],
      "execution_count": 4,
      "outputs": [
        {
          "output_type": "execute_result",
          "data": {
            "text/plain": [
              "41590    100716\n",
              "41360     79983\n",
              "41190     74547\n",
              "41570     61457\n",
              "41465     60237\n",
              "          ...  \n",
              "45740       248\n",
              "47720       240\n",
              "47760       122\n",
              "47940        28\n",
              "46910         3\n",
              "Name: 지역코드, Length: 249, dtype: int64"
            ]
          },
          "metadata": {
            "tags": []
          },
          "execution_count": 4
        }
      ]
    },
    {
      "cell_type": "code",
      "metadata": {
        "colab": {
          "base_uri": "https://localhost:8080/"
        },
        "id": "yzkmAf2Kf6xN",
        "outputId": "aaf31309-e07c-4fdb-fa9f-0658aa2bc5fc"
      },
      "source": [
        "data.info()"
      ],
      "execution_count": 5,
      "outputs": [
        {
          "output_type": "stream",
          "text": [
            "<class 'pandas.core.frame.DataFrame'>\n",
            "RangeIndex: 4315703 entries, 0 to 4315702\n",
            "Data columns (total 9 columns):\n",
            " #   Column  Dtype  \n",
            "---  ------  -----  \n",
            " 0   지역코드    int64  \n",
            " 1   법정동     object \n",
            " 2   거래일     object \n",
            " 3   아파트     object \n",
            " 4   지번      object \n",
            " 5   전용면적    float64\n",
            " 6   층       object \n",
            " 7   건축년도    int64  \n",
            " 8   거래금액    int64  \n",
            "dtypes: float64(1), int64(3), object(5)\n",
            "memory usage: 296.3+ MB\n"
          ],
          "name": "stdout"
        }
      ]
    },
    {
      "cell_type": "code",
      "metadata": {
        "colab": {
          "base_uri": "https://localhost:8080/",
          "height": 210
        },
        "id": "9akb_d8TkOAH",
        "outputId": "7e16dbb3-17c1-4f12-92b0-a94910f0b211"
      },
      "source": [
        "data = data.rename({'지역코드':'Area code',\n",
        "                    '법정동':'Dong', '거래일':'Trading day', \n",
        "                    '아파트':'Apartment', '지번':'Lot number', \n",
        "                    '전용면적':'Exclusive area', '층':'Floor', \n",
        "                    '건축년도':'Year of construction', '거래금액':'Transaction amount'}, axis='columns')\n",
        "data.head(3)"
      ],
      "execution_count": 6,
      "outputs": [
        {
          "output_type": "execute_result",
          "data": {
            "text/html": [
              "<div>\n",
              "<style scoped>\n",
              "    .dataframe tbody tr th:only-of-type {\n",
              "        vertical-align: middle;\n",
              "    }\n",
              "\n",
              "    .dataframe tbody tr th {\n",
              "        vertical-align: top;\n",
              "    }\n",
              "\n",
              "    .dataframe thead th {\n",
              "        text-align: right;\n",
              "    }\n",
              "</style>\n",
              "<table border=\"1\" class=\"dataframe\">\n",
              "  <thead>\n",
              "    <tr style=\"text-align: right;\">\n",
              "      <th></th>\n",
              "      <th>Area code</th>\n",
              "      <th>Dong</th>\n",
              "      <th>Trading day</th>\n",
              "      <th>Apartment</th>\n",
              "      <th>Lot number</th>\n",
              "      <th>Exclusive area</th>\n",
              "      <th>Floor</th>\n",
              "      <th>Year of construction</th>\n",
              "      <th>Transaction amount</th>\n",
              "    </tr>\n",
              "  </thead>\n",
              "  <tbody>\n",
              "    <tr>\n",
              "      <th>0</th>\n",
              "      <td>31110</td>\n",
              "      <td>학성동</td>\n",
              "      <td>5/30/2020 0:00</td>\n",
              "      <td>남운학성타운</td>\n",
              "      <td>379</td>\n",
              "      <td>135.580</td>\n",
              "      <td>8</td>\n",
              "      <td>1991</td>\n",
              "      <td>26700</td>\n",
              "    </tr>\n",
              "    <tr>\n",
              "      <th>1</th>\n",
              "      <td>31110</td>\n",
              "      <td>남외동</td>\n",
              "      <td>1/3/2020 0:00</td>\n",
              "      <td>남외푸르지오1차</td>\n",
              "      <td>506-1</td>\n",
              "      <td>101.600</td>\n",
              "      <td>2</td>\n",
              "      <td>2006</td>\n",
              "      <td>35500</td>\n",
              "    </tr>\n",
              "    <tr>\n",
              "      <th>2</th>\n",
              "      <td>31110</td>\n",
              "      <td>남외동</td>\n",
              "      <td>1/3/2020 0:00</td>\n",
              "      <td>에일린의뜰</td>\n",
              "      <td>500</td>\n",
              "      <td>84.992</td>\n",
              "      <td>11</td>\n",
              "      <td>2007</td>\n",
              "      <td>36500</td>\n",
              "    </tr>\n",
              "  </tbody>\n",
              "</table>\n",
              "</div>"
            ],
            "text/plain": [
              "   Area code Dong  ... Year of construction Transaction amount\n",
              "0      31110  학성동  ...                 1991              26700\n",
              "1      31110  남외동  ...                 2006              35500\n",
              "2      31110  남외동  ...                 2007              36500\n",
              "\n",
              "[3 rows x 9 columns]"
            ]
          },
          "metadata": {
            "tags": []
          },
          "execution_count": 6
        }
      ]
    },
    {
      "cell_type": "code",
      "metadata": {
        "colab": {
          "base_uri": "https://localhost:8080/"
        },
        "id": "it2gRzfJqQGv",
        "outputId": "602b1317-811f-42ec-f289-e1d617e7675d"
      },
      "source": [
        "data = data.astype({'Area code':'int',\n",
        "                          'Dong':'category',\n",
        "                          'Trading day':'datetime64',\n",
        "                          'Apartment':'category',\n",
        "                          'Exclusive area':'float',\n",
        "                          'Floor':'category',\n",
        "                          'Year of construction':'int',\n",
        "                          'Transaction amount':'int'})\n",
        "data.dtypes"
      ],
      "execution_count": 7,
      "outputs": [
        {
          "output_type": "execute_result",
          "data": {
            "text/plain": [
              "Area code                        int64\n",
              "Dong                          category\n",
              "Trading day             datetime64[ns]\n",
              "Apartment                     category\n",
              "Lot number                      object\n",
              "Exclusive area                 float64\n",
              "Floor                         category\n",
              "Year of construction             int64\n",
              "Transaction amount               int64\n",
              "dtype: object"
            ]
          },
          "metadata": {
            "tags": []
          },
          "execution_count": 7
        }
      ]
    },
    {
      "cell_type": "code",
      "metadata": {
        "colab": {
          "base_uri": "https://localhost:8080/",
          "height": 306
        },
        "id": "2dWGSq9EqYsi",
        "outputId": "c69d64a8-9905-426e-f58f-cb48a081afe1"
      },
      "source": [
        "data.head()"
      ],
      "execution_count": 8,
      "outputs": [
        {
          "output_type": "execute_result",
          "data": {
            "text/html": [
              "<div>\n",
              "<style scoped>\n",
              "    .dataframe tbody tr th:only-of-type {\n",
              "        vertical-align: middle;\n",
              "    }\n",
              "\n",
              "    .dataframe tbody tr th {\n",
              "        vertical-align: top;\n",
              "    }\n",
              "\n",
              "    .dataframe thead th {\n",
              "        text-align: right;\n",
              "    }\n",
              "</style>\n",
              "<table border=\"1\" class=\"dataframe\">\n",
              "  <thead>\n",
              "    <tr style=\"text-align: right;\">\n",
              "      <th></th>\n",
              "      <th>Area code</th>\n",
              "      <th>Dong</th>\n",
              "      <th>Trading day</th>\n",
              "      <th>Apartment</th>\n",
              "      <th>Lot number</th>\n",
              "      <th>Exclusive area</th>\n",
              "      <th>Floor</th>\n",
              "      <th>Year of construction</th>\n",
              "      <th>Transaction amount</th>\n",
              "    </tr>\n",
              "  </thead>\n",
              "  <tbody>\n",
              "    <tr>\n",
              "      <th>0</th>\n",
              "      <td>31110</td>\n",
              "      <td>학성동</td>\n",
              "      <td>2020-05-30</td>\n",
              "      <td>남운학성타운</td>\n",
              "      <td>379</td>\n",
              "      <td>135.5800</td>\n",
              "      <td>8</td>\n",
              "      <td>1991</td>\n",
              "      <td>26700</td>\n",
              "    </tr>\n",
              "    <tr>\n",
              "      <th>1</th>\n",
              "      <td>31110</td>\n",
              "      <td>남외동</td>\n",
              "      <td>2020-01-03</td>\n",
              "      <td>남외푸르지오1차</td>\n",
              "      <td>506-1</td>\n",
              "      <td>101.6000</td>\n",
              "      <td>2</td>\n",
              "      <td>2006</td>\n",
              "      <td>35500</td>\n",
              "    </tr>\n",
              "    <tr>\n",
              "      <th>2</th>\n",
              "      <td>31110</td>\n",
              "      <td>남외동</td>\n",
              "      <td>2020-01-03</td>\n",
              "      <td>에일린의뜰</td>\n",
              "      <td>500</td>\n",
              "      <td>84.9920</td>\n",
              "      <td>11</td>\n",
              "      <td>2007</td>\n",
              "      <td>36500</td>\n",
              "    </tr>\n",
              "    <tr>\n",
              "      <th>3</th>\n",
              "      <td>31110</td>\n",
              "      <td>남외동</td>\n",
              "      <td>2020-01-03</td>\n",
              "      <td>남외푸르지오1차</td>\n",
              "      <td>506-1</td>\n",
              "      <td>118.7060</td>\n",
              "      <td>8</td>\n",
              "      <td>2006</td>\n",
              "      <td>43000</td>\n",
              "    </tr>\n",
              "    <tr>\n",
              "      <th>4</th>\n",
              "      <td>31110</td>\n",
              "      <td>남외동</td>\n",
              "      <td>2020-01-04</td>\n",
              "      <td>남외푸르지오2차</td>\n",
              "      <td>501-1</td>\n",
              "      <td>84.9636</td>\n",
              "      <td>7</td>\n",
              "      <td>2007</td>\n",
              "      <td>38700</td>\n",
              "    </tr>\n",
              "  </tbody>\n",
              "</table>\n",
              "</div>"
            ],
            "text/plain": [
              "   Area code Dong Trading day  ... Floor Year of construction  Transaction amount\n",
              "0      31110  학성동  2020-05-30  ...     8                 1991               26700\n",
              "1      31110  남외동  2020-01-03  ...     2                 2006               35500\n",
              "2      31110  남외동  2020-01-03  ...    11                 2007               36500\n",
              "3      31110  남외동  2020-01-03  ...     8                 2006               43000\n",
              "4      31110  남외동  2020-01-04  ...     7                 2007               38700\n",
              "\n",
              "[5 rows x 9 columns]"
            ]
          },
          "metadata": {
            "tags": []
          },
          "execution_count": 8
        }
      ]
    },
    {
      "cell_type": "code",
      "metadata": {
        "colab": {
          "base_uri": "https://localhost:8080/",
          "height": 297
        },
        "id": "NWCg53zhwHkq",
        "outputId": "6b04a647-80ac-4c55-d4fc-1e6487416df0"
      },
      "source": [
        "data.describe()"
      ],
      "execution_count": 9,
      "outputs": [
        {
          "output_type": "execute_result",
          "data": {
            "text/html": [
              "<div>\n",
              "<style scoped>\n",
              "    .dataframe tbody tr th:only-of-type {\n",
              "        vertical-align: middle;\n",
              "    }\n",
              "\n",
              "    .dataframe tbody tr th {\n",
              "        vertical-align: top;\n",
              "    }\n",
              "\n",
              "    .dataframe thead th {\n",
              "        text-align: right;\n",
              "    }\n",
              "</style>\n",
              "<table border=\"1\" class=\"dataframe\">\n",
              "  <thead>\n",
              "    <tr style=\"text-align: right;\">\n",
              "      <th></th>\n",
              "      <th>Area code</th>\n",
              "      <th>Exclusive area</th>\n",
              "      <th>Year of construction</th>\n",
              "      <th>Transaction amount</th>\n",
              "    </tr>\n",
              "  </thead>\n",
              "  <tbody>\n",
              "    <tr>\n",
              "      <th>count</th>\n",
              "      <td>4.315703e+06</td>\n",
              "      <td>4.315703e+06</td>\n",
              "      <td>4.315703e+06</td>\n",
              "      <td>4.315703e+06</td>\n",
              "    </tr>\n",
              "    <tr>\n",
              "      <th>mean</th>\n",
              "      <td>3.549689e+04</td>\n",
              "      <td>7.605603e+01</td>\n",
              "      <td>2.001340e+03</td>\n",
              "      <td>3.020880e+04</td>\n",
              "    </tr>\n",
              "    <tr>\n",
              "      <th>std</th>\n",
              "      <td>1.147806e+04</td>\n",
              "      <td>2.624946e+01</td>\n",
              "      <td>9.247246e+00</td>\n",
              "      <td>2.605684e+04</td>\n",
              "    </tr>\n",
              "    <tr>\n",
              "      <th>min</th>\n",
              "      <td>1.111000e+04</td>\n",
              "      <td>9.260000e+00</td>\n",
              "      <td>1.961000e+03</td>\n",
              "      <td>1.000000e+02</td>\n",
              "    </tr>\n",
              "    <tr>\n",
              "      <th>25%</th>\n",
              "      <td>2.818500e+04</td>\n",
              "      <td>5.974880e+01</td>\n",
              "      <td>1.995000e+03</td>\n",
              "      <td>1.500000e+04</td>\n",
              "    </tr>\n",
              "    <tr>\n",
              "      <th>50%</th>\n",
              "      <td>4.127300e+04</td>\n",
              "      <td>7.958700e+01</td>\n",
              "      <td>2.001000e+03</td>\n",
              "      <td>2.400000e+04</td>\n",
              "    </tr>\n",
              "    <tr>\n",
              "      <th>75%</th>\n",
              "      <td>4.311400e+04</td>\n",
              "      <td>8.496000e+01</td>\n",
              "      <td>2.008000e+03</td>\n",
              "      <td>3.700000e+04</td>\n",
              "    </tr>\n",
              "    <tr>\n",
              "      <th>max</th>\n",
              "      <td>5.013000e+04</td>\n",
              "      <td>4.243200e+02</td>\n",
              "      <td>2.021000e+03</td>\n",
              "      <td>8.400000e+05</td>\n",
              "    </tr>\n",
              "  </tbody>\n",
              "</table>\n",
              "</div>"
            ],
            "text/plain": [
              "          Area code  Exclusive area  Year of construction  Transaction amount\n",
              "count  4.315703e+06    4.315703e+06          4.315703e+06        4.315703e+06\n",
              "mean   3.549689e+04    7.605603e+01          2.001340e+03        3.020880e+04\n",
              "std    1.147806e+04    2.624946e+01          9.247246e+00        2.605684e+04\n",
              "min    1.111000e+04    9.260000e+00          1.961000e+03        1.000000e+02\n",
              "25%    2.818500e+04    5.974880e+01          1.995000e+03        1.500000e+04\n",
              "50%    4.127300e+04    7.958700e+01          2.001000e+03        2.400000e+04\n",
              "75%    4.311400e+04    8.496000e+01          2.008000e+03        3.700000e+04\n",
              "max    5.013000e+04    4.243200e+02          2.021000e+03        8.400000e+05"
            ]
          },
          "metadata": {
            "tags": []
          },
          "execution_count": 9
        }
      ]
    },
    {
      "cell_type": "code",
      "metadata": {
        "colab": {
          "base_uri": "https://localhost:8080/",
          "height": 606
        },
        "id": "ZLyU_inYwTuG",
        "outputId": "b35bab04-c6a5-4a76-834d-28be874cb16c"
      },
      "source": [
        "data[data['Area code']==11740]"
      ],
      "execution_count": 10,
      "outputs": [
        {
          "output_type": "execute_result",
          "data": {
            "text/html": [
              "<div>\n",
              "<style scoped>\n",
              "    .dataframe tbody tr th:only-of-type {\n",
              "        vertical-align: middle;\n",
              "    }\n",
              "\n",
              "    .dataframe tbody tr th {\n",
              "        vertical-align: top;\n",
              "    }\n",
              "\n",
              "    .dataframe thead th {\n",
              "        text-align: right;\n",
              "    }\n",
              "</style>\n",
              "<table border=\"1\" class=\"dataframe\">\n",
              "  <thead>\n",
              "    <tr style=\"text-align: right;\">\n",
              "      <th></th>\n",
              "      <th>Area code</th>\n",
              "      <th>Dong</th>\n",
              "      <th>Trading day</th>\n",
              "      <th>Apartment</th>\n",
              "      <th>Lot number</th>\n",
              "      <th>Exclusive area</th>\n",
              "      <th>Floor</th>\n",
              "      <th>Year of construction</th>\n",
              "      <th>Transaction amount</th>\n",
              "    </tr>\n",
              "  </thead>\n",
              "  <tbody>\n",
              "    <tr>\n",
              "      <th>732700</th>\n",
              "      <td>11740</td>\n",
              "      <td>강일동</td>\n",
              "      <td>2018-01-05</td>\n",
              "      <td>강일리버파크5단지</td>\n",
              "      <td>670</td>\n",
              "      <td>84.83</td>\n",
              "      <td>3</td>\n",
              "      <td>2009</td>\n",
              "      <td>57500</td>\n",
              "    </tr>\n",
              "    <tr>\n",
              "      <th>732701</th>\n",
              "      <td>11740</td>\n",
              "      <td>강일동</td>\n",
              "      <td>2018-01-06</td>\n",
              "      <td>강일리버파크4단지</td>\n",
              "      <td>673</td>\n",
              "      <td>84.74</td>\n",
              "      <td>9</td>\n",
              "      <td>2009</td>\n",
              "      <td>59000</td>\n",
              "    </tr>\n",
              "    <tr>\n",
              "      <th>732702</th>\n",
              "      <td>11740</td>\n",
              "      <td>강일동</td>\n",
              "      <td>2018-01-06</td>\n",
              "      <td>고덕리엔파크2단지</td>\n",
              "      <td>717</td>\n",
              "      <td>59.83</td>\n",
              "      <td>11</td>\n",
              "      <td>2011</td>\n",
              "      <td>55000</td>\n",
              "    </tr>\n",
              "    <tr>\n",
              "      <th>732703</th>\n",
              "      <td>11740</td>\n",
              "      <td>강일동</td>\n",
              "      <td>2018-01-06</td>\n",
              "      <td>고덕리엔파크2단지</td>\n",
              "      <td>717</td>\n",
              "      <td>84.98</td>\n",
              "      <td>13</td>\n",
              "      <td>2011</td>\n",
              "      <td>65000</td>\n",
              "    </tr>\n",
              "    <tr>\n",
              "      <th>732704</th>\n",
              "      <td>11740</td>\n",
              "      <td>강일동</td>\n",
              "      <td>2018-01-07</td>\n",
              "      <td>강일리버파크4단지</td>\n",
              "      <td>673</td>\n",
              "      <td>84.53</td>\n",
              "      <td>6</td>\n",
              "      <td>2009</td>\n",
              "      <td>60000</td>\n",
              "    </tr>\n",
              "    <tr>\n",
              "      <th>...</th>\n",
              "      <td>...</td>\n",
              "      <td>...</td>\n",
              "      <td>...</td>\n",
              "      <td>...</td>\n",
              "      <td>...</td>\n",
              "      <td>...</td>\n",
              "      <td>...</td>\n",
              "      <td>...</td>\n",
              "      <td>...</td>\n",
              "    </tr>\n",
              "    <tr>\n",
              "      <th>4288648</th>\n",
              "      <td>11740</td>\n",
              "      <td>천호동</td>\n",
              "      <td>2021-03-20</td>\n",
              "      <td>대우한강베네시티</td>\n",
              "      <td>425-5</td>\n",
              "      <td>130.13</td>\n",
              "      <td>15</td>\n",
              "      <td>2007</td>\n",
              "      <td>121000</td>\n",
              "    </tr>\n",
              "    <tr>\n",
              "      <th>4288649</th>\n",
              "      <td>11740</td>\n",
              "      <td>천호동</td>\n",
              "      <td>2021-03-25</td>\n",
              "      <td>성인아파트</td>\n",
              "      <td>32-2</td>\n",
              "      <td>80.12</td>\n",
              "      <td>2</td>\n",
              "      <td>2002</td>\n",
              "      <td>33000</td>\n",
              "    </tr>\n",
              "    <tr>\n",
              "      <th>4288650</th>\n",
              "      <td>11740</td>\n",
              "      <td>천호동</td>\n",
              "      <td>2021-03-25</td>\n",
              "      <td>두산위브센티움</td>\n",
              "      <td>414</td>\n",
              "      <td>39.17</td>\n",
              "      <td>5</td>\n",
              "      <td>2004</td>\n",
              "      <td>18500</td>\n",
              "    </tr>\n",
              "    <tr>\n",
              "      <th>4288651</th>\n",
              "      <td>11740</td>\n",
              "      <td>천호동</td>\n",
              "      <td>2021-03-31</td>\n",
              "      <td>미사 아름채 아파트</td>\n",
              "      <td>452-15</td>\n",
              "      <td>12.14</td>\n",
              "      <td>7</td>\n",
              "      <td>2020</td>\n",
              "      <td>23000</td>\n",
              "    </tr>\n",
              "    <tr>\n",
              "      <th>4288652</th>\n",
              "      <td>11740</td>\n",
              "      <td>암사동</td>\n",
              "      <td>2021-04-03</td>\n",
              "      <td>롯데캐슬퍼스트</td>\n",
              "      <td>414-2</td>\n",
              "      <td>84.81</td>\n",
              "      <td>3</td>\n",
              "      <td>2008</td>\n",
              "      <td>145000</td>\n",
              "    </tr>\n",
              "  </tbody>\n",
              "</table>\n",
              "<p>29581 rows × 9 columns</p>\n",
              "</div>"
            ],
            "text/plain": [
              "         Area code Dong  ... Year of construction Transaction amount\n",
              "732700       11740  강일동  ...                 2009              57500\n",
              "732701       11740  강일동  ...                 2009              59000\n",
              "732702       11740  강일동  ...                 2011              55000\n",
              "732703       11740  강일동  ...                 2011              65000\n",
              "732704       11740  강일동  ...                 2009              60000\n",
              "...            ...  ...  ...                  ...                ...\n",
              "4288648      11740  천호동  ...                 2007             121000\n",
              "4288649      11740  천호동  ...                 2002              33000\n",
              "4288650      11740  천호동  ...                 2004              18500\n",
              "4288651      11740  천호동  ...                 2020              23000\n",
              "4288652      11740  암사동  ...                 2008             145000\n",
              "\n",
              "[29581 rows x 9 columns]"
            ]
          },
          "metadata": {
            "tags": []
          },
          "execution_count": 10
        }
      ]
    },
    {
      "cell_type": "code",
      "metadata": {
        "id": "lG7UreU-5JdH"
      },
      "source": [
        "dong = pd.read_csv('/content/drive/MyDrive/Colab Notebooks/apart/법정동코드 전체자료.txt',sep='\\t')"
      ],
      "execution_count": 11,
      "outputs": []
    },
    {
      "cell_type": "code",
      "metadata": {
        "colab": {
          "base_uri": "https://localhost:8080/"
        },
        "id": "6BDty5-C9VWj",
        "outputId": "11b63ed0-423d-43a3-ffb6-4607d7671da9"
      },
      "source": [
        "dong.info()"
      ],
      "execution_count": 12,
      "outputs": [
        {
          "output_type": "stream",
          "text": [
            "<class 'pandas.core.frame.DataFrame'>\n",
            "RangeIndex: 46292 entries, 0 to 46291\n",
            "Data columns (total 3 columns):\n",
            " #   Column  Non-Null Count  Dtype \n",
            "---  ------  --------------  ----- \n",
            " 0   법정동코드   46292 non-null  int64 \n",
            " 1   법정동명    46292 non-null  object\n",
            " 2   폐지여부    46292 non-null  object\n",
            "dtypes: int64(1), object(2)\n",
            "memory usage: 1.1+ MB\n"
          ],
          "name": "stdout"
        }
      ]
    },
    {
      "cell_type": "code",
      "metadata": {
        "colab": {
          "base_uri": "https://localhost:8080/",
          "height": 419
        },
        "id": "4UfM_2NI6SDZ",
        "outputId": "05be355b-2da5-4998-9eac-643fd8f54ec6"
      },
      "source": [
        "dong.astype(str)"
      ],
      "execution_count": 13,
      "outputs": [
        {
          "output_type": "execute_result",
          "data": {
            "text/html": [
              "<div>\n",
              "<style scoped>\n",
              "    .dataframe tbody tr th:only-of-type {\n",
              "        vertical-align: middle;\n",
              "    }\n",
              "\n",
              "    .dataframe tbody tr th {\n",
              "        vertical-align: top;\n",
              "    }\n",
              "\n",
              "    .dataframe thead th {\n",
              "        text-align: right;\n",
              "    }\n",
              "</style>\n",
              "<table border=\"1\" class=\"dataframe\">\n",
              "  <thead>\n",
              "    <tr style=\"text-align: right;\">\n",
              "      <th></th>\n",
              "      <th>법정동코드</th>\n",
              "      <th>법정동명</th>\n",
              "      <th>폐지여부</th>\n",
              "    </tr>\n",
              "  </thead>\n",
              "  <tbody>\n",
              "    <tr>\n",
              "      <th>0</th>\n",
              "      <td>1100000000</td>\n",
              "      <td>서울특별시</td>\n",
              "      <td>존재</td>\n",
              "    </tr>\n",
              "    <tr>\n",
              "      <th>1</th>\n",
              "      <td>1111000000</td>\n",
              "      <td>서울특별시 종로구</td>\n",
              "      <td>존재</td>\n",
              "    </tr>\n",
              "    <tr>\n",
              "      <th>2</th>\n",
              "      <td>1111010100</td>\n",
              "      <td>서울특별시 종로구 청운동</td>\n",
              "      <td>존재</td>\n",
              "    </tr>\n",
              "    <tr>\n",
              "      <th>3</th>\n",
              "      <td>1111010200</td>\n",
              "      <td>서울특별시 종로구 신교동</td>\n",
              "      <td>존재</td>\n",
              "    </tr>\n",
              "    <tr>\n",
              "      <th>4</th>\n",
              "      <td>1111010300</td>\n",
              "      <td>서울특별시 종로구 궁정동</td>\n",
              "      <td>존재</td>\n",
              "    </tr>\n",
              "    <tr>\n",
              "      <th>...</th>\n",
              "      <td>...</td>\n",
              "      <td>...</td>\n",
              "      <td>...</td>\n",
              "    </tr>\n",
              "    <tr>\n",
              "      <th>46287</th>\n",
              "      <td>5013032022</td>\n",
              "      <td>제주특별자치도 서귀포시 표선면 하천리</td>\n",
              "      <td>존재</td>\n",
              "    </tr>\n",
              "    <tr>\n",
              "      <th>46288</th>\n",
              "      <td>5013032023</td>\n",
              "      <td>제주특별자치도 서귀포시 표선면 성읍리</td>\n",
              "      <td>존재</td>\n",
              "    </tr>\n",
              "    <tr>\n",
              "      <th>46289</th>\n",
              "      <td>5013032024</td>\n",
              "      <td>제주특별자치도 서귀포시 표선면 가시리</td>\n",
              "      <td>존재</td>\n",
              "    </tr>\n",
              "    <tr>\n",
              "      <th>46290</th>\n",
              "      <td>5013032025</td>\n",
              "      <td>제주특별자치도 서귀포시 표선면 세화리</td>\n",
              "      <td>존재</td>\n",
              "    </tr>\n",
              "    <tr>\n",
              "      <th>46291</th>\n",
              "      <td>5013032026</td>\n",
              "      <td>제주특별자치도 서귀포시 표선면 토산리</td>\n",
              "      <td>존재</td>\n",
              "    </tr>\n",
              "  </tbody>\n",
              "</table>\n",
              "<p>46292 rows × 3 columns</p>\n",
              "</div>"
            ],
            "text/plain": [
              "            법정동코드                  법정동명 폐지여부\n",
              "0      1100000000                 서울특별시   존재\n",
              "1      1111000000             서울특별시 종로구   존재\n",
              "2      1111010100         서울특별시 종로구 청운동   존재\n",
              "3      1111010200         서울특별시 종로구 신교동   존재\n",
              "4      1111010300         서울특별시 종로구 궁정동   존재\n",
              "...           ...                   ...  ...\n",
              "46287  5013032022  제주특별자치도 서귀포시 표선면 하천리   존재\n",
              "46288  5013032023  제주특별자치도 서귀포시 표선면 성읍리   존재\n",
              "46289  5013032024  제주특별자치도 서귀포시 표선면 가시리   존재\n",
              "46290  5013032025  제주특별자치도 서귀포시 표선면 세화리   존재\n",
              "46291  5013032026  제주특별자치도 서귀포시 표선면 토산리   존재\n",
              "\n",
              "[46292 rows x 3 columns]"
            ]
          },
          "metadata": {
            "tags": []
          },
          "execution_count": 13
        }
      ]
    },
    {
      "cell_type": "code",
      "metadata": {
        "id": "qc7VGA2vEpX6"
      },
      "source": [
        "seoul = data[(data['Area code']<=11740)&(data['Area code']>=11110)]"
      ],
      "execution_count": 14,
      "outputs": []
    },
    {
      "cell_type": "code",
      "metadata": {
        "id": "zTNW4ElfFEAV"
      },
      "source": [
        "seoul.to_csv('seoul.csv')"
      ],
      "execution_count": 15,
      "outputs": []
    },
    {
      "cell_type": "code",
      "metadata": {
        "colab": {
          "base_uri": "https://localhost:8080/"
        },
        "id": "k-Vi2ccvFdOa",
        "outputId": "3db16741-bc7b-4525-cbb7-54c503aea243"
      },
      "source": [
        "seoul.info()"
      ],
      "execution_count": 16,
      "outputs": [
        {
          "output_type": "stream",
          "text": [
            "<class 'pandas.core.frame.DataFrame'>\n",
            "Int64Index: 557061 entries, 655312 to 4288652\n",
            "Data columns (total 9 columns):\n",
            " #   Column                Non-Null Count   Dtype         \n",
            "---  ------                --------------   -----         \n",
            " 0   Area code             557061 non-null  int64         \n",
            " 1   Dong                  557061 non-null  category      \n",
            " 2   Trading day           557061 non-null  datetime64[ns]\n",
            " 3   Apartment             557061 non-null  category      \n",
            " 4   Lot number            556845 non-null  object        \n",
            " 5   Exclusive area        557061 non-null  float64       \n",
            " 6   Floor                 557061 non-null  category      \n",
            " 7   Year of construction  557061 non-null  int64         \n",
            " 8   Transaction amount    557061 non-null  int64         \n",
            "dtypes: category(3), datetime64[ns](1), float64(1), int64(3), object(1)\n",
            "memory usage: 34.6+ MB\n"
          ],
          "name": "stdout"
        }
      ]
    },
    {
      "cell_type": "code",
      "metadata": {
        "id": "r8UilfYtGPOA"
      },
      "source": [
        "ci_gu = pd.read_csv('/content/drive/MyDrive/Colab Notebooks/apart/ci_gu.csv')"
      ],
      "execution_count": 17,
      "outputs": []
    },
    {
      "cell_type": "code",
      "metadata": {
        "colab": {
          "base_uri": "https://localhost:8080/",
          "height": 204
        },
        "id": "oCoOLU-xIcEQ",
        "outputId": "8f067ba4-47ef-4e62-fe8a-a72e2d5e04e6"
      },
      "source": [
        "ci_gu.head()"
      ],
      "execution_count": 18,
      "outputs": [
        {
          "output_type": "execute_result",
          "data": {
            "text/html": [
              "<div>\n",
              "<style scoped>\n",
              "    .dataframe tbody tr th:only-of-type {\n",
              "        vertical-align: middle;\n",
              "    }\n",
              "\n",
              "    .dataframe tbody tr th {\n",
              "        vertical-align: top;\n",
              "    }\n",
              "\n",
              "    .dataframe thead th {\n",
              "        text-align: right;\n",
              "    }\n",
              "</style>\n",
              "<table border=\"1\" class=\"dataframe\">\n",
              "  <thead>\n",
              "    <tr style=\"text-align: right;\">\n",
              "      <th></th>\n",
              "      <th>Unnamed: 0</th>\n",
              "      <th>code</th>\n",
              "      <th>dong</th>\n",
              "      <th>YN</th>\n",
              "    </tr>\n",
              "  </thead>\n",
              "  <tbody>\n",
              "    <tr>\n",
              "      <th>0</th>\n",
              "      <td>1</td>\n",
              "      <td>11110</td>\n",
              "      <td>종로구</td>\n",
              "      <td>존재</td>\n",
              "    </tr>\n",
              "    <tr>\n",
              "      <th>1</th>\n",
              "      <td>2</td>\n",
              "      <td>11110</td>\n",
              "      <td>종로구</td>\n",
              "      <td>존재</td>\n",
              "    </tr>\n",
              "    <tr>\n",
              "      <th>2</th>\n",
              "      <td>3</td>\n",
              "      <td>11110</td>\n",
              "      <td>종로구</td>\n",
              "      <td>존재</td>\n",
              "    </tr>\n",
              "    <tr>\n",
              "      <th>3</th>\n",
              "      <td>4</td>\n",
              "      <td>11110</td>\n",
              "      <td>종로구</td>\n",
              "      <td>존재</td>\n",
              "    </tr>\n",
              "    <tr>\n",
              "      <th>4</th>\n",
              "      <td>5</td>\n",
              "      <td>11110</td>\n",
              "      <td>종로구</td>\n",
              "      <td>존재</td>\n",
              "    </tr>\n",
              "  </tbody>\n",
              "</table>\n",
              "</div>"
            ],
            "text/plain": [
              "   Unnamed: 0   code dong  YN\n",
              "0           1  11110  종로구  존재\n",
              "1           2  11110  종로구  존재\n",
              "2           3  11110  종로구  존재\n",
              "3           4  11110  종로구  존재\n",
              "4           5  11110  종로구  존재"
            ]
          },
          "metadata": {
            "tags": []
          },
          "execution_count": 18
        }
      ]
    },
    {
      "cell_type": "code",
      "metadata": {
        "id": "KkT3MXzRIe2A"
      },
      "source": [
        "ci_gu.drop('Unnamed: 0',axis=1,inplace=True)"
      ],
      "execution_count": 19,
      "outputs": []
    },
    {
      "cell_type": "code",
      "metadata": {
        "id": "f8ao5ga5NIv8"
      },
      "source": [
        "ci_gu.drop('YN',axis=1,inplace=True)"
      ],
      "execution_count": 20,
      "outputs": []
    },
    {
      "cell_type": "code",
      "metadata": {
        "colab": {
          "base_uri": "https://localhost:8080/",
          "height": 419
        },
        "id": "_53q9aYcNXxG",
        "outputId": "f61c6d38-720f-4ce4-a30b-bbe5dda3759c"
      },
      "source": [
        "ci_gu.groupby(['code','dong'])\n",
        "ci_gu"
      ],
      "execution_count": 21,
      "outputs": [
        {
          "output_type": "execute_result",
          "data": {
            "text/html": [
              "<div>\n",
              "<style scoped>\n",
              "    .dataframe tbody tr th:only-of-type {\n",
              "        vertical-align: middle;\n",
              "    }\n",
              "\n",
              "    .dataframe tbody tr th {\n",
              "        vertical-align: top;\n",
              "    }\n",
              "\n",
              "    .dataframe thead th {\n",
              "        text-align: right;\n",
              "    }\n",
              "</style>\n",
              "<table border=\"1\" class=\"dataframe\">\n",
              "  <thead>\n",
              "    <tr style=\"text-align: right;\">\n",
              "      <th></th>\n",
              "      <th>code</th>\n",
              "      <th>dong</th>\n",
              "    </tr>\n",
              "  </thead>\n",
              "  <tbody>\n",
              "    <tr>\n",
              "      <th>0</th>\n",
              "      <td>11110</td>\n",
              "      <td>종로구</td>\n",
              "    </tr>\n",
              "    <tr>\n",
              "      <th>1</th>\n",
              "      <td>11110</td>\n",
              "      <td>종로구</td>\n",
              "    </tr>\n",
              "    <tr>\n",
              "      <th>2</th>\n",
              "      <td>11110</td>\n",
              "      <td>종로구</td>\n",
              "    </tr>\n",
              "    <tr>\n",
              "      <th>3</th>\n",
              "      <td>11110</td>\n",
              "      <td>종로구</td>\n",
              "    </tr>\n",
              "    <tr>\n",
              "      <th>4</th>\n",
              "      <td>11110</td>\n",
              "      <td>종로구</td>\n",
              "    </tr>\n",
              "    <tr>\n",
              "      <th>...</th>\n",
              "      <td>...</td>\n",
              "      <td>...</td>\n",
              "    </tr>\n",
              "    <tr>\n",
              "      <th>46264</th>\n",
              "      <td>50130</td>\n",
              "      <td>서귀포시</td>\n",
              "    </tr>\n",
              "    <tr>\n",
              "      <th>46265</th>\n",
              "      <td>50130</td>\n",
              "      <td>서귀포시</td>\n",
              "    </tr>\n",
              "    <tr>\n",
              "      <th>46266</th>\n",
              "      <td>50130</td>\n",
              "      <td>서귀포시</td>\n",
              "    </tr>\n",
              "    <tr>\n",
              "      <th>46267</th>\n",
              "      <td>50130</td>\n",
              "      <td>서귀포시</td>\n",
              "    </tr>\n",
              "    <tr>\n",
              "      <th>46268</th>\n",
              "      <td>50130</td>\n",
              "      <td>서귀포시</td>\n",
              "    </tr>\n",
              "  </tbody>\n",
              "</table>\n",
              "<p>46269 rows × 2 columns</p>\n",
              "</div>"
            ],
            "text/plain": [
              "        code  dong\n",
              "0      11110   종로구\n",
              "1      11110   종로구\n",
              "2      11110   종로구\n",
              "3      11110   종로구\n",
              "4      11110   종로구\n",
              "...      ...   ...\n",
              "46264  50130  서귀포시\n",
              "46265  50130  서귀포시\n",
              "46266  50130  서귀포시\n",
              "46267  50130  서귀포시\n",
              "46268  50130  서귀포시\n",
              "\n",
              "[46269 rows x 2 columns]"
            ]
          },
          "metadata": {
            "tags": []
          },
          "execution_count": 21
        }
      ]
    },
    {
      "cell_type": "code",
      "metadata": {
        "id": "dyap8cf1PVJt"
      },
      "source": [
        "ci_gu=ci_gu.drop_duplicates()"
      ],
      "execution_count": 22,
      "outputs": []
    },
    {
      "cell_type": "code",
      "metadata": {
        "id": "MiziQsDCJbI6"
      },
      "source": [
        "ci_gu=ci_gu.rename({'code':'Area code','dong':'Gu'}, axis='columns')"
      ],
      "execution_count": 23,
      "outputs": []
    },
    {
      "cell_type": "code",
      "metadata": {
        "colab": {
          "base_uri": "https://localhost:8080/",
          "height": 204
        },
        "id": "LEP5ZAc8J1Os",
        "outputId": "ecbb70a5-a382-46cc-ae66-69d774c75811"
      },
      "source": [
        "ci_gu.head()"
      ],
      "execution_count": 24,
      "outputs": [
        {
          "output_type": "execute_result",
          "data": {
            "text/html": [
              "<div>\n",
              "<style scoped>\n",
              "    .dataframe tbody tr th:only-of-type {\n",
              "        vertical-align: middle;\n",
              "    }\n",
              "\n",
              "    .dataframe tbody tr th {\n",
              "        vertical-align: top;\n",
              "    }\n",
              "\n",
              "    .dataframe thead th {\n",
              "        text-align: right;\n",
              "    }\n",
              "</style>\n",
              "<table border=\"1\" class=\"dataframe\">\n",
              "  <thead>\n",
              "    <tr style=\"text-align: right;\">\n",
              "      <th></th>\n",
              "      <th>Area code</th>\n",
              "      <th>Gu</th>\n",
              "    </tr>\n",
              "  </thead>\n",
              "  <tbody>\n",
              "    <tr>\n",
              "      <th>0</th>\n",
              "      <td>11110</td>\n",
              "      <td>종로구</td>\n",
              "    </tr>\n",
              "    <tr>\n",
              "      <th>93</th>\n",
              "      <td>11140</td>\n",
              "      <td>중구</td>\n",
              "    </tr>\n",
              "    <tr>\n",
              "      <th>178</th>\n",
              "      <td>11170</td>\n",
              "      <td>용산구</td>\n",
              "    </tr>\n",
              "    <tr>\n",
              "      <th>228</th>\n",
              "      <td>11200</td>\n",
              "      <td>성동구</td>\n",
              "    </tr>\n",
              "    <tr>\n",
              "      <th>331</th>\n",
              "      <td>11215</td>\n",
              "      <td>광진구</td>\n",
              "    </tr>\n",
              "  </tbody>\n",
              "</table>\n",
              "</div>"
            ],
            "text/plain": [
              "     Area code   Gu\n",
              "0        11110  종로구\n",
              "93       11140   중구\n",
              "178      11170  용산구\n",
              "228      11200  성동구\n",
              "331      11215  광진구"
            ]
          },
          "metadata": {
            "tags": []
          },
          "execution_count": 24
        }
      ]
    },
    {
      "cell_type": "code",
      "metadata": {
        "id": "LZS2_XywIt3o"
      },
      "source": [
        "df = pd.merge(data,ci_gu,on='Area code',how='left')"
      ],
      "execution_count": 25,
      "outputs": []
    },
    {
      "cell_type": "code",
      "metadata": {
        "colab": {
          "base_uri": "https://localhost:8080/"
        },
        "id": "kTiUhsxKJFvv",
        "outputId": "1e60ff08-1c8d-491c-b571-57c25e7cea7c"
      },
      "source": [
        "df.info()"
      ],
      "execution_count": 26,
      "outputs": [
        {
          "output_type": "stream",
          "text": [
            "<class 'pandas.core.frame.DataFrame'>\n",
            "Int64Index: 5341031 entries, 0 to 5341030\n",
            "Data columns (total 10 columns):\n",
            " #   Column                Dtype         \n",
            "---  ------                -----         \n",
            " 0   Area code             int64         \n",
            " 1   Dong                  category      \n",
            " 2   Trading day           datetime64[ns]\n",
            " 3   Apartment             category      \n",
            " 4   Lot number            object        \n",
            " 5   Exclusive area        float64       \n",
            " 6   Floor                 category      \n",
            " 7   Year of construction  int64         \n",
            " 8   Transaction amount    int64         \n",
            " 9   Gu                    object        \n",
            "dtypes: category(3), datetime64[ns](1), float64(1), int64(3), object(2)\n",
            "memory usage: 358.2+ MB\n"
          ],
          "name": "stdout"
        }
      ]
    },
    {
      "cell_type": "code",
      "metadata": {
        "id": "q6Hh7AFSP11G"
      },
      "source": [
        "df=df[['Area code','Gu','Dong','Lot number','Trading day','Apartment','Exclusive area','Floor','Year of construction','Transaction amount']]"
      ],
      "execution_count": 27,
      "outputs": []
    },
    {
      "cell_type": "code",
      "metadata": {
        "colab": {
          "base_uri": "https://localhost:8080/",
          "height": 742
        },
        "id": "YrJxd1XUQRgc",
        "outputId": "717c5f69-872c-421c-f96c-33ee82907356"
      },
      "source": [
        "df"
      ],
      "execution_count": 28,
      "outputs": [
        {
          "output_type": "execute_result",
          "data": {
            "text/html": [
              "<div>\n",
              "<style scoped>\n",
              "    .dataframe tbody tr th:only-of-type {\n",
              "        vertical-align: middle;\n",
              "    }\n",
              "\n",
              "    .dataframe tbody tr th {\n",
              "        vertical-align: top;\n",
              "    }\n",
              "\n",
              "    .dataframe thead th {\n",
              "        text-align: right;\n",
              "    }\n",
              "</style>\n",
              "<table border=\"1\" class=\"dataframe\">\n",
              "  <thead>\n",
              "    <tr style=\"text-align: right;\">\n",
              "      <th></th>\n",
              "      <th>Area code</th>\n",
              "      <th>Gu</th>\n",
              "      <th>Dong</th>\n",
              "      <th>Lot number</th>\n",
              "      <th>Trading day</th>\n",
              "      <th>Apartment</th>\n",
              "      <th>Exclusive area</th>\n",
              "      <th>Floor</th>\n",
              "      <th>Year of construction</th>\n",
              "      <th>Transaction amount</th>\n",
              "    </tr>\n",
              "  </thead>\n",
              "  <tbody>\n",
              "    <tr>\n",
              "      <th>0</th>\n",
              "      <td>31110</td>\n",
              "      <td>중구</td>\n",
              "      <td>학성동</td>\n",
              "      <td>379</td>\n",
              "      <td>2020-05-30</td>\n",
              "      <td>남운학성타운</td>\n",
              "      <td>135.5800</td>\n",
              "      <td>8</td>\n",
              "      <td>1991</td>\n",
              "      <td>26700</td>\n",
              "    </tr>\n",
              "    <tr>\n",
              "      <th>1</th>\n",
              "      <td>31110</td>\n",
              "      <td>중구</td>\n",
              "      <td>남외동</td>\n",
              "      <td>506-1</td>\n",
              "      <td>2020-01-03</td>\n",
              "      <td>남외푸르지오1차</td>\n",
              "      <td>101.6000</td>\n",
              "      <td>2</td>\n",
              "      <td>2006</td>\n",
              "      <td>35500</td>\n",
              "    </tr>\n",
              "    <tr>\n",
              "      <th>2</th>\n",
              "      <td>31110</td>\n",
              "      <td>중구</td>\n",
              "      <td>남외동</td>\n",
              "      <td>500</td>\n",
              "      <td>2020-01-03</td>\n",
              "      <td>에일린의뜰</td>\n",
              "      <td>84.9920</td>\n",
              "      <td>11</td>\n",
              "      <td>2007</td>\n",
              "      <td>36500</td>\n",
              "    </tr>\n",
              "    <tr>\n",
              "      <th>3</th>\n",
              "      <td>31110</td>\n",
              "      <td>중구</td>\n",
              "      <td>남외동</td>\n",
              "      <td>506-1</td>\n",
              "      <td>2020-01-03</td>\n",
              "      <td>남외푸르지오1차</td>\n",
              "      <td>118.7060</td>\n",
              "      <td>8</td>\n",
              "      <td>2006</td>\n",
              "      <td>43000</td>\n",
              "    </tr>\n",
              "    <tr>\n",
              "      <th>4</th>\n",
              "      <td>31110</td>\n",
              "      <td>중구</td>\n",
              "      <td>남외동</td>\n",
              "      <td>501-1</td>\n",
              "      <td>2020-01-04</td>\n",
              "      <td>남외푸르지오2차</td>\n",
              "      <td>84.9636</td>\n",
              "      <td>7</td>\n",
              "      <td>2007</td>\n",
              "      <td>38700</td>\n",
              "    </tr>\n",
              "    <tr>\n",
              "      <th>...</th>\n",
              "      <td>...</td>\n",
              "      <td>...</td>\n",
              "      <td>...</td>\n",
              "      <td>...</td>\n",
              "      <td>...</td>\n",
              "      <td>...</td>\n",
              "      <td>...</td>\n",
              "      <td>...</td>\n",
              "      <td>...</td>\n",
              "      <td>...</td>\n",
              "    </tr>\n",
              "    <tr>\n",
              "      <th>5341026</th>\n",
              "      <td>50110</td>\n",
              "      <td>제주시</td>\n",
              "      <td>애월읍 하귀1리</td>\n",
              "      <td>166-1</td>\n",
              "      <td>2021-04-07</td>\n",
              "      <td>제주하귀휴먼시아2단지</td>\n",
              "      <td>84.8400</td>\n",
              "      <td>7</td>\n",
              "      <td>2010</td>\n",
              "      <td>38500</td>\n",
              "    </tr>\n",
              "    <tr>\n",
              "      <th>5341027</th>\n",
              "      <td>50110</td>\n",
              "      <td>제주시</td>\n",
              "      <td>한림읍 한림리</td>\n",
              "      <td>1530-2</td>\n",
              "      <td>2021-04-06</td>\n",
              "      <td>영신</td>\n",
              "      <td>84.8700</td>\n",
              "      <td>4</td>\n",
              "      <td>1991</td>\n",
              "      <td>12000</td>\n",
              "    </tr>\n",
              "    <tr>\n",
              "      <th>5341028</th>\n",
              "      <td>50130</td>\n",
              "      <td>서귀포시</td>\n",
              "      <td>동홍동</td>\n",
              "      <td>2196</td>\n",
              "      <td>2021-03-26</td>\n",
              "      <td>동호아트리움</td>\n",
              "      <td>74.9261</td>\n",
              "      <td>3</td>\n",
              "      <td>2019</td>\n",
              "      <td>32500</td>\n",
              "    </tr>\n",
              "    <tr>\n",
              "      <th>5341029</th>\n",
              "      <td>50130</td>\n",
              "      <td>서귀포시</td>\n",
              "      <td>동홍동</td>\n",
              "      <td>157</td>\n",
              "      <td>2021-03-29</td>\n",
              "      <td>동홍동코아루</td>\n",
              "      <td>60.9375</td>\n",
              "      <td>3</td>\n",
              "      <td>2013</td>\n",
              "      <td>24100</td>\n",
              "    </tr>\n",
              "    <tr>\n",
              "      <th>5341030</th>\n",
              "      <td>50130</td>\n",
              "      <td>서귀포시</td>\n",
              "      <td>동홍동</td>\n",
              "      <td>1674</td>\n",
              "      <td>2021-03-31</td>\n",
              "      <td>주공5차(동홍5차)</td>\n",
              "      <td>39.7900</td>\n",
              "      <td>5</td>\n",
              "      <td>1999</td>\n",
              "      <td>12500</td>\n",
              "    </tr>\n",
              "  </tbody>\n",
              "</table>\n",
              "<p>5341031 rows × 10 columns</p>\n",
              "</div>"
            ],
            "text/plain": [
              "         Area code    Gu  ... Year of construction Transaction amount\n",
              "0            31110    중구  ...                 1991              26700\n",
              "1            31110    중구  ...                 2006              35500\n",
              "2            31110    중구  ...                 2007              36500\n",
              "3            31110    중구  ...                 2006              43000\n",
              "4            31110    중구  ...                 2007              38700\n",
              "...            ...   ...  ...                  ...                ...\n",
              "5341026      50110   제주시  ...                 2010              38500\n",
              "5341027      50110   제주시  ...                 1991              12000\n",
              "5341028      50130  서귀포시  ...                 2019              32500\n",
              "5341029      50130  서귀포시  ...                 2013              24100\n",
              "5341030      50130  서귀포시  ...                 1999              12500\n",
              "\n",
              "[5341031 rows x 10 columns]"
            ]
          },
          "metadata": {
            "tags": []
          },
          "execution_count": 28
        }
      ]
    },
    {
      "cell_type": "code",
      "metadata": {
        "colab": {
          "base_uri": "https://localhost:8080/"
        },
        "id": "O_a3iceAThHy",
        "outputId": "2ed7e2c9-0396-4ced-c6f6-2764ef118bf4"
      },
      "source": [
        "df.info()"
      ],
      "execution_count": 29,
      "outputs": [
        {
          "output_type": "stream",
          "text": [
            "<class 'pandas.core.frame.DataFrame'>\n",
            "Int64Index: 5341031 entries, 0 to 5341030\n",
            "Data columns (total 10 columns):\n",
            " #   Column                Dtype         \n",
            "---  ------                -----         \n",
            " 0   Area code             int64         \n",
            " 1   Gu                    object        \n",
            " 2   Dong                  category      \n",
            " 3   Lot number            object        \n",
            " 4   Trading day           datetime64[ns]\n",
            " 5   Apartment             category      \n",
            " 6   Exclusive area        float64       \n",
            " 7   Floor                 category      \n",
            " 8   Year of construction  int64         \n",
            " 9   Transaction amount    int64         \n",
            "dtypes: category(3), datetime64[ns](1), float64(1), int64(3), object(2)\n",
            "memory usage: 358.2+ MB\n"
          ],
          "name": "stdout"
        }
      ]
    },
    {
      "cell_type": "code",
      "metadata": {
        "id": "2wWdGZOPQYel"
      },
      "source": [
        "seoul = df[df['Area code']==11110]"
      ],
      "execution_count": 30,
      "outputs": []
    },
    {
      "cell_type": "code",
      "metadata": {
        "id": "DiXA--xJRgsW"
      },
      "source": [
        "from fbprophet import Prophet"
      ],
      "execution_count": 31,
      "outputs": []
    },
    {
      "cell_type": "code",
      "metadata": {
        "id": "2n59QMMKSBX8"
      },
      "source": [
        "prophet = Prophet(seasonality_mode='multiplicative', \n",
        "                  yearly_seasonality=True,\n",
        "                  weekly_seasonality=True, daily_seasonality=True,\n",
        "                  changepoint_prior_scale=0.5)"
      ],
      "execution_count": 32,
      "outputs": []
    },
    {
      "cell_type": "code",
      "metadata": {
        "id": "uYAePa-lSqBP"
      },
      "source": [
        "target = seoul[['Trading day','Transaction amount']]"
      ],
      "execution_count": 33,
      "outputs": []
    },
    {
      "cell_type": "code",
      "metadata": {
        "id": "7pc_bjzySs2O"
      },
      "source": [
        "target.rename({'Trading day':'ds','Transaction amount':'y'},axis='columns',inplace=True)"
      ],
      "execution_count": 34,
      "outputs": []
    },
    {
      "cell_type": "code",
      "metadata": {
        "colab": {
          "base_uri": "https://localhost:8080/"
        },
        "id": "iQmsTL1MTqQX",
        "outputId": "4e7f6c9f-21e8-45e4-bfe6-4089a6232fe4"
      },
      "source": [
        "target.info()"
      ],
      "execution_count": 35,
      "outputs": [
        {
          "output_type": "stream",
          "text": [
            "<class 'pandas.core.frame.DataFrame'>\n",
            "Int64Index: 4365 entries, 964912 to 5304311\n",
            "Data columns (total 2 columns):\n",
            " #   Column  Non-Null Count  Dtype         \n",
            "---  ------  --------------  -----         \n",
            " 0   ds      4365 non-null   datetime64[ns]\n",
            " 1   y       4365 non-null   int64         \n",
            "dtypes: datetime64[ns](1), int64(1)\n",
            "memory usage: 102.3 KB\n"
          ],
          "name": "stdout"
        }
      ]
    },
    {
      "cell_type": "code",
      "metadata": {
        "colab": {
          "base_uri": "https://localhost:8080/",
          "height": 450
        },
        "id": "JHRfD0heW4rg",
        "outputId": "edc9bccb-6449-43ba-fdd8-41545d052ebb"
      },
      "source": [
        "target.groupby('ds').mean()"
      ],
      "execution_count": 36,
      "outputs": [
        {
          "output_type": "execute_result",
          "data": {
            "text/html": [
              "<div>\n",
              "<style scoped>\n",
              "    .dataframe tbody tr th:only-of-type {\n",
              "        vertical-align: middle;\n",
              "    }\n",
              "\n",
              "    .dataframe tbody tr th {\n",
              "        vertical-align: top;\n",
              "    }\n",
              "\n",
              "    .dataframe thead th {\n",
              "        text-align: right;\n",
              "    }\n",
              "</style>\n",
              "<table border=\"1\" class=\"dataframe\">\n",
              "  <thead>\n",
              "    <tr style=\"text-align: right;\">\n",
              "      <th></th>\n",
              "      <th>y</th>\n",
              "    </tr>\n",
              "    <tr>\n",
              "      <th>ds</th>\n",
              "      <th></th>\n",
              "    </tr>\n",
              "  </thead>\n",
              "  <tbody>\n",
              "    <tr>\n",
              "      <th>2015-01-02</th>\n",
              "      <td>38900.0</td>\n",
              "    </tr>\n",
              "    <tr>\n",
              "      <th>2015-01-03</th>\n",
              "      <td>14000.0</td>\n",
              "    </tr>\n",
              "    <tr>\n",
              "      <th>2015-01-06</th>\n",
              "      <td>45625.0</td>\n",
              "    </tr>\n",
              "    <tr>\n",
              "      <th>2015-01-07</th>\n",
              "      <td>71000.0</td>\n",
              "    </tr>\n",
              "    <tr>\n",
              "      <th>2015-01-08</th>\n",
              "      <td>45020.0</td>\n",
              "    </tr>\n",
              "    <tr>\n",
              "      <th>...</th>\n",
              "      <td>...</td>\n",
              "    </tr>\n",
              "    <tr>\n",
              "      <th>2021-03-24</th>\n",
              "      <td>25000.0</td>\n",
              "    </tr>\n",
              "    <tr>\n",
              "      <th>2021-03-25</th>\n",
              "      <td>51500.0</td>\n",
              "    </tr>\n",
              "    <tr>\n",
              "      <th>2021-03-26</th>\n",
              "      <td>86500.0</td>\n",
              "    </tr>\n",
              "    <tr>\n",
              "      <th>2021-03-28</th>\n",
              "      <td>12250.0</td>\n",
              "    </tr>\n",
              "    <tr>\n",
              "      <th>2021-04-01</th>\n",
              "      <td>23000.0</td>\n",
              "    </tr>\n",
              "  </tbody>\n",
              "</table>\n",
              "<p>1666 rows × 1 columns</p>\n",
              "</div>"
            ],
            "text/plain": [
              "                  y\n",
              "ds                 \n",
              "2015-01-02  38900.0\n",
              "2015-01-03  14000.0\n",
              "2015-01-06  45625.0\n",
              "2015-01-07  71000.0\n",
              "2015-01-08  45020.0\n",
              "...             ...\n",
              "2021-03-24  25000.0\n",
              "2021-03-25  51500.0\n",
              "2021-03-26  86500.0\n",
              "2021-03-28  12250.0\n",
              "2021-04-01  23000.0\n",
              "\n",
              "[1666 rows x 1 columns]"
            ]
          },
          "metadata": {
            "tags": []
          },
          "execution_count": 36
        }
      ]
    },
    {
      "cell_type": "code",
      "metadata": {
        "colab": {
          "base_uri": "https://localhost:8080/"
        },
        "id": "DVi7ZyKnSOKk",
        "outputId": "5bd5b230-9ae5-4f69-92a4-e58c678f8445"
      },
      "source": [
        "prophet.fit(target)"
      ],
      "execution_count": 37,
      "outputs": [
        {
          "output_type": "execute_result",
          "data": {
            "text/plain": [
              "<fbprophet.forecaster.Prophet at 0x7f55f1bdfad0>"
            ]
          },
          "metadata": {
            "tags": []
          },
          "execution_count": 37
        }
      ]
    },
    {
      "cell_type": "code",
      "metadata": {
        "colab": {
          "base_uri": "https://localhost:8080/",
          "height": 204
        },
        "id": "GObyjVAoSeyc",
        "outputId": "88da67b0-ddab-4e2a-b984-f4e0ba2de75a"
      },
      "source": [
        "future_data = prophet.make_future_dataframe(periods=60, freq='d')\n",
        "forecast_data = prophet.predict(future_data)\n",
        "forecast_data[['ds', 'yhat', 'yhat_lower', 'yhat_upper']].tail(5)"
      ],
      "execution_count": 38,
      "outputs": [
        {
          "output_type": "execute_result",
          "data": {
            "text/html": [
              "<div>\n",
              "<style scoped>\n",
              "    .dataframe tbody tr th:only-of-type {\n",
              "        vertical-align: middle;\n",
              "    }\n",
              "\n",
              "    .dataframe tbody tr th {\n",
              "        vertical-align: top;\n",
              "    }\n",
              "\n",
              "    .dataframe thead th {\n",
              "        text-align: right;\n",
              "    }\n",
              "</style>\n",
              "<table border=\"1\" class=\"dataframe\">\n",
              "  <thead>\n",
              "    <tr style=\"text-align: right;\">\n",
              "      <th></th>\n",
              "      <th>ds</th>\n",
              "      <th>yhat</th>\n",
              "      <th>yhat_lower</th>\n",
              "      <th>yhat_upper</th>\n",
              "    </tr>\n",
              "  </thead>\n",
              "  <tbody>\n",
              "    <tr>\n",
              "      <th>1721</th>\n",
              "      <td>2021-05-27</td>\n",
              "      <td>87686.595859</td>\n",
              "      <td>43227.404555</td>\n",
              "      <td>133400.429815</td>\n",
              "    </tr>\n",
              "    <tr>\n",
              "      <th>1722</th>\n",
              "      <td>2021-05-28</td>\n",
              "      <td>85959.377234</td>\n",
              "      <td>41906.927655</td>\n",
              "      <td>133036.044369</td>\n",
              "    </tr>\n",
              "    <tr>\n",
              "      <th>1723</th>\n",
              "      <td>2021-05-29</td>\n",
              "      <td>86747.006637</td>\n",
              "      <td>42341.988796</td>\n",
              "      <td>130959.302710</td>\n",
              "    </tr>\n",
              "    <tr>\n",
              "      <th>1724</th>\n",
              "      <td>2021-05-30</td>\n",
              "      <td>83798.750056</td>\n",
              "      <td>40572.105692</td>\n",
              "      <td>130679.699771</td>\n",
              "    </tr>\n",
              "    <tr>\n",
              "      <th>1725</th>\n",
              "      <td>2021-05-31</td>\n",
              "      <td>86586.895895</td>\n",
              "      <td>40402.941911</td>\n",
              "      <td>136922.819211</td>\n",
              "    </tr>\n",
              "  </tbody>\n",
              "</table>\n",
              "</div>"
            ],
            "text/plain": [
              "             ds          yhat    yhat_lower     yhat_upper\n",
              "1721 2021-05-27  87686.595859  43227.404555  133400.429815\n",
              "1722 2021-05-28  85959.377234  41906.927655  133036.044369\n",
              "1723 2021-05-29  86747.006637  42341.988796  130959.302710\n",
              "1724 2021-05-30  83798.750056  40572.105692  130679.699771\n",
              "1725 2021-05-31  86586.895895  40402.941911  136922.819211"
            ]
          },
          "metadata": {
            "tags": []
          },
          "execution_count": 38
        }
      ]
    },
    {
      "cell_type": "code",
      "metadata": {
        "colab": {
          "base_uri": "https://localhost:8080/",
          "height": 441
        },
        "id": "XYSCfw1gbZ3E",
        "outputId": "66f7948e-9148-468c-bc67-25646ec9268a"
      },
      "source": [
        "fig1 = prophet.plot(forecast_data,xlabel='Date',ylabel='Price')"
      ],
      "execution_count": 39,
      "outputs": [
        {
          "output_type": "display_data",
          "data": {
            "image/png": "[encoded data removed]",
            "text/plain": [
              "<Figure size 720x432 with 1 Axes>"
            ]
          },
          "metadata": {
            "tags": []
          }
        }
      ]
    },
    {
      "cell_type": "code",
      "metadata": {
        "id": "P0uA_7-YbsR8"
      },
      "source": [
        "import numpy as np\n",
        "target['y']=np.log(target['y'])"
      ],
      "execution_count": 41,
      "outputs": []
    },
    {
      "cell_type": "code",
      "metadata": {
        "colab": {
          "base_uri": "https://localhost:8080/",
          "height": 419
        },
        "id": "dsVGfg2fkVyE",
        "outputId": "3d9ca83a-edce-49e6-c677-e88a9d180a2f"
      },
      "source": [
        "target"
      ],
      "execution_count": 42,
      "outputs": [
        {
          "output_type": "execute_result",
          "data": {
            "text/html": [
              "<div>\n",
              "<style scoped>\n",
              "    .dataframe tbody tr th:only-of-type {\n",
              "        vertical-align: middle;\n",
              "    }\n",
              "\n",
              "    .dataframe tbody tr th {\n",
              "        vertical-align: top;\n",
              "    }\n",
              "\n",
              "    .dataframe thead th {\n",
              "        text-align: right;\n",
              "    }\n",
              "</style>\n",
              "<table border=\"1\" class=\"dataframe\">\n",
              "  <thead>\n",
              "    <tr style=\"text-align: right;\">\n",
              "      <th></th>\n",
              "      <th>ds</th>\n",
              "      <th>y</th>\n",
              "    </tr>\n",
              "  </thead>\n",
              "  <tbody>\n",
              "    <tr>\n",
              "      <th>964912</th>\n",
              "      <td>2018-01-13</td>\n",
              "      <td>11.775290</td>\n",
              "    </tr>\n",
              "    <tr>\n",
              "      <th>964913</th>\n",
              "      <td>2018-01-19</td>\n",
              "      <td>11.472103</td>\n",
              "    </tr>\n",
              "    <tr>\n",
              "      <th>964914</th>\n",
              "      <td>2018-01-23</td>\n",
              "      <td>11.678440</td>\n",
              "    </tr>\n",
              "    <tr>\n",
              "      <th>964915</th>\n",
              "      <td>2018-01-30</td>\n",
              "      <td>10.905956</td>\n",
              "    </tr>\n",
              "    <tr>\n",
              "      <th>964916</th>\n",
              "      <td>2018-01-31</td>\n",
              "      <td>11.066638</td>\n",
              "    </tr>\n",
              "    <tr>\n",
              "      <th>...</th>\n",
              "      <td>...</td>\n",
              "      <td>...</td>\n",
              "    </tr>\n",
              "    <tr>\n",
              "      <th>5304307</th>\n",
              "      <td>2021-03-25</td>\n",
              "      <td>10.849337</td>\n",
              "    </tr>\n",
              "    <tr>\n",
              "      <th>5304308</th>\n",
              "      <td>2021-03-11</td>\n",
              "      <td>8.922658</td>\n",
              "    </tr>\n",
              "    <tr>\n",
              "      <th>5304309</th>\n",
              "      <td>2021-03-07</td>\n",
              "      <td>12.072541</td>\n",
              "    </tr>\n",
              "    <tr>\n",
              "      <th>5304310</th>\n",
              "      <td>2021-03-11</td>\n",
              "      <td>11.982929</td>\n",
              "    </tr>\n",
              "    <tr>\n",
              "      <th>5304311</th>\n",
              "      <td>2021-04-01</td>\n",
              "      <td>10.043249</td>\n",
              "    </tr>\n",
              "  </tbody>\n",
              "</table>\n",
              "<p>4365 rows × 2 columns</p>\n",
              "</div>"
            ],
            "text/plain": [
              "                ds          y\n",
              "964912  2018-01-13  11.775290\n",
              "964913  2018-01-19  11.472103\n",
              "964914  2018-01-23  11.678440\n",
              "964915  2018-01-30  10.905956\n",
              "964916  2018-01-31  11.066638\n",
              "...            ...        ...\n",
              "5304307 2021-03-25  10.849337\n",
              "5304308 2021-03-11   8.922658\n",
              "5304309 2021-03-07  12.072541\n",
              "5304310 2021-03-11  11.982929\n",
              "5304311 2021-04-01  10.043249\n",
              "\n",
              "[4365 rows x 2 columns]"
            ]
          },
          "metadata": {
            "tags": []
          },
          "execution_count": 42
        }
      ]
    },
    {
      "cell_type": "code",
      "metadata": {
        "id": "nSTCOsXlkrMO"
      },
      "source": [
        "prophet = Prophet(seasonality_mode='multiplicative', \n",
        "                  yearly_seasonality=True,\n",
        "                  weekly_seasonality=True, daily_seasonality=True,\n",
        "                  changepoint_prior_scale=0.5)"
      ],
      "execution_count": 44,
      "outputs": []
    },
    {
      "cell_type": "code",
      "metadata": {
        "colab": {
          "base_uri": "https://localhost:8080/"
        },
        "id": "jjNO3jcxkd8i",
        "outputId": "1ea4b538-2f5c-4ce1-b902-82fcaca19f45"
      },
      "source": [
        "prophet.fit(target)"
      ],
      "execution_count": 45,
      "outputs": [
        {
          "output_type": "execute_result",
          "data": {
            "text/plain": [
              "<fbprophet.forecaster.Prophet at 0x7f55d3e23390>"
            ]
          },
          "metadata": {
            "tags": []
          },
          "execution_count": 45
        }
      ]
    },
    {
      "cell_type": "code",
      "metadata": {
        "colab": {
          "base_uri": "https://localhost:8080/",
          "height": 204
        },
        "id": "hT2zLpDtkj5b",
        "outputId": "7b01f796-8a93-4192-e8f8-67558be29190"
      },
      "source": [
        "future_data = prophet.make_future_dataframe(periods=60, freq='d')\n",
        "forecast_data = prophet.predict(future_data)\n",
        "forecast_data[['ds', 'yhat', 'yhat_lower', 'yhat_upper']].tail(5)"
      ],
      "execution_count": 46,
      "outputs": [
        {
          "output_type": "execute_result",
          "data": {
            "text/html": [
              "<div>\n",
              "<style scoped>\n",
              "    .dataframe tbody tr th:only-of-type {\n",
              "        vertical-align: middle;\n",
              "    }\n",
              "\n",
              "    .dataframe tbody tr th {\n",
              "        vertical-align: top;\n",
              "    }\n",
              "\n",
              "    .dataframe thead th {\n",
              "        text-align: right;\n",
              "    }\n",
              "</style>\n",
              "<table border=\"1\" class=\"dataframe\">\n",
              "  <thead>\n",
              "    <tr style=\"text-align: right;\">\n",
              "      <th></th>\n",
              "      <th>ds</th>\n",
              "      <th>yhat</th>\n",
              "      <th>yhat_lower</th>\n",
              "      <th>yhat_upper</th>\n",
              "    </tr>\n",
              "  </thead>\n",
              "  <tbody>\n",
              "    <tr>\n",
              "      <th>1721</th>\n",
              "      <td>2021-05-27</td>\n",
              "      <td>11.172318</td>\n",
              "      <td>10.387309</td>\n",
              "      <td>12.107486</td>\n",
              "    </tr>\n",
              "    <tr>\n",
              "      <th>1722</th>\n",
              "      <td>2021-05-28</td>\n",
              "      <td>11.156051</td>\n",
              "      <td>10.362800</td>\n",
              "      <td>11.991747</td>\n",
              "    </tr>\n",
              "    <tr>\n",
              "      <th>1723</th>\n",
              "      <td>2021-05-29</td>\n",
              "      <td>11.199103</td>\n",
              "      <td>10.364421</td>\n",
              "      <td>11.980511</td>\n",
              "    </tr>\n",
              "    <tr>\n",
              "      <th>1724</th>\n",
              "      <td>2021-05-30</td>\n",
              "      <td>11.226070</td>\n",
              "      <td>10.354523</td>\n",
              "      <td>12.087559</td>\n",
              "    </tr>\n",
              "    <tr>\n",
              "      <th>1725</th>\n",
              "      <td>2021-05-31</td>\n",
              "      <td>11.177482</td>\n",
              "      <td>10.329098</td>\n",
              "      <td>12.027120</td>\n",
              "    </tr>\n",
              "  </tbody>\n",
              "</table>\n",
              "</div>"
            ],
            "text/plain": [
              "             ds       yhat  yhat_lower  yhat_upper\n",
              "1721 2021-05-27  11.172318   10.387309   12.107486\n",
              "1722 2021-05-28  11.156051   10.362800   11.991747\n",
              "1723 2021-05-29  11.199103   10.364421   11.980511\n",
              "1724 2021-05-30  11.226070   10.354523   12.087559\n",
              "1725 2021-05-31  11.177482   10.329098   12.027120"
            ]
          },
          "metadata": {
            "tags": []
          },
          "execution_count": 46
        }
      ]
    },
    {
      "cell_type": "code",
      "metadata": {
        "colab": {
          "base_uri": "https://localhost:8080/",
          "height": 441
        },
        "id": "pE49xe9SktVq",
        "outputId": "037a4579-908f-4eb3-a2bc-7b9381250ef0"
      },
      "source": [
        "fig1 = prophet.plot(forecast_data,xlabel='Date',ylabel='Price')"
      ],
      "execution_count": 47,
      "outputs": [
        {
          "output_type": "display_data",
          "data": {
            "image/png": "[encoded data removed]",
            "text/plain": [
              "<Figure size 720x432 with 1 Axes>"
            ]
          },
          "metadata": {
            "tags": []
          }
        }
      ]
    },
    {
      "cell_type": "code",
      "metadata": {
        "id": "V_3UBufEkwAi"
      },
      "source": [
        ""
      ],
      "execution_count": null,
      "outputs": []
    }
  ]
}