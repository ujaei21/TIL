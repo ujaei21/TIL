{
  "nbformat": 4,
  "nbformat_minor": 0,
  "metadata": {
    "colab": {
      "name": "hospital_count.ipynb",
      "provenance": []
    },
    "kernelspec": {
      "name": "python3",
      "display_name": "Python 3"
    },
    "language_info": {
      "name": "python"
    }
  },
  "cells": [
    {
      "cell_type": "code",
      "metadata": {
        "colab": {
          "base_uri": "https://localhost:8080/"
        },
        "id": "J4fJy_KjEu4l",
        "outputId": "fb08d057-cf8a-4309-fd8a-168f909bfa41"
      },
      "source": [
        "from google.colab import drive\n",
        "drive.mount('/content/drive')"
      ],
      "execution_count": null,
      "outputs": [
        {
          "output_type": "stream",
          "text": [
            "Drive already mounted at /content/drive; to attempt to forcibly remount, call drive.mount(\"/content/drive\", force_remount=True).\n"
          ],
          "name": "stdout"
        }
      ]
    },
    {
      "cell_type": "code",
      "metadata": {
        "id": "2LK08TZvEkGC"
      },
      "source": [
        "import pandas as pd\n",
        "df = pd.read_csv('/content/drive/MyDrive/Colab Notebooks/apart/1. 병원정보서비스 2021.6.csv',encoding='cp949')"
      ],
      "execution_count": null,
      "outputs": []
    },
    {
      "cell_type": "code",
      "metadata": {
        "colab": {
          "base_uri": "https://localhost:8080/",
          "height": 1000
        },
        "id": "wgXD9JBdE-mX",
        "outputId": "e2941ffd-9a10-4ea7-e62e-06eb01c6caa1"
      },
      "source": [
        "df.head()"
      ],
      "execution_count": null,
      "outputs": [
        {
          "output_type": "execute_result",
          "data": {
            "text/html": [
              "<div>\n",
              "<style scoped>\n",
              "    .dataframe tbody tr th:only-of-type {\n",
              "        vertical-align: middle;\n",
              "    }\n",
              "\n",
              "    .dataframe tbody tr th {\n",
              "        vertical-align: top;\n",
              "    }\n",
              "\n",
              "    .dataframe thead th {\n",
              "        text-align: right;\n",
              "    }\n",
              "</style>\n",
              "<table border=\"1\" class=\"dataframe\">\n",
              "  <thead>\n",
              "    <tr style=\"text-align: right;\">\n",
              "      <th></th>\n",
              "      <th>암호화YKIHO코드</th>\n",
              "      <th>요양기관명</th>\n",
              "      <th>종별코드</th>\n",
              "      <th>종별코드명</th>\n",
              "      <th>시도코드</th>\n",
              "      <th>시도코드명</th>\n",
              "      <th>시군구코드</th>\n",
              "      <th>시군구코드명</th>\n",
              "      <th>읍면동</th>\n",
              "      <th>우편번호</th>\n",
              "      <th>주소</th>\n",
              "      <th>전화번호</th>\n",
              "      <th>병원URL</th>\n",
              "      <th>개설일자</th>\n",
              "      <th>총의사수</th>\n",
              "      <th>의과일반의 인원수</th>\n",
              "      <th>의과인턴 인원수</th>\n",
              "      <th>의과레지던트 인원수</th>\n",
              "      <th>의과전문의 인원수</th>\n",
              "      <th>치과일반의 인원수</th>\n",
              "      <th>치과인턴 인원수</th>\n",
              "      <th>치과레지던트 인원수</th>\n",
              "      <th>치과전문의 인원수</th>\n",
              "      <th>한방일반의 인원수</th>\n",
              "      <th>한방인턴 인원수</th>\n",
              "      <th>한방레지던트 인원수</th>\n",
              "      <th>한방전문의 인원수</th>\n",
              "      <th>x좌표</th>\n",
              "      <th>y좌표</th>\n",
              "    </tr>\n",
              "  </thead>\n",
              "  <tbody>\n",
              "    <tr>\n",
              "      <th>0</th>\n",
              "      <td>JDQ4MTYyMiM1MSMkMSMkMCMkODkkMzgxMzUxIzExIyQxIy...</td>\n",
              "      <td>가톨릭대학교인천성모병원</td>\n",
              "      <td>1</td>\n",
              "      <td>상급종합</td>\n",
              "      <td>220000</td>\n",
              "      <td>인천</td>\n",
              "      <td>220003</td>\n",
              "      <td>인천부평구</td>\n",
              "      <td>NaN</td>\n",
              "      <td>21431</td>\n",
              "      <td>인천광역시 부평구 동수로 56 (부평동)</td>\n",
              "      <td>032-1544-9004</td>\n",
              "      <td>http://www.cmcism.or.kr/</td>\n",
              "      <td>1981-08-06</td>\n",
              "      <td>324</td>\n",
              "      <td>3</td>\n",
              "      <td>20</td>\n",
              "      <td>68</td>\n",
              "      <td>230</td>\n",
              "      <td>1</td>\n",
              "      <td>0</td>\n",
              "      <td>0</td>\n",
              "      <td>2</td>\n",
              "      <td>0</td>\n",
              "      <td>0</td>\n",
              "      <td>0</td>\n",
              "      <td>0</td>\n",
              "      <td>126.724899</td>\n",
              "      <td>37.484831</td>\n",
              "    </tr>\n",
              "    <tr>\n",
              "      <th>1</th>\n",
              "      <td>JDQ4MTYyMiM1MSMkMSMkNCMkODkkMzgxMzUxIzExIyQxIy...</td>\n",
              "      <td>강릉아산병원</td>\n",
              "      <td>1</td>\n",
              "      <td>상급종합</td>\n",
              "      <td>320000</td>\n",
              "      <td>강원</td>\n",
              "      <td>320100</td>\n",
              "      <td>강릉시</td>\n",
              "      <td>NaN</td>\n",
              "      <td>25440</td>\n",
              "      <td>강원도 강릉시 사천면 방동길 38 ()</td>\n",
              "      <td>033-610-3114</td>\n",
              "      <td>http://www.gnah.co.kr</td>\n",
              "      <td>1996-07-30</td>\n",
              "      <td>203</td>\n",
              "      <td>1</td>\n",
              "      <td>0</td>\n",
              "      <td>41</td>\n",
              "      <td>159</td>\n",
              "      <td>0</td>\n",
              "      <td>0</td>\n",
              "      <td>0</td>\n",
              "      <td>2</td>\n",
              "      <td>0</td>\n",
              "      <td>0</td>\n",
              "      <td>0</td>\n",
              "      <td>0</td>\n",
              "      <td>128.857841</td>\n",
              "      <td>37.818433</td>\n",
              "    </tr>\n",
              "    <tr>\n",
              "      <th>2</th>\n",
              "      <td>JDQ4MTg4MSM1MSMkMSMkMCMkODkkMzgxMzUxIzExIyQxIy...</td>\n",
              "      <td>강북삼성병원</td>\n",
              "      <td>1</td>\n",
              "      <td>상급종합</td>\n",
              "      <td>110000</td>\n",
              "      <td>서울</td>\n",
              "      <td>110016</td>\n",
              "      <td>종로구</td>\n",
              "      <td>NaN</td>\n",
              "      <td>3181</td>\n",
              "      <td>서울특별시 종로구 새문안로 29 (평동)</td>\n",
              "      <td>02-2001-2001</td>\n",
              "      <td>http://www.kbsmc.co.kr</td>\n",
              "      <td>1979-03-24</td>\n",
              "      <td>403</td>\n",
              "      <td>3</td>\n",
              "      <td>26</td>\n",
              "      <td>134</td>\n",
              "      <td>233</td>\n",
              "      <td>3</td>\n",
              "      <td>0</td>\n",
              "      <td>0</td>\n",
              "      <td>4</td>\n",
              "      <td>0</td>\n",
              "      <td>0</td>\n",
              "      <td>0</td>\n",
              "      <td>0</td>\n",
              "      <td>126.967750</td>\n",
              "      <td>37.568408</td>\n",
              "    </tr>\n",
              "    <tr>\n",
              "      <th>3</th>\n",
              "      <td>JDQ4MTg4MSM1MSMkMSMkMCMkODkkMzgxMzUxIzExIyQxIy...</td>\n",
              "      <td>건국대학교병원</td>\n",
              "      <td>1</td>\n",
              "      <td>상급종합</td>\n",
              "      <td>110000</td>\n",
              "      <td>서울</td>\n",
              "      <td>110023</td>\n",
              "      <td>광진구</td>\n",
              "      <td>NaN</td>\n",
              "      <td>5030</td>\n",
              "      <td>서울특별시 광진구 능동로 120-1 (화양동)</td>\n",
              "      <td>1588-1533</td>\n",
              "      <td>http://www.kuh.ac.kr</td>\n",
              "      <td>1982-11-16</td>\n",
              "      <td>442</td>\n",
              "      <td>8</td>\n",
              "      <td>36</td>\n",
              "      <td>155</td>\n",
              "      <td>240</td>\n",
              "      <td>0</td>\n",
              "      <td>0</td>\n",
              "      <td>0</td>\n",
              "      <td>3</td>\n",
              "      <td>0</td>\n",
              "      <td>0</td>\n",
              "      <td>0</td>\n",
              "      <td>0</td>\n",
              "      <td>127.071828</td>\n",
              "      <td>37.540376</td>\n",
              "    </tr>\n",
              "    <tr>\n",
              "      <th>4</th>\n",
              "      <td>JDQ4MTYyMiM4MSMkMSMkMCMkODkkMzgxMzUxIzExIyQxIy...</td>\n",
              "      <td>경북대학교병원</td>\n",
              "      <td>1</td>\n",
              "      <td>상급종합</td>\n",
              "      <td>230000</td>\n",
              "      <td>대구</td>\n",
              "      <td>230006</td>\n",
              "      <td>대구중구</td>\n",
              "      <td>NaN</td>\n",
              "      <td>41944</td>\n",
              "      <td>대구광역시 중구 동덕로 130 (삼덕동2가, 경북대학교병원)</td>\n",
              "      <td>053-200-5114</td>\n",
              "      <td>http://knumc.knu.ac.kr</td>\n",
              "      <td>1910-09-07</td>\n",
              "      <td>487</td>\n",
              "      <td>5</td>\n",
              "      <td>66</td>\n",
              "      <td>195</td>\n",
              "      <td>220</td>\n",
              "      <td>0</td>\n",
              "      <td>0</td>\n",
              "      <td>0</td>\n",
              "      <td>1</td>\n",
              "      <td>0</td>\n",
              "      <td>0</td>\n",
              "      <td>0</td>\n",
              "      <td>0</td>\n",
              "      <td>128.604125</td>\n",
              "      <td>35.866774</td>\n",
              "    </tr>\n",
              "  </tbody>\n",
              "</table>\n",
              "</div>"
            ],
            "text/plain": [
              "                                          암호화YKIHO코드  ...        y좌표\n",
              "0  JDQ4MTYyMiM1MSMkMSMkMCMkODkkMzgxMzUxIzExIyQxIy...  ...  37.484831\n",
              "1  JDQ4MTYyMiM1MSMkMSMkNCMkODkkMzgxMzUxIzExIyQxIy...  ...  37.818433\n",
              "2  JDQ4MTg4MSM1MSMkMSMkMCMkODkkMzgxMzUxIzExIyQxIy...  ...  37.568408\n",
              "3  JDQ4MTg4MSM1MSMkMSMkMCMkODkkMzgxMzUxIzExIyQxIy...  ...  37.540376\n",
              "4  JDQ4MTYyMiM4MSMkMSMkMCMkODkkMzgxMzUxIzExIyQxIy...  ...  35.866774\n",
              "\n",
              "[5 rows x 29 columns]"
            ]
          },
          "metadata": {
            "tags": []
          },
          "execution_count": 3
        }
      ]
    },
    {
      "cell_type": "code",
      "metadata": {
        "colab": {
          "base_uri": "https://localhost:8080/",
          "height": 1000
        },
        "id": "JNIdSVtIFQiF",
        "outputId": "1ace2063-813b-4d9c-c0d2-f8c8c4b2d189"
      },
      "source": [
        "df[df['시도코드명']=='서울']"
      ],
      "execution_count": null,
      "outputs": [
        {
          "output_type": "execute_result",
          "data": {
            "text/html": [
              "<div>\n",
              "<style scoped>\n",
              "    .dataframe tbody tr th:only-of-type {\n",
              "        vertical-align: middle;\n",
              "    }\n",
              "\n",
              "    .dataframe tbody tr th {\n",
              "        vertical-align: top;\n",
              "    }\n",
              "\n",
              "    .dataframe thead th {\n",
              "        text-align: right;\n",
              "    }\n",
              "</style>\n",
              "<table border=\"1\" class=\"dataframe\">\n",
              "  <thead>\n",
              "    <tr style=\"text-align: right;\">\n",
              "      <th></th>\n",
              "      <th>암호화YKIHO코드</th>\n",
              "      <th>요양기관명</th>\n",
              "      <th>종별코드</th>\n",
              "      <th>종별코드명</th>\n",
              "      <th>시도코드</th>\n",
              "      <th>시도코드명</th>\n",
              "      <th>시군구코드</th>\n",
              "      <th>시군구코드명</th>\n",
              "      <th>읍면동</th>\n",
              "      <th>우편번호</th>\n",
              "      <th>주소</th>\n",
              "      <th>전화번호</th>\n",
              "      <th>병원URL</th>\n",
              "      <th>개설일자</th>\n",
              "      <th>총의사수</th>\n",
              "      <th>의과일반의 인원수</th>\n",
              "      <th>의과인턴 인원수</th>\n",
              "      <th>의과레지던트 인원수</th>\n",
              "      <th>의과전문의 인원수</th>\n",
              "      <th>치과일반의 인원수</th>\n",
              "      <th>치과인턴 인원수</th>\n",
              "      <th>치과레지던트 인원수</th>\n",
              "      <th>치과전문의 인원수</th>\n",
              "      <th>한방일반의 인원수</th>\n",
              "      <th>한방인턴 인원수</th>\n",
              "      <th>한방레지던트 인원수</th>\n",
              "      <th>한방전문의 인원수</th>\n",
              "      <th>x좌표</th>\n",
              "      <th>y좌표</th>\n",
              "    </tr>\n",
              "  </thead>\n",
              "  <tbody>\n",
              "    <tr>\n",
              "      <th>2</th>\n",
              "      <td>JDQ4MTg4MSM1MSMkMSMkMCMkODkkMzgxMzUxIzExIyQxIy...</td>\n",
              "      <td>강북삼성병원</td>\n",
              "      <td>1</td>\n",
              "      <td>상급종합</td>\n",
              "      <td>110000</td>\n",
              "      <td>서울</td>\n",
              "      <td>110016</td>\n",
              "      <td>종로구</td>\n",
              "      <td>NaN</td>\n",
              "      <td>3181</td>\n",
              "      <td>서울특별시 종로구 새문안로 29 (평동)</td>\n",
              "      <td>02-2001-2001</td>\n",
              "      <td>http://www.kbsmc.co.kr</td>\n",
              "      <td>1979-03-24</td>\n",
              "      <td>403</td>\n",
              "      <td>3</td>\n",
              "      <td>26</td>\n",
              "      <td>134</td>\n",
              "      <td>233</td>\n",
              "      <td>3</td>\n",
              "      <td>0</td>\n",
              "      <td>0</td>\n",
              "      <td>4</td>\n",
              "      <td>0</td>\n",
              "      <td>0</td>\n",
              "      <td>0</td>\n",
              "      <td>0</td>\n",
              "      <td>126.967750</td>\n",
              "      <td>37.568408</td>\n",
              "    </tr>\n",
              "    <tr>\n",
              "      <th>3</th>\n",
              "      <td>JDQ4MTg4MSM1MSMkMSMkMCMkODkkMzgxMzUxIzExIyQxIy...</td>\n",
              "      <td>건국대학교병원</td>\n",
              "      <td>1</td>\n",
              "      <td>상급종합</td>\n",
              "      <td>110000</td>\n",
              "      <td>서울</td>\n",
              "      <td>110023</td>\n",
              "      <td>광진구</td>\n",
              "      <td>NaN</td>\n",
              "      <td>5030</td>\n",
              "      <td>서울특별시 광진구 능동로 120-1 (화양동)</td>\n",
              "      <td>1588-1533</td>\n",
              "      <td>http://www.kuh.ac.kr</td>\n",
              "      <td>1982-11-16</td>\n",
              "      <td>442</td>\n",
              "      <td>8</td>\n",
              "      <td>36</td>\n",
              "      <td>155</td>\n",
              "      <td>240</td>\n",
              "      <td>0</td>\n",
              "      <td>0</td>\n",
              "      <td>0</td>\n",
              "      <td>3</td>\n",
              "      <td>0</td>\n",
              "      <td>0</td>\n",
              "      <td>0</td>\n",
              "      <td>0</td>\n",
              "      <td>127.071828</td>\n",
              "      <td>37.540376</td>\n",
              "    </tr>\n",
              "    <tr>\n",
              "      <th>6</th>\n",
              "      <td>JDQ4MTg4MSM1MSMkMSMkMCMkODkkMzgxMzUxIzExIyQxIy...</td>\n",
              "      <td>경희대학교병원</td>\n",
              "      <td>1</td>\n",
              "      <td>상급종합</td>\n",
              "      <td>110000</td>\n",
              "      <td>서울</td>\n",
              "      <td>110007</td>\n",
              "      <td>동대문구</td>\n",
              "      <td>NaN</td>\n",
              "      <td>2447</td>\n",
              "      <td>서울특별시 동대문구 경희대로 23 (회기동)</td>\n",
              "      <td>02-958-8114</td>\n",
              "      <td>http://www.khuh.or.kr/</td>\n",
              "      <td>1971-10-05</td>\n",
              "      <td>456</td>\n",
              "      <td>3</td>\n",
              "      <td>65</td>\n",
              "      <td>161</td>\n",
              "      <td>227</td>\n",
              "      <td>0</td>\n",
              "      <td>0</td>\n",
              "      <td>0</td>\n",
              "      <td>0</td>\n",
              "      <td>0</td>\n",
              "      <td>0</td>\n",
              "      <td>0</td>\n",
              "      <td>0</td>\n",
              "      <td>127.051852</td>\n",
              "      <td>37.594119</td>\n",
              "    </tr>\n",
              "    <tr>\n",
              "      <th>8</th>\n",
              "      <td>JDQ4MTg4MSM1MSMkMSMkMCMkODkkMzgxMzUxIzExIyQxIy...</td>\n",
              "      <td>고려대학교의과대학부속구로병원</td>\n",
              "      <td>1</td>\n",
              "      <td>상급종합</td>\n",
              "      <td>110000</td>\n",
              "      <td>서울</td>\n",
              "      <td>110005</td>\n",
              "      <td>구로구</td>\n",
              "      <td>NaN</td>\n",
              "      <td>8308</td>\n",
              "      <td>서울특별시 구로구 구로동로 148 고려대부속구로병원 (구로동)</td>\n",
              "      <td>02-2626-1114</td>\n",
              "      <td>http://guro.kumc.or.kr/main/index.do</td>\n",
              "      <td>1983-08-31</td>\n",
              "      <td>530</td>\n",
              "      <td>3</td>\n",
              "      <td>31</td>\n",
              "      <td>150</td>\n",
              "      <td>319</td>\n",
              "      <td>0</td>\n",
              "      <td>2</td>\n",
              "      <td>15</td>\n",
              "      <td>10</td>\n",
              "      <td>0</td>\n",
              "      <td>0</td>\n",
              "      <td>0</td>\n",
              "      <td>0</td>\n",
              "      <td>126.884870</td>\n",
              "      <td>37.492052</td>\n",
              "    </tr>\n",
              "    <tr>\n",
              "      <th>15</th>\n",
              "      <td>JDQ4MTg4MSM1MSMkMSMkMCMkODkkMzgxMzUxIzExIyQxIy...</td>\n",
              "      <td>삼성서울병원</td>\n",
              "      <td>1</td>\n",
              "      <td>상급종합</td>\n",
              "      <td>110000</td>\n",
              "      <td>서울</td>\n",
              "      <td>110001</td>\n",
              "      <td>강남구</td>\n",
              "      <td>NaN</td>\n",
              "      <td>6351</td>\n",
              "      <td>서울특별시 강남구 일원로 81 (일원동, 삼성의료원)</td>\n",
              "      <td>02-3410-2114</td>\n",
              "      <td>http://www.samsunghospital.com</td>\n",
              "      <td>1994-06-13</td>\n",
              "      <td>1399</td>\n",
              "      <td>26</td>\n",
              "      <td>116</td>\n",
              "      <td>402</td>\n",
              "      <td>836</td>\n",
              "      <td>0</td>\n",
              "      <td>0</td>\n",
              "      <td>4</td>\n",
              "      <td>15</td>\n",
              "      <td>0</td>\n",
              "      <td>0</td>\n",
              "      <td>0</td>\n",
              "      <td>0</td>\n",
              "      <td>127.085151</td>\n",
              "      <td>37.488298</td>\n",
              "    </tr>\n",
              "    <tr>\n",
              "      <th>...</th>\n",
              "      <td>...</td>\n",
              "      <td>...</td>\n",
              "      <td>...</td>\n",
              "      <td>...</td>\n",
              "      <td>...</td>\n",
              "      <td>...</td>\n",
              "      <td>...</td>\n",
              "      <td>...</td>\n",
              "      <td>...</td>\n",
              "      <td>...</td>\n",
              "      <td>...</td>\n",
              "      <td>...</td>\n",
              "      <td>...</td>\n",
              "      <td>...</td>\n",
              "      <td>...</td>\n",
              "      <td>...</td>\n",
              "      <td>...</td>\n",
              "      <td>...</td>\n",
              "      <td>...</td>\n",
              "      <td>...</td>\n",
              "      <td>...</td>\n",
              "      <td>...</td>\n",
              "      <td>...</td>\n",
              "      <td>...</td>\n",
              "      <td>...</td>\n",
              "      <td>...</td>\n",
              "      <td>...</td>\n",
              "      <td>...</td>\n",
              "      <td>...</td>\n",
              "    </tr>\n",
              "    <tr>\n",
              "      <th>74350</th>\n",
              "      <td>JDQ4MTg4MSM1MSMkMSMkNCMkMTMkNDgxOTYxIzIxIyQxIy...</td>\n",
              "      <td>희한의원</td>\n",
              "      <td>93</td>\n",
              "      <td>한의원</td>\n",
              "      <td>110000</td>\n",
              "      <td>서울</td>\n",
              "      <td>110022</td>\n",
              "      <td>노원구</td>\n",
              "      <td>중계동</td>\n",
              "      <td>1726</td>\n",
              "      <td>서울특별시 노원구 중계로 120 3층 (중계동, 득림빌딩)</td>\n",
              "      <td>02-952-8788</td>\n",
              "      <td>NaN</td>\n",
              "      <td>2015-04-22</td>\n",
              "      <td>1</td>\n",
              "      <td>0</td>\n",
              "      <td>0</td>\n",
              "      <td>0</td>\n",
              "      <td>0</td>\n",
              "      <td>0</td>\n",
              "      <td>0</td>\n",
              "      <td>0</td>\n",
              "      <td>0</td>\n",
              "      <td>1</td>\n",
              "      <td>0</td>\n",
              "      <td>0</td>\n",
              "      <td>0</td>\n",
              "      <td>127.081810</td>\n",
              "      <td>37.646301</td>\n",
              "    </tr>\n",
              "    <tr>\n",
              "      <th>74359</th>\n",
              "      <td>JDQ4MTg4MSM1MSMkMSMkNCMkMTMkNDgxOTYxIzUxIyQxIy...</td>\n",
              "      <td>힘내라한의원</td>\n",
              "      <td>93</td>\n",
              "      <td>한의원</td>\n",
              "      <td>110000</td>\n",
              "      <td>서울</td>\n",
              "      <td>110003</td>\n",
              "      <td>강서구</td>\n",
              "      <td>NaN</td>\n",
              "      <td>7526</td>\n",
              "      <td>서울특별시 강서구 화곡로 429 토피아 401호 (가양동)</td>\n",
              "      <td>02-6952-8277</td>\n",
              "      <td>NaN</td>\n",
              "      <td>2017-12-13</td>\n",
              "      <td>1</td>\n",
              "      <td>0</td>\n",
              "      <td>0</td>\n",
              "      <td>0</td>\n",
              "      <td>0</td>\n",
              "      <td>0</td>\n",
              "      <td>0</td>\n",
              "      <td>0</td>\n",
              "      <td>0</td>\n",
              "      <td>1</td>\n",
              "      <td>0</td>\n",
              "      <td>0</td>\n",
              "      <td>0</td>\n",
              "      <td>126.855061</td>\n",
              "      <td>37.561526</td>\n",
              "    </tr>\n",
              "    <tr>\n",
              "      <th>74361</th>\n",
              "      <td>JDQ4MTg4MSM1MSMkMSMkNCMkMTMkNDgxMzUxIzUxIyQxIy...</td>\n",
              "      <td>힘찬마디한의원</td>\n",
              "      <td>93</td>\n",
              "      <td>한의원</td>\n",
              "      <td>110000</td>\n",
              "      <td>서울</td>\n",
              "      <td>110002</td>\n",
              "      <td>강동구</td>\n",
              "      <td>천호동</td>\n",
              "      <td>5329</td>\n",
              "      <td>서울특별시 강동구 천호대로 1027 3층 (천호동)</td>\n",
              "      <td>02-401-7713</td>\n",
              "      <td>NaN</td>\n",
              "      <td>2012-12-17</td>\n",
              "      <td>1</td>\n",
              "      <td>0</td>\n",
              "      <td>0</td>\n",
              "      <td>0</td>\n",
              "      <td>0</td>\n",
              "      <td>0</td>\n",
              "      <td>0</td>\n",
              "      <td>0</td>\n",
              "      <td>0</td>\n",
              "      <td>1</td>\n",
              "      <td>0</td>\n",
              "      <td>0</td>\n",
              "      <td>0</td>\n",
              "      <td>127.126386</td>\n",
              "      <td>37.538123</td>\n",
              "    </tr>\n",
              "    <tr>\n",
              "      <th>74362</th>\n",
              "      <td>JDQ4MTg4MSM1MSMkMSMkNCMkMTMkMzgxNzAyIzUxIyQxIy...</td>\n",
              "      <td>힘찬세상경희한의원</td>\n",
              "      <td>93</td>\n",
              "      <td>한의원</td>\n",
              "      <td>110000</td>\n",
              "      <td>서울</td>\n",
              "      <td>110014</td>\n",
              "      <td>용산구</td>\n",
              "      <td>한강로2가</td>\n",
              "      <td>4376</td>\n",
              "      <td>서울특별시 용산구 한강대로 109 (한강로2가, 용성비즈텔)</td>\n",
              "      <td>02-793-2080</td>\n",
              "      <td>http://www.himhani.com</td>\n",
              "      <td>2009-02-24</td>\n",
              "      <td>1</td>\n",
              "      <td>0</td>\n",
              "      <td>0</td>\n",
              "      <td>0</td>\n",
              "      <td>0</td>\n",
              "      <td>0</td>\n",
              "      <td>0</td>\n",
              "      <td>0</td>\n",
              "      <td>0</td>\n",
              "      <td>0</td>\n",
              "      <td>0</td>\n",
              "      <td>0</td>\n",
              "      <td>1</td>\n",
              "      <td>126.968167</td>\n",
              "      <td>37.530005</td>\n",
              "    </tr>\n",
              "    <tr>\n",
              "      <th>74363</th>\n",
              "      <td>JDQ4MTg4MSM1MSMkMiMkOCMkMDAkMzgxMzUxIzExIyQyIy...</td>\n",
              "      <td>읻다의원</td>\n",
              "      <td>31</td>\n",
              "      <td>의원</td>\n",
              "      <td>110000</td>\n",
              "      <td>서울</td>\n",
              "      <td>110001</td>\n",
              "      <td>강남구</td>\n",
              "      <td>NaN</td>\n",
              "      <td>6012</td>\n",
              "      <td>서울특별시 강남구 도산대로 509 에스디바이오센서 3층 (청담동)</td>\n",
              "      <td>02-3442-7588</td>\n",
              "      <td>NaN</td>\n",
              "      <td>NaN</td>\n",
              "      <td>1</td>\n",
              "      <td>1</td>\n",
              "      <td>0</td>\n",
              "      <td>0</td>\n",
              "      <td>0</td>\n",
              "      <td>0</td>\n",
              "      <td>0</td>\n",
              "      <td>0</td>\n",
              "      <td>0</td>\n",
              "      <td>0</td>\n",
              "      <td>0</td>\n",
              "      <td>0</td>\n",
              "      <td>0</td>\n",
              "      <td>NaN</td>\n",
              "      <td>NaN</td>\n",
              "    </tr>\n",
              "  </tbody>\n",
              "</table>\n",
              "<p>18183 rows × 29 columns</p>\n",
              "</div>"
            ],
            "text/plain": [
              "                                              암호화YKIHO코드  ...        y좌표\n",
              "2      JDQ4MTg4MSM1MSMkMSMkMCMkODkkMzgxMzUxIzExIyQxIy...  ...  37.568408\n",
              "3      JDQ4MTg4MSM1MSMkMSMkMCMkODkkMzgxMzUxIzExIyQxIy...  ...  37.540376\n",
              "6      JDQ4MTg4MSM1MSMkMSMkMCMkODkkMzgxMzUxIzExIyQxIy...  ...  37.594119\n",
              "8      JDQ4MTg4MSM1MSMkMSMkMCMkODkkMzgxMzUxIzExIyQxIy...  ...  37.492052\n",
              "15     JDQ4MTg4MSM1MSMkMSMkMCMkODkkMzgxMzUxIzExIyQxIy...  ...  37.488298\n",
              "...                                                  ...  ...        ...\n",
              "74350  JDQ4MTg4MSM1MSMkMSMkNCMkMTMkNDgxOTYxIzIxIyQxIy...  ...  37.646301\n",
              "74359  JDQ4MTg4MSM1MSMkMSMkNCMkMTMkNDgxOTYxIzUxIyQxIy...  ...  37.561526\n",
              "74361  JDQ4MTg4MSM1MSMkMSMkNCMkMTMkNDgxMzUxIzUxIyQxIy...  ...  37.538123\n",
              "74362  JDQ4MTg4MSM1MSMkMSMkNCMkMTMkMzgxNzAyIzUxIyQxIy...  ...  37.530005\n",
              "74363  JDQ4MTg4MSM1MSMkMiMkOCMkMDAkMzgxMzUxIzExIyQyIy...  ...        NaN\n",
              "\n",
              "[18183 rows x 29 columns]"
            ]
          },
          "metadata": {
            "tags": []
          },
          "execution_count": 4
        }
      ]
    },
    {
      "cell_type": "code",
      "metadata": {
        "id": "_7Bzg2VaFeE1"
      },
      "source": [
        "df=df[(df['시도코드명']=='서울') & ((df['종별코드']==1 )|  (df['종별코드']==11 ))][['종별코드명','시도코드명','시군구코드명','읍면동','주소']]"
      ],
      "execution_count": null,
      "outputs": []
    },
    {
      "cell_type": "code",
      "metadata": {
        "colab": {
          "base_uri": "https://localhost:8080/"
        },
        "id": "jsmBFOq-GCoV",
        "outputId": "eaae52be-f863-4efe-a3c6-5a3c33edc0cb"
      },
      "source": [
        "df.columns"
      ],
      "execution_count": null,
      "outputs": [
        {
          "output_type": "execute_result",
          "data": {
            "text/plain": [
              "Index(['종별코드명', '시도코드명', '시군구코드명', '읍면동', '주소'], dtype='object')"
            ]
          },
          "metadata": {
            "tags": []
          },
          "execution_count": 6
        }
      ]
    },
    {
      "cell_type": "code",
      "metadata": {
        "id": "1q7lYJO0HQ08"
      },
      "source": [
        "df.columns = ['Class','Si','Gu','Dong','Address']"
      ],
      "execution_count": null,
      "outputs": []
    },
    {
      "cell_type": "code",
      "metadata": {
        "colab": {
          "base_uri": "https://localhost:8080/",
          "height": 204
        },
        "id": "hFlUnwCvHaEE",
        "outputId": "4fa75a9c-8113-4b02-daeb-0597b2c32c72"
      },
      "source": [
        "df.head()"
      ],
      "execution_count": null,
      "outputs": [
        {
          "output_type": "execute_result",
          "data": {
            "text/html": [
              "<div>\n",
              "<style scoped>\n",
              "    .dataframe tbody tr th:only-of-type {\n",
              "        vertical-align: middle;\n",
              "    }\n",
              "\n",
              "    .dataframe tbody tr th {\n",
              "        vertical-align: top;\n",
              "    }\n",
              "\n",
              "    .dataframe thead th {\n",
              "        text-align: right;\n",
              "    }\n",
              "</style>\n",
              "<table border=\"1\" class=\"dataframe\">\n",
              "  <thead>\n",
              "    <tr style=\"text-align: right;\">\n",
              "      <th></th>\n",
              "      <th>Class</th>\n",
              "      <th>Si</th>\n",
              "      <th>Gu</th>\n",
              "      <th>Dong</th>\n",
              "      <th>Address</th>\n",
              "    </tr>\n",
              "  </thead>\n",
              "  <tbody>\n",
              "    <tr>\n",
              "      <th>2</th>\n",
              "      <td>상급종합</td>\n",
              "      <td>서울</td>\n",
              "      <td>종로구</td>\n",
              "      <td>NaN</td>\n",
              "      <td>서울특별시 종로구 새문안로 29 (평동)</td>\n",
              "    </tr>\n",
              "    <tr>\n",
              "      <th>3</th>\n",
              "      <td>상급종합</td>\n",
              "      <td>서울</td>\n",
              "      <td>광진구</td>\n",
              "      <td>NaN</td>\n",
              "      <td>서울특별시 광진구 능동로 120-1 (화양동)</td>\n",
              "    </tr>\n",
              "    <tr>\n",
              "      <th>6</th>\n",
              "      <td>상급종합</td>\n",
              "      <td>서울</td>\n",
              "      <td>동대문구</td>\n",
              "      <td>NaN</td>\n",
              "      <td>서울특별시 동대문구 경희대로 23 (회기동)</td>\n",
              "    </tr>\n",
              "    <tr>\n",
              "      <th>8</th>\n",
              "      <td>상급종합</td>\n",
              "      <td>서울</td>\n",
              "      <td>구로구</td>\n",
              "      <td>NaN</td>\n",
              "      <td>서울특별시 구로구 구로동로 148 고려대부속구로병원 (구로동)</td>\n",
              "    </tr>\n",
              "    <tr>\n",
              "      <th>15</th>\n",
              "      <td>상급종합</td>\n",
              "      <td>서울</td>\n",
              "      <td>강남구</td>\n",
              "      <td>NaN</td>\n",
              "      <td>서울특별시 강남구 일원로 81 (일원동, 삼성의료원)</td>\n",
              "    </tr>\n",
              "  </tbody>\n",
              "</table>\n",
              "</div>"
            ],
            "text/plain": [
              "   Class  Si    Gu Dong                             Address\n",
              "2   상급종합  서울   종로구  NaN              서울특별시 종로구 새문안로 29 (평동)\n",
              "3   상급종합  서울   광진구  NaN           서울특별시 광진구 능동로 120-1 (화양동)\n",
              "6   상급종합  서울  동대문구  NaN            서울특별시 동대문구 경희대로 23 (회기동)\n",
              "8   상급종합  서울   구로구  NaN  서울특별시 구로구 구로동로 148 고려대부속구로병원 (구로동)\n",
              "15  상급종합  서울   강남구  NaN       서울특별시 강남구 일원로 81 (일원동, 삼성의료원)"
            ]
          },
          "metadata": {
            "tags": []
          },
          "execution_count": 8
        }
      ]
    },
    {
      "cell_type": "code",
      "metadata": {
        "id": "kn-LlluFvK9D"
      },
      "source": [
        "df1=df[~df.Dong.isnull()]"
      ],
      "execution_count": null,
      "outputs": []
    },
    {
      "cell_type": "code",
      "metadata": {
        "id": "2_yJtaTCUJ1A"
      },
      "source": [
        "df2=df[df.Dong.isnull()]"
      ],
      "execution_count": null,
      "outputs": []
    },
    {
      "cell_type": "code",
      "metadata": {
        "id": "rMNBso1eHcJ0"
      },
      "source": [
        "a = df2.Address.str.find('(')"
      ],
      "execution_count": null,
      "outputs": []
    },
    {
      "cell_type": "code",
      "metadata": {
        "colab": {
          "base_uri": "https://localhost:8080/"
        },
        "id": "ooO8GxO7IuDg",
        "outputId": "28d11ad0-647c-43d9-c593-9f2876c5ceb5"
      },
      "source": [
        "a.index[0]"
      ],
      "execution_count": null,
      "outputs": [
        {
          "output_type": "execute_result",
          "data": {
            "text/plain": [
              "2"
            ]
          },
          "metadata": {
            "tags": []
          },
          "execution_count": 12
        }
      ]
    },
    {
      "cell_type": "code",
      "metadata": {
        "colab": {
          "base_uri": "https://localhost:8080/"
        },
        "id": "SfFYcq8eNXgf",
        "outputId": "7e79acaa-f4ba-429c-ff20-4161f78a06ae"
      },
      "source": [
        "a[a.index[0]]"
      ],
      "execution_count": null,
      "outputs": [
        {
          "output_type": "execute_result",
          "data": {
            "text/plain": [
              "18"
            ]
          },
          "metadata": {
            "tags": []
          },
          "execution_count": 13
        }
      ]
    },
    {
      "cell_type": "code",
      "metadata": {
        "colab": {
          "base_uri": "https://localhost:8080/",
          "height": 35
        },
        "id": "S4YQirfYLOGJ",
        "outputId": "afd19084-9b0b-45fd-be57-5c4e3e605361"
      },
      "source": [
        "df.Address.loc[2][a[2]+1:-1]"
      ],
      "execution_count": null,
      "outputs": [
        {
          "output_type": "execute_result",
          "data": {
            "application/vnd.google.colaboratory.intrinsic+json": {
              "type": "string"
            },
            "text/plain": [
              "'평동'"
            ]
          },
          "metadata": {
            "tags": []
          },
          "execution_count": 14
        }
      ]
    },
    {
      "cell_type": "code",
      "metadata": {
        "colab": {
          "base_uri": "https://localhost:8080/",
          "height": 592
        },
        "id": "sqYG69fMNJ-2",
        "outputId": "820cc224-d5c2-4fce-8368-783278a172cb"
      },
      "source": [
        "df.Address.loc[0][a[0]+1:-1]"
      ],
      "execution_count": null,
      "outputs": [
        {
          "output_type": "error",
          "ename": "KeyError",
          "evalue": "ignored",
          "traceback": [
            "\u001b[0;31m---------------------------------------------------------------------------\u001b[0m",
            "\u001b[0;31mKeyError\u001b[0m                                  Traceback (most recent call last)",
            "\u001b[0;32m/usr/local/lib/python3.7/dist-packages/pandas/core/indexes/base.py\u001b[0m in \u001b[0;36mget_loc\u001b[0;34m(self, key, method, tolerance)\u001b[0m\n\u001b[1;32m   2897\u001b[0m             \u001b[0;32mtry\u001b[0m\u001b[0;34m:\u001b[0m\u001b[0;34m\u001b[0m\u001b[0;34m\u001b[0m\u001b[0m\n\u001b[0;32m-> 2898\u001b[0;31m                 \u001b[0;32mreturn\u001b[0m \u001b[0mself\u001b[0m\u001b[0;34m.\u001b[0m\u001b[0m_engine\u001b[0m\u001b[0;34m.\u001b[0m\u001b[0mget_loc\u001b[0m\u001b[0;34m(\u001b[0m\u001b[0mcasted_key\u001b[0m\u001b[0;34m)\u001b[0m\u001b[0;34m\u001b[0m\u001b[0;34m\u001b[0m\u001b[0m\n\u001b[0m\u001b[1;32m   2899\u001b[0m             \u001b[0;32mexcept\u001b[0m \u001b[0mKeyError\u001b[0m \u001b[0;32mas\u001b[0m \u001b[0merr\u001b[0m\u001b[0;34m:\u001b[0m\u001b[0;34m\u001b[0m\u001b[0;34m\u001b[0m\u001b[0m\n",
            "\u001b[0;32mpandas/_libs/index.pyx\u001b[0m in \u001b[0;36mpandas._libs.index.IndexEngine.get_loc\u001b[0;34m()\u001b[0m\n",
            "\u001b[0;32mpandas/_libs/index.pyx\u001b[0m in \u001b[0;36mpandas._libs.index.IndexEngine.get_loc\u001b[0;34m()\u001b[0m\n",
            "\u001b[0;32mpandas/_libs/hashtable_class_helper.pxi\u001b[0m in \u001b[0;36mpandas._libs.hashtable.Int64HashTable.get_item\u001b[0;34m()\u001b[0m\n",
            "\u001b[0;32mpandas/_libs/hashtable_class_helper.pxi\u001b[0m in \u001b[0;36mpandas._libs.hashtable.Int64HashTable.get_item\u001b[0;34m()\u001b[0m\n",
            "\u001b[0;31mKeyError\u001b[0m: 0",
            "\nThe above exception was the direct cause of the following exception:\n",
            "\u001b[0;31mKeyError\u001b[0m                                  Traceback (most recent call last)",
            "\u001b[0;32m<ipython-input-15-bdcd4538c7c6>\u001b[0m in \u001b[0;36m<module>\u001b[0;34m()\u001b[0m\n\u001b[0;32m----> 1\u001b[0;31m \u001b[0mdf\u001b[0m\u001b[0;34m.\u001b[0m\u001b[0mAddress\u001b[0m\u001b[0;34m.\u001b[0m\u001b[0mloc\u001b[0m\u001b[0;34m[\u001b[0m\u001b[0;36m0\u001b[0m\u001b[0;34m]\u001b[0m\u001b[0;34m[\u001b[0m\u001b[0ma\u001b[0m\u001b[0;34m[\u001b[0m\u001b[0;36m0\u001b[0m\u001b[0;34m]\u001b[0m\u001b[0;34m+\u001b[0m\u001b[0;36m1\u001b[0m\u001b[0;34m:\u001b[0m\u001b[0;34m-\u001b[0m\u001b[0;36m1\u001b[0m\u001b[0;34m]\u001b[0m\u001b[0;34m\u001b[0m\u001b[0;34m\u001b[0m\u001b[0m\n\u001b[0m",
            "\u001b[0;32m/usr/local/lib/python3.7/dist-packages/pandas/core/indexing.py\u001b[0m in \u001b[0;36m__getitem__\u001b[0;34m(self, key)\u001b[0m\n\u001b[1;32m    877\u001b[0m \u001b[0;34m\u001b[0m\u001b[0m\n\u001b[1;32m    878\u001b[0m             \u001b[0mmaybe_callable\u001b[0m \u001b[0;34m=\u001b[0m \u001b[0mcom\u001b[0m\u001b[0;34m.\u001b[0m\u001b[0mapply_if_callable\u001b[0m\u001b[0;34m(\u001b[0m\u001b[0mkey\u001b[0m\u001b[0;34m,\u001b[0m \u001b[0mself\u001b[0m\u001b[0;34m.\u001b[0m\u001b[0mobj\u001b[0m\u001b[0;34m)\u001b[0m\u001b[0;34m\u001b[0m\u001b[0;34m\u001b[0m\u001b[0m\n\u001b[0;32m--> 879\u001b[0;31m             \u001b[0;32mreturn\u001b[0m \u001b[0mself\u001b[0m\u001b[0;34m.\u001b[0m\u001b[0m_getitem_axis\u001b[0m\u001b[0;34m(\u001b[0m\u001b[0mmaybe_callable\u001b[0m\u001b[0;34m,\u001b[0m \u001b[0maxis\u001b[0m\u001b[0;34m=\u001b[0m\u001b[0maxis\u001b[0m\u001b[0;34m)\u001b[0m\u001b[0;34m\u001b[0m\u001b[0;34m\u001b[0m\u001b[0m\n\u001b[0m\u001b[1;32m    880\u001b[0m \u001b[0;34m\u001b[0m\u001b[0m\n\u001b[1;32m    881\u001b[0m     \u001b[0;32mdef\u001b[0m \u001b[0m_is_scalar_access\u001b[0m\u001b[0;34m(\u001b[0m\u001b[0mself\u001b[0m\u001b[0;34m,\u001b[0m \u001b[0mkey\u001b[0m\u001b[0;34m:\u001b[0m \u001b[0mTuple\u001b[0m\u001b[0;34m)\u001b[0m\u001b[0;34m:\u001b[0m\u001b[0;34m\u001b[0m\u001b[0;34m\u001b[0m\u001b[0m\n",
            "\u001b[0;32m/usr/local/lib/python3.7/dist-packages/pandas/core/indexing.py\u001b[0m in \u001b[0;36m_getitem_axis\u001b[0;34m(self, key, axis)\u001b[0m\n\u001b[1;32m   1108\u001b[0m         \u001b[0;31m# fall thru to straight lookup\u001b[0m\u001b[0;34m\u001b[0m\u001b[0;34m\u001b[0m\u001b[0;34m\u001b[0m\u001b[0m\n\u001b[1;32m   1109\u001b[0m         \u001b[0mself\u001b[0m\u001b[0;34m.\u001b[0m\u001b[0m_validate_key\u001b[0m\u001b[0;34m(\u001b[0m\u001b[0mkey\u001b[0m\u001b[0;34m,\u001b[0m \u001b[0maxis\u001b[0m\u001b[0;34m)\u001b[0m\u001b[0;34m\u001b[0m\u001b[0;34m\u001b[0m\u001b[0m\n\u001b[0;32m-> 1110\u001b[0;31m         \u001b[0;32mreturn\u001b[0m \u001b[0mself\u001b[0m\u001b[0;34m.\u001b[0m\u001b[0m_get_label\u001b[0m\u001b[0;34m(\u001b[0m\u001b[0mkey\u001b[0m\u001b[0;34m,\u001b[0m \u001b[0maxis\u001b[0m\u001b[0;34m=\u001b[0m\u001b[0maxis\u001b[0m\u001b[0;34m)\u001b[0m\u001b[0;34m\u001b[0m\u001b[0;34m\u001b[0m\u001b[0m\n\u001b[0m\u001b[1;32m   1111\u001b[0m \u001b[0;34m\u001b[0m\u001b[0m\n\u001b[1;32m   1112\u001b[0m     \u001b[0;32mdef\u001b[0m \u001b[0m_get_slice_axis\u001b[0m\u001b[0;34m(\u001b[0m\u001b[0mself\u001b[0m\u001b[0;34m,\u001b[0m \u001b[0mslice_obj\u001b[0m\u001b[0;34m:\u001b[0m \u001b[0mslice\u001b[0m\u001b[0;34m,\u001b[0m \u001b[0maxis\u001b[0m\u001b[0;34m:\u001b[0m \u001b[0mint\u001b[0m\u001b[0;34m)\u001b[0m\u001b[0;34m:\u001b[0m\u001b[0;34m\u001b[0m\u001b[0;34m\u001b[0m\u001b[0m\n",
            "\u001b[0;32m/usr/local/lib/python3.7/dist-packages/pandas/core/indexing.py\u001b[0m in \u001b[0;36m_get_label\u001b[0;34m(self, label, axis)\u001b[0m\n\u001b[1;32m   1057\u001b[0m     \u001b[0;32mdef\u001b[0m \u001b[0m_get_label\u001b[0m\u001b[0;34m(\u001b[0m\u001b[0mself\u001b[0m\u001b[0;34m,\u001b[0m \u001b[0mlabel\u001b[0m\u001b[0;34m,\u001b[0m \u001b[0maxis\u001b[0m\u001b[0;34m:\u001b[0m \u001b[0mint\u001b[0m\u001b[0;34m)\u001b[0m\u001b[0;34m:\u001b[0m\u001b[0;34m\u001b[0m\u001b[0;34m\u001b[0m\u001b[0m\n\u001b[1;32m   1058\u001b[0m         \u001b[0;31m# GH#5667 this will fail if the label is not present in the axis.\u001b[0m\u001b[0;34m\u001b[0m\u001b[0;34m\u001b[0m\u001b[0;34m\u001b[0m\u001b[0m\n\u001b[0;32m-> 1059\u001b[0;31m         \u001b[0;32mreturn\u001b[0m \u001b[0mself\u001b[0m\u001b[0;34m.\u001b[0m\u001b[0mobj\u001b[0m\u001b[0;34m.\u001b[0m\u001b[0mxs\u001b[0m\u001b[0;34m(\u001b[0m\u001b[0mlabel\u001b[0m\u001b[0;34m,\u001b[0m \u001b[0maxis\u001b[0m\u001b[0;34m=\u001b[0m\u001b[0maxis\u001b[0m\u001b[0;34m)\u001b[0m\u001b[0;34m\u001b[0m\u001b[0;34m\u001b[0m\u001b[0m\n\u001b[0m\u001b[1;32m   1060\u001b[0m \u001b[0;34m\u001b[0m\u001b[0m\n\u001b[1;32m   1061\u001b[0m     \u001b[0;32mdef\u001b[0m \u001b[0m_handle_lowerdim_multi_index_axis0\u001b[0m\u001b[0;34m(\u001b[0m\u001b[0mself\u001b[0m\u001b[0;34m,\u001b[0m \u001b[0mtup\u001b[0m\u001b[0;34m:\u001b[0m \u001b[0mTuple\u001b[0m\u001b[0;34m)\u001b[0m\u001b[0;34m:\u001b[0m\u001b[0;34m\u001b[0m\u001b[0;34m\u001b[0m\u001b[0m\n",
            "\u001b[0;32m/usr/local/lib/python3.7/dist-packages/pandas/core/generic.py\u001b[0m in \u001b[0;36mxs\u001b[0;34m(self, key, axis, level, drop_level)\u001b[0m\n\u001b[1;32m   3491\u001b[0m             \u001b[0mloc\u001b[0m\u001b[0;34m,\u001b[0m \u001b[0mnew_index\u001b[0m \u001b[0;34m=\u001b[0m \u001b[0mself\u001b[0m\u001b[0;34m.\u001b[0m\u001b[0mindex\u001b[0m\u001b[0;34m.\u001b[0m\u001b[0mget_loc_level\u001b[0m\u001b[0;34m(\u001b[0m\u001b[0mkey\u001b[0m\u001b[0;34m,\u001b[0m \u001b[0mdrop_level\u001b[0m\u001b[0;34m=\u001b[0m\u001b[0mdrop_level\u001b[0m\u001b[0;34m)\u001b[0m\u001b[0;34m\u001b[0m\u001b[0;34m\u001b[0m\u001b[0m\n\u001b[1;32m   3492\u001b[0m         \u001b[0;32melse\u001b[0m\u001b[0;34m:\u001b[0m\u001b[0;34m\u001b[0m\u001b[0;34m\u001b[0m\u001b[0m\n\u001b[0;32m-> 3493\u001b[0;31m             \u001b[0mloc\u001b[0m \u001b[0;34m=\u001b[0m \u001b[0mself\u001b[0m\u001b[0;34m.\u001b[0m\u001b[0mindex\u001b[0m\u001b[0;34m.\u001b[0m\u001b[0mget_loc\u001b[0m\u001b[0;34m(\u001b[0m\u001b[0mkey\u001b[0m\u001b[0;34m)\u001b[0m\u001b[0;34m\u001b[0m\u001b[0;34m\u001b[0m\u001b[0m\n\u001b[0m\u001b[1;32m   3494\u001b[0m \u001b[0;34m\u001b[0m\u001b[0m\n\u001b[1;32m   3495\u001b[0m             \u001b[0;32mif\u001b[0m \u001b[0misinstance\u001b[0m\u001b[0;34m(\u001b[0m\u001b[0mloc\u001b[0m\u001b[0;34m,\u001b[0m \u001b[0mnp\u001b[0m\u001b[0;34m.\u001b[0m\u001b[0mndarray\u001b[0m\u001b[0;34m)\u001b[0m\u001b[0;34m:\u001b[0m\u001b[0;34m\u001b[0m\u001b[0;34m\u001b[0m\u001b[0m\n",
            "\u001b[0;32m/usr/local/lib/python3.7/dist-packages/pandas/core/indexes/base.py\u001b[0m in \u001b[0;36mget_loc\u001b[0;34m(self, key, method, tolerance)\u001b[0m\n\u001b[1;32m   2898\u001b[0m                 \u001b[0;32mreturn\u001b[0m \u001b[0mself\u001b[0m\u001b[0;34m.\u001b[0m\u001b[0m_engine\u001b[0m\u001b[0;34m.\u001b[0m\u001b[0mget_loc\u001b[0m\u001b[0;34m(\u001b[0m\u001b[0mcasted_key\u001b[0m\u001b[0;34m)\u001b[0m\u001b[0;34m\u001b[0m\u001b[0;34m\u001b[0m\u001b[0m\n\u001b[1;32m   2899\u001b[0m             \u001b[0;32mexcept\u001b[0m \u001b[0mKeyError\u001b[0m \u001b[0;32mas\u001b[0m \u001b[0merr\u001b[0m\u001b[0;34m:\u001b[0m\u001b[0;34m\u001b[0m\u001b[0;34m\u001b[0m\u001b[0m\n\u001b[0;32m-> 2900\u001b[0;31m                 \u001b[0;32mraise\u001b[0m \u001b[0mKeyError\u001b[0m\u001b[0;34m(\u001b[0m\u001b[0mkey\u001b[0m\u001b[0;34m)\u001b[0m \u001b[0;32mfrom\u001b[0m \u001b[0merr\u001b[0m\u001b[0;34m\u001b[0m\u001b[0;34m\u001b[0m\u001b[0m\n\u001b[0m\u001b[1;32m   2901\u001b[0m \u001b[0;34m\u001b[0m\u001b[0m\n\u001b[1;32m   2902\u001b[0m         \u001b[0;32mif\u001b[0m \u001b[0mtolerance\u001b[0m \u001b[0;32mis\u001b[0m \u001b[0;32mnot\u001b[0m \u001b[0;32mNone\u001b[0m\u001b[0;34m:\u001b[0m\u001b[0;34m\u001b[0m\u001b[0;34m\u001b[0m\u001b[0m\n",
            "\u001b[0;31mKeyError\u001b[0m: 0"
          ]
        }
      ]
    },
    {
      "cell_type": "code",
      "metadata": {
        "colab": {
          "base_uri": "https://localhost:8080/",
          "height": 35
        },
        "id": "IILhm339M-_X",
        "outputId": "dfce9189-8504-4d2b-da6c-a51343beed74"
      },
      "source": [
        "df2.Address.loc[a.index[0]][a[a.index[0]]+1:-1]"
      ],
      "execution_count": null,
      "outputs": [
        {
          "output_type": "execute_result",
          "data": {
            "application/vnd.google.colaboratory.intrinsic+json": {
              "type": "string"
            },
            "text/plain": [
              "'평동'"
            ]
          },
          "metadata": {
            "tags": []
          },
          "execution_count": 16
        }
      ]
    },
    {
      "cell_type": "code",
      "metadata": {
        "id": "jsf19fRfL6It",
        "colab": {
          "base_uri": "https://localhost:8080/"
        },
        "outputId": "9a56578d-50af-4566-a194-ac888baf67c9"
      },
      "source": [
        "for i in range(len(a)):\n",
        "    df2.Address.loc[a.index[i]] = df2.Address.loc[a.index[i]][a[a.index[i]]+1:-1]"
      ],
      "execution_count": null,
      "outputs": [
        {
          "output_type": "stream",
          "text": [
            "/usr/local/lib/python3.7/dist-packages/ipykernel_launcher.py:2: SettingWithCopyWarning: \n",
            "A value is trying to be set on a copy of a slice from a DataFrame\n",
            "\n",
            "See the caveats in the documentation: https://pandas.pydata.org/pandas-docs/stable/user_guide/indexing.html#returning-a-view-versus-a-copy\n",
            "  \n"
          ],
          "name": "stderr"
        }
      ]
    },
    {
      "cell_type": "code",
      "metadata": {
        "colab": {
          "base_uri": "https://localhost:8080/",
          "height": 204
        },
        "id": "6gkDnnApMUfl",
        "outputId": "f093fd26-fcd7-4004-f37a-17d4238563dc"
      },
      "source": [
        "df2.head()"
      ],
      "execution_count": null,
      "outputs": [
        {
          "output_type": "execute_result",
          "data": {
            "text/html": [
              "<div>\n",
              "<style scoped>\n",
              "    .dataframe tbody tr th:only-of-type {\n",
              "        vertical-align: middle;\n",
              "    }\n",
              "\n",
              "    .dataframe tbody tr th {\n",
              "        vertical-align: top;\n",
              "    }\n",
              "\n",
              "    .dataframe thead th {\n",
              "        text-align: right;\n",
              "    }\n",
              "</style>\n",
              "<table border=\"1\" class=\"dataframe\">\n",
              "  <thead>\n",
              "    <tr style=\"text-align: right;\">\n",
              "      <th></th>\n",
              "      <th>Class</th>\n",
              "      <th>Si</th>\n",
              "      <th>Gu</th>\n",
              "      <th>Dong</th>\n",
              "      <th>Address</th>\n",
              "    </tr>\n",
              "  </thead>\n",
              "  <tbody>\n",
              "    <tr>\n",
              "      <th>2</th>\n",
              "      <td>상급종합</td>\n",
              "      <td>서울</td>\n",
              "      <td>종로구</td>\n",
              "      <td>NaN</td>\n",
              "      <td>평동</td>\n",
              "    </tr>\n",
              "    <tr>\n",
              "      <th>3</th>\n",
              "      <td>상급종합</td>\n",
              "      <td>서울</td>\n",
              "      <td>광진구</td>\n",
              "      <td>NaN</td>\n",
              "      <td>화양동</td>\n",
              "    </tr>\n",
              "    <tr>\n",
              "      <th>6</th>\n",
              "      <td>상급종합</td>\n",
              "      <td>서울</td>\n",
              "      <td>동대문구</td>\n",
              "      <td>NaN</td>\n",
              "      <td>회기동</td>\n",
              "    </tr>\n",
              "    <tr>\n",
              "      <th>8</th>\n",
              "      <td>상급종합</td>\n",
              "      <td>서울</td>\n",
              "      <td>구로구</td>\n",
              "      <td>NaN</td>\n",
              "      <td>구로동</td>\n",
              "    </tr>\n",
              "    <tr>\n",
              "      <th>15</th>\n",
              "      <td>상급종합</td>\n",
              "      <td>서울</td>\n",
              "      <td>강남구</td>\n",
              "      <td>NaN</td>\n",
              "      <td>일원동, 삼성의료원</td>\n",
              "    </tr>\n",
              "  </tbody>\n",
              "</table>\n",
              "</div>"
            ],
            "text/plain": [
              "   Class  Si    Gu Dong     Address\n",
              "2   상급종합  서울   종로구  NaN          평동\n",
              "3   상급종합  서울   광진구  NaN         화양동\n",
              "6   상급종합  서울  동대문구  NaN         회기동\n",
              "8   상급종합  서울   구로구  NaN         구로동\n",
              "15  상급종합  서울   강남구  NaN  일원동, 삼성의료원"
            ]
          },
          "metadata": {
            "tags": []
          },
          "execution_count": 18
        }
      ]
    },
    {
      "cell_type": "code",
      "metadata": {
        "colab": {
          "base_uri": "https://localhost:8080/",
          "height": 204
        },
        "id": "kFepRUNRU8pF",
        "outputId": "94bfccab-faf7-4749-8fc8-ea0a93fb8ec8"
      },
      "source": [
        "df.head()"
      ],
      "execution_count": null,
      "outputs": [
        {
          "output_type": "execute_result",
          "data": {
            "text/html": [
              "<div>\n",
              "<style scoped>\n",
              "    .dataframe tbody tr th:only-of-type {\n",
              "        vertical-align: middle;\n",
              "    }\n",
              "\n",
              "    .dataframe tbody tr th {\n",
              "        vertical-align: top;\n",
              "    }\n",
              "\n",
              "    .dataframe thead th {\n",
              "        text-align: right;\n",
              "    }\n",
              "</style>\n",
              "<table border=\"1\" class=\"dataframe\">\n",
              "  <thead>\n",
              "    <tr style=\"text-align: right;\">\n",
              "      <th></th>\n",
              "      <th>Class</th>\n",
              "      <th>Si</th>\n",
              "      <th>Gu</th>\n",
              "      <th>Dong</th>\n",
              "      <th>Address</th>\n",
              "    </tr>\n",
              "  </thead>\n",
              "  <tbody>\n",
              "    <tr>\n",
              "      <th>2</th>\n",
              "      <td>상급종합</td>\n",
              "      <td>서울</td>\n",
              "      <td>종로구</td>\n",
              "      <td>NaN</td>\n",
              "      <td>서울특별시 종로구 새문안로 29 (평동)</td>\n",
              "    </tr>\n",
              "    <tr>\n",
              "      <th>3</th>\n",
              "      <td>상급종합</td>\n",
              "      <td>서울</td>\n",
              "      <td>광진구</td>\n",
              "      <td>NaN</td>\n",
              "      <td>서울특별시 광진구 능동로 120-1 (화양동)</td>\n",
              "    </tr>\n",
              "    <tr>\n",
              "      <th>6</th>\n",
              "      <td>상급종합</td>\n",
              "      <td>서울</td>\n",
              "      <td>동대문구</td>\n",
              "      <td>NaN</td>\n",
              "      <td>서울특별시 동대문구 경희대로 23 (회기동)</td>\n",
              "    </tr>\n",
              "    <tr>\n",
              "      <th>8</th>\n",
              "      <td>상급종합</td>\n",
              "      <td>서울</td>\n",
              "      <td>구로구</td>\n",
              "      <td>NaN</td>\n",
              "      <td>서울특별시 구로구 구로동로 148 고려대부속구로병원 (구로동)</td>\n",
              "    </tr>\n",
              "    <tr>\n",
              "      <th>15</th>\n",
              "      <td>상급종합</td>\n",
              "      <td>서울</td>\n",
              "      <td>강남구</td>\n",
              "      <td>NaN</td>\n",
              "      <td>서울특별시 강남구 일원로 81 (일원동, 삼성의료원)</td>\n",
              "    </tr>\n",
              "  </tbody>\n",
              "</table>\n",
              "</div>"
            ],
            "text/plain": [
              "   Class  Si    Gu Dong                             Address\n",
              "2   상급종합  서울   종로구  NaN              서울특별시 종로구 새문안로 29 (평동)\n",
              "3   상급종합  서울   광진구  NaN           서울특별시 광진구 능동로 120-1 (화양동)\n",
              "6   상급종합  서울  동대문구  NaN            서울특별시 동대문구 경희대로 23 (회기동)\n",
              "8   상급종합  서울   구로구  NaN  서울특별시 구로구 구로동로 148 고려대부속구로병원 (구로동)\n",
              "15  상급종합  서울   강남구  NaN       서울특별시 강남구 일원로 81 (일원동, 삼성의료원)"
            ]
          },
          "metadata": {
            "tags": []
          },
          "execution_count": 19
        }
      ]
    },
    {
      "cell_type": "code",
      "metadata": {
        "colab": {
          "base_uri": "https://localhost:8080/"
        },
        "id": "Ik8Z-ZfzMb01",
        "outputId": "5ef414d3-e43a-43a0-daac-f5a3244228a0"
      },
      "source": [
        "df2.Address.str.find(',')"
      ],
      "execution_count": null,
      "outputs": [
        {
          "output_type": "execute_result",
          "data": {
            "text/plain": [
              "2     -1\n",
              "3     -1\n",
              "6     -1\n",
              "8     -1\n",
              "15     3\n",
              "16    -1\n",
              "22    -1\n",
              "26    -1\n",
              "29    -1\n",
              "33    -1\n",
              "37    -1\n",
              "39    -1\n",
              "41    -1\n",
              "43    -1\n",
              "51    -1\n",
              "52    -1\n",
              "56    -1\n",
              "76    -1\n",
              "91    -1\n",
              "96    -1\n",
              "108   -1\n",
              "109   -1\n",
              "115    3\n",
              "129   -1\n",
              "134   -1\n",
              "136   -1\n",
              "149   -1\n",
              "158   -1\n",
              "159   -1\n",
              "160   -1\n",
              "161   -1\n",
              "162   -1\n",
              "163   -1\n",
              "168   -1\n",
              "169    3\n",
              "170   -1\n",
              "176   -1\n",
              "183   -1\n",
              "195   -1\n",
              "241   -1\n",
              "252   -1\n",
              "265    3\n",
              "279    3\n",
              "283   -1\n",
              "290   -1\n",
              "293   -1\n",
              "294   -1\n",
              "319    8\n",
              "344   -1\n",
              "345   -1\n",
              "346    3\n",
              "347    6\n",
              "358   -1\n",
              "363   -1\n",
              "Name: Address, dtype: int64"
            ]
          },
          "metadata": {
            "tags": []
          },
          "execution_count": 20
        }
      ]
    },
    {
      "cell_type": "code",
      "metadata": {
        "colab": {
          "base_uri": "https://localhost:8080/"
        },
        "id": "BITp3vSxPbhf",
        "outputId": "398ff700-a89a-4c82-ea02-89469c4e7731"
      },
      "source": [
        "df.loc[346]"
      ],
      "execution_count": null,
      "outputs": [
        {
          "output_type": "execute_result",
          "data": {
            "text/plain": [
              "Class                                종합병원\n",
              "Si                                     서울\n",
              "Gu                                   영등포구\n",
              "Dong                                  NaN\n",
              "Address    서울특별시 영등포구 신길로 1 (대림동, 강남성심병원)\n",
              "Name: 346, dtype: object"
            ]
          },
          "metadata": {
            "tags": []
          },
          "execution_count": 21
        }
      ]
    },
    {
      "cell_type": "code",
      "metadata": {
        "id": "kctlDvpPROz5"
      },
      "source": [
        "b = df2.Address.str.find(',')"
      ],
      "execution_count": null,
      "outputs": []
    },
    {
      "cell_type": "code",
      "metadata": {
        "colab": {
          "base_uri": "https://localhost:8080/"
        },
        "id": "orXwXMjLVs3m",
        "outputId": "cfb40dd0-e00b-41ec-da54-8c0fa918cdba"
      },
      "source": [
        "b.index[1]"
      ],
      "execution_count": null,
      "outputs": [
        {
          "output_type": "execute_result",
          "data": {
            "text/plain": [
              "3"
            ]
          },
          "metadata": {
            "tags": []
          },
          "execution_count": 23
        }
      ]
    },
    {
      "cell_type": "code",
      "metadata": {
        "id": "SytaEavuVbgv"
      },
      "source": [
        "for i in range(len(b)):\n",
        "    if b[b.index[i]] == -1:\n",
        "        b[b.index[i]] = 0\n"
      ],
      "execution_count": null,
      "outputs": []
    },
    {
      "cell_type": "code",
      "metadata": {
        "colab": {
          "base_uri": "https://localhost:8080/"
        },
        "id": "DJhY_zKqYWHn",
        "outputId": "33f34b0d-757e-469c-e9d9-9dca80fc28f0"
      },
      "source": [
        "b"
      ],
      "execution_count": null,
      "outputs": [
        {
          "output_type": "execute_result",
          "data": {
            "text/plain": [
              "2      0\n",
              "3      0\n",
              "6      0\n",
              "8      0\n",
              "15     3\n",
              "16     0\n",
              "22     0\n",
              "26     0\n",
              "29     0\n",
              "33     0\n",
              "37     0\n",
              "39     0\n",
              "41     0\n",
              "43     0\n",
              "51     0\n",
              "52     0\n",
              "56     0\n",
              "76     0\n",
              "91     0\n",
              "96     0\n",
              "108    0\n",
              "109    0\n",
              "115    3\n",
              "129    0\n",
              "134    0\n",
              "136    0\n",
              "149    0\n",
              "158    0\n",
              "159    0\n",
              "160    0\n",
              "161    0\n",
              "162    0\n",
              "163    0\n",
              "168    0\n",
              "169    3\n",
              "170    0\n",
              "176    0\n",
              "183    0\n",
              "195    0\n",
              "241    0\n",
              "252    0\n",
              "265    3\n",
              "279    3\n",
              "283    0\n",
              "290    0\n",
              "293    0\n",
              "294    0\n",
              "319    8\n",
              "344    0\n",
              "345    0\n",
              "346    3\n",
              "347    6\n",
              "358    0\n",
              "363    0\n",
              "Name: Address, dtype: int64"
            ]
          },
          "metadata": {
            "tags": []
          },
          "execution_count": 25
        }
      ]
    },
    {
      "cell_type": "code",
      "metadata": {
        "id": "U7W-lYwMVppU"
      },
      "source": [
        "b1 = b[b>0]"
      ],
      "execution_count": null,
      "outputs": []
    },
    {
      "cell_type": "code",
      "metadata": {
        "colab": {
          "base_uri": "https://localhost:8080/"
        },
        "id": "cVdDpo_7WLAu",
        "outputId": "2589170f-eacf-46fc-d8b1-dba283286634"
      },
      "source": [
        "b1"
      ],
      "execution_count": null,
      "outputs": [
        {
          "output_type": "execute_result",
          "data": {
            "text/plain": [
              "15     3\n",
              "115    3\n",
              "169    3\n",
              "265    3\n",
              "279    3\n",
              "319    8\n",
              "346    3\n",
              "347    6\n",
              "Name: Address, dtype: int64"
            ]
          },
          "metadata": {
            "tags": []
          },
          "execution_count": 27
        }
      ]
    },
    {
      "cell_type": "code",
      "metadata": {
        "colab": {
          "base_uri": "https://localhost:8080/"
        },
        "id": "Tyc05wxWWtBN",
        "outputId": "8927990b-1044-48e0-b915-3c334315f652"
      },
      "source": [
        "len(b1)"
      ],
      "execution_count": null,
      "outputs": [
        {
          "output_type": "execute_result",
          "data": {
            "text/plain": [
              "8"
            ]
          },
          "metadata": {
            "tags": []
          },
          "execution_count": 28
        }
      ]
    },
    {
      "cell_type": "code",
      "metadata": {
        "colab": {
          "base_uri": "https://localhost:8080/",
          "height": 35
        },
        "id": "0wtyIm6MX1HE",
        "outputId": "3b2c8f4e-fa46-47d6-833f-3761e7da1e14"
      },
      "source": [
        "df2.Address[15].split(',')[0]"
      ],
      "execution_count": null,
      "outputs": [
        {
          "output_type": "execute_result",
          "data": {
            "application/vnd.google.colaboratory.intrinsic+json": {
              "type": "string"
            },
            "text/plain": [
              "'일원동'"
            ]
          },
          "metadata": {
            "tags": []
          },
          "execution_count": 29
        }
      ]
    },
    {
      "cell_type": "code",
      "metadata": {
        "colab": {
          "base_uri": "https://localhost:8080/",
          "height": 35
        },
        "id": "2rtrZhFPYEq1",
        "outputId": "066de36f-894e-4974-c0f4-5475ac35dd57"
      },
      "source": [
        "df2.Address[b1.index[1]]"
      ],
      "execution_count": null,
      "outputs": [
        {
          "output_type": "execute_result",
          "data": {
            "application/vnd.google.colaboratory.intrinsic+json": {
              "type": "string"
            },
            "text/plain": [
              "'대림동, 대림성모병원'"
            ]
          },
          "metadata": {
            "tags": []
          },
          "execution_count": 30
        }
      ]
    },
    {
      "cell_type": "code",
      "metadata": {
        "colab": {
          "base_uri": "https://localhost:8080/"
        },
        "id": "puwWjljPV7NK",
        "outputId": "87df24a8-b612-4712-f2d7-6023012324ad"
      },
      "source": [
        "b1"
      ],
      "execution_count": null,
      "outputs": [
        {
          "output_type": "execute_result",
          "data": {
            "text/plain": [
              "15     3\n",
              "115    3\n",
              "169    3\n",
              "265    3\n",
              "279    3\n",
              "319    8\n",
              "346    3\n",
              "347    6\n",
              "Name: Address, dtype: int64"
            ]
          },
          "metadata": {
            "tags": []
          },
          "execution_count": 31
        }
      ]
    },
    {
      "cell_type": "code",
      "metadata": {
        "colab": {
          "base_uri": "https://localhost:8080/"
        },
        "id": "2Tzc-ieuY13d",
        "outputId": "3df75dbb-2e88-4235-e5f4-2515edb5495e"
      },
      "source": [
        "b.loc[15]"
      ],
      "execution_count": null,
      "outputs": [
        {
          "output_type": "execute_result",
          "data": {
            "text/plain": [
              "3"
            ]
          },
          "metadata": {
            "tags": []
          },
          "execution_count": 32
        }
      ]
    },
    {
      "cell_type": "code",
      "metadata": {
        "colab": {
          "base_uri": "https://localhost:8080/",
          "height": 35
        },
        "id": "SUrcW8ntZS_W",
        "outputId": "7d8c3f0e-352f-4a90-f4e5-57bed0aa4394"
      },
      "source": [
        "df2.Address.loc[b1.index[7]].split(',')[0]"
      ],
      "execution_count": null,
      "outputs": [
        {
          "output_type": "execute_result",
          "data": {
            "application/vnd.google.colaboratory.intrinsic+json": {
              "type": "string"
            },
            "text/plain": [
              "'영등포동7가'"
            ]
          },
          "metadata": {
            "tags": []
          },
          "execution_count": 33
        }
      ]
    },
    {
      "cell_type": "code",
      "metadata": {
        "colab": {
          "base_uri": "https://localhost:8080/",
          "height": 35
        },
        "id": "7X80Vt89VxIv",
        "outputId": "38b8c83f-9079-4cc2-c266-c33113b1bdc9"
      },
      "source": [
        "df2.Address[b1.index[4]].split(',')[0]"
      ],
      "execution_count": null,
      "outputs": [
        {
          "output_type": "execute_result",
          "data": {
            "application/vnd.google.colaboratory.intrinsic+json": {
              "type": "string"
            },
            "text/plain": [
              "'망우동'"
            ]
          },
          "metadata": {
            "tags": []
          },
          "execution_count": 34
        }
      ]
    },
    {
      "cell_type": "code",
      "metadata": {
        "id": "Lewx5gq4Ypyp",
        "colab": {
          "base_uri": "https://localhost:8080/"
        },
        "outputId": "c1a57278-e89d-428d-905a-e9c6286beebe"
      },
      "source": [
        "df2['Address_1'] = df2.Address\n",
        "\n",
        "for i in range(len(b1)):\n",
        "    df2['Address_1'].loc[b1.index[i]] = df2.Address.loc[b1.index[i]].split(',')[0]"
      ],
      "execution_count": null,
      "outputs": [
        {
          "output_type": "stream",
          "text": [
            "/usr/local/lib/python3.7/dist-packages/ipykernel_launcher.py:1: SettingWithCopyWarning: \n",
            "A value is trying to be set on a copy of a slice from a DataFrame.\n",
            "Try using .loc[row_indexer,col_indexer] = value instead\n",
            "\n",
            "See the caveats in the documentation: https://pandas.pydata.org/pandas-docs/stable/user_guide/indexing.html#returning-a-view-versus-a-copy\n",
            "  \"\"\"Entry point for launching an IPython kernel.\n",
            "/usr/local/lib/python3.7/dist-packages/ipykernel_launcher.py:4: SettingWithCopyWarning: \n",
            "A value is trying to be set on a copy of a slice from a DataFrame\n",
            "\n",
            "See the caveats in the documentation: https://pandas.pydata.org/pandas-docs/stable/user_guide/indexing.html#returning-a-view-versus-a-copy\n",
            "  after removing the cwd from sys.path.\n"
          ],
          "name": "stderr"
        }
      ]
    },
    {
      "cell_type": "code",
      "metadata": {
        "colab": {
          "base_uri": "https://localhost:8080/",
          "height": 359
        },
        "id": "-cLupBDoZXp8",
        "outputId": "66ee4dbe-a86d-4b05-f4be-f8c46f013a62"
      },
      "source": [
        "df2.head(10)"
      ],
      "execution_count": null,
      "outputs": [
        {
          "output_type": "execute_result",
          "data": {
            "text/html": [
              "<div>\n",
              "<style scoped>\n",
              "    .dataframe tbody tr th:only-of-type {\n",
              "        vertical-align: middle;\n",
              "    }\n",
              "\n",
              "    .dataframe tbody tr th {\n",
              "        vertical-align: top;\n",
              "    }\n",
              "\n",
              "    .dataframe thead th {\n",
              "        text-align: right;\n",
              "    }\n",
              "</style>\n",
              "<table border=\"1\" class=\"dataframe\">\n",
              "  <thead>\n",
              "    <tr style=\"text-align: right;\">\n",
              "      <th></th>\n",
              "      <th>Class</th>\n",
              "      <th>Si</th>\n",
              "      <th>Gu</th>\n",
              "      <th>Dong</th>\n",
              "      <th>Address</th>\n",
              "      <th>Address_1</th>\n",
              "    </tr>\n",
              "  </thead>\n",
              "  <tbody>\n",
              "    <tr>\n",
              "      <th>2</th>\n",
              "      <td>상급종합</td>\n",
              "      <td>서울</td>\n",
              "      <td>종로구</td>\n",
              "      <td>NaN</td>\n",
              "      <td>평동</td>\n",
              "      <td>평동</td>\n",
              "    </tr>\n",
              "    <tr>\n",
              "      <th>3</th>\n",
              "      <td>상급종합</td>\n",
              "      <td>서울</td>\n",
              "      <td>광진구</td>\n",
              "      <td>NaN</td>\n",
              "      <td>화양동</td>\n",
              "      <td>화양동</td>\n",
              "    </tr>\n",
              "    <tr>\n",
              "      <th>6</th>\n",
              "      <td>상급종합</td>\n",
              "      <td>서울</td>\n",
              "      <td>동대문구</td>\n",
              "      <td>NaN</td>\n",
              "      <td>회기동</td>\n",
              "      <td>회기동</td>\n",
              "    </tr>\n",
              "    <tr>\n",
              "      <th>8</th>\n",
              "      <td>상급종합</td>\n",
              "      <td>서울</td>\n",
              "      <td>구로구</td>\n",
              "      <td>NaN</td>\n",
              "      <td>구로동</td>\n",
              "      <td>구로동</td>\n",
              "    </tr>\n",
              "    <tr>\n",
              "      <th>15</th>\n",
              "      <td>상급종합</td>\n",
              "      <td>서울</td>\n",
              "      <td>강남구</td>\n",
              "      <td>NaN</td>\n",
              "      <td>일원동, 삼성의료원</td>\n",
              "      <td>일원동</td>\n",
              "    </tr>\n",
              "    <tr>\n",
              "      <th>16</th>\n",
              "      <td>상급종합</td>\n",
              "      <td>서울</td>\n",
              "      <td>종로구</td>\n",
              "      <td>NaN</td>\n",
              "      <td>연건동</td>\n",
              "      <td>연건동</td>\n",
              "    </tr>\n",
              "    <tr>\n",
              "      <th>22</th>\n",
              "      <td>상급종합</td>\n",
              "      <td>서울</td>\n",
              "      <td>강남구</td>\n",
              "      <td>NaN</td>\n",
              "      <td>도곡동</td>\n",
              "      <td>도곡동</td>\n",
              "    </tr>\n",
              "    <tr>\n",
              "      <th>26</th>\n",
              "      <td>상급종합</td>\n",
              "      <td>서울</td>\n",
              "      <td>양천구</td>\n",
              "      <td>NaN</td>\n",
              "      <td>목동</td>\n",
              "      <td>목동</td>\n",
              "    </tr>\n",
              "    <tr>\n",
              "      <th>29</th>\n",
              "      <td>상급종합</td>\n",
              "      <td>서울</td>\n",
              "      <td>송파구</td>\n",
              "      <td>NaN</td>\n",
              "      <td>풍납동</td>\n",
              "      <td>풍납동</td>\n",
              "    </tr>\n",
              "    <tr>\n",
              "      <th>33</th>\n",
              "      <td>상급종합</td>\n",
              "      <td>서울</td>\n",
              "      <td>동작구</td>\n",
              "      <td>NaN</td>\n",
              "      <td>흑석동</td>\n",
              "      <td>흑석동</td>\n",
              "    </tr>\n",
              "  </tbody>\n",
              "</table>\n",
              "</div>"
            ],
            "text/plain": [
              "   Class  Si    Gu Dong     Address Address_1\n",
              "2   상급종합  서울   종로구  NaN          평동        평동\n",
              "3   상급종합  서울   광진구  NaN         화양동       화양동\n",
              "6   상급종합  서울  동대문구  NaN         회기동       회기동\n",
              "8   상급종합  서울   구로구  NaN         구로동       구로동\n",
              "15  상급종합  서울   강남구  NaN  일원동, 삼성의료원       일원동\n",
              "16  상급종합  서울   종로구  NaN         연건동       연건동\n",
              "22  상급종합  서울   강남구  NaN         도곡동       도곡동\n",
              "26  상급종합  서울   양천구  NaN          목동        목동\n",
              "29  상급종합  서울   송파구  NaN         풍납동       풍납동\n",
              "33  상급종합  서울   동작구  NaN         흑석동       흑석동"
            ]
          },
          "metadata": {
            "tags": []
          },
          "execution_count": 36
        }
      ]
    },
    {
      "cell_type": "code",
      "metadata": {
        "colab": {
          "base_uri": "https://localhost:8080/",
          "height": 1000
        },
        "id": "fv_TrbdYX2Jl",
        "outputId": "41db0549-d2d7-4478-81e3-9078bc790cd7"
      },
      "source": [
        "df2.tail(20)"
      ],
      "execution_count": null,
      "outputs": [
        {
          "output_type": "execute_result",
          "data": {
            "text/html": [
              "<div>\n",
              "<style scoped>\n",
              "    .dataframe tbody tr th:only-of-type {\n",
              "        vertical-align: middle;\n",
              "    }\n",
              "\n",
              "    .dataframe tbody tr th {\n",
              "        vertical-align: top;\n",
              "    }\n",
              "\n",
              "    .dataframe thead th {\n",
              "        text-align: right;\n",
              "    }\n",
              "</style>\n",
              "<table border=\"1\" class=\"dataframe\">\n",
              "  <thead>\n",
              "    <tr style=\"text-align: right;\">\n",
              "      <th></th>\n",
              "      <th>Class</th>\n",
              "      <th>Si</th>\n",
              "      <th>Gu</th>\n",
              "      <th>Dong</th>\n",
              "      <th>Address</th>\n",
              "      <th>Address_1</th>\n",
              "    </tr>\n",
              "  </thead>\n",
              "  <tbody>\n",
              "    <tr>\n",
              "      <th>169</th>\n",
              "      <td>종합병원</td>\n",
              "      <td>서울</td>\n",
              "      <td>영등포구</td>\n",
              "      <td>NaN</td>\n",
              "      <td>신길동, 성애병원</td>\n",
              "      <td>신길동</td>\n",
              "    </tr>\n",
              "    <tr>\n",
              "      <th>170</th>\n",
              "      <td>종합병원</td>\n",
              "      <td>서울</td>\n",
              "      <td>종로구</td>\n",
              "      <td>NaN</td>\n",
              "      <td>무악동</td>\n",
              "      <td>무악동</td>\n",
              "    </tr>\n",
              "    <tr>\n",
              "      <th>176</th>\n",
              "      <td>종합병원</td>\n",
              "      <td>서울</td>\n",
              "      <td>용산구</td>\n",
              "      <td>NaN</td>\n",
              "      <td>한남동</td>\n",
              "      <td>한남동</td>\n",
              "    </tr>\n",
              "    <tr>\n",
              "      <th>183</th>\n",
              "      <td>종합병원</td>\n",
              "      <td>서울</td>\n",
              "      <td>관악구</td>\n",
              "      <td>NaN</td>\n",
              "      <td>신림동</td>\n",
              "      <td>신림동</td>\n",
              "    </tr>\n",
              "    <tr>\n",
              "      <th>195</th>\n",
              "      <td>종합병원</td>\n",
              "      <td>서울</td>\n",
              "      <td>강서구</td>\n",
              "      <td>NaN</td>\n",
              "      <td>과해동</td>\n",
              "      <td>과해동</td>\n",
              "    </tr>\n",
              "    <tr>\n",
              "      <th>241</th>\n",
              "      <td>종합병원</td>\n",
              "      <td>서울</td>\n",
              "      <td>은평구</td>\n",
              "      <td>NaN</td>\n",
              "      <td>갈현동</td>\n",
              "      <td>갈현동</td>\n",
              "    </tr>\n",
              "    <tr>\n",
              "      <th>252</th>\n",
              "      <td>종합병원</td>\n",
              "      <td>서울</td>\n",
              "      <td>서대문구</td>\n",
              "      <td>NaN</td>\n",
              "      <td>홍은동</td>\n",
              "      <td>홍은동</td>\n",
              "    </tr>\n",
              "    <tr>\n",
              "      <th>265</th>\n",
              "      <td>종합병원</td>\n",
              "      <td>서울</td>\n",
              "      <td>강북구</td>\n",
              "      <td>NaN</td>\n",
              "      <td>수유동, 대한병원</td>\n",
              "      <td>수유동</td>\n",
              "    </tr>\n",
              "    <tr>\n",
              "      <th>279</th>\n",
              "      <td>종합병원</td>\n",
              "      <td>서울</td>\n",
              "      <td>중랑구</td>\n",
              "      <td>NaN</td>\n",
              "      <td>망우동, 동부제일병원</td>\n",
              "      <td>망우동</td>\n",
              "    </tr>\n",
              "    <tr>\n",
              "      <th>283</th>\n",
              "      <td>종합병원</td>\n",
              "      <td>서울</td>\n",
              "      <td>도봉구</td>\n",
              "      <td>NaN</td>\n",
              "      <td>쌍문동</td>\n",
              "      <td>쌍문동</td>\n",
              "    </tr>\n",
              "    <tr>\n",
              "      <th>290</th>\n",
              "      <td>종합병원</td>\n",
              "      <td>서울</td>\n",
              "      <td>강서구</td>\n",
              "      <td>NaN</td>\n",
              "      <td>마곡동</td>\n",
              "      <td>마곡동</td>\n",
              "    </tr>\n",
              "    <tr>\n",
              "      <th>293</th>\n",
              "      <td>종합병원</td>\n",
              "      <td>서울</td>\n",
              "      <td>노원구</td>\n",
              "      <td>NaN</td>\n",
              "      <td>상계동</td>\n",
              "      <td>상계동</td>\n",
              "    </tr>\n",
              "    <tr>\n",
              "      <th>294</th>\n",
              "      <td>종합병원</td>\n",
              "      <td>서울</td>\n",
              "      <td>중구</td>\n",
              "      <td>NaN</td>\n",
              "      <td>저동2가</td>\n",
              "      <td>저동2가</td>\n",
              "    </tr>\n",
              "    <tr>\n",
              "      <th>319</th>\n",
              "      <td>종합병원</td>\n",
              "      <td>서울</td>\n",
              "      <td>강남구</td>\n",
              "      <td>NaN</td>\n",
              "      <td>역삼동650-9, 606-4, 605외2필지(지하7층~지하1층, 지상2층~7층)) ...</td>\n",
              "      <td>역삼동650-9</td>\n",
              "    </tr>\n",
              "    <tr>\n",
              "      <th>344</th>\n",
              "      <td>종합병원</td>\n",
              "      <td>서울</td>\n",
              "      <td>강동구</td>\n",
              "      <td>NaN</td>\n",
              "      <td>둔촌동</td>\n",
              "      <td>둔촌동</td>\n",
              "    </tr>\n",
              "    <tr>\n",
              "      <th>345</th>\n",
              "      <td>종합병원</td>\n",
              "      <td>서울</td>\n",
              "      <td>노원구</td>\n",
              "      <td>NaN</td>\n",
              "      <td>공릉동</td>\n",
              "      <td>공릉동</td>\n",
              "    </tr>\n",
              "    <tr>\n",
              "      <th>346</th>\n",
              "      <td>종합병원</td>\n",
              "      <td>서울</td>\n",
              "      <td>영등포구</td>\n",
              "      <td>NaN</td>\n",
              "      <td>대림동, 강남성심병원</td>\n",
              "      <td>대림동</td>\n",
              "    </tr>\n",
              "    <tr>\n",
              "      <th>347</th>\n",
              "      <td>종합병원</td>\n",
              "      <td>서울</td>\n",
              "      <td>영등포구</td>\n",
              "      <td>NaN</td>\n",
              "      <td>영등포동7가, 한강성심병원</td>\n",
              "      <td>영등포동7가</td>\n",
              "    </tr>\n",
              "    <tr>\n",
              "      <th>358</th>\n",
              "      <td>종합병원</td>\n",
              "      <td>서울</td>\n",
              "      <td>광진구</td>\n",
              "      <td>NaN</td>\n",
              "      <td>자양동</td>\n",
              "      <td>자양동</td>\n",
              "    </tr>\n",
              "    <tr>\n",
              "      <th>363</th>\n",
              "      <td>종합병원</td>\n",
              "      <td>서울</td>\n",
              "      <td>금천구</td>\n",
              "      <td>NaN</td>\n",
              "      <td>시흥동</td>\n",
              "      <td>시흥동</td>\n",
              "    </tr>\n",
              "  </tbody>\n",
              "</table>\n",
              "</div>"
            ],
            "text/plain": [
              "    Class  Si  ...                                            Address Address_1\n",
              "169  종합병원  서울  ...                                          신길동, 성애병원       신길동\n",
              "170  종합병원  서울  ...                                                무악동       무악동\n",
              "176  종합병원  서울  ...                                                한남동       한남동\n",
              "183  종합병원  서울  ...                                                신림동       신림동\n",
              "195  종합병원  서울  ...                                                과해동       과해동\n",
              "241  종합병원  서울  ...                                                갈현동       갈현동\n",
              "252  종합병원  서울  ...                                                홍은동       홍은동\n",
              "265  종합병원  서울  ...                                          수유동, 대한병원       수유동\n",
              "279  종합병원  서울  ...                                        망우동, 동부제일병원       망우동\n",
              "283  종합병원  서울  ...                                                쌍문동       쌍문동\n",
              "290  종합병원  서울  ...                                                마곡동       마곡동\n",
              "293  종합병원  서울  ...                                                상계동       상계동\n",
              "294  종합병원  서울  ...                                               저동2가      저동2가\n",
              "319  종합병원  서울  ...  역삼동650-9, 606-4, 605외2필지(지하7층~지하1층, 지상2층~7층)) ...  역삼동650-9\n",
              "344  종합병원  서울  ...                                                둔촌동       둔촌동\n",
              "345  종합병원  서울  ...                                                공릉동       공릉동\n",
              "346  종합병원  서울  ...                                        대림동, 강남성심병원       대림동\n",
              "347  종합병원  서울  ...                                     영등포동7가, 한강성심병원    영등포동7가\n",
              "358  종합병원  서울  ...                                                자양동       자양동\n",
              "363  종합병원  서울  ...                                                시흥동       시흥동\n",
              "\n",
              "[20 rows x 6 columns]"
            ]
          },
          "metadata": {
            "tags": []
          },
          "execution_count": 37
        }
      ]
    },
    {
      "cell_type": "code",
      "metadata": {
        "colab": {
          "base_uri": "https://localhost:8080/"
        },
        "id": "gJ2JY34DXrJ3",
        "outputId": "5c03c90d-b427-4e02-93da-b7df7149adee"
      },
      "source": [
        "df2.loc[319,'Address_1']='역삼동'"
      ],
      "execution_count": null,
      "outputs": [
        {
          "output_type": "stream",
          "text": [
            "/usr/local/lib/python3.7/dist-packages/pandas/core/indexing.py:670: SettingWithCopyWarning: \n",
            "A value is trying to be set on a copy of a slice from a DataFrame\n",
            "\n",
            "See the caveats in the documentation: https://pandas.pydata.org/pandas-docs/stable/user_guide/indexing.html#returning-a-view-versus-a-copy\n",
            "  iloc._setitem_with_indexer(indexer, value)\n",
            "/usr/local/lib/python3.7/dist-packages/ipykernel_launcher.py:1: SettingWithCopyWarning: \n",
            "A value is trying to be set on a copy of a slice from a DataFrame\n",
            "\n",
            "See the caveats in the documentation: https://pandas.pydata.org/pandas-docs/stable/user_guide/indexing.html#returning-a-view-versus-a-copy\n",
            "  \"\"\"Entry point for launching an IPython kernel.\n"
          ],
          "name": "stderr"
        }
      ]
    },
    {
      "cell_type": "code",
      "metadata": {
        "colab": {
          "base_uri": "https://localhost:8080/"
        },
        "id": "DQrNkyZSa-ba",
        "outputId": "665906ce-3df9-4602-f202-0c2c4f8785fd"
      },
      "source": [
        "df2.loc[319]"
      ],
      "execution_count": null,
      "outputs": [
        {
          "output_type": "execute_result",
          "data": {
            "text/plain": [
              "Class                                                     종합병원\n",
              "Si                                                          서울\n",
              "Gu                                                         강남구\n",
              "Dong                                                       NaN\n",
              "Address      역삼동650-9, 606-4, 605외2필지(지하7층~지하1층, 지상2층~7층)) ...\n",
              "Address_1                                                  역삼동\n",
              "Name: 319, dtype: object"
            ]
          },
          "metadata": {
            "tags": []
          },
          "execution_count": 39
        }
      ]
    },
    {
      "cell_type": "code",
      "metadata": {
        "colab": {
          "base_uri": "https://localhost:8080/"
        },
        "id": "udba6QHybCjl",
        "outputId": "aa171a59-c643-4c34-ece8-2f50d1b852f5"
      },
      "source": [
        "df2.Address_1.value_counts()"
      ],
      "execution_count": null,
      "outputs": [
        {
          "output_type": "execute_result",
          "data": {
            "text/plain": [
              "대림동       3\n",
              "평동        2\n",
              "무악동       1\n",
              "안암동5가     1\n",
              "신촌동       1\n",
              "일원동       1\n",
              "신길동       1\n",
              "도곡동       1\n",
              "한남동       1\n",
              "신림동       1\n",
              "역삼동       1\n",
              "둔촌동       1\n",
              "구로동       1\n",
              "망우동       1\n",
              "목동        1\n",
              "수유동       1\n",
              "고척동       1\n",
              "연건동       1\n",
              "신정동       1\n",
              "용두동       1\n",
              "흑석동       1\n",
              "길동        1\n",
              "저동2가      1\n",
              "반포동       1\n",
              "휘경동       1\n",
              "사근동       1\n",
              "하계동       1\n",
              "회기동       1\n",
              "영등포동7가    1\n",
              "쌍문동       1\n",
              "갈현동       1\n",
              "진관동       1\n",
              "홍은동       1\n",
              "공릉동       1\n",
              "내발산동      1\n",
              "등촌동       1\n",
              "을지로6가     1\n",
              "시흥동       1\n",
              "여의도동      1\n",
              "가락동       1\n",
              "신내동       1\n",
              "신대방동      1\n",
              "상계동       1\n",
              "과해동       1\n",
              "상일동       1\n",
              "마곡동       1\n",
              "풍납동       1\n",
              "자양동       1\n",
              "면목동       1\n",
              "화양동       1\n",
              "청량리동      1\n",
              "Name: Address_1, dtype: int64"
            ]
          },
          "metadata": {
            "tags": []
          },
          "execution_count": 40
        }
      ]
    },
    {
      "cell_type": "code",
      "metadata": {
        "colab": {
          "base_uri": "https://localhost:8080/",
          "height": 332
        },
        "id": "BkHiPtIZbJ9J",
        "outputId": "1013f881-c6c6-43d8-98d1-18dab86c346a"
      },
      "source": [
        "df2.Dong = df2.Address_1\n",
        "df2.head()"
      ],
      "execution_count": null,
      "outputs": [
        {
          "output_type": "stream",
          "text": [
            "/usr/local/lib/python3.7/dist-packages/pandas/core/generic.py:5170: SettingWithCopyWarning: \n",
            "A value is trying to be set on a copy of a slice from a DataFrame.\n",
            "Try using .loc[row_indexer,col_indexer] = value instead\n",
            "\n",
            "See the caveats in the documentation: https://pandas.pydata.org/pandas-docs/stable/user_guide/indexing.html#returning-a-view-versus-a-copy\n",
            "  self[name] = value\n"
          ],
          "name": "stderr"
        },
        {
          "output_type": "execute_result",
          "data": {
            "text/html": [
              "<div>\n",
              "<style scoped>\n",
              "    .dataframe tbody tr th:only-of-type {\n",
              "        vertical-align: middle;\n",
              "    }\n",
              "\n",
              "    .dataframe tbody tr th {\n",
              "        vertical-align: top;\n",
              "    }\n",
              "\n",
              "    .dataframe thead th {\n",
              "        text-align: right;\n",
              "    }\n",
              "</style>\n",
              "<table border=\"1\" class=\"dataframe\">\n",
              "  <thead>\n",
              "    <tr style=\"text-align: right;\">\n",
              "      <th></th>\n",
              "      <th>Class</th>\n",
              "      <th>Si</th>\n",
              "      <th>Gu</th>\n",
              "      <th>Dong</th>\n",
              "      <th>Address</th>\n",
              "      <th>Address_1</th>\n",
              "    </tr>\n",
              "  </thead>\n",
              "  <tbody>\n",
              "    <tr>\n",
              "      <th>2</th>\n",
              "      <td>상급종합</td>\n",
              "      <td>서울</td>\n",
              "      <td>종로구</td>\n",
              "      <td>평동</td>\n",
              "      <td>평동</td>\n",
              "      <td>평동</td>\n",
              "    </tr>\n",
              "    <tr>\n",
              "      <th>3</th>\n",
              "      <td>상급종합</td>\n",
              "      <td>서울</td>\n",
              "      <td>광진구</td>\n",
              "      <td>화양동</td>\n",
              "      <td>화양동</td>\n",
              "      <td>화양동</td>\n",
              "    </tr>\n",
              "    <tr>\n",
              "      <th>6</th>\n",
              "      <td>상급종합</td>\n",
              "      <td>서울</td>\n",
              "      <td>동대문구</td>\n",
              "      <td>회기동</td>\n",
              "      <td>회기동</td>\n",
              "      <td>회기동</td>\n",
              "    </tr>\n",
              "    <tr>\n",
              "      <th>8</th>\n",
              "      <td>상급종합</td>\n",
              "      <td>서울</td>\n",
              "      <td>구로구</td>\n",
              "      <td>구로동</td>\n",
              "      <td>구로동</td>\n",
              "      <td>구로동</td>\n",
              "    </tr>\n",
              "    <tr>\n",
              "      <th>15</th>\n",
              "      <td>상급종합</td>\n",
              "      <td>서울</td>\n",
              "      <td>강남구</td>\n",
              "      <td>일원동</td>\n",
              "      <td>일원동, 삼성의료원</td>\n",
              "      <td>일원동</td>\n",
              "    </tr>\n",
              "  </tbody>\n",
              "</table>\n",
              "</div>"
            ],
            "text/plain": [
              "   Class  Si    Gu Dong     Address Address_1\n",
              "2   상급종합  서울   종로구   평동          평동        평동\n",
              "3   상급종합  서울   광진구  화양동         화양동       화양동\n",
              "6   상급종합  서울  동대문구  회기동         회기동       회기동\n",
              "8   상급종합  서울   구로구  구로동         구로동       구로동\n",
              "15  상급종합  서울   강남구  일원동  일원동, 삼성의료원       일원동"
            ]
          },
          "metadata": {
            "tags": []
          },
          "execution_count": 41
        }
      ]
    },
    {
      "cell_type": "code",
      "metadata": {
        "colab": {
          "base_uri": "https://localhost:8080/"
        },
        "id": "vO6junRHbcxB",
        "outputId": "9afe2df5-c091-455f-a6c3-1498b4926d76"
      },
      "source": [
        "df2.drop(['Address','Address_1'],axis=1,inplace=True)"
      ],
      "execution_count": null,
      "outputs": [
        {
          "output_type": "stream",
          "text": [
            "/usr/local/lib/python3.7/dist-packages/pandas/core/frame.py:4174: SettingWithCopyWarning: \n",
            "A value is trying to be set on a copy of a slice from a DataFrame\n",
            "\n",
            "See the caveats in the documentation: https://pandas.pydata.org/pandas-docs/stable/user_guide/indexing.html#returning-a-view-versus-a-copy\n",
            "  errors=errors,\n"
          ],
          "name": "stderr"
        }
      ]
    },
    {
      "cell_type": "code",
      "metadata": {
        "colab": {
          "base_uri": "https://localhost:8080/",
          "height": 204
        },
        "id": "4ztTY9fJbwIA",
        "outputId": "edd10b51-fa3f-49a8-b62b-2fa6e445369a"
      },
      "source": [
        "df2.head()"
      ],
      "execution_count": null,
      "outputs": [
        {
          "output_type": "execute_result",
          "data": {
            "text/html": [
              "<div>\n",
              "<style scoped>\n",
              "    .dataframe tbody tr th:only-of-type {\n",
              "        vertical-align: middle;\n",
              "    }\n",
              "\n",
              "    .dataframe tbody tr th {\n",
              "        vertical-align: top;\n",
              "    }\n",
              "\n",
              "    .dataframe thead th {\n",
              "        text-align: right;\n",
              "    }\n",
              "</style>\n",
              "<table border=\"1\" class=\"dataframe\">\n",
              "  <thead>\n",
              "    <tr style=\"text-align: right;\">\n",
              "      <th></th>\n",
              "      <th>Class</th>\n",
              "      <th>Si</th>\n",
              "      <th>Gu</th>\n",
              "      <th>Dong</th>\n",
              "    </tr>\n",
              "  </thead>\n",
              "  <tbody>\n",
              "    <tr>\n",
              "      <th>2</th>\n",
              "      <td>상급종합</td>\n",
              "      <td>서울</td>\n",
              "      <td>종로구</td>\n",
              "      <td>평동</td>\n",
              "    </tr>\n",
              "    <tr>\n",
              "      <th>3</th>\n",
              "      <td>상급종합</td>\n",
              "      <td>서울</td>\n",
              "      <td>광진구</td>\n",
              "      <td>화양동</td>\n",
              "    </tr>\n",
              "    <tr>\n",
              "      <th>6</th>\n",
              "      <td>상급종합</td>\n",
              "      <td>서울</td>\n",
              "      <td>동대문구</td>\n",
              "      <td>회기동</td>\n",
              "    </tr>\n",
              "    <tr>\n",
              "      <th>8</th>\n",
              "      <td>상급종합</td>\n",
              "      <td>서울</td>\n",
              "      <td>구로구</td>\n",
              "      <td>구로동</td>\n",
              "    </tr>\n",
              "    <tr>\n",
              "      <th>15</th>\n",
              "      <td>상급종합</td>\n",
              "      <td>서울</td>\n",
              "      <td>강남구</td>\n",
              "      <td>일원동</td>\n",
              "    </tr>\n",
              "  </tbody>\n",
              "</table>\n",
              "</div>"
            ],
            "text/plain": [
              "   Class  Si    Gu Dong\n",
              "2   상급종합  서울   종로구   평동\n",
              "3   상급종합  서울   광진구  화양동\n",
              "6   상급종합  서울  동대문구  회기동\n",
              "8   상급종합  서울   구로구  구로동\n",
              "15  상급종합  서울   강남구  일원동"
            ]
          },
          "metadata": {
            "tags": []
          },
          "execution_count": 43
        }
      ]
    },
    {
      "cell_type": "code",
      "metadata": {
        "colab": {
          "base_uri": "https://localhost:8080/",
          "height": 145
        },
        "id": "ZTMJIkXdbybh",
        "outputId": "9c941d9e-b3b4-4464-a562-ccbfa2f83a0c"
      },
      "source": [
        "df1.head()"
      ],
      "execution_count": null,
      "outputs": [
        {
          "output_type": "execute_result",
          "data": {
            "text/html": [
              "<div>\n",
              "<style scoped>\n",
              "    .dataframe tbody tr th:only-of-type {\n",
              "        vertical-align: middle;\n",
              "    }\n",
              "\n",
              "    .dataframe tbody tr th {\n",
              "        vertical-align: top;\n",
              "    }\n",
              "\n",
              "    .dataframe thead th {\n",
              "        text-align: right;\n",
              "    }\n",
              "</style>\n",
              "<table border=\"1\" class=\"dataframe\">\n",
              "  <thead>\n",
              "    <tr style=\"text-align: right;\">\n",
              "      <th></th>\n",
              "      <th>Class</th>\n",
              "      <th>Si</th>\n",
              "      <th>Gu</th>\n",
              "      <th>Dong</th>\n",
              "      <th>Address</th>\n",
              "    </tr>\n",
              "  </thead>\n",
              "  <tbody>\n",
              "    <tr>\n",
              "      <th>178</th>\n",
              "      <td>종합병원</td>\n",
              "      <td>서울</td>\n",
              "      <td>영등포구</td>\n",
              "      <td>영등포동4가</td>\n",
              "      <td>서울특별시 영등포구 영등포로36길 13 (영등포동4가, 충무병원),  문래로 187...</td>\n",
              "    </tr>\n",
              "    <tr>\n",
              "      <th>359</th>\n",
              "      <td>종합병원</td>\n",
              "      <td>서울</td>\n",
              "      <td>양천구</td>\n",
              "      <td>신정동</td>\n",
              "      <td>서울특별시 양천구 목동로 225 홍익병원본관 (신정동)</td>\n",
              "    </tr>\n",
              "  </tbody>\n",
              "</table>\n",
              "</div>"
            ],
            "text/plain": [
              "    Class  Si    Gu    Dong                                            Address\n",
              "178  종합병원  서울  영등포구  영등포동4가  서울특별시 영등포구 영등포로36길 13 (영등포동4가, 충무병원),  문래로 187...\n",
              "359  종합병원  서울   양천구     신정동                     서울특별시 양천구 목동로 225 홍익병원본관 (신정동)"
            ]
          },
          "metadata": {
            "tags": []
          },
          "execution_count": 44
        }
      ]
    },
    {
      "cell_type": "code",
      "metadata": {
        "colab": {
          "base_uri": "https://localhost:8080/"
        },
        "id": "1wssH7oTb2zY",
        "outputId": "4648bc70-25bf-4e93-c526-728e46e09bb8"
      },
      "source": [
        "df1.drop('Address',axis=1,inplace=True)"
      ],
      "execution_count": null,
      "outputs": [
        {
          "output_type": "stream",
          "text": [
            "/usr/local/lib/python3.7/dist-packages/pandas/core/frame.py:4174: SettingWithCopyWarning: \n",
            "A value is trying to be set on a copy of a slice from a DataFrame\n",
            "\n",
            "See the caveats in the documentation: https://pandas.pydata.org/pandas-docs/stable/user_guide/indexing.html#returning-a-view-versus-a-copy\n",
            "  errors=errors,\n"
          ],
          "name": "stderr"
        }
      ]
    },
    {
      "cell_type": "code",
      "metadata": {
        "id": "aC1v6SP0b9Q6"
      },
      "source": [
        "df=df1.append(df2)"
      ],
      "execution_count": null,
      "outputs": []
    },
    {
      "cell_type": "code",
      "metadata": {
        "colab": {
          "base_uri": "https://localhost:8080/"
        },
        "id": "3daBxFA8cBoR",
        "outputId": "7ce02cae-9f84-451d-8f86-5917d0a4c7fb"
      },
      "source": [
        "df.count()"
      ],
      "execution_count": null,
      "outputs": [
        {
          "output_type": "execute_result",
          "data": {
            "text/plain": [
              "Class    56\n",
              "Si       56\n",
              "Gu       56\n",
              "Dong     56\n",
              "dtype: int64"
            ]
          },
          "metadata": {
            "tags": []
          },
          "execution_count": 47
        }
      ]
    },
    {
      "cell_type": "code",
      "metadata": {
        "id": "wLS5JxS_cmqU"
      },
      "source": [
        "df.drop('Class',axis=1,inplace=True)"
      ],
      "execution_count": null,
      "outputs": []
    },
    {
      "cell_type": "code",
      "metadata": {
        "id": "r_27HrbjcH-B"
      },
      "source": [
        "hospital = df.groupby(['Gu','Dong']).count()"
      ],
      "execution_count": null,
      "outputs": []
    },
    {
      "cell_type": "code",
      "metadata": {
        "id": "rY2KbskGcSdA"
      },
      "source": [
        "hospital.columns=['Hospital']"
      ],
      "execution_count": null,
      "outputs": []
    },
    {
      "cell_type": "code",
      "metadata": {
        "colab": {
          "base_uri": "https://localhost:8080/",
          "height": 1000
        },
        "id": "qKFJluzvc1xg",
        "outputId": "2963f915-c85d-428b-c666-11b5dab56343"
      },
      "source": [
        "hospital"
      ],
      "execution_count": null,
      "outputs": [
        {
          "output_type": "execute_result",
          "data": {
            "text/html": [
              "<div>\n",
              "<style scoped>\n",
              "    .dataframe tbody tr th:only-of-type {\n",
              "        vertical-align: middle;\n",
              "    }\n",
              "\n",
              "    .dataframe tbody tr th {\n",
              "        vertical-align: top;\n",
              "    }\n",
              "\n",
              "    .dataframe thead th {\n",
              "        text-align: right;\n",
              "    }\n",
              "</style>\n",
              "<table border=\"1\" class=\"dataframe\">\n",
              "  <thead>\n",
              "    <tr style=\"text-align: right;\">\n",
              "      <th></th>\n",
              "      <th></th>\n",
              "      <th>Hospital</th>\n",
              "    </tr>\n",
              "    <tr>\n",
              "      <th>Gu</th>\n",
              "      <th>Dong</th>\n",
              "      <th></th>\n",
              "    </tr>\n",
              "  </thead>\n",
              "  <tbody>\n",
              "    <tr>\n",
              "      <th rowspan=\"3\" valign=\"top\">강남구</th>\n",
              "      <th>도곡동</th>\n",
              "      <td>1</td>\n",
              "    </tr>\n",
              "    <tr>\n",
              "      <th>역삼동</th>\n",
              "      <td>1</td>\n",
              "    </tr>\n",
              "    <tr>\n",
              "      <th>일원동</th>\n",
              "      <td>1</td>\n",
              "    </tr>\n",
              "    <tr>\n",
              "      <th rowspan=\"3\" valign=\"top\">강동구</th>\n",
              "      <th>길동</th>\n",
              "      <td>1</td>\n",
              "    </tr>\n",
              "    <tr>\n",
              "      <th>둔촌동</th>\n",
              "      <td>1</td>\n",
              "    </tr>\n",
              "    <tr>\n",
              "      <th>상일동</th>\n",
              "      <td>1</td>\n",
              "    </tr>\n",
              "    <tr>\n",
              "      <th>강북구</th>\n",
              "      <th>수유동</th>\n",
              "      <td>1</td>\n",
              "    </tr>\n",
              "    <tr>\n",
              "      <th rowspan=\"4\" valign=\"top\">강서구</th>\n",
              "      <th>과해동</th>\n",
              "      <td>1</td>\n",
              "    </tr>\n",
              "    <tr>\n",
              "      <th>내발산동</th>\n",
              "      <td>1</td>\n",
              "    </tr>\n",
              "    <tr>\n",
              "      <th>등촌동</th>\n",
              "      <td>1</td>\n",
              "    </tr>\n",
              "    <tr>\n",
              "      <th>마곡동</th>\n",
              "      <td>1</td>\n",
              "    </tr>\n",
              "    <tr>\n",
              "      <th>관악구</th>\n",
              "      <th>신림동</th>\n",
              "      <td>1</td>\n",
              "    </tr>\n",
              "    <tr>\n",
              "      <th rowspan=\"2\" valign=\"top\">광진구</th>\n",
              "      <th>자양동</th>\n",
              "      <td>1</td>\n",
              "    </tr>\n",
              "    <tr>\n",
              "      <th>화양동</th>\n",
              "      <td>1</td>\n",
              "    </tr>\n",
              "    <tr>\n",
              "      <th rowspan=\"2\" valign=\"top\">구로구</th>\n",
              "      <th>고척동</th>\n",
              "      <td>1</td>\n",
              "    </tr>\n",
              "    <tr>\n",
              "      <th>구로동</th>\n",
              "      <td>1</td>\n",
              "    </tr>\n",
              "    <tr>\n",
              "      <th>금천구</th>\n",
              "      <th>시흥동</th>\n",
              "      <td>1</td>\n",
              "    </tr>\n",
              "    <tr>\n",
              "      <th rowspan=\"3\" valign=\"top\">노원구</th>\n",
              "      <th>공릉동</th>\n",
              "      <td>1</td>\n",
              "    </tr>\n",
              "    <tr>\n",
              "      <th>상계동</th>\n",
              "      <td>1</td>\n",
              "    </tr>\n",
              "    <tr>\n",
              "      <th>하계동</th>\n",
              "      <td>1</td>\n",
              "    </tr>\n",
              "    <tr>\n",
              "      <th>도봉구</th>\n",
              "      <th>쌍문동</th>\n",
              "      <td>1</td>\n",
              "    </tr>\n",
              "    <tr>\n",
              "      <th rowspan=\"4\" valign=\"top\">동대문구</th>\n",
              "      <th>용두동</th>\n",
              "      <td>1</td>\n",
              "    </tr>\n",
              "    <tr>\n",
              "      <th>청량리동</th>\n",
              "      <td>1</td>\n",
              "    </tr>\n",
              "    <tr>\n",
              "      <th>회기동</th>\n",
              "      <td>1</td>\n",
              "    </tr>\n",
              "    <tr>\n",
              "      <th>휘경동</th>\n",
              "      <td>1</td>\n",
              "    </tr>\n",
              "    <tr>\n",
              "      <th rowspan=\"2\" valign=\"top\">동작구</th>\n",
              "      <th>신대방동</th>\n",
              "      <td>1</td>\n",
              "    </tr>\n",
              "    <tr>\n",
              "      <th>흑석동</th>\n",
              "      <td>1</td>\n",
              "    </tr>\n",
              "    <tr>\n",
              "      <th rowspan=\"2\" valign=\"top\">서대문구</th>\n",
              "      <th>신촌동</th>\n",
              "      <td>1</td>\n",
              "    </tr>\n",
              "    <tr>\n",
              "      <th>홍은동</th>\n",
              "      <td>1</td>\n",
              "    </tr>\n",
              "    <tr>\n",
              "      <th>서초구</th>\n",
              "      <th>반포동</th>\n",
              "      <td>1</td>\n",
              "    </tr>\n",
              "    <tr>\n",
              "      <th>성동구</th>\n",
              "      <th>사근동</th>\n",
              "      <td>1</td>\n",
              "    </tr>\n",
              "    <tr>\n",
              "      <th>성북구</th>\n",
              "      <th>안암동5가</th>\n",
              "      <td>1</td>\n",
              "    </tr>\n",
              "    <tr>\n",
              "      <th rowspan=\"2\" valign=\"top\">송파구</th>\n",
              "      <th>가락동</th>\n",
              "      <td>1</td>\n",
              "    </tr>\n",
              "    <tr>\n",
              "      <th>풍납동</th>\n",
              "      <td>1</td>\n",
              "    </tr>\n",
              "    <tr>\n",
              "      <th rowspan=\"2\" valign=\"top\">양천구</th>\n",
              "      <th>목동</th>\n",
              "      <td>1</td>\n",
              "    </tr>\n",
              "    <tr>\n",
              "      <th>신정동</th>\n",
              "      <td>2</td>\n",
              "    </tr>\n",
              "    <tr>\n",
              "      <th rowspan=\"5\" valign=\"top\">영등포구</th>\n",
              "      <th>대림동</th>\n",
              "      <td>3</td>\n",
              "    </tr>\n",
              "    <tr>\n",
              "      <th>신길동</th>\n",
              "      <td>1</td>\n",
              "    </tr>\n",
              "    <tr>\n",
              "      <th>여의도동</th>\n",
              "      <td>1</td>\n",
              "    </tr>\n",
              "    <tr>\n",
              "      <th>영등포동4가</th>\n",
              "      <td>1</td>\n",
              "    </tr>\n",
              "    <tr>\n",
              "      <th>영등포동7가</th>\n",
              "      <td>1</td>\n",
              "    </tr>\n",
              "    <tr>\n",
              "      <th>용산구</th>\n",
              "      <th>한남동</th>\n",
              "      <td>1</td>\n",
              "    </tr>\n",
              "    <tr>\n",
              "      <th rowspan=\"2\" valign=\"top\">은평구</th>\n",
              "      <th>갈현동</th>\n",
              "      <td>1</td>\n",
              "    </tr>\n",
              "    <tr>\n",
              "      <th>진관동</th>\n",
              "      <td>1</td>\n",
              "    </tr>\n",
              "    <tr>\n",
              "      <th rowspan=\"3\" valign=\"top\">종로구</th>\n",
              "      <th>무악동</th>\n",
              "      <td>1</td>\n",
              "    </tr>\n",
              "    <tr>\n",
              "      <th>연건동</th>\n",
              "      <td>1</td>\n",
              "    </tr>\n",
              "    <tr>\n",
              "      <th>평동</th>\n",
              "      <td>2</td>\n",
              "    </tr>\n",
              "    <tr>\n",
              "      <th rowspan=\"2\" valign=\"top\">중구</th>\n",
              "      <th>을지로6가</th>\n",
              "      <td>1</td>\n",
              "    </tr>\n",
              "    <tr>\n",
              "      <th>저동2가</th>\n",
              "      <td>1</td>\n",
              "    </tr>\n",
              "    <tr>\n",
              "      <th rowspan=\"3\" valign=\"top\">중랑구</th>\n",
              "      <th>망우동</th>\n",
              "      <td>1</td>\n",
              "    </tr>\n",
              "    <tr>\n",
              "      <th>면목동</th>\n",
              "      <td>1</td>\n",
              "    </tr>\n",
              "    <tr>\n",
              "      <th>신내동</th>\n",
              "      <td>1</td>\n",
              "    </tr>\n",
              "  </tbody>\n",
              "</table>\n",
              "</div>"
            ],
            "text/plain": [
              "             Hospital\n",
              "Gu   Dong            \n",
              "강남구  도곡동            1\n",
              "     역삼동            1\n",
              "     일원동            1\n",
              "강동구  길동             1\n",
              "     둔촌동            1\n",
              "     상일동            1\n",
              "강북구  수유동            1\n",
              "강서구  과해동            1\n",
              "     내발산동           1\n",
              "     등촌동            1\n",
              "     마곡동            1\n",
              "관악구  신림동            1\n",
              "광진구  자양동            1\n",
              "     화양동            1\n",
              "구로구  고척동            1\n",
              "     구로동            1\n",
              "금천구  시흥동            1\n",
              "노원구  공릉동            1\n",
              "     상계동            1\n",
              "     하계동            1\n",
              "도봉구  쌍문동            1\n",
              "동대문구 용두동            1\n",
              "     청량리동           1\n",
              "     회기동            1\n",
              "     휘경동            1\n",
              "동작구  신대방동           1\n",
              "     흑석동            1\n",
              "서대문구 신촌동            1\n",
              "     홍은동            1\n",
              "서초구  반포동            1\n",
              "성동구  사근동            1\n",
              "성북구  안암동5가          1\n",
              "송파구  가락동            1\n",
              "     풍납동            1\n",
              "양천구  목동             1\n",
              "     신정동            2\n",
              "영등포구 대림동            3\n",
              "     신길동            1\n",
              "     여의도동           1\n",
              "     영등포동4가         1\n",
              "     영등포동7가         1\n",
              "용산구  한남동            1\n",
              "은평구  갈현동            1\n",
              "     진관동            1\n",
              "종로구  무악동            1\n",
              "     연건동            1\n",
              "     평동             2\n",
              "중구   을지로6가          1\n",
              "     저동2가           1\n",
              "중랑구  망우동            1\n",
              "     면목동            1\n",
              "     신내동            1"
            ]
          },
          "metadata": {
            "tags": []
          },
          "execution_count": 51
        }
      ]
    },
    {
      "cell_type": "code",
      "metadata": {
        "id": "Nbx4xnZ0c-S8"
      },
      "source": [
        "hospital.to_csv('/content/drive/MyDrive/Colab Notebooks/apart/hospital.csv')"
      ],
      "execution_count": null,
      "outputs": []
    },
    {
      "cell_type": "code",
      "metadata": {
        "id": "sC156jlbdUHK"
      },
      "source": [
        ""
      ],
      "execution_count": null,
      "outputs": []
    }
  ]
}