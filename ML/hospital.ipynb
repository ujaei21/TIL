{
  "nbformat": 4,
  "nbformat_minor": 0,
  "metadata": {
    "colab": {
      "name": "hospital.ipynb",
      "private_outputs": true,
      "provenance": []
    },
    "kernelspec": {
      "name": "python3",
      "display_name": "Python 3"
    },
    "language_info": {
      "name": "python"
    }
  },
  "cells": [
    {
      "cell_type": "code",
      "metadata": {
        "id": "AA3ugo6JgCVT"
      },
      "source": [
        "from google.colab import drive\n",
        "drive.mount('/content/drive')"
      ],
      "execution_count": null,
      "outputs": []
    },
    {
      "cell_type": "code",
      "metadata": {
        "id": "VYXk6C8Wfsty"
      },
      "source": [
        "import pandas as pd\n",
        "path = '/content/drive/MyDrive/Colab Notebooks/apart'"
      ],
      "execution_count": null,
      "outputs": []
    },
    {
      "cell_type": "code",
      "metadata": {
        "id": "We5CWRu3eqdT"
      },
      "source": [
        "hos = pd.read_csv(path + '/hospital.csv')\n",
        "hos.head()"
      ],
      "execution_count": null,
      "outputs": []
    },
    {
      "cell_type": "code",
      "metadata": {
        "id": "9yLc9kdefUCC"
      },
      "source": [
        "df_new = pd.read_csv(path + '/seoul_3.csv')\n",
        "df_new.head()"
      ],
      "execution_count": null,
      "outputs": []
    },
    {
      "cell_type": "code",
      "metadata": {
        "id": "0Hsd598Mfefv"
      },
      "source": [
        "hos.columns=['gu','dong','Hospital']"
      ],
      "execution_count": null,
      "outputs": []
    },
    {
      "cell_type": "code",
      "metadata": {
        "id": "KT8fPicNfonY"
      },
      "source": [
        "df_hos=pd.merge(df_new,hos,on=['gu','dong'],how='left')\n",
        "df_hos.Hospital.fillna(0,inplace=True)"
      ],
      "execution_count": null,
      "outputs": []
    },
    {
      "cell_type": "code",
      "metadata": {
        "id": "LieNmiGdf4Jz"
      },
      "source": [
        "df_hos.Hospital.value_counts()"
      ],
      "execution_count": null,
      "outputs": []
    },
    {
      "cell_type": "code",
      "metadata": {
        "id": "GPSO8kTef5XP"
      },
      "source": [
        "for i in range(len(df_hos.Hospital)):\n",
        "    if df_hos.Hospital.iloc[i] == 0:\n",
        "        df_hos.Hospital.iloc[i] = 0\n",
        "    else:\n",
        "        df_hos.Hospital.iloc[i] = 1"
      ],
      "execution_count": null,
      "outputs": []
    },
    {
      "cell_type": "code",
      "metadata": {
        "id": "wlqz6XvigbpI"
      },
      "source": [
        "squar = pd.read_csv(path+'/구별 면적금액.csv')"
      ],
      "execution_count": null,
      "outputs": []
    },
    {
      "cell_type": "code",
      "metadata": {
        "id": "5k4A4SiBgjNa"
      },
      "source": [
        "squar.columns=['gu','Price per squar']\n",
        "squar['Price per squar']=squar['Price per squar']\n",
        "df_area=pd.merge(df_hos,squar,on='gu',how='left')"
      ],
      "execution_count": null,
      "outputs": []
    },
    {
      "cell_type": "code",
      "metadata": {
        "id": "WcnR85pPf_Oj"
      },
      "source": [
        "df_area.to_csv(path+'/seoul_3_1.csv')"
      ],
      "execution_count": null,
      "outputs": []
    },
    {
      "cell_type": "code",
      "metadata": {
        "id": "TyNwJSYGg3JA"
      },
      "source": [
        ""
      ],
      "execution_count": null,
      "outputs": []
    }
  ]
}