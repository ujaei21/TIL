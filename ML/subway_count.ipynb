{
  "nbformat": 4,
  "nbformat_minor": 0,
  "metadata": {
    "colab": {
      "name": "subway_count.ipynb",
      "provenance": []
    },
    "kernelspec": {
      "name": "python3",
      "display_name": "Python 3"
    },
    "language_info": {
      "name": "python"
    }
  },
  "cells": [
    {
      "cell_type": "code",
      "metadata": {
        "id": "6D0OYrV1Ar7U",
        "colab": {
          "base_uri": "https://localhost:8080/"
        },
        "outputId": "6bdc5539-831b-4aec-87d0-74bf2f94d29f"
      },
      "source": [
        "from google.colab import drive\n",
        "drive.mount('/content/drive')"
      ],
      "execution_count": 1,
      "outputs": [
        {
          "output_type": "stream",
          "text": [
            "Drive already mounted at /content/drive; to attempt to forcibly remount, call drive.mount(\"/content/drive\", force_remount=True).\n"
          ],
          "name": "stdout"
        }
      ]
    },
    {
      "cell_type": "code",
      "metadata": {
        "id": "eJaiyK8uAFJz"
      },
      "source": [
        "import pandas as pd\n",
        "import warnings \n",
        "warnings.filterwarnings('ignore')"
      ],
      "execution_count": 2,
      "outputs": []
    },
    {
      "cell_type": "code",
      "metadata": {
        "id": "2W3QGe7LBCB4",
        "colab": {
          "base_uri": "https://localhost:8080/",
          "height": 204
        },
        "outputId": "64811ce2-aa9f-4bee-8980-e4f5a055fcba"
      },
      "source": [
        "df1 = pd.read_csv('/content/drive/MyDrive/Colab Notebooks/apart/dataset.csv')\n",
        "df1.head()"
      ],
      "execution_count": 3,
      "outputs": [
        {
          "output_type": "execute_result",
          "data": {
            "text/html": [
              "<div>\n",
              "<style scoped>\n",
              "    .dataframe tbody tr th:only-of-type {\n",
              "        vertical-align: middle;\n",
              "    }\n",
              "\n",
              "    .dataframe tbody tr th {\n",
              "        vertical-align: top;\n",
              "    }\n",
              "\n",
              "    .dataframe thead th {\n",
              "        text-align: right;\n",
              "    }\n",
              "</style>\n",
              "<table border=\"1\" class=\"dataframe\">\n",
              "  <thead>\n",
              "    <tr style=\"text-align: right;\">\n",
              "      <th></th>\n",
              "      <th>Gu_Label</th>\n",
              "      <th>Dong_Label</th>\n",
              "      <th>Year</th>\n",
              "      <th>Exclusive_area</th>\n",
              "      <th>Floor</th>\n",
              "      <th>Price per squar</th>\n",
              "      <th>top10</th>\n",
              "      <th>YN_r</th>\n",
              "      <th>Station</th>\n",
              "      <th>Transaction_real_price</th>\n",
              "    </tr>\n",
              "  </thead>\n",
              "  <tbody>\n",
              "    <tr>\n",
              "      <th>0</th>\n",
              "      <td>0</td>\n",
              "      <td>8</td>\n",
              "      <td>32</td>\n",
              "      <td>77.75</td>\n",
              "      <td>7</td>\n",
              "      <td>643.068907</td>\n",
              "      <td>0</td>\n",
              "      <td>1</td>\n",
              "      <td>1</td>\n",
              "      <td>149500</td>\n",
              "    </tr>\n",
              "    <tr>\n",
              "      <th>1</th>\n",
              "      <td>0</td>\n",
              "      <td>8</td>\n",
              "      <td>33</td>\n",
              "      <td>54.98</td>\n",
              "      <td>7</td>\n",
              "      <td>643.068907</td>\n",
              "      <td>0</td>\n",
              "      <td>1</td>\n",
              "      <td>1</td>\n",
              "      <td>144000</td>\n",
              "    </tr>\n",
              "    <tr>\n",
              "      <th>2</th>\n",
              "      <td>0</td>\n",
              "      <td>8</td>\n",
              "      <td>33</td>\n",
              "      <td>79.97</td>\n",
              "      <td>7</td>\n",
              "      <td>643.068907</td>\n",
              "      <td>0</td>\n",
              "      <td>1</td>\n",
              "      <td>1</td>\n",
              "      <td>162750</td>\n",
              "    </tr>\n",
              "    <tr>\n",
              "      <th>3</th>\n",
              "      <td>0</td>\n",
              "      <td>8</td>\n",
              "      <td>33</td>\n",
              "      <td>79.97</td>\n",
              "      <td>8</td>\n",
              "      <td>643.068907</td>\n",
              "      <td>0</td>\n",
              "      <td>1</td>\n",
              "      <td>1</td>\n",
              "      <td>160000</td>\n",
              "    </tr>\n",
              "    <tr>\n",
              "      <th>4</th>\n",
              "      <td>0</td>\n",
              "      <td>8</td>\n",
              "      <td>33</td>\n",
              "      <td>79.97</td>\n",
              "      <td>5</td>\n",
              "      <td>643.068907</td>\n",
              "      <td>0</td>\n",
              "      <td>1</td>\n",
              "      <td>1</td>\n",
              "      <td>150000</td>\n",
              "    </tr>\n",
              "  </tbody>\n",
              "</table>\n",
              "</div>"
            ],
            "text/plain": [
              "   Gu_Label  Dong_Label  Year  ...  YN_r  Station  Transaction_real_price\n",
              "0         0           8    32  ...     1        1                  149500\n",
              "1         0           8    33  ...     1        1                  144000\n",
              "2         0           8    33  ...     1        1                  162750\n",
              "3         0           8    33  ...     1        1                  160000\n",
              "4         0           8    33  ...     1        1                  150000\n",
              "\n",
              "[5 rows x 10 columns]"
            ]
          },
          "metadata": {
            "tags": []
          },
          "execution_count": 3
        }
      ]
    },
    {
      "cell_type": "code",
      "metadata": {
        "id": "zcB9ZQOp9yD4"
      },
      "source": [
        "df2 = pd.read_excel('/content/drive/MyDrive/Colab Notebooks/apart/seoul_subway.xls')"
      ],
      "execution_count": 4,
      "outputs": []
    },
    {
      "cell_type": "code",
      "metadata": {
        "id": "4hg9kVo1-KAe",
        "colab": {
          "base_uri": "https://localhost:8080/",
          "height": 204
        },
        "outputId": "cd5dd89c-88b0-4ed4-fece-c59b853b53ac"
      },
      "source": [
        "df2 = df2[['Unnamed: 1','Unnamed: 2']]\n",
        "df2.head()"
      ],
      "execution_count": 5,
      "outputs": [
        {
          "output_type": "execute_result",
          "data": {
            "text/html": [
              "<div>\n",
              "<style scoped>\n",
              "    .dataframe tbody tr th:only-of-type {\n",
              "        vertical-align: middle;\n",
              "    }\n",
              "\n",
              "    .dataframe tbody tr th {\n",
              "        vertical-align: top;\n",
              "    }\n",
              "\n",
              "    .dataframe thead th {\n",
              "        text-align: right;\n",
              "    }\n",
              "</style>\n",
              "<table border=\"1\" class=\"dataframe\">\n",
              "  <thead>\n",
              "    <tr style=\"text-align: right;\">\n",
              "      <th></th>\n",
              "      <th>Unnamed: 1</th>\n",
              "      <th>Unnamed: 2</th>\n",
              "    </tr>\n",
              "  </thead>\n",
              "  <tbody>\n",
              "    <tr>\n",
              "      <th>0</th>\n",
              "      <td>역 명</td>\n",
              "      <td>행정동(법정동)명</td>\n",
              "    </tr>\n",
              "    <tr>\n",
              "      <th>1</th>\n",
              "      <td>서울(1)역</td>\n",
              "      <td>회현동(봉래동2가)</td>\n",
              "    </tr>\n",
              "    <tr>\n",
              "      <th>2</th>\n",
              "      <td>시청(1)역</td>\n",
              "      <td>명동(태평로1가)</td>\n",
              "    </tr>\n",
              "    <tr>\n",
              "      <th>3</th>\n",
              "      <td>종각(1)역</td>\n",
              "      <td>종로1.2.3.4가동(종로1가)</td>\n",
              "    </tr>\n",
              "    <tr>\n",
              "      <th>4</th>\n",
              "      <td>종로3가(1)역</td>\n",
              "      <td>종로1.2.3.4가동(종로3가)</td>\n",
              "    </tr>\n",
              "  </tbody>\n",
              "</table>\n",
              "</div>"
            ],
            "text/plain": [
              "  Unnamed: 1         Unnamed: 2\n",
              "0        역 명          행정동(법정동)명\n",
              "1     서울(1)역         회현동(봉래동2가)\n",
              "2     시청(1)역          명동(태평로1가)\n",
              "3     종각(1)역  종로1.2.3.4가동(종로1가)\n",
              "4   종로3가(1)역  종로1.2.3.4가동(종로3가)"
            ]
          },
          "metadata": {
            "tags": []
          },
          "execution_count": 5
        }
      ]
    },
    {
      "cell_type": "code",
      "metadata": {
        "id": "AX2mUVDF_H7e"
      },
      "source": [
        "df2.columns = ['station','address']"
      ],
      "execution_count": 6,
      "outputs": []
    },
    {
      "cell_type": "code",
      "metadata": {
        "id": "RewX6sAc_09a",
        "colab": {
          "base_uri": "https://localhost:8080/",
          "height": 204
        },
        "outputId": "c18800d2-9d89-4705-db8c-da4e870c6f51"
      },
      "source": [
        "df2.head()"
      ],
      "execution_count": 7,
      "outputs": [
        {
          "output_type": "execute_result",
          "data": {
            "text/html": [
              "<div>\n",
              "<style scoped>\n",
              "    .dataframe tbody tr th:only-of-type {\n",
              "        vertical-align: middle;\n",
              "    }\n",
              "\n",
              "    .dataframe tbody tr th {\n",
              "        vertical-align: top;\n",
              "    }\n",
              "\n",
              "    .dataframe thead th {\n",
              "        text-align: right;\n",
              "    }\n",
              "</style>\n",
              "<table border=\"1\" class=\"dataframe\">\n",
              "  <thead>\n",
              "    <tr style=\"text-align: right;\">\n",
              "      <th></th>\n",
              "      <th>station</th>\n",
              "      <th>address</th>\n",
              "    </tr>\n",
              "  </thead>\n",
              "  <tbody>\n",
              "    <tr>\n",
              "      <th>0</th>\n",
              "      <td>역 명</td>\n",
              "      <td>행정동(법정동)명</td>\n",
              "    </tr>\n",
              "    <tr>\n",
              "      <th>1</th>\n",
              "      <td>서울(1)역</td>\n",
              "      <td>회현동(봉래동2가)</td>\n",
              "    </tr>\n",
              "    <tr>\n",
              "      <th>2</th>\n",
              "      <td>시청(1)역</td>\n",
              "      <td>명동(태평로1가)</td>\n",
              "    </tr>\n",
              "    <tr>\n",
              "      <th>3</th>\n",
              "      <td>종각(1)역</td>\n",
              "      <td>종로1.2.3.4가동(종로1가)</td>\n",
              "    </tr>\n",
              "    <tr>\n",
              "      <th>4</th>\n",
              "      <td>종로3가(1)역</td>\n",
              "      <td>종로1.2.3.4가동(종로3가)</td>\n",
              "    </tr>\n",
              "  </tbody>\n",
              "</table>\n",
              "</div>"
            ],
            "text/plain": [
              "    station            address\n",
              "0       역 명          행정동(법정동)명\n",
              "1    서울(1)역         회현동(봉래동2가)\n",
              "2    시청(1)역          명동(태평로1가)\n",
              "3    종각(1)역  종로1.2.3.4가동(종로1가)\n",
              "4  종로3가(1)역  종로1.2.3.4가동(종로3가)"
            ]
          },
          "metadata": {
            "tags": []
          },
          "execution_count": 7
        }
      ]
    },
    {
      "cell_type": "code",
      "metadata": {
        "id": "IfwMzxyvAAT-",
        "colab": {
          "base_uri": "https://localhost:8080/",
          "height": 419
        },
        "outputId": "2b8ec838-3204-4e79-a119-db5b594a3cb7"
      },
      "source": [
        "df2"
      ],
      "execution_count": 8,
      "outputs": [
        {
          "output_type": "execute_result",
          "data": {
            "text/html": [
              "<div>\n",
              "<style scoped>\n",
              "    .dataframe tbody tr th:only-of-type {\n",
              "        vertical-align: middle;\n",
              "    }\n",
              "\n",
              "    .dataframe tbody tr th {\n",
              "        vertical-align: top;\n",
              "    }\n",
              "\n",
              "    .dataframe thead th {\n",
              "        text-align: right;\n",
              "    }\n",
              "</style>\n",
              "<table border=\"1\" class=\"dataframe\">\n",
              "  <thead>\n",
              "    <tr style=\"text-align: right;\">\n",
              "      <th></th>\n",
              "      <th>station</th>\n",
              "      <th>address</th>\n",
              "    </tr>\n",
              "  </thead>\n",
              "  <tbody>\n",
              "    <tr>\n",
              "      <th>0</th>\n",
              "      <td>역 명</td>\n",
              "      <td>행정동(법정동)명</td>\n",
              "    </tr>\n",
              "    <tr>\n",
              "      <th>1</th>\n",
              "      <td>서울(1)역</td>\n",
              "      <td>회현동(봉래동2가)</td>\n",
              "    </tr>\n",
              "    <tr>\n",
              "      <th>2</th>\n",
              "      <td>시청(1)역</td>\n",
              "      <td>명동(태평로1가)</td>\n",
              "    </tr>\n",
              "    <tr>\n",
              "      <th>3</th>\n",
              "      <td>종각(1)역</td>\n",
              "      <td>종로1.2.3.4가동(종로1가)</td>\n",
              "    </tr>\n",
              "    <tr>\n",
              "      <th>4</th>\n",
              "      <td>종로3가(1)역</td>\n",
              "      <td>종로1.2.3.4가동(종로3가)</td>\n",
              "    </tr>\n",
              "    <tr>\n",
              "      <th>...</th>\n",
              "      <td>...</td>\n",
              "      <td>...</td>\n",
              "    </tr>\n",
              "    <tr>\n",
              "      <th>276</th>\n",
              "      <td>남한산성입구(8)역</td>\n",
              "      <td>단대동(단대동)</td>\n",
              "    </tr>\n",
              "    <tr>\n",
              "      <th>277</th>\n",
              "      <td>단대오거리(8)역</td>\n",
              "      <td>신흥2동(신흥동)</td>\n",
              "    </tr>\n",
              "    <tr>\n",
              "      <th>278</th>\n",
              "      <td>신흥(8)역</td>\n",
              "      <td>신흥3동(신흥동)</td>\n",
              "    </tr>\n",
              "    <tr>\n",
              "      <th>279</th>\n",
              "      <td>수진(8)역</td>\n",
              "      <td>수진1동(수진동)</td>\n",
              "    </tr>\n",
              "    <tr>\n",
              "      <th>280</th>\n",
              "      <td>모란(8)역</td>\n",
              "      <td>수진2동(수진동)</td>\n",
              "    </tr>\n",
              "  </tbody>\n",
              "</table>\n",
              "<p>281 rows × 2 columns</p>\n",
              "</div>"
            ],
            "text/plain": [
              "        station            address\n",
              "0           역 명          행정동(법정동)명\n",
              "1        서울(1)역         회현동(봉래동2가)\n",
              "2        시청(1)역          명동(태평로1가)\n",
              "3        종각(1)역  종로1.2.3.4가동(종로1가)\n",
              "4      종로3가(1)역  종로1.2.3.4가동(종로3가)\n",
              "..          ...                ...\n",
              "276  남한산성입구(8)역           단대동(단대동)\n",
              "277   단대오거리(8)역          신흥2동(신흥동)\n",
              "278      신흥(8)역          신흥3동(신흥동)\n",
              "279      수진(8)역          수진1동(수진동)\n",
              "280      모란(8)역          수진2동(수진동)\n",
              "\n",
              "[281 rows x 2 columns]"
            ]
          },
          "metadata": {
            "tags": []
          },
          "execution_count": 8
        }
      ]
    },
    {
      "cell_type": "code",
      "metadata": {
        "id": "flVQv6x0ACnX"
      },
      "source": [
        "df2.station = df2.station.str.split('(').str[0]"
      ],
      "execution_count": 9,
      "outputs": []
    },
    {
      "cell_type": "code",
      "metadata": {
        "id": "xsZ-ZzIfAk6e",
        "colab": {
          "base_uri": "https://localhost:8080/",
          "height": 419
        },
        "outputId": "d407990f-f8d6-497e-f452-4632b5322e9a"
      },
      "source": [
        "df2"
      ],
      "execution_count": 10,
      "outputs": [
        {
          "output_type": "execute_result",
          "data": {
            "text/html": [
              "<div>\n",
              "<style scoped>\n",
              "    .dataframe tbody tr th:only-of-type {\n",
              "        vertical-align: middle;\n",
              "    }\n",
              "\n",
              "    .dataframe tbody tr th {\n",
              "        vertical-align: top;\n",
              "    }\n",
              "\n",
              "    .dataframe thead th {\n",
              "        text-align: right;\n",
              "    }\n",
              "</style>\n",
              "<table border=\"1\" class=\"dataframe\">\n",
              "  <thead>\n",
              "    <tr style=\"text-align: right;\">\n",
              "      <th></th>\n",
              "      <th>station</th>\n",
              "      <th>address</th>\n",
              "    </tr>\n",
              "  </thead>\n",
              "  <tbody>\n",
              "    <tr>\n",
              "      <th>0</th>\n",
              "      <td>역 명</td>\n",
              "      <td>행정동(법정동)명</td>\n",
              "    </tr>\n",
              "    <tr>\n",
              "      <th>1</th>\n",
              "      <td>서울</td>\n",
              "      <td>회현동(봉래동2가)</td>\n",
              "    </tr>\n",
              "    <tr>\n",
              "      <th>2</th>\n",
              "      <td>시청</td>\n",
              "      <td>명동(태평로1가)</td>\n",
              "    </tr>\n",
              "    <tr>\n",
              "      <th>3</th>\n",
              "      <td>종각</td>\n",
              "      <td>종로1.2.3.4가동(종로1가)</td>\n",
              "    </tr>\n",
              "    <tr>\n",
              "      <th>4</th>\n",
              "      <td>종로3가</td>\n",
              "      <td>종로1.2.3.4가동(종로3가)</td>\n",
              "    </tr>\n",
              "    <tr>\n",
              "      <th>...</th>\n",
              "      <td>...</td>\n",
              "      <td>...</td>\n",
              "    </tr>\n",
              "    <tr>\n",
              "      <th>276</th>\n",
              "      <td>남한산성입구</td>\n",
              "      <td>단대동(단대동)</td>\n",
              "    </tr>\n",
              "    <tr>\n",
              "      <th>277</th>\n",
              "      <td>단대오거리</td>\n",
              "      <td>신흥2동(신흥동)</td>\n",
              "    </tr>\n",
              "    <tr>\n",
              "      <th>278</th>\n",
              "      <td>신흥</td>\n",
              "      <td>신흥3동(신흥동)</td>\n",
              "    </tr>\n",
              "    <tr>\n",
              "      <th>279</th>\n",
              "      <td>수진</td>\n",
              "      <td>수진1동(수진동)</td>\n",
              "    </tr>\n",
              "    <tr>\n",
              "      <th>280</th>\n",
              "      <td>모란</td>\n",
              "      <td>수진2동(수진동)</td>\n",
              "    </tr>\n",
              "  </tbody>\n",
              "</table>\n",
              "<p>281 rows × 2 columns</p>\n",
              "</div>"
            ],
            "text/plain": [
              "    station            address\n",
              "0       역 명          행정동(법정동)명\n",
              "1        서울         회현동(봉래동2가)\n",
              "2        시청          명동(태평로1가)\n",
              "3        종각  종로1.2.3.4가동(종로1가)\n",
              "4      종로3가  종로1.2.3.4가동(종로3가)\n",
              "..      ...                ...\n",
              "276  남한산성입구           단대동(단대동)\n",
              "277   단대오거리          신흥2동(신흥동)\n",
              "278      신흥          신흥3동(신흥동)\n",
              "279      수진          수진1동(수진동)\n",
              "280      모란          수진2동(수진동)\n",
              "\n",
              "[281 rows x 2 columns]"
            ]
          },
          "metadata": {
            "tags": []
          },
          "execution_count": 10
        }
      ]
    },
    {
      "cell_type": "code",
      "metadata": {
        "id": "Io_iA7A9AzFM"
      },
      "source": [
        "# df2['station'].str.replace(pat=r'[^\\w]', repl=r'', regex=True).str[:-2]"
      ],
      "execution_count": 11,
      "outputs": []
    },
    {
      "cell_type": "code",
      "metadata": {
        "id": "hIpazyVYBQvm",
        "colab": {
          "base_uri": "https://localhost:8080/"
        },
        "outputId": "9cf5a28d-63ee-4a2d-d3cd-819605cd6023"
      },
      "source": [
        "df2.loc[1]"
      ],
      "execution_count": 12,
      "outputs": [
        {
          "output_type": "execute_result",
          "data": {
            "text/plain": [
              "station            서울\n",
              "address    회현동(봉래동2가)\n",
              "Name: 1, dtype: object"
            ]
          },
          "metadata": {
            "tags": []
          },
          "execution_count": 12
        }
      ]
    },
    {
      "cell_type": "code",
      "metadata": {
        "id": "r76wJ8H3CSj4",
        "colab": {
          "base_uri": "https://localhost:8080/"
        },
        "outputId": "bfb94a09-d528-4f3f-bc46-0bcdfe57343c"
      },
      "source": [
        "df2.address.str.find('(')"
      ],
      "execution_count": 13,
      "outputs": [
        {
          "output_type": "execute_result",
          "data": {
            "text/plain": [
              "0       3\n",
              "1       3\n",
              "2       2\n",
              "3      11\n",
              "4      11\n",
              "       ..\n",
              "276     3\n",
              "277     4\n",
              "278     4\n",
              "279     4\n",
              "280     4\n",
              "Name: address, Length: 281, dtype: int64"
            ]
          },
          "metadata": {
            "tags": []
          },
          "execution_count": 13
        }
      ]
    },
    {
      "cell_type": "code",
      "metadata": {
        "id": "A7PySCorC6vC"
      },
      "source": [
        "df2.drop([0],axis = 0,inplace=True)"
      ],
      "execution_count": 14,
      "outputs": []
    },
    {
      "cell_type": "code",
      "metadata": {
        "id": "qVcDHSHjDWkm"
      },
      "source": [
        "a = df2.address.str.find('(')"
      ],
      "execution_count": 15,
      "outputs": []
    },
    {
      "cell_type": "code",
      "metadata": {
        "id": "30wzRjwSDlJG"
      },
      "source": [
        "b = df2.address.str.find(')')"
      ],
      "execution_count": 16,
      "outputs": []
    },
    {
      "cell_type": "code",
      "metadata": {
        "id": "1uRaqNnZDnDe",
        "colab": {
          "base_uri": "https://localhost:8080/",
          "height": 35
        },
        "outputId": "4366122b-aadb-4421-8664-711e2b3d8938"
      },
      "source": [
        "df2.address.loc[1][a[1]+1:-1]"
      ],
      "execution_count": 17,
      "outputs": [
        {
          "output_type": "execute_result",
          "data": {
            "application/vnd.google.colaboratory.intrinsic+json": {
              "type": "string"
            },
            "text/plain": [
              "'봉래동2가'"
            ]
          },
          "metadata": {
            "tags": []
          },
          "execution_count": 17
        }
      ]
    },
    {
      "cell_type": "code",
      "metadata": {
        "id": "WYMt5XKvGLja"
      },
      "source": [
        "for i in range(1,len(a)):\n",
        "    df2.address.loc[i] = df2.address.loc[i][a[i]+1:-1]"
      ],
      "execution_count": 18,
      "outputs": []
    },
    {
      "cell_type": "code",
      "metadata": {
        "id": "krj7Rbc9I1b2",
        "colab": {
          "base_uri": "https://localhost:8080/",
          "height": 204
        },
        "outputId": "c47560e8-e580-4e37-c6bb-d480da1721cc"
      },
      "source": [
        "df2.head()"
      ],
      "execution_count": 19,
      "outputs": [
        {
          "output_type": "execute_result",
          "data": {
            "text/html": [
              "<div>\n",
              "<style scoped>\n",
              "    .dataframe tbody tr th:only-of-type {\n",
              "        vertical-align: middle;\n",
              "    }\n",
              "\n",
              "    .dataframe tbody tr th {\n",
              "        vertical-align: top;\n",
              "    }\n",
              "\n",
              "    .dataframe thead th {\n",
              "        text-align: right;\n",
              "    }\n",
              "</style>\n",
              "<table border=\"1\" class=\"dataframe\">\n",
              "  <thead>\n",
              "    <tr style=\"text-align: right;\">\n",
              "      <th></th>\n",
              "      <th>station</th>\n",
              "      <th>address</th>\n",
              "    </tr>\n",
              "  </thead>\n",
              "  <tbody>\n",
              "    <tr>\n",
              "      <th>1</th>\n",
              "      <td>서울</td>\n",
              "      <td>봉래동2가</td>\n",
              "    </tr>\n",
              "    <tr>\n",
              "      <th>2</th>\n",
              "      <td>시청</td>\n",
              "      <td>태평로1가</td>\n",
              "    </tr>\n",
              "    <tr>\n",
              "      <th>3</th>\n",
              "      <td>종각</td>\n",
              "      <td>종로1가</td>\n",
              "    </tr>\n",
              "    <tr>\n",
              "      <th>4</th>\n",
              "      <td>종로3가</td>\n",
              "      <td>종로3가</td>\n",
              "    </tr>\n",
              "    <tr>\n",
              "      <th>5</th>\n",
              "      <td>종로5가</td>\n",
              "      <td>종로5가</td>\n",
              "    </tr>\n",
              "  </tbody>\n",
              "</table>\n",
              "</div>"
            ],
            "text/plain": [
              "  station address\n",
              "1      서울   봉래동2가\n",
              "2      시청   태평로1가\n",
              "3      종각    종로1가\n",
              "4    종로3가    종로3가\n",
              "5    종로5가    종로5가"
            ]
          },
          "metadata": {
            "tags": []
          },
          "execution_count": 19
        }
      ]
    },
    {
      "cell_type": "code",
      "metadata": {
        "id": "N49CADSpJN0A",
        "colab": {
          "base_uri": "https://localhost:8080/"
        },
        "outputId": "1486e00e-c939-4290-9307-3fe6ccfe4c99"
      },
      "source": [
        "df2.address.value_counts()"
      ],
      "execution_count": 20,
      "outputs": [
        {
          "output_type": "execute_result",
          "data": {
            "text/plain": [
              "신당동      7\n",
              "가락동      6\n",
              "상계동      6\n",
              "방배동      5\n",
              "사당동      4\n",
              "        ..\n",
              "종로5가     1\n",
              "여의도동     1\n",
              "동교동      1\n",
              "광희동1가    1\n",
              "석관동      1\n",
              "Name: address, Length: 175, dtype: int64"
            ]
          },
          "metadata": {
            "tags": []
          },
          "execution_count": 20
        }
      ]
    },
    {
      "cell_type": "code",
      "metadata": {
        "id": "xBQqMmbSKQ5Z",
        "colab": {
          "base_uri": "https://localhost:8080/",
          "height": 266
        },
        "outputId": "c8a78e00-0ab6-4aa8-b7da-f44987bd5b73"
      },
      "source": [
        "df2[df2.address == '신당동']"
      ],
      "execution_count": 21,
      "outputs": [
        {
          "output_type": "execute_result",
          "data": {
            "text/html": [
              "<div>\n",
              "<style scoped>\n",
              "    .dataframe tbody tr th:only-of-type {\n",
              "        vertical-align: middle;\n",
              "    }\n",
              "\n",
              "    .dataframe tbody tr th {\n",
              "        vertical-align: top;\n",
              "    }\n",
              "\n",
              "    .dataframe thead th {\n",
              "        text-align: right;\n",
              "    }\n",
              "</style>\n",
              "<table border=\"1\" class=\"dataframe\">\n",
              "  <thead>\n",
              "    <tr style=\"text-align: right;\">\n",
              "      <th></th>\n",
              "      <th>station</th>\n",
              "      <th>address</th>\n",
              "    </tr>\n",
              "  </thead>\n",
              "  <tbody>\n",
              "    <tr>\n",
              "      <th>16</th>\n",
              "      <td>신당</td>\n",
              "      <td>신당동</td>\n",
              "    </tr>\n",
              "    <tr>\n",
              "      <th>75</th>\n",
              "      <td>약수</td>\n",
              "      <td>신당동</td>\n",
              "    </tr>\n",
              "    <tr>\n",
              "      <th>148</th>\n",
              "      <td>청구</td>\n",
              "      <td>신당동</td>\n",
              "    </tr>\n",
              "    <tr>\n",
              "      <th>196</th>\n",
              "      <td>버티고개</td>\n",
              "      <td>신당동</td>\n",
              "    </tr>\n",
              "    <tr>\n",
              "      <th>197</th>\n",
              "      <td>약수</td>\n",
              "      <td>신당동</td>\n",
              "    </tr>\n",
              "    <tr>\n",
              "      <th>198</th>\n",
              "      <td>청구</td>\n",
              "      <td>신당동</td>\n",
              "    </tr>\n",
              "    <tr>\n",
              "      <th>199</th>\n",
              "      <td>신당</td>\n",
              "      <td>신당동</td>\n",
              "    </tr>\n",
              "  </tbody>\n",
              "</table>\n",
              "</div>"
            ],
            "text/plain": [
              "    station address\n",
              "16       신당     신당동\n",
              "75       약수     신당동\n",
              "148      청구     신당동\n",
              "196    버티고개     신당동\n",
              "197      약수     신당동\n",
              "198      청구     신당동\n",
              "199      신당     신당동"
            ]
          },
          "metadata": {
            "tags": []
          },
          "execution_count": 21
        }
      ]
    },
    {
      "cell_type": "code",
      "metadata": {
        "id": "B2AKNOwXKkv3"
      },
      "source": [
        "df3 = df2.drop_duplicates()"
      ],
      "execution_count": 22,
      "outputs": []
    },
    {
      "cell_type": "code",
      "metadata": {
        "id": "P-yYQDqnLMfh"
      },
      "source": [
        "df3.columns = ['station','Dong']"
      ],
      "execution_count": 23,
      "outputs": []
    },
    {
      "cell_type": "code",
      "metadata": {
        "id": "Vh0AkxfjMx6s"
      },
      "source": [
        "df3 = pd.DataFrame(df3.Dong.value_counts())"
      ],
      "execution_count": 24,
      "outputs": []
    },
    {
      "cell_type": "code",
      "metadata": {
        "id": "3Dhl3pm6Lfa6"
      },
      "source": [
        "df3.to_csv('/content/drive/MyDrive/Colab Notebooks/apart/subway_count.csv')"
      ],
      "execution_count": 25,
      "outputs": []
    },
    {
      "cell_type": "code",
      "metadata": {
        "id": "ZjVYVPmcNMGP"
      },
      "source": [
        ""
      ],
      "execution_count": 25,
      "outputs": []
    }
  ]
}