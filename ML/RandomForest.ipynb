{
  "nbformat": 4,
  "nbformat_minor": 0,
  "metadata": {
    "colab": {
      "name": "RandomForest.ipynb",
      "provenance": []
    },
    "kernelspec": {
      "name": "python3",
      "display_name": "Python 3"
    },
    "language_info": {
      "name": "python"
    }
  },
  "cells": [
    {
      "cell_type": "code",
      "metadata": {
        "id": "lYSe68qLLTpX"
      },
      "source": [
        "import pandas as pd \n",
        "from sklearn.ensemble import ExtraTreesRegressor\n",
        "from sklearn.model_selection import train_test_split\n",
        "from sklearn.metrics import mean_squared_error"
      ],
      "execution_count": 1,
      "outputs": []
    },
    {
      "cell_type": "code",
      "metadata": {
        "id": "-Ujp0YUAMGbC"
      },
      "source": [
        "df = pd.read_csv('/content/drive/MyDrive/Colab Notebooks/apart/seoul_3.csv')\n",
        "df = df.drop(['gu','dong'], axis=1)\n",
        "df = df[['gu_l','dong_l','used_y','square','per_cost_man','floor','YN_r','YN_top10','cost']]"
      ],
      "execution_count": 2,
      "outputs": []
    },
    {
      "cell_type": "code",
      "metadata": {
        "colab": {
          "base_uri": "https://localhost:8080/"
        },
        "id": "x852W4gxMl_G",
        "outputId": "8cad93c7-a524-4594-9720-e48f2420a5d2"
      },
      "source": [
        "X=df.drop('cost',axis=1)\n",
        "y=df['cost']\n",
        "\n",
        "X.shape, y.shape"
      ],
      "execution_count": 3,
      "outputs": [
        {
          "output_type": "execute_result",
          "data": {
            "text/plain": [
              "((114142, 8), (114142,))"
            ]
          },
          "metadata": {
            "tags": []
          },
          "execution_count": 3
        }
      ]
    },
    {
      "cell_type": "code",
      "metadata": {
        "colab": {
          "base_uri": "https://localhost:8080/"
        },
        "id": "cBR8emODM2N1",
        "outputId": "0e92b52d-b204-4509-ab86-dccbf1226379"
      },
      "source": [
        "X.columns"
      ],
      "execution_count": 4,
      "outputs": [
        {
          "output_type": "execute_result",
          "data": {
            "text/plain": [
              "Index(['gu_l', 'dong_l', 'used_y', 'square', 'per_cost_man', 'floor', 'YN_r',\n",
              "       'YN_top10'],\n",
              "      dtype='object')"
            ]
          },
          "metadata": {
            "tags": []
          },
          "execution_count": 4
        }
      ]
    },
    {
      "cell_type": "code",
      "metadata": {
        "id": "rfO5KX6tNDU1"
      },
      "source": [
        "X_train,X_test,y_train,y_test = train_test_split(X,y,test_size = 0.3,random_state = 42)"
      ],
      "execution_count": 5,
      "outputs": []
    },
    {
      "cell_type": "code",
      "metadata": {
        "colab": {
          "base_uri": "https://localhost:8080/"
        },
        "id": "PZkeIOT2NQjN",
        "outputId": "d618b1eb-7f65-4c03-c7f9-78c136dab1e2"
      },
      "source": [
        "X_test.shape,y_test.shape"
      ],
      "execution_count": 6,
      "outputs": [
        {
          "output_type": "execute_result",
          "data": {
            "text/plain": [
              "((34243, 8), (34243,))"
            ]
          },
          "metadata": {
            "tags": []
          },
          "execution_count": 6
        }
      ]
    },
    {
      "cell_type": "code",
      "metadata": {
        "id": "ObamWb0QNY6W"
      },
      "source": [
        "model = ExtraTreesRegressor()"
      ],
      "execution_count": 7,
      "outputs": []
    },
    {
      "cell_type": "code",
      "metadata": {
        "colab": {
          "base_uri": "https://localhost:8080/"
        },
        "id": "XL3pZFLZNgJl",
        "outputId": "94f83c46-4444-45e6-a3a3-13807f5f43bf"
      },
      "source": [
        "model.fit(X_train,y_train)"
      ],
      "execution_count": 8,
      "outputs": [
        {
          "output_type": "execute_result",
          "data": {
            "text/plain": [
              "ExtraTreesRegressor(bootstrap=False, ccp_alpha=0.0, criterion='mse',\n",
              "                    max_depth=None, max_features='auto', max_leaf_nodes=None,\n",
              "                    max_samples=None, min_impurity_decrease=0.0,\n",
              "                    min_impurity_split=None, min_samples_leaf=1,\n",
              "                    min_samples_split=2, min_weight_fraction_leaf=0.0,\n",
              "                    n_estimators=100, n_jobs=None, oob_score=False,\n",
              "                    random_state=None, verbose=0, warm_start=False)"
            ]
          },
          "metadata": {
            "tags": []
          },
          "execution_count": 8
        }
      ]
    },
    {
      "cell_type": "code",
      "metadata": {
        "colab": {
          "base_uri": "https://localhost:8080/"
        },
        "id": "IB9M5M3aNkHV",
        "outputId": "d8e240fd-8830-4d05-945a-6d6bb893488b"
      },
      "source": [
        "model.score(X_test,y_test)"
      ],
      "execution_count": 9,
      "outputs": [
        {
          "output_type": "execute_result",
          "data": {
            "text/plain": [
              "0.9998868303724597"
            ]
          },
          "metadata": {
            "tags": []
          },
          "execution_count": 9
        }
      ]
    },
    {
      "cell_type": "code",
      "metadata": {
        "colab": {
          "base_uri": "https://localhost:8080/"
        },
        "id": "Qz5RqHoPNqB9",
        "outputId": "c5b6d775-88ec-4cb4-9cfa-4e1fcafc5228"
      },
      "source": [
        "y_pred = model.predict(X_test)\n",
        "mse = mean_squared_error(y_pred,y_test)\n",
        "print(\"MSE: %.2f\" % mse)\n",
        "print(\"RMSE: %.2f\" % mse**(0.5))\n"
      ],
      "execution_count": 10,
      "outputs": [
        {
          "output_type": "stream",
          "text": [
            "MSE: 425039.86\n",
            "RMSE: 651.95\n"
          ],
          "name": "stdout"
        }
      ]
    },
    {
      "cell_type": "markdown",
      "metadata": {
        "id": "w7yyJusETL4s"
      },
      "source": [
        "### 공시지가 포함"
      ]
    },
    {
      "cell_type": "code",
      "metadata": {
        "id": "-IImfQDFTJyP"
      },
      "source": [
        "url = '/content/drive/MyDrive/Colab Notebooks/apart/dataset.csv'\n",
        "df1 = pd.read_csv(url)"
      ],
      "execution_count": 11,
      "outputs": []
    },
    {
      "cell_type": "code",
      "metadata": {
        "colab": {
          "base_uri": "https://localhost:8080/",
          "height": 241
        },
        "id": "Hxn5F_DETglt",
        "outputId": "02075f3b-4490-4897-bf87-6289c64e91bb"
      },
      "source": [
        "df1.head()"
      ],
      "execution_count": 12,
      "outputs": [
        {
          "output_type": "execute_result",
          "data": {
            "text/html": [
              "<div>\n",
              "<style scoped>\n",
              "    .dataframe tbody tr th:only-of-type {\n",
              "        vertical-align: middle;\n",
              "    }\n",
              "\n",
              "    .dataframe tbody tr th {\n",
              "        vertical-align: top;\n",
              "    }\n",
              "\n",
              "    .dataframe thead th {\n",
              "        text-align: right;\n",
              "    }\n",
              "</style>\n",
              "<table border=\"1\" class=\"dataframe\">\n",
              "  <thead>\n",
              "    <tr style=\"text-align: right;\">\n",
              "      <th></th>\n",
              "      <th>Gu_Label</th>\n",
              "      <th>Dong_Label</th>\n",
              "      <th>Year</th>\n",
              "      <th>Exclusive_area</th>\n",
              "      <th>Floor</th>\n",
              "      <th>Price per squar</th>\n",
              "      <th>top10</th>\n",
              "      <th>YN_r</th>\n",
              "      <th>Hospital</th>\n",
              "      <th>Station</th>\n",
              "      <th>Transaction_real_price</th>\n",
              "    </tr>\n",
              "  </thead>\n",
              "  <tbody>\n",
              "    <tr>\n",
              "      <th>0</th>\n",
              "      <td>0</td>\n",
              "      <td>8</td>\n",
              "      <td>32</td>\n",
              "      <td>77.75</td>\n",
              "      <td>7</td>\n",
              "      <td>7003.020394</td>\n",
              "      <td>0</td>\n",
              "      <td>1</td>\n",
              "      <td>0.0</td>\n",
              "      <td>1</td>\n",
              "      <td>149500</td>\n",
              "    </tr>\n",
              "    <tr>\n",
              "      <th>1</th>\n",
              "      <td>0</td>\n",
              "      <td>8</td>\n",
              "      <td>33</td>\n",
              "      <td>54.98</td>\n",
              "      <td>7</td>\n",
              "      <td>7003.020394</td>\n",
              "      <td>0</td>\n",
              "      <td>1</td>\n",
              "      <td>0.0</td>\n",
              "      <td>1</td>\n",
              "      <td>144000</td>\n",
              "    </tr>\n",
              "    <tr>\n",
              "      <th>2</th>\n",
              "      <td>0</td>\n",
              "      <td>8</td>\n",
              "      <td>33</td>\n",
              "      <td>79.97</td>\n",
              "      <td>7</td>\n",
              "      <td>7003.020394</td>\n",
              "      <td>0</td>\n",
              "      <td>1</td>\n",
              "      <td>0.0</td>\n",
              "      <td>1</td>\n",
              "      <td>162750</td>\n",
              "    </tr>\n",
              "    <tr>\n",
              "      <th>3</th>\n",
              "      <td>0</td>\n",
              "      <td>8</td>\n",
              "      <td>33</td>\n",
              "      <td>79.97</td>\n",
              "      <td>8</td>\n",
              "      <td>7003.020394</td>\n",
              "      <td>0</td>\n",
              "      <td>1</td>\n",
              "      <td>0.0</td>\n",
              "      <td>1</td>\n",
              "      <td>160000</td>\n",
              "    </tr>\n",
              "    <tr>\n",
              "      <th>4</th>\n",
              "      <td>0</td>\n",
              "      <td>8</td>\n",
              "      <td>33</td>\n",
              "      <td>79.97</td>\n",
              "      <td>5</td>\n",
              "      <td>7003.020394</td>\n",
              "      <td>0</td>\n",
              "      <td>1</td>\n",
              "      <td>0.0</td>\n",
              "      <td>1</td>\n",
              "      <td>150000</td>\n",
              "    </tr>\n",
              "  </tbody>\n",
              "</table>\n",
              "</div>"
            ],
            "text/plain": [
              "   Gu_Label  Dong_Label  Year  ...  Hospital  Station  Transaction_real_price\n",
              "0         0           8    32  ...       0.0        1                  149500\n",
              "1         0           8    33  ...       0.0        1                  144000\n",
              "2         0           8    33  ...       0.0        1                  162750\n",
              "3         0           8    33  ...       0.0        1                  160000\n",
              "4         0           8    33  ...       0.0        1                  150000\n",
              "\n",
              "[5 rows x 11 columns]"
            ]
          },
          "metadata": {
            "tags": []
          },
          "execution_count": 12
        }
      ]
    },
    {
      "cell_type": "code",
      "metadata": {
        "colab": {
          "base_uri": "https://localhost:8080/"
        },
        "id": "l2vis9lqTgh1",
        "outputId": "9eac7b2f-7b6e-406b-ebe5-4b514c9508f0"
      },
      "source": [
        "X=df1.drop('Transaction_real_price',axis=1)\n",
        "y=df1['Transaction_real_price']\n",
        "\n",
        "X.shape, y.shape"
      ],
      "execution_count": 13,
      "outputs": [
        {
          "output_type": "execute_result",
          "data": {
            "text/plain": [
              "((114143, 10), (114143,))"
            ]
          },
          "metadata": {
            "tags": []
          },
          "execution_count": 13
        }
      ]
    },
    {
      "cell_type": "code",
      "metadata": {
        "id": "LxUenBYzTgeZ"
      },
      "source": [
        "X_train,X_test,y_train,y_test = train_test_split(X,y,test_size = 0.3,random_state = 42)"
      ],
      "execution_count": 14,
      "outputs": []
    },
    {
      "cell_type": "code",
      "metadata": {
        "id": "_9BcwYjDTgaI"
      },
      "source": [
        "etr = ExtraTreesRegressor()"
      ],
      "execution_count": 15,
      "outputs": []
    },
    {
      "cell_type": "code",
      "metadata": {
        "colab": {
          "base_uri": "https://localhost:8080/"
        },
        "id": "SNanHmRrTgVH",
        "outputId": "da7666a0-4ec8-4e98-f820-b439ee91ead7"
      },
      "source": [
        "etr.fit(X_train,y_train)"
      ],
      "execution_count": 16,
      "outputs": [
        {
          "output_type": "execute_result",
          "data": {
            "text/plain": [
              "ExtraTreesRegressor(bootstrap=False, ccp_alpha=0.0, criterion='mse',\n",
              "                    max_depth=None, max_features='auto', max_leaf_nodes=None,\n",
              "                    max_samples=None, min_impurity_decrease=0.0,\n",
              "                    min_impurity_split=None, min_samples_leaf=1,\n",
              "                    min_samples_split=2, min_weight_fraction_leaf=0.0,\n",
              "                    n_estimators=100, n_jobs=None, oob_score=False,\n",
              "                    random_state=None, verbose=0, warm_start=False)"
            ]
          },
          "metadata": {
            "tags": []
          },
          "execution_count": 16
        }
      ]
    },
    {
      "cell_type": "code",
      "metadata": {
        "colab": {
          "base_uri": "https://localhost:8080/"
        },
        "id": "Gf7zot-WTgQJ",
        "outputId": "57fc281e-d334-4f2c-927d-ace3b25f6ad4"
      },
      "source": [
        "etr.score(X_test,y_test)"
      ],
      "execution_count": 17,
      "outputs": [
        {
          "output_type": "execute_result",
          "data": {
            "text/plain": [
              "0.9573551431748469"
            ]
          },
          "metadata": {
            "tags": []
          },
          "execution_count": 17
        }
      ]
    },
    {
      "cell_type": "code",
      "metadata": {
        "colab": {
          "base_uri": "https://localhost:8080/"
        },
        "id": "Vp9GzSFtTgB6",
        "outputId": "07087bae-6024-4628-e3a5-3ba4dd31bb91"
      },
      "source": [
        "y_pred = etr.predict(X_test)\n",
        "mse = mean_squared_error(y_pred,y_test)\n",
        "print(\"MSE: %.2f\" % mse)\n",
        "print(\"RMSE: %.2f\" % mse**(0.5))\n"
      ],
      "execution_count": 18,
      "outputs": [
        {
          "output_type": "stream",
          "text": [
            "MSE: 161620120.32\n",
            "RMSE: 12712.99\n"
          ],
          "name": "stdout"
        }
      ]
    },
    {
      "cell_type": "markdown",
      "metadata": {
        "id": "jrRxSU_fOK3G"
      },
      "source": [
        "## RandomForestRegressor"
      ]
    },
    {
      "cell_type": "code",
      "metadata": {
        "id": "vdlIulSFOKm_"
      },
      "source": [
        "from sklearn.ensemble import RandomForestRegressor\n",
        "from sklearn.metrics import accuracy_score"
      ],
      "execution_count": 19,
      "outputs": []
    },
    {
      "cell_type": "code",
      "metadata": {
        "colab": {
          "base_uri": "https://localhost:8080/"
        },
        "id": "mhABJcxaN-re",
        "outputId": "5942d167-fe1f-4aea-f7ac-a0057e1de6ad"
      },
      "source": [
        "rf = RandomForestRegressor(random_state=42)\n",
        "\n",
        "rf.fit(X_train,y_train)\n",
        "pred = rf.predict(X_test)\n",
        "rf.score(X_test,y_test)"
      ],
      "execution_count": 20,
      "outputs": [
        {
          "output_type": "execute_result",
          "data": {
            "text/plain": [
              "0.9535769601663656"
            ]
          },
          "metadata": {
            "tags": []
          },
          "execution_count": 20
        }
      ]
    },
    {
      "cell_type": "code",
      "metadata": {
        "colab": {
          "base_uri": "https://localhost:8080/"
        },
        "id": "nX_4gT4wYJRg",
        "outputId": "96a71470-079b-41f6-812e-4d2757ae8299"
      },
      "source": [
        "mse = mean_squared_error(y_test,pred)\n",
        "print(\"MSE: %.2f\" % mse)\n",
        "print(\"RMSE: %.2f\" % mse**(0.5))"
      ],
      "execution_count": 21,
      "outputs": [
        {
          "output_type": "stream",
          "text": [
            "MSE: 175939089.54\n",
            "RMSE: 13264.20\n"
          ],
          "name": "stdout"
        }
      ]
    },
    {
      "cell_type": "code",
      "metadata": {
        "id": "TVRveHzFYl1F"
      },
      "source": [
        "from sklearn.model_selection import GridSearchCV"
      ],
      "execution_count": 22,
      "outputs": []
    },
    {
      "cell_type": "code",
      "metadata": {
        "colab": {
          "base_uri": "https://localhost:8080/"
        },
        "id": "BAy6wp6cY4_k",
        "outputId": "31f3d222-b105-42ca-955a-a3bb64f49b81"
      },
      "source": [
        "params={\n",
        "    'n_estimators':[100],'max_depth':[5,6,7,8], \n",
        "    'min_samples_leaf':[1,2,3], 'min_samples_split':[2,3,4]\n",
        "}\n",
        "rf = RandomForestRegressor(random_state=42,n_jobs=-1)\n",
        "\n",
        "grid_cv=GridSearchCV(rf,param_grid=params,cv=2,n_jobs=-1)\n",
        "\n",
        "grid_cv.fit(X_train,y_train)\n",
        "\n",
        "print('GridSearchCV 최고의 평균 정확도 : {0:.4f}'.format(grid_cv.best_score_))\n",
        "print('GridSearchCV 최적의 하이퍼 파라미터 :',grid_cv.best_params_)"
      ],
      "execution_count": 29,
      "outputs": [
        {
          "output_type": "stream",
          "text": [
            "GridSearchCV 최고의 평균 정확도 : 0.8646\n",
            "GridSearchCV 최적의 하이퍼 파라미터 : {'max_depth': 8, 'min_samples_leaf': 1, 'min_samples_split': 4, 'n_estimators': 100}\n"
          ],
          "name": "stdout"
        }
      ]
    },
    {
      "cell_type": "code",
      "metadata": {
        "colab": {
          "base_uri": "https://localhost:8080/"
        },
        "id": "GWEX1GbsZCz2",
        "outputId": "6e13e1fb-3b81-4420-ff38-7846198209a9"
      },
      "source": [
        "rf = RandomForestRegressor(max_depth = 8,min_samples_leaf= 1, \n",
        "                           min_samples_split=4, n_estimators= 100,random_state=42)\n",
        "\n",
        "rf.fit(X_train,y_train)\n",
        "pred = rf.predict(X_test)\n",
        "rf.score(X_test,y_test)"
      ],
      "execution_count": 30,
      "outputs": [
        {
          "output_type": "execute_result",
          "data": {
            "text/plain": [
              "0.8668268896248226"
            ]
          },
          "metadata": {
            "tags": []
          },
          "execution_count": 30
        }
      ]
    },
    {
      "cell_type": "markdown",
      "metadata": {
        "id": "DdPqNH8hbgEW"
      },
      "source": [
        "## 의사결정나무"
      ]
    },
    {
      "cell_type": "code",
      "metadata": {
        "id": "dMOO-XUobPzG"
      },
      "source": [
        "from sklearn.tree import DecisionTreeRegressor"
      ],
      "execution_count": 25,
      "outputs": []
    },
    {
      "cell_type": "code",
      "metadata": {
        "colab": {
          "base_uri": "https://localhost:8080/"
        },
        "id": "-eI9AoJxbvD1",
        "outputId": "521bcd23-30c4-433b-f207-34aa938dd4c1"
      },
      "source": [
        "dt = DecisionTreeRegressor(random_state=42)\n",
        "dt.fit(X_train,y_train)\n",
        "dt.score(X_test,y_test)"
      ],
      "execution_count": 26,
      "outputs": [
        {
          "output_type": "execute_result",
          "data": {
            "text/plain": [
              "0.9281983418188381"
            ]
          },
          "metadata": {
            "tags": []
          },
          "execution_count": 26
        }
      ]
    },
    {
      "cell_type": "code",
      "metadata": {
        "id": "uXYXXsykdSnd"
      },
      "source": [
        "pred = dt.predict(X_test)\n",
        "mse = mean_squared_error(y_test,pred)"
      ],
      "execution_count": 27,
      "outputs": []
    },
    {
      "cell_type": "code",
      "metadata": {
        "colab": {
          "base_uri": "https://localhost:8080/"
        },
        "id": "fyZZYnRTdyOt",
        "outputId": "1e650090-28e1-4ac6-b4f1-aebc820f6ad7"
      },
      "source": [
        "print(\"MSE: %.2f\" % mse)\n",
        "print(\"RMSE: %.2f\" % mse**(0.5))"
      ],
      "execution_count": 28,
      "outputs": [
        {
          "output_type": "stream",
          "text": [
            "MSE: 272121739.84\n",
            "RMSE: 16496.11\n"
          ],
          "name": "stdout"
        }
      ]
    },
    {
      "cell_type": "code",
      "metadata": {
        "id": "aRdkUJU-d2nV"
      },
      "source": [
        ""
      ],
      "execution_count": 28,
      "outputs": []
    }
  ]
}