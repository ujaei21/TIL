{
  "nbformat": 4,
  "nbformat_minor": 0,
  "metadata": {
    "colab": {
      "name": "price_1.ipynb",
      "provenance": []
    },
    "kernelspec": {
      "name": "python3",
      "display_name": "Python 3"
    },
    "language_info": {
      "name": "python"
    }
  },
  "cells": [
    {
      "cell_type": "code",
      "metadata": {
        "id": "V6GPhxFidvyM"
      },
      "source": [
        "import warnings \n",
        "warnings.filterwarnings('ignore')"
      ],
      "execution_count": null,
      "outputs": []
    },
    {
      "cell_type": "code",
      "metadata": {
        "id": "SXqFFyCpeFWv"
      },
      "source": [
        "path = '/content/drive/MyDrive/Colab Notebooks/apart'\n",
        "path20 = '/content/drive/MyDrive/Colab Notebooks/apart/아파트(매매)__실거래가_2020.csv'\n",
        "path21 = '/content/drive/MyDrive/Colab Notebooks/apart/아파트(매매)__실거래가_2021.csv'"
      ],
      "execution_count": null,
      "outputs": []
    },
    {
      "cell_type": "code",
      "metadata": {
        "id": "u4lFKBWnehuA"
      },
      "source": [
        "import pandas as pd"
      ],
      "execution_count": null,
      "outputs": []
    },
    {
      "cell_type": "code",
      "metadata": {
        "id": "03Feh5OweWTU"
      },
      "source": [
        "df20 = pd.read_csv(path20,encoding='cp949')\n",
        "df21 = pd.read_csv(path21,encoding='cp949')"
      ],
      "execution_count": null,
      "outputs": []
    },
    {
      "cell_type": "code",
      "metadata": {
        "id": "7MsnaFczgNYR",
        "colab": {
          "base_uri": "https://localhost:8080/",
          "height": 963
        },
        "outputId": "79a63b99-c39a-465d-f58c-2e2535204b17"
      },
      "source": [
        "df20"
      ],
      "execution_count": null,
      "outputs": [
        {
          "output_type": "execute_result",
          "data": {
            "text/html": [
              "<div>\n",
              "<style scoped>\n",
              "    .dataframe tbody tr th:only-of-type {\n",
              "        vertical-align: middle;\n",
              "    }\n",
              "\n",
              "    .dataframe tbody tr th {\n",
              "        vertical-align: top;\n",
              "    }\n",
              "\n",
              "    .dataframe thead th {\n",
              "        text-align: right;\n",
              "    }\n",
              "</style>\n",
              "<table border=\"1\" class=\"dataframe\">\n",
              "  <thead>\n",
              "    <tr style=\"text-align: right;\">\n",
              "      <th></th>\n",
              "      <th>시군구</th>\n",
              "      <th>번지</th>\n",
              "      <th>본번</th>\n",
              "      <th>부번</th>\n",
              "      <th>단지명</th>\n",
              "      <th>전용면적(㎡)</th>\n",
              "      <th>계약년월</th>\n",
              "      <th>계약일</th>\n",
              "      <th>거래금액(만원)</th>\n",
              "      <th>층</th>\n",
              "      <th>건축년도</th>\n",
              "      <th>도로명</th>\n",
              "      <th>해제사유발생일</th>\n",
              "    </tr>\n",
              "  </thead>\n",
              "  <tbody>\n",
              "    <tr>\n",
              "      <th>0</th>\n",
              "      <td>서울특별시 강남구 개포동</td>\n",
              "      <td>655-2</td>\n",
              "      <td>655.0</td>\n",
              "      <td>2.0</td>\n",
              "      <td>개포2차현대아파트(220)</td>\n",
              "      <td>77.75</td>\n",
              "      <td>202006</td>\n",
              "      <td>23</td>\n",
              "      <td>149500</td>\n",
              "      <td>4</td>\n",
              "      <td>1988</td>\n",
              "      <td>언주로 103</td>\n",
              "      <td>NaN</td>\n",
              "    </tr>\n",
              "    <tr>\n",
              "      <th>1</th>\n",
              "      <td>서울특별시 강남구 개포동</td>\n",
              "      <td>658-1</td>\n",
              "      <td>658.0</td>\n",
              "      <td>1.0</td>\n",
              "      <td>개포6차우성아파트1동~8동</td>\n",
              "      <td>54.98</td>\n",
              "      <td>202002</td>\n",
              "      <td>24</td>\n",
              "      <td>144000</td>\n",
              "      <td>4</td>\n",
              "      <td>1987</td>\n",
              "      <td>언주로 3</td>\n",
              "      <td>NaN</td>\n",
              "    </tr>\n",
              "    <tr>\n",
              "      <th>2</th>\n",
              "      <td>서울특별시 강남구 개포동</td>\n",
              "      <td>658-1</td>\n",
              "      <td>658.0</td>\n",
              "      <td>1.0</td>\n",
              "      <td>개포6차우성아파트1동~8동</td>\n",
              "      <td>79.97</td>\n",
              "      <td>202006</td>\n",
              "      <td>18</td>\n",
              "      <td>162750</td>\n",
              "      <td>4</td>\n",
              "      <td>1987</td>\n",
              "      <td>언주로 3</td>\n",
              "      <td>NaN</td>\n",
              "    </tr>\n",
              "    <tr>\n",
              "      <th>3</th>\n",
              "      <td>서울특별시 강남구 개포동</td>\n",
              "      <td>658-1</td>\n",
              "      <td>658.0</td>\n",
              "      <td>1.0</td>\n",
              "      <td>개포6차우성아파트1동~8동</td>\n",
              "      <td>79.97</td>\n",
              "      <td>202006</td>\n",
              "      <td>20</td>\n",
              "      <td>160000</td>\n",
              "      <td>5</td>\n",
              "      <td>1987</td>\n",
              "      <td>언주로 3</td>\n",
              "      <td>NaN</td>\n",
              "    </tr>\n",
              "    <tr>\n",
              "      <th>4</th>\n",
              "      <td>서울특별시 강남구 개포동</td>\n",
              "      <td>658-1</td>\n",
              "      <td>658.0</td>\n",
              "      <td>1.0</td>\n",
              "      <td>개포6차우성아파트1동~8동</td>\n",
              "      <td>79.97</td>\n",
              "      <td>202006</td>\n",
              "      <td>22</td>\n",
              "      <td>150000</td>\n",
              "      <td>2</td>\n",
              "      <td>1987</td>\n",
              "      <td>언주로 3</td>\n",
              "      <td>NaN</td>\n",
              "    </tr>\n",
              "    <tr>\n",
              "      <th>...</th>\n",
              "      <td>...</td>\n",
              "      <td>...</td>\n",
              "      <td>...</td>\n",
              "      <td>...</td>\n",
              "      <td>...</td>\n",
              "      <td>...</td>\n",
              "      <td>...</td>\n",
              "      <td>...</td>\n",
              "      <td>...</td>\n",
              "      <td>...</td>\n",
              "      <td>...</td>\n",
              "      <td>...</td>\n",
              "      <td>...</td>\n",
              "    </tr>\n",
              "    <tr>\n",
              "      <th>84221</th>\n",
              "      <td>서울특별시 중랑구 중화동</td>\n",
              "      <td>274-77</td>\n",
              "      <td>274.0</td>\n",
              "      <td>77.0</td>\n",
              "      <td>한영(104)</td>\n",
              "      <td>67.57</td>\n",
              "      <td>202008</td>\n",
              "      <td>7</td>\n",
              "      <td>26000</td>\n",
              "      <td>2</td>\n",
              "      <td>2003</td>\n",
              "      <td>동일로144길 74</td>\n",
              "      <td>NaN</td>\n",
              "    </tr>\n",
              "    <tr>\n",
              "      <th>84222</th>\n",
              "      <td>서울특별시 중랑구 중화동</td>\n",
              "      <td>11</td>\n",
              "      <td>11.0</td>\n",
              "      <td>0.0</td>\n",
              "      <td>현대휴앤미</td>\n",
              "      <td>95.94</td>\n",
              "      <td>202007</td>\n",
              "      <td>10</td>\n",
              "      <td>44000</td>\n",
              "      <td>6</td>\n",
              "      <td>2007</td>\n",
              "      <td>봉화산로27가길 23</td>\n",
              "      <td>NaN</td>\n",
              "    </tr>\n",
              "    <tr>\n",
              "      <th>84223</th>\n",
              "      <td>서울특별시 중랑구 중화동</td>\n",
              "      <td>11</td>\n",
              "      <td>11.0</td>\n",
              "      <td>0.0</td>\n",
              "      <td>현대휴앤미</td>\n",
              "      <td>100.17</td>\n",
              "      <td>202012</td>\n",
              "      <td>3</td>\n",
              "      <td>54800</td>\n",
              "      <td>5</td>\n",
              "      <td>2007</td>\n",
              "      <td>봉화산로27가길 23</td>\n",
              "      <td>NaN</td>\n",
              "    </tr>\n",
              "    <tr>\n",
              "      <th>84224</th>\n",
              "      <td>서울특별시 중랑구 중화동</td>\n",
              "      <td>11월 07일</td>\n",
              "      <td>11.0</td>\n",
              "      <td>7.0</td>\n",
              "      <td>현대휴앤미(102동)</td>\n",
              "      <td>77.71</td>\n",
              "      <td>202009</td>\n",
              "      <td>28</td>\n",
              "      <td>40000</td>\n",
              "      <td>5</td>\n",
              "      <td>2007</td>\n",
              "      <td>봉화산로27가길 19</td>\n",
              "      <td>20201027.0</td>\n",
              "    </tr>\n",
              "    <tr>\n",
              "      <th>84225</th>\n",
              "      <td>서울특별시 중랑구 중화동</td>\n",
              "      <td>11월 07일</td>\n",
              "      <td>11.0</td>\n",
              "      <td>7.0</td>\n",
              "      <td>현대휴앤미(102동)</td>\n",
              "      <td>77.71</td>\n",
              "      <td>202009</td>\n",
              "      <td>28</td>\n",
              "      <td>40000</td>\n",
              "      <td>5</td>\n",
              "      <td>2007</td>\n",
              "      <td>봉화산로27가길 19</td>\n",
              "      <td>NaN</td>\n",
              "    </tr>\n",
              "  </tbody>\n",
              "</table>\n",
              "<p>84226 rows × 13 columns</p>\n",
              "</div>"
            ],
            "text/plain": [
              "                 시군구       번지     본번    부번  ...  층  건축년도          도로명     해제사유발생일\n",
              "0      서울특별시 강남구 개포동    655-2  655.0   2.0  ...  4  1988      언주로 103         NaN\n",
              "1      서울특별시 강남구 개포동    658-1  658.0   1.0  ...  4  1987        언주로 3         NaN\n",
              "2      서울특별시 강남구 개포동    658-1  658.0   1.0  ...  4  1987        언주로 3         NaN\n",
              "3      서울특별시 강남구 개포동    658-1  658.0   1.0  ...  5  1987        언주로 3         NaN\n",
              "4      서울특별시 강남구 개포동    658-1  658.0   1.0  ...  2  1987        언주로 3         NaN\n",
              "...              ...      ...    ...   ...  ... ..   ...          ...         ...\n",
              "84221  서울특별시 중랑구 중화동   274-77  274.0  77.0  ...  2  2003   동일로144길 74         NaN\n",
              "84222  서울특별시 중랑구 중화동       11   11.0   0.0  ...  6  2007  봉화산로27가길 23         NaN\n",
              "84223  서울특별시 중랑구 중화동       11   11.0   0.0  ...  5  2007  봉화산로27가길 23         NaN\n",
              "84224  서울특별시 중랑구 중화동  11월 07일   11.0   7.0  ...  5  2007  봉화산로27가길 19  20201027.0\n",
              "84225  서울특별시 중랑구 중화동  11월 07일   11.0   7.0  ...  5  2007  봉화산로27가길 19         NaN\n",
              "\n",
              "[84226 rows x 13 columns]"
            ]
          },
          "metadata": {
            "tags": []
          },
          "execution_count": 5
        }
      ]
    },
    {
      "cell_type": "code",
      "metadata": {
        "id": "sFJNnUK_iNDm",
        "colab": {
          "base_uri": "https://localhost:8080/",
          "height": 963
        },
        "outputId": "cb0918f7-82c8-46b2-e253-19106adb7a49"
      },
      "source": [
        "df21"
      ],
      "execution_count": null,
      "outputs": [
        {
          "output_type": "execute_result",
          "data": {
            "text/html": [
              "<div>\n",
              "<style scoped>\n",
              "    .dataframe tbody tr th:only-of-type {\n",
              "        vertical-align: middle;\n",
              "    }\n",
              "\n",
              "    .dataframe tbody tr th {\n",
              "        vertical-align: top;\n",
              "    }\n",
              "\n",
              "    .dataframe thead th {\n",
              "        text-align: right;\n",
              "    }\n",
              "</style>\n",
              "<table border=\"1\" class=\"dataframe\">\n",
              "  <thead>\n",
              "    <tr style=\"text-align: right;\">\n",
              "      <th></th>\n",
              "      <th>시군구</th>\n",
              "      <th>번지</th>\n",
              "      <th>본번</th>\n",
              "      <th>부번</th>\n",
              "      <th>단지명</th>\n",
              "      <th>전용면적(㎡)</th>\n",
              "      <th>계약년월</th>\n",
              "      <th>계약일</th>\n",
              "      <th>거래금액(만원)</th>\n",
              "      <th>층</th>\n",
              "      <th>건축년도</th>\n",
              "      <th>도로명</th>\n",
              "      <th>해제사유발생일</th>\n",
              "    </tr>\n",
              "  </thead>\n",
              "  <tbody>\n",
              "    <tr>\n",
              "      <th>0</th>\n",
              "      <td>서울특별시 강남구 개포동</td>\n",
              "      <td>655-2</td>\n",
              "      <td>655.0</td>\n",
              "      <td>2.0</td>\n",
              "      <td>개포2차현대아파트(220)</td>\n",
              "      <td>77.75</td>\n",
              "      <td>202104</td>\n",
              "      <td>15</td>\n",
              "      <td>174000</td>\n",
              "      <td>9</td>\n",
              "      <td>1988</td>\n",
              "      <td>언주로 103</td>\n",
              "      <td>NaN</td>\n",
              "    </tr>\n",
              "    <tr>\n",
              "      <th>1</th>\n",
              "      <td>서울특별시 강남구 개포동</td>\n",
              "      <td>658-1</td>\n",
              "      <td>658.0</td>\n",
              "      <td>1.0</td>\n",
              "      <td>개포6차우성아파트1동~8동</td>\n",
              "      <td>79.97</td>\n",
              "      <td>202105</td>\n",
              "      <td>15</td>\n",
              "      <td>195000</td>\n",
              "      <td>5</td>\n",
              "      <td>1987</td>\n",
              "      <td>언주로 3</td>\n",
              "      <td>NaN</td>\n",
              "    </tr>\n",
              "    <tr>\n",
              "      <th>2</th>\n",
              "      <td>서울특별시 강남구 개포동</td>\n",
              "      <td>1282</td>\n",
              "      <td>1282.0</td>\n",
              "      <td>0.0</td>\n",
              "      <td>개포래미안포레스트</td>\n",
              "      <td>59.92</td>\n",
              "      <td>202105</td>\n",
              "      <td>22</td>\n",
              "      <td>198500</td>\n",
              "      <td>18</td>\n",
              "      <td>2020</td>\n",
              "      <td>개포로 264</td>\n",
              "      <td>20210526.0</td>\n",
              "    </tr>\n",
              "    <tr>\n",
              "      <th>3</th>\n",
              "      <td>서울특별시 강남구 개포동</td>\n",
              "      <td>1282</td>\n",
              "      <td>1282.0</td>\n",
              "      <td>0.0</td>\n",
              "      <td>개포래미안포레스트</td>\n",
              "      <td>49.92</td>\n",
              "      <td>202105</td>\n",
              "      <td>22</td>\n",
              "      <td>180000</td>\n",
              "      <td>7</td>\n",
              "      <td>2020</td>\n",
              "      <td>개포로 264</td>\n",
              "      <td>20210526.0</td>\n",
              "    </tr>\n",
              "    <tr>\n",
              "      <th>4</th>\n",
              "      <td>서울특별시 강남구 개포동</td>\n",
              "      <td>1282</td>\n",
              "      <td>1282.0</td>\n",
              "      <td>0.0</td>\n",
              "      <td>개포래미안포레스트</td>\n",
              "      <td>59.92</td>\n",
              "      <td>202106</td>\n",
              "      <td>13</td>\n",
              "      <td>210000</td>\n",
              "      <td>5</td>\n",
              "      <td>2020</td>\n",
              "      <td>개포로 264</td>\n",
              "      <td>NaN</td>\n",
              "    </tr>\n",
              "    <tr>\n",
              "      <th>...</th>\n",
              "      <td>...</td>\n",
              "      <td>...</td>\n",
              "      <td>...</td>\n",
              "      <td>...</td>\n",
              "      <td>...</td>\n",
              "      <td>...</td>\n",
              "      <td>...</td>\n",
              "      <td>...</td>\n",
              "      <td>...</td>\n",
              "      <td>...</td>\n",
              "      <td>...</td>\n",
              "      <td>...</td>\n",
              "      <td>...</td>\n",
              "    </tr>\n",
              "    <tr>\n",
              "      <th>29918</th>\n",
              "      <td>서울특별시 중랑구 중화동</td>\n",
              "      <td>450</td>\n",
              "      <td>450.0</td>\n",
              "      <td>0.0</td>\n",
              "      <td>한신2</td>\n",
              "      <td>59.76</td>\n",
              "      <td>202104</td>\n",
              "      <td>10</td>\n",
              "      <td>66000</td>\n",
              "      <td>6</td>\n",
              "      <td>1998</td>\n",
              "      <td>동일로 752</td>\n",
              "      <td>NaN</td>\n",
              "    </tr>\n",
              "    <tr>\n",
              "      <th>29919</th>\n",
              "      <td>서울특별시 중랑구 중화동</td>\n",
              "      <td>450</td>\n",
              "      <td>450.0</td>\n",
              "      <td>0.0</td>\n",
              "      <td>한신2</td>\n",
              "      <td>59.76</td>\n",
              "      <td>202104</td>\n",
              "      <td>16</td>\n",
              "      <td>68000</td>\n",
              "      <td>13</td>\n",
              "      <td>1998</td>\n",
              "      <td>동일로 752</td>\n",
              "      <td>NaN</td>\n",
              "    </tr>\n",
              "    <tr>\n",
              "      <th>29920</th>\n",
              "      <td>서울특별시 중랑구 중화동</td>\n",
              "      <td>274-51</td>\n",
              "      <td>274.0</td>\n",
              "      <td>51.0</td>\n",
              "      <td>한영(101)</td>\n",
              "      <td>57.66</td>\n",
              "      <td>202102</td>\n",
              "      <td>27</td>\n",
              "      <td>30500</td>\n",
              "      <td>5</td>\n",
              "      <td>2003</td>\n",
              "      <td>동일로144길 74</td>\n",
              "      <td>NaN</td>\n",
              "    </tr>\n",
              "    <tr>\n",
              "      <th>29921</th>\n",
              "      <td>서울특별시 중랑구 중화동</td>\n",
              "      <td>274-75</td>\n",
              "      <td>274.0</td>\n",
              "      <td>75.0</td>\n",
              "      <td>한영(102)</td>\n",
              "      <td>72.22</td>\n",
              "      <td>202105</td>\n",
              "      <td>4</td>\n",
              "      <td>49500</td>\n",
              "      <td>4</td>\n",
              "      <td>2003</td>\n",
              "      <td>동일로144길 74</td>\n",
              "      <td>NaN</td>\n",
              "    </tr>\n",
              "    <tr>\n",
              "      <th>29922</th>\n",
              "      <td>서울특별시 중랑구 중화동</td>\n",
              "      <td>274-76</td>\n",
              "      <td>274.0</td>\n",
              "      <td>76.0</td>\n",
              "      <td>한영(103)</td>\n",
              "      <td>58.46</td>\n",
              "      <td>202107</td>\n",
              "      <td>1</td>\n",
              "      <td>30000</td>\n",
              "      <td>2</td>\n",
              "      <td>2003</td>\n",
              "      <td>동일로144길 74</td>\n",
              "      <td>NaN</td>\n",
              "    </tr>\n",
              "  </tbody>\n",
              "</table>\n",
              "<p>29923 rows × 13 columns</p>\n",
              "</div>"
            ],
            "text/plain": [
              "                 시군구      번지      본번    부번  ...   층  건축년도         도로명     해제사유발생일\n",
              "0      서울특별시 강남구 개포동   655-2   655.0   2.0  ...   9  1988     언주로 103         NaN\n",
              "1      서울특별시 강남구 개포동   658-1   658.0   1.0  ...   5  1987       언주로 3         NaN\n",
              "2      서울특별시 강남구 개포동    1282  1282.0   0.0  ...  18  2020     개포로 264  20210526.0\n",
              "3      서울특별시 강남구 개포동    1282  1282.0   0.0  ...   7  2020     개포로 264  20210526.0\n",
              "4      서울특별시 강남구 개포동    1282  1282.0   0.0  ...   5  2020     개포로 264         NaN\n",
              "...              ...     ...     ...   ...  ...  ..   ...         ...         ...\n",
              "29918  서울특별시 중랑구 중화동     450   450.0   0.0  ...   6  1998     동일로 752         NaN\n",
              "29919  서울특별시 중랑구 중화동     450   450.0   0.0  ...  13  1998     동일로 752         NaN\n",
              "29920  서울특별시 중랑구 중화동  274-51   274.0  51.0  ...   5  2003  동일로144길 74         NaN\n",
              "29921  서울특별시 중랑구 중화동  274-75   274.0  75.0  ...   4  2003  동일로144길 74         NaN\n",
              "29922  서울특별시 중랑구 중화동  274-76   274.0  76.0  ...   2  2003  동일로144길 74         NaN\n",
              "\n",
              "[29923 rows x 13 columns]"
            ]
          },
          "metadata": {
            "tags": []
          },
          "execution_count": 6
        }
      ]
    },
    {
      "cell_type": "code",
      "metadata": {
        "id": "M5TyRdSCiiX9"
      },
      "source": [
        "df=df20.append(df21)"
      ],
      "execution_count": null,
      "outputs": []
    },
    {
      "cell_type": "code",
      "metadata": {
        "colab": {
          "base_uri": "https://localhost:8080/",
          "height": 408
        },
        "id": "jFOTZ0ue8co1",
        "outputId": "ce4370be-c973-4e61-b51b-d902fe40f6c6"
      },
      "source": [
        "df.tail()"
      ],
      "execution_count": null,
      "outputs": [
        {
          "output_type": "execute_result",
          "data": {
            "text/html": [
              "<div>\n",
              "<style scoped>\n",
              "    .dataframe tbody tr th:only-of-type {\n",
              "        vertical-align: middle;\n",
              "    }\n",
              "\n",
              "    .dataframe tbody tr th {\n",
              "        vertical-align: top;\n",
              "    }\n",
              "\n",
              "    .dataframe thead th {\n",
              "        text-align: right;\n",
              "    }\n",
              "</style>\n",
              "<table border=\"1\" class=\"dataframe\">\n",
              "  <thead>\n",
              "    <tr style=\"text-align: right;\">\n",
              "      <th></th>\n",
              "      <th>시군구</th>\n",
              "      <th>번지</th>\n",
              "      <th>본번</th>\n",
              "      <th>부번</th>\n",
              "      <th>단지명</th>\n",
              "      <th>전용면적(㎡)</th>\n",
              "      <th>계약년월</th>\n",
              "      <th>계약일</th>\n",
              "      <th>거래금액(만원)</th>\n",
              "      <th>층</th>\n",
              "      <th>건축년도</th>\n",
              "      <th>도로명</th>\n",
              "      <th>해제사유발생일</th>\n",
              "    </tr>\n",
              "  </thead>\n",
              "  <tbody>\n",
              "    <tr>\n",
              "      <th>29918</th>\n",
              "      <td>서울특별시 중랑구 중화동</td>\n",
              "      <td>450</td>\n",
              "      <td>450.0</td>\n",
              "      <td>0.0</td>\n",
              "      <td>한신2</td>\n",
              "      <td>59.76</td>\n",
              "      <td>202104</td>\n",
              "      <td>10</td>\n",
              "      <td>66000</td>\n",
              "      <td>6</td>\n",
              "      <td>1998</td>\n",
              "      <td>동일로 752</td>\n",
              "      <td>NaN</td>\n",
              "    </tr>\n",
              "    <tr>\n",
              "      <th>29919</th>\n",
              "      <td>서울특별시 중랑구 중화동</td>\n",
              "      <td>450</td>\n",
              "      <td>450.0</td>\n",
              "      <td>0.0</td>\n",
              "      <td>한신2</td>\n",
              "      <td>59.76</td>\n",
              "      <td>202104</td>\n",
              "      <td>16</td>\n",
              "      <td>68000</td>\n",
              "      <td>13</td>\n",
              "      <td>1998</td>\n",
              "      <td>동일로 752</td>\n",
              "      <td>NaN</td>\n",
              "    </tr>\n",
              "    <tr>\n",
              "      <th>29920</th>\n",
              "      <td>서울특별시 중랑구 중화동</td>\n",
              "      <td>274-51</td>\n",
              "      <td>274.0</td>\n",
              "      <td>51.0</td>\n",
              "      <td>한영(101)</td>\n",
              "      <td>57.66</td>\n",
              "      <td>202102</td>\n",
              "      <td>27</td>\n",
              "      <td>30500</td>\n",
              "      <td>5</td>\n",
              "      <td>2003</td>\n",
              "      <td>동일로144길 74</td>\n",
              "      <td>NaN</td>\n",
              "    </tr>\n",
              "    <tr>\n",
              "      <th>29921</th>\n",
              "      <td>서울특별시 중랑구 중화동</td>\n",
              "      <td>274-75</td>\n",
              "      <td>274.0</td>\n",
              "      <td>75.0</td>\n",
              "      <td>한영(102)</td>\n",
              "      <td>72.22</td>\n",
              "      <td>202105</td>\n",
              "      <td>4</td>\n",
              "      <td>49500</td>\n",
              "      <td>4</td>\n",
              "      <td>2003</td>\n",
              "      <td>동일로144길 74</td>\n",
              "      <td>NaN</td>\n",
              "    </tr>\n",
              "    <tr>\n",
              "      <th>29922</th>\n",
              "      <td>서울특별시 중랑구 중화동</td>\n",
              "      <td>274-76</td>\n",
              "      <td>274.0</td>\n",
              "      <td>76.0</td>\n",
              "      <td>한영(103)</td>\n",
              "      <td>58.46</td>\n",
              "      <td>202107</td>\n",
              "      <td>1</td>\n",
              "      <td>30000</td>\n",
              "      <td>2</td>\n",
              "      <td>2003</td>\n",
              "      <td>동일로144길 74</td>\n",
              "      <td>NaN</td>\n",
              "    </tr>\n",
              "  </tbody>\n",
              "</table>\n",
              "</div>"
            ],
            "text/plain": [
              "                 시군구      번지     본번    부번  ...   층  건축년도         도로명  해제사유발생일\n",
              "29918  서울특별시 중랑구 중화동     450  450.0   0.0  ...   6  1998     동일로 752      NaN\n",
              "29919  서울특별시 중랑구 중화동     450  450.0   0.0  ...  13  1998     동일로 752      NaN\n",
              "29920  서울특별시 중랑구 중화동  274-51  274.0  51.0  ...   5  2003  동일로144길 74      NaN\n",
              "29921  서울특별시 중랑구 중화동  274-75  274.0  75.0  ...   4  2003  동일로144길 74      NaN\n",
              "29922  서울특별시 중랑구 중화동  274-76  274.0  76.0  ...   2  2003  동일로144길 74      NaN\n",
              "\n",
              "[5 rows x 13 columns]"
            ]
          },
          "metadata": {
            "tags": []
          },
          "execution_count": 8
        }
      ]
    },
    {
      "cell_type": "code",
      "metadata": {
        "colab": {
          "base_uri": "https://localhost:8080/"
        },
        "id": "z-xuQC0A8pZJ",
        "outputId": "d9e7298f-d4b5-4bf5-c734-5d9502587fad"
      },
      "source": [
        "df.info()"
      ],
      "execution_count": null,
      "outputs": [
        {
          "output_type": "stream",
          "text": [
            "<class 'pandas.core.frame.DataFrame'>\n",
            "Int64Index: 114149 entries, 0 to 29922\n",
            "Data columns (total 13 columns):\n",
            " #   Column    Non-Null Count   Dtype  \n",
            "---  ------    --------------   -----  \n",
            " 0   시군구       114149 non-null  object \n",
            " 1   번지        114115 non-null  object \n",
            " 2   본번        114134 non-null  float64\n",
            " 3   부번        114134 non-null  float64\n",
            " 4   단지명       114149 non-null  object \n",
            " 5   전용면적(㎡)   114149 non-null  float64\n",
            " 6   계약년월      114149 non-null  int64  \n",
            " 7   계약일       114149 non-null  int64  \n",
            " 8   거래금액(만원)  114149 non-null  int64  \n",
            " 9   층         114149 non-null  int64  \n",
            " 10  건축년도      114149 non-null  int64  \n",
            " 11  도로명       114149 non-null  object \n",
            " 12  해제사유발생일   3751 non-null    float64\n",
            "dtypes: float64(4), int64(5), object(4)\n",
            "memory usage: 12.2+ MB\n"
          ],
          "name": "stdout"
        }
      ]
    },
    {
      "cell_type": "code",
      "metadata": {
        "id": "p6teoGLc9xjI"
      },
      "source": [
        "df['Gu']=df['시군구'].str.split(' ').str[1]\n",
        "df['Dong']=df['시군구'].str.split(' ').str[2]"
      ],
      "execution_count": null,
      "outputs": []
    },
    {
      "cell_type": "code",
      "metadata": {
        "colab": {
          "base_uri": "https://localhost:8080/",
          "height": 493
        },
        "id": "urzPCb4awHIy",
        "outputId": "6974bf93-1ddd-49b8-d0b1-e401506c265e"
      },
      "source": [
        "df.head()"
      ],
      "execution_count": null,
      "outputs": [
        {
          "output_type": "execute_result",
          "data": {
            "text/html": [
              "<div>\n",
              "<style scoped>\n",
              "    .dataframe tbody tr th:only-of-type {\n",
              "        vertical-align: middle;\n",
              "    }\n",
              "\n",
              "    .dataframe tbody tr th {\n",
              "        vertical-align: top;\n",
              "    }\n",
              "\n",
              "    .dataframe thead th {\n",
              "        text-align: right;\n",
              "    }\n",
              "</style>\n",
              "<table border=\"1\" class=\"dataframe\">\n",
              "  <thead>\n",
              "    <tr style=\"text-align: right;\">\n",
              "      <th></th>\n",
              "      <th>시군구</th>\n",
              "      <th>번지</th>\n",
              "      <th>본번</th>\n",
              "      <th>부번</th>\n",
              "      <th>단지명</th>\n",
              "      <th>전용면적(㎡)</th>\n",
              "      <th>계약년월</th>\n",
              "      <th>계약일</th>\n",
              "      <th>거래금액(만원)</th>\n",
              "      <th>층</th>\n",
              "      <th>건축년도</th>\n",
              "      <th>도로명</th>\n",
              "      <th>해제사유발생일</th>\n",
              "      <th>Gu</th>\n",
              "      <th>Dong</th>\n",
              "    </tr>\n",
              "  </thead>\n",
              "  <tbody>\n",
              "    <tr>\n",
              "      <th>0</th>\n",
              "      <td>서울특별시 강남구 개포동</td>\n",
              "      <td>655-2</td>\n",
              "      <td>655.0</td>\n",
              "      <td>2.0</td>\n",
              "      <td>개포2차현대아파트(220)</td>\n",
              "      <td>77.75</td>\n",
              "      <td>202006</td>\n",
              "      <td>23</td>\n",
              "      <td>149500</td>\n",
              "      <td>4</td>\n",
              "      <td>1988</td>\n",
              "      <td>언주로 103</td>\n",
              "      <td>NaN</td>\n",
              "      <td>강남구</td>\n",
              "      <td>개포동</td>\n",
              "    </tr>\n",
              "    <tr>\n",
              "      <th>1</th>\n",
              "      <td>서울특별시 강남구 개포동</td>\n",
              "      <td>658-1</td>\n",
              "      <td>658.0</td>\n",
              "      <td>1.0</td>\n",
              "      <td>개포6차우성아파트1동~8동</td>\n",
              "      <td>54.98</td>\n",
              "      <td>202002</td>\n",
              "      <td>24</td>\n",
              "      <td>144000</td>\n",
              "      <td>4</td>\n",
              "      <td>1987</td>\n",
              "      <td>언주로 3</td>\n",
              "      <td>NaN</td>\n",
              "      <td>강남구</td>\n",
              "      <td>개포동</td>\n",
              "    </tr>\n",
              "    <tr>\n",
              "      <th>2</th>\n",
              "      <td>서울특별시 강남구 개포동</td>\n",
              "      <td>658-1</td>\n",
              "      <td>658.0</td>\n",
              "      <td>1.0</td>\n",
              "      <td>개포6차우성아파트1동~8동</td>\n",
              "      <td>79.97</td>\n",
              "      <td>202006</td>\n",
              "      <td>18</td>\n",
              "      <td>162750</td>\n",
              "      <td>4</td>\n",
              "      <td>1987</td>\n",
              "      <td>언주로 3</td>\n",
              "      <td>NaN</td>\n",
              "      <td>강남구</td>\n",
              "      <td>개포동</td>\n",
              "    </tr>\n",
              "    <tr>\n",
              "      <th>3</th>\n",
              "      <td>서울특별시 강남구 개포동</td>\n",
              "      <td>658-1</td>\n",
              "      <td>658.0</td>\n",
              "      <td>1.0</td>\n",
              "      <td>개포6차우성아파트1동~8동</td>\n",
              "      <td>79.97</td>\n",
              "      <td>202006</td>\n",
              "      <td>20</td>\n",
              "      <td>160000</td>\n",
              "      <td>5</td>\n",
              "      <td>1987</td>\n",
              "      <td>언주로 3</td>\n",
              "      <td>NaN</td>\n",
              "      <td>강남구</td>\n",
              "      <td>개포동</td>\n",
              "    </tr>\n",
              "    <tr>\n",
              "      <th>4</th>\n",
              "      <td>서울특별시 강남구 개포동</td>\n",
              "      <td>658-1</td>\n",
              "      <td>658.0</td>\n",
              "      <td>1.0</td>\n",
              "      <td>개포6차우성아파트1동~8동</td>\n",
              "      <td>79.97</td>\n",
              "      <td>202006</td>\n",
              "      <td>22</td>\n",
              "      <td>150000</td>\n",
              "      <td>2</td>\n",
              "      <td>1987</td>\n",
              "      <td>언주로 3</td>\n",
              "      <td>NaN</td>\n",
              "      <td>강남구</td>\n",
              "      <td>개포동</td>\n",
              "    </tr>\n",
              "  </tbody>\n",
              "</table>\n",
              "</div>"
            ],
            "text/plain": [
              "             시군구     번지     본번   부번  ...      도로명  해제사유발생일   Gu  Dong\n",
              "0  서울특별시 강남구 개포동  655-2  655.0  2.0  ...  언주로 103      NaN  강남구   개포동\n",
              "1  서울특별시 강남구 개포동  658-1  658.0  1.0  ...    언주로 3      NaN  강남구   개포동\n",
              "2  서울특별시 강남구 개포동  658-1  658.0  1.0  ...    언주로 3      NaN  강남구   개포동\n",
              "3  서울특별시 강남구 개포동  658-1  658.0  1.0  ...    언주로 3      NaN  강남구   개포동\n",
              "4  서울특별시 강남구 개포동  658-1  658.0  1.0  ...    언주로 3      NaN  강남구   개포동\n",
              "\n",
              "[5 rows x 15 columns]"
            ]
          },
          "metadata": {
            "tags": []
          },
          "execution_count": 11
        }
      ]
    },
    {
      "cell_type": "code",
      "metadata": {
        "id": "x3yhtn8NwY1c"
      },
      "source": [
        "df.rename({'시군구':'si','번지':'Jibun','본번':'Bonbun','부번':'Bubun','단지명':'Apt','전용면적(㎡)':'Exclusive_area',\n",
        "           '계약년월':'Transaction_year_month','계약일':'transaction_date','층':'Floor','건축년도':'Completion',\n",
        "           '도로명':'St','해제사유발생일':'Cancle','거래금액(만원)':'Transaction_real_price'},axis=1,inplace=True)"
      ],
      "execution_count": null,
      "outputs": []
    },
    {
      "cell_type": "code",
      "metadata": {
        "colab": {
          "base_uri": "https://localhost:8080/",
          "height": 1000
        },
        "id": "pFOV0upM0xFX",
        "outputId": "901cf147-0332-421c-82d4-115a2e0f993f"
      },
      "source": [
        "df.head()"
      ],
      "execution_count": null,
      "outputs": [
        {
          "output_type": "execute_result",
          "data": {
            "text/html": [
              "<div>\n",
              "<style scoped>\n",
              "    .dataframe tbody tr th:only-of-type {\n",
              "        vertical-align: middle;\n",
              "    }\n",
              "\n",
              "    .dataframe tbody tr th {\n",
              "        vertical-align: top;\n",
              "    }\n",
              "\n",
              "    .dataframe thead th {\n",
              "        text-align: right;\n",
              "    }\n",
              "</style>\n",
              "<table border=\"1\" class=\"dataframe\">\n",
              "  <thead>\n",
              "    <tr style=\"text-align: right;\">\n",
              "      <th></th>\n",
              "      <th>si</th>\n",
              "      <th>Jibun</th>\n",
              "      <th>Bonbun</th>\n",
              "      <th>Bubun</th>\n",
              "      <th>Apt</th>\n",
              "      <th>Exclusive_area</th>\n",
              "      <th>Transaction_year_month</th>\n",
              "      <th>transaction_date</th>\n",
              "      <th>Transaction_real_price</th>\n",
              "      <th>Floor</th>\n",
              "      <th>Completion</th>\n",
              "      <th>St</th>\n",
              "      <th>Cancle</th>\n",
              "      <th>Gu</th>\n",
              "      <th>Dong</th>\n",
              "    </tr>\n",
              "  </thead>\n",
              "  <tbody>\n",
              "    <tr>\n",
              "      <th>0</th>\n",
              "      <td>서울특별시 강남구 개포동</td>\n",
              "      <td>655-2</td>\n",
              "      <td>655.0</td>\n",
              "      <td>2.0</td>\n",
              "      <td>개포2차현대아파트(220)</td>\n",
              "      <td>77.75</td>\n",
              "      <td>202006</td>\n",
              "      <td>23</td>\n",
              "      <td>149500</td>\n",
              "      <td>4</td>\n",
              "      <td>1988</td>\n",
              "      <td>언주로 103</td>\n",
              "      <td>NaN</td>\n",
              "      <td>강남구</td>\n",
              "      <td>개포동</td>\n",
              "    </tr>\n",
              "    <tr>\n",
              "      <th>1</th>\n",
              "      <td>서울특별시 강남구 개포동</td>\n",
              "      <td>658-1</td>\n",
              "      <td>658.0</td>\n",
              "      <td>1.0</td>\n",
              "      <td>개포6차우성아파트1동~8동</td>\n",
              "      <td>54.98</td>\n",
              "      <td>202002</td>\n",
              "      <td>24</td>\n",
              "      <td>144000</td>\n",
              "      <td>4</td>\n",
              "      <td>1987</td>\n",
              "      <td>언주로 3</td>\n",
              "      <td>NaN</td>\n",
              "      <td>강남구</td>\n",
              "      <td>개포동</td>\n",
              "    </tr>\n",
              "    <tr>\n",
              "      <th>2</th>\n",
              "      <td>서울특별시 강남구 개포동</td>\n",
              "      <td>658-1</td>\n",
              "      <td>658.0</td>\n",
              "      <td>1.0</td>\n",
              "      <td>개포6차우성아파트1동~8동</td>\n",
              "      <td>79.97</td>\n",
              "      <td>202006</td>\n",
              "      <td>18</td>\n",
              "      <td>162750</td>\n",
              "      <td>4</td>\n",
              "      <td>1987</td>\n",
              "      <td>언주로 3</td>\n",
              "      <td>NaN</td>\n",
              "      <td>강남구</td>\n",
              "      <td>개포동</td>\n",
              "    </tr>\n",
              "    <tr>\n",
              "      <th>3</th>\n",
              "      <td>서울특별시 강남구 개포동</td>\n",
              "      <td>658-1</td>\n",
              "      <td>658.0</td>\n",
              "      <td>1.0</td>\n",
              "      <td>개포6차우성아파트1동~8동</td>\n",
              "      <td>79.97</td>\n",
              "      <td>202006</td>\n",
              "      <td>20</td>\n",
              "      <td>160000</td>\n",
              "      <td>5</td>\n",
              "      <td>1987</td>\n",
              "      <td>언주로 3</td>\n",
              "      <td>NaN</td>\n",
              "      <td>강남구</td>\n",
              "      <td>개포동</td>\n",
              "    </tr>\n",
              "    <tr>\n",
              "      <th>4</th>\n",
              "      <td>서울특별시 강남구 개포동</td>\n",
              "      <td>658-1</td>\n",
              "      <td>658.0</td>\n",
              "      <td>1.0</td>\n",
              "      <td>개포6차우성아파트1동~8동</td>\n",
              "      <td>79.97</td>\n",
              "      <td>202006</td>\n",
              "      <td>22</td>\n",
              "      <td>150000</td>\n",
              "      <td>2</td>\n",
              "      <td>1987</td>\n",
              "      <td>언주로 3</td>\n",
              "      <td>NaN</td>\n",
              "      <td>강남구</td>\n",
              "      <td>개포동</td>\n",
              "    </tr>\n",
              "  </tbody>\n",
              "</table>\n",
              "</div>"
            ],
            "text/plain": [
              "              si  Jibun  Bonbun  Bubun  ...       St  Cancle   Gu  Dong\n",
              "0  서울특별시 강남구 개포동  655-2   655.0    2.0  ...  언주로 103     NaN  강남구   개포동\n",
              "1  서울특별시 강남구 개포동  658-1   658.0    1.0  ...    언주로 3     NaN  강남구   개포동\n",
              "2  서울특별시 강남구 개포동  658-1   658.0    1.0  ...    언주로 3     NaN  강남구   개포동\n",
              "3  서울특별시 강남구 개포동  658-1   658.0    1.0  ...    언주로 3     NaN  강남구   개포동\n",
              "4  서울특별시 강남구 개포동  658-1   658.0    1.0  ...    언주로 3     NaN  강남구   개포동\n",
              "\n",
              "[5 rows x 15 columns]"
            ]
          },
          "metadata": {
            "tags": []
          },
          "execution_count": 13
        }
      ]
    },
    {
      "cell_type": "code",
      "metadata": {
        "colab": {
          "base_uri": "https://localhost:8080/"
        },
        "id": "bb9xCOmw0x7k",
        "outputId": "c93a2562-4dad-4f9f-a9b1-62f03bd038b0"
      },
      "source": [
        "df.info()"
      ],
      "execution_count": null,
      "outputs": [
        {
          "output_type": "stream",
          "text": [
            "<class 'pandas.core.frame.DataFrame'>\n",
            "Int64Index: 114149 entries, 0 to 29922\n",
            "Data columns (total 15 columns):\n",
            " #   Column                  Non-Null Count   Dtype  \n",
            "---  ------                  --------------   -----  \n",
            " 0   si                      114149 non-null  object \n",
            " 1   Jibun                   114115 non-null  object \n",
            " 2   Bonbun                  114134 non-null  float64\n",
            " 3   Bubun                   114134 non-null  float64\n",
            " 4   Apt                     114149 non-null  object \n",
            " 5   Exclusive_area          114149 non-null  float64\n",
            " 6   Transaction_year_month  114149 non-null  int64  \n",
            " 7   transaction_date        114149 non-null  int64  \n",
            " 8   Transaction_real_price  114149 non-null  int64  \n",
            " 9   Floor                   114149 non-null  int64  \n",
            " 10  Completion              114149 non-null  int64  \n",
            " 11  St                      114149 non-null  object \n",
            " 12  Cancle                  3751 non-null    float64\n",
            " 13  Gu                      114149 non-null  object \n",
            " 14  Dong                    114149 non-null  object \n",
            "dtypes: float64(4), int64(5), object(6)\n",
            "memory usage: 13.9+ MB\n"
          ],
          "name": "stdout"
        }
      ]
    },
    {
      "cell_type": "code",
      "metadata": {
        "colab": {
          "base_uri": "https://localhost:8080/"
        },
        "id": "o5J7_YkZ1VdG",
        "outputId": "a6b7cb4c-0a72-442c-de82-1b6f1b33349e"
      },
      "source": [
        "df.columns"
      ],
      "execution_count": null,
      "outputs": [
        {
          "output_type": "execute_result",
          "data": {
            "text/plain": [
              "Index(['si', 'Jibun', 'Bonbun', 'Bubun', 'Apt', 'Exclusive_area',\n",
              "       'Transaction_year_month', 'transaction_date', 'Transaction_real_price',\n",
              "       'Floor', 'Completion', 'St', 'Cancle', 'Gu', 'Dong'],\n",
              "      dtype='object')"
            ]
          },
          "metadata": {
            "tags": []
          },
          "execution_count": 15
        }
      ]
    },
    {
      "cell_type": "code",
      "metadata": {
        "id": "QXMg9vBa2Xmz"
      },
      "source": [
        "df3 = df[df['Bubun'].isnull()].fillna({'Jibun':413,'Bonbun':413,'Bubun':0})"
      ],
      "execution_count": null,
      "outputs": []
    },
    {
      "cell_type": "code",
      "metadata": {
        "colab": {
          "base_uri": "https://localhost:8080/",
          "height": 1000
        },
        "id": "RNDCBr2nf3aw",
        "outputId": "a445bf1b-459c-41ca-d3eb-99c2b54e3f8e"
      },
      "source": [
        "df3"
      ],
      "execution_count": null,
      "outputs": [
        {
          "output_type": "execute_result",
          "data": {
            "text/html": [
              "<div>\n",
              "<style scoped>\n",
              "    .dataframe tbody tr th:only-of-type {\n",
              "        vertical-align: middle;\n",
              "    }\n",
              "\n",
              "    .dataframe tbody tr th {\n",
              "        vertical-align: top;\n",
              "    }\n",
              "\n",
              "    .dataframe thead th {\n",
              "        text-align: right;\n",
              "    }\n",
              "</style>\n",
              "<table border=\"1\" class=\"dataframe\">\n",
              "  <thead>\n",
              "    <tr style=\"text-align: right;\">\n",
              "      <th></th>\n",
              "      <th>si</th>\n",
              "      <th>Jibun</th>\n",
              "      <th>Bonbun</th>\n",
              "      <th>Bubun</th>\n",
              "      <th>Apt</th>\n",
              "      <th>Exclusive_area</th>\n",
              "      <th>Transaction_year_month</th>\n",
              "      <th>transaction_date</th>\n",
              "      <th>Transaction_real_price</th>\n",
              "      <th>Floor</th>\n",
              "      <th>Completion</th>\n",
              "      <th>St</th>\n",
              "      <th>Cancle</th>\n",
              "      <th>Gu</th>\n",
              "      <th>Dong</th>\n",
              "    </tr>\n",
              "  </thead>\n",
              "  <tbody>\n",
              "    <tr>\n",
              "      <th>54566</th>\n",
              "      <td>서울특별시 서초구 신원동</td>\n",
              "      <td>413</td>\n",
              "      <td>413.0</td>\n",
              "      <td>0.0</td>\n",
              "      <td>힐스테이트 서초 젠트리스</td>\n",
              "      <td>84.99</td>\n",
              "      <td>202001</td>\n",
              "      <td>20</td>\n",
              "      <td>141000</td>\n",
              "      <td>3</td>\n",
              "      <td>2014</td>\n",
              "      <td>헌릉로8길 10-12</td>\n",
              "      <td>NaN</td>\n",
              "      <td>서초구</td>\n",
              "      <td>신원동</td>\n",
              "    </tr>\n",
              "    <tr>\n",
              "      <th>54567</th>\n",
              "      <td>서울특별시 서초구 신원동</td>\n",
              "      <td>413</td>\n",
              "      <td>413.0</td>\n",
              "      <td>0.0</td>\n",
              "      <td>힐스테이트 서초 젠트리스</td>\n",
              "      <td>84.95</td>\n",
              "      <td>202001</td>\n",
              "      <td>23</td>\n",
              "      <td>132000</td>\n",
              "      <td>1</td>\n",
              "      <td>2014</td>\n",
              "      <td>헌릉로8길 10-12</td>\n",
              "      <td>NaN</td>\n",
              "      <td>서초구</td>\n",
              "      <td>신원동</td>\n",
              "    </tr>\n",
              "    <tr>\n",
              "      <th>54568</th>\n",
              "      <td>서울특별시 서초구 신원동</td>\n",
              "      <td>413</td>\n",
              "      <td>413.0</td>\n",
              "      <td>0.0</td>\n",
              "      <td>힐스테이트 서초 젠트리스</td>\n",
              "      <td>114.90</td>\n",
              "      <td>202002</td>\n",
              "      <td>22</td>\n",
              "      <td>147300</td>\n",
              "      <td>1</td>\n",
              "      <td>2014</td>\n",
              "      <td>헌릉로8길 10-12</td>\n",
              "      <td>NaN</td>\n",
              "      <td>서초구</td>\n",
              "      <td>신원동</td>\n",
              "    </tr>\n",
              "    <tr>\n",
              "      <th>54569</th>\n",
              "      <td>서울특별시 서초구 신원동</td>\n",
              "      <td>413</td>\n",
              "      <td>413.0</td>\n",
              "      <td>0.0</td>\n",
              "      <td>힐스테이트 서초 젠트리스</td>\n",
              "      <td>84.95</td>\n",
              "      <td>202007</td>\n",
              "      <td>9</td>\n",
              "      <td>145000</td>\n",
              "      <td>4</td>\n",
              "      <td>2014</td>\n",
              "      <td>헌릉로8길 10-12</td>\n",
              "      <td>NaN</td>\n",
              "      <td>서초구</td>\n",
              "      <td>신원동</td>\n",
              "    </tr>\n",
              "    <tr>\n",
              "      <th>54570</th>\n",
              "      <td>서울특별시 서초구 신원동</td>\n",
              "      <td>413</td>\n",
              "      <td>413.0</td>\n",
              "      <td>0.0</td>\n",
              "      <td>힐스테이트 서초 젠트리스</td>\n",
              "      <td>84.95</td>\n",
              "      <td>202007</td>\n",
              "      <td>18</td>\n",
              "      <td>148000</td>\n",
              "      <td>8</td>\n",
              "      <td>2014</td>\n",
              "      <td>헌릉로8길 10-12</td>\n",
              "      <td>NaN</td>\n",
              "      <td>서초구</td>\n",
              "      <td>신원동</td>\n",
              "    </tr>\n",
              "    <tr>\n",
              "      <th>54571</th>\n",
              "      <td>서울특별시 서초구 신원동</td>\n",
              "      <td>413</td>\n",
              "      <td>413.0</td>\n",
              "      <td>0.0</td>\n",
              "      <td>힐스테이트 서초 젠트리스</td>\n",
              "      <td>101.90</td>\n",
              "      <td>202007</td>\n",
              "      <td>27</td>\n",
              "      <td>163000</td>\n",
              "      <td>3</td>\n",
              "      <td>2014</td>\n",
              "      <td>헌릉로8길 10-12</td>\n",
              "      <td>NaN</td>\n",
              "      <td>서초구</td>\n",
              "      <td>신원동</td>\n",
              "    </tr>\n",
              "    <tr>\n",
              "      <th>54572</th>\n",
              "      <td>서울특별시 서초구 신원동</td>\n",
              "      <td>413</td>\n",
              "      <td>413.0</td>\n",
              "      <td>0.0</td>\n",
              "      <td>힐스테이트 서초 젠트리스</td>\n",
              "      <td>114.90</td>\n",
              "      <td>202008</td>\n",
              "      <td>26</td>\n",
              "      <td>194000</td>\n",
              "      <td>5</td>\n",
              "      <td>2014</td>\n",
              "      <td>헌릉로8길 10-12</td>\n",
              "      <td>NaN</td>\n",
              "      <td>서초구</td>\n",
              "      <td>신원동</td>\n",
              "    </tr>\n",
              "    <tr>\n",
              "      <th>54573</th>\n",
              "      <td>서울특별시 서초구 신원동</td>\n",
              "      <td>413</td>\n",
              "      <td>413.0</td>\n",
              "      <td>0.0</td>\n",
              "      <td>힐스테이트 서초 젠트리스</td>\n",
              "      <td>114.90</td>\n",
              "      <td>202008</td>\n",
              "      <td>29</td>\n",
              "      <td>193000</td>\n",
              "      <td>9</td>\n",
              "      <td>2014</td>\n",
              "      <td>헌릉로8길 10-12</td>\n",
              "      <td>NaN</td>\n",
              "      <td>서초구</td>\n",
              "      <td>신원동</td>\n",
              "    </tr>\n",
              "    <tr>\n",
              "      <th>54574</th>\n",
              "      <td>서울특별시 서초구 신원동</td>\n",
              "      <td>413</td>\n",
              "      <td>413.0</td>\n",
              "      <td>0.0</td>\n",
              "      <td>힐스테이트 서초 젠트리스</td>\n",
              "      <td>84.95</td>\n",
              "      <td>202010</td>\n",
              "      <td>6</td>\n",
              "      <td>155000</td>\n",
              "      <td>1</td>\n",
              "      <td>2014</td>\n",
              "      <td>헌릉로8길 10-12</td>\n",
              "      <td>NaN</td>\n",
              "      <td>서초구</td>\n",
              "      <td>신원동</td>\n",
              "    </tr>\n",
              "    <tr>\n",
              "      <th>54575</th>\n",
              "      <td>서울특별시 서초구 신원동</td>\n",
              "      <td>413</td>\n",
              "      <td>413.0</td>\n",
              "      <td>0.0</td>\n",
              "      <td>힐스테이트 서초 젠트리스</td>\n",
              "      <td>84.95</td>\n",
              "      <td>202011</td>\n",
              "      <td>18</td>\n",
              "      <td>159000</td>\n",
              "      <td>9</td>\n",
              "      <td>2014</td>\n",
              "      <td>헌릉로8길 10-12</td>\n",
              "      <td>NaN</td>\n",
              "      <td>서초구</td>\n",
              "      <td>신원동</td>\n",
              "    </tr>\n",
              "    <tr>\n",
              "      <th>54576</th>\n",
              "      <td>서울특별시 서초구 신원동</td>\n",
              "      <td>413</td>\n",
              "      <td>413.0</td>\n",
              "      <td>0.0</td>\n",
              "      <td>힐스테이트 서초 젠트리스</td>\n",
              "      <td>84.95</td>\n",
              "      <td>202012</td>\n",
              "      <td>3</td>\n",
              "      <td>158000</td>\n",
              "      <td>6</td>\n",
              "      <td>2014</td>\n",
              "      <td>헌릉로8길 10-12</td>\n",
              "      <td>NaN</td>\n",
              "      <td>서초구</td>\n",
              "      <td>신원동</td>\n",
              "    </tr>\n",
              "    <tr>\n",
              "      <th>19293</th>\n",
              "      <td>서울특별시 서초구 신원동</td>\n",
              "      <td>413</td>\n",
              "      <td>413.0</td>\n",
              "      <td>0.0</td>\n",
              "      <td>힐스테이트 서초 젠트리스</td>\n",
              "      <td>84.95</td>\n",
              "      <td>202103</td>\n",
              "      <td>11</td>\n",
              "      <td>163000</td>\n",
              "      <td>2</td>\n",
              "      <td>2014</td>\n",
              "      <td>헌릉로8길 10-12</td>\n",
              "      <td>NaN</td>\n",
              "      <td>서초구</td>\n",
              "      <td>신원동</td>\n",
              "    </tr>\n",
              "    <tr>\n",
              "      <th>19294</th>\n",
              "      <td>서울특별시 서초구 신원동</td>\n",
              "      <td>413</td>\n",
              "      <td>413.0</td>\n",
              "      <td>0.0</td>\n",
              "      <td>힐스테이트 서초 젠트리스</td>\n",
              "      <td>101.90</td>\n",
              "      <td>202104</td>\n",
              "      <td>15</td>\n",
              "      <td>187500</td>\n",
              "      <td>4</td>\n",
              "      <td>2014</td>\n",
              "      <td>헌릉로8길 10-12</td>\n",
              "      <td>NaN</td>\n",
              "      <td>서초구</td>\n",
              "      <td>신원동</td>\n",
              "    </tr>\n",
              "    <tr>\n",
              "      <th>19295</th>\n",
              "      <td>서울특별시 서초구 신원동</td>\n",
              "      <td>413</td>\n",
              "      <td>413.0</td>\n",
              "      <td>0.0</td>\n",
              "      <td>힐스테이트 서초 젠트리스</td>\n",
              "      <td>101.90</td>\n",
              "      <td>202104</td>\n",
              "      <td>27</td>\n",
              "      <td>184500</td>\n",
              "      <td>3</td>\n",
              "      <td>2014</td>\n",
              "      <td>헌릉로8길 10-12</td>\n",
              "      <td>NaN</td>\n",
              "      <td>서초구</td>\n",
              "      <td>신원동</td>\n",
              "    </tr>\n",
              "    <tr>\n",
              "      <th>19296</th>\n",
              "      <td>서울특별시 서초구 신원동</td>\n",
              "      <td>413</td>\n",
              "      <td>413.0</td>\n",
              "      <td>0.0</td>\n",
              "      <td>힐스테이트 서초 젠트리스</td>\n",
              "      <td>84.95</td>\n",
              "      <td>202105</td>\n",
              "      <td>26</td>\n",
              "      <td>165000</td>\n",
              "      <td>4</td>\n",
              "      <td>2014</td>\n",
              "      <td>헌릉로8길 10-12</td>\n",
              "      <td>NaN</td>\n",
              "      <td>서초구</td>\n",
              "      <td>신원동</td>\n",
              "    </tr>\n",
              "  </tbody>\n",
              "</table>\n",
              "</div>"
            ],
            "text/plain": [
              "                  si  Jibun  Bonbun  Bubun  ...           St  Cancle   Gu  Dong\n",
              "54566  서울특별시 서초구 신원동    413   413.0    0.0  ...  헌릉로8길 10-12     NaN  서초구   신원동\n",
              "54567  서울특별시 서초구 신원동    413   413.0    0.0  ...  헌릉로8길 10-12     NaN  서초구   신원동\n",
              "54568  서울특별시 서초구 신원동    413   413.0    0.0  ...  헌릉로8길 10-12     NaN  서초구   신원동\n",
              "54569  서울특별시 서초구 신원동    413   413.0    0.0  ...  헌릉로8길 10-12     NaN  서초구   신원동\n",
              "54570  서울특별시 서초구 신원동    413   413.0    0.0  ...  헌릉로8길 10-12     NaN  서초구   신원동\n",
              "54571  서울특별시 서초구 신원동    413   413.0    0.0  ...  헌릉로8길 10-12     NaN  서초구   신원동\n",
              "54572  서울특별시 서초구 신원동    413   413.0    0.0  ...  헌릉로8길 10-12     NaN  서초구   신원동\n",
              "54573  서울특별시 서초구 신원동    413   413.0    0.0  ...  헌릉로8길 10-12     NaN  서초구   신원동\n",
              "54574  서울특별시 서초구 신원동    413   413.0    0.0  ...  헌릉로8길 10-12     NaN  서초구   신원동\n",
              "54575  서울특별시 서초구 신원동    413   413.0    0.0  ...  헌릉로8길 10-12     NaN  서초구   신원동\n",
              "54576  서울특별시 서초구 신원동    413   413.0    0.0  ...  헌릉로8길 10-12     NaN  서초구   신원동\n",
              "19293  서울특별시 서초구 신원동    413   413.0    0.0  ...  헌릉로8길 10-12     NaN  서초구   신원동\n",
              "19294  서울특별시 서초구 신원동    413   413.0    0.0  ...  헌릉로8길 10-12     NaN  서초구   신원동\n",
              "19295  서울특별시 서초구 신원동    413   413.0    0.0  ...  헌릉로8길 10-12     NaN  서초구   신원동\n",
              "19296  서울특별시 서초구 신원동    413   413.0    0.0  ...  헌릉로8길 10-12     NaN  서초구   신원동\n",
              "\n",
              "[15 rows x 15 columns]"
            ]
          },
          "metadata": {
            "tags": []
          },
          "execution_count": 17
        }
      ]
    },
    {
      "cell_type": "code",
      "metadata": {
        "colab": {
          "base_uri": "https://localhost:8080/"
        },
        "id": "hDXi0eUk4j3z",
        "outputId": "fd9a539f-1341-4e6d-f558-f88ce53f3a40"
      },
      "source": [
        "df.info()"
      ],
      "execution_count": null,
      "outputs": [
        {
          "output_type": "stream",
          "text": [
            "<class 'pandas.core.frame.DataFrame'>\n",
            "Int64Index: 114149 entries, 0 to 29922\n",
            "Data columns (total 15 columns):\n",
            " #   Column                  Non-Null Count   Dtype  \n",
            "---  ------                  --------------   -----  \n",
            " 0   si                      114149 non-null  object \n",
            " 1   Jibun                   114115 non-null  object \n",
            " 2   Bonbun                  114134 non-null  float64\n",
            " 3   Bubun                   114134 non-null  float64\n",
            " 4   Apt                     114149 non-null  object \n",
            " 5   Exclusive_area          114149 non-null  float64\n",
            " 6   Transaction_year_month  114149 non-null  int64  \n",
            " 7   transaction_date        114149 non-null  int64  \n",
            " 8   Transaction_real_price  114149 non-null  int64  \n",
            " 9   Floor                   114149 non-null  int64  \n",
            " 10  Completion              114149 non-null  int64  \n",
            " 11  St                      114149 non-null  object \n",
            " 12  Cancle                  3751 non-null    float64\n",
            " 13  Gu                      114149 non-null  object \n",
            " 14  Dong                    114149 non-null  object \n",
            "dtypes: float64(4), int64(5), object(6)\n",
            "memory usage: 13.9+ MB\n"
          ],
          "name": "stdout"
        }
      ]
    },
    {
      "cell_type": "code",
      "metadata": {
        "id": "zp-BsRUZ2_3a"
      },
      "source": [
        "df1=df[(df['Jibun'].isnull()) & (df.Apt == '서초포레스타2단지')].fillna({'Jibun':143,'Bonbun':143,'Bubun':0})"
      ],
      "execution_count": null,
      "outputs": []
    },
    {
      "cell_type": "code",
      "metadata": {
        "id": "WiJ91aXN4QxX"
      },
      "source": [
        "df1.Bonbun = 143"
      ],
      "execution_count": null,
      "outputs": []
    },
    {
      "cell_type": "code",
      "metadata": {
        "colab": {
          "base_uri": "https://localhost:8080/",
          "height": 1000
        },
        "id": "lA3p_Ybr6ddt",
        "outputId": "96ac5fad-ca44-43dd-a44a-a2658cd8b41f"
      },
      "source": [
        "df1"
      ],
      "execution_count": null,
      "outputs": [
        {
          "output_type": "execute_result",
          "data": {
            "text/html": [
              "<div>\n",
              "<style scoped>\n",
              "    .dataframe tbody tr th:only-of-type {\n",
              "        vertical-align: middle;\n",
              "    }\n",
              "\n",
              "    .dataframe tbody tr th {\n",
              "        vertical-align: top;\n",
              "    }\n",
              "\n",
              "    .dataframe thead th {\n",
              "        text-align: right;\n",
              "    }\n",
              "</style>\n",
              "<table border=\"1\" class=\"dataframe\">\n",
              "  <thead>\n",
              "    <tr style=\"text-align: right;\">\n",
              "      <th></th>\n",
              "      <th>si</th>\n",
              "      <th>Jibun</th>\n",
              "      <th>Bonbun</th>\n",
              "      <th>Bubun</th>\n",
              "      <th>Apt</th>\n",
              "      <th>Exclusive_area</th>\n",
              "      <th>Transaction_year_month</th>\n",
              "      <th>transaction_date</th>\n",
              "      <th>Transaction_real_price</th>\n",
              "      <th>Floor</th>\n",
              "      <th>Completion</th>\n",
              "      <th>St</th>\n",
              "      <th>Cancle</th>\n",
              "      <th>Gu</th>\n",
              "      <th>Dong</th>\n",
              "    </tr>\n",
              "  </thead>\n",
              "  <tbody>\n",
              "    <tr>\n",
              "      <th>52297</th>\n",
              "      <td>서울특별시 서초구 내곡동</td>\n",
              "      <td>143</td>\n",
              "      <td>143</td>\n",
              "      <td>0.0</td>\n",
              "      <td>서초포레스타2단지</td>\n",
              "      <td>59.21</td>\n",
              "      <td>202002</td>\n",
              "      <td>8</td>\n",
              "      <td>105000</td>\n",
              "      <td>13</td>\n",
              "      <td>2015</td>\n",
              "      <td>헌릉로8길 45</td>\n",
              "      <td>NaN</td>\n",
              "      <td>서초구</td>\n",
              "      <td>내곡동</td>\n",
              "    </tr>\n",
              "    <tr>\n",
              "      <th>52298</th>\n",
              "      <td>서울특별시 서초구 내곡동</td>\n",
              "      <td>143</td>\n",
              "      <td>143</td>\n",
              "      <td>0.0</td>\n",
              "      <td>서초포레스타2단지</td>\n",
              "      <td>84.48</td>\n",
              "      <td>202003</td>\n",
              "      <td>7</td>\n",
              "      <td>126500</td>\n",
              "      <td>20</td>\n",
              "      <td>2015</td>\n",
              "      <td>헌릉로8길 45</td>\n",
              "      <td>NaN</td>\n",
              "      <td>서초구</td>\n",
              "      <td>내곡동</td>\n",
              "    </tr>\n",
              "    <tr>\n",
              "      <th>52299</th>\n",
              "      <td>서울특별시 서초구 내곡동</td>\n",
              "      <td>143</td>\n",
              "      <td>143</td>\n",
              "      <td>0.0</td>\n",
              "      <td>서초포레스타2단지</td>\n",
              "      <td>84.48</td>\n",
              "      <td>202006</td>\n",
              "      <td>13</td>\n",
              "      <td>130000</td>\n",
              "      <td>14</td>\n",
              "      <td>2015</td>\n",
              "      <td>헌릉로8길 45</td>\n",
              "      <td>NaN</td>\n",
              "      <td>서초구</td>\n",
              "      <td>내곡동</td>\n",
              "    </tr>\n",
              "    <tr>\n",
              "      <th>52300</th>\n",
              "      <td>서울특별시 서초구 내곡동</td>\n",
              "      <td>143</td>\n",
              "      <td>143</td>\n",
              "      <td>0.0</td>\n",
              "      <td>서초포레스타2단지</td>\n",
              "      <td>84.87</td>\n",
              "      <td>202006</td>\n",
              "      <td>30</td>\n",
              "      <td>130000</td>\n",
              "      <td>14</td>\n",
              "      <td>2015</td>\n",
              "      <td>헌릉로8길 45</td>\n",
              "      <td>NaN</td>\n",
              "      <td>서초구</td>\n",
              "      <td>내곡동</td>\n",
              "    </tr>\n",
              "    <tr>\n",
              "      <th>52301</th>\n",
              "      <td>서울특별시 서초구 내곡동</td>\n",
              "      <td>143</td>\n",
              "      <td>143</td>\n",
              "      <td>0.0</td>\n",
              "      <td>서초포레스타2단지</td>\n",
              "      <td>84.48</td>\n",
              "      <td>202007</td>\n",
              "      <td>5</td>\n",
              "      <td>134000</td>\n",
              "      <td>14</td>\n",
              "      <td>2015</td>\n",
              "      <td>헌릉로8길 45</td>\n",
              "      <td>20200731.0</td>\n",
              "      <td>서초구</td>\n",
              "      <td>내곡동</td>\n",
              "    </tr>\n",
              "    <tr>\n",
              "      <th>52302</th>\n",
              "      <td>서울특별시 서초구 내곡동</td>\n",
              "      <td>143</td>\n",
              "      <td>143</td>\n",
              "      <td>0.0</td>\n",
              "      <td>서초포레스타2단지</td>\n",
              "      <td>84.48</td>\n",
              "      <td>202007</td>\n",
              "      <td>5</td>\n",
              "      <td>134000</td>\n",
              "      <td>14</td>\n",
              "      <td>2015</td>\n",
              "      <td>헌릉로8길 45</td>\n",
              "      <td>NaN</td>\n",
              "      <td>서초구</td>\n",
              "      <td>내곡동</td>\n",
              "    </tr>\n",
              "    <tr>\n",
              "      <th>52303</th>\n",
              "      <td>서울특별시 서초구 내곡동</td>\n",
              "      <td>143</td>\n",
              "      <td>143</td>\n",
              "      <td>0.0</td>\n",
              "      <td>서초포레스타2단지</td>\n",
              "      <td>84.87</td>\n",
              "      <td>202007</td>\n",
              "      <td>6</td>\n",
              "      <td>133000</td>\n",
              "      <td>15</td>\n",
              "      <td>2015</td>\n",
              "      <td>헌릉로8길 45</td>\n",
              "      <td>NaN</td>\n",
              "      <td>서초구</td>\n",
              "      <td>내곡동</td>\n",
              "    </tr>\n",
              "    <tr>\n",
              "      <th>52304</th>\n",
              "      <td>서울특별시 서초구 내곡동</td>\n",
              "      <td>143</td>\n",
              "      <td>143</td>\n",
              "      <td>0.0</td>\n",
              "      <td>서초포레스타2단지</td>\n",
              "      <td>84.48</td>\n",
              "      <td>202007</td>\n",
              "      <td>11</td>\n",
              "      <td>130000</td>\n",
              "      <td>5</td>\n",
              "      <td>2015</td>\n",
              "      <td>헌릉로8길 45</td>\n",
              "      <td>NaN</td>\n",
              "      <td>서초구</td>\n",
              "      <td>내곡동</td>\n",
              "    </tr>\n",
              "    <tr>\n",
              "      <th>52305</th>\n",
              "      <td>서울특별시 서초구 내곡동</td>\n",
              "      <td>143</td>\n",
              "      <td>143</td>\n",
              "      <td>0.0</td>\n",
              "      <td>서초포레스타2단지</td>\n",
              "      <td>59.21</td>\n",
              "      <td>202007</td>\n",
              "      <td>12</td>\n",
              "      <td>115000</td>\n",
              "      <td>11</td>\n",
              "      <td>2015</td>\n",
              "      <td>헌릉로8길 45</td>\n",
              "      <td>NaN</td>\n",
              "      <td>서초구</td>\n",
              "      <td>내곡동</td>\n",
              "    </tr>\n",
              "    <tr>\n",
              "      <th>52306</th>\n",
              "      <td>서울특별시 서초구 내곡동</td>\n",
              "      <td>143</td>\n",
              "      <td>143</td>\n",
              "      <td>0.0</td>\n",
              "      <td>서초포레스타2단지</td>\n",
              "      <td>59.09</td>\n",
              "      <td>202008</td>\n",
              "      <td>6</td>\n",
              "      <td>124000</td>\n",
              "      <td>14</td>\n",
              "      <td>2015</td>\n",
              "      <td>헌릉로8길 45</td>\n",
              "      <td>NaN</td>\n",
              "      <td>서초구</td>\n",
              "      <td>내곡동</td>\n",
              "    </tr>\n",
              "    <tr>\n",
              "      <th>52307</th>\n",
              "      <td>서울특별시 서초구 내곡동</td>\n",
              "      <td>143</td>\n",
              "      <td>143</td>\n",
              "      <td>0.0</td>\n",
              "      <td>서초포레스타2단지</td>\n",
              "      <td>59.09</td>\n",
              "      <td>202011</td>\n",
              "      <td>6</td>\n",
              "      <td>125000</td>\n",
              "      <td>5</td>\n",
              "      <td>2015</td>\n",
              "      <td>헌릉로8길 45</td>\n",
              "      <td>NaN</td>\n",
              "      <td>서초구</td>\n",
              "      <td>내곡동</td>\n",
              "    </tr>\n",
              "    <tr>\n",
              "      <th>52308</th>\n",
              "      <td>서울특별시 서초구 내곡동</td>\n",
              "      <td>143</td>\n",
              "      <td>143</td>\n",
              "      <td>0.0</td>\n",
              "      <td>서초포레스타2단지</td>\n",
              "      <td>84.87</td>\n",
              "      <td>202012</td>\n",
              "      <td>5</td>\n",
              "      <td>155000</td>\n",
              "      <td>17</td>\n",
              "      <td>2015</td>\n",
              "      <td>헌릉로8길 45</td>\n",
              "      <td>NaN</td>\n",
              "      <td>서초구</td>\n",
              "      <td>내곡동</td>\n",
              "    </tr>\n",
              "    <tr>\n",
              "      <th>18229</th>\n",
              "      <td>서울특별시 서초구 내곡동</td>\n",
              "      <td>143</td>\n",
              "      <td>143</td>\n",
              "      <td>0.0</td>\n",
              "      <td>서초포레스타2단지</td>\n",
              "      <td>84.48</td>\n",
              "      <td>202101</td>\n",
              "      <td>12</td>\n",
              "      <td>160000</td>\n",
              "      <td>8</td>\n",
              "      <td>2015</td>\n",
              "      <td>헌릉로8길 45</td>\n",
              "      <td>20210412.0</td>\n",
              "      <td>서초구</td>\n",
              "      <td>내곡동</td>\n",
              "    </tr>\n",
              "    <tr>\n",
              "      <th>18230</th>\n",
              "      <td>서울특별시 서초구 내곡동</td>\n",
              "      <td>143</td>\n",
              "      <td>143</td>\n",
              "      <td>0.0</td>\n",
              "      <td>서초포레스타2단지</td>\n",
              "      <td>84.48</td>\n",
              "      <td>202103</td>\n",
              "      <td>2</td>\n",
              "      <td>159000</td>\n",
              "      <td>11</td>\n",
              "      <td>2015</td>\n",
              "      <td>헌릉로8길 45</td>\n",
              "      <td>NaN</td>\n",
              "      <td>서초구</td>\n",
              "      <td>내곡동</td>\n",
              "    </tr>\n",
              "    <tr>\n",
              "      <th>18231</th>\n",
              "      <td>서울특별시 서초구 내곡동</td>\n",
              "      <td>143</td>\n",
              "      <td>143</td>\n",
              "      <td>0.0</td>\n",
              "      <td>서초포레스타2단지</td>\n",
              "      <td>84.48</td>\n",
              "      <td>202104</td>\n",
              "      <td>6</td>\n",
              "      <td>154500</td>\n",
              "      <td>21</td>\n",
              "      <td>2015</td>\n",
              "      <td>헌릉로8길 45</td>\n",
              "      <td>NaN</td>\n",
              "      <td>서초구</td>\n",
              "      <td>내곡동</td>\n",
              "    </tr>\n",
              "    <tr>\n",
              "      <th>18232</th>\n",
              "      <td>서울특별시 서초구 내곡동</td>\n",
              "      <td>143</td>\n",
              "      <td>143</td>\n",
              "      <td>0.0</td>\n",
              "      <td>서초포레스타2단지</td>\n",
              "      <td>59.21</td>\n",
              "      <td>202104</td>\n",
              "      <td>10</td>\n",
              "      <td>135000</td>\n",
              "      <td>2</td>\n",
              "      <td>2015</td>\n",
              "      <td>헌릉로8길 45</td>\n",
              "      <td>NaN</td>\n",
              "      <td>서초구</td>\n",
              "      <td>내곡동</td>\n",
              "    </tr>\n",
              "    <tr>\n",
              "      <th>18233</th>\n",
              "      <td>서울특별시 서초구 내곡동</td>\n",
              "      <td>143</td>\n",
              "      <td>143</td>\n",
              "      <td>0.0</td>\n",
              "      <td>서초포레스타2단지</td>\n",
              "      <td>84.87</td>\n",
              "      <td>202104</td>\n",
              "      <td>20</td>\n",
              "      <td>155000</td>\n",
              "      <td>14</td>\n",
              "      <td>2015</td>\n",
              "      <td>헌릉로8길 45</td>\n",
              "      <td>NaN</td>\n",
              "      <td>서초구</td>\n",
              "      <td>내곡동</td>\n",
              "    </tr>\n",
              "    <tr>\n",
              "      <th>18234</th>\n",
              "      <td>서울특별시 서초구 내곡동</td>\n",
              "      <td>143</td>\n",
              "      <td>143</td>\n",
              "      <td>0.0</td>\n",
              "      <td>서초포레스타2단지</td>\n",
              "      <td>59.21</td>\n",
              "      <td>202105</td>\n",
              "      <td>16</td>\n",
              "      <td>131000</td>\n",
              "      <td>8</td>\n",
              "      <td>2015</td>\n",
              "      <td>헌릉로8길 45</td>\n",
              "      <td>NaN</td>\n",
              "      <td>서초구</td>\n",
              "      <td>내곡동</td>\n",
              "    </tr>\n",
              "    <tr>\n",
              "      <th>18235</th>\n",
              "      <td>서울특별시 서초구 내곡동</td>\n",
              "      <td>143</td>\n",
              "      <td>143</td>\n",
              "      <td>0.0</td>\n",
              "      <td>서초포레스타2단지</td>\n",
              "      <td>84.87</td>\n",
              "      <td>202105</td>\n",
              "      <td>18</td>\n",
              "      <td>151000</td>\n",
              "      <td>1</td>\n",
              "      <td>2015</td>\n",
              "      <td>헌릉로8길 45</td>\n",
              "      <td>NaN</td>\n",
              "      <td>서초구</td>\n",
              "      <td>내곡동</td>\n",
              "    </tr>\n",
              "  </tbody>\n",
              "</table>\n",
              "</div>"
            ],
            "text/plain": [
              "                  si  Jibun  Bonbun  Bubun  ...        St      Cancle   Gu  Dong\n",
              "52297  서울특별시 서초구 내곡동    143     143    0.0  ...  헌릉로8길 45         NaN  서초구   내곡동\n",
              "52298  서울특별시 서초구 내곡동    143     143    0.0  ...  헌릉로8길 45         NaN  서초구   내곡동\n",
              "52299  서울특별시 서초구 내곡동    143     143    0.0  ...  헌릉로8길 45         NaN  서초구   내곡동\n",
              "52300  서울특별시 서초구 내곡동    143     143    0.0  ...  헌릉로8길 45         NaN  서초구   내곡동\n",
              "52301  서울특별시 서초구 내곡동    143     143    0.0  ...  헌릉로8길 45  20200731.0  서초구   내곡동\n",
              "52302  서울특별시 서초구 내곡동    143     143    0.0  ...  헌릉로8길 45         NaN  서초구   내곡동\n",
              "52303  서울특별시 서초구 내곡동    143     143    0.0  ...  헌릉로8길 45         NaN  서초구   내곡동\n",
              "52304  서울특별시 서초구 내곡동    143     143    0.0  ...  헌릉로8길 45         NaN  서초구   내곡동\n",
              "52305  서울특별시 서초구 내곡동    143     143    0.0  ...  헌릉로8길 45         NaN  서초구   내곡동\n",
              "52306  서울특별시 서초구 내곡동    143     143    0.0  ...  헌릉로8길 45         NaN  서초구   내곡동\n",
              "52307  서울특별시 서초구 내곡동    143     143    0.0  ...  헌릉로8길 45         NaN  서초구   내곡동\n",
              "52308  서울특별시 서초구 내곡동    143     143    0.0  ...  헌릉로8길 45         NaN  서초구   내곡동\n",
              "18229  서울특별시 서초구 내곡동    143     143    0.0  ...  헌릉로8길 45  20210412.0  서초구   내곡동\n",
              "18230  서울특별시 서초구 내곡동    143     143    0.0  ...  헌릉로8길 45         NaN  서초구   내곡동\n",
              "18231  서울특별시 서초구 내곡동    143     143    0.0  ...  헌릉로8길 45         NaN  서초구   내곡동\n",
              "18232  서울특별시 서초구 내곡동    143     143    0.0  ...  헌릉로8길 45         NaN  서초구   내곡동\n",
              "18233  서울특별시 서초구 내곡동    143     143    0.0  ...  헌릉로8길 45         NaN  서초구   내곡동\n",
              "18234  서울특별시 서초구 내곡동    143     143    0.0  ...  헌릉로8길 45         NaN  서초구   내곡동\n",
              "18235  서울특별시 서초구 내곡동    143     143    0.0  ...  헌릉로8길 45         NaN  서초구   내곡동\n",
              "\n",
              "[19 rows x 15 columns]"
            ]
          },
          "metadata": {
            "tags": []
          },
          "execution_count": 21
        }
      ]
    },
    {
      "cell_type": "code",
      "metadata": {
        "colab": {
          "base_uri": "https://localhost:8080/"
        },
        "id": "7f3ub3vE6goC",
        "outputId": "9f7b2b15-870a-4562-dd69-b6dc418b01a7"
      },
      "source": [
        "df.info()"
      ],
      "execution_count": null,
      "outputs": [
        {
          "output_type": "stream",
          "text": [
            "<class 'pandas.core.frame.DataFrame'>\n",
            "Int64Index: 114149 entries, 0 to 29922\n",
            "Data columns (total 15 columns):\n",
            " #   Column                  Non-Null Count   Dtype  \n",
            "---  ------                  --------------   -----  \n",
            " 0   si                      114149 non-null  object \n",
            " 1   Jibun                   114115 non-null  object \n",
            " 2   Bonbun                  114134 non-null  float64\n",
            " 3   Bubun                   114134 non-null  float64\n",
            " 4   Apt                     114149 non-null  object \n",
            " 5   Exclusive_area          114149 non-null  float64\n",
            " 6   Transaction_year_month  114149 non-null  int64  \n",
            " 7   transaction_date        114149 non-null  int64  \n",
            " 8   Transaction_real_price  114149 non-null  int64  \n",
            " 9   Floor                   114149 non-null  int64  \n",
            " 10  Completion              114149 non-null  int64  \n",
            " 11  St                      114149 non-null  object \n",
            " 12  Cancle                  3751 non-null    float64\n",
            " 13  Gu                      114149 non-null  object \n",
            " 14  Dong                    114149 non-null  object \n",
            "dtypes: float64(4), int64(5), object(6)\n",
            "memory usage: 13.9+ MB\n"
          ],
          "name": "stdout"
        }
      ]
    },
    {
      "cell_type": "code",
      "metadata": {
        "id": "ltQvra6a7qxD"
      },
      "source": [
        "df.dropna(subset=['Jibun','Bonbun','Bubun'],inplace=True)"
      ],
      "execution_count": null,
      "outputs": []
    },
    {
      "cell_type": "code",
      "metadata": {
        "colab": {
          "base_uri": "https://localhost:8080/"
        },
        "id": "_qvFbeo-7zfS",
        "outputId": "bce7d16b-7eff-466a-8e8a-16f1bb9baadc"
      },
      "source": [
        "df.info()"
      ],
      "execution_count": null,
      "outputs": [
        {
          "output_type": "stream",
          "text": [
            "<class 'pandas.core.frame.DataFrame'>\n",
            "Int64Index: 114115 entries, 0 to 29922\n",
            "Data columns (total 15 columns):\n",
            " #   Column                  Non-Null Count   Dtype  \n",
            "---  ------                  --------------   -----  \n",
            " 0   si                      114115 non-null  object \n",
            " 1   Jibun                   114115 non-null  object \n",
            " 2   Bonbun                  114115 non-null  float64\n",
            " 3   Bubun                   114115 non-null  float64\n",
            " 4   Apt                     114115 non-null  object \n",
            " 5   Exclusive_area          114115 non-null  float64\n",
            " 6   Transaction_year_month  114115 non-null  int64  \n",
            " 7   transaction_date        114115 non-null  int64  \n",
            " 8   Transaction_real_price  114115 non-null  int64  \n",
            " 9   Floor                   114115 non-null  int64  \n",
            " 10  Completion              114115 non-null  int64  \n",
            " 11  St                      114115 non-null  object \n",
            " 12  Cancle                  3749 non-null    float64\n",
            " 13  Gu                      114115 non-null  object \n",
            " 14  Dong                    114115 non-null  object \n",
            "dtypes: float64(4), int64(5), object(6)\n",
            "memory usage: 13.9+ MB\n"
          ],
          "name": "stdout"
        }
      ]
    },
    {
      "cell_type": "code",
      "metadata": {
        "id": "5skYDTzj-kU0"
      },
      "source": [
        "df = df.append(df1)"
      ],
      "execution_count": null,
      "outputs": []
    },
    {
      "cell_type": "code",
      "metadata": {
        "id": "sDVoP3LV_DHz"
      },
      "source": [
        "df = df.append(df3)"
      ],
      "execution_count": null,
      "outputs": []
    },
    {
      "cell_type": "code",
      "metadata": {
        "colab": {
          "base_uri": "https://localhost:8080/"
        },
        "id": "jnch26lG_GmA",
        "outputId": "709a9cfb-560d-4779-8bab-83979f620a44"
      },
      "source": [
        "df.info()"
      ],
      "execution_count": null,
      "outputs": [
        {
          "output_type": "stream",
          "text": [
            "<class 'pandas.core.frame.DataFrame'>\n",
            "Int64Index: 114149 entries, 0 to 19296\n",
            "Data columns (total 15 columns):\n",
            " #   Column                  Non-Null Count   Dtype  \n",
            "---  ------                  --------------   -----  \n",
            " 0   si                      114149 non-null  object \n",
            " 1   Jibun                   114149 non-null  object \n",
            " 2   Bonbun                  114149 non-null  float64\n",
            " 3   Bubun                   114149 non-null  float64\n",
            " 4   Apt                     114149 non-null  object \n",
            " 5   Exclusive_area          114149 non-null  float64\n",
            " 6   Transaction_year_month  114149 non-null  int64  \n",
            " 7   transaction_date        114149 non-null  int64  \n",
            " 8   Transaction_real_price  114149 non-null  int64  \n",
            " 9   Floor                   114149 non-null  int64  \n",
            " 10  Completion              114149 non-null  int64  \n",
            " 11  St                      114149 non-null  object \n",
            " 12  Cancle                  3751 non-null    float64\n",
            " 13  Gu                      114149 non-null  object \n",
            " 14  Dong                    114149 non-null  object \n",
            "dtypes: float64(4), int64(5), object(6)\n",
            "memory usage: 13.9+ MB\n"
          ],
          "name": "stdout"
        }
      ]
    },
    {
      "cell_type": "code",
      "metadata": {
        "id": "zSWtBo20Av-T"
      },
      "source": [
        "df = df.astype({'Bonbun':int, 'Bubun':int})"
      ],
      "execution_count": null,
      "outputs": []
    },
    {
      "cell_type": "code",
      "metadata": {
        "colab": {
          "base_uri": "https://localhost:8080/"
        },
        "id": "GB6NpgPcEKL0",
        "outputId": "f5c69456-53b7-4095-9765-b24168bec6fa"
      },
      "source": [
        "df.info()"
      ],
      "execution_count": null,
      "outputs": [
        {
          "output_type": "stream",
          "text": [
            "<class 'pandas.core.frame.DataFrame'>\n",
            "Int64Index: 114149 entries, 0 to 19296\n",
            "Data columns (total 15 columns):\n",
            " #   Column                  Non-Null Count   Dtype  \n",
            "---  ------                  --------------   -----  \n",
            " 0   si                      114149 non-null  object \n",
            " 1   Jibun                   114149 non-null  object \n",
            " 2   Bonbun                  114149 non-null  int64  \n",
            " 3   Bubun                   114149 non-null  int64  \n",
            " 4   Apt                     114149 non-null  object \n",
            " 5   Exclusive_area          114149 non-null  float64\n",
            " 6   Transaction_year_month  114149 non-null  int64  \n",
            " 7   transaction_date        114149 non-null  int64  \n",
            " 8   Transaction_real_price  114149 non-null  int64  \n",
            " 9   Floor                   114149 non-null  int64  \n",
            " 10  Completion              114149 non-null  int64  \n",
            " 11  St                      114149 non-null  object \n",
            " 12  Cancle                  3751 non-null    float64\n",
            " 13  Gu                      114149 non-null  object \n",
            " 14  Dong                    114149 non-null  object \n",
            "dtypes: float64(2), int64(7), object(6)\n",
            "memory usage: 13.9+ MB\n"
          ],
          "name": "stdout"
        }
      ]
    },
    {
      "cell_type": "code",
      "metadata": {
        "id": "xbpz8harG-jp"
      },
      "source": [
        "df['Year'] = df['Transaction_year_month'].astype(str).str[:4].astype(int)-df['Completion']"
      ],
      "execution_count": null,
      "outputs": []
    },
    {
      "cell_type": "code",
      "metadata": {
        "colab": {
          "base_uri": "https://localhost:8080/",
          "height": 1000
        },
        "id": "TdPTVLYqIXIP",
        "outputId": "6f991607-24a7-4287-f04c-fc360ca81831"
      },
      "source": [
        "df.head()"
      ],
      "execution_count": null,
      "outputs": [
        {
          "output_type": "execute_result",
          "data": {
            "text/html": [
              "<div>\n",
              "<style scoped>\n",
              "    .dataframe tbody tr th:only-of-type {\n",
              "        vertical-align: middle;\n",
              "    }\n",
              "\n",
              "    .dataframe tbody tr th {\n",
              "        vertical-align: top;\n",
              "    }\n",
              "\n",
              "    .dataframe thead th {\n",
              "        text-align: right;\n",
              "    }\n",
              "</style>\n",
              "<table border=\"1\" class=\"dataframe\">\n",
              "  <thead>\n",
              "    <tr style=\"text-align: right;\">\n",
              "      <th></th>\n",
              "      <th>si</th>\n",
              "      <th>Jibun</th>\n",
              "      <th>Bonbun</th>\n",
              "      <th>Bubun</th>\n",
              "      <th>Apt</th>\n",
              "      <th>Exclusive_area</th>\n",
              "      <th>Transaction_year_month</th>\n",
              "      <th>transaction_date</th>\n",
              "      <th>Transaction_real_price</th>\n",
              "      <th>Floor</th>\n",
              "      <th>Completion</th>\n",
              "      <th>St</th>\n",
              "      <th>Cancle</th>\n",
              "      <th>Gu</th>\n",
              "      <th>Dong</th>\n",
              "      <th>Year</th>\n",
              "    </tr>\n",
              "  </thead>\n",
              "  <tbody>\n",
              "    <tr>\n",
              "      <th>0</th>\n",
              "      <td>서울특별시 강남구 개포동</td>\n",
              "      <td>655-2</td>\n",
              "      <td>655</td>\n",
              "      <td>2</td>\n",
              "      <td>개포2차현대아파트(220)</td>\n",
              "      <td>77.75</td>\n",
              "      <td>202006</td>\n",
              "      <td>23</td>\n",
              "      <td>149500</td>\n",
              "      <td>4</td>\n",
              "      <td>1988</td>\n",
              "      <td>언주로 103</td>\n",
              "      <td>NaN</td>\n",
              "      <td>강남구</td>\n",
              "      <td>개포동</td>\n",
              "      <td>32</td>\n",
              "    </tr>\n",
              "    <tr>\n",
              "      <th>1</th>\n",
              "      <td>서울특별시 강남구 개포동</td>\n",
              "      <td>658-1</td>\n",
              "      <td>658</td>\n",
              "      <td>1</td>\n",
              "      <td>개포6차우성아파트1동~8동</td>\n",
              "      <td>54.98</td>\n",
              "      <td>202002</td>\n",
              "      <td>24</td>\n",
              "      <td>144000</td>\n",
              "      <td>4</td>\n",
              "      <td>1987</td>\n",
              "      <td>언주로 3</td>\n",
              "      <td>NaN</td>\n",
              "      <td>강남구</td>\n",
              "      <td>개포동</td>\n",
              "      <td>33</td>\n",
              "    </tr>\n",
              "    <tr>\n",
              "      <th>2</th>\n",
              "      <td>서울특별시 강남구 개포동</td>\n",
              "      <td>658-1</td>\n",
              "      <td>658</td>\n",
              "      <td>1</td>\n",
              "      <td>개포6차우성아파트1동~8동</td>\n",
              "      <td>79.97</td>\n",
              "      <td>202006</td>\n",
              "      <td>18</td>\n",
              "      <td>162750</td>\n",
              "      <td>4</td>\n",
              "      <td>1987</td>\n",
              "      <td>언주로 3</td>\n",
              "      <td>NaN</td>\n",
              "      <td>강남구</td>\n",
              "      <td>개포동</td>\n",
              "      <td>33</td>\n",
              "    </tr>\n",
              "    <tr>\n",
              "      <th>3</th>\n",
              "      <td>서울특별시 강남구 개포동</td>\n",
              "      <td>658-1</td>\n",
              "      <td>658</td>\n",
              "      <td>1</td>\n",
              "      <td>개포6차우성아파트1동~8동</td>\n",
              "      <td>79.97</td>\n",
              "      <td>202006</td>\n",
              "      <td>20</td>\n",
              "      <td>160000</td>\n",
              "      <td>5</td>\n",
              "      <td>1987</td>\n",
              "      <td>언주로 3</td>\n",
              "      <td>NaN</td>\n",
              "      <td>강남구</td>\n",
              "      <td>개포동</td>\n",
              "      <td>33</td>\n",
              "    </tr>\n",
              "    <tr>\n",
              "      <th>4</th>\n",
              "      <td>서울특별시 강남구 개포동</td>\n",
              "      <td>658-1</td>\n",
              "      <td>658</td>\n",
              "      <td>1</td>\n",
              "      <td>개포6차우성아파트1동~8동</td>\n",
              "      <td>79.97</td>\n",
              "      <td>202006</td>\n",
              "      <td>22</td>\n",
              "      <td>150000</td>\n",
              "      <td>2</td>\n",
              "      <td>1987</td>\n",
              "      <td>언주로 3</td>\n",
              "      <td>NaN</td>\n",
              "      <td>강남구</td>\n",
              "      <td>개포동</td>\n",
              "      <td>33</td>\n",
              "    </tr>\n",
              "  </tbody>\n",
              "</table>\n",
              "</div>"
            ],
            "text/plain": [
              "              si  Jibun  Bonbun  Bubun  ... Cancle   Gu  Dong  Year\n",
              "0  서울특별시 강남구 개포동  655-2     655      2  ...    NaN  강남구   개포동    32\n",
              "1  서울특별시 강남구 개포동  658-1     658      1  ...    NaN  강남구   개포동    33\n",
              "2  서울특별시 강남구 개포동  658-1     658      1  ...    NaN  강남구   개포동    33\n",
              "3  서울특별시 강남구 개포동  658-1     658      1  ...    NaN  강남구   개포동    33\n",
              "4  서울특별시 강남구 개포동  658-1     658      1  ...    NaN  강남구   개포동    33\n",
              "\n",
              "[5 rows x 16 columns]"
            ]
          },
          "metadata": {
            "tags": []
          },
          "execution_count": 31
        }
      ]
    },
    {
      "cell_type": "code",
      "metadata": {
        "colab": {
          "base_uri": "https://localhost:8080/"
        },
        "id": "ca3ZuAeUS9Iv",
        "outputId": "2c855af8-acba-4aa8-c81b-0a78a4fd179d"
      },
      "source": [
        "df['Apt'].isnull().sum()"
      ],
      "execution_count": null,
      "outputs": [
        {
          "output_type": "execute_result",
          "data": {
            "text/plain": [
              "0"
            ]
          },
          "metadata": {
            "tags": []
          },
          "execution_count": 32
        }
      ]
    },
    {
      "cell_type": "code",
      "metadata": {
        "id": "1DlbXs5-SKk2"
      },
      "source": [
        "top10 = ['자이', '푸르지오', '더샵', '롯데캐슬', '이편한|e편한|e-편한','힐스테이트', '아이파크', '래미안', 'sk|SK|에스케이', '데시앙']\n",
        "df['top10']=0\n",
        "for brand in top10:\n",
        "    df.loc[df['Apt'].str.contains(brand),'top10'] = 1"
      ],
      "execution_count": null,
      "outputs": []
    },
    {
      "cell_type": "code",
      "metadata": {
        "colab": {
          "base_uri": "https://localhost:8080/",
          "height": 270
        },
        "id": "UvRvhlXNSEuS",
        "outputId": "efb531f1-f1af-4739-d6d1-c5be281452de"
      },
      "source": [
        "df.head(1)"
      ],
      "execution_count": null,
      "outputs": [
        {
          "output_type": "execute_result",
          "data": {
            "text/html": [
              "<div>\n",
              "<style scoped>\n",
              "    .dataframe tbody tr th:only-of-type {\n",
              "        vertical-align: middle;\n",
              "    }\n",
              "\n",
              "    .dataframe tbody tr th {\n",
              "        vertical-align: top;\n",
              "    }\n",
              "\n",
              "    .dataframe thead th {\n",
              "        text-align: right;\n",
              "    }\n",
              "</style>\n",
              "<table border=\"1\" class=\"dataframe\">\n",
              "  <thead>\n",
              "    <tr style=\"text-align: right;\">\n",
              "      <th></th>\n",
              "      <th>si</th>\n",
              "      <th>Jibun</th>\n",
              "      <th>Bonbun</th>\n",
              "      <th>Bubun</th>\n",
              "      <th>Apt</th>\n",
              "      <th>Exclusive_area</th>\n",
              "      <th>Transaction_year_month</th>\n",
              "      <th>transaction_date</th>\n",
              "      <th>Transaction_real_price</th>\n",
              "      <th>Floor</th>\n",
              "      <th>Completion</th>\n",
              "      <th>St</th>\n",
              "      <th>Cancle</th>\n",
              "      <th>Gu</th>\n",
              "      <th>Dong</th>\n",
              "      <th>Year</th>\n",
              "      <th>top10</th>\n",
              "    </tr>\n",
              "  </thead>\n",
              "  <tbody>\n",
              "    <tr>\n",
              "      <th>0</th>\n",
              "      <td>서울특별시 강남구 개포동</td>\n",
              "      <td>655-2</td>\n",
              "      <td>655</td>\n",
              "      <td>2</td>\n",
              "      <td>개포2차현대아파트(220)</td>\n",
              "      <td>77.75</td>\n",
              "      <td>202006</td>\n",
              "      <td>23</td>\n",
              "      <td>149500</td>\n",
              "      <td>4</td>\n",
              "      <td>1988</td>\n",
              "      <td>언주로 103</td>\n",
              "      <td>NaN</td>\n",
              "      <td>강남구</td>\n",
              "      <td>개포동</td>\n",
              "      <td>32</td>\n",
              "      <td>0</td>\n",
              "    </tr>\n",
              "  </tbody>\n",
              "</table>\n",
              "</div>"
            ],
            "text/plain": [
              "              si  Jibun  Bonbun  Bubun  ...   Gu  Dong  Year  top10\n",
              "0  서울특별시 강남구 개포동  655-2     655      2  ...  강남구   개포동    32      0\n",
              "\n",
              "[1 rows x 17 columns]"
            ]
          },
          "metadata": {
            "tags": []
          },
          "execution_count": 34
        }
      ]
    },
    {
      "cell_type": "code",
      "metadata": {
        "colab": {
          "base_uri": "https://localhost:8080/"
        },
        "id": "0BTdQEs8TvSc",
        "outputId": "647699bd-9a91-4420-c89a-7cfb2fe221e4"
      },
      "source": [
        "df['top10'].value_counts()"
      ],
      "execution_count": null,
      "outputs": [
        {
          "output_type": "execute_result",
          "data": {
            "text/plain": [
              "0    93597\n",
              "1    20552\n",
              "Name: top10, dtype: int64"
            ]
          },
          "metadata": {
            "tags": []
          },
          "execution_count": 35
        }
      ]
    },
    {
      "cell_type": "code",
      "metadata": {
        "id": "P4X63UAIUBvr"
      },
      "source": [
        "df['Floor']=df['Floor']+3"
      ],
      "execution_count": null,
      "outputs": []
    },
    {
      "cell_type": "code",
      "metadata": {
        "colab": {
          "base_uri": "https://localhost:8080/"
        },
        "id": "ozCob_87X976",
        "outputId": "09d1d5ad-c2b2-4f8c-e5e4-98c8e130e3b4"
      },
      "source": [
        "df['Apt'].value_counts()[:20]"
      ],
      "execution_count": null,
      "outputs": [
        {
          "output_type": "execute_result",
          "data": {
            "text/plain": [
              "현대            1069\n",
              "두산             863\n",
              "한신             856\n",
              "벽산             683\n",
              "삼성래미안          648\n",
              "신동아            631\n",
              "주공2            625\n",
              "에스케이북한산시티      517\n",
              "대우             503\n",
              "삼성             501\n",
              "우성             433\n",
              "극동             428\n",
              "신동아아파트1        374\n",
              "동아             354\n",
              "중계그린1단지        351\n",
              "주공5            350\n",
              "파크리오           348\n",
              "쌍용             331\n",
              "엘에이치강남아이파크     329\n",
              "관악산벽산타운5       325\n",
              "Name: Apt, dtype: int64"
            ]
          },
          "metadata": {
            "tags": []
          },
          "execution_count": 37
        }
      ]
    },
    {
      "cell_type": "code",
      "metadata": {
        "id": "bqB48xdOY4a2"
      },
      "source": [
        "apt_names=['현대','두산','한신','벽산','삼성래미안','신동아','주공2','에스케이북한산시티','대우','삼성',\n",
        "           '우성','극동','신동아아파트1','동아','중계그린1단지','주공5','파크리오','쌍용','엘에이치강남아이파크','관악산벽산타운5' ]\n",
        "\n",
        "apt_names_list = top10 + apt_names\n",
        "\n",
        "df['transformed'] = False\n",
        "\n",
        "for a in apt_names_list:\n",
        "    df.loc[df['Apt'].str.contains(a), 'Apt'] = a\n",
        "    df.loc[df['Apt'].str.contains(a), 'transformed'] = True\n",
        "\n",
        "for a in apt_names:\n",
        "    df.loc[~df['transformed'], 'Apt'] = 'others'"
      ],
      "execution_count": null,
      "outputs": []
    },
    {
      "cell_type": "code",
      "metadata": {
        "colab": {
          "base_uri": "https://localhost:8080/"
        },
        "id": "XJEHGJWxb9s6",
        "outputId": "6df1d326-a189-4800-ffe4-366135783ec6"
      },
      "source": [
        "df.Apt.value_counts()"
      ],
      "execution_count": null,
      "outputs": [
        {
          "output_type": "execute_result",
          "data": {
            "text/plain": [
              "others          64973\n",
              "현대               7860\n",
              "래미안              5639\n",
              "동아               3468\n",
              "힐스테이트            2709\n",
              "우성               2666\n",
              "푸르지오             2638\n",
              "한신               2573\n",
              "두산               2441\n",
              "벽산               2226\n",
              "삼성               2102\n",
              "이편한|e편한|e-편한     1956\n",
              "자이               1945\n",
              "아이파크             1880\n",
              "롯데캐슬             1806\n",
              "대우               1200\n",
              "sk|SK|에스케이       1154\n",
              "쌍용               1101\n",
              "극동                972\n",
              "주공2               861\n",
              "더샵                497\n",
              "주공5               455\n",
              "중계그린1단지           351\n",
              "파크리오              348\n",
              "데시앙               328\n",
              "Name: Apt, dtype: int64"
            ]
          },
          "metadata": {
            "tags": []
          },
          "execution_count": 39
        }
      ]
    },
    {
      "cell_type": "code",
      "metadata": {
        "colab": {
          "base_uri": "https://localhost:8080/"
        },
        "id": "y6SbW99ScZy6",
        "outputId": "8a0218ae-ec75-4124-ef82-445c2b4e9077"
      },
      "source": [
        "df.Apt.nunique()"
      ],
      "execution_count": null,
      "outputs": [
        {
          "output_type": "execute_result",
          "data": {
            "text/plain": [
              "25"
            ]
          },
          "metadata": {
            "tags": []
          },
          "execution_count": 40
        }
      ]
    },
    {
      "cell_type": "code",
      "metadata": {
        "colab": {
          "base_uri": "https://localhost:8080/"
        },
        "id": "p-s1VE3Uc2Z5",
        "outputId": "19fc8aec-37ae-4a63-f2e9-3f20e8905256"
      },
      "source": [
        "df.info()"
      ],
      "execution_count": null,
      "outputs": [
        {
          "output_type": "stream",
          "text": [
            "<class 'pandas.core.frame.DataFrame'>\n",
            "Int64Index: 114149 entries, 0 to 19296\n",
            "Data columns (total 18 columns):\n",
            " #   Column                  Non-Null Count   Dtype  \n",
            "---  ------                  --------------   -----  \n",
            " 0   si                      114149 non-null  object \n",
            " 1   Jibun                   114149 non-null  object \n",
            " 2   Bonbun                  114149 non-null  int64  \n",
            " 3   Bubun                   114149 non-null  int64  \n",
            " 4   Apt                     114149 non-null  object \n",
            " 5   Exclusive_area          114149 non-null  float64\n",
            " 6   Transaction_year_month  114149 non-null  int64  \n",
            " 7   transaction_date        114149 non-null  int64  \n",
            " 8   Transaction_real_price  114149 non-null  int64  \n",
            " 9   Floor                   114149 non-null  int64  \n",
            " 10  Completion              114149 non-null  int64  \n",
            " 11  St                      114149 non-null  object \n",
            " 12  Cancle                  3751 non-null    float64\n",
            " 13  Gu                      114149 non-null  object \n",
            " 14  Dong                    114149 non-null  object \n",
            " 15  Year                    114149 non-null  int64  \n",
            " 16  top10                   114149 non-null  int64  \n",
            " 17  transformed             114149 non-null  bool   \n",
            "dtypes: bool(1), float64(2), int64(9), object(6)\n",
            "memory usage: 15.8+ MB\n"
          ],
          "name": "stdout"
        }
      ]
    },
    {
      "cell_type": "code",
      "metadata": {
        "id": "I7RonhvidRst"
      },
      "source": [
        "df.drop('Cancle',axis=1,inplace=True)"
      ],
      "execution_count": null,
      "outputs": []
    },
    {
      "cell_type": "code",
      "metadata": {
        "colab": {
          "base_uri": "https://localhost:8080/",
          "height": 1000
        },
        "id": "rdl1VZT2dYOZ",
        "outputId": "fe71e9c2-df2f-47aa-fb55-5f1cf64056f7"
      },
      "source": [
        "df.head()"
      ],
      "execution_count": null,
      "outputs": [
        {
          "output_type": "execute_result",
          "data": {
            "text/html": [
              "<div>\n",
              "<style scoped>\n",
              "    .dataframe tbody tr th:only-of-type {\n",
              "        vertical-align: middle;\n",
              "    }\n",
              "\n",
              "    .dataframe tbody tr th {\n",
              "        vertical-align: top;\n",
              "    }\n",
              "\n",
              "    .dataframe thead th {\n",
              "        text-align: right;\n",
              "    }\n",
              "</style>\n",
              "<table border=\"1\" class=\"dataframe\">\n",
              "  <thead>\n",
              "    <tr style=\"text-align: right;\">\n",
              "      <th></th>\n",
              "      <th>si</th>\n",
              "      <th>Jibun</th>\n",
              "      <th>Bonbun</th>\n",
              "      <th>Bubun</th>\n",
              "      <th>Apt</th>\n",
              "      <th>Exclusive_area</th>\n",
              "      <th>Transaction_year_month</th>\n",
              "      <th>transaction_date</th>\n",
              "      <th>Transaction_real_price</th>\n",
              "      <th>Floor</th>\n",
              "      <th>Completion</th>\n",
              "      <th>St</th>\n",
              "      <th>Gu</th>\n",
              "      <th>Dong</th>\n",
              "      <th>Year</th>\n",
              "      <th>top10</th>\n",
              "      <th>transformed</th>\n",
              "    </tr>\n",
              "  </thead>\n",
              "  <tbody>\n",
              "    <tr>\n",
              "      <th>0</th>\n",
              "      <td>서울특별시 강남구 개포동</td>\n",
              "      <td>655-2</td>\n",
              "      <td>655</td>\n",
              "      <td>2</td>\n",
              "      <td>현대</td>\n",
              "      <td>77.75</td>\n",
              "      <td>202006</td>\n",
              "      <td>23</td>\n",
              "      <td>149500</td>\n",
              "      <td>7</td>\n",
              "      <td>1988</td>\n",
              "      <td>언주로 103</td>\n",
              "      <td>강남구</td>\n",
              "      <td>개포동</td>\n",
              "      <td>32</td>\n",
              "      <td>0</td>\n",
              "      <td>True</td>\n",
              "    </tr>\n",
              "    <tr>\n",
              "      <th>1</th>\n",
              "      <td>서울특별시 강남구 개포동</td>\n",
              "      <td>658-1</td>\n",
              "      <td>658</td>\n",
              "      <td>1</td>\n",
              "      <td>우성</td>\n",
              "      <td>54.98</td>\n",
              "      <td>202002</td>\n",
              "      <td>24</td>\n",
              "      <td>144000</td>\n",
              "      <td>7</td>\n",
              "      <td>1987</td>\n",
              "      <td>언주로 3</td>\n",
              "      <td>강남구</td>\n",
              "      <td>개포동</td>\n",
              "      <td>33</td>\n",
              "      <td>0</td>\n",
              "      <td>True</td>\n",
              "    </tr>\n",
              "    <tr>\n",
              "      <th>2</th>\n",
              "      <td>서울특별시 강남구 개포동</td>\n",
              "      <td>658-1</td>\n",
              "      <td>658</td>\n",
              "      <td>1</td>\n",
              "      <td>우성</td>\n",
              "      <td>79.97</td>\n",
              "      <td>202006</td>\n",
              "      <td>18</td>\n",
              "      <td>162750</td>\n",
              "      <td>7</td>\n",
              "      <td>1987</td>\n",
              "      <td>언주로 3</td>\n",
              "      <td>강남구</td>\n",
              "      <td>개포동</td>\n",
              "      <td>33</td>\n",
              "      <td>0</td>\n",
              "      <td>True</td>\n",
              "    </tr>\n",
              "    <tr>\n",
              "      <th>3</th>\n",
              "      <td>서울특별시 강남구 개포동</td>\n",
              "      <td>658-1</td>\n",
              "      <td>658</td>\n",
              "      <td>1</td>\n",
              "      <td>우성</td>\n",
              "      <td>79.97</td>\n",
              "      <td>202006</td>\n",
              "      <td>20</td>\n",
              "      <td>160000</td>\n",
              "      <td>8</td>\n",
              "      <td>1987</td>\n",
              "      <td>언주로 3</td>\n",
              "      <td>강남구</td>\n",
              "      <td>개포동</td>\n",
              "      <td>33</td>\n",
              "      <td>0</td>\n",
              "      <td>True</td>\n",
              "    </tr>\n",
              "    <tr>\n",
              "      <th>4</th>\n",
              "      <td>서울특별시 강남구 개포동</td>\n",
              "      <td>658-1</td>\n",
              "      <td>658</td>\n",
              "      <td>1</td>\n",
              "      <td>우성</td>\n",
              "      <td>79.97</td>\n",
              "      <td>202006</td>\n",
              "      <td>22</td>\n",
              "      <td>150000</td>\n",
              "      <td>5</td>\n",
              "      <td>1987</td>\n",
              "      <td>언주로 3</td>\n",
              "      <td>강남구</td>\n",
              "      <td>개포동</td>\n",
              "      <td>33</td>\n",
              "      <td>0</td>\n",
              "      <td>True</td>\n",
              "    </tr>\n",
              "  </tbody>\n",
              "</table>\n",
              "</div>"
            ],
            "text/plain": [
              "              si  Jibun  Bonbun  Bubun Apt  ...   Gu  Dong  Year  top10  transformed\n",
              "0  서울특별시 강남구 개포동  655-2     655      2  현대  ...  강남구   개포동    32      0         True\n",
              "1  서울특별시 강남구 개포동  658-1     658      1  우성  ...  강남구   개포동    33      0         True\n",
              "2  서울특별시 강남구 개포동  658-1     658      1  우성  ...  강남구   개포동    33      0         True\n",
              "3  서울특별시 강남구 개포동  658-1     658      1  우성  ...  강남구   개포동    33      0         True\n",
              "4  서울특별시 강남구 개포동  658-1     658      1  우성  ...  강남구   개포동    33      0         True\n",
              "\n",
              "[5 rows x 17 columns]"
            ]
          },
          "metadata": {
            "tags": []
          },
          "execution_count": 43
        }
      ]
    },
    {
      "cell_type": "code",
      "metadata": {
        "colab": {
          "base_uri": "https://localhost:8080/"
        },
        "id": "x-2AOXzjkBE-",
        "outputId": "3472933b-6611-4323-8626-6cfe7a34e4bb"
      },
      "source": [
        "df.transformed.value_counts()"
      ],
      "execution_count": null,
      "outputs": [
        {
          "output_type": "execute_result",
          "data": {
            "text/plain": [
              "False    64973\n",
              "True     49176\n",
              "Name: transformed, dtype: int64"
            ]
          },
          "metadata": {
            "tags": []
          },
          "execution_count": 44
        }
      ]
    },
    {
      "cell_type": "code",
      "metadata": {
        "id": "uxZEsB_6dZbw"
      },
      "source": [
        "df.drop(['si','transformed'],axis=1,inplace=True)"
      ],
      "execution_count": null,
      "outputs": []
    },
    {
      "cell_type": "code",
      "metadata": {
        "colab": {
          "base_uri": "https://localhost:8080/"
        },
        "id": "ARhUuyYFlU_Q",
        "outputId": "7bf31d76-dfe1-4874-9127-d8cd1d3c79ab"
      },
      "source": [
        "df.columns"
      ],
      "execution_count": null,
      "outputs": [
        {
          "output_type": "execute_result",
          "data": {
            "text/plain": [
              "Index(['Jibun', 'Bonbun', 'Bubun', 'Apt', 'Exclusive_area',\n",
              "       'Transaction_year_month', 'transaction_date', 'Transaction_real_price',\n",
              "       'Floor', 'Completion', 'St', 'Gu', 'Dong', 'Year', 'top10'],\n",
              "      dtype='object')"
            ]
          },
          "metadata": {
            "tags": []
          },
          "execution_count": 46
        }
      ]
    },
    {
      "cell_type": "code",
      "metadata": {
        "id": "xkf2lpgvkuMD"
      },
      "source": [
        "df = df[['Gu','Dong','Jibun','Bonbun','Apt', 'Exclusive_area',\n",
        "    'Transaction_year_month', 'transaction_date','Floor',\n",
        "    'Completion','Year', 'top10','Transaction_real_price' ]]"
      ],
      "execution_count": null,
      "outputs": []
    },
    {
      "cell_type": "code",
      "metadata": {
        "id": "tDjnPzeClsOj"
      },
      "source": [
        "squar = pd.read_csv(path+'/구별 면적금액.csv')"
      ],
      "execution_count": null,
      "outputs": []
    },
    {
      "cell_type": "code",
      "metadata": {
        "colab": {
          "base_uri": "https://localhost:8080/"
        },
        "id": "Q4baVrzemsGx",
        "outputId": "e9eb02f2-6d2c-4329-ff13-d8c643521325"
      },
      "source": [
        "squar.info()"
      ],
      "execution_count": null,
      "outputs": [
        {
          "output_type": "stream",
          "text": [
            "<class 'pandas.core.frame.DataFrame'>\n",
            "RangeIndex: 25 entries, 0 to 24\n",
            "Data columns (total 2 columns):\n",
            " #   Column     Non-Null Count  Dtype  \n",
            "---  ------     --------------  -----  \n",
            " 0   구          25 non-null     object \n",
            " 1   평균 면적당 금액  25 non-null     float64\n",
            "dtypes: float64(1), object(1)\n",
            "memory usage: 528.0+ bytes\n"
          ],
          "name": "stdout"
        }
      ]
    },
    {
      "cell_type": "code",
      "metadata": {
        "id": "YXsef0JMm3XA"
      },
      "source": [
        "squar['price per squar']= squar['평균 면적당 금액']/3.3"
      ],
      "execution_count": null,
      "outputs": []
    },
    {
      "cell_type": "code",
      "metadata": {
        "colab": {
          "base_uri": "https://localhost:8080/",
          "height": 204
        },
        "id": "-CyYjVu3nKoA",
        "outputId": "f2ea7b3f-405d-4b19-918e-2ad71e794b48"
      },
      "source": [
        "squar.head()"
      ],
      "execution_count": null,
      "outputs": [
        {
          "output_type": "execute_result",
          "data": {
            "text/html": [
              "<div>\n",
              "<style scoped>\n",
              "    .dataframe tbody tr th:only-of-type {\n",
              "        vertical-align: middle;\n",
              "    }\n",
              "\n",
              "    .dataframe tbody tr th {\n",
              "        vertical-align: top;\n",
              "    }\n",
              "\n",
              "    .dataframe thead th {\n",
              "        text-align: right;\n",
              "    }\n",
              "</style>\n",
              "<table border=\"1\" class=\"dataframe\">\n",
              "  <thead>\n",
              "    <tr style=\"text-align: right;\">\n",
              "      <th></th>\n",
              "      <th>구</th>\n",
              "      <th>평균 면적당 금액</th>\n",
              "      <th>price per squar</th>\n",
              "    </tr>\n",
              "  </thead>\n",
              "  <tbody>\n",
              "    <tr>\n",
              "      <th>0</th>\n",
              "      <td>중랑구</td>\n",
              "      <td>809.799405</td>\n",
              "      <td>245.393759</td>\n",
              "    </tr>\n",
              "    <tr>\n",
              "      <th>1</th>\n",
              "      <td>중구</td>\n",
              "      <td>1181.666804</td>\n",
              "      <td>358.080850</td>\n",
              "    </tr>\n",
              "    <tr>\n",
              "      <th>2</th>\n",
              "      <td>종로구</td>\n",
              "      <td>1075.343218</td>\n",
              "      <td>325.861581</td>\n",
              "    </tr>\n",
              "    <tr>\n",
              "      <th>3</th>\n",
              "      <td>은평구</td>\n",
              "      <td>867.911723</td>\n",
              "      <td>263.003552</td>\n",
              "    </tr>\n",
              "    <tr>\n",
              "      <th>4</th>\n",
              "      <td>용산구</td>\n",
              "      <td>1669.072089</td>\n",
              "      <td>505.779421</td>\n",
              "    </tr>\n",
              "  </tbody>\n",
              "</table>\n",
              "</div>"
            ],
            "text/plain": [
              "     구    평균 면적당 금액  price per squar\n",
              "0  중랑구   809.799405       245.393759\n",
              "1  중구   1181.666804       358.080850\n",
              "2  종로구  1075.343218       325.861581\n",
              "3  은평구   867.911723       263.003552\n",
              "4  용산구  1669.072089       505.779421"
            ]
          },
          "metadata": {
            "tags": []
          },
          "execution_count": 51
        }
      ]
    },
    {
      "cell_type": "code",
      "metadata": {
        "colab": {
          "base_uri": "https://localhost:8080/",
          "height": 204
        },
        "id": "w7rong2fngVH",
        "outputId": "9ad70d87-743f-4b63-cc2b-4a5dd483d6e0"
      },
      "source": [
        "squar.drop('평균 면적당 금액',axis = 1,inplace=True)\n",
        "squar.columns=['Gu','Price per squar']\n",
        "squar.head()"
      ],
      "execution_count": null,
      "outputs": [
        {
          "output_type": "execute_result",
          "data": {
            "text/html": [
              "<div>\n",
              "<style scoped>\n",
              "    .dataframe tbody tr th:only-of-type {\n",
              "        vertical-align: middle;\n",
              "    }\n",
              "\n",
              "    .dataframe tbody tr th {\n",
              "        vertical-align: top;\n",
              "    }\n",
              "\n",
              "    .dataframe thead th {\n",
              "        text-align: right;\n",
              "    }\n",
              "</style>\n",
              "<table border=\"1\" class=\"dataframe\">\n",
              "  <thead>\n",
              "    <tr style=\"text-align: right;\">\n",
              "      <th></th>\n",
              "      <th>Gu</th>\n",
              "      <th>Price per squar</th>\n",
              "    </tr>\n",
              "  </thead>\n",
              "  <tbody>\n",
              "    <tr>\n",
              "      <th>0</th>\n",
              "      <td>중랑구</td>\n",
              "      <td>245.393759</td>\n",
              "    </tr>\n",
              "    <tr>\n",
              "      <th>1</th>\n",
              "      <td>중구</td>\n",
              "      <td>358.080850</td>\n",
              "    </tr>\n",
              "    <tr>\n",
              "      <th>2</th>\n",
              "      <td>종로구</td>\n",
              "      <td>325.861581</td>\n",
              "    </tr>\n",
              "    <tr>\n",
              "      <th>3</th>\n",
              "      <td>은평구</td>\n",
              "      <td>263.003552</td>\n",
              "    </tr>\n",
              "    <tr>\n",
              "      <th>4</th>\n",
              "      <td>용산구</td>\n",
              "      <td>505.779421</td>\n",
              "    </tr>\n",
              "  </tbody>\n",
              "</table>\n",
              "</div>"
            ],
            "text/plain": [
              "    Gu  Price per squar\n",
              "0  중랑구       245.393759\n",
              "1  중구        358.080850\n",
              "2  종로구       325.861581\n",
              "3  은평구       263.003552\n",
              "4  용산구       505.779421"
            ]
          },
          "metadata": {
            "tags": []
          },
          "execution_count": 52
        }
      ]
    },
    {
      "cell_type": "code",
      "metadata": {
        "id": "P09Bi-Fdpz81"
      },
      "source": [
        "squar.iloc[:,0].astype(str).str.strip()\n",
        "squar.iloc[1,0]='중구'"
      ],
      "execution_count": null,
      "outputs": []
    },
    {
      "cell_type": "code",
      "metadata": {
        "colab": {
          "base_uri": "https://localhost:8080/"
        },
        "id": "19wkNI1SpWQ7",
        "outputId": "89bf98a0-a89b-4983-d246-45c92fe7d726"
      },
      "source": [
        "squar.iloc[24,0] == df.iloc[0,0]"
      ],
      "execution_count": null,
      "outputs": [
        {
          "output_type": "execute_result",
          "data": {
            "text/plain": [
              "True"
            ]
          },
          "metadata": {
            "tags": []
          },
          "execution_count": 54
        }
      ]
    },
    {
      "cell_type": "code",
      "metadata": {
        "id": "b6GIUJU3n86f"
      },
      "source": [
        "price_df = pd.merge(df,squar,on='Gu',how='left')"
      ],
      "execution_count": null,
      "outputs": []
    },
    {
      "cell_type": "code",
      "metadata": {
        "colab": {
          "base_uri": "https://localhost:8080/"
        },
        "id": "C9o3pN61oMJn",
        "outputId": "75943ba3-fb77-446b-ffd1-112e9e53d6cb"
      },
      "source": [
        "price_df.info()"
      ],
      "execution_count": null,
      "outputs": [
        {
          "output_type": "stream",
          "text": [
            "<class 'pandas.core.frame.DataFrame'>\n",
            "Int64Index: 114149 entries, 0 to 114148\n",
            "Data columns (total 14 columns):\n",
            " #   Column                  Non-Null Count   Dtype  \n",
            "---  ------                  --------------   -----  \n",
            " 0   Gu                      114149 non-null  object \n",
            " 1   Dong                    114149 non-null  object \n",
            " 2   Jibun                   114149 non-null  object \n",
            " 3   Bonbun                  114149 non-null  int64  \n",
            " 4   Apt                     114149 non-null  object \n",
            " 5   Exclusive_area          114149 non-null  float64\n",
            " 6   Transaction_year_month  114149 non-null  int64  \n",
            " 7   transaction_date        114149 non-null  int64  \n",
            " 8   Floor                   114149 non-null  int64  \n",
            " 9   Completion              114149 non-null  int64  \n",
            " 10  Year                    114149 non-null  int64  \n",
            " 11  top10                   114149 non-null  int64  \n",
            " 12  Transaction_real_price  114149 non-null  int64  \n",
            " 13  Price per squar         114149 non-null  float64\n",
            "dtypes: float64(2), int64(8), object(4)\n",
            "memory usage: 13.1+ MB\n"
          ],
          "name": "stdout"
        }
      ]
    },
    {
      "cell_type": "code",
      "metadata": {
        "id": "phHTxxK7tDLF"
      },
      "source": [
        "price_df.to_csv(path+'/price_1.csv',index=False)"
      ],
      "execution_count": null,
      "outputs": []
    },
    {
      "cell_type": "code",
      "metadata": {
        "id": "y8MNLsRduhiC"
      },
      "source": [
        ""
      ],
      "execution_count": null,
      "outputs": []
    }
  ]
}