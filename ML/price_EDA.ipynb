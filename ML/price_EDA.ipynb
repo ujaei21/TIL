{
  "nbformat": 4,
  "nbformat_minor": 0,
  "metadata": {
    "colab": {
      "name": "price_1.ipynb",
      "provenance": [],
      "collapsed_sections": []
    },
    "kernelspec": {
      "name": "python3",
      "display_name": "Python 3"
    },
    "language_info": {
      "name": "python"
    }
  },
  "cells": [
    {
      "cell_type": "code",
      "metadata": {
        "id": "V6GPhxFidvyM"
      },
      "source": [
        "import warnings \n",
        "warnings.filterwarnings('ignore')"
      ],
      "execution_count": 1,
      "outputs": []
    },
    {
      "cell_type": "code",
      "metadata": {
        "id": "SXqFFyCpeFWv"
      },
      "source": [
        "path = '/content/drive/MyDrive/Colab Notebooks/apart'\n",
        "path20 = '/content/drive/MyDrive/Colab Notebooks/apart/아파트(매매)__실거래가_2020.csv'\n",
        "path21 = '/content/drive/MyDrive/Colab Notebooks/apart/아파트(매매)__실거래가_2021.csv'"
      ],
      "execution_count": 2,
      "outputs": []
    },
    {
      "cell_type": "code",
      "metadata": {
        "id": "u4lFKBWnehuA"
      },
      "source": [
        "import pandas as pd"
      ],
      "execution_count": 3,
      "outputs": []
    },
    {
      "cell_type": "code",
      "metadata": {
        "id": "03Feh5OweWTU"
      },
      "source": [
        "df20 = pd.read_csv(path20,encoding='cp949')\n",
        "df21 = pd.read_csv(path21,encoding='cp949')"
      ],
      "execution_count": 4,
      "outputs": []
    },
    {
      "cell_type": "code",
      "metadata": {
        "id": "7MsnaFczgNYR",
        "colab": {
          "base_uri": "https://localhost:8080/",
          "height": 963
        },
        "outputId": "6b987bd4-1b5a-4d19-8345-b10019013e66"
      },
      "source": [
        "df20"
      ],
      "execution_count": 5,
      "outputs": [
        {
          "output_type": "execute_result",
          "data": {
            "text/html": [
              "<div>\n",
              "<style scoped>\n",
              "    .dataframe tbody tr th:only-of-type {\n",
              "        vertical-align: middle;\n",
              "    }\n",
              "\n",
              "    .dataframe tbody tr th {\n",
              "        vertical-align: top;\n",
              "    }\n",
              "\n",
              "    .dataframe thead th {\n",
              "        text-align: right;\n",
              "    }\n",
              "</style>\n",
              "<table border=\"1\" class=\"dataframe\">\n",
              "  <thead>\n",
              "    <tr style=\"text-align: right;\">\n",
              "      <th></th>\n",
              "      <th>시군구</th>\n",
              "      <th>번지</th>\n",
              "      <th>본번</th>\n",
              "      <th>부번</th>\n",
              "      <th>단지명</th>\n",
              "      <th>전용면적(㎡)</th>\n",
              "      <th>계약년월</th>\n",
              "      <th>계약일</th>\n",
              "      <th>거래금액(만원)</th>\n",
              "      <th>층</th>\n",
              "      <th>건축년도</th>\n",
              "      <th>도로명</th>\n",
              "      <th>해제사유발생일</th>\n",
              "    </tr>\n",
              "  </thead>\n",
              "  <tbody>\n",
              "    <tr>\n",
              "      <th>0</th>\n",
              "      <td>서울특별시 강남구 개포동</td>\n",
              "      <td>655-2</td>\n",
              "      <td>655.0</td>\n",
              "      <td>2.0</td>\n",
              "      <td>개포2차현대아파트(220)</td>\n",
              "      <td>77.75</td>\n",
              "      <td>202006</td>\n",
              "      <td>23</td>\n",
              "      <td>149500</td>\n",
              "      <td>4</td>\n",
              "      <td>1988</td>\n",
              "      <td>언주로 103</td>\n",
              "      <td>NaN</td>\n",
              "    </tr>\n",
              "    <tr>\n",
              "      <th>1</th>\n",
              "      <td>서울특별시 강남구 개포동</td>\n",
              "      <td>658-1</td>\n",
              "      <td>658.0</td>\n",
              "      <td>1.0</td>\n",
              "      <td>개포6차우성아파트1동~8동</td>\n",
              "      <td>54.98</td>\n",
              "      <td>202002</td>\n",
              "      <td>24</td>\n",
              "      <td>144000</td>\n",
              "      <td>4</td>\n",
              "      <td>1987</td>\n",
              "      <td>언주로 3</td>\n",
              "      <td>NaN</td>\n",
              "    </tr>\n",
              "    <tr>\n",
              "      <th>2</th>\n",
              "      <td>서울특별시 강남구 개포동</td>\n",
              "      <td>658-1</td>\n",
              "      <td>658.0</td>\n",
              "      <td>1.0</td>\n",
              "      <td>개포6차우성아파트1동~8동</td>\n",
              "      <td>79.97</td>\n",
              "      <td>202006</td>\n",
              "      <td>18</td>\n",
              "      <td>162750</td>\n",
              "      <td>4</td>\n",
              "      <td>1987</td>\n",
              "      <td>언주로 3</td>\n",
              "      <td>NaN</td>\n",
              "    </tr>\n",
              "    <tr>\n",
              "      <th>3</th>\n",
              "      <td>서울특별시 강남구 개포동</td>\n",
              "      <td>658-1</td>\n",
              "      <td>658.0</td>\n",
              "      <td>1.0</td>\n",
              "      <td>개포6차우성아파트1동~8동</td>\n",
              "      <td>79.97</td>\n",
              "      <td>202006</td>\n",
              "      <td>20</td>\n",
              "      <td>160000</td>\n",
              "      <td>5</td>\n",
              "      <td>1987</td>\n",
              "      <td>언주로 3</td>\n",
              "      <td>NaN</td>\n",
              "    </tr>\n",
              "    <tr>\n",
              "      <th>4</th>\n",
              "      <td>서울특별시 강남구 개포동</td>\n",
              "      <td>658-1</td>\n",
              "      <td>658.0</td>\n",
              "      <td>1.0</td>\n",
              "      <td>개포6차우성아파트1동~8동</td>\n",
              "      <td>79.97</td>\n",
              "      <td>202006</td>\n",
              "      <td>22</td>\n",
              "      <td>150000</td>\n",
              "      <td>2</td>\n",
              "      <td>1987</td>\n",
              "      <td>언주로 3</td>\n",
              "      <td>NaN</td>\n",
              "    </tr>\n",
              "    <tr>\n",
              "      <th>...</th>\n",
              "      <td>...</td>\n",
              "      <td>...</td>\n",
              "      <td>...</td>\n",
              "      <td>...</td>\n",
              "      <td>...</td>\n",
              "      <td>...</td>\n",
              "      <td>...</td>\n",
              "      <td>...</td>\n",
              "      <td>...</td>\n",
              "      <td>...</td>\n",
              "      <td>...</td>\n",
              "      <td>...</td>\n",
              "      <td>...</td>\n",
              "    </tr>\n",
              "    <tr>\n",
              "      <th>84221</th>\n",
              "      <td>서울특별시 중랑구 중화동</td>\n",
              "      <td>274-77</td>\n",
              "      <td>274.0</td>\n",
              "      <td>77.0</td>\n",
              "      <td>한영(104)</td>\n",
              "      <td>67.57</td>\n",
              "      <td>202008</td>\n",
              "      <td>7</td>\n",
              "      <td>26000</td>\n",
              "      <td>2</td>\n",
              "      <td>2003</td>\n",
              "      <td>동일로144길 74</td>\n",
              "      <td>NaN</td>\n",
              "    </tr>\n",
              "    <tr>\n",
              "      <th>84222</th>\n",
              "      <td>서울특별시 중랑구 중화동</td>\n",
              "      <td>11</td>\n",
              "      <td>11.0</td>\n",
              "      <td>0.0</td>\n",
              "      <td>현대휴앤미</td>\n",
              "      <td>95.94</td>\n",
              "      <td>202007</td>\n",
              "      <td>10</td>\n",
              "      <td>44000</td>\n",
              "      <td>6</td>\n",
              "      <td>2007</td>\n",
              "      <td>봉화산로27가길 23</td>\n",
              "      <td>NaN</td>\n",
              "    </tr>\n",
              "    <tr>\n",
              "      <th>84223</th>\n",
              "      <td>서울특별시 중랑구 중화동</td>\n",
              "      <td>11</td>\n",
              "      <td>11.0</td>\n",
              "      <td>0.0</td>\n",
              "      <td>현대휴앤미</td>\n",
              "      <td>100.17</td>\n",
              "      <td>202012</td>\n",
              "      <td>3</td>\n",
              "      <td>54800</td>\n",
              "      <td>5</td>\n",
              "      <td>2007</td>\n",
              "      <td>봉화산로27가길 23</td>\n",
              "      <td>NaN</td>\n",
              "    </tr>\n",
              "    <tr>\n",
              "      <th>84224</th>\n",
              "      <td>서울특별시 중랑구 중화동</td>\n",
              "      <td>11월 07일</td>\n",
              "      <td>11.0</td>\n",
              "      <td>7.0</td>\n",
              "      <td>현대휴앤미(102동)</td>\n",
              "      <td>77.71</td>\n",
              "      <td>202009</td>\n",
              "      <td>28</td>\n",
              "      <td>40000</td>\n",
              "      <td>5</td>\n",
              "      <td>2007</td>\n",
              "      <td>봉화산로27가길 19</td>\n",
              "      <td>20201027.0</td>\n",
              "    </tr>\n",
              "    <tr>\n",
              "      <th>84225</th>\n",
              "      <td>서울특별시 중랑구 중화동</td>\n",
              "      <td>11월 07일</td>\n",
              "      <td>11.0</td>\n",
              "      <td>7.0</td>\n",
              "      <td>현대휴앤미(102동)</td>\n",
              "      <td>77.71</td>\n",
              "      <td>202009</td>\n",
              "      <td>28</td>\n",
              "      <td>40000</td>\n",
              "      <td>5</td>\n",
              "      <td>2007</td>\n",
              "      <td>봉화산로27가길 19</td>\n",
              "      <td>NaN</td>\n",
              "    </tr>\n",
              "  </tbody>\n",
              "</table>\n",
              "<p>84226 rows × 13 columns</p>\n",
              "</div>"
            ],
            "text/plain": [
              "                 시군구       번지     본번    부번  ...  층  건축년도          도로명     해제사유발생일\n",
              "0      서울특별시 강남구 개포동    655-2  655.0   2.0  ...  4  1988      언주로 103         NaN\n",
              "1      서울특별시 강남구 개포동    658-1  658.0   1.0  ...  4  1987        언주로 3         NaN\n",
              "2      서울특별시 강남구 개포동    658-1  658.0   1.0  ...  4  1987        언주로 3         NaN\n",
              "3      서울특별시 강남구 개포동    658-1  658.0   1.0  ...  5  1987        언주로 3         NaN\n",
              "4      서울특별시 강남구 개포동    658-1  658.0   1.0  ...  2  1987        언주로 3         NaN\n",
              "...              ...      ...    ...   ...  ... ..   ...          ...         ...\n",
              "84221  서울특별시 중랑구 중화동   274-77  274.0  77.0  ...  2  2003   동일로144길 74         NaN\n",
              "84222  서울특별시 중랑구 중화동       11   11.0   0.0  ...  6  2007  봉화산로27가길 23         NaN\n",
              "84223  서울특별시 중랑구 중화동       11   11.0   0.0  ...  5  2007  봉화산로27가길 23         NaN\n",
              "84224  서울특별시 중랑구 중화동  11월 07일   11.0   7.0  ...  5  2007  봉화산로27가길 19  20201027.0\n",
              "84225  서울특별시 중랑구 중화동  11월 07일   11.0   7.0  ...  5  2007  봉화산로27가길 19         NaN\n",
              "\n",
              "[84226 rows x 13 columns]"
            ]
          },
          "metadata": {
            "tags": []
          },
          "execution_count": 5
        }
      ]
    },
    {
      "cell_type": "code",
      "metadata": {
        "id": "sFJNnUK_iNDm",
        "colab": {
          "base_uri": "https://localhost:8080/",
          "height": 963
        },
        "outputId": "580fb268-a4ab-42f6-80f4-6f6885dd5a3e"
      },
      "source": [
        "df21"
      ],
      "execution_count": 6,
      "outputs": [
        {
          "output_type": "execute_result",
          "data": {
            "text/html": [
              "<div>\n",
              "<style scoped>\n",
              "    .dataframe tbody tr th:only-of-type {\n",
              "        vertical-align: middle;\n",
              "    }\n",
              "\n",
              "    .dataframe tbody tr th {\n",
              "        vertical-align: top;\n",
              "    }\n",
              "\n",
              "    .dataframe thead th {\n",
              "        text-align: right;\n",
              "    }\n",
              "</style>\n",
              "<table border=\"1\" class=\"dataframe\">\n",
              "  <thead>\n",
              "    <tr style=\"text-align: right;\">\n",
              "      <th></th>\n",
              "      <th>시군구</th>\n",
              "      <th>번지</th>\n",
              "      <th>본번</th>\n",
              "      <th>부번</th>\n",
              "      <th>단지명</th>\n",
              "      <th>전용면적(㎡)</th>\n",
              "      <th>계약년월</th>\n",
              "      <th>계약일</th>\n",
              "      <th>거래금액(만원)</th>\n",
              "      <th>층</th>\n",
              "      <th>건축년도</th>\n",
              "      <th>도로명</th>\n",
              "      <th>해제사유발생일</th>\n",
              "    </tr>\n",
              "  </thead>\n",
              "  <tbody>\n",
              "    <tr>\n",
              "      <th>0</th>\n",
              "      <td>서울특별시 강남구 개포동</td>\n",
              "      <td>655-2</td>\n",
              "      <td>655.0</td>\n",
              "      <td>2.0</td>\n",
              "      <td>개포2차현대아파트(220)</td>\n",
              "      <td>77.75</td>\n",
              "      <td>202104</td>\n",
              "      <td>15</td>\n",
              "      <td>174000</td>\n",
              "      <td>9</td>\n",
              "      <td>1988</td>\n",
              "      <td>언주로 103</td>\n",
              "      <td>NaN</td>\n",
              "    </tr>\n",
              "    <tr>\n",
              "      <th>1</th>\n",
              "      <td>서울특별시 강남구 개포동</td>\n",
              "      <td>658-1</td>\n",
              "      <td>658.0</td>\n",
              "      <td>1.0</td>\n",
              "      <td>개포6차우성아파트1동~8동</td>\n",
              "      <td>79.97</td>\n",
              "      <td>202105</td>\n",
              "      <td>15</td>\n",
              "      <td>195000</td>\n",
              "      <td>5</td>\n",
              "      <td>1987</td>\n",
              "      <td>언주로 3</td>\n",
              "      <td>NaN</td>\n",
              "    </tr>\n",
              "    <tr>\n",
              "      <th>2</th>\n",
              "      <td>서울특별시 강남구 개포동</td>\n",
              "      <td>1282</td>\n",
              "      <td>1282.0</td>\n",
              "      <td>0.0</td>\n",
              "      <td>개포래미안포레스트</td>\n",
              "      <td>59.92</td>\n",
              "      <td>202105</td>\n",
              "      <td>22</td>\n",
              "      <td>198500</td>\n",
              "      <td>18</td>\n",
              "      <td>2020</td>\n",
              "      <td>개포로 264</td>\n",
              "      <td>20210526.0</td>\n",
              "    </tr>\n",
              "    <tr>\n",
              "      <th>3</th>\n",
              "      <td>서울특별시 강남구 개포동</td>\n",
              "      <td>1282</td>\n",
              "      <td>1282.0</td>\n",
              "      <td>0.0</td>\n",
              "      <td>개포래미안포레스트</td>\n",
              "      <td>49.92</td>\n",
              "      <td>202105</td>\n",
              "      <td>22</td>\n",
              "      <td>180000</td>\n",
              "      <td>7</td>\n",
              "      <td>2020</td>\n",
              "      <td>개포로 264</td>\n",
              "      <td>20210526.0</td>\n",
              "    </tr>\n",
              "    <tr>\n",
              "      <th>4</th>\n",
              "      <td>서울특별시 강남구 개포동</td>\n",
              "      <td>1282</td>\n",
              "      <td>1282.0</td>\n",
              "      <td>0.0</td>\n",
              "      <td>개포래미안포레스트</td>\n",
              "      <td>59.92</td>\n",
              "      <td>202106</td>\n",
              "      <td>13</td>\n",
              "      <td>210000</td>\n",
              "      <td>5</td>\n",
              "      <td>2020</td>\n",
              "      <td>개포로 264</td>\n",
              "      <td>NaN</td>\n",
              "    </tr>\n",
              "    <tr>\n",
              "      <th>...</th>\n",
              "      <td>...</td>\n",
              "      <td>...</td>\n",
              "      <td>...</td>\n",
              "      <td>...</td>\n",
              "      <td>...</td>\n",
              "      <td>...</td>\n",
              "      <td>...</td>\n",
              "      <td>...</td>\n",
              "      <td>...</td>\n",
              "      <td>...</td>\n",
              "      <td>...</td>\n",
              "      <td>...</td>\n",
              "      <td>...</td>\n",
              "    </tr>\n",
              "    <tr>\n",
              "      <th>29918</th>\n",
              "      <td>서울특별시 중랑구 중화동</td>\n",
              "      <td>450</td>\n",
              "      <td>450.0</td>\n",
              "      <td>0.0</td>\n",
              "      <td>한신2</td>\n",
              "      <td>59.76</td>\n",
              "      <td>202104</td>\n",
              "      <td>10</td>\n",
              "      <td>66000</td>\n",
              "      <td>6</td>\n",
              "      <td>1998</td>\n",
              "      <td>동일로 752</td>\n",
              "      <td>NaN</td>\n",
              "    </tr>\n",
              "    <tr>\n",
              "      <th>29919</th>\n",
              "      <td>서울특별시 중랑구 중화동</td>\n",
              "      <td>450</td>\n",
              "      <td>450.0</td>\n",
              "      <td>0.0</td>\n",
              "      <td>한신2</td>\n",
              "      <td>59.76</td>\n",
              "      <td>202104</td>\n",
              "      <td>16</td>\n",
              "      <td>68000</td>\n",
              "      <td>13</td>\n",
              "      <td>1998</td>\n",
              "      <td>동일로 752</td>\n",
              "      <td>NaN</td>\n",
              "    </tr>\n",
              "    <tr>\n",
              "      <th>29920</th>\n",
              "      <td>서울특별시 중랑구 중화동</td>\n",
              "      <td>274-51</td>\n",
              "      <td>274.0</td>\n",
              "      <td>51.0</td>\n",
              "      <td>한영(101)</td>\n",
              "      <td>57.66</td>\n",
              "      <td>202102</td>\n",
              "      <td>27</td>\n",
              "      <td>30500</td>\n",
              "      <td>5</td>\n",
              "      <td>2003</td>\n",
              "      <td>동일로144길 74</td>\n",
              "      <td>NaN</td>\n",
              "    </tr>\n",
              "    <tr>\n",
              "      <th>29921</th>\n",
              "      <td>서울특별시 중랑구 중화동</td>\n",
              "      <td>274-75</td>\n",
              "      <td>274.0</td>\n",
              "      <td>75.0</td>\n",
              "      <td>한영(102)</td>\n",
              "      <td>72.22</td>\n",
              "      <td>202105</td>\n",
              "      <td>4</td>\n",
              "      <td>49500</td>\n",
              "      <td>4</td>\n",
              "      <td>2003</td>\n",
              "      <td>동일로144길 74</td>\n",
              "      <td>NaN</td>\n",
              "    </tr>\n",
              "    <tr>\n",
              "      <th>29922</th>\n",
              "      <td>서울특별시 중랑구 중화동</td>\n",
              "      <td>274-76</td>\n",
              "      <td>274.0</td>\n",
              "      <td>76.0</td>\n",
              "      <td>한영(103)</td>\n",
              "      <td>58.46</td>\n",
              "      <td>202107</td>\n",
              "      <td>1</td>\n",
              "      <td>30000</td>\n",
              "      <td>2</td>\n",
              "      <td>2003</td>\n",
              "      <td>동일로144길 74</td>\n",
              "      <td>NaN</td>\n",
              "    </tr>\n",
              "  </tbody>\n",
              "</table>\n",
              "<p>29923 rows × 13 columns</p>\n",
              "</div>"
            ],
            "text/plain": [
              "                 시군구      번지      본번    부번  ...   층  건축년도         도로명     해제사유발생일\n",
              "0      서울특별시 강남구 개포동   655-2   655.0   2.0  ...   9  1988     언주로 103         NaN\n",
              "1      서울특별시 강남구 개포동   658-1   658.0   1.0  ...   5  1987       언주로 3         NaN\n",
              "2      서울특별시 강남구 개포동    1282  1282.0   0.0  ...  18  2020     개포로 264  20210526.0\n",
              "3      서울특별시 강남구 개포동    1282  1282.0   0.0  ...   7  2020     개포로 264  20210526.0\n",
              "4      서울특별시 강남구 개포동    1282  1282.0   0.0  ...   5  2020     개포로 264         NaN\n",
              "...              ...     ...     ...   ...  ...  ..   ...         ...         ...\n",
              "29918  서울특별시 중랑구 중화동     450   450.0   0.0  ...   6  1998     동일로 752         NaN\n",
              "29919  서울특별시 중랑구 중화동     450   450.0   0.0  ...  13  1998     동일로 752         NaN\n",
              "29920  서울특별시 중랑구 중화동  274-51   274.0  51.0  ...   5  2003  동일로144길 74         NaN\n",
              "29921  서울특별시 중랑구 중화동  274-75   274.0  75.0  ...   4  2003  동일로144길 74         NaN\n",
              "29922  서울특별시 중랑구 중화동  274-76   274.0  76.0  ...   2  2003  동일로144길 74         NaN\n",
              "\n",
              "[29923 rows x 13 columns]"
            ]
          },
          "metadata": {
            "tags": []
          },
          "execution_count": 6
        }
      ]
    },
    {
      "cell_type": "code",
      "metadata": {
        "id": "M5TyRdSCiiX9"
      },
      "source": [
        "df=df20.append(df21)"
      ],
      "execution_count": 7,
      "outputs": []
    },
    {
      "cell_type": "code",
      "metadata": {
        "colab": {
          "base_uri": "https://localhost:8080/",
          "height": 408
        },
        "id": "jFOTZ0ue8co1",
        "outputId": "1b9443fd-733d-495b-b14e-dba75fbd6a45"
      },
      "source": [
        "df.tail()"
      ],
      "execution_count": 8,
      "outputs": [
        {
          "output_type": "execute_result",
          "data": {
            "text/html": [
              "<div>\n",
              "<style scoped>\n",
              "    .dataframe tbody tr th:only-of-type {\n",
              "        vertical-align: middle;\n",
              "    }\n",
              "\n",
              "    .dataframe tbody tr th {\n",
              "        vertical-align: top;\n",
              "    }\n",
              "\n",
              "    .dataframe thead th {\n",
              "        text-align: right;\n",
              "    }\n",
              "</style>\n",
              "<table border=\"1\" class=\"dataframe\">\n",
              "  <thead>\n",
              "    <tr style=\"text-align: right;\">\n",
              "      <th></th>\n",
              "      <th>시군구</th>\n",
              "      <th>번지</th>\n",
              "      <th>본번</th>\n",
              "      <th>부번</th>\n",
              "      <th>단지명</th>\n",
              "      <th>전용면적(㎡)</th>\n",
              "      <th>계약년월</th>\n",
              "      <th>계약일</th>\n",
              "      <th>거래금액(만원)</th>\n",
              "      <th>층</th>\n",
              "      <th>건축년도</th>\n",
              "      <th>도로명</th>\n",
              "      <th>해제사유발생일</th>\n",
              "    </tr>\n",
              "  </thead>\n",
              "  <tbody>\n",
              "    <tr>\n",
              "      <th>29918</th>\n",
              "      <td>서울특별시 중랑구 중화동</td>\n",
              "      <td>450</td>\n",
              "      <td>450.0</td>\n",
              "      <td>0.0</td>\n",
              "      <td>한신2</td>\n",
              "      <td>59.76</td>\n",
              "      <td>202104</td>\n",
              "      <td>10</td>\n",
              "      <td>66000</td>\n",
              "      <td>6</td>\n",
              "      <td>1998</td>\n",
              "      <td>동일로 752</td>\n",
              "      <td>NaN</td>\n",
              "    </tr>\n",
              "    <tr>\n",
              "      <th>29919</th>\n",
              "      <td>서울특별시 중랑구 중화동</td>\n",
              "      <td>450</td>\n",
              "      <td>450.0</td>\n",
              "      <td>0.0</td>\n",
              "      <td>한신2</td>\n",
              "      <td>59.76</td>\n",
              "      <td>202104</td>\n",
              "      <td>16</td>\n",
              "      <td>68000</td>\n",
              "      <td>13</td>\n",
              "      <td>1998</td>\n",
              "      <td>동일로 752</td>\n",
              "      <td>NaN</td>\n",
              "    </tr>\n",
              "    <tr>\n",
              "      <th>29920</th>\n",
              "      <td>서울특별시 중랑구 중화동</td>\n",
              "      <td>274-51</td>\n",
              "      <td>274.0</td>\n",
              "      <td>51.0</td>\n",
              "      <td>한영(101)</td>\n",
              "      <td>57.66</td>\n",
              "      <td>202102</td>\n",
              "      <td>27</td>\n",
              "      <td>30500</td>\n",
              "      <td>5</td>\n",
              "      <td>2003</td>\n",
              "      <td>동일로144길 74</td>\n",
              "      <td>NaN</td>\n",
              "    </tr>\n",
              "    <tr>\n",
              "      <th>29921</th>\n",
              "      <td>서울특별시 중랑구 중화동</td>\n",
              "      <td>274-75</td>\n",
              "      <td>274.0</td>\n",
              "      <td>75.0</td>\n",
              "      <td>한영(102)</td>\n",
              "      <td>72.22</td>\n",
              "      <td>202105</td>\n",
              "      <td>4</td>\n",
              "      <td>49500</td>\n",
              "      <td>4</td>\n",
              "      <td>2003</td>\n",
              "      <td>동일로144길 74</td>\n",
              "      <td>NaN</td>\n",
              "    </tr>\n",
              "    <tr>\n",
              "      <th>29922</th>\n",
              "      <td>서울특별시 중랑구 중화동</td>\n",
              "      <td>274-76</td>\n",
              "      <td>274.0</td>\n",
              "      <td>76.0</td>\n",
              "      <td>한영(103)</td>\n",
              "      <td>58.46</td>\n",
              "      <td>202107</td>\n",
              "      <td>1</td>\n",
              "      <td>30000</td>\n",
              "      <td>2</td>\n",
              "      <td>2003</td>\n",
              "      <td>동일로144길 74</td>\n",
              "      <td>NaN</td>\n",
              "    </tr>\n",
              "  </tbody>\n",
              "</table>\n",
              "</div>"
            ],
            "text/plain": [
              "                 시군구      번지     본번    부번  ...   층  건축년도         도로명  해제사유발생일\n",
              "29918  서울특별시 중랑구 중화동     450  450.0   0.0  ...   6  1998     동일로 752      NaN\n",
              "29919  서울특별시 중랑구 중화동     450  450.0   0.0  ...  13  1998     동일로 752      NaN\n",
              "29920  서울특별시 중랑구 중화동  274-51  274.0  51.0  ...   5  2003  동일로144길 74      NaN\n",
              "29921  서울특별시 중랑구 중화동  274-75  274.0  75.0  ...   4  2003  동일로144길 74      NaN\n",
              "29922  서울특별시 중랑구 중화동  274-76  274.0  76.0  ...   2  2003  동일로144길 74      NaN\n",
              "\n",
              "[5 rows x 13 columns]"
            ]
          },
          "metadata": {
            "tags": []
          },
          "execution_count": 8
        }
      ]
    },
    {
      "cell_type": "code",
      "metadata": {
        "colab": {
          "base_uri": "https://localhost:8080/"
        },
        "id": "z-xuQC0A8pZJ",
        "outputId": "b34baf1c-ad98-497b-a0b0-c9b01dd01e3e"
      },
      "source": [
        "df.info()"
      ],
      "execution_count": 9,
      "outputs": [
        {
          "output_type": "stream",
          "text": [
            "<class 'pandas.core.frame.DataFrame'>\n",
            "Int64Index: 114149 entries, 0 to 29922\n",
            "Data columns (total 13 columns):\n",
            " #   Column    Non-Null Count   Dtype  \n",
            "---  ------    --------------   -----  \n",
            " 0   시군구       114149 non-null  object \n",
            " 1   번지        114115 non-null  object \n",
            " 2   본번        114134 non-null  float64\n",
            " 3   부번        114134 non-null  float64\n",
            " 4   단지명       114149 non-null  object \n",
            " 5   전용면적(㎡)   114149 non-null  float64\n",
            " 6   계약년월      114149 non-null  int64  \n",
            " 7   계약일       114149 non-null  int64  \n",
            " 8   거래금액(만원)  114149 non-null  int64  \n",
            " 9   층         114149 non-null  int64  \n",
            " 10  건축년도      114149 non-null  int64  \n",
            " 11  도로명       114149 non-null  object \n",
            " 12  해제사유발생일   3751 non-null    float64\n",
            "dtypes: float64(4), int64(5), object(4)\n",
            "memory usage: 12.2+ MB\n"
          ],
          "name": "stdout"
        }
      ]
    },
    {
      "cell_type": "code",
      "metadata": {
        "id": "p6teoGLc9xjI"
      },
      "source": [
        "df['Gu']=df['시군구'].str.split(' ').str[1]\n",
        "df['Dong']=df['시군구'].str.split(' ').str[2]"
      ],
      "execution_count": 10,
      "outputs": []
    },
    {
      "cell_type": "code",
      "metadata": {
        "colab": {
          "base_uri": "https://localhost:8080/",
          "height": 493
        },
        "id": "urzPCb4awHIy",
        "outputId": "49f62f86-f14e-485f-ad0d-37ff7e32d1b7"
      },
      "source": [
        "df.head()"
      ],
      "execution_count": 11,
      "outputs": [
        {
          "output_type": "execute_result",
          "data": {
            "text/html": [
              "<div>\n",
              "<style scoped>\n",
              "    .dataframe tbody tr th:only-of-type {\n",
              "        vertical-align: middle;\n",
              "    }\n",
              "\n",
              "    .dataframe tbody tr th {\n",
              "        vertical-align: top;\n",
              "    }\n",
              "\n",
              "    .dataframe thead th {\n",
              "        text-align: right;\n",
              "    }\n",
              "</style>\n",
              "<table border=\"1\" class=\"dataframe\">\n",
              "  <thead>\n",
              "    <tr style=\"text-align: right;\">\n",
              "      <th></th>\n",
              "      <th>시군구</th>\n",
              "      <th>번지</th>\n",
              "      <th>본번</th>\n",
              "      <th>부번</th>\n",
              "      <th>단지명</th>\n",
              "      <th>전용면적(㎡)</th>\n",
              "      <th>계약년월</th>\n",
              "      <th>계약일</th>\n",
              "      <th>거래금액(만원)</th>\n",
              "      <th>층</th>\n",
              "      <th>건축년도</th>\n",
              "      <th>도로명</th>\n",
              "      <th>해제사유발생일</th>\n",
              "      <th>Gu</th>\n",
              "      <th>Dong</th>\n",
              "    </tr>\n",
              "  </thead>\n",
              "  <tbody>\n",
              "    <tr>\n",
              "      <th>0</th>\n",
              "      <td>서울특별시 강남구 개포동</td>\n",
              "      <td>655-2</td>\n",
              "      <td>655.0</td>\n",
              "      <td>2.0</td>\n",
              "      <td>개포2차현대아파트(220)</td>\n",
              "      <td>77.75</td>\n",
              "      <td>202006</td>\n",
              "      <td>23</td>\n",
              "      <td>149500</td>\n",
              "      <td>4</td>\n",
              "      <td>1988</td>\n",
              "      <td>언주로 103</td>\n",
              "      <td>NaN</td>\n",
              "      <td>강남구</td>\n",
              "      <td>개포동</td>\n",
              "    </tr>\n",
              "    <tr>\n",
              "      <th>1</th>\n",
              "      <td>서울특별시 강남구 개포동</td>\n",
              "      <td>658-1</td>\n",
              "      <td>658.0</td>\n",
              "      <td>1.0</td>\n",
              "      <td>개포6차우성아파트1동~8동</td>\n",
              "      <td>54.98</td>\n",
              "      <td>202002</td>\n",
              "      <td>24</td>\n",
              "      <td>144000</td>\n",
              "      <td>4</td>\n",
              "      <td>1987</td>\n",
              "      <td>언주로 3</td>\n",
              "      <td>NaN</td>\n",
              "      <td>강남구</td>\n",
              "      <td>개포동</td>\n",
              "    </tr>\n",
              "    <tr>\n",
              "      <th>2</th>\n",
              "      <td>서울특별시 강남구 개포동</td>\n",
              "      <td>658-1</td>\n",
              "      <td>658.0</td>\n",
              "      <td>1.0</td>\n",
              "      <td>개포6차우성아파트1동~8동</td>\n",
              "      <td>79.97</td>\n",
              "      <td>202006</td>\n",
              "      <td>18</td>\n",
              "      <td>162750</td>\n",
              "      <td>4</td>\n",
              "      <td>1987</td>\n",
              "      <td>언주로 3</td>\n",
              "      <td>NaN</td>\n",
              "      <td>강남구</td>\n",
              "      <td>개포동</td>\n",
              "    </tr>\n",
              "    <tr>\n",
              "      <th>3</th>\n",
              "      <td>서울특별시 강남구 개포동</td>\n",
              "      <td>658-1</td>\n",
              "      <td>658.0</td>\n",
              "      <td>1.0</td>\n",
              "      <td>개포6차우성아파트1동~8동</td>\n",
              "      <td>79.97</td>\n",
              "      <td>202006</td>\n",
              "      <td>20</td>\n",
              "      <td>160000</td>\n",
              "      <td>5</td>\n",
              "      <td>1987</td>\n",
              "      <td>언주로 3</td>\n",
              "      <td>NaN</td>\n",
              "      <td>강남구</td>\n",
              "      <td>개포동</td>\n",
              "    </tr>\n",
              "    <tr>\n",
              "      <th>4</th>\n",
              "      <td>서울특별시 강남구 개포동</td>\n",
              "      <td>658-1</td>\n",
              "      <td>658.0</td>\n",
              "      <td>1.0</td>\n",
              "      <td>개포6차우성아파트1동~8동</td>\n",
              "      <td>79.97</td>\n",
              "      <td>202006</td>\n",
              "      <td>22</td>\n",
              "      <td>150000</td>\n",
              "      <td>2</td>\n",
              "      <td>1987</td>\n",
              "      <td>언주로 3</td>\n",
              "      <td>NaN</td>\n",
              "      <td>강남구</td>\n",
              "      <td>개포동</td>\n",
              "    </tr>\n",
              "  </tbody>\n",
              "</table>\n",
              "</div>"
            ],
            "text/plain": [
              "             시군구     번지     본번   부번  ...      도로명  해제사유발생일   Gu  Dong\n",
              "0  서울특별시 강남구 개포동  655-2  655.0  2.0  ...  언주로 103      NaN  강남구   개포동\n",
              "1  서울특별시 강남구 개포동  658-1  658.0  1.0  ...    언주로 3      NaN  강남구   개포동\n",
              "2  서울특별시 강남구 개포동  658-1  658.0  1.0  ...    언주로 3      NaN  강남구   개포동\n",
              "3  서울특별시 강남구 개포동  658-1  658.0  1.0  ...    언주로 3      NaN  강남구   개포동\n",
              "4  서울특별시 강남구 개포동  658-1  658.0  1.0  ...    언주로 3      NaN  강남구   개포동\n",
              "\n",
              "[5 rows x 15 columns]"
            ]
          },
          "metadata": {
            "tags": []
          },
          "execution_count": 11
        }
      ]
    },
    {
      "cell_type": "code",
      "metadata": {
        "id": "x3yhtn8NwY1c"
      },
      "source": [
        "df.rename({'시군구':'si','번지':'Jibun','본번':'Bonbun','부번':'Bubun','단지명':'Apt','전용면적(㎡)':'Exclusive_area',\n",
        "           '계약년월':'Transaction_year_month','계약일':'transaction_date','층':'Floor','건축년도':'Completion',\n",
        "           '도로명':'St','해제사유발생일':'Cancle','거래금액(만원)':'Transaction_real_price'},axis=1,inplace=True)"
      ],
      "execution_count": 12,
      "outputs": []
    },
    {
      "cell_type": "code",
      "metadata": {
        "colab": {
          "base_uri": "https://localhost:8080/",
          "height": 1000
        },
        "id": "pFOV0upM0xFX",
        "outputId": "6a7a5b0d-e049-423e-8ffc-0114b649f477"
      },
      "source": [
        "df.head()"
      ],
      "execution_count": 13,
      "outputs": [
        {
          "output_type": "execute_result",
          "data": {
            "text/html": [
              "<div>\n",
              "<style scoped>\n",
              "    .dataframe tbody tr th:only-of-type {\n",
              "        vertical-align: middle;\n",
              "    }\n",
              "\n",
              "    .dataframe tbody tr th {\n",
              "        vertical-align: top;\n",
              "    }\n",
              "\n",
              "    .dataframe thead th {\n",
              "        text-align: right;\n",
              "    }\n",
              "</style>\n",
              "<table border=\"1\" class=\"dataframe\">\n",
              "  <thead>\n",
              "    <tr style=\"text-align: right;\">\n",
              "      <th></th>\n",
              "      <th>si</th>\n",
              "      <th>Jibun</th>\n",
              "      <th>Bonbun</th>\n",
              "      <th>Bubun</th>\n",
              "      <th>Apt</th>\n",
              "      <th>Exclusive_area</th>\n",
              "      <th>Transaction_year_month</th>\n",
              "      <th>transaction_date</th>\n",
              "      <th>Transaction_real_price</th>\n",
              "      <th>Floor</th>\n",
              "      <th>Completion</th>\n",
              "      <th>St</th>\n",
              "      <th>Cancle</th>\n",
              "      <th>Gu</th>\n",
              "      <th>Dong</th>\n",
              "    </tr>\n",
              "  </thead>\n",
              "  <tbody>\n",
              "    <tr>\n",
              "      <th>0</th>\n",
              "      <td>서울특별시 강남구 개포동</td>\n",
              "      <td>655-2</td>\n",
              "      <td>655.0</td>\n",
              "      <td>2.0</td>\n",
              "      <td>개포2차현대아파트(220)</td>\n",
              "      <td>77.75</td>\n",
              "      <td>202006</td>\n",
              "      <td>23</td>\n",
              "      <td>149500</td>\n",
              "      <td>4</td>\n",
              "      <td>1988</td>\n",
              "      <td>언주로 103</td>\n",
              "      <td>NaN</td>\n",
              "      <td>강남구</td>\n",
              "      <td>개포동</td>\n",
              "    </tr>\n",
              "    <tr>\n",
              "      <th>1</th>\n",
              "      <td>서울특별시 강남구 개포동</td>\n",
              "      <td>658-1</td>\n",
              "      <td>658.0</td>\n",
              "      <td>1.0</td>\n",
              "      <td>개포6차우성아파트1동~8동</td>\n",
              "      <td>54.98</td>\n",
              "      <td>202002</td>\n",
              "      <td>24</td>\n",
              "      <td>144000</td>\n",
              "      <td>4</td>\n",
              "      <td>1987</td>\n",
              "      <td>언주로 3</td>\n",
              "      <td>NaN</td>\n",
              "      <td>강남구</td>\n",
              "      <td>개포동</td>\n",
              "    </tr>\n",
              "    <tr>\n",
              "      <th>2</th>\n",
              "      <td>서울특별시 강남구 개포동</td>\n",
              "      <td>658-1</td>\n",
              "      <td>658.0</td>\n",
              "      <td>1.0</td>\n",
              "      <td>개포6차우성아파트1동~8동</td>\n",
              "      <td>79.97</td>\n",
              "      <td>202006</td>\n",
              "      <td>18</td>\n",
              "      <td>162750</td>\n",
              "      <td>4</td>\n",
              "      <td>1987</td>\n",
              "      <td>언주로 3</td>\n",
              "      <td>NaN</td>\n",
              "      <td>강남구</td>\n",
              "      <td>개포동</td>\n",
              "    </tr>\n",
              "    <tr>\n",
              "      <th>3</th>\n",
              "      <td>서울특별시 강남구 개포동</td>\n",
              "      <td>658-1</td>\n",
              "      <td>658.0</td>\n",
              "      <td>1.0</td>\n",
              "      <td>개포6차우성아파트1동~8동</td>\n",
              "      <td>79.97</td>\n",
              "      <td>202006</td>\n",
              "      <td>20</td>\n",
              "      <td>160000</td>\n",
              "      <td>5</td>\n",
              "      <td>1987</td>\n",
              "      <td>언주로 3</td>\n",
              "      <td>NaN</td>\n",
              "      <td>강남구</td>\n",
              "      <td>개포동</td>\n",
              "    </tr>\n",
              "    <tr>\n",
              "      <th>4</th>\n",
              "      <td>서울특별시 강남구 개포동</td>\n",
              "      <td>658-1</td>\n",
              "      <td>658.0</td>\n",
              "      <td>1.0</td>\n",
              "      <td>개포6차우성아파트1동~8동</td>\n",
              "      <td>79.97</td>\n",
              "      <td>202006</td>\n",
              "      <td>22</td>\n",
              "      <td>150000</td>\n",
              "      <td>2</td>\n",
              "      <td>1987</td>\n",
              "      <td>언주로 3</td>\n",
              "      <td>NaN</td>\n",
              "      <td>강남구</td>\n",
              "      <td>개포동</td>\n",
              "    </tr>\n",
              "  </tbody>\n",
              "</table>\n",
              "</div>"
            ],
            "text/plain": [
              "              si  Jibun  Bonbun  Bubun  ...       St  Cancle   Gu  Dong\n",
              "0  서울특별시 강남구 개포동  655-2   655.0    2.0  ...  언주로 103     NaN  강남구   개포동\n",
              "1  서울특별시 강남구 개포동  658-1   658.0    1.0  ...    언주로 3     NaN  강남구   개포동\n",
              "2  서울특별시 강남구 개포동  658-1   658.0    1.0  ...    언주로 3     NaN  강남구   개포동\n",
              "3  서울특별시 강남구 개포동  658-1   658.0    1.0  ...    언주로 3     NaN  강남구   개포동\n",
              "4  서울특별시 강남구 개포동  658-1   658.0    1.0  ...    언주로 3     NaN  강남구   개포동\n",
              "\n",
              "[5 rows x 15 columns]"
            ]
          },
          "metadata": {
            "tags": []
          },
          "execution_count": 13
        }
      ]
    },
    {
      "cell_type": "code",
      "metadata": {
        "colab": {
          "base_uri": "https://localhost:8080/"
        },
        "id": "bb9xCOmw0x7k",
        "outputId": "d53244a2-edf0-4a3d-f0a8-245cee2a1b25"
      },
      "source": [
        "df.info()"
      ],
      "execution_count": 14,
      "outputs": [
        {
          "output_type": "stream",
          "text": [
            "<class 'pandas.core.frame.DataFrame'>\n",
            "Int64Index: 114149 entries, 0 to 29922\n",
            "Data columns (total 15 columns):\n",
            " #   Column                  Non-Null Count   Dtype  \n",
            "---  ------                  --------------   -----  \n",
            " 0   si                      114149 non-null  object \n",
            " 1   Jibun                   114115 non-null  object \n",
            " 2   Bonbun                  114134 non-null  float64\n",
            " 3   Bubun                   114134 non-null  float64\n",
            " 4   Apt                     114149 non-null  object \n",
            " 5   Exclusive_area          114149 non-null  float64\n",
            " 6   Transaction_year_month  114149 non-null  int64  \n",
            " 7   transaction_date        114149 non-null  int64  \n",
            " 8   Transaction_real_price  114149 non-null  int64  \n",
            " 9   Floor                   114149 non-null  int64  \n",
            " 10  Completion              114149 non-null  int64  \n",
            " 11  St                      114149 non-null  object \n",
            " 12  Cancle                  3751 non-null    float64\n",
            " 13  Gu                      114149 non-null  object \n",
            " 14  Dong                    114149 non-null  object \n",
            "dtypes: float64(4), int64(5), object(6)\n",
            "memory usage: 13.9+ MB\n"
          ],
          "name": "stdout"
        }
      ]
    },
    {
      "cell_type": "code",
      "metadata": {
        "colab": {
          "base_uri": "https://localhost:8080/"
        },
        "id": "o5J7_YkZ1VdG",
        "outputId": "502d8257-cdb8-4df0-f8e5-1eb342005cd1"
      },
      "source": [
        "df.columns"
      ],
      "execution_count": 15,
      "outputs": [
        {
          "output_type": "execute_result",
          "data": {
            "text/plain": [
              "Index(['si', 'Jibun', 'Bonbun', 'Bubun', 'Apt', 'Exclusive_area',\n",
              "       'Transaction_year_month', 'transaction_date', 'Transaction_real_price',\n",
              "       'Floor', 'Completion', 'St', 'Cancle', 'Gu', 'Dong'],\n",
              "      dtype='object')"
            ]
          },
          "metadata": {
            "tags": []
          },
          "execution_count": 15
        }
      ]
    },
    {
      "cell_type": "code",
      "metadata": {
        "id": "QXMg9vBa2Xmz"
      },
      "source": [
        "df3 = df[df['Bubun'].isnull()].fillna({'Jibun':413,'Bonbun':413,'Bubun':0})"
      ],
      "execution_count": 16,
      "outputs": []
    },
    {
      "cell_type": "code",
      "metadata": {
        "colab": {
          "base_uri": "https://localhost:8080/",
          "height": 1000
        },
        "id": "RNDCBr2nf3aw",
        "outputId": "e84bdfa7-8903-4dac-e521-915813809b4e"
      },
      "source": [
        "df3"
      ],
      "execution_count": 17,
      "outputs": [
        {
          "output_type": "execute_result",
          "data": {
            "text/html": [
              "<div>\n",
              "<style scoped>\n",
              "    .dataframe tbody tr th:only-of-type {\n",
              "        vertical-align: middle;\n",
              "    }\n",
              "\n",
              "    .dataframe tbody tr th {\n",
              "        vertical-align: top;\n",
              "    }\n",
              "\n",
              "    .dataframe thead th {\n",
              "        text-align: right;\n",
              "    }\n",
              "</style>\n",
              "<table border=\"1\" class=\"dataframe\">\n",
              "  <thead>\n",
              "    <tr style=\"text-align: right;\">\n",
              "      <th></th>\n",
              "      <th>si</th>\n",
              "      <th>Jibun</th>\n",
              "      <th>Bonbun</th>\n",
              "      <th>Bubun</th>\n",
              "      <th>Apt</th>\n",
              "      <th>Exclusive_area</th>\n",
              "      <th>Transaction_year_month</th>\n",
              "      <th>transaction_date</th>\n",
              "      <th>Transaction_real_price</th>\n",
              "      <th>Floor</th>\n",
              "      <th>Completion</th>\n",
              "      <th>St</th>\n",
              "      <th>Cancle</th>\n",
              "      <th>Gu</th>\n",
              "      <th>Dong</th>\n",
              "    </tr>\n",
              "  </thead>\n",
              "  <tbody>\n",
              "    <tr>\n",
              "      <th>54566</th>\n",
              "      <td>서울특별시 서초구 신원동</td>\n",
              "      <td>413</td>\n",
              "      <td>413.0</td>\n",
              "      <td>0.0</td>\n",
              "      <td>힐스테이트 서초 젠트리스</td>\n",
              "      <td>84.99</td>\n",
              "      <td>202001</td>\n",
              "      <td>20</td>\n",
              "      <td>141000</td>\n",
              "      <td>3</td>\n",
              "      <td>2014</td>\n",
              "      <td>헌릉로8길 10-12</td>\n",
              "      <td>NaN</td>\n",
              "      <td>서초구</td>\n",
              "      <td>신원동</td>\n",
              "    </tr>\n",
              "    <tr>\n",
              "      <th>54567</th>\n",
              "      <td>서울특별시 서초구 신원동</td>\n",
              "      <td>413</td>\n",
              "      <td>413.0</td>\n",
              "      <td>0.0</td>\n",
              "      <td>힐스테이트 서초 젠트리스</td>\n",
              "      <td>84.95</td>\n",
              "      <td>202001</td>\n",
              "      <td>23</td>\n",
              "      <td>132000</td>\n",
              "      <td>1</td>\n",
              "      <td>2014</td>\n",
              "      <td>헌릉로8길 10-12</td>\n",
              "      <td>NaN</td>\n",
              "      <td>서초구</td>\n",
              "      <td>신원동</td>\n",
              "    </tr>\n",
              "    <tr>\n",
              "      <th>54568</th>\n",
              "      <td>서울특별시 서초구 신원동</td>\n",
              "      <td>413</td>\n",
              "      <td>413.0</td>\n",
              "      <td>0.0</td>\n",
              "      <td>힐스테이트 서초 젠트리스</td>\n",
              "      <td>114.90</td>\n",
              "      <td>202002</td>\n",
              "      <td>22</td>\n",
              "      <td>147300</td>\n",
              "      <td>1</td>\n",
              "      <td>2014</td>\n",
              "      <td>헌릉로8길 10-12</td>\n",
              "      <td>NaN</td>\n",
              "      <td>서초구</td>\n",
              "      <td>신원동</td>\n",
              "    </tr>\n",
              "    <tr>\n",
              "      <th>54569</th>\n",
              "      <td>서울특별시 서초구 신원동</td>\n",
              "      <td>413</td>\n",
              "      <td>413.0</td>\n",
              "      <td>0.0</td>\n",
              "      <td>힐스테이트 서초 젠트리스</td>\n",
              "      <td>84.95</td>\n",
              "      <td>202007</td>\n",
              "      <td>9</td>\n",
              "      <td>145000</td>\n",
              "      <td>4</td>\n",
              "      <td>2014</td>\n",
              "      <td>헌릉로8길 10-12</td>\n",
              "      <td>NaN</td>\n",
              "      <td>서초구</td>\n",
              "      <td>신원동</td>\n",
              "    </tr>\n",
              "    <tr>\n",
              "      <th>54570</th>\n",
              "      <td>서울특별시 서초구 신원동</td>\n",
              "      <td>413</td>\n",
              "      <td>413.0</td>\n",
              "      <td>0.0</td>\n",
              "      <td>힐스테이트 서초 젠트리스</td>\n",
              "      <td>84.95</td>\n",
              "      <td>202007</td>\n",
              "      <td>18</td>\n",
              "      <td>148000</td>\n",
              "      <td>8</td>\n",
              "      <td>2014</td>\n",
              "      <td>헌릉로8길 10-12</td>\n",
              "      <td>NaN</td>\n",
              "      <td>서초구</td>\n",
              "      <td>신원동</td>\n",
              "    </tr>\n",
              "    <tr>\n",
              "      <th>54571</th>\n",
              "      <td>서울특별시 서초구 신원동</td>\n",
              "      <td>413</td>\n",
              "      <td>413.0</td>\n",
              "      <td>0.0</td>\n",
              "      <td>힐스테이트 서초 젠트리스</td>\n",
              "      <td>101.90</td>\n",
              "      <td>202007</td>\n",
              "      <td>27</td>\n",
              "      <td>163000</td>\n",
              "      <td>3</td>\n",
              "      <td>2014</td>\n",
              "      <td>헌릉로8길 10-12</td>\n",
              "      <td>NaN</td>\n",
              "      <td>서초구</td>\n",
              "      <td>신원동</td>\n",
              "    </tr>\n",
              "    <tr>\n",
              "      <th>54572</th>\n",
              "      <td>서울특별시 서초구 신원동</td>\n",
              "      <td>413</td>\n",
              "      <td>413.0</td>\n",
              "      <td>0.0</td>\n",
              "      <td>힐스테이트 서초 젠트리스</td>\n",
              "      <td>114.90</td>\n",
              "      <td>202008</td>\n",
              "      <td>26</td>\n",
              "      <td>194000</td>\n",
              "      <td>5</td>\n",
              "      <td>2014</td>\n",
              "      <td>헌릉로8길 10-12</td>\n",
              "      <td>NaN</td>\n",
              "      <td>서초구</td>\n",
              "      <td>신원동</td>\n",
              "    </tr>\n",
              "    <tr>\n",
              "      <th>54573</th>\n",
              "      <td>서울특별시 서초구 신원동</td>\n",
              "      <td>413</td>\n",
              "      <td>413.0</td>\n",
              "      <td>0.0</td>\n",
              "      <td>힐스테이트 서초 젠트리스</td>\n",
              "      <td>114.90</td>\n",
              "      <td>202008</td>\n",
              "      <td>29</td>\n",
              "      <td>193000</td>\n",
              "      <td>9</td>\n",
              "      <td>2014</td>\n",
              "      <td>헌릉로8길 10-12</td>\n",
              "      <td>NaN</td>\n",
              "      <td>서초구</td>\n",
              "      <td>신원동</td>\n",
              "    </tr>\n",
              "    <tr>\n",
              "      <th>54574</th>\n",
              "      <td>서울특별시 서초구 신원동</td>\n",
              "      <td>413</td>\n",
              "      <td>413.0</td>\n",
              "      <td>0.0</td>\n",
              "      <td>힐스테이트 서초 젠트리스</td>\n",
              "      <td>84.95</td>\n",
              "      <td>202010</td>\n",
              "      <td>6</td>\n",
              "      <td>155000</td>\n",
              "      <td>1</td>\n",
              "      <td>2014</td>\n",
              "      <td>헌릉로8길 10-12</td>\n",
              "      <td>NaN</td>\n",
              "      <td>서초구</td>\n",
              "      <td>신원동</td>\n",
              "    </tr>\n",
              "    <tr>\n",
              "      <th>54575</th>\n",
              "      <td>서울특별시 서초구 신원동</td>\n",
              "      <td>413</td>\n",
              "      <td>413.0</td>\n",
              "      <td>0.0</td>\n",
              "      <td>힐스테이트 서초 젠트리스</td>\n",
              "      <td>84.95</td>\n",
              "      <td>202011</td>\n",
              "      <td>18</td>\n",
              "      <td>159000</td>\n",
              "      <td>9</td>\n",
              "      <td>2014</td>\n",
              "      <td>헌릉로8길 10-12</td>\n",
              "      <td>NaN</td>\n",
              "      <td>서초구</td>\n",
              "      <td>신원동</td>\n",
              "    </tr>\n",
              "    <tr>\n",
              "      <th>54576</th>\n",
              "      <td>서울특별시 서초구 신원동</td>\n",
              "      <td>413</td>\n",
              "      <td>413.0</td>\n",
              "      <td>0.0</td>\n",
              "      <td>힐스테이트 서초 젠트리스</td>\n",
              "      <td>84.95</td>\n",
              "      <td>202012</td>\n",
              "      <td>3</td>\n",
              "      <td>158000</td>\n",
              "      <td>6</td>\n",
              "      <td>2014</td>\n",
              "      <td>헌릉로8길 10-12</td>\n",
              "      <td>NaN</td>\n",
              "      <td>서초구</td>\n",
              "      <td>신원동</td>\n",
              "    </tr>\n",
              "    <tr>\n",
              "      <th>19293</th>\n",
              "      <td>서울특별시 서초구 신원동</td>\n",
              "      <td>413</td>\n",
              "      <td>413.0</td>\n",
              "      <td>0.0</td>\n",
              "      <td>힐스테이트 서초 젠트리스</td>\n",
              "      <td>84.95</td>\n",
              "      <td>202103</td>\n",
              "      <td>11</td>\n",
              "      <td>163000</td>\n",
              "      <td>2</td>\n",
              "      <td>2014</td>\n",
              "      <td>헌릉로8길 10-12</td>\n",
              "      <td>NaN</td>\n",
              "      <td>서초구</td>\n",
              "      <td>신원동</td>\n",
              "    </tr>\n",
              "    <tr>\n",
              "      <th>19294</th>\n",
              "      <td>서울특별시 서초구 신원동</td>\n",
              "      <td>413</td>\n",
              "      <td>413.0</td>\n",
              "      <td>0.0</td>\n",
              "      <td>힐스테이트 서초 젠트리스</td>\n",
              "      <td>101.90</td>\n",
              "      <td>202104</td>\n",
              "      <td>15</td>\n",
              "      <td>187500</td>\n",
              "      <td>4</td>\n",
              "      <td>2014</td>\n",
              "      <td>헌릉로8길 10-12</td>\n",
              "      <td>NaN</td>\n",
              "      <td>서초구</td>\n",
              "      <td>신원동</td>\n",
              "    </tr>\n",
              "    <tr>\n",
              "      <th>19295</th>\n",
              "      <td>서울특별시 서초구 신원동</td>\n",
              "      <td>413</td>\n",
              "      <td>413.0</td>\n",
              "      <td>0.0</td>\n",
              "      <td>힐스테이트 서초 젠트리스</td>\n",
              "      <td>101.90</td>\n",
              "      <td>202104</td>\n",
              "      <td>27</td>\n",
              "      <td>184500</td>\n",
              "      <td>3</td>\n",
              "      <td>2014</td>\n",
              "      <td>헌릉로8길 10-12</td>\n",
              "      <td>NaN</td>\n",
              "      <td>서초구</td>\n",
              "      <td>신원동</td>\n",
              "    </tr>\n",
              "    <tr>\n",
              "      <th>19296</th>\n",
              "      <td>서울특별시 서초구 신원동</td>\n",
              "      <td>413</td>\n",
              "      <td>413.0</td>\n",
              "      <td>0.0</td>\n",
              "      <td>힐스테이트 서초 젠트리스</td>\n",
              "      <td>84.95</td>\n",
              "      <td>202105</td>\n",
              "      <td>26</td>\n",
              "      <td>165000</td>\n",
              "      <td>4</td>\n",
              "      <td>2014</td>\n",
              "      <td>헌릉로8길 10-12</td>\n",
              "      <td>NaN</td>\n",
              "      <td>서초구</td>\n",
              "      <td>신원동</td>\n",
              "    </tr>\n",
              "  </tbody>\n",
              "</table>\n",
              "</div>"
            ],
            "text/plain": [
              "                  si  Jibun  Bonbun  Bubun  ...           St  Cancle   Gu  Dong\n",
              "54566  서울특별시 서초구 신원동    413   413.0    0.0  ...  헌릉로8길 10-12     NaN  서초구   신원동\n",
              "54567  서울특별시 서초구 신원동    413   413.0    0.0  ...  헌릉로8길 10-12     NaN  서초구   신원동\n",
              "54568  서울특별시 서초구 신원동    413   413.0    0.0  ...  헌릉로8길 10-12     NaN  서초구   신원동\n",
              "54569  서울특별시 서초구 신원동    413   413.0    0.0  ...  헌릉로8길 10-12     NaN  서초구   신원동\n",
              "54570  서울특별시 서초구 신원동    413   413.0    0.0  ...  헌릉로8길 10-12     NaN  서초구   신원동\n",
              "54571  서울특별시 서초구 신원동    413   413.0    0.0  ...  헌릉로8길 10-12     NaN  서초구   신원동\n",
              "54572  서울특별시 서초구 신원동    413   413.0    0.0  ...  헌릉로8길 10-12     NaN  서초구   신원동\n",
              "54573  서울특별시 서초구 신원동    413   413.0    0.0  ...  헌릉로8길 10-12     NaN  서초구   신원동\n",
              "54574  서울특별시 서초구 신원동    413   413.0    0.0  ...  헌릉로8길 10-12     NaN  서초구   신원동\n",
              "54575  서울특별시 서초구 신원동    413   413.0    0.0  ...  헌릉로8길 10-12     NaN  서초구   신원동\n",
              "54576  서울특별시 서초구 신원동    413   413.0    0.0  ...  헌릉로8길 10-12     NaN  서초구   신원동\n",
              "19293  서울특별시 서초구 신원동    413   413.0    0.0  ...  헌릉로8길 10-12     NaN  서초구   신원동\n",
              "19294  서울특별시 서초구 신원동    413   413.0    0.0  ...  헌릉로8길 10-12     NaN  서초구   신원동\n",
              "19295  서울특별시 서초구 신원동    413   413.0    0.0  ...  헌릉로8길 10-12     NaN  서초구   신원동\n",
              "19296  서울특별시 서초구 신원동    413   413.0    0.0  ...  헌릉로8길 10-12     NaN  서초구   신원동\n",
              "\n",
              "[15 rows x 15 columns]"
            ]
          },
          "metadata": {
            "tags": []
          },
          "execution_count": 17
        }
      ]
    },
    {
      "cell_type": "code",
      "metadata": {
        "colab": {
          "base_uri": "https://localhost:8080/"
        },
        "id": "hDXi0eUk4j3z",
        "outputId": "41d4cfa7-d2dd-45bc-fdea-1cac8ddd4aa2"
      },
      "source": [
        "df.info()"
      ],
      "execution_count": 18,
      "outputs": [
        {
          "output_type": "stream",
          "text": [
            "<class 'pandas.core.frame.DataFrame'>\n",
            "Int64Index: 114149 entries, 0 to 29922\n",
            "Data columns (total 15 columns):\n",
            " #   Column                  Non-Null Count   Dtype  \n",
            "---  ------                  --------------   -----  \n",
            " 0   si                      114149 non-null  object \n",
            " 1   Jibun                   114115 non-null  object \n",
            " 2   Bonbun                  114134 non-null  float64\n",
            " 3   Bubun                   114134 non-null  float64\n",
            " 4   Apt                     114149 non-null  object \n",
            " 5   Exclusive_area          114149 non-null  float64\n",
            " 6   Transaction_year_month  114149 non-null  int64  \n",
            " 7   transaction_date        114149 non-null  int64  \n",
            " 8   Transaction_real_price  114149 non-null  int64  \n",
            " 9   Floor                   114149 non-null  int64  \n",
            " 10  Completion              114149 non-null  int64  \n",
            " 11  St                      114149 non-null  object \n",
            " 12  Cancle                  3751 non-null    float64\n",
            " 13  Gu                      114149 non-null  object \n",
            " 14  Dong                    114149 non-null  object \n",
            "dtypes: float64(4), int64(5), object(6)\n",
            "memory usage: 13.9+ MB\n"
          ],
          "name": "stdout"
        }
      ]
    },
    {
      "cell_type": "code",
      "metadata": {
        "id": "zp-BsRUZ2_3a"
      },
      "source": [
        "df1=df[(df['Jibun'].isnull()) & (df.Apt == '서초포레스타2단지')].fillna({'Jibun':143,'Bonbun':143,'Bubun':0})"
      ],
      "execution_count": 19,
      "outputs": []
    },
    {
      "cell_type": "code",
      "metadata": {
        "id": "WiJ91aXN4QxX"
      },
      "source": [
        "df1.Bonbun = 143"
      ],
      "execution_count": 20,
      "outputs": []
    },
    {
      "cell_type": "code",
      "metadata": {
        "colab": {
          "base_uri": "https://localhost:8080/",
          "height": 1000
        },
        "id": "lA3p_Ybr6ddt",
        "outputId": "10685b32-f62b-4f73-da65-69e8e91f6cf1"
      },
      "source": [
        "df1"
      ],
      "execution_count": 21,
      "outputs": [
        {
          "output_type": "execute_result",
          "data": {
            "text/html": [
              "<div>\n",
              "<style scoped>\n",
              "    .dataframe tbody tr th:only-of-type {\n",
              "        vertical-align: middle;\n",
              "    }\n",
              "\n",
              "    .dataframe tbody tr th {\n",
              "        vertical-align: top;\n",
              "    }\n",
              "\n",
              "    .dataframe thead th {\n",
              "        text-align: right;\n",
              "    }\n",
              "</style>\n",
              "<table border=\"1\" class=\"dataframe\">\n",
              "  <thead>\n",
              "    <tr style=\"text-align: right;\">\n",
              "      <th></th>\n",
              "      <th>si</th>\n",
              "      <th>Jibun</th>\n",
              "      <th>Bonbun</th>\n",
              "      <th>Bubun</th>\n",
              "      <th>Apt</th>\n",
              "      <th>Exclusive_area</th>\n",
              "      <th>Transaction_year_month</th>\n",
              "      <th>transaction_date</th>\n",
              "      <th>Transaction_real_price</th>\n",
              "      <th>Floor</th>\n",
              "      <th>Completion</th>\n",
              "      <th>St</th>\n",
              "      <th>Cancle</th>\n",
              "      <th>Gu</th>\n",
              "      <th>Dong</th>\n",
              "    </tr>\n",
              "  </thead>\n",
              "  <tbody>\n",
              "    <tr>\n",
              "      <th>52297</th>\n",
              "      <td>서울특별시 서초구 내곡동</td>\n",
              "      <td>143</td>\n",
              "      <td>143</td>\n",
              "      <td>0.0</td>\n",
              "      <td>서초포레스타2단지</td>\n",
              "      <td>59.21</td>\n",
              "      <td>202002</td>\n",
              "      <td>8</td>\n",
              "      <td>105000</td>\n",
              "      <td>13</td>\n",
              "      <td>2015</td>\n",
              "      <td>헌릉로8길 45</td>\n",
              "      <td>NaN</td>\n",
              "      <td>서초구</td>\n",
              "      <td>내곡동</td>\n",
              "    </tr>\n",
              "    <tr>\n",
              "      <th>52298</th>\n",
              "      <td>서울특별시 서초구 내곡동</td>\n",
              "      <td>143</td>\n",
              "      <td>143</td>\n",
              "      <td>0.0</td>\n",
              "      <td>서초포레스타2단지</td>\n",
              "      <td>84.48</td>\n",
              "      <td>202003</td>\n",
              "      <td>7</td>\n",
              "      <td>126500</td>\n",
              "      <td>20</td>\n",
              "      <td>2015</td>\n",
              "      <td>헌릉로8길 45</td>\n",
              "      <td>NaN</td>\n",
              "      <td>서초구</td>\n",
              "      <td>내곡동</td>\n",
              "    </tr>\n",
              "    <tr>\n",
              "      <th>52299</th>\n",
              "      <td>서울특별시 서초구 내곡동</td>\n",
              "      <td>143</td>\n",
              "      <td>143</td>\n",
              "      <td>0.0</td>\n",
              "      <td>서초포레스타2단지</td>\n",
              "      <td>84.48</td>\n",
              "      <td>202006</td>\n",
              "      <td>13</td>\n",
              "      <td>130000</td>\n",
              "      <td>14</td>\n",
              "      <td>2015</td>\n",
              "      <td>헌릉로8길 45</td>\n",
              "      <td>NaN</td>\n",
              "      <td>서초구</td>\n",
              "      <td>내곡동</td>\n",
              "    </tr>\n",
              "    <tr>\n",
              "      <th>52300</th>\n",
              "      <td>서울특별시 서초구 내곡동</td>\n",
              "      <td>143</td>\n",
              "      <td>143</td>\n",
              "      <td>0.0</td>\n",
              "      <td>서초포레스타2단지</td>\n",
              "      <td>84.87</td>\n",
              "      <td>202006</td>\n",
              "      <td>30</td>\n",
              "      <td>130000</td>\n",
              "      <td>14</td>\n",
              "      <td>2015</td>\n",
              "      <td>헌릉로8길 45</td>\n",
              "      <td>NaN</td>\n",
              "      <td>서초구</td>\n",
              "      <td>내곡동</td>\n",
              "    </tr>\n",
              "    <tr>\n",
              "      <th>52301</th>\n",
              "      <td>서울특별시 서초구 내곡동</td>\n",
              "      <td>143</td>\n",
              "      <td>143</td>\n",
              "      <td>0.0</td>\n",
              "      <td>서초포레스타2단지</td>\n",
              "      <td>84.48</td>\n",
              "      <td>202007</td>\n",
              "      <td>5</td>\n",
              "      <td>134000</td>\n",
              "      <td>14</td>\n",
              "      <td>2015</td>\n",
              "      <td>헌릉로8길 45</td>\n",
              "      <td>20200731.0</td>\n",
              "      <td>서초구</td>\n",
              "      <td>내곡동</td>\n",
              "    </tr>\n",
              "    <tr>\n",
              "      <th>52302</th>\n",
              "      <td>서울특별시 서초구 내곡동</td>\n",
              "      <td>143</td>\n",
              "      <td>143</td>\n",
              "      <td>0.0</td>\n",
              "      <td>서초포레스타2단지</td>\n",
              "      <td>84.48</td>\n",
              "      <td>202007</td>\n",
              "      <td>5</td>\n",
              "      <td>134000</td>\n",
              "      <td>14</td>\n",
              "      <td>2015</td>\n",
              "      <td>헌릉로8길 45</td>\n",
              "      <td>NaN</td>\n",
              "      <td>서초구</td>\n",
              "      <td>내곡동</td>\n",
              "    </tr>\n",
              "    <tr>\n",
              "      <th>52303</th>\n",
              "      <td>서울특별시 서초구 내곡동</td>\n",
              "      <td>143</td>\n",
              "      <td>143</td>\n",
              "      <td>0.0</td>\n",
              "      <td>서초포레스타2단지</td>\n",
              "      <td>84.87</td>\n",
              "      <td>202007</td>\n",
              "      <td>6</td>\n",
              "      <td>133000</td>\n",
              "      <td>15</td>\n",
              "      <td>2015</td>\n",
              "      <td>헌릉로8길 45</td>\n",
              "      <td>NaN</td>\n",
              "      <td>서초구</td>\n",
              "      <td>내곡동</td>\n",
              "    </tr>\n",
              "    <tr>\n",
              "      <th>52304</th>\n",
              "      <td>서울특별시 서초구 내곡동</td>\n",
              "      <td>143</td>\n",
              "      <td>143</td>\n",
              "      <td>0.0</td>\n",
              "      <td>서초포레스타2단지</td>\n",
              "      <td>84.48</td>\n",
              "      <td>202007</td>\n",
              "      <td>11</td>\n",
              "      <td>130000</td>\n",
              "      <td>5</td>\n",
              "      <td>2015</td>\n",
              "      <td>헌릉로8길 45</td>\n",
              "      <td>NaN</td>\n",
              "      <td>서초구</td>\n",
              "      <td>내곡동</td>\n",
              "    </tr>\n",
              "    <tr>\n",
              "      <th>52305</th>\n",
              "      <td>서울특별시 서초구 내곡동</td>\n",
              "      <td>143</td>\n",
              "      <td>143</td>\n",
              "      <td>0.0</td>\n",
              "      <td>서초포레스타2단지</td>\n",
              "      <td>59.21</td>\n",
              "      <td>202007</td>\n",
              "      <td>12</td>\n",
              "      <td>115000</td>\n",
              "      <td>11</td>\n",
              "      <td>2015</td>\n",
              "      <td>헌릉로8길 45</td>\n",
              "      <td>NaN</td>\n",
              "      <td>서초구</td>\n",
              "      <td>내곡동</td>\n",
              "    </tr>\n",
              "    <tr>\n",
              "      <th>52306</th>\n",
              "      <td>서울특별시 서초구 내곡동</td>\n",
              "      <td>143</td>\n",
              "      <td>143</td>\n",
              "      <td>0.0</td>\n",
              "      <td>서초포레스타2단지</td>\n",
              "      <td>59.09</td>\n",
              "      <td>202008</td>\n",
              "      <td>6</td>\n",
              "      <td>124000</td>\n",
              "      <td>14</td>\n",
              "      <td>2015</td>\n",
              "      <td>헌릉로8길 45</td>\n",
              "      <td>NaN</td>\n",
              "      <td>서초구</td>\n",
              "      <td>내곡동</td>\n",
              "    </tr>\n",
              "    <tr>\n",
              "      <th>52307</th>\n",
              "      <td>서울특별시 서초구 내곡동</td>\n",
              "      <td>143</td>\n",
              "      <td>143</td>\n",
              "      <td>0.0</td>\n",
              "      <td>서초포레스타2단지</td>\n",
              "      <td>59.09</td>\n",
              "      <td>202011</td>\n",
              "      <td>6</td>\n",
              "      <td>125000</td>\n",
              "      <td>5</td>\n",
              "      <td>2015</td>\n",
              "      <td>헌릉로8길 45</td>\n",
              "      <td>NaN</td>\n",
              "      <td>서초구</td>\n",
              "      <td>내곡동</td>\n",
              "    </tr>\n",
              "    <tr>\n",
              "      <th>52308</th>\n",
              "      <td>서울특별시 서초구 내곡동</td>\n",
              "      <td>143</td>\n",
              "      <td>143</td>\n",
              "      <td>0.0</td>\n",
              "      <td>서초포레스타2단지</td>\n",
              "      <td>84.87</td>\n",
              "      <td>202012</td>\n",
              "      <td>5</td>\n",
              "      <td>155000</td>\n",
              "      <td>17</td>\n",
              "      <td>2015</td>\n",
              "      <td>헌릉로8길 45</td>\n",
              "      <td>NaN</td>\n",
              "      <td>서초구</td>\n",
              "      <td>내곡동</td>\n",
              "    </tr>\n",
              "    <tr>\n",
              "      <th>18229</th>\n",
              "      <td>서울특별시 서초구 내곡동</td>\n",
              "      <td>143</td>\n",
              "      <td>143</td>\n",
              "      <td>0.0</td>\n",
              "      <td>서초포레스타2단지</td>\n",
              "      <td>84.48</td>\n",
              "      <td>202101</td>\n",
              "      <td>12</td>\n",
              "      <td>160000</td>\n",
              "      <td>8</td>\n",
              "      <td>2015</td>\n",
              "      <td>헌릉로8길 45</td>\n",
              "      <td>20210412.0</td>\n",
              "      <td>서초구</td>\n",
              "      <td>내곡동</td>\n",
              "    </tr>\n",
              "    <tr>\n",
              "      <th>18230</th>\n",
              "      <td>서울특별시 서초구 내곡동</td>\n",
              "      <td>143</td>\n",
              "      <td>143</td>\n",
              "      <td>0.0</td>\n",
              "      <td>서초포레스타2단지</td>\n",
              "      <td>84.48</td>\n",
              "      <td>202103</td>\n",
              "      <td>2</td>\n",
              "      <td>159000</td>\n",
              "      <td>11</td>\n",
              "      <td>2015</td>\n",
              "      <td>헌릉로8길 45</td>\n",
              "      <td>NaN</td>\n",
              "      <td>서초구</td>\n",
              "      <td>내곡동</td>\n",
              "    </tr>\n",
              "    <tr>\n",
              "      <th>18231</th>\n",
              "      <td>서울특별시 서초구 내곡동</td>\n",
              "      <td>143</td>\n",
              "      <td>143</td>\n",
              "      <td>0.0</td>\n",
              "      <td>서초포레스타2단지</td>\n",
              "      <td>84.48</td>\n",
              "      <td>202104</td>\n",
              "      <td>6</td>\n",
              "      <td>154500</td>\n",
              "      <td>21</td>\n",
              "      <td>2015</td>\n",
              "      <td>헌릉로8길 45</td>\n",
              "      <td>NaN</td>\n",
              "      <td>서초구</td>\n",
              "      <td>내곡동</td>\n",
              "    </tr>\n",
              "    <tr>\n",
              "      <th>18232</th>\n",
              "      <td>서울특별시 서초구 내곡동</td>\n",
              "      <td>143</td>\n",
              "      <td>143</td>\n",
              "      <td>0.0</td>\n",
              "      <td>서초포레스타2단지</td>\n",
              "      <td>59.21</td>\n",
              "      <td>202104</td>\n",
              "      <td>10</td>\n",
              "      <td>135000</td>\n",
              "      <td>2</td>\n",
              "      <td>2015</td>\n",
              "      <td>헌릉로8길 45</td>\n",
              "      <td>NaN</td>\n",
              "      <td>서초구</td>\n",
              "      <td>내곡동</td>\n",
              "    </tr>\n",
              "    <tr>\n",
              "      <th>18233</th>\n",
              "      <td>서울특별시 서초구 내곡동</td>\n",
              "      <td>143</td>\n",
              "      <td>143</td>\n",
              "      <td>0.0</td>\n",
              "      <td>서초포레스타2단지</td>\n",
              "      <td>84.87</td>\n",
              "      <td>202104</td>\n",
              "      <td>20</td>\n",
              "      <td>155000</td>\n",
              "      <td>14</td>\n",
              "      <td>2015</td>\n",
              "      <td>헌릉로8길 45</td>\n",
              "      <td>NaN</td>\n",
              "      <td>서초구</td>\n",
              "      <td>내곡동</td>\n",
              "    </tr>\n",
              "    <tr>\n",
              "      <th>18234</th>\n",
              "      <td>서울특별시 서초구 내곡동</td>\n",
              "      <td>143</td>\n",
              "      <td>143</td>\n",
              "      <td>0.0</td>\n",
              "      <td>서초포레스타2단지</td>\n",
              "      <td>59.21</td>\n",
              "      <td>202105</td>\n",
              "      <td>16</td>\n",
              "      <td>131000</td>\n",
              "      <td>8</td>\n",
              "      <td>2015</td>\n",
              "      <td>헌릉로8길 45</td>\n",
              "      <td>NaN</td>\n",
              "      <td>서초구</td>\n",
              "      <td>내곡동</td>\n",
              "    </tr>\n",
              "    <tr>\n",
              "      <th>18235</th>\n",
              "      <td>서울특별시 서초구 내곡동</td>\n",
              "      <td>143</td>\n",
              "      <td>143</td>\n",
              "      <td>0.0</td>\n",
              "      <td>서초포레스타2단지</td>\n",
              "      <td>84.87</td>\n",
              "      <td>202105</td>\n",
              "      <td>18</td>\n",
              "      <td>151000</td>\n",
              "      <td>1</td>\n",
              "      <td>2015</td>\n",
              "      <td>헌릉로8길 45</td>\n",
              "      <td>NaN</td>\n",
              "      <td>서초구</td>\n",
              "      <td>내곡동</td>\n",
              "    </tr>\n",
              "  </tbody>\n",
              "</table>\n",
              "</div>"
            ],
            "text/plain": [
              "                  si  Jibun  Bonbun  Bubun  ...        St      Cancle   Gu  Dong\n",
              "52297  서울특별시 서초구 내곡동    143     143    0.0  ...  헌릉로8길 45         NaN  서초구   내곡동\n",
              "52298  서울특별시 서초구 내곡동    143     143    0.0  ...  헌릉로8길 45         NaN  서초구   내곡동\n",
              "52299  서울특별시 서초구 내곡동    143     143    0.0  ...  헌릉로8길 45         NaN  서초구   내곡동\n",
              "52300  서울특별시 서초구 내곡동    143     143    0.0  ...  헌릉로8길 45         NaN  서초구   내곡동\n",
              "52301  서울특별시 서초구 내곡동    143     143    0.0  ...  헌릉로8길 45  20200731.0  서초구   내곡동\n",
              "52302  서울특별시 서초구 내곡동    143     143    0.0  ...  헌릉로8길 45         NaN  서초구   내곡동\n",
              "52303  서울특별시 서초구 내곡동    143     143    0.0  ...  헌릉로8길 45         NaN  서초구   내곡동\n",
              "52304  서울특별시 서초구 내곡동    143     143    0.0  ...  헌릉로8길 45         NaN  서초구   내곡동\n",
              "52305  서울특별시 서초구 내곡동    143     143    0.0  ...  헌릉로8길 45         NaN  서초구   내곡동\n",
              "52306  서울특별시 서초구 내곡동    143     143    0.0  ...  헌릉로8길 45         NaN  서초구   내곡동\n",
              "52307  서울특별시 서초구 내곡동    143     143    0.0  ...  헌릉로8길 45         NaN  서초구   내곡동\n",
              "52308  서울특별시 서초구 내곡동    143     143    0.0  ...  헌릉로8길 45         NaN  서초구   내곡동\n",
              "18229  서울특별시 서초구 내곡동    143     143    0.0  ...  헌릉로8길 45  20210412.0  서초구   내곡동\n",
              "18230  서울특별시 서초구 내곡동    143     143    0.0  ...  헌릉로8길 45         NaN  서초구   내곡동\n",
              "18231  서울특별시 서초구 내곡동    143     143    0.0  ...  헌릉로8길 45         NaN  서초구   내곡동\n",
              "18232  서울특별시 서초구 내곡동    143     143    0.0  ...  헌릉로8길 45         NaN  서초구   내곡동\n",
              "18233  서울특별시 서초구 내곡동    143     143    0.0  ...  헌릉로8길 45         NaN  서초구   내곡동\n",
              "18234  서울특별시 서초구 내곡동    143     143    0.0  ...  헌릉로8길 45         NaN  서초구   내곡동\n",
              "18235  서울특별시 서초구 내곡동    143     143    0.0  ...  헌릉로8길 45         NaN  서초구   내곡동\n",
              "\n",
              "[19 rows x 15 columns]"
            ]
          },
          "metadata": {
            "tags": []
          },
          "execution_count": 21
        }
      ]
    },
    {
      "cell_type": "code",
      "metadata": {
        "colab": {
          "base_uri": "https://localhost:8080/"
        },
        "id": "7f3ub3vE6goC",
        "outputId": "edb4a664-8ce1-4d29-8521-da3d07823d39"
      },
      "source": [
        "df.info()"
      ],
      "execution_count": 22,
      "outputs": [
        {
          "output_type": "stream",
          "text": [
            "<class 'pandas.core.frame.DataFrame'>\n",
            "Int64Index: 114149 entries, 0 to 29922\n",
            "Data columns (total 15 columns):\n",
            " #   Column                  Non-Null Count   Dtype  \n",
            "---  ------                  --------------   -----  \n",
            " 0   si                      114149 non-null  object \n",
            " 1   Jibun                   114115 non-null  object \n",
            " 2   Bonbun                  114134 non-null  float64\n",
            " 3   Bubun                   114134 non-null  float64\n",
            " 4   Apt                     114149 non-null  object \n",
            " 5   Exclusive_area          114149 non-null  float64\n",
            " 6   Transaction_year_month  114149 non-null  int64  \n",
            " 7   transaction_date        114149 non-null  int64  \n",
            " 8   Transaction_real_price  114149 non-null  int64  \n",
            " 9   Floor                   114149 non-null  int64  \n",
            " 10  Completion              114149 non-null  int64  \n",
            " 11  St                      114149 non-null  object \n",
            " 12  Cancle                  3751 non-null    float64\n",
            " 13  Gu                      114149 non-null  object \n",
            " 14  Dong                    114149 non-null  object \n",
            "dtypes: float64(4), int64(5), object(6)\n",
            "memory usage: 13.9+ MB\n"
          ],
          "name": "stdout"
        }
      ]
    },
    {
      "cell_type": "code",
      "metadata": {
        "id": "ltQvra6a7qxD"
      },
      "source": [
        "df.dropna(subset=['Jibun','Bonbun','Bubun'],inplace=True)"
      ],
      "execution_count": 23,
      "outputs": []
    },
    {
      "cell_type": "code",
      "metadata": {
        "colab": {
          "base_uri": "https://localhost:8080/"
        },
        "id": "_qvFbeo-7zfS",
        "outputId": "5851049b-98b8-4ce1-cfe1-27470d24686a"
      },
      "source": [
        "df.info()"
      ],
      "execution_count": 24,
      "outputs": [
        {
          "output_type": "stream",
          "text": [
            "<class 'pandas.core.frame.DataFrame'>\n",
            "Int64Index: 114115 entries, 0 to 29922\n",
            "Data columns (total 15 columns):\n",
            " #   Column                  Non-Null Count   Dtype  \n",
            "---  ------                  --------------   -----  \n",
            " 0   si                      114115 non-null  object \n",
            " 1   Jibun                   114115 non-null  object \n",
            " 2   Bonbun                  114115 non-null  float64\n",
            " 3   Bubun                   114115 non-null  float64\n",
            " 4   Apt                     114115 non-null  object \n",
            " 5   Exclusive_area          114115 non-null  float64\n",
            " 6   Transaction_year_month  114115 non-null  int64  \n",
            " 7   transaction_date        114115 non-null  int64  \n",
            " 8   Transaction_real_price  114115 non-null  int64  \n",
            " 9   Floor                   114115 non-null  int64  \n",
            " 10  Completion              114115 non-null  int64  \n",
            " 11  St                      114115 non-null  object \n",
            " 12  Cancle                  3749 non-null    float64\n",
            " 13  Gu                      114115 non-null  object \n",
            " 14  Dong                    114115 non-null  object \n",
            "dtypes: float64(4), int64(5), object(6)\n",
            "memory usage: 13.9+ MB\n"
          ],
          "name": "stdout"
        }
      ]
    },
    {
      "cell_type": "code",
      "metadata": {
        "id": "5skYDTzj-kU0"
      },
      "source": [
        "df = df.append(df1)"
      ],
      "execution_count": 25,
      "outputs": []
    },
    {
      "cell_type": "code",
      "metadata": {
        "id": "sDVoP3LV_DHz"
      },
      "source": [
        "df = df.append(df3)"
      ],
      "execution_count": 26,
      "outputs": []
    },
    {
      "cell_type": "code",
      "metadata": {
        "colab": {
          "base_uri": "https://localhost:8080/"
        },
        "id": "jnch26lG_GmA",
        "outputId": "93e758bc-ccd4-44fb-93ce-905bab589400"
      },
      "source": [
        "df.info()"
      ],
      "execution_count": 27,
      "outputs": [
        {
          "output_type": "stream",
          "text": [
            "<class 'pandas.core.frame.DataFrame'>\n",
            "Int64Index: 114149 entries, 0 to 19296\n",
            "Data columns (total 15 columns):\n",
            " #   Column                  Non-Null Count   Dtype  \n",
            "---  ------                  --------------   -----  \n",
            " 0   si                      114149 non-null  object \n",
            " 1   Jibun                   114149 non-null  object \n",
            " 2   Bonbun                  114149 non-null  float64\n",
            " 3   Bubun                   114149 non-null  float64\n",
            " 4   Apt                     114149 non-null  object \n",
            " 5   Exclusive_area          114149 non-null  float64\n",
            " 6   Transaction_year_month  114149 non-null  int64  \n",
            " 7   transaction_date        114149 non-null  int64  \n",
            " 8   Transaction_real_price  114149 non-null  int64  \n",
            " 9   Floor                   114149 non-null  int64  \n",
            " 10  Completion              114149 non-null  int64  \n",
            " 11  St                      114149 non-null  object \n",
            " 12  Cancle                  3751 non-null    float64\n",
            " 13  Gu                      114149 non-null  object \n",
            " 14  Dong                    114149 non-null  object \n",
            "dtypes: float64(4), int64(5), object(6)\n",
            "memory usage: 13.9+ MB\n"
          ],
          "name": "stdout"
        }
      ]
    },
    {
      "cell_type": "code",
      "metadata": {
        "id": "zSWtBo20Av-T"
      },
      "source": [
        "df = df.astype({'Bonbun':int, 'Bubun':int})"
      ],
      "execution_count": 28,
      "outputs": []
    },
    {
      "cell_type": "code",
      "metadata": {
        "colab": {
          "base_uri": "https://localhost:8080/"
        },
        "id": "GB6NpgPcEKL0",
        "outputId": "6cf624d3-b622-46d4-a927-ced756d54c3e"
      },
      "source": [
        "df.info()"
      ],
      "execution_count": 29,
      "outputs": [
        {
          "output_type": "stream",
          "text": [
            "<class 'pandas.core.frame.DataFrame'>\n",
            "Int64Index: 114149 entries, 0 to 19296\n",
            "Data columns (total 15 columns):\n",
            " #   Column                  Non-Null Count   Dtype  \n",
            "---  ------                  --------------   -----  \n",
            " 0   si                      114149 non-null  object \n",
            " 1   Jibun                   114149 non-null  object \n",
            " 2   Bonbun                  114149 non-null  int64  \n",
            " 3   Bubun                   114149 non-null  int64  \n",
            " 4   Apt                     114149 non-null  object \n",
            " 5   Exclusive_area          114149 non-null  float64\n",
            " 6   Transaction_year_month  114149 non-null  int64  \n",
            " 7   transaction_date        114149 non-null  int64  \n",
            " 8   Transaction_real_price  114149 non-null  int64  \n",
            " 9   Floor                   114149 non-null  int64  \n",
            " 10  Completion              114149 non-null  int64  \n",
            " 11  St                      114149 non-null  object \n",
            " 12  Cancle                  3751 non-null    float64\n",
            " 13  Gu                      114149 non-null  object \n",
            " 14  Dong                    114149 non-null  object \n",
            "dtypes: float64(2), int64(7), object(6)\n",
            "memory usage: 13.9+ MB\n"
          ],
          "name": "stdout"
        }
      ]
    },
    {
      "cell_type": "code",
      "metadata": {
        "id": "xbpz8harG-jp"
      },
      "source": [
        "df['Year'] = df['Transaction_year_month'].astype(str).str[:4].astype(int)-df['Completion']"
      ],
      "execution_count": 30,
      "outputs": []
    },
    {
      "cell_type": "code",
      "metadata": {
        "colab": {
          "base_uri": "https://localhost:8080/",
          "height": 1000
        },
        "id": "TdPTVLYqIXIP",
        "outputId": "1869dbb5-d078-4da2-bbc0-6e4b748d360b"
      },
      "source": [
        "df.head()"
      ],
      "execution_count": 31,
      "outputs": [
        {
          "output_type": "execute_result",
          "data": {
            "text/html": [
              "<div>\n",
              "<style scoped>\n",
              "    .dataframe tbody tr th:only-of-type {\n",
              "        vertical-align: middle;\n",
              "    }\n",
              "\n",
              "    .dataframe tbody tr th {\n",
              "        vertical-align: top;\n",
              "    }\n",
              "\n",
              "    .dataframe thead th {\n",
              "        text-align: right;\n",
              "    }\n",
              "</style>\n",
              "<table border=\"1\" class=\"dataframe\">\n",
              "  <thead>\n",
              "    <tr style=\"text-align: right;\">\n",
              "      <th></th>\n",
              "      <th>si</th>\n",
              "      <th>Jibun</th>\n",
              "      <th>Bonbun</th>\n",
              "      <th>Bubun</th>\n",
              "      <th>Apt</th>\n",
              "      <th>Exclusive_area</th>\n",
              "      <th>Transaction_year_month</th>\n",
              "      <th>transaction_date</th>\n",
              "      <th>Transaction_real_price</th>\n",
              "      <th>Floor</th>\n",
              "      <th>Completion</th>\n",
              "      <th>St</th>\n",
              "      <th>Cancle</th>\n",
              "      <th>Gu</th>\n",
              "      <th>Dong</th>\n",
              "      <th>Year</th>\n",
              "    </tr>\n",
              "  </thead>\n",
              "  <tbody>\n",
              "    <tr>\n",
              "      <th>0</th>\n",
              "      <td>서울특별시 강남구 개포동</td>\n",
              "      <td>655-2</td>\n",
              "      <td>655</td>\n",
              "      <td>2</td>\n",
              "      <td>개포2차현대아파트(220)</td>\n",
              "      <td>77.75</td>\n",
              "      <td>202006</td>\n",
              "      <td>23</td>\n",
              "      <td>149500</td>\n",
              "      <td>4</td>\n",
              "      <td>1988</td>\n",
              "      <td>언주로 103</td>\n",
              "      <td>NaN</td>\n",
              "      <td>강남구</td>\n",
              "      <td>개포동</td>\n",
              "      <td>32</td>\n",
              "    </tr>\n",
              "    <tr>\n",
              "      <th>1</th>\n",
              "      <td>서울특별시 강남구 개포동</td>\n",
              "      <td>658-1</td>\n",
              "      <td>658</td>\n",
              "      <td>1</td>\n",
              "      <td>개포6차우성아파트1동~8동</td>\n",
              "      <td>54.98</td>\n",
              "      <td>202002</td>\n",
              "      <td>24</td>\n",
              "      <td>144000</td>\n",
              "      <td>4</td>\n",
              "      <td>1987</td>\n",
              "      <td>언주로 3</td>\n",
              "      <td>NaN</td>\n",
              "      <td>강남구</td>\n",
              "      <td>개포동</td>\n",
              "      <td>33</td>\n",
              "    </tr>\n",
              "    <tr>\n",
              "      <th>2</th>\n",
              "      <td>서울특별시 강남구 개포동</td>\n",
              "      <td>658-1</td>\n",
              "      <td>658</td>\n",
              "      <td>1</td>\n",
              "      <td>개포6차우성아파트1동~8동</td>\n",
              "      <td>79.97</td>\n",
              "      <td>202006</td>\n",
              "      <td>18</td>\n",
              "      <td>162750</td>\n",
              "      <td>4</td>\n",
              "      <td>1987</td>\n",
              "      <td>언주로 3</td>\n",
              "      <td>NaN</td>\n",
              "      <td>강남구</td>\n",
              "      <td>개포동</td>\n",
              "      <td>33</td>\n",
              "    </tr>\n",
              "    <tr>\n",
              "      <th>3</th>\n",
              "      <td>서울특별시 강남구 개포동</td>\n",
              "      <td>658-1</td>\n",
              "      <td>658</td>\n",
              "      <td>1</td>\n",
              "      <td>개포6차우성아파트1동~8동</td>\n",
              "      <td>79.97</td>\n",
              "      <td>202006</td>\n",
              "      <td>20</td>\n",
              "      <td>160000</td>\n",
              "      <td>5</td>\n",
              "      <td>1987</td>\n",
              "      <td>언주로 3</td>\n",
              "      <td>NaN</td>\n",
              "      <td>강남구</td>\n",
              "      <td>개포동</td>\n",
              "      <td>33</td>\n",
              "    </tr>\n",
              "    <tr>\n",
              "      <th>4</th>\n",
              "      <td>서울특별시 강남구 개포동</td>\n",
              "      <td>658-1</td>\n",
              "      <td>658</td>\n",
              "      <td>1</td>\n",
              "      <td>개포6차우성아파트1동~8동</td>\n",
              "      <td>79.97</td>\n",
              "      <td>202006</td>\n",
              "      <td>22</td>\n",
              "      <td>150000</td>\n",
              "      <td>2</td>\n",
              "      <td>1987</td>\n",
              "      <td>언주로 3</td>\n",
              "      <td>NaN</td>\n",
              "      <td>강남구</td>\n",
              "      <td>개포동</td>\n",
              "      <td>33</td>\n",
              "    </tr>\n",
              "  </tbody>\n",
              "</table>\n",
              "</div>"
            ],
            "text/plain": [
              "              si  Jibun  Bonbun  Bubun  ... Cancle   Gu  Dong  Year\n",
              "0  서울특별시 강남구 개포동  655-2     655      2  ...    NaN  강남구   개포동    32\n",
              "1  서울특별시 강남구 개포동  658-1     658      1  ...    NaN  강남구   개포동    33\n",
              "2  서울특별시 강남구 개포동  658-1     658      1  ...    NaN  강남구   개포동    33\n",
              "3  서울특별시 강남구 개포동  658-1     658      1  ...    NaN  강남구   개포동    33\n",
              "4  서울특별시 강남구 개포동  658-1     658      1  ...    NaN  강남구   개포동    33\n",
              "\n",
              "[5 rows x 16 columns]"
            ]
          },
          "metadata": {
            "tags": []
          },
          "execution_count": 31
        }
      ]
    },
    {
      "cell_type": "code",
      "metadata": {
        "colab": {
          "base_uri": "https://localhost:8080/"
        },
        "id": "ca3ZuAeUS9Iv",
        "outputId": "a7773be9-197a-47df-c7dc-5a4179dfab08"
      },
      "source": [
        "df['Apt'].isnull().sum()"
      ],
      "execution_count": 32,
      "outputs": [
        {
          "output_type": "execute_result",
          "data": {
            "text/plain": [
              "0"
            ]
          },
          "metadata": {
            "tags": []
          },
          "execution_count": 32
        }
      ]
    },
    {
      "cell_type": "code",
      "metadata": {
        "id": "1DlbXs5-SKk2"
      },
      "source": [
        "top10 = ['자이', '푸르지오', '더샵', '롯데캐슬', '이편한|e편한|e-편한',\n",
        "         '힐스테이트', '아이파크', '래미안', 'sk|SK|에스케이', '데시앙']\n",
        "df['top10']=0\n",
        "for brand in top10:\n",
        "    df.loc[df['Apt'].str.contains(brand),'top10'] = 1"
      ],
      "execution_count": 33,
      "outputs": []
    },
    {
      "cell_type": "code",
      "metadata": {
        "colab": {
          "base_uri": "https://localhost:8080/",
          "height": 270
        },
        "id": "UvRvhlXNSEuS",
        "outputId": "b912a05c-c35c-41a8-9cba-896fa2f8b4df"
      },
      "source": [
        "df.head(1)"
      ],
      "execution_count": 34,
      "outputs": [
        {
          "output_type": "execute_result",
          "data": {
            "text/html": [
              "<div>\n",
              "<style scoped>\n",
              "    .dataframe tbody tr th:only-of-type {\n",
              "        vertical-align: middle;\n",
              "    }\n",
              "\n",
              "    .dataframe tbody tr th {\n",
              "        vertical-align: top;\n",
              "    }\n",
              "\n",
              "    .dataframe thead th {\n",
              "        text-align: right;\n",
              "    }\n",
              "</style>\n",
              "<table border=\"1\" class=\"dataframe\">\n",
              "  <thead>\n",
              "    <tr style=\"text-align: right;\">\n",
              "      <th></th>\n",
              "      <th>si</th>\n",
              "      <th>Jibun</th>\n",
              "      <th>Bonbun</th>\n",
              "      <th>Bubun</th>\n",
              "      <th>Apt</th>\n",
              "      <th>Exclusive_area</th>\n",
              "      <th>Transaction_year_month</th>\n",
              "      <th>transaction_date</th>\n",
              "      <th>Transaction_real_price</th>\n",
              "      <th>Floor</th>\n",
              "      <th>Completion</th>\n",
              "      <th>St</th>\n",
              "      <th>Cancle</th>\n",
              "      <th>Gu</th>\n",
              "      <th>Dong</th>\n",
              "      <th>Year</th>\n",
              "      <th>top10</th>\n",
              "    </tr>\n",
              "  </thead>\n",
              "  <tbody>\n",
              "    <tr>\n",
              "      <th>0</th>\n",
              "      <td>서울특별시 강남구 개포동</td>\n",
              "      <td>655-2</td>\n",
              "      <td>655</td>\n",
              "      <td>2</td>\n",
              "      <td>개포2차현대아파트(220)</td>\n",
              "      <td>77.75</td>\n",
              "      <td>202006</td>\n",
              "      <td>23</td>\n",
              "      <td>149500</td>\n",
              "      <td>4</td>\n",
              "      <td>1988</td>\n",
              "      <td>언주로 103</td>\n",
              "      <td>NaN</td>\n",
              "      <td>강남구</td>\n",
              "      <td>개포동</td>\n",
              "      <td>32</td>\n",
              "      <td>0</td>\n",
              "    </tr>\n",
              "  </tbody>\n",
              "</table>\n",
              "</div>"
            ],
            "text/plain": [
              "              si  Jibun  Bonbun  Bubun  ...   Gu  Dong  Year  top10\n",
              "0  서울특별시 강남구 개포동  655-2     655      2  ...  강남구   개포동    32      0\n",
              "\n",
              "[1 rows x 17 columns]"
            ]
          },
          "metadata": {
            "tags": []
          },
          "execution_count": 34
        }
      ]
    },
    {
      "cell_type": "code",
      "metadata": {
        "colab": {
          "base_uri": "https://localhost:8080/"
        },
        "id": "0BTdQEs8TvSc",
        "outputId": "e785fe98-4117-4b50-9cab-21f7a2c7772f"
      },
      "source": [
        "df['top10'].value_counts()"
      ],
      "execution_count": 35,
      "outputs": [
        {
          "output_type": "execute_result",
          "data": {
            "text/plain": [
              "0    93597\n",
              "1    20552\n",
              "Name: top10, dtype: int64"
            ]
          },
          "metadata": {
            "tags": []
          },
          "execution_count": 35
        }
      ]
    },
    {
      "cell_type": "code",
      "metadata": {
        "id": "P4X63UAIUBvr"
      },
      "source": [
        "df['Floor']=df['Floor']+3"
      ],
      "execution_count": 36,
      "outputs": []
    },
    {
      "cell_type": "code",
      "metadata": {
        "colab": {
          "base_uri": "https://localhost:8080/"
        },
        "id": "ozCob_87X976",
        "outputId": "a8837656-b01b-4a0d-d563-e21788170dd7"
      },
      "source": [
        "df['Apt'].value_counts()[:20]"
      ],
      "execution_count": 37,
      "outputs": [
        {
          "output_type": "execute_result",
          "data": {
            "text/plain": [
              "현대            1069\n",
              "두산             863\n",
              "한신             856\n",
              "벽산             683\n",
              "삼성래미안          648\n",
              "신동아            631\n",
              "주공2            625\n",
              "에스케이북한산시티      517\n",
              "대우             503\n",
              "삼성             501\n",
              "우성             433\n",
              "극동             428\n",
              "신동아아파트1        374\n",
              "동아             354\n",
              "중계그린1단지        351\n",
              "주공5            350\n",
              "파크리오           348\n",
              "쌍용             331\n",
              "엘에이치강남아이파크     329\n",
              "관악산벽산타운5       325\n",
              "Name: Apt, dtype: int64"
            ]
          },
          "metadata": {
            "tags": []
          },
          "execution_count": 37
        }
      ]
    },
    {
      "cell_type": "code",
      "metadata": {
        "id": "O6RRchM1Pn6K"
      },
      "source": [
        "df['YN_r'] = 0\n",
        "df['temp'] = df['Dong'].str.replace(pat=r'[동]', repl=r'', regex=True)"
      ],
      "execution_count": 38,
      "outputs": []
    },
    {
      "cell_type": "code",
      "metadata": {
        "id": "niTIcCz5Q1LR"
      },
      "source": [
        "dong_list = list(df['temp'].unique())"
      ],
      "execution_count": 39,
      "outputs": []
    },
    {
      "cell_type": "code",
      "metadata": {
        "id": "6dep78lGREYI"
      },
      "source": [
        "for i in dong_list:\n",
        "     df.loc[df['Apt'].str.contains(i), 'YN_r'] = 1"
      ],
      "execution_count": 40,
      "outputs": []
    },
    {
      "cell_type": "code",
      "metadata": {
        "id": "bqB48xdOY4a2"
      },
      "source": [
        "apt_names=['현대','두산','한신','벽산','삼성래미안','신동아','주공2','에스케이북한산시티','대우','삼성',\n",
        "           '우성','극동','신동아아파트1','동아','중계그린1단지','주공5','파크리오','쌍용','엘에이치강남아이파크','관악산벽산타운5' ]\n",
        "\n",
        "apt_names_list = top10 + apt_names\n",
        "\n",
        "df['transformed'] = False\n",
        "\n",
        "for a in apt_names_list:\n",
        "    df.loc[df['Apt'].str.contains(a), 'Apt'] = a\n",
        "    df.loc[df['Apt'].str.contains(a), 'transformed'] = True\n",
        "\n",
        "for a in apt_names:\n",
        "    df.loc[~df['transformed'], 'Apt'] = 'others'"
      ],
      "execution_count": 41,
      "outputs": []
    },
    {
      "cell_type": "code",
      "metadata": {
        "colab": {
          "base_uri": "https://localhost:8080/"
        },
        "id": "XJEHGJWxb9s6",
        "outputId": "7a9ab72a-18d7-4627-ad98-5f546bb32a5a"
      },
      "source": [
        "df.Apt.value_counts()"
      ],
      "execution_count": 42,
      "outputs": [
        {
          "output_type": "execute_result",
          "data": {
            "text/plain": [
              "others          64973\n",
              "현대               7860\n",
              "래미안              5639\n",
              "동아               3468\n",
              "힐스테이트            2709\n",
              "우성               2666\n",
              "푸르지오             2638\n",
              "한신               2573\n",
              "두산               2441\n",
              "벽산               2226\n",
              "삼성               2102\n",
              "이편한|e편한|e-편한     1956\n",
              "자이               1945\n",
              "아이파크             1880\n",
              "롯데캐슬             1806\n",
              "대우               1200\n",
              "sk|SK|에스케이       1154\n",
              "쌍용               1101\n",
              "극동                972\n",
              "주공2               861\n",
              "더샵                497\n",
              "주공5               455\n",
              "중계그린1단지           351\n",
              "파크리오              348\n",
              "데시앙               328\n",
              "Name: Apt, dtype: int64"
            ]
          },
          "metadata": {
            "tags": []
          },
          "execution_count": 42
        }
      ]
    },
    {
      "cell_type": "code",
      "metadata": {
        "colab": {
          "base_uri": "https://localhost:8080/"
        },
        "id": "y6SbW99ScZy6",
        "outputId": "ea52d053-9813-48f3-f19b-53f791d49286"
      },
      "source": [
        "df.Apt.nunique()"
      ],
      "execution_count": 43,
      "outputs": [
        {
          "output_type": "execute_result",
          "data": {
            "text/plain": [
              "25"
            ]
          },
          "metadata": {
            "tags": []
          },
          "execution_count": 43
        }
      ]
    },
    {
      "cell_type": "code",
      "metadata": {
        "colab": {
          "base_uri": "https://localhost:8080/"
        },
        "id": "p-s1VE3Uc2Z5",
        "outputId": "9057f918-2ad7-45ad-e67d-4ea57aea6903"
      },
      "source": [
        "df.info()"
      ],
      "execution_count": 44,
      "outputs": [
        {
          "output_type": "stream",
          "text": [
            "<class 'pandas.core.frame.DataFrame'>\n",
            "Int64Index: 114149 entries, 0 to 19296\n",
            "Data columns (total 20 columns):\n",
            " #   Column                  Non-Null Count   Dtype  \n",
            "---  ------                  --------------   -----  \n",
            " 0   si                      114149 non-null  object \n",
            " 1   Jibun                   114149 non-null  object \n",
            " 2   Bonbun                  114149 non-null  int64  \n",
            " 3   Bubun                   114149 non-null  int64  \n",
            " 4   Apt                     114149 non-null  object \n",
            " 5   Exclusive_area          114149 non-null  float64\n",
            " 6   Transaction_year_month  114149 non-null  int64  \n",
            " 7   transaction_date        114149 non-null  int64  \n",
            " 8   Transaction_real_price  114149 non-null  int64  \n",
            " 9   Floor                   114149 non-null  int64  \n",
            " 10  Completion              114149 non-null  int64  \n",
            " 11  St                      114149 non-null  object \n",
            " 12  Cancle                  3751 non-null    float64\n",
            " 13  Gu                      114149 non-null  object \n",
            " 14  Dong                    114149 non-null  object \n",
            " 15  Year                    114149 non-null  int64  \n",
            " 16  top10                   114149 non-null  int64  \n",
            " 17  YN_r                    114149 non-null  int64  \n",
            " 18  temp                    114149 non-null  object \n",
            " 19  transformed             114149 non-null  bool   \n",
            "dtypes: bool(1), float64(2), int64(10), object(7)\n",
            "memory usage: 17.5+ MB\n"
          ],
          "name": "stdout"
        }
      ]
    },
    {
      "cell_type": "code",
      "metadata": {
        "id": "I7RonhvidRst"
      },
      "source": [
        "df.drop('Cancle',axis=1,inplace=True)"
      ],
      "execution_count": 45,
      "outputs": []
    },
    {
      "cell_type": "code",
      "metadata": {
        "id": "rspAz-3xeacJ"
      },
      "source": [
        "hos = pd.read_csv('/content/drive/MyDrive/Colab Notebooks/apart/hospital.csv')\n",
        "df = pd.merge(df,hos,on=['Gu','Dong'],how='left')"
      ],
      "execution_count": 46,
      "outputs": []
    },
    {
      "cell_type": "code",
      "metadata": {
        "colab": {
          "base_uri": "https://localhost:8080/"
        },
        "id": "G7j3BZJGgR3H",
        "outputId": "fd873d74-dab6-44d9-e011-222d8ec9fe84"
      },
      "source": [
        "df.columns"
      ],
      "execution_count": 47,
      "outputs": [
        {
          "output_type": "execute_result",
          "data": {
            "text/plain": [
              "Index(['si', 'Jibun', 'Bonbun', 'Bubun', 'Apt', 'Exclusive_area',\n",
              "       'Transaction_year_month', 'transaction_date', 'Transaction_real_price',\n",
              "       'Floor', 'Completion', 'St', 'Gu', 'Dong', 'Year', 'top10', 'YN_r',\n",
              "       'temp', 'transformed', 'Hospital'],\n",
              "      dtype='object')"
            ]
          },
          "metadata": {
            "tags": []
          },
          "execution_count": 47
        }
      ]
    },
    {
      "cell_type": "code",
      "metadata": {
        "colab": {
          "base_uri": "https://localhost:8080/",
          "height": 1000
        },
        "id": "rdl1VZT2dYOZ",
        "outputId": "35a891ac-dda2-4523-c3c4-795c98b8e7df"
      },
      "source": [
        "df.head()"
      ],
      "execution_count": 48,
      "outputs": [
        {
          "output_type": "execute_result",
          "data": {
            "text/html": [
              "<div>\n",
              "<style scoped>\n",
              "    .dataframe tbody tr th:only-of-type {\n",
              "        vertical-align: middle;\n",
              "    }\n",
              "\n",
              "    .dataframe tbody tr th {\n",
              "        vertical-align: top;\n",
              "    }\n",
              "\n",
              "    .dataframe thead th {\n",
              "        text-align: right;\n",
              "    }\n",
              "</style>\n",
              "<table border=\"1\" class=\"dataframe\">\n",
              "  <thead>\n",
              "    <tr style=\"text-align: right;\">\n",
              "      <th></th>\n",
              "      <th>si</th>\n",
              "      <th>Jibun</th>\n",
              "      <th>Bonbun</th>\n",
              "      <th>Bubun</th>\n",
              "      <th>Apt</th>\n",
              "      <th>Exclusive_area</th>\n",
              "      <th>Transaction_year_month</th>\n",
              "      <th>transaction_date</th>\n",
              "      <th>Transaction_real_price</th>\n",
              "      <th>Floor</th>\n",
              "      <th>Completion</th>\n",
              "      <th>St</th>\n",
              "      <th>Gu</th>\n",
              "      <th>Dong</th>\n",
              "      <th>Year</th>\n",
              "      <th>top10</th>\n",
              "      <th>YN_r</th>\n",
              "      <th>temp</th>\n",
              "      <th>transformed</th>\n",
              "      <th>Hospital</th>\n",
              "    </tr>\n",
              "  </thead>\n",
              "  <tbody>\n",
              "    <tr>\n",
              "      <th>0</th>\n",
              "      <td>서울특별시 강남구 개포동</td>\n",
              "      <td>655-2</td>\n",
              "      <td>655</td>\n",
              "      <td>2</td>\n",
              "      <td>현대</td>\n",
              "      <td>77.75</td>\n",
              "      <td>202006</td>\n",
              "      <td>23</td>\n",
              "      <td>149500</td>\n",
              "      <td>7</td>\n",
              "      <td>1988</td>\n",
              "      <td>언주로 103</td>\n",
              "      <td>강남구</td>\n",
              "      <td>개포동</td>\n",
              "      <td>32</td>\n",
              "      <td>0</td>\n",
              "      <td>1</td>\n",
              "      <td>개포</td>\n",
              "      <td>True</td>\n",
              "      <td>NaN</td>\n",
              "    </tr>\n",
              "    <tr>\n",
              "      <th>1</th>\n",
              "      <td>서울특별시 강남구 개포동</td>\n",
              "      <td>658-1</td>\n",
              "      <td>658</td>\n",
              "      <td>1</td>\n",
              "      <td>우성</td>\n",
              "      <td>54.98</td>\n",
              "      <td>202002</td>\n",
              "      <td>24</td>\n",
              "      <td>144000</td>\n",
              "      <td>7</td>\n",
              "      <td>1987</td>\n",
              "      <td>언주로 3</td>\n",
              "      <td>강남구</td>\n",
              "      <td>개포동</td>\n",
              "      <td>33</td>\n",
              "      <td>0</td>\n",
              "      <td>1</td>\n",
              "      <td>개포</td>\n",
              "      <td>True</td>\n",
              "      <td>NaN</td>\n",
              "    </tr>\n",
              "    <tr>\n",
              "      <th>2</th>\n",
              "      <td>서울특별시 강남구 개포동</td>\n",
              "      <td>658-1</td>\n",
              "      <td>658</td>\n",
              "      <td>1</td>\n",
              "      <td>우성</td>\n",
              "      <td>79.97</td>\n",
              "      <td>202006</td>\n",
              "      <td>18</td>\n",
              "      <td>162750</td>\n",
              "      <td>7</td>\n",
              "      <td>1987</td>\n",
              "      <td>언주로 3</td>\n",
              "      <td>강남구</td>\n",
              "      <td>개포동</td>\n",
              "      <td>33</td>\n",
              "      <td>0</td>\n",
              "      <td>1</td>\n",
              "      <td>개포</td>\n",
              "      <td>True</td>\n",
              "      <td>NaN</td>\n",
              "    </tr>\n",
              "    <tr>\n",
              "      <th>3</th>\n",
              "      <td>서울특별시 강남구 개포동</td>\n",
              "      <td>658-1</td>\n",
              "      <td>658</td>\n",
              "      <td>1</td>\n",
              "      <td>우성</td>\n",
              "      <td>79.97</td>\n",
              "      <td>202006</td>\n",
              "      <td>20</td>\n",
              "      <td>160000</td>\n",
              "      <td>8</td>\n",
              "      <td>1987</td>\n",
              "      <td>언주로 3</td>\n",
              "      <td>강남구</td>\n",
              "      <td>개포동</td>\n",
              "      <td>33</td>\n",
              "      <td>0</td>\n",
              "      <td>1</td>\n",
              "      <td>개포</td>\n",
              "      <td>True</td>\n",
              "      <td>NaN</td>\n",
              "    </tr>\n",
              "    <tr>\n",
              "      <th>4</th>\n",
              "      <td>서울특별시 강남구 개포동</td>\n",
              "      <td>658-1</td>\n",
              "      <td>658</td>\n",
              "      <td>1</td>\n",
              "      <td>우성</td>\n",
              "      <td>79.97</td>\n",
              "      <td>202006</td>\n",
              "      <td>22</td>\n",
              "      <td>150000</td>\n",
              "      <td>5</td>\n",
              "      <td>1987</td>\n",
              "      <td>언주로 3</td>\n",
              "      <td>강남구</td>\n",
              "      <td>개포동</td>\n",
              "      <td>33</td>\n",
              "      <td>0</td>\n",
              "      <td>1</td>\n",
              "      <td>개포</td>\n",
              "      <td>True</td>\n",
              "      <td>NaN</td>\n",
              "    </tr>\n",
              "  </tbody>\n",
              "</table>\n",
              "</div>"
            ],
            "text/plain": [
              "              si  Jibun  Bonbun  Bubun  ... YN_r  temp  transformed  Hospital\n",
              "0  서울특별시 강남구 개포동  655-2     655      2  ...    1    개포         True       NaN\n",
              "1  서울특별시 강남구 개포동  658-1     658      1  ...    1    개포         True       NaN\n",
              "2  서울특별시 강남구 개포동  658-1     658      1  ...    1    개포         True       NaN\n",
              "3  서울특별시 강남구 개포동  658-1     658      1  ...    1    개포         True       NaN\n",
              "4  서울특별시 강남구 개포동  658-1     658      1  ...    1    개포         True       NaN\n",
              "\n",
              "[5 rows x 20 columns]"
            ]
          },
          "metadata": {
            "tags": []
          },
          "execution_count": 48
        }
      ]
    },
    {
      "cell_type": "code",
      "metadata": {
        "colab": {
          "base_uri": "https://localhost:8080/"
        },
        "id": "x-2AOXzjkBE-",
        "outputId": "b4924754-64cd-4cbd-fed5-f5abcf811789"
      },
      "source": [
        "df.transformed.value_counts()"
      ],
      "execution_count": 49,
      "outputs": [
        {
          "output_type": "execute_result",
          "data": {
            "text/plain": [
              "False    64973\n",
              "True     49176\n",
              "Name: transformed, dtype: int64"
            ]
          },
          "metadata": {
            "tags": []
          },
          "execution_count": 49
        }
      ]
    },
    {
      "cell_type": "code",
      "metadata": {
        "id": "uxZEsB_6dZbw"
      },
      "source": [
        "df.drop(['si','transformed'],axis=1,inplace=True)"
      ],
      "execution_count": 50,
      "outputs": []
    },
    {
      "cell_type": "code",
      "metadata": {
        "colab": {
          "base_uri": "https://localhost:8080/"
        },
        "id": "ARhUuyYFlU_Q",
        "outputId": "dda1ca15-5752-45c2-af77-4ead680aef05"
      },
      "source": [
        "df.columns"
      ],
      "execution_count": 51,
      "outputs": [
        {
          "output_type": "execute_result",
          "data": {
            "text/plain": [
              "Index(['Jibun', 'Bonbun', 'Bubun', 'Apt', 'Exclusive_area',\n",
              "       'Transaction_year_month', 'transaction_date', 'Transaction_real_price',\n",
              "       'Floor', 'Completion', 'St', 'Gu', 'Dong', 'Year', 'top10', 'YN_r',\n",
              "       'temp', 'Hospital'],\n",
              "      dtype='object')"
            ]
          },
          "metadata": {
            "tags": []
          },
          "execution_count": 51
        }
      ]
    },
    {
      "cell_type": "code",
      "metadata": {
        "id": "xkf2lpgvkuMD"
      },
      "source": [
        "df = df[['Gu','Dong','Jibun','Bonbun','Apt', 'Exclusive_area',\n",
        "    'Transaction_year_month', 'transaction_date','Floor',\n",
        "    'Completion','Year', 'top10','YN_r','Hospital','Transaction_real_price' ]]"
      ],
      "execution_count": 52,
      "outputs": []
    },
    {
      "cell_type": "code",
      "metadata": {
        "id": "tDjnPzeClsOj"
      },
      "source": [
        "squar = pd.read_csv(path+'/구별 면적금액.csv')"
      ],
      "execution_count": 53,
      "outputs": []
    },
    {
      "cell_type": "code",
      "metadata": {
        "colab": {
          "base_uri": "https://localhost:8080/"
        },
        "id": "Q4baVrzemsGx",
        "outputId": "a98f3e40-12f9-494c-8f75-98e226a59fe5"
      },
      "source": [
        "squar.info()"
      ],
      "execution_count": 54,
      "outputs": [
        {
          "output_type": "stream",
          "text": [
            "<class 'pandas.core.frame.DataFrame'>\n",
            "RangeIndex: 25 entries, 0 to 24\n",
            "Data columns (total 2 columns):\n",
            " #   Column     Non-Null Count  Dtype  \n",
            "---  ------     --------------  -----  \n",
            " 0   구          25 non-null     object \n",
            " 1   평균 면적당 금액  25 non-null     float64\n",
            "dtypes: float64(1), object(1)\n",
            "memory usage: 528.0+ bytes\n"
          ],
          "name": "stdout"
        }
      ]
    },
    {
      "cell_type": "code",
      "metadata": {
        "id": "YXsef0JMm3XA"
      },
      "source": [
        "squar['price per squar']= squar['평균 면적당 금액']*3.3"
      ],
      "execution_count": 55,
      "outputs": []
    },
    {
      "cell_type": "code",
      "metadata": {
        "colab": {
          "base_uri": "https://localhost:8080/",
          "height": 204
        },
        "id": "-CyYjVu3nKoA",
        "outputId": "a39cf61b-7673-4ab5-ddca-ed2ae5c13b2f"
      },
      "source": [
        "squar.head()"
      ],
      "execution_count": 56,
      "outputs": [
        {
          "output_type": "execute_result",
          "data": {
            "text/html": [
              "<div>\n",
              "<style scoped>\n",
              "    .dataframe tbody tr th:only-of-type {\n",
              "        vertical-align: middle;\n",
              "    }\n",
              "\n",
              "    .dataframe tbody tr th {\n",
              "        vertical-align: top;\n",
              "    }\n",
              "\n",
              "    .dataframe thead th {\n",
              "        text-align: right;\n",
              "    }\n",
              "</style>\n",
              "<table border=\"1\" class=\"dataframe\">\n",
              "  <thead>\n",
              "    <tr style=\"text-align: right;\">\n",
              "      <th></th>\n",
              "      <th>구</th>\n",
              "      <th>평균 면적당 금액</th>\n",
              "      <th>price per squar</th>\n",
              "    </tr>\n",
              "  </thead>\n",
              "  <tbody>\n",
              "    <tr>\n",
              "      <th>0</th>\n",
              "      <td>중랑구</td>\n",
              "      <td>809.799405</td>\n",
              "      <td>2672.338035</td>\n",
              "    </tr>\n",
              "    <tr>\n",
              "      <th>1</th>\n",
              "      <td>중구</td>\n",
              "      <td>1181.666804</td>\n",
              "      <td>3899.500453</td>\n",
              "    </tr>\n",
              "    <tr>\n",
              "      <th>2</th>\n",
              "      <td>종로구</td>\n",
              "      <td>1075.343218</td>\n",
              "      <td>3548.632619</td>\n",
              "    </tr>\n",
              "    <tr>\n",
              "      <th>3</th>\n",
              "      <td>은평구</td>\n",
              "      <td>867.911723</td>\n",
              "      <td>2864.108687</td>\n",
              "    </tr>\n",
              "    <tr>\n",
              "      <th>4</th>\n",
              "      <td>용산구</td>\n",
              "      <td>1669.072089</td>\n",
              "      <td>5507.937894</td>\n",
              "    </tr>\n",
              "  </tbody>\n",
              "</table>\n",
              "</div>"
            ],
            "text/plain": [
              "     구    평균 면적당 금액  price per squar\n",
              "0  중랑구   809.799405      2672.338035\n",
              "1  중구   1181.666804      3899.500453\n",
              "2  종로구  1075.343218      3548.632619\n",
              "3  은평구   867.911723      2864.108687\n",
              "4  용산구  1669.072089      5507.937894"
            ]
          },
          "metadata": {
            "tags": []
          },
          "execution_count": 56
        }
      ]
    },
    {
      "cell_type": "code",
      "metadata": {
        "colab": {
          "base_uri": "https://localhost:8080/",
          "height": 204
        },
        "id": "w7rong2fngVH",
        "outputId": "7c68c42a-bccf-41b7-9ed4-e0c6c88909ef"
      },
      "source": [
        "squar.drop('평균 면적당 금액',axis = 1,inplace=True)\n",
        "squar.columns=['Gu','Price per squar']\n",
        "squar.head()"
      ],
      "execution_count": 57,
      "outputs": [
        {
          "output_type": "execute_result",
          "data": {
            "text/html": [
              "<div>\n",
              "<style scoped>\n",
              "    .dataframe tbody tr th:only-of-type {\n",
              "        vertical-align: middle;\n",
              "    }\n",
              "\n",
              "    .dataframe tbody tr th {\n",
              "        vertical-align: top;\n",
              "    }\n",
              "\n",
              "    .dataframe thead th {\n",
              "        text-align: right;\n",
              "    }\n",
              "</style>\n",
              "<table border=\"1\" class=\"dataframe\">\n",
              "  <thead>\n",
              "    <tr style=\"text-align: right;\">\n",
              "      <th></th>\n",
              "      <th>Gu</th>\n",
              "      <th>Price per squar</th>\n",
              "    </tr>\n",
              "  </thead>\n",
              "  <tbody>\n",
              "    <tr>\n",
              "      <th>0</th>\n",
              "      <td>중랑구</td>\n",
              "      <td>2672.338035</td>\n",
              "    </tr>\n",
              "    <tr>\n",
              "      <th>1</th>\n",
              "      <td>중구</td>\n",
              "      <td>3899.500453</td>\n",
              "    </tr>\n",
              "    <tr>\n",
              "      <th>2</th>\n",
              "      <td>종로구</td>\n",
              "      <td>3548.632619</td>\n",
              "    </tr>\n",
              "    <tr>\n",
              "      <th>3</th>\n",
              "      <td>은평구</td>\n",
              "      <td>2864.108687</td>\n",
              "    </tr>\n",
              "    <tr>\n",
              "      <th>4</th>\n",
              "      <td>용산구</td>\n",
              "      <td>5507.937894</td>\n",
              "    </tr>\n",
              "  </tbody>\n",
              "</table>\n",
              "</div>"
            ],
            "text/plain": [
              "    Gu  Price per squar\n",
              "0  중랑구      2672.338035\n",
              "1  중구       3899.500453\n",
              "2  종로구      3548.632619\n",
              "3  은평구      2864.108687\n",
              "4  용산구      5507.937894"
            ]
          },
          "metadata": {
            "tags": []
          },
          "execution_count": 57
        }
      ]
    },
    {
      "cell_type": "code",
      "metadata": {
        "id": "P09Bi-Fdpz81"
      },
      "source": [
        "squar.iloc[:,0].astype(str).str.strip()\n",
        "squar.iloc[1,0]='중구'"
      ],
      "execution_count": 58,
      "outputs": []
    },
    {
      "cell_type": "code",
      "metadata": {
        "colab": {
          "base_uri": "https://localhost:8080/"
        },
        "id": "19wkNI1SpWQ7",
        "outputId": "f30e61d8-5e8b-4f1c-b6c3-cd4f0387ad94"
      },
      "source": [
        "squar.iloc[24,0] == df.iloc[0,0]"
      ],
      "execution_count": 59,
      "outputs": [
        {
          "output_type": "execute_result",
          "data": {
            "text/plain": [
              "True"
            ]
          },
          "metadata": {
            "tags": []
          },
          "execution_count": 59
        }
      ]
    },
    {
      "cell_type": "code",
      "metadata": {
        "id": "b6GIUJU3n86f"
      },
      "source": [
        "price_df = pd.merge(df,squar,on='Gu',how='left')"
      ],
      "execution_count": 60,
      "outputs": []
    },
    {
      "cell_type": "code",
      "metadata": {
        "colab": {
          "base_uri": "https://localhost:8080/"
        },
        "id": "C9o3pN61oMJn",
        "outputId": "0bed2750-ce52-43a8-f70d-94aa9881b225"
      },
      "source": [
        "price_df.info()"
      ],
      "execution_count": 61,
      "outputs": [
        {
          "output_type": "stream",
          "text": [
            "<class 'pandas.core.frame.DataFrame'>\n",
            "Int64Index: 114149 entries, 0 to 114148\n",
            "Data columns (total 16 columns):\n",
            " #   Column                  Non-Null Count   Dtype  \n",
            "---  ------                  --------------   -----  \n",
            " 0   Gu                      114149 non-null  object \n",
            " 1   Dong                    114149 non-null  object \n",
            " 2   Jibun                   114149 non-null  object \n",
            " 3   Bonbun                  114149 non-null  int64  \n",
            " 4   Apt                     114149 non-null  object \n",
            " 5   Exclusive_area          114149 non-null  float64\n",
            " 6   Transaction_year_month  114149 non-null  int64  \n",
            " 7   transaction_date        114149 non-null  int64  \n",
            " 8   Floor                   114149 non-null  int64  \n",
            " 9   Completion              114149 non-null  int64  \n",
            " 10  Year                    114149 non-null  int64  \n",
            " 11  top10                   114149 non-null  int64  \n",
            " 12  YN_r                    114149 non-null  int64  \n",
            " 13  Hospital                37066 non-null   float64\n",
            " 14  Transaction_real_price  114149 non-null  int64  \n",
            " 15  Price per squar         114149 non-null  float64\n",
            "dtypes: float64(3), int64(9), object(4)\n",
            "memory usage: 14.8+ MB\n"
          ],
          "name": "stdout"
        }
      ]
    },
    {
      "cell_type": "code",
      "metadata": {
        "id": "phHTxxK7tDLF"
      },
      "source": [
        "price_df.to_csv(path+'/price_1.csv',index=False)"
      ],
      "execution_count": 62,
      "outputs": []
    },
    {
      "cell_type": "code",
      "metadata": {
        "id": "y8MNLsRduhiC",
        "colab": {
          "base_uri": "https://localhost:8080/",
          "height": 544
        },
        "outputId": "8e17a37a-b3aa-488e-e2db-e6738cd22461"
      },
      "source": [
        "price_df[price_df['Year']<0]"
      ],
      "execution_count": 63,
      "outputs": [
        {
          "output_type": "execute_result",
          "data": {
            "text/html": [
              "<div>\n",
              "<style scoped>\n",
              "    .dataframe tbody tr th:only-of-type {\n",
              "        vertical-align: middle;\n",
              "    }\n",
              "\n",
              "    .dataframe tbody tr th {\n",
              "        vertical-align: top;\n",
              "    }\n",
              "\n",
              "    .dataframe thead th {\n",
              "        text-align: right;\n",
              "    }\n",
              "</style>\n",
              "<table border=\"1\" class=\"dataframe\">\n",
              "  <thead>\n",
              "    <tr style=\"text-align: right;\">\n",
              "      <th></th>\n",
              "      <th>Gu</th>\n",
              "      <th>Dong</th>\n",
              "      <th>Jibun</th>\n",
              "      <th>Bonbun</th>\n",
              "      <th>Apt</th>\n",
              "      <th>Exclusive_area</th>\n",
              "      <th>Transaction_year_month</th>\n",
              "      <th>transaction_date</th>\n",
              "      <th>Floor</th>\n",
              "      <th>Completion</th>\n",
              "      <th>Year</th>\n",
              "      <th>top10</th>\n",
              "      <th>YN_r</th>\n",
              "      <th>Hospital</th>\n",
              "      <th>Transaction_real_price</th>\n",
              "      <th>Price per squar</th>\n",
              "    </tr>\n",
              "  </thead>\n",
              "  <tbody>\n",
              "    <tr>\n",
              "      <th>6177</th>\n",
              "      <td>강동구</td>\n",
              "      <td>상일동</td>\n",
              "      <td>521</td>\n",
              "      <td>521</td>\n",
              "      <td>자이</td>\n",
              "      <td>84.9712</td>\n",
              "      <td>202011</td>\n",
              "      <td>25</td>\n",
              "      <td>21</td>\n",
              "      <td>2021</td>\n",
              "      <td>-1</td>\n",
              "      <td>1</td>\n",
              "      <td>1</td>\n",
              "      <td>1.0</td>\n",
              "      <td>159000</td>\n",
              "      <td>4063.473721</td>\n",
              "    </tr>\n",
              "    <tr>\n",
              "      <th>43638</th>\n",
              "      <td>동대문구</td>\n",
              "      <td>휘경동</td>\n",
              "      <td>375</td>\n",
              "      <td>375</td>\n",
              "      <td>others</td>\n",
              "      <td>59.7700</td>\n",
              "      <td>202010</td>\n",
              "      <td>20</td>\n",
              "      <td>20</td>\n",
              "      <td>2021</td>\n",
              "      <td>-1</td>\n",
              "      <td>0</td>\n",
              "      <td>1</td>\n",
              "      <td>1.0</td>\n",
              "      <td>87000</td>\n",
              "      <td>3415.268079</td>\n",
              "    </tr>\n",
              "    <tr>\n",
              "      <th>69798</th>\n",
              "      <td>양천구</td>\n",
              "      <td>신정동</td>\n",
              "      <td>1326</td>\n",
              "      <td>1326</td>\n",
              "      <td>래미안</td>\n",
              "      <td>59.9800</td>\n",
              "      <td>202012</td>\n",
              "      <td>26</td>\n",
              "      <td>29</td>\n",
              "      <td>2021</td>\n",
              "      <td>-1</td>\n",
              "      <td>1</td>\n",
              "      <td>1</td>\n",
              "      <td>2.0</td>\n",
              "      <td>135000</td>\n",
              "      <td>3981.104421</td>\n",
              "    </tr>\n",
              "    <tr>\n",
              "      <th>73074</th>\n",
              "      <td>영등포구</td>\n",
              "      <td>신길동</td>\n",
              "      <td>4964</td>\n",
              "      <td>4964</td>\n",
              "      <td>자이</td>\n",
              "      <td>59.9800</td>\n",
              "      <td>202002</td>\n",
              "      <td>16</td>\n",
              "      <td>14</td>\n",
              "      <td>2021</td>\n",
              "      <td>-1</td>\n",
              "      <td>1</td>\n",
              "      <td>1</td>\n",
              "      <td>1.0</td>\n",
              "      <td>92600</td>\n",
              "      <td>4063.600609</td>\n",
              "    </tr>\n",
              "    <tr>\n",
              "      <th>73075</th>\n",
              "      <td>영등포구</td>\n",
              "      <td>신길동</td>\n",
              "      <td>4964</td>\n",
              "      <td>4964</td>\n",
              "      <td>자이</td>\n",
              "      <td>59.9800</td>\n",
              "      <td>202002</td>\n",
              "      <td>26</td>\n",
              "      <td>29</td>\n",
              "      <td>2021</td>\n",
              "      <td>-1</td>\n",
              "      <td>1</td>\n",
              "      <td>1</td>\n",
              "      <td>1.0</td>\n",
              "      <td>109500</td>\n",
              "      <td>4063.600609</td>\n",
              "    </tr>\n",
              "    <tr>\n",
              "      <th>73076</th>\n",
              "      <td>영등포구</td>\n",
              "      <td>신길동</td>\n",
              "      <td>4964</td>\n",
              "      <td>4964</td>\n",
              "      <td>자이</td>\n",
              "      <td>59.9800</td>\n",
              "      <td>202003</td>\n",
              "      <td>10</td>\n",
              "      <td>6</td>\n",
              "      <td>2021</td>\n",
              "      <td>-1</td>\n",
              "      <td>1</td>\n",
              "      <td>1</td>\n",
              "      <td>1.0</td>\n",
              "      <td>104800</td>\n",
              "      <td>4063.600609</td>\n",
              "    </tr>\n",
              "  </tbody>\n",
              "</table>\n",
              "</div>"
            ],
            "text/plain": [
              "         Gu Dong Jibun  ...  Hospital Transaction_real_price  Price per squar\n",
              "6177    강동구  상일동   521  ...       1.0                 159000      4063.473721\n",
              "43638  동대문구  휘경동   375  ...       1.0                  87000      3415.268079\n",
              "69798   양천구  신정동  1326  ...       2.0                 135000      3981.104421\n",
              "73074  영등포구  신길동  4964  ...       1.0                  92600      4063.600609\n",
              "73075  영등포구  신길동  4964  ...       1.0                 109500      4063.600609\n",
              "73076  영등포구  신길동  4964  ...       1.0                 104800      4063.600609\n",
              "\n",
              "[6 rows x 16 columns]"
            ]
          },
          "metadata": {
            "tags": []
          },
          "execution_count": 63
        }
      ]
    },
    {
      "cell_type": "code",
      "metadata": {
        "id": "yzbcPKPzsl1X"
      },
      "source": [
        "price_df[price_df['Year']<0] = 0"
      ],
      "execution_count": 64,
      "outputs": []
    },
    {
      "cell_type": "code",
      "metadata": {
        "id": "epcP0wOSL8I6"
      },
      "source": [
        "df3 = pd.read_csv(path + '/subway_count.csv')"
      ],
      "execution_count": 65,
      "outputs": []
    },
    {
      "cell_type": "code",
      "metadata": {
        "colab": {
          "base_uri": "https://localhost:8080/",
          "height": 204
        },
        "id": "RWkGKtp5MY0W",
        "outputId": "8f964acf-2578-4fa1-8150-0ca5f2d2aa14"
      },
      "source": [
        "df3.head()"
      ],
      "execution_count": 66,
      "outputs": [
        {
          "output_type": "execute_result",
          "data": {
            "text/html": [
              "<div>\n",
              "<style scoped>\n",
              "    .dataframe tbody tr th:only-of-type {\n",
              "        vertical-align: middle;\n",
              "    }\n",
              "\n",
              "    .dataframe tbody tr th {\n",
              "        vertical-align: top;\n",
              "    }\n",
              "\n",
              "    .dataframe thead th {\n",
              "        text-align: right;\n",
              "    }\n",
              "</style>\n",
              "<table border=\"1\" class=\"dataframe\">\n",
              "  <thead>\n",
              "    <tr style=\"text-align: right;\">\n",
              "      <th></th>\n",
              "      <th>Unnamed: 0</th>\n",
              "      <th>Dong</th>\n",
              "    </tr>\n",
              "  </thead>\n",
              "  <tbody>\n",
              "    <tr>\n",
              "      <th>0</th>\n",
              "      <td>상계동</td>\n",
              "      <td>5</td>\n",
              "    </tr>\n",
              "    <tr>\n",
              "      <th>1</th>\n",
              "      <td>가락동</td>\n",
              "      <td>5</td>\n",
              "    </tr>\n",
              "    <tr>\n",
              "      <th>2</th>\n",
              "      <td>방배동</td>\n",
              "      <td>5</td>\n",
              "    </tr>\n",
              "    <tr>\n",
              "      <th>3</th>\n",
              "      <td>신당동</td>\n",
              "      <td>4</td>\n",
              "    </tr>\n",
              "    <tr>\n",
              "      <th>4</th>\n",
              "      <td>공릉동</td>\n",
              "      <td>3</td>\n",
              "    </tr>\n",
              "  </tbody>\n",
              "</table>\n",
              "</div>"
            ],
            "text/plain": [
              "  Unnamed: 0  Dong\n",
              "0        상계동     5\n",
              "1        가락동     5\n",
              "2        방배동     5\n",
              "3        신당동     4\n",
              "4        공릉동     3"
            ]
          },
          "metadata": {
            "tags": []
          },
          "execution_count": 66
        }
      ]
    },
    {
      "cell_type": "code",
      "metadata": {
        "id": "4EiymTLCNbXL"
      },
      "source": [
        "df3.columns=['Dong','Station']"
      ],
      "execution_count": 67,
      "outputs": []
    },
    {
      "cell_type": "code",
      "metadata": {
        "colab": {
          "base_uri": "https://localhost:8080/",
          "height": 204
        },
        "id": "P6BS11JJNljx",
        "outputId": "2e333ace-0c4a-4559-87c3-9550a2984b01"
      },
      "source": [
        "df3.head()"
      ],
      "execution_count": 68,
      "outputs": [
        {
          "output_type": "execute_result",
          "data": {
            "text/html": [
              "<div>\n",
              "<style scoped>\n",
              "    .dataframe tbody tr th:only-of-type {\n",
              "        vertical-align: middle;\n",
              "    }\n",
              "\n",
              "    .dataframe tbody tr th {\n",
              "        vertical-align: top;\n",
              "    }\n",
              "\n",
              "    .dataframe thead th {\n",
              "        text-align: right;\n",
              "    }\n",
              "</style>\n",
              "<table border=\"1\" class=\"dataframe\">\n",
              "  <thead>\n",
              "    <tr style=\"text-align: right;\">\n",
              "      <th></th>\n",
              "      <th>Dong</th>\n",
              "      <th>Station</th>\n",
              "    </tr>\n",
              "  </thead>\n",
              "  <tbody>\n",
              "    <tr>\n",
              "      <th>0</th>\n",
              "      <td>상계동</td>\n",
              "      <td>5</td>\n",
              "    </tr>\n",
              "    <tr>\n",
              "      <th>1</th>\n",
              "      <td>가락동</td>\n",
              "      <td>5</td>\n",
              "    </tr>\n",
              "    <tr>\n",
              "      <th>2</th>\n",
              "      <td>방배동</td>\n",
              "      <td>5</td>\n",
              "    </tr>\n",
              "    <tr>\n",
              "      <th>3</th>\n",
              "      <td>신당동</td>\n",
              "      <td>4</td>\n",
              "    </tr>\n",
              "    <tr>\n",
              "      <th>4</th>\n",
              "      <td>공릉동</td>\n",
              "      <td>3</td>\n",
              "    </tr>\n",
              "  </tbody>\n",
              "</table>\n",
              "</div>"
            ],
            "text/plain": [
              "  Dong  Station\n",
              "0  상계동        5\n",
              "1  가락동        5\n",
              "2  방배동        5\n",
              "3  신당동        4\n",
              "4  공릉동        3"
            ]
          },
          "metadata": {
            "tags": []
          },
          "execution_count": 68
        }
      ]
    },
    {
      "cell_type": "code",
      "metadata": {
        "id": "KpjWjaUnNlVd"
      },
      "source": [
        "price_df = pd.merge(price_df,df3,on='Dong',how = 'left')"
      ],
      "execution_count": 69,
      "outputs": []
    },
    {
      "cell_type": "code",
      "metadata": {
        "id": "-fcAMRDSOC70"
      },
      "source": [
        "price_df.Station.fillna(0,inplace=True)\n",
        "price_df.Station = price_df.Station.astype(int)"
      ],
      "execution_count": 70,
      "outputs": []
    },
    {
      "cell_type": "code",
      "metadata": {
        "id": "Pnqw4lBSs2ze"
      },
      "source": [
        "from sklearn.preprocessing import LabelEncoder\n",
        "\n",
        "label = LabelEncoder()"
      ],
      "execution_count": 71,
      "outputs": []
    },
    {
      "cell_type": "code",
      "metadata": {
        "id": "523xVEyMtFSO"
      },
      "source": [
        "price_df=price_df.drop(price_df[price_df['Gu']==0].index)"
      ],
      "execution_count": 72,
      "outputs": []
    },
    {
      "cell_type": "code",
      "metadata": {
        "colab": {
          "base_uri": "https://localhost:8080/"
        },
        "id": "ZSTTb9sotLIC",
        "outputId": "3fdc4417-f53b-440c-abd4-a1b1f2e8cc82"
      },
      "source": [
        "label.fit(price_df.Gu)"
      ],
      "execution_count": 73,
      "outputs": [
        {
          "output_type": "execute_result",
          "data": {
            "text/plain": [
              "LabelEncoder()"
            ]
          },
          "metadata": {
            "tags": []
          },
          "execution_count": 73
        }
      ]
    },
    {
      "cell_type": "code",
      "metadata": {
        "id": "ThBC-yPSuMYh"
      },
      "source": [
        "price_df['Gu_Label'] = label.transform(price_df.Gu)"
      ],
      "execution_count": 74,
      "outputs": []
    },
    {
      "cell_type": "code",
      "metadata": {
        "colab": {
          "base_uri": "https://localhost:8080/",
          "height": 411
        },
        "id": "3RGjh_F5uQm_",
        "outputId": "97718766-baca-435f-90ba-7eafa183a187"
      },
      "source": [
        "price_df.head()"
      ],
      "execution_count": 75,
      "outputs": [
        {
          "output_type": "execute_result",
          "data": {
            "text/html": [
              "<div>\n",
              "<style scoped>\n",
              "    .dataframe tbody tr th:only-of-type {\n",
              "        vertical-align: middle;\n",
              "    }\n",
              "\n",
              "    .dataframe tbody tr th {\n",
              "        vertical-align: top;\n",
              "    }\n",
              "\n",
              "    .dataframe thead th {\n",
              "        text-align: right;\n",
              "    }\n",
              "</style>\n",
              "<table border=\"1\" class=\"dataframe\">\n",
              "  <thead>\n",
              "    <tr style=\"text-align: right;\">\n",
              "      <th></th>\n",
              "      <th>Gu</th>\n",
              "      <th>Dong</th>\n",
              "      <th>Jibun</th>\n",
              "      <th>Bonbun</th>\n",
              "      <th>Apt</th>\n",
              "      <th>Exclusive_area</th>\n",
              "      <th>Transaction_year_month</th>\n",
              "      <th>transaction_date</th>\n",
              "      <th>Floor</th>\n",
              "      <th>Completion</th>\n",
              "      <th>Year</th>\n",
              "      <th>top10</th>\n",
              "      <th>YN_r</th>\n",
              "      <th>Hospital</th>\n",
              "      <th>Transaction_real_price</th>\n",
              "      <th>Price per squar</th>\n",
              "      <th>Station</th>\n",
              "      <th>Gu_Label</th>\n",
              "    </tr>\n",
              "  </thead>\n",
              "  <tbody>\n",
              "    <tr>\n",
              "      <th>0</th>\n",
              "      <td>강남구</td>\n",
              "      <td>개포동</td>\n",
              "      <td>655-2</td>\n",
              "      <td>655</td>\n",
              "      <td>현대</td>\n",
              "      <td>77.75</td>\n",
              "      <td>202006</td>\n",
              "      <td>23</td>\n",
              "      <td>7</td>\n",
              "      <td>1988</td>\n",
              "      <td>32</td>\n",
              "      <td>0</td>\n",
              "      <td>1</td>\n",
              "      <td>NaN</td>\n",
              "      <td>149500</td>\n",
              "      <td>7003.020394</td>\n",
              "      <td>1</td>\n",
              "      <td>0</td>\n",
              "    </tr>\n",
              "    <tr>\n",
              "      <th>1</th>\n",
              "      <td>강남구</td>\n",
              "      <td>개포동</td>\n",
              "      <td>658-1</td>\n",
              "      <td>658</td>\n",
              "      <td>우성</td>\n",
              "      <td>54.98</td>\n",
              "      <td>202002</td>\n",
              "      <td>24</td>\n",
              "      <td>7</td>\n",
              "      <td>1987</td>\n",
              "      <td>33</td>\n",
              "      <td>0</td>\n",
              "      <td>1</td>\n",
              "      <td>NaN</td>\n",
              "      <td>144000</td>\n",
              "      <td>7003.020394</td>\n",
              "      <td>1</td>\n",
              "      <td>0</td>\n",
              "    </tr>\n",
              "    <tr>\n",
              "      <th>2</th>\n",
              "      <td>강남구</td>\n",
              "      <td>개포동</td>\n",
              "      <td>658-1</td>\n",
              "      <td>658</td>\n",
              "      <td>우성</td>\n",
              "      <td>79.97</td>\n",
              "      <td>202006</td>\n",
              "      <td>18</td>\n",
              "      <td>7</td>\n",
              "      <td>1987</td>\n",
              "      <td>33</td>\n",
              "      <td>0</td>\n",
              "      <td>1</td>\n",
              "      <td>NaN</td>\n",
              "      <td>162750</td>\n",
              "      <td>7003.020394</td>\n",
              "      <td>1</td>\n",
              "      <td>0</td>\n",
              "    </tr>\n",
              "    <tr>\n",
              "      <th>3</th>\n",
              "      <td>강남구</td>\n",
              "      <td>개포동</td>\n",
              "      <td>658-1</td>\n",
              "      <td>658</td>\n",
              "      <td>우성</td>\n",
              "      <td>79.97</td>\n",
              "      <td>202006</td>\n",
              "      <td>20</td>\n",
              "      <td>8</td>\n",
              "      <td>1987</td>\n",
              "      <td>33</td>\n",
              "      <td>0</td>\n",
              "      <td>1</td>\n",
              "      <td>NaN</td>\n",
              "      <td>160000</td>\n",
              "      <td>7003.020394</td>\n",
              "      <td>1</td>\n",
              "      <td>0</td>\n",
              "    </tr>\n",
              "    <tr>\n",
              "      <th>4</th>\n",
              "      <td>강남구</td>\n",
              "      <td>개포동</td>\n",
              "      <td>658-1</td>\n",
              "      <td>658</td>\n",
              "      <td>우성</td>\n",
              "      <td>79.97</td>\n",
              "      <td>202006</td>\n",
              "      <td>22</td>\n",
              "      <td>5</td>\n",
              "      <td>1987</td>\n",
              "      <td>33</td>\n",
              "      <td>0</td>\n",
              "      <td>1</td>\n",
              "      <td>NaN</td>\n",
              "      <td>150000</td>\n",
              "      <td>7003.020394</td>\n",
              "      <td>1</td>\n",
              "      <td>0</td>\n",
              "    </tr>\n",
              "  </tbody>\n",
              "</table>\n",
              "</div>"
            ],
            "text/plain": [
              "    Gu Dong  Jibun  ...  Price per squar Station  Gu_Label\n",
              "0  강남구  개포동  655-2  ...      7003.020394       1         0\n",
              "1  강남구  개포동  658-1  ...      7003.020394       1         0\n",
              "2  강남구  개포동  658-1  ...      7003.020394       1         0\n",
              "3  강남구  개포동  658-1  ...      7003.020394       1         0\n",
              "4  강남구  개포동  658-1  ...      7003.020394       1         0\n",
              "\n",
              "[5 rows x 18 columns]"
            ]
          },
          "metadata": {
            "tags": []
          },
          "execution_count": 75
        }
      ]
    },
    {
      "cell_type": "code",
      "metadata": {
        "id": "uFS3ZTckuV3e"
      },
      "source": [
        "label_dong = LabelEncoder()"
      ],
      "execution_count": 76,
      "outputs": []
    },
    {
      "cell_type": "code",
      "metadata": {
        "colab": {
          "base_uri": "https://localhost:8080/"
        },
        "id": "tqTGU6Qzu_ae",
        "outputId": "16be8261-dd71-4c6a-ba0b-3cccb20695ec"
      },
      "source": [
        "label_dong.fit(price_df.Dong)"
      ],
      "execution_count": 77,
      "outputs": [
        {
          "output_type": "execute_result",
          "data": {
            "text/plain": [
              "LabelEncoder()"
            ]
          },
          "metadata": {
            "tags": []
          },
          "execution_count": 77
        }
      ]
    },
    {
      "cell_type": "code",
      "metadata": {
        "id": "-YICIrNrvFg6"
      },
      "source": [
        "price_df['Dong_Label'] = label_dong.transform(price_df.Dong)"
      ],
      "execution_count": 78,
      "outputs": []
    },
    {
      "cell_type": "code",
      "metadata": {
        "colab": {
          "base_uri": "https://localhost:8080/",
          "height": 411
        },
        "id": "hr9NdqU_vU8W",
        "outputId": "c6d677c6-4c89-448f-afa2-cc60ddcc9f75"
      },
      "source": [
        "price_df.head()"
      ],
      "execution_count": 79,
      "outputs": [
        {
          "output_type": "execute_result",
          "data": {
            "text/html": [
              "<div>\n",
              "<style scoped>\n",
              "    .dataframe tbody tr th:only-of-type {\n",
              "        vertical-align: middle;\n",
              "    }\n",
              "\n",
              "    .dataframe tbody tr th {\n",
              "        vertical-align: top;\n",
              "    }\n",
              "\n",
              "    .dataframe thead th {\n",
              "        text-align: right;\n",
              "    }\n",
              "</style>\n",
              "<table border=\"1\" class=\"dataframe\">\n",
              "  <thead>\n",
              "    <tr style=\"text-align: right;\">\n",
              "      <th></th>\n",
              "      <th>Gu</th>\n",
              "      <th>Dong</th>\n",
              "      <th>Jibun</th>\n",
              "      <th>Bonbun</th>\n",
              "      <th>Apt</th>\n",
              "      <th>Exclusive_area</th>\n",
              "      <th>Transaction_year_month</th>\n",
              "      <th>transaction_date</th>\n",
              "      <th>Floor</th>\n",
              "      <th>Completion</th>\n",
              "      <th>Year</th>\n",
              "      <th>top10</th>\n",
              "      <th>YN_r</th>\n",
              "      <th>Hospital</th>\n",
              "      <th>Transaction_real_price</th>\n",
              "      <th>Price per squar</th>\n",
              "      <th>Station</th>\n",
              "      <th>Gu_Label</th>\n",
              "      <th>Dong_Label</th>\n",
              "    </tr>\n",
              "  </thead>\n",
              "  <tbody>\n",
              "    <tr>\n",
              "      <th>0</th>\n",
              "      <td>강남구</td>\n",
              "      <td>개포동</td>\n",
              "      <td>655-2</td>\n",
              "      <td>655</td>\n",
              "      <td>현대</td>\n",
              "      <td>77.75</td>\n",
              "      <td>202006</td>\n",
              "      <td>23</td>\n",
              "      <td>7</td>\n",
              "      <td>1988</td>\n",
              "      <td>32</td>\n",
              "      <td>0</td>\n",
              "      <td>1</td>\n",
              "      <td>NaN</td>\n",
              "      <td>149500</td>\n",
              "      <td>7003.020394</td>\n",
              "      <td>1</td>\n",
              "      <td>0</td>\n",
              "      <td>8</td>\n",
              "    </tr>\n",
              "    <tr>\n",
              "      <th>1</th>\n",
              "      <td>강남구</td>\n",
              "      <td>개포동</td>\n",
              "      <td>658-1</td>\n",
              "      <td>658</td>\n",
              "      <td>우성</td>\n",
              "      <td>54.98</td>\n",
              "      <td>202002</td>\n",
              "      <td>24</td>\n",
              "      <td>7</td>\n",
              "      <td>1987</td>\n",
              "      <td>33</td>\n",
              "      <td>0</td>\n",
              "      <td>1</td>\n",
              "      <td>NaN</td>\n",
              "      <td>144000</td>\n",
              "      <td>7003.020394</td>\n",
              "      <td>1</td>\n",
              "      <td>0</td>\n",
              "      <td>8</td>\n",
              "    </tr>\n",
              "    <tr>\n",
              "      <th>2</th>\n",
              "      <td>강남구</td>\n",
              "      <td>개포동</td>\n",
              "      <td>658-1</td>\n",
              "      <td>658</td>\n",
              "      <td>우성</td>\n",
              "      <td>79.97</td>\n",
              "      <td>202006</td>\n",
              "      <td>18</td>\n",
              "      <td>7</td>\n",
              "      <td>1987</td>\n",
              "      <td>33</td>\n",
              "      <td>0</td>\n",
              "      <td>1</td>\n",
              "      <td>NaN</td>\n",
              "      <td>162750</td>\n",
              "      <td>7003.020394</td>\n",
              "      <td>1</td>\n",
              "      <td>0</td>\n",
              "      <td>8</td>\n",
              "    </tr>\n",
              "    <tr>\n",
              "      <th>3</th>\n",
              "      <td>강남구</td>\n",
              "      <td>개포동</td>\n",
              "      <td>658-1</td>\n",
              "      <td>658</td>\n",
              "      <td>우성</td>\n",
              "      <td>79.97</td>\n",
              "      <td>202006</td>\n",
              "      <td>20</td>\n",
              "      <td>8</td>\n",
              "      <td>1987</td>\n",
              "      <td>33</td>\n",
              "      <td>0</td>\n",
              "      <td>1</td>\n",
              "      <td>NaN</td>\n",
              "      <td>160000</td>\n",
              "      <td>7003.020394</td>\n",
              "      <td>1</td>\n",
              "      <td>0</td>\n",
              "      <td>8</td>\n",
              "    </tr>\n",
              "    <tr>\n",
              "      <th>4</th>\n",
              "      <td>강남구</td>\n",
              "      <td>개포동</td>\n",
              "      <td>658-1</td>\n",
              "      <td>658</td>\n",
              "      <td>우성</td>\n",
              "      <td>79.97</td>\n",
              "      <td>202006</td>\n",
              "      <td>22</td>\n",
              "      <td>5</td>\n",
              "      <td>1987</td>\n",
              "      <td>33</td>\n",
              "      <td>0</td>\n",
              "      <td>1</td>\n",
              "      <td>NaN</td>\n",
              "      <td>150000</td>\n",
              "      <td>7003.020394</td>\n",
              "      <td>1</td>\n",
              "      <td>0</td>\n",
              "      <td>8</td>\n",
              "    </tr>\n",
              "  </tbody>\n",
              "</table>\n",
              "</div>"
            ],
            "text/plain": [
              "    Gu Dong  Jibun  Bonbun  ... Price per squar  Station  Gu_Label  Dong_Label\n",
              "0  강남구  개포동  655-2     655  ...     7003.020394        1         0           8\n",
              "1  강남구  개포동  658-1     658  ...     7003.020394        1         0           8\n",
              "2  강남구  개포동  658-1     658  ...     7003.020394        1         0           8\n",
              "3  강남구  개포동  658-1     658  ...     7003.020394        1         0           8\n",
              "4  강남구  개포동  658-1     658  ...     7003.020394        1         0           8\n",
              "\n",
              "[5 rows x 19 columns]"
            ]
          },
          "metadata": {
            "tags": []
          },
          "execution_count": 79
        }
      ]
    },
    {
      "cell_type": "code",
      "metadata": {
        "id": "iqklooQcvXtm"
      },
      "source": [
        "data = price_df.drop(['Gu','Dong','Jibun','Apt','Transaction_year_month','transaction_date','Completion'],axis=1)"
      ],
      "execution_count": 80,
      "outputs": []
    },
    {
      "cell_type": "code",
      "metadata": {
        "id": "B5h3mQivwgvP"
      },
      "source": [
        "data=data[['Gu_Label','Dong_Label','Year','Exclusive_area','Floor','Price per squar','top10','YN_r','Hospital','Station','Transaction_real_price']]"
      ],
      "execution_count": 81,
      "outputs": []
    },
    {
      "cell_type": "code",
      "metadata": {
        "colab": {
          "base_uri": "https://localhost:8080/",
          "height": 241
        },
        "id": "M20aLsy9w91-",
        "outputId": "57ffdedf-48e1-40b6-f080-8602fa40def1"
      },
      "source": [
        "data.head()"
      ],
      "execution_count": 82,
      "outputs": [
        {
          "output_type": "execute_result",
          "data": {
            "text/html": [
              "<div>\n",
              "<style scoped>\n",
              "    .dataframe tbody tr th:only-of-type {\n",
              "        vertical-align: middle;\n",
              "    }\n",
              "\n",
              "    .dataframe tbody tr th {\n",
              "        vertical-align: top;\n",
              "    }\n",
              "\n",
              "    .dataframe thead th {\n",
              "        text-align: right;\n",
              "    }\n",
              "</style>\n",
              "<table border=\"1\" class=\"dataframe\">\n",
              "  <thead>\n",
              "    <tr style=\"text-align: right;\">\n",
              "      <th></th>\n",
              "      <th>Gu_Label</th>\n",
              "      <th>Dong_Label</th>\n",
              "      <th>Year</th>\n",
              "      <th>Exclusive_area</th>\n",
              "      <th>Floor</th>\n",
              "      <th>Price per squar</th>\n",
              "      <th>top10</th>\n",
              "      <th>YN_r</th>\n",
              "      <th>Hospital</th>\n",
              "      <th>Station</th>\n",
              "      <th>Transaction_real_price</th>\n",
              "    </tr>\n",
              "  </thead>\n",
              "  <tbody>\n",
              "    <tr>\n",
              "      <th>0</th>\n",
              "      <td>0</td>\n",
              "      <td>8</td>\n",
              "      <td>32</td>\n",
              "      <td>77.75</td>\n",
              "      <td>7</td>\n",
              "      <td>7003.020394</td>\n",
              "      <td>0</td>\n",
              "      <td>1</td>\n",
              "      <td>NaN</td>\n",
              "      <td>1</td>\n",
              "      <td>149500</td>\n",
              "    </tr>\n",
              "    <tr>\n",
              "      <th>1</th>\n",
              "      <td>0</td>\n",
              "      <td>8</td>\n",
              "      <td>33</td>\n",
              "      <td>54.98</td>\n",
              "      <td>7</td>\n",
              "      <td>7003.020394</td>\n",
              "      <td>0</td>\n",
              "      <td>1</td>\n",
              "      <td>NaN</td>\n",
              "      <td>1</td>\n",
              "      <td>144000</td>\n",
              "    </tr>\n",
              "    <tr>\n",
              "      <th>2</th>\n",
              "      <td>0</td>\n",
              "      <td>8</td>\n",
              "      <td>33</td>\n",
              "      <td>79.97</td>\n",
              "      <td>7</td>\n",
              "      <td>7003.020394</td>\n",
              "      <td>0</td>\n",
              "      <td>1</td>\n",
              "      <td>NaN</td>\n",
              "      <td>1</td>\n",
              "      <td>162750</td>\n",
              "    </tr>\n",
              "    <tr>\n",
              "      <th>3</th>\n",
              "      <td>0</td>\n",
              "      <td>8</td>\n",
              "      <td>33</td>\n",
              "      <td>79.97</td>\n",
              "      <td>8</td>\n",
              "      <td>7003.020394</td>\n",
              "      <td>0</td>\n",
              "      <td>1</td>\n",
              "      <td>NaN</td>\n",
              "      <td>1</td>\n",
              "      <td>160000</td>\n",
              "    </tr>\n",
              "    <tr>\n",
              "      <th>4</th>\n",
              "      <td>0</td>\n",
              "      <td>8</td>\n",
              "      <td>33</td>\n",
              "      <td>79.97</td>\n",
              "      <td>5</td>\n",
              "      <td>7003.020394</td>\n",
              "      <td>0</td>\n",
              "      <td>1</td>\n",
              "      <td>NaN</td>\n",
              "      <td>1</td>\n",
              "      <td>150000</td>\n",
              "    </tr>\n",
              "  </tbody>\n",
              "</table>\n",
              "</div>"
            ],
            "text/plain": [
              "   Gu_Label  Dong_Label  Year  ...  Hospital  Station  Transaction_real_price\n",
              "0         0           8    32  ...       NaN        1                  149500\n",
              "1         0           8    33  ...       NaN        1                  144000\n",
              "2         0           8    33  ...       NaN        1                  162750\n",
              "3         0           8    33  ...       NaN        1                  160000\n",
              "4         0           8    33  ...       NaN        1                  150000\n",
              "\n",
              "[5 rows x 11 columns]"
            ]
          },
          "metadata": {
            "tags": []
          },
          "execution_count": 82
        }
      ]
    },
    {
      "cell_type": "code",
      "metadata": {
        "id": "jSGU7IDukmpB"
      },
      "source": [
        "data.Hospital.fillna(0,inplace=True)"
      ],
      "execution_count": 83,
      "outputs": []
    },
    {
      "cell_type": "code",
      "metadata": {
        "colab": {
          "base_uri": "https://localhost:8080/"
        },
        "id": "Yo55-ZBvkInT",
        "outputId": "cd6a1d5e-0479-4d74-bc26-9ac1f295f266"
      },
      "source": [
        "data.Hospital.value_counts()"
      ],
      "execution_count": 84,
      "outputs": [
        {
          "output_type": "execute_result",
          "data": {
            "text/plain": [
              "0.0    77083\n",
              "1.0    34507\n",
              "2.0     2014\n",
              "3.0      539\n",
              "Name: Hospital, dtype: int64"
            ]
          },
          "metadata": {
            "tags": []
          },
          "execution_count": 84
        }
      ]
    },
    {
      "cell_type": "code",
      "metadata": {
        "id": "TtPMs_ehnUO9"
      },
      "source": [
        "for i in range(len(data.Hospital)):\n",
        "    if data.Hospital.iloc[i] == 0:\n",
        "        data.Hospital.iloc[i] = 0\n",
        "    else:\n",
        "        data.Hospital.iloc[i] = 1"
      ],
      "execution_count": 85,
      "outputs": []
    },
    {
      "cell_type": "code",
      "metadata": {
        "id": "JyebDfzBxBTm"
      },
      "source": [
        "data.to_csv(path+'/dataset.csv',index=False)"
      ],
      "execution_count": 86,
      "outputs": []
    },
    {
      "cell_type": "code",
      "metadata": {
        "id": "38RQFdxtxfce",
        "colab": {
          "base_uri": "https://localhost:8080/"
        },
        "outputId": "bca57d88-a372-4de6-f0d9-0d1a593a84eb"
      },
      "source": [
        "data.Hospital.value_counts()"
      ],
      "execution_count": 87,
      "outputs": [
        {
          "output_type": "execute_result",
          "data": {
            "text/plain": [
              "0.0    77083\n",
              "1.0    37060\n",
              "Name: Hospital, dtype: int64"
            ]
          },
          "metadata": {
            "tags": []
          },
          "execution_count": 87
        }
      ]
    },
    {
      "cell_type": "code",
      "metadata": {
        "id": "RCnncD33n07l"
      },
      "source": [
        ""
      ],
      "execution_count": 87,
      "outputs": []
    }
  ]
}