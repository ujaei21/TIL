{
  "nbformat": 4,
  "nbformat_minor": 0,
  "metadata": {
    "colab": {
      "name": "MLB.ipynb",
      "private_outputs": true,
      "provenance": [],
      "collapsed_sections": []
    },
    "kernelspec": {
      "name": "python3",
      "display_name": "Python 3"
    },
    "language_info": {
      "name": "python"
    }
  },
  "cells": [
    {
      "cell_type": "code",
      "metadata": {
        "id": "LMIRwtri_w5J"
      },
      "source": [
        "!git clone https://github.com/jldbc/pybaseball"
      ],
      "execution_count": null,
      "outputs": []
    },
    {
      "cell_type": "markdown",
      "metadata": {
        "id": "JNjK-wOTAbHH"
      },
      "source": [
        ""
      ]
    },
    {
      "cell_type": "code",
      "metadata": {
        "id": "z_cHxb50_ysc"
      },
      "source": [
        "cd /content/pybaseball"
      ],
      "execution_count": null,
      "outputs": []
    },
    {
      "cell_type": "code",
      "metadata": {
        "id": "XrZRBJrZBEzV"
      },
      "source": [
        "pip install -e ."
      ],
      "execution_count": null,
      "outputs": []
    },
    {
      "cell_type": "code",
      "metadata": {
        "id": "qh_0gsgOClXi"
      },
      "source": [
        "from pybaseball import statcast"
      ],
      "execution_count": null,
      "outputs": []
    },
    {
      "cell_type": "code",
      "metadata": {
        "id": "Fq8Ja4xbCsQH"
      },
      "source": [
        "from pybaseball import playerid_lookup\n",
        "from pybaseball import statcast_pitcher\n",
        "playerid_lookup('ryu', 'hyun jin')"
      ],
      "execution_count": null,
      "outputs": []
    },
    {
      "cell_type": "code",
      "metadata": {
        "id": "4Xo9Ceo8C0Gn"
      },
      "source": [
        "ryu_stats = statcast_pitcher('2021-07-01', '2021-07-20', 547943)\n",
        "ryu_stats.head(5)"
      ],
      "execution_count": null,
      "outputs": []
    },
    {
      "cell_type": "code",
      "metadata": {
        "id": "gJJs8bPhljTb"
      },
      "source": [
        "result=ryu_stats[['pitch_type','game_date','release_speed','release_pos_x','release_pos_z','release_spin_rate','release_extension','spin_axis']]"
      ],
      "execution_count": null,
      "outputs": []
    },
    {
      "cell_type": "code",
      "metadata": {
        "id": "iGOD7sV1l_cM"
      },
      "source": [
        "import pandas as pd"
      ],
      "execution_count": null,
      "outputs": []
    },
    {
      "cell_type": "code",
      "metadata": {
        "id": "3CBNIyxRmflE"
      },
      "source": [
        "pd.DataFrame(result)"
      ],
      "execution_count": null,
      "outputs": []
    },
    {
      "cell_type": "code",
      "metadata": {
        "id": "OmGOU5Pwmy9x"
      },
      "source": [
        "result[(result['pitch_type']=='FF') & (result['game_date']=='2021-07-07')].mean()"
      ],
      "execution_count": null,
      "outputs": []
    },
    {
      "cell_type": "code",
      "metadata": {
        "id": "I1u58drfwqaQ"
      },
      "source": [
        "result[(result['pitch_type']=='FC') & (result['game_date']=='2021-07-07')].mean()"
      ],
      "execution_count": null,
      "outputs": []
    },
    {
      "cell_type": "code",
      "metadata": {
        "id": "UTErSrsLpSru"
      },
      "source": [
        "result[(result['pitch_type']=='FF') & (result['game_date']=='2021-07-01')].mean()"
      ],
      "execution_count": null,
      "outputs": []
    },
    {
      "cell_type": "code",
      "metadata": {
        "id": "9CX-NM-TrXaR"
      },
      "source": [
        "result[(result['pitch_type']=='FC') & (result['game_date']=='2021-07-01')].mean()"
      ],
      "execution_count": null,
      "outputs": []
    },
    {
      "cell_type": "code",
      "metadata": {
        "id": "i-O9pSQ3wtK-"
      },
      "source": [
        "result[(result['pitch_type']=='CH') & (result['game_date']=='2021-07-07')].mean()"
      ],
      "execution_count": null,
      "outputs": []
    },
    {
      "cell_type": "code",
      "metadata": {
        "id": "lCpw97HG041Z"
      },
      "source": [
        "result[(result['pitch_type']=='CH') & (result['game_date']=='2021-07-01')].mean()"
      ],
      "execution_count": null,
      "outputs": []
    },
    {
      "cell_type": "code",
      "metadata": {
        "id": "JT4ziwPH06Uc"
      },
      "source": [
        "result[(result['pitch_type']=='FF') & (result['game_date']=='2021-07-07')].mean()"
      ],
      "execution_count": null,
      "outputs": []
    },
    {
      "cell_type": "code",
      "metadata": {
        "id": "-ttfMFlp4_AT"
      },
      "source": [
        "import numpy as np\n",
        "result.groupby(['game_date','pitch_type']).agg({'release_speed':np.mean,'pitch_type':np.size,'release_pos_x':np.mean,'release_pos_z':np.mean,'release_spin_rate':np.mean,'release_extension':np.mean})"
      ],
      "execution_count": null,
      "outputs": []
    },
    {
      "cell_type": "code",
      "metadata": {
        "id": "vsNI5kUn6J5Q"
      },
      "source": [
        ""
      ],
      "execution_count": null,
      "outputs": []
    }
  ]
}