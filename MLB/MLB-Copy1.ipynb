{
 "cells": [
  {
   "cell_type": "markdown",
   "metadata": {},
   "source": [
    "## 류현진 2021-07-19 경기 릴리스포인트"
   ]
  },
  {
   "cell_type": "code",
   "execution_count": 1,
   "metadata": {
    "id": "qh_0gsgOClXi"
   },
   "outputs": [],
   "source": [
    "from pybaseball import statcast"
   ]
  },
  {
   "cell_type": "code",
   "execution_count": 2,
   "metadata": {
    "id": "Fq8Ja4xbCsQH"
   },
   "outputs": [
    {
     "name": "stdout",
     "output_type": "stream",
     "text": [
      "Gathering player lookup table. This may take a moment.\n"
     ]
    },
    {
     "data": {
      "text/html": [
       "<div>\n",
       "<style scoped>\n",
       "    .dataframe tbody tr th:only-of-type {\n",
       "        vertical-align: middle;\n",
       "    }\n",
       "\n",
       "    .dataframe tbody tr th {\n",
       "        vertical-align: top;\n",
       "    }\n",
       "\n",
       "    .dataframe thead th {\n",
       "        text-align: right;\n",
       "    }\n",
       "</style>\n",
       "<table border=\"1\" class=\"dataframe\">\n",
       "  <thead>\n",
       "    <tr style=\"text-align: right;\">\n",
       "      <th></th>\n",
       "      <th>name_last</th>\n",
       "      <th>name_first</th>\n",
       "      <th>key_mlbam</th>\n",
       "      <th>key_retro</th>\n",
       "      <th>key_bbref</th>\n",
       "      <th>key_fangraphs</th>\n",
       "      <th>mlb_played_first</th>\n",
       "      <th>mlb_played_last</th>\n",
       "    </tr>\n",
       "  </thead>\n",
       "  <tbody>\n",
       "    <tr>\n",
       "      <th>0</th>\n",
       "      <td>ryu</td>\n",
       "      <td>hyun jin</td>\n",
       "      <td>547943</td>\n",
       "      <td>ryu-h001</td>\n",
       "      <td>ryuhy01</td>\n",
       "      <td>14444</td>\n",
       "      <td>2013.0</td>\n",
       "      <td>2021.0</td>\n",
       "    </tr>\n",
       "  </tbody>\n",
       "</table>\n",
       "</div>"
      ],
      "text/plain": [
       "  name_last name_first  key_mlbam key_retro key_bbref  key_fangraphs  \\\n",
       "0       ryu   hyun jin     547943  ryu-h001   ryuhy01          14444   \n",
       "\n",
       "   mlb_played_first  mlb_played_last  \n",
       "0            2013.0           2021.0  "
      ]
     },
     "execution_count": 2,
     "metadata": {},
     "output_type": "execute_result"
    }
   ],
   "source": [
    "from pybaseball import playerid_lookup\n",
    "from pybaseball import statcast_pitcher\n",
    "playerid_lookup('ryu', 'hyun jin')"
   ]
  },
  {
   "cell_type": "code",
   "execution_count": 3,
   "metadata": {
    "id": "4Xo9Ceo8C0Gn"
   },
   "outputs": [
    {
     "name": "stdout",
     "output_type": "stream",
     "text": [
      "Gathering Player Data\n"
     ]
    },
    {
     "data": {
      "text/html": [
       "<div>\n",
       "<style scoped>\n",
       "    .dataframe tbody tr th:only-of-type {\n",
       "        vertical-align: middle;\n",
       "    }\n",
       "\n",
       "    .dataframe tbody tr th {\n",
       "        vertical-align: top;\n",
       "    }\n",
       "\n",
       "    .dataframe thead th {\n",
       "        text-align: right;\n",
       "    }\n",
       "</style>\n",
       "<table border=\"1\" class=\"dataframe\">\n",
       "  <thead>\n",
       "    <tr style=\"text-align: right;\">\n",
       "      <th></th>\n",
       "      <th>pitch_type</th>\n",
       "      <th>game_date</th>\n",
       "      <th>release_speed</th>\n",
       "      <th>release_pos_x</th>\n",
       "      <th>release_pos_z</th>\n",
       "      <th>player_name</th>\n",
       "      <th>batter</th>\n",
       "      <th>pitcher</th>\n",
       "      <th>events</th>\n",
       "      <th>description</th>\n",
       "      <th>...</th>\n",
       "      <th>fld_score</th>\n",
       "      <th>post_away_score</th>\n",
       "      <th>post_home_score</th>\n",
       "      <th>post_bat_score</th>\n",
       "      <th>post_fld_score</th>\n",
       "      <th>if_fielding_alignment</th>\n",
       "      <th>of_fielding_alignment</th>\n",
       "      <th>spin_axis</th>\n",
       "      <th>delta_home_win_exp</th>\n",
       "      <th>delta_run_exp</th>\n",
       "    </tr>\n",
       "  </thead>\n",
       "  <tbody>\n",
       "    <tr>\n",
       "      <th>0</th>\n",
       "      <td>FC</td>\n",
       "      <td>2021-07-18</td>\n",
       "      <td>86.7</td>\n",
       "      <td>2.23</td>\n",
       "      <td>5.82</td>\n",
       "      <td>Ryu, Hyun Jin</td>\n",
       "      <td>621311</td>\n",
       "      <td>547943</td>\n",
       "      <td>field_out</td>\n",
       "      <td>hit_into_play</td>\n",
       "      <td>...</td>\n",
       "      <td>5</td>\n",
       "      <td>0</td>\n",
       "      <td>5</td>\n",
       "      <td>0</td>\n",
       "      <td>5</td>\n",
       "      <td>Standard</td>\n",
       "      <td>Standard</td>\n",
       "      <td>153</td>\n",
       "      <td>0.000</td>\n",
       "      <td>-0.120</td>\n",
       "    </tr>\n",
       "    <tr>\n",
       "      <th>1</th>\n",
       "      <td>FF</td>\n",
       "      <td>2021-07-18</td>\n",
       "      <td>91.0</td>\n",
       "      <td>2.07</td>\n",
       "      <td>5.73</td>\n",
       "      <td>Ryu, Hyun Jin</td>\n",
       "      <td>621311</td>\n",
       "      <td>547943</td>\n",
       "      <td>NaN</td>\n",
       "      <td>ball</td>\n",
       "      <td>...</td>\n",
       "      <td>5</td>\n",
       "      <td>0</td>\n",
       "      <td>5</td>\n",
       "      <td>0</td>\n",
       "      <td>5</td>\n",
       "      <td>Standard</td>\n",
       "      <td>Standard</td>\n",
       "      <td>130</td>\n",
       "      <td>0.000</td>\n",
       "      <td>0.016</td>\n",
       "    </tr>\n",
       "    <tr>\n",
       "      <th>2</th>\n",
       "      <td>FF</td>\n",
       "      <td>2021-07-18</td>\n",
       "      <td>90.9</td>\n",
       "      <td>2.16</td>\n",
       "      <td>5.77</td>\n",
       "      <td>Ryu, Hyun Jin</td>\n",
       "      <td>642201</td>\n",
       "      <td>547943</td>\n",
       "      <td>field_out</td>\n",
       "      <td>hit_into_play</td>\n",
       "      <td>...</td>\n",
       "      <td>5</td>\n",
       "      <td>0</td>\n",
       "      <td>5</td>\n",
       "      <td>0</td>\n",
       "      <td>5</td>\n",
       "      <td>Standard</td>\n",
       "      <td>Standard</td>\n",
       "      <td>131</td>\n",
       "      <td>0.002</td>\n",
       "      <td>-0.099</td>\n",
       "    </tr>\n",
       "    <tr>\n",
       "      <th>3</th>\n",
       "      <td>CH</td>\n",
       "      <td>2021-07-18</td>\n",
       "      <td>82.7</td>\n",
       "      <td>2.36</td>\n",
       "      <td>5.75</td>\n",
       "      <td>Ryu, Hyun Jin</td>\n",
       "      <td>642201</td>\n",
       "      <td>547943</td>\n",
       "      <td>NaN</td>\n",
       "      <td>foul</td>\n",
       "      <td>...</td>\n",
       "      <td>5</td>\n",
       "      <td>0</td>\n",
       "      <td>5</td>\n",
       "      <td>0</td>\n",
       "      <td>5</td>\n",
       "      <td>Standard</td>\n",
       "      <td>Standard</td>\n",
       "      <td>116</td>\n",
       "      <td>0.000</td>\n",
       "      <td>-0.034</td>\n",
       "    </tr>\n",
       "    <tr>\n",
       "      <th>4</th>\n",
       "      <td>FC</td>\n",
       "      <td>2021-07-18</td>\n",
       "      <td>86.9</td>\n",
       "      <td>2.22</td>\n",
       "      <td>5.90</td>\n",
       "      <td>Ryu, Hyun Jin</td>\n",
       "      <td>642201</td>\n",
       "      <td>547943</td>\n",
       "      <td>NaN</td>\n",
       "      <td>foul</td>\n",
       "      <td>...</td>\n",
       "      <td>5</td>\n",
       "      <td>0</td>\n",
       "      <td>5</td>\n",
       "      <td>0</td>\n",
       "      <td>5</td>\n",
       "      <td>Standard</td>\n",
       "      <td>Standard</td>\n",
       "      <td>148</td>\n",
       "      <td>0.000</td>\n",
       "      <td>-0.027</td>\n",
       "    </tr>\n",
       "  </tbody>\n",
       "</table>\n",
       "<p>5 rows × 92 columns</p>\n",
       "</div>"
      ],
      "text/plain": [
       "  pitch_type   game_date  release_speed  release_pos_x  release_pos_z  \\\n",
       "0         FC  2021-07-18           86.7           2.23           5.82   \n",
       "1         FF  2021-07-18           91.0           2.07           5.73   \n",
       "2         FF  2021-07-18           90.9           2.16           5.77   \n",
       "3         CH  2021-07-18           82.7           2.36           5.75   \n",
       "4         FC  2021-07-18           86.9           2.22           5.90   \n",
       "\n",
       "     player_name  batter  pitcher     events    description  ...  fld_score  \\\n",
       "0  Ryu, Hyun Jin  621311   547943  field_out  hit_into_play  ...          5   \n",
       "1  Ryu, Hyun Jin  621311   547943        NaN           ball  ...          5   \n",
       "2  Ryu, Hyun Jin  642201   547943  field_out  hit_into_play  ...          5   \n",
       "3  Ryu, Hyun Jin  642201   547943        NaN           foul  ...          5   \n",
       "4  Ryu, Hyun Jin  642201   547943        NaN           foul  ...          5   \n",
       "\n",
       "   post_away_score  post_home_score  post_bat_score  post_fld_score  \\\n",
       "0                0                5               0               5   \n",
       "1                0                5               0               5   \n",
       "2                0                5               0               5   \n",
       "3                0                5               0               5   \n",
       "4                0                5               0               5   \n",
       "\n",
       "  if_fielding_alignment of_fielding_alignment spin_axis delta_home_win_exp  \\\n",
       "0              Standard              Standard       153              0.000   \n",
       "1              Standard              Standard       130              0.000   \n",
       "2              Standard              Standard       131              0.002   \n",
       "3              Standard              Standard       116              0.000   \n",
       "4              Standard              Standard       148              0.000   \n",
       "\n",
       "  delta_run_exp  \n",
       "0        -0.120  \n",
       "1         0.016  \n",
       "2        -0.099  \n",
       "3        -0.034  \n",
       "4        -0.027  \n",
       "\n",
       "[5 rows x 92 columns]"
      ]
     },
     "execution_count": 3,
     "metadata": {},
     "output_type": "execute_result"
    }
   ],
   "source": [
    "ryu_stats = statcast_pitcher('2021-07-01', '2021-07-20', 547943)\n",
    "ryu_stats.head(5)"
   ]
  },
  {
   "cell_type": "code",
   "execution_count": 4,
   "metadata": {},
   "outputs": [
    {
     "data": {
      "text/plain": [
       "Index(['pitch_type', 'game_date', 'release_speed', 'release_pos_x',\n",
       "       'release_pos_z', 'player_name', 'batter', 'pitcher', 'events',\n",
       "       'description', 'spin_dir', 'spin_rate_deprecated',\n",
       "       'break_angle_deprecated', 'break_length_deprecated', 'zone', 'des',\n",
       "       'game_type', 'stand', 'p_throws', 'home_team', 'away_team', 'type',\n",
       "       'hit_location', 'bb_type', 'balls', 'strikes', 'game_year', 'pfx_x',\n",
       "       'pfx_z', 'plate_x', 'plate_z', 'on_3b', 'on_2b', 'on_1b',\n",
       "       'outs_when_up', 'inning', 'inning_topbot', 'hc_x', 'hc_y',\n",
       "       'tfs_deprecated', 'tfs_zulu_deprecated', 'fielder_2', 'umpire', 'sv_id',\n",
       "       'vx0', 'vy0', 'vz0', 'ax', 'ay', 'az', 'sz_top', 'sz_bot',\n",
       "       'hit_distance_sc', 'launch_speed', 'launch_angle', 'effective_speed',\n",
       "       'release_spin_rate', 'release_extension', 'game_pk', 'pitcher.1',\n",
       "       'fielder_2.1', 'fielder_3', 'fielder_4', 'fielder_5', 'fielder_6',\n",
       "       'fielder_7', 'fielder_8', 'fielder_9', 'release_pos_y',\n",
       "       'estimated_ba_using_speedangle', 'estimated_woba_using_speedangle',\n",
       "       'woba_value', 'woba_denom', 'babip_value', 'iso_value',\n",
       "       'launch_speed_angle', 'at_bat_number', 'pitch_number', 'pitch_name',\n",
       "       'home_score', 'away_score', 'bat_score', 'fld_score', 'post_away_score',\n",
       "       'post_home_score', 'post_bat_score', 'post_fld_score',\n",
       "       'if_fielding_alignment', 'of_fielding_alignment', 'spin_axis',\n",
       "       'delta_home_win_exp', 'delta_run_exp'],\n",
       "      dtype='object')"
      ]
     },
     "execution_count": 4,
     "metadata": {},
     "output_type": "execute_result"
    }
   ],
   "source": [
    "ryu_stats.columns"
   ]
  },
  {
   "cell_type": "code",
   "execution_count": 5,
   "metadata": {
    "id": "gJJs8bPhljTb"
   },
   "outputs": [],
   "source": [
    "result=ryu_stats[['pitch_type','game_date','release_speed','release_pos_x','release_pos_z','release_spin_rate','release_extension','spin_axis']]"
   ]
  },
  {
   "cell_type": "code",
   "execution_count": 6,
   "metadata": {
    "id": "iGOD7sV1l_cM"
   },
   "outputs": [],
   "source": [
    "import pandas as pd"
   ]
  },
  {
   "cell_type": "code",
   "execution_count": 7,
   "metadata": {
    "id": "3CBNIyxRmflE"
   },
   "outputs": [
    {
     "data": {
      "text/html": [
       "<div>\n",
       "<style scoped>\n",
       "    .dataframe tbody tr th:only-of-type {\n",
       "        vertical-align: middle;\n",
       "    }\n",
       "\n",
       "    .dataframe tbody tr th {\n",
       "        vertical-align: top;\n",
       "    }\n",
       "\n",
       "    .dataframe thead th {\n",
       "        text-align: right;\n",
       "    }\n",
       "</style>\n",
       "<table border=\"1\" class=\"dataframe\">\n",
       "  <thead>\n",
       "    <tr style=\"text-align: right;\">\n",
       "      <th></th>\n",
       "      <th>pitch_type</th>\n",
       "      <th>game_date</th>\n",
       "      <th>release_speed</th>\n",
       "      <th>release_pos_x</th>\n",
       "      <th>release_pos_z</th>\n",
       "      <th>release_spin_rate</th>\n",
       "      <th>release_extension</th>\n",
       "      <th>spin_axis</th>\n",
       "    </tr>\n",
       "  </thead>\n",
       "  <tbody>\n",
       "    <tr>\n",
       "      <th>0</th>\n",
       "      <td>FC</td>\n",
       "      <td>2021-07-18</td>\n",
       "      <td>86.7</td>\n",
       "      <td>2.23</td>\n",
       "      <td>5.82</td>\n",
       "      <td>2096</td>\n",
       "      <td>6.4</td>\n",
       "      <td>153</td>\n",
       "    </tr>\n",
       "    <tr>\n",
       "      <th>1</th>\n",
       "      <td>FF</td>\n",
       "      <td>2021-07-18</td>\n",
       "      <td>91.0</td>\n",
       "      <td>2.07</td>\n",
       "      <td>5.73</td>\n",
       "      <td>2066</td>\n",
       "      <td>6.4</td>\n",
       "      <td>130</td>\n",
       "    </tr>\n",
       "    <tr>\n",
       "      <th>2</th>\n",
       "      <td>FF</td>\n",
       "      <td>2021-07-18</td>\n",
       "      <td>90.9</td>\n",
       "      <td>2.16</td>\n",
       "      <td>5.77</td>\n",
       "      <td>1940</td>\n",
       "      <td>6.4</td>\n",
       "      <td>131</td>\n",
       "    </tr>\n",
       "    <tr>\n",
       "      <th>3</th>\n",
       "      <td>CH</td>\n",
       "      <td>2021-07-18</td>\n",
       "      <td>82.7</td>\n",
       "      <td>2.36</td>\n",
       "      <td>5.75</td>\n",
       "      <td>1545</td>\n",
       "      <td>6.4</td>\n",
       "      <td>116</td>\n",
       "    </tr>\n",
       "    <tr>\n",
       "      <th>4</th>\n",
       "      <td>FC</td>\n",
       "      <td>2021-07-18</td>\n",
       "      <td>86.9</td>\n",
       "      <td>2.22</td>\n",
       "      <td>5.90</td>\n",
       "      <td>1992</td>\n",
       "      <td>6.3</td>\n",
       "      <td>148</td>\n",
       "    </tr>\n",
       "    <tr>\n",
       "      <th>...</th>\n",
       "      <td>...</td>\n",
       "      <td>...</td>\n",
       "      <td>...</td>\n",
       "      <td>...</td>\n",
       "      <td>...</td>\n",
       "      <td>...</td>\n",
       "      <td>...</td>\n",
       "      <td>...</td>\n",
       "    </tr>\n",
       "    <tr>\n",
       "      <th>249</th>\n",
       "      <td>CH</td>\n",
       "      <td>2021-07-01</td>\n",
       "      <td>80.8</td>\n",
       "      <td>2.60</td>\n",
       "      <td>5.84</td>\n",
       "      <td>1707</td>\n",
       "      <td>6.4</td>\n",
       "      <td>116</td>\n",
       "    </tr>\n",
       "    <tr>\n",
       "      <th>250</th>\n",
       "      <td>FC</td>\n",
       "      <td>2021-07-01</td>\n",
       "      <td>85.9</td>\n",
       "      <td>2.45</td>\n",
       "      <td>5.98</td>\n",
       "      <td>2005</td>\n",
       "      <td>6.4</td>\n",
       "      <td>139</td>\n",
       "    </tr>\n",
       "    <tr>\n",
       "      <th>251</th>\n",
       "      <td>CU</td>\n",
       "      <td>2021-07-01</td>\n",
       "      <td>73.7</td>\n",
       "      <td>2.46</td>\n",
       "      <td>6.13</td>\n",
       "      <td>2458</td>\n",
       "      <td>6.1</td>\n",
       "      <td>322</td>\n",
       "    </tr>\n",
       "    <tr>\n",
       "      <th>252</th>\n",
       "      <td>CU</td>\n",
       "      <td>2021-07-01</td>\n",
       "      <td>73.6</td>\n",
       "      <td>2.17</td>\n",
       "      <td>6.23</td>\n",
       "      <td>2500</td>\n",
       "      <td>5.9</td>\n",
       "      <td>322</td>\n",
       "    </tr>\n",
       "    <tr>\n",
       "      <th>253</th>\n",
       "      <td>FF</td>\n",
       "      <td>2021-07-01</td>\n",
       "      <td>88.4</td>\n",
       "      <td>2.27</td>\n",
       "      <td>6.12</td>\n",
       "      <td>1733</td>\n",
       "      <td>6.1</td>\n",
       "      <td>131</td>\n",
       "    </tr>\n",
       "  </tbody>\n",
       "</table>\n",
       "<p>254 rows × 8 columns</p>\n",
       "</div>"
      ],
      "text/plain": [
       "    pitch_type   game_date  release_speed  release_pos_x  release_pos_z  \\\n",
       "0           FC  2021-07-18           86.7           2.23           5.82   \n",
       "1           FF  2021-07-18           91.0           2.07           5.73   \n",
       "2           FF  2021-07-18           90.9           2.16           5.77   \n",
       "3           CH  2021-07-18           82.7           2.36           5.75   \n",
       "4           FC  2021-07-18           86.9           2.22           5.90   \n",
       "..         ...         ...            ...            ...            ...   \n",
       "249         CH  2021-07-01           80.8           2.60           5.84   \n",
       "250         FC  2021-07-01           85.9           2.45           5.98   \n",
       "251         CU  2021-07-01           73.7           2.46           6.13   \n",
       "252         CU  2021-07-01           73.6           2.17           6.23   \n",
       "253         FF  2021-07-01           88.4           2.27           6.12   \n",
       "\n",
       "     release_spin_rate  release_extension  spin_axis  \n",
       "0                 2096                6.4        153  \n",
       "1                 2066                6.4        130  \n",
       "2                 1940                6.4        131  \n",
       "3                 1545                6.4        116  \n",
       "4                 1992                6.3        148  \n",
       "..                 ...                ...        ...  \n",
       "249               1707                6.4        116  \n",
       "250               2005                6.4        139  \n",
       "251               2458                6.1        322  \n",
       "252               2500                5.9        322  \n",
       "253               1733                6.1        131  \n",
       "\n",
       "[254 rows x 8 columns]"
      ]
     },
     "execution_count": 7,
     "metadata": {},
     "output_type": "execute_result"
    }
   ],
   "source": [
    "pd.DataFrame(result)"
   ]
  },
  {
   "cell_type": "code",
   "execution_count": 8,
   "metadata": {
    "id": "-ttfMFlp4_AT",
    "tags": []
   },
   "outputs": [
    {
     "data": {
      "text/html": [
       "<div>\n",
       "<style scoped>\n",
       "    .dataframe tbody tr th:only-of-type {\n",
       "        vertical-align: middle;\n",
       "    }\n",
       "\n",
       "    .dataframe tbody tr th {\n",
       "        vertical-align: top;\n",
       "    }\n",
       "\n",
       "    .dataframe thead th {\n",
       "        text-align: right;\n",
       "    }\n",
       "</style>\n",
       "<table border=\"1\" class=\"dataframe\">\n",
       "  <thead>\n",
       "    <tr style=\"text-align: right;\">\n",
       "      <th></th>\n",
       "      <th></th>\n",
       "      <th>release_speed</th>\n",
       "      <th>pitch_type</th>\n",
       "      <th>release_pos_x</th>\n",
       "      <th>release_pos_z</th>\n",
       "      <th>release_spin_rate</th>\n",
       "      <th>release_extension</th>\n",
       "      <th>spin_axis</th>\n",
       "    </tr>\n",
       "    <tr>\n",
       "      <th>game_date</th>\n",
       "      <th>pitch_type</th>\n",
       "      <th></th>\n",
       "      <th></th>\n",
       "      <th></th>\n",
       "      <th></th>\n",
       "      <th></th>\n",
       "      <th></th>\n",
       "      <th></th>\n",
       "    </tr>\n",
       "  </thead>\n",
       "  <tbody>\n",
       "    <tr>\n",
       "      <th rowspan=\"4\" valign=\"top\">2021-07-01</th>\n",
       "      <th>CH</th>\n",
       "      <td>80.06</td>\n",
       "      <td>12</td>\n",
       "      <td>2.42</td>\n",
       "      <td>5.75</td>\n",
       "      <td>1572.25</td>\n",
       "      <td>6.50</td>\n",
       "      <td>118.33</td>\n",
       "    </tr>\n",
       "    <tr>\n",
       "      <th>CU</th>\n",
       "      <td>74.16</td>\n",
       "      <td>9</td>\n",
       "      <td>2.17</td>\n",
       "      <td>6.09</td>\n",
       "      <td>2481.22</td>\n",
       "      <td>6.18</td>\n",
       "      <td>322.11</td>\n",
       "    </tr>\n",
       "    <tr>\n",
       "      <th>FC</th>\n",
       "      <td>85.38</td>\n",
       "      <td>24</td>\n",
       "      <td>2.30</td>\n",
       "      <td>5.86</td>\n",
       "      <td>2011.71</td>\n",
       "      <td>6.38</td>\n",
       "      <td>149.08</td>\n",
       "    </tr>\n",
       "    <tr>\n",
       "      <th>FF</th>\n",
       "      <td>90.00</td>\n",
       "      <td>40</td>\n",
       "      <td>2.18</td>\n",
       "      <td>5.84</td>\n",
       "      <td>2011.72</td>\n",
       "      <td>6.43</td>\n",
       "      <td>133.80</td>\n",
       "    </tr>\n",
       "    <tr>\n",
       "      <th rowspan=\"5\" valign=\"top\">2021-07-07</th>\n",
       "      <th>CH</th>\n",
       "      <td>81.21</td>\n",
       "      <td>18</td>\n",
       "      <td>2.38</td>\n",
       "      <td>5.83</td>\n",
       "      <td>1540.89</td>\n",
       "      <td>6.69</td>\n",
       "      <td>119.50</td>\n",
       "    </tr>\n",
       "    <tr>\n",
       "      <th>CU</th>\n",
       "      <td>73.77</td>\n",
       "      <td>8</td>\n",
       "      <td>2.09</td>\n",
       "      <td>6.08</td>\n",
       "      <td>2492.88</td>\n",
       "      <td>6.52</td>\n",
       "      <td>321.75</td>\n",
       "    </tr>\n",
       "    <tr>\n",
       "      <th>FC</th>\n",
       "      <td>86.31</td>\n",
       "      <td>16</td>\n",
       "      <td>2.29</td>\n",
       "      <td>5.89</td>\n",
       "      <td>2028.88</td>\n",
       "      <td>6.51</td>\n",
       "      <td>182.19</td>\n",
       "    </tr>\n",
       "    <tr>\n",
       "      <th>FF</th>\n",
       "      <td>90.54</td>\n",
       "      <td>42</td>\n",
       "      <td>2.22</td>\n",
       "      <td>5.90</td>\n",
       "      <td>1927.52</td>\n",
       "      <td>6.64</td>\n",
       "      <td>135.90</td>\n",
       "    </tr>\n",
       "    <tr>\n",
       "      <th>SI</th>\n",
       "      <td>83.95</td>\n",
       "      <td>2</td>\n",
       "      <td>2.48</td>\n",
       "      <td>5.69</td>\n",
       "      <td>1656.00</td>\n",
       "      <td>6.80</td>\n",
       "      <td>116.50</td>\n",
       "    </tr>\n",
       "    <tr>\n",
       "      <th rowspan=\"4\" valign=\"top\">2021-07-18</th>\n",
       "      <th>CH</th>\n",
       "      <td>82.95</td>\n",
       "      <td>24</td>\n",
       "      <td>2.30</td>\n",
       "      <td>5.73</td>\n",
       "      <td>1569.62</td>\n",
       "      <td>6.45</td>\n",
       "      <td>115.21</td>\n",
       "    </tr>\n",
       "    <tr>\n",
       "      <th>CU</th>\n",
       "      <td>74.75</td>\n",
       "      <td>6</td>\n",
       "      <td>2.04</td>\n",
       "      <td>6.03</td>\n",
       "      <td>2501.50</td>\n",
       "      <td>6.12</td>\n",
       "      <td>319.50</td>\n",
       "    </tr>\n",
       "    <tr>\n",
       "      <th>FC</th>\n",
       "      <td>87.25</td>\n",
       "      <td>23</td>\n",
       "      <td>2.20</td>\n",
       "      <td>5.86</td>\n",
       "      <td>1982.61</td>\n",
       "      <td>6.29</td>\n",
       "      <td>151.39</td>\n",
       "    </tr>\n",
       "    <tr>\n",
       "      <th>FF</th>\n",
       "      <td>90.84</td>\n",
       "      <td>30</td>\n",
       "      <td>2.13</td>\n",
       "      <td>5.85</td>\n",
       "      <td>1944.30</td>\n",
       "      <td>6.36</td>\n",
       "      <td>132.07</td>\n",
       "    </tr>\n",
       "  </tbody>\n",
       "</table>\n",
       "</div>"
      ],
      "text/plain": [
       "                       release_speed  pitch_type  release_pos_x  \\\n",
       "game_date  pitch_type                                             \n",
       "2021-07-01 CH                  80.06          12           2.42   \n",
       "           CU                  74.16           9           2.17   \n",
       "           FC                  85.38          24           2.30   \n",
       "           FF                  90.00          40           2.18   \n",
       "2021-07-07 CH                  81.21          18           2.38   \n",
       "           CU                  73.77           8           2.09   \n",
       "           FC                  86.31          16           2.29   \n",
       "           FF                  90.54          42           2.22   \n",
       "           SI                  83.95           2           2.48   \n",
       "2021-07-18 CH                  82.95          24           2.30   \n",
       "           CU                  74.75           6           2.04   \n",
       "           FC                  87.25          23           2.20   \n",
       "           FF                  90.84          30           2.13   \n",
       "\n",
       "                       release_pos_z  release_spin_rate  release_extension  \\\n",
       "game_date  pitch_type                                                        \n",
       "2021-07-01 CH                   5.75            1572.25               6.50   \n",
       "           CU                   6.09            2481.22               6.18   \n",
       "           FC                   5.86            2011.71               6.38   \n",
       "           FF                   5.84            2011.72               6.43   \n",
       "2021-07-07 CH                   5.83            1540.89               6.69   \n",
       "           CU                   6.08            2492.88               6.52   \n",
       "           FC                   5.89            2028.88               6.51   \n",
       "           FF                   5.90            1927.52               6.64   \n",
       "           SI                   5.69            1656.00               6.80   \n",
       "2021-07-18 CH                   5.73            1569.62               6.45   \n",
       "           CU                   6.03            2501.50               6.12   \n",
       "           FC                   5.86            1982.61               6.29   \n",
       "           FF                   5.85            1944.30               6.36   \n",
       "\n",
       "                       spin_axis  \n",
       "game_date  pitch_type             \n",
       "2021-07-01 CH             118.33  \n",
       "           CU             322.11  \n",
       "           FC             149.08  \n",
       "           FF             133.80  \n",
       "2021-07-07 CH             119.50  \n",
       "           CU             321.75  \n",
       "           FC             182.19  \n",
       "           FF             135.90  \n",
       "           SI             116.50  \n",
       "2021-07-18 CH             115.21  \n",
       "           CU             319.50  \n",
       "           FC             151.39  \n",
       "           FF             132.07  "
      ]
     },
     "execution_count": 8,
     "metadata": {},
     "output_type": "execute_result"
    }
   ],
   "source": [
    "import numpy as np\n",
    "df=result.groupby(['game_date','pitch_type']).agg({'release_speed':np.mean,'pitch_type':np.size,'release_pos_x':np.mean,'release_pos_z':np.mean,'release_spin_rate':np.mean,'release_extension':np.mean,'spin_axis':np.mean})\n",
    "df.round(2)"
   ]
  },
  {
   "cell_type": "code",
   "execution_count": 9,
   "metadata": {},
   "outputs": [],
   "source": [
    "loc1=result[(result['pitch_type']=='FF') & (result['game_date']=='2021-07-18')]\n",
    "loc2=result[(result['pitch_type']=='FC') & (result['game_date']=='2021-07-18')]\n",
    "loc3=result[(result['pitch_type']=='CU') & (result['game_date']=='2021-07-18')]\n",
    "loc4=result[(result['pitch_type']=='CH') & (result['game_date']=='2021-07-18')]"
   ]
  },
  {
   "cell_type": "code",
   "execution_count": 10,
   "metadata": {},
   "outputs": [
    {
     "data": {
      "image/png": "[encoded data removed]",
      "text/plain": [
       "<Figure size 432x288 with 1 Axes>"
      ]
     },
     "metadata": {
      "needs_background": "light"
     },
     "output_type": "display_data"
    }
   ],
   "source": [
    "import matplotlib.pyplot as plt\n",
    "\n",
    "plt.scatter(loc1.release_pos_x,loc1.release_pos_z,color='red',alpha=0.5)\n",
    "plt.scatter(loc2.release_pos_x,loc2.release_pos_z,color='violet',alpha=0.5)\n",
    "plt.scatter(loc3.release_pos_x,loc3.release_pos_z,color='blue',alpha=0.5)\n",
    "plt.scatter(loc4.release_pos_x,loc4.release_pos_z,color='yellow',alpha=0.5)\n",
    "plt.axis([0, 3, 0, 7])\n",
    "plt.legend(['FF','FC','CU','CH'],loc=4)\n",
    "plt.title('July 19th Release point')\n",
    "\n",
    "plt.savefig('pitchs')\n",
    "plt.show()\n"
   ]
  },
  {
   "cell_type": "code",
   "execution_count": 11,
   "metadata": {},
   "outputs": [
    {
     "data": {
      "image/png": "[encoded data removed]",
      "text/plain": [
       "<Figure size 432x288 with 1 Axes>"
      ]
     },
     "metadata": {
      "needs_background": "light"
     },
     "output_type": "display_data"
    }
   ],
   "source": [
    "loc1=result[(result['pitch_type']=='FF') & (result['game_date']=='2021-07-01')]\n",
    "loc2=result[(result['pitch_type']=='FC') & (result['game_date']=='2021-07-01')]\n",
    "loc3=result[(result['pitch_type']=='CU') & (result['game_date']=='2021-07-01')]\n",
    "loc4=result[(result['pitch_type']=='CH') & (result['game_date']=='2021-07-01')]\n",
    "\n",
    "plt.scatter(loc1.release_pos_x,loc1.release_pos_z,color='red')\n",
    "plt.scatter(loc2.release_pos_x,loc2.release_pos_z,color='violet')\n",
    "plt.scatter(loc3.release_pos_x,loc3.release_pos_z,color='blue')\n",
    "plt.scatter(loc4.release_pos_x,loc4.release_pos_z,color='yellow')\n",
    "plt.axis([0, 3, 0, 7])\n",
    "plt.legend(['FF','FC','CU','CH'],loc=4)\n",
    "plt.title('July 1st Release point')\n",
    "\n",
    "plt.savefig('pitchs1')\n",
    "plt.show()"
   ]
  },
  {
   "cell_type": "markdown",
   "metadata": {},
   "source": [
    "## 투구 위치"
   ]
  },
  {
   "cell_type": "code",
   "execution_count": 12,
   "metadata": {},
   "outputs": [],
   "source": [
    "target=ryu_stats[['game_date','pitch_type','plate_x', 'plate_z']]"
   ]
  },
  {
   "cell_type": "code",
   "execution_count": 13,
   "metadata": {},
   "outputs": [],
   "source": [
    "target_FF=target[(target['game_date']=='2021-07-18') & (target['pitch_type']=='FF')]\n",
    "target_FC=target[(target['game_date']=='2021-07-18') & (target['pitch_type']=='FC')]\n",
    "target_CH=target[(target['game_date']=='2021-07-18') & (target['pitch_type']=='CH')]\n",
    "target_CU=target[(target['game_date']=='2021-07-18') & (target['pitch_type']=='CU')]"
   ]
  },
  {
   "cell_type": "code",
   "execution_count": 14,
   "metadata": {},
   "outputs": [
    {
     "data": {
      "image/png": "[encoded data removed]",
      "text/plain": [
       "<Figure size 432x288 with 1 Axes>"
      ]
     },
     "metadata": {
      "needs_background": "light"
     },
     "output_type": "display_data"
    }
   ],
   "source": [
    "fig,ax = plt.subplots()\n",
    "plt.scatter(target_FF.plate_x,target_FF.plate_z,color='red')\n",
    "plt.scatter(target_FC.plate_x,target_FC.plate_z,color='chocolate')\n",
    "plt.scatter(target_CH.plate_x,target_CH.plate_z,color='green')\n",
    "plt.scatter(target_CU.plate_x,target_CU.plate_z,color='deepskyblue')\n",
    "import matplotlib.patches as patches\n",
    "ax.add_patch(\n",
    "    patches.Rectangle((-0.7, 1.6),1.4,1.9,edgecolor = 'blue',fill=False)\n",
    ")\n",
    "plt.legend(['','FF','FC','CH','CU'],loc=4)\n",
    "plt.axis([-5, 5, -2, 5])\n",
    "plt.title('Location of All pitching at July 19,21')\n",
    "plt.show()"
   ]
  },
  {
   "cell_type": "markdown",
   "metadata": {},
   "source": [
    "## 3D 모션"
   ]
  },
  {
   "cell_type": "code",
   "execution_count": 15,
   "metadata": {},
   "outputs": [],
   "source": [
    "result=ryu_stats[['game_date','pitch_type','release_pos_x','release_pos_y', 'release_pos_z']]"
   ]
  },
  {
   "cell_type": "code",
   "execution_count": 16,
   "metadata": {},
   "outputs": [],
   "source": [
    "loc1=result[(result['pitch_type']=='FF') & (result['game_date']=='2021-07-18')]\n",
    "loc2=result[(result['pitch_type']=='FC') & (result['game_date']=='2021-07-18')]\n",
    "loc3=result[(result['pitch_type']=='CH') & (result['game_date']=='2021-07-18')]\n",
    "loc4=result[(result['pitch_type']=='CU') & (result['game_date']=='2021-07-18')]"
   ]
  },
  {
   "cell_type": "code",
   "execution_count": 20,
   "metadata": {},
   "outputs": [
    {
     "data": {
      "image/png": "[encoded data removed]",
      "text/plain": [
       "<Figure size 432x432 with 1 Axes>"
      ]
     },
     "metadata": {
      "needs_background": "light"
     },
     "output_type": "display_data"
    }
   ],
   "source": [
    "fig = plt.figure(figsize=(6, 6))\n",
    "ax = fig.add_subplot(111, projection='3d')\n",
    "ax.scatter(loc1.release_pos_x,loc1.release_pos_y,loc1.release_pos_z,color='red')\n",
    "ax.scatter(loc2.release_pos_x,loc2.release_pos_y,loc2.release_pos_z,color='chocolate')\n",
    "ax.scatter(loc3.release_pos_x,loc3.release_pos_y,loc3.release_pos_z,color='green')\n",
    "ax.scatter(loc4.release_pos_x,loc4.release_pos_y,loc4.release_pos_z,color='deepskyblue')\n",
    "\n",
    "ax.legend(['FF','FC','CH','CU'],loc=4)\n",
    "ax.set_xlim(0,3)\n",
    "ax.set_ylim(51,57)\n",
    "ax.set_zlim(0,7)\n",
    "\n",
    "ax.view_init(30,0)\n",
    "plt.show()"
   ]
  },
  {
   "cell_type": "markdown",
   "metadata": {},
   "source": [
    "## 직구 회전축과 회전수의 관계"
   ]
  },
  {
   "cell_type": "code",
   "execution_count": 21,
   "metadata": {},
   "outputs": [
    {
     "name": "stdout",
     "output_type": "stream",
     "text": [
      "This is a large query, it may take a moment to complete\n"
     ]
    },
    {
     "name": "stderr",
     "output_type": "stream",
     "text": [
      "C:\\Users\\SEC\\anaconda3\\lib\\site-packages\\pybaseball\\statcast.py:50: UserWarning: \n",
      "That's a nice request you got there. It'd be a shame if something were to happen to it.\n",
      "We strongly recommend that you enable caching before running this. It's as simple as `pybaseball.cache.enable()`.\n",
      "Since the Statcast requests can take a *really* long time to run, if something were to happen, like: a disconnect;\n",
      "gremlins; computer repair by associates of Rudy Giuliani; electromagnetic interference from metal trash cans; etc.;\n",
      "you could lose a lot of progress. Enabling caching will allow you to immediately recover all the successful\n",
      "subqueries if that happens.\n",
      "  warnings.warn(_OVERSIZE_WARNING)\n",
      "100%|████████████████████████████████████████████████████████████████████████████████| 113/113 [03:36<00:00,  1.91s/it]\n"
     ]
    },
    {
     "data": {
      "text/html": [
       "<div>\n",
       "<style scoped>\n",
       "    .dataframe tbody tr th:only-of-type {\n",
       "        vertical-align: middle;\n",
       "    }\n",
       "\n",
       "    .dataframe tbody tr th {\n",
       "        vertical-align: top;\n",
       "    }\n",
       "\n",
       "    .dataframe thead th {\n",
       "        text-align: right;\n",
       "    }\n",
       "</style>\n",
       "<table border=\"1\" class=\"dataframe\">\n",
       "  <thead>\n",
       "    <tr style=\"text-align: right;\">\n",
       "      <th></th>\n",
       "      <th>pitch_type</th>\n",
       "      <th>game_date</th>\n",
       "      <th>release_speed</th>\n",
       "      <th>release_pos_x</th>\n",
       "      <th>release_pos_z</th>\n",
       "      <th>player_name</th>\n",
       "      <th>batter</th>\n",
       "      <th>pitcher</th>\n",
       "      <th>events</th>\n",
       "      <th>description</th>\n",
       "      <th>...</th>\n",
       "      <th>fld_score</th>\n",
       "      <th>post_away_score</th>\n",
       "      <th>post_home_score</th>\n",
       "      <th>post_bat_score</th>\n",
       "      <th>post_fld_score</th>\n",
       "      <th>if_fielding_alignment</th>\n",
       "      <th>of_fielding_alignment</th>\n",
       "      <th>spin_axis</th>\n",
       "      <th>delta_home_win_exp</th>\n",
       "      <th>delta_run_exp</th>\n",
       "    </tr>\n",
       "  </thead>\n",
       "  <tbody>\n",
       "    <tr>\n",
       "      <th>1927</th>\n",
       "      <td>SL</td>\n",
       "      <td>2021-07-20</td>\n",
       "      <td>89.1</td>\n",
       "      <td>-1.8</td>\n",
       "      <td>5.7</td>\n",
       "      <td>Hendriks, Liam</td>\n",
       "      <td>518626</td>\n",
       "      <td>521230</td>\n",
       "      <td>field_out</td>\n",
       "      <td>hit_into_play</td>\n",
       "      <td>...</td>\n",
       "      <td>9</td>\n",
       "      <td>5</td>\n",
       "      <td>9</td>\n",
       "      <td>5</td>\n",
       "      <td>9</td>\n",
       "      <td>Strategic</td>\n",
       "      <td>Standard</td>\n",
       "      <td>117</td>\n",
       "      <td>0.003</td>\n",
       "      <td>-0.149</td>\n",
       "    </tr>\n",
       "    <tr>\n",
       "      <th>2030</th>\n",
       "      <td>FF</td>\n",
       "      <td>2021-07-20</td>\n",
       "      <td>99.5</td>\n",
       "      <td>-1.68</td>\n",
       "      <td>5.77</td>\n",
       "      <td>Hendriks, Liam</td>\n",
       "      <td>518626</td>\n",
       "      <td>521230</td>\n",
       "      <td>NaN</td>\n",
       "      <td>foul</td>\n",
       "      <td>...</td>\n",
       "      <td>9</td>\n",
       "      <td>5</td>\n",
       "      <td>9</td>\n",
       "      <td>5</td>\n",
       "      <td>9</td>\n",
       "      <td>Strategic</td>\n",
       "      <td>Standard</td>\n",
       "      <td>203</td>\n",
       "      <td>0.0</td>\n",
       "      <td>0.0</td>\n",
       "    </tr>\n",
       "  </tbody>\n",
       "</table>\n",
       "<p>2 rows × 92 columns</p>\n",
       "</div>"
      ],
      "text/plain": [
       "     pitch_type  game_date  release_speed  release_pos_x  release_pos_z  \\\n",
       "1927         SL 2021-07-20           89.1           -1.8            5.7   \n",
       "2030         FF 2021-07-20           99.5          -1.68           5.77   \n",
       "\n",
       "         player_name  batter  pitcher     events    description  ...  \\\n",
       "1927  Hendriks, Liam  518626   521230  field_out  hit_into_play  ...   \n",
       "2030  Hendriks, Liam  518626   521230        NaN           foul  ...   \n",
       "\n",
       "      fld_score  post_away_score  post_home_score  post_bat_score  \\\n",
       "1927          9                5                9               5   \n",
       "2030          9                5                9               5   \n",
       "\n",
       "      post_fld_score if_fielding_alignment of_fielding_alignment spin_axis  \\\n",
       "1927               9             Strategic              Standard       117   \n",
       "2030               9             Strategic              Standard       203   \n",
       "\n",
       "     delta_home_win_exp delta_run_exp  \n",
       "1927              0.003        -0.149  \n",
       "2030                0.0           0.0  \n",
       "\n",
       "[2 rows x 92 columns]"
      ]
     },
     "execution_count": 21,
     "metadata": {},
     "output_type": "execute_result"
    }
   ],
   "source": [
    "from pybaseball import statcast\n",
    "data = statcast(start_dt='2021-04-01', end_dt='2021-07-22')\n",
    "data.head(2)\n",
    "\n"
   ]
  },
  {
   "cell_type": "code",
   "execution_count": 22,
   "metadata": {},
   "outputs": [
    {
     "data": {
      "text/plain": [
       "Index(['pitch_type', 'game_date', 'release_speed', 'release_pos_x',\n",
       "       'release_pos_z', 'player_name', 'batter', 'pitcher', 'events',\n",
       "       'description', 'spin_dir', 'spin_rate_deprecated',\n",
       "       'break_angle_deprecated', 'break_length_deprecated', 'zone', 'des',\n",
       "       'game_type', 'stand', 'p_throws', 'home_team', 'away_team', 'type',\n",
       "       'hit_location', 'bb_type', 'balls', 'strikes', 'game_year', 'pfx_x',\n",
       "       'pfx_z', 'plate_x', 'plate_z', 'on_3b', 'on_2b', 'on_1b',\n",
       "       'outs_when_up', 'inning', 'inning_topbot', 'hc_x', 'hc_y',\n",
       "       'tfs_deprecated', 'tfs_zulu_deprecated', 'fielder_2', 'umpire', 'sv_id',\n",
       "       'vx0', 'vy0', 'vz0', 'ax', 'ay', 'az', 'sz_top', 'sz_bot',\n",
       "       'hit_distance_sc', 'launch_speed', 'launch_angle', 'effective_speed',\n",
       "       'release_spin_rate', 'release_extension', 'game_pk', 'pitcher.1',\n",
       "       'fielder_2.1', 'fielder_3', 'fielder_4', 'fielder_5', 'fielder_6',\n",
       "       'fielder_7', 'fielder_8', 'fielder_9', 'release_pos_y',\n",
       "       'estimated_ba_using_speedangle', 'estimated_woba_using_speedangle',\n",
       "       'woba_value', 'woba_denom', 'babip_value', 'iso_value',\n",
       "       'launch_speed_angle', 'at_bat_number', 'pitch_number', 'pitch_name',\n",
       "       'home_score', 'away_score', 'bat_score', 'fld_score', 'post_away_score',\n",
       "       'post_home_score', 'post_bat_score', 'post_fld_score',\n",
       "       'if_fielding_alignment', 'of_fielding_alignment', 'spin_axis',\n",
       "       'delta_home_win_exp', 'delta_run_exp'],\n",
       "      dtype='object')"
      ]
     },
     "execution_count": 22,
     "metadata": {},
     "output_type": "execute_result"
    }
   ],
   "source": [
    "data.columns"
   ]
  },
  {
   "cell_type": "code",
   "execution_count": 35,
   "metadata": {},
   "outputs": [],
   "source": [
    "fastball=data[data['pitch_type']=='FF'][['release_speed','release_spin_rate','spin_axis']]"
   ]
  },
  {
   "cell_type": "code",
   "execution_count": 37,
   "metadata": {},
   "outputs": [
    {
     "data": {
      "text/plain": [
       "release_speed          4\n",
       "release_spin_rate    597\n",
       "spin_axis            592\n",
       "dtype: int64"
      ]
     },
     "execution_count": 37,
     "metadata": {},
     "output_type": "execute_result"
    }
   ],
   "source": [
    "fastball.isnull().sum()"
   ]
  },
  {
   "cell_type": "code",
   "execution_count": 39,
   "metadata": {},
   "outputs": [
    {
     "data": {
      "text/plain": [
       "release_speed        0\n",
       "release_spin_rate    0\n",
       "spin_axis            0\n",
       "dtype: int64"
      ]
     },
     "execution_count": 39,
     "metadata": {},
     "output_type": "execute_result"
    }
   ],
   "source": [
    "fastball.dropna(axis=0,inplace=True)\n",
    "fastball.isnull().sum()"
   ]
  },
  {
   "cell_type": "code",
   "execution_count": 57,
   "metadata": {},
   "outputs": [],
   "source": [
    "from sklearn.linear_model import LinearRegression\n",
    "from sklearn.model_selection import train_test_split\n",
    "from sklearn.preprocessing import MinMaxScaler\n",
    "y=fastball[['release_speed']]\n",
    "x=fastball[['release_spin_rate','spin_axis']]\n",
    "scaler=MinMaxScaler()\n",
    "scaler.fit(x)\n",
    "x=scaler.transform(x)\n",
    "\n",
    "x_train,x_test,y_train,y_test = train_test_split(x,y,test_size=0.2)"
   ]
  },
  {
   "cell_type": "code",
   "execution_count": 58,
   "metadata": {},
   "outputs": [
    {
     "data": {
      "text/plain": [
       "LinearRegression()"
      ]
     },
     "execution_count": 58,
     "metadata": {},
     "output_type": "execute_result"
    }
   ],
   "source": [
    "regressor = LinearRegression()\n",
    "\n",
    "regressor.fit(x_train,y_train)"
   ]
  },
  {
   "cell_type": "code",
   "execution_count": 59,
   "metadata": {},
   "outputs": [
    {
     "name": "stderr",
     "output_type": "stream",
     "text": [
      "C:\\Users\\SEC\\anaconda3\\lib\\site-packages\\sklearn\\utils\\validation.py:63: FutureWarning: Arrays of bytes/strings is being converted to decimal numbers if dtype='numeric'. This behavior is deprecated in 0.24 and will be removed in 1.1 (renaming of 0.26). Please convert your data to numeric values explicitly instead.\n",
      "  return f(*args, **kwargs)\n"
     ]
    },
    {
     "data": {
      "text/plain": [
       "0.1020896075589669"
      ]
     },
     "execution_count": 59,
     "metadata": {},
     "output_type": "execute_result"
    }
   ],
   "source": [
    "regressor.score(x_test,y_test)"
   ]
  },
  {
   "cell_type": "code",
   "execution_count": 46,
   "metadata": {},
   "outputs": [
    {
     "data": {
      "text/html": [
       "<div>\n",
       "<style scoped>\n",
       "    .dataframe tbody tr th:only-of-type {\n",
       "        vertical-align: middle;\n",
       "    }\n",
       "\n",
       "    .dataframe tbody tr th {\n",
       "        vertical-align: top;\n",
       "    }\n",
       "\n",
       "    .dataframe thead th {\n",
       "        text-align: right;\n",
       "    }\n",
       "</style>\n",
       "<table border=\"1\" class=\"dataframe\">\n",
       "  <thead>\n",
       "    <tr style=\"text-align: right;\">\n",
       "      <th></th>\n",
       "      <th>release_speed</th>\n",
       "      <th>release_spin_rate</th>\n",
       "      <th>spin_axis</th>\n",
       "    </tr>\n",
       "  </thead>\n",
       "  <tbody>\n",
       "    <tr>\n",
       "      <th>2030</th>\n",
       "      <td>99.5</td>\n",
       "      <td>2541</td>\n",
       "      <td>203</td>\n",
       "    </tr>\n",
       "    <tr>\n",
       "      <th>2052</th>\n",
       "      <td>99.3</td>\n",
       "      <td>2520</td>\n",
       "      <td>200</td>\n",
       "    </tr>\n",
       "    <tr>\n",
       "      <th>2128</th>\n",
       "      <td>99.1</td>\n",
       "      <td>2466</td>\n",
       "      <td>200</td>\n",
       "    </tr>\n",
       "    <tr>\n",
       "      <th>2245</th>\n",
       "      <td>99.3</td>\n",
       "      <td>2491</td>\n",
       "      <td>204</td>\n",
       "    </tr>\n",
       "    <tr>\n",
       "      <th>2346</th>\n",
       "      <td>99.0</td>\n",
       "      <td>2458</td>\n",
       "      <td>200</td>\n",
       "    </tr>\n",
       "  </tbody>\n",
       "</table>\n",
       "</div>"
      ],
      "text/plain": [
       "      release_speed  release_spin_rate  spin_axis\n",
       "2030           99.5               2541        203\n",
       "2052           99.3               2520        200\n",
       "2128           99.1               2466        200\n",
       "2245           99.3               2491        204\n",
       "2346           99.0               2458        200"
      ]
     },
     "execution_count": 46,
     "metadata": {},
     "output_type": "execute_result"
    }
   ],
   "source": [
    "fastball.head()"
   ]
  },
  {
   "cell_type": "code",
   "execution_count": null,
   "metadata": {},
   "outputs": [],
   "source": []
  }
 ],
 "metadata": {
  "colab": {
   "collapsed_sections": [],
   "name": "MLB.ipynb",
   "private_outputs": true,
   "provenance": []
  },
  "kernelspec": {
   "display_name": "Python 3",
   "language": "python",
   "name": "python3"
  },
  "language_info": {
   "codemirror_mode": {
    "name": "ipython",
    "version": 3
   },
   "file_extension": ".py",
   "mimetype": "text/x-python",
   "name": "python",
   "nbconvert_exporter": "python",
   "pygments_lexer": "ipython3",
   "version": "3.8.8"
  }
 },
 "nbformat": 4,
 "nbformat_minor": 4
}
