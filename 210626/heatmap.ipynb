{
 "cells": [
  {
   "cell_type": "code",
   "execution_count": null,
   "metadata": {
    "id": "NWFyMhRZnm7V"
   },
   "outputs": [],
   "source": [
    "import pandas as pd\n",
    "import datetime"
   ]
  },
  {
   "cell_type": "code",
   "execution_count": null,
   "metadata": {
    "id": "s1Xz9zoTn2Ad"
   },
   "outputs": [],
   "source": [
    "data=pd.read_csv('Measurement_info.csv')"
   ]
  },
  {
   "cell_type": "code",
   "execution_count": null,
   "metadata": {
    "id": "UorQISlRn_xn"
   },
   "outputs": [],
   "source": [
    "data.info()"
   ]
  },
  {
   "cell_type": "code",
   "execution_count": null,
   "metadata": {
    "id": "oL5cSyihoWhM"
   },
   "outputs": [],
   "source": [
    "data[\"Measurement date\"].head()"
   ]
  },
  {
   "cell_type": "code",
   "execution_count": null,
   "metadata": {
    "id": "cHFTYx5zonRf"
   },
   "outputs": [],
   "source": [
    "date=data[\"Measurement date\"]"
   ]
  },
  {
   "cell_type": "code",
   "execution_count": null,
   "metadata": {
    "id": "DrKmJepWuZLy"
   },
   "outputs": [],
   "source": [
    "date.head()"
   ]
  },
  {
   "cell_type": "code",
   "execution_count": null,
   "metadata": {
    "id": "F1pmZzS8uVxO"
   },
   "outputs": [],
   "source": [
    "date=pd.to_datetime(date, errors='coerce', format='%Y-%m-%d %H:%M:%S')"
   ]
  },
  {
   "cell_type": "code",
   "execution_count": null,
   "metadata": {
    "id": "cF-PH2iWvUao"
   },
   "outputs": [],
   "source": [
    "date.tail()"
   ]
  },
  {
   "cell_type": "code",
   "execution_count": null,
   "metadata": {
    "id": "prQqqvlMkg1Y"
   },
   "outputs": [],
   "source": [
    "date[0]"
   ]
  },
  {
   "cell_type": "code",
   "execution_count": null,
   "metadata": {
    "id": "TQw3a8dPorUH"
   },
   "outputs": [],
   "source": [
    "data.columns"
   ]
  },
  {
   "cell_type": "code",
   "execution_count": null,
   "metadata": {
    "id": "X12i1ycPpYhN"
   },
   "outputs": [],
   "source": [
    "data[\"Station code\"].unique()"
   ]
  },
  {
   "cell_type": "code",
   "execution_count": null,
   "metadata": {
    "id": "2xEulQMMr5kH"
   },
   "outputs": [],
   "source": [
    "temp=data[(data[\"Item code\"]==8) \n",
    "& (data[\"Measurement date\"]== '2017-01-01 00:00')]"
   ]
  },
  {
   "cell_type": "code",
   "execution_count": null,
   "metadata": {
    "id": "jvKfjkLR3VKi"
   },
   "outputs": [],
   "source": [
    "temp.drop(['Measurement date','Item code','Instrument status'],axis=1,inplace=True)"
   ]
  },
  {
   "cell_type": "code",
   "execution_count": null,
   "metadata": {
    "id": "K7JsoE7r95qb"
   },
   "outputs": [],
   "source": [
    "temp.info()"
   ]
  },
  {
   "cell_type": "code",
   "execution_count": null,
   "metadata": {
    "id": "HpJfKmUD980J"
   },
   "outputs": [],
   "source": [
    "temp=temp.astype({'Station code':int})"
   ]
  },
  {
   "cell_type": "code",
   "execution_count": null,
   "metadata": {
    "id": "Ir7FN_tNB3jy"
   },
   "outputs": [],
   "source": [
    "temp.info()"
   ]
  },
  {
   "cell_type": "code",
   "execution_count": null,
   "metadata": {
    "id": "_XqtkdBwCAO4"
   },
   "outputs": [],
   "source": [
    "import folium as g"
   ]
  },
  {
   "cell_type": "code",
   "execution_count": null,
   "metadata": {
    "id": "kT2vhR4XC7cq"
   },
   "outputs": [],
   "source": [
    "data=pd.read_csv('Measurement_summary.csv')"
   ]
  },
  {
   "cell_type": "code",
   "execution_count": null,
   "metadata": {
    "id": "DdftyjZGDyR8"
   },
   "outputs": [],
   "source": [
    "data['Station code'].unique()"
   ]
  },
  {
   "cell_type": "code",
   "execution_count": null,
   "metadata": {
    "id": "8FyOHFgqC-jd"
   },
   "outputs": [],
   "source": [
    "df_loc=pd.DataFrame({'Station code':data[\"Station code\"].unique(),\n",
    "                     '위도':data.Latitude.unique(),'경도':data.Longitude.unique()})"
   ]
  },
  {
   "cell_type": "code",
   "execution_count": null,
   "metadata": {
    "id": "8Bwxl336D96W"
   },
   "outputs": [],
   "source": [
    "total_data=pd.merge(temp,df_loc,on=\"Station code\")"
   ]
  },
  {
   "cell_type": "code",
   "execution_count": null,
   "metadata": {
    "id": "kcr1xK7mGSKm"
   },
   "outputs": [],
   "source": [
    "from folium.plugins import HeatMap"
   ]
  },
  {
   "cell_type": "code",
   "execution_count": null,
   "metadata": {
    "id": "tAiceEqwgQ80"
   },
   "outputs": [],
   "source": [
    "lat  = total_data.iloc[:,2].mean()\n",
    "long = total_data.iloc[:,3].mean()"
   ]
  },
  {
   "cell_type": "code",
   "execution_count": null,
   "metadata": {
    "id": "P2qX7a5PepiM"
   },
   "outputs": [],
   "source": [
    "m=g.Map([lat,long],zoom_start=10)"
   ]
  },
  {
   "cell_type": "code",
   "execution_count": null,
   "metadata": {
    "id": "XHrMpgiwq8-E"
   },
   "outputs": [],
   "source": [
    "total_data.shape[0]"
   ]
  },
  {
   "cell_type": "code",
   "execution_count": null,
   "metadata": {
    "id": "9pT-oP39o378"
   },
   "outputs": [],
   "source": [
    "value=list()\n",
    "for i in range(total_data.shape[0]):\n",
    "    value.append([total_data.iloc[i,2],total_data.iloc[i,3],total_data.iloc[i,1]])"
   ]
  },
  {
   "cell_type": "code",
   "execution_count": null,
   "metadata": {
    "id": "EJrSOBdpgy8W"
   },
   "outputs": [],
   "source": [
    "HeatMap(value).add_to(m)"
   ]
  },
  {
   "cell_type": "code",
   "execution_count": null,
   "metadata": {
    "id": "WfdKQUPkpnLa"
   },
   "outputs": [],
   "source": [
    "m"
   ]
  },
  {
   "cell_type": "code",
   "execution_count": null,
   "metadata": {
    "id": "tdgn3WB8u3KS"
   },
   "outputs": [],
   "source": [
    "m.save('hitman.html')"
   ]
  },
  {
   "cell_type": "code",
   "execution_count": null,
   "metadata": {
    "id": "CIqI6eVMwjBD"
   },
   "outputs": [],
   "source": []
  }
 ],
 "metadata": {
  "colab": {
   "collapsed_sections": [],
   "name": "hitmap.ipynb",
   "private_outputs": true,
   "provenance": []
  },
  "kernelspec": {
   "display_name": "Python 3",
   "language": "python",
   "name": "python3"
  },
  "language_info": {
   "codemirror_mode": {
    "name": "ipython",
    "version": 3
   },
   "file_extension": ".py",
   "mimetype": "text/x-python",
   "name": "python",
   "nbconvert_exporter": "python",
   "pygments_lexer": "ipython3",
   "version": "3.8.8"
  }
 },
 "nbformat": 4,
 "nbformat_minor": 4
}
