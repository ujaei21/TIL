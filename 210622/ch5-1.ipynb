{
 "cells": [
  {
   "cell_type": "code",
   "execution_count": 1,
   "id": "8e5a886f-53fb-47b6-9261-2268e3db9b9b",
   "metadata": {},
   "outputs": [],
   "source": [
    "import numpy as np\n",
    "import matplotlib.pyplot as plt"
   ]
  },
  {
   "cell_type": "code",
   "execution_count": 2,
   "id": "95c63889-a31c-41ce-b262-3b51c69b1e85",
   "metadata": {},
   "outputs": [],
   "source": [
    "x_set=np.array([1,2,3,4,5,6])"
   ]
  },
  {
   "cell_type": "code",
   "execution_count": 3,
   "id": "228d6ad1-b8a0-400c-816e-f52441668b18",
   "metadata": {},
   "outputs": [],
   "source": [
    "def f(x):\n",
    "    if x in x_set:\n",
    "        return x/21\n",
    "    else:\n",
    "        return 0\n",
    "    "
   ]
  },
  {
   "cell_type": "code",
   "execution_count": 4,
   "id": "77272349-db84-4874-933f-ceab395bb970",
   "metadata": {},
   "outputs": [],
   "source": [
    "X=[x_set,f]"
   ]
  },
  {
   "cell_type": "code",
   "execution_count": 5,
   "id": "22092086-5c37-4603-adc8-c767ee6f8ab3",
   "metadata": {},
   "outputs": [
    {
     "data": {
      "text/plain": [
       "{1: 0.047619047619047616,\n",
       " 2: 0.09523809523809523,\n",
       " 3: 0.14285714285714285,\n",
       " 4: 0.19047619047619047,\n",
       " 5: 0.23809523809523808,\n",
       " 6: 0.2857142857142857}"
      ]
     },
     "execution_count": 5,
     "metadata": {},
     "output_type": "execute_result"
    }
   ],
   "source": [
    "prob=np.array([f(x_k) for x_k in x_set])\n",
    "\n",
    "dict(zip(x_set,prob))"
   ]
  },
  {
   "cell_type": "code",
   "execution_count": 6,
   "id": "3a886b86-bf33-4635-8289-3cbb9021d877",
   "metadata": {},
   "outputs": [
    {
     "data": {
      "text/plain": [
       "0.9999999999999999"
      ]
     },
     "execution_count": 6,
     "metadata": {},
     "output_type": "execute_result"
    }
   ],
   "source": [
    "np.sum(prob)"
   ]
  },
  {
   "cell_type": "code",
   "execution_count": 7,
   "id": "3854e562-3852-4901-8677-985264f74fd7",
   "metadata": {},
   "outputs": [
    {
     "data": {
      "image/png": "[encoded data removed]",
      "text/plain": [
       "<Figure size 720x432 with 1 Axes>"
      ]
     },
     "metadata": {
      "needs_background": "light"
     },
     "output_type": "display_data"
    }
   ],
   "source": [
    "fig=plt.figure(figsize=(10,6))\n",
    "ax=fig.add_subplot(111)\n",
    "ax.bar(x_set,prob)\n",
    "ax.set_xlabel('value')\n",
    "ax.set_ylabel('probability')\n",
    "\n",
    "plt.show()"
   ]
  },
  {
   "cell_type": "code",
   "execution_count": 8,
   "id": "51797031-1da0-4c25-995c-77017a214da6",
   "metadata": {},
   "outputs": [],
   "source": [
    "# 누적확률분포\n",
    "def F(x):\n",
    "    return np.sum([f(x) for x_k in x_set if x_k<=x])"
   ]
  },
  {
   "cell_type": "code",
   "execution_count": 9,
   "id": "b56de84f-8c82-4586-8955-8d54c3a70f01",
   "metadata": {},
   "outputs": [
    {
     "data": {
      "text/plain": [
       "0.42857142857142855"
      ]
     },
     "execution_count": 9,
     "metadata": {},
     "output_type": "execute_result"
    }
   ],
   "source": [
    "F(3)"
   ]
  },
  {
   "cell_type": "code",
   "execution_count": 10,
   "id": "1320a685-2089-4c1b-ba49-fb6f089a04c3",
   "metadata": {},
   "outputs": [
    {
     "data": {
      "text/plain": [
       "{5: 0.047619047619047616,\n",
       " 7: 0.09523809523809523,\n",
       " 9: 0.14285714285714285,\n",
       " 11: 0.19047619047619047,\n",
       " 13: 0.23809523809523808,\n",
       " 15: 0.2857142857142857}"
      ]
     },
     "execution_count": 10,
     "metadata": {},
     "output_type": "execute_result"
    }
   ],
   "source": [
    "# 확률변환\n",
    "y_set=np.array([2*x_k +3 for x_k in x_set])\n",
    "prob=np.array([f(x_k) for x_k in x_set])\n",
    "dict(zip(y_set,prob))"
   ]
  },
  {
   "cell_type": "code",
   "execution_count": 11,
   "id": "db42e1b3-274f-4f3f-bd73-339bb4a7cc49",
   "metadata": {},
   "outputs": [
    {
     "data": {
      "text/plain": [
       "4.333333333333333"
      ]
     },
     "execution_count": 11,
     "metadata": {},
     "output_type": "execute_result"
    }
   ],
   "source": [
    "np.sum([x_k*f(x_k) for x_k in x_set])"
   ]
  },
  {
   "cell_type": "code",
   "execution_count": 12,
   "id": "1715f56f-d338-4a02-9eca-972d4b08a988",
   "metadata": {},
   "outputs": [
    {
     "data": {
      "text/plain": [
       "4.331782"
      ]
     },
     "execution_count": 12,
     "metadata": {},
     "output_type": "execute_result"
    }
   ],
   "source": [
    "sample=np.random.choice(x_set,int(1e6),p=prob)\n",
    "np.mean(sample)"
   ]
  },
  {
   "cell_type": "code",
   "execution_count": 13,
   "id": "2eede17f-79c8-4d49-bb38-014857fe8c97",
   "metadata": {},
   "outputs": [],
   "source": [
    "def E(X,g = lambda x: x):\n",
    "    x_set,f=X\n",
    "    return np.sum([g(x_k)*f(x_k) for x_k in x_set])"
   ]
  },
  {
   "cell_type": "code",
   "execution_count": 14,
   "id": "1305638d-9b59-4b64-9e22-16bfe6f86fb4",
   "metadata": {},
   "outputs": [
    {
     "data": {
      "text/plain": [
       "4.333333333333333"
      ]
     },
     "execution_count": 14,
     "metadata": {},
     "output_type": "execute_result"
    }
   ],
   "source": [
    "E(X)"
   ]
  },
  {
   "cell_type": "code",
   "execution_count": 15,
   "id": "f8f5abec-c0f1-4c2f-abd2-691c98e9349a",
   "metadata": {},
   "outputs": [
    {
     "data": {
      "text/plain": [
       "11.667"
      ]
     },
     "execution_count": 15,
     "metadata": {},
     "output_type": "execute_result"
    }
   ],
   "source": [
    "E(X,g=lambda x: 2*x+3).round(3)"
   ]
  },
  {
   "cell_type": "code",
   "execution_count": 16,
   "id": "ba1049a2-7f5f-46a0-880c-e79bbec5bc57",
   "metadata": {},
   "outputs": [
    {
     "data": {
      "text/plain": [
       "2.222"
      ]
     },
     "execution_count": 16,
     "metadata": {},
     "output_type": "execute_result"
    }
   ],
   "source": [
    "# 분산\n",
    "mean = E(X)\n",
    "np.sum([(x_k-mean)**2 * f(x_k) for x_k in x_set]).round(3)"
   ]
  },
  {
   "cell_type": "code",
   "execution_count": 17,
   "id": "9fa49ea5-3736-493d-97b3-b3cb55483d31",
   "metadata": {},
   "outputs": [],
   "source": [
    "# 2차원 이산형 확률분포\n",
    "x_set = np.arange(2,13)\n",
    "y_set = np.arange(1,7)"
   ]
  },
  {
   "cell_type": "code",
   "execution_count": 18,
   "id": "7f619c26-ba91-4ee7-8065-0db5ca31bf03",
   "metadata": {},
   "outputs": [],
   "source": [
    "def f_XY(x,y):\n",
    "    if 1<=y<=6 and 1<=x-y<=7:\n",
    "        return y*(x-y)/441\n",
    "    else:\n",
    "        return 0\n"
   ]
  },
  {
   "cell_type": "code",
   "execution_count": 19,
   "id": "3cbb1284-4dea-40be-8ed9-5f5cc4e5a412",
   "metadata": {},
   "outputs": [],
   "source": [
    "XY=[x_set,y_set,f_XY]"
   ]
  },
  {
   "cell_type": "code",
   "execution_count": 20,
   "id": "40abf9a1-963b-41c1-860b-c9d9cfd2495e",
   "metadata": {},
   "outputs": [],
   "source": [
    "prob=np.array([[f_XY(x_i,y_j) for y_j in y_set] for x_i in x_set])"
   ]
  },
  {
   "cell_type": "code",
   "execution_count": 21,
   "id": "0fae3bf0-b0ac-4bfa-80d3-cc8ac3da29f8",
   "metadata": {},
   "outputs": [
    {
     "data": {
      "text/plain": [
       "1.238095238095238"
      ]
     },
     "execution_count": 21,
     "metadata": {},
     "output_type": "execute_result"
    }
   ],
   "source": [
    "np.sum(prob)"
   ]
  },
  {
   "cell_type": "code",
   "execution_count": 22,
   "id": "4a22f48e-8753-48be-aa0a-dfa749c676cc",
   "metadata": {},
   "outputs": [
    {
     "data": {
      "image/png": "[encoded data removed]",
      "text/plain": [
       "<Figure size 720x576 with 2 Axes>"
      ]
     },
     "metadata": {
      "needs_background": "light"
     },
     "output_type": "display_data"
    }
   ],
   "source": [
    "fig = plt.figure(figsize=(10,8))\n",
    "ax=fig.add_subplot(111)\n",
    "\n",
    "c=ax.pcolor(prob)\n",
    "ax.set_xticks(np.arange(prob.shape[1])+0.5)\n",
    "ax.set_yticks(np.arange(prob.shape[0])+0.5)\n",
    "\n",
    "ax.set_xticklabels(np.arange(1,7))\n",
    "ax.set_yticklabels(np.arange(2,13))\n",
    "\n",
    "ax.invert_yaxis()\n",
    "ax.xaxis.tick_top()\n",
    "\n",
    "fig.colorbar(c,ax=ax)\n",
    "plt.show()"
   ]
  },
  {
   "cell_type": "code",
   "execution_count": 23,
   "id": "3a46567a-a26d-4043-894b-936a8371d153",
   "metadata": {},
   "outputs": [
    {
     "data": {
      "text/plain": [
       "1.238095238095238"
      ]
     },
     "execution_count": 23,
     "metadata": {},
     "output_type": "execute_result"
    }
   ],
   "source": [
    "np.sum(prob)"
   ]
  },
  {
   "cell_type": "code",
   "execution_count": 24,
   "id": "0370556f-5e6f-4e8b-98aa-364f04381005",
   "metadata": {},
   "outputs": [],
   "source": [
    "def f_X(x):\n",
    "    return np.sum([f_XY(x,y_j) for y_j in y_set])"
   ]
  },
  {
   "cell_type": "code",
   "execution_count": 25,
   "id": "5f98223a-c57c-4990-ae8d-22252175bb14",
   "metadata": {},
   "outputs": [],
   "source": [
    "def f_Y(y):\n",
    "    return np.sum([f_XY(x_k,y) for x_k in x_set ])"
   ]
  },
  {
   "cell_type": "code",
   "execution_count": 26,
   "id": "cd41539b-4666-490d-a61d-832f0b44dd94",
   "metadata": {},
   "outputs": [],
   "source": [
    "X=[x_set,f_X]\n",
    "Y=[y_set,f_Y]"
   ]
  },
  {
   "cell_type": "code",
   "execution_count": 27,
   "id": "99ca61d3-2809-4bd8-b575-40467cdd1472",
   "metadata": {},
   "outputs": [
    {
     "data": {
      "image/png": "[encoded data removed]",
      "text/plain": [
       "<Figure size 864x288 with 2 Axes>"
      ]
     },
     "metadata": {
      "needs_background": "light"
     },
     "output_type": "display_data"
    }
   ],
   "source": [
    "prob_x = np.array([f_X(x_k) for x_k in x_set])\n",
    "prob_y = np.array([f_Y(y_k) for y_k in y_set])\n",
    "\n",
    "fig=plt.figure(figsize=(12,4))\n",
    "ax1=fig.add_subplot(121)\n",
    "ax2=fig.add_subplot(122)\n",
    "\n",
    "ax1.bar(x_set,prob_x)\n",
    "ax1.set_title('X_marginal probability distribution')\n",
    "ax1.set_xlabel('X_value')\n",
    "ax1.set_ylabel('probability')\n",
    "ax1.set_xticks(x_set)\n",
    "\n",
    "ax2.bar(y_set,prob_y)\n",
    "ax2.set_title('Y_marginal probability distribution')\n",
    "ax2.set_xlabel('Y_value')\n",
    "ax2.set_ylabel('probability')\n",
    "\n",
    "plt.show()"
   ]
  },
  {
   "cell_type": "code",
   "execution_count": 28,
   "id": "0d063f0d-103b-42ea-9e2d-f2d8bd9e5dbf",
   "metadata": {},
   "outputs": [
    {
     "data": {
      "text/plain": [
       "11.206349206349206"
      ]
     },
     "execution_count": 28,
     "metadata": {},
     "output_type": "execute_result"
    }
   ],
   "source": [
    "np.sum([x*f_XY(x,y) for x in x_set for y in y_set])"
   ]
  },
  {
   "cell_type": "code",
   "execution_count": 29,
   "id": "baa04565-1759-4493-91d1-0c0a8dbabfa6",
   "metadata": {},
   "outputs": [
    {
     "data": {
      "text/plain": [
       "5.2063492063492065"
      ]
     },
     "execution_count": 29,
     "metadata": {},
     "output_type": "execute_result"
    }
   ],
   "source": [
    "np.sum([y*f_XY(x,y) for x in x_set for y in y_set])"
   ]
  },
  {
   "cell_type": "code",
   "execution_count": 30,
   "id": "dde39030-d3a0-4d43-8e0e-31d71c38253a",
   "metadata": {},
   "outputs": [],
   "source": [
    "def E(XY,g):\n",
    "    x_set,y_set ,f_XY = XY\n",
    "    return np.sum([g(x_i,y_j)*f_XY(x_i,y_j) for x_i in x_set for y_j in y_set])"
   ]
  },
  {
   "cell_type": "code",
   "execution_count": 31,
   "id": "1efe90b9-f955-4aa0-8bfe-1e2cc48f1643",
   "metadata": {},
   "outputs": [
    {
     "data": {
      "text/plain": [
       "[array([ 2,  3,  4,  5,  6,  7,  8,  9, 10, 11, 12]),\n",
       " array([1, 2, 3, 4, 5, 6]),\n",
       " <function __main__.f_XY(x, y)>]"
      ]
     },
     "execution_count": 31,
     "metadata": {},
     "output_type": "execute_result"
    }
   ],
   "source": [
    "XY"
   ]
  },
  {
   "cell_type": "code",
   "execution_count": 32,
   "id": "a07b77be-059b-4c1b-8269-f27374480088",
   "metadata": {},
   "outputs": [
    {
     "data": {
      "text/plain": [
       "11.206349206349206"
      ]
     },
     "execution_count": 32,
     "metadata": {},
     "output_type": "execute_result"
    }
   ],
   "source": [
    "mean_X=E(XY,lambda x,y:x)\n",
    "mean_X"
   ]
  },
  {
   "cell_type": "code",
   "execution_count": 33,
   "id": "15175c4e-61bf-4d76-9720-8356dace9fe2",
   "metadata": {},
   "outputs": [
    {
     "data": {
      "text/plain": [
       "5.2063492063492065"
      ]
     },
     "execution_count": 33,
     "metadata": {},
     "output_type": "execute_result"
    }
   ],
   "source": [
    "mean_Y=E(XY,lambda x,y:y)\n",
    "mean_Y"
   ]
  },
  {
   "cell_type": "code",
   "execution_count": 34,
   "id": "4af0122b-80e9-421d-8590-6697ff8af185",
   "metadata": {},
   "outputs": [
    {
     "data": {
      "text/plain": [
       "11.334149179954165"
      ]
     },
     "execution_count": 34,
     "metadata": {},
     "output_type": "execute_result"
    }
   ],
   "source": [
    "np.sum([(x_i-mean_X)**2*f_XY(x_i,y_j) for x_i in x_set for y_j in y_set])"
   ]
  },
  {
   "cell_type": "code",
   "execution_count": 35,
   "id": "270dc04c-f95b-41bd-a68a-2cc958bbdb21",
   "metadata": {},
   "outputs": [],
   "source": [
    "def V(XY,g):\n",
    "    x_set,y_set,f_XY=XY\n",
    "    mean=E(XY,g)\n",
    "    return np.sum([(g(x,y)-mean)**2*f_XY(x,y)\n",
    "                  for x in x_set for y in y_set])"
   ]
  },
  {
   "cell_type": "code",
   "execution_count": 36,
   "id": "3839d894-990f-4db6-b81d-b4657a76273f",
   "metadata": {},
   "outputs": [
    {
     "data": {
      "text/plain": [
       "11.334149179954165"
      ]
     },
     "execution_count": 36,
     "metadata": {},
     "output_type": "execute_result"
    }
   ],
   "source": [
    "V(XY,g=lambda x,y:x)"
   ]
  },
  {
   "cell_type": "code",
   "execution_count": 37,
   "id": "97656eb8-b596-4859-b0b4-2fcca0352fdd",
   "metadata": {},
   "outputs": [
    {
     "data": {
      "text/plain": [
       "3.919183193559611"
      ]
     },
     "execution_count": 37,
     "metadata": {},
     "output_type": "execute_result"
    }
   ],
   "source": [
    "V(XY,g=lambda x,y:y)"
   ]
  },
  {
   "cell_type": "code",
   "execution_count": 38,
   "id": "81560558-b3b4-46ca-999f-552bb4b21c62",
   "metadata": {},
   "outputs": [],
   "source": [
    "def Cov(XY):\n",
    "    x_set,y_set,f_XY=XY\n",
    "    mean_X=E(XY,g=lambda x,y:x)\n",
    "    mean_Y=E(XY,g=lambda x,y:y)\n",
    "    return np.sum([(x-mean_X)*(y-mean_Y)*f_XY(x,y) for x in x_set for y in y_set])"
   ]
  },
  {
   "cell_type": "code",
   "execution_count": 39,
   "id": "aa522c6f-800d-405f-a327-9c159c34c722",
   "metadata": {},
   "outputs": [
    {
     "data": {
      "text/plain": [
       "5.00761856770927"
      ]
     },
     "execution_count": 39,
     "metadata": {},
     "output_type": "execute_result"
    }
   ],
   "source": [
    "Cov(XY)"
   ]
  },
  {
   "cell_type": "code",
   "execution_count": null,
   "id": "45e48a98-ff81-439b-96fc-0f37c00d6e69",
   "metadata": {},
   "outputs": [],
   "source": []
  }
 ],
 "metadata": {
  "kernelspec": {
   "display_name": "Python Multi",
   "language": "python",
   "name": "multi"
  },
  "language_info": {
   "codemirror_mode": {
    "name": "ipython",
    "version": 3
   },
   "file_extension": ".py",
   "mimetype": "text/x-python",
   "name": "python",
   "nbconvert_exporter": "python",
   "pygments_lexer": "ipython3",
   "version": "3.7.6"
  }
 },
 "nbformat": 4,
 "nbformat_minor": 5
}
