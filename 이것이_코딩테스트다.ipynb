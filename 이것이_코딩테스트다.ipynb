{
  "nbformat": 4,
  "nbformat_minor": 0,
  "metadata": {
    "colab": {
      "name": "이것이 코딩테스트다.ipynb",
      "provenance": [],
      "collapsed_sections": [],
      "authorship_tag": "ABX9TyNjOUtE5vE8jZ8Z/o4N0q29",
      "include_colab_link": true
    },
    "kernelspec": {
      "name": "python3",
      "display_name": "Python 3"
    },
    "language_info": {
      "name": "python"
    }
  },
  "cells": [
    {
      "cell_type": "markdown",
      "metadata": {
        "id": "view-in-github",
        "colab_type": "text"
      },
      "source": [
        "<a href=\"https://colab.research.google.com/github/ujaei21/TIL/blob/master/%EC%9D%B4%EA%B2%83%EC%9D%B4_%EC%BD%94%EB%94%A9%ED%85%8C%EC%8A%A4%ED%8A%B8%EB%8B%A4.ipynb\" target=\"_parent\"><img src=\"https://colab.research.google.com/assets/colab-badge.svg\" alt=\"Open In Colab\"/></a>"
      ]
    },
    {
      "cell_type": "code",
      "metadata": {
        "colab": {
          "base_uri": "https://localhost:8080/"
        },
        "id": "waszkzutc5rB",
        "outputId": "4827629e-841b-4544-afac-322d27fcaff8"
      },
      "source": [
        "n = 1260\n",
        "count = 0\n",
        "\n",
        "coin_types = [500,100,50,10]\n",
        "for coin in coin_types:\n",
        "    count += n//coin \n",
        "    n %= coin\n",
        "print(count)"
      ],
      "execution_count": null,
      "outputs": [
        {
          "output_type": "stream",
          "name": "stdout",
          "text": [
            "6\n"
          ]
        }
      ]
    },
    {
      "cell_type": "code",
      "metadata": {
        "id": "7jJiaGDrggwF",
        "colab": {
          "base_uri": "https://localhost:8080/"
        },
        "outputId": "03383028-b7e2-4485-99b9-f122a93b7fee"
      },
      "source": [
        "# 큰 수의 법칙\n",
        "\n",
        "n,m,k = map(int,input().split())\n",
        "data = list(map(int,input().split()))\n",
        "\n",
        "data.sort()\n",
        "first = data[n-1]\n",
        "second =data[n-2]\n",
        "\n",
        "result = 0\n",
        "\n",
        "while True:\n",
        "    for i in range(k):\n",
        "        if m == 0:\n",
        "            break\n",
        "        else:\n",
        "            result += first\n",
        "            m -= 1\n",
        "    if m == 0:\n",
        "        break\n",
        "    result += second\n",
        "    m -= 1\n",
        "\n",
        "print(result)"
      ],
      "execution_count": null,
      "outputs": [
        {
          "output_type": "stream",
          "name": "stdout",
          "text": [
            "5 8 3\n",
            "2 4 5 4 6\n",
            "46\n"
          ]
        }
      ]
    },
    {
      "cell_type": "code",
      "source": [
        "# 큰 수의 법칙 두번째 파트 수가 1억이 넘을때\n",
        "\n",
        "n,m,k = map(int,input().split())\n",
        "data = list(map(int,input().split()))\n",
        "\n",
        "data.sort()\n",
        "first = data[n-1]\n",
        "second =data[n-2]\n",
        "\n",
        "count = m//(k+1)*k\n",
        "count += m%(k+1)\n",
        "\n",
        "result = 0\n",
        "result += first*count\n",
        "result += (m-count)* second\n",
        "\n",
        "print(result)"
      ],
      "metadata": {
        "colab": {
          "base_uri": "https://localhost:8080/"
        },
        "id": "peMO9l1rfpmj",
        "outputId": "fa9416c6-f53e-4373-bbb5-be8cea60352d"
      },
      "execution_count": null,
      "outputs": [
        {
          "output_type": "stream",
          "name": "stdout",
          "text": [
            "5 8 3\n",
            "2 4 5 4 6\n",
            "46\n"
          ]
        }
      ]
    },
    {
      "cell_type": "code",
      "source": [
        "# 카드게임\n",
        "n,m = map(int,input().split())\n",
        "result = 0\n",
        "\n",
        "for i in range(n):\n",
        "    data = list(map(int,input().split()))\n",
        "    min_val = min(data)\n",
        "    result = max(result,min_val)\n",
        "print(result)"
      ],
      "metadata": {
        "colab": {
          "base_uri": "https://localhost:8080/"
        },
        "id": "MWQKfJOItfsv",
        "outputId": "7c8f42df-932a-44b4-f174-edd61a943456"
      },
      "execution_count": null,
      "outputs": [
        {
          "output_type": "stream",
          "name": "stdout",
          "text": [
            "3 3\n",
            "3 1 2\n",
            "4 1 4\n",
            "2 2 2\n",
            "2\n"
          ]
        }
      ]
    },
    {
      "cell_type": "code",
      "source": [
        "# n이 1이 될 때까지\n",
        "n,k = map(int,input().split())\n",
        "\n",
        "result = 0\n",
        "while n >= k:\n",
        "    while n%k != 0:\n",
        "        n -= 1\n",
        "        result += 1\n",
        "    n = n//k\n",
        "    result += 1\n",
        "while n > 1:\n",
        "    n -= 1\n",
        "    result += 1\n",
        "print(result)"
      ],
      "metadata": {
        "id": "riuqvE4yzW8L",
        "colab": {
          "base_uri": "https://localhost:8080/"
        },
        "outputId": "9ce6e423-8a0a-4986-c2f0-f4ba1ed0cf23"
      },
      "execution_count": null,
      "outputs": [
        {
          "output_type": "stream",
          "name": "stdout",
          "text": [
            "25 3\n",
            "6\n"
          ]
        }
      ]
    },
    {
      "cell_type": "code",
      "source": [
        "# n이 끌때 쓰는 법\n",
        "n,k = map(int,input().split())\n",
        "\n",
        "result = 0\n",
        "\n",
        "while True:\n",
        "    target = (n//k)*k\n",
        "    result += (n-target)\n",
        "    n = target\n",
        "\n",
        "    if n < k:\n",
        "        break\n",
        "    result += 1\n",
        "    n //= k\n",
        "\n",
        "result += (n-1)\n",
        "print(result)"
      ],
      "metadata": {
        "colab": {
          "base_uri": "https://localhost:8080/"
        },
        "id": "pP7NrQymJtaW",
        "outputId": "8d598df2-0aae-4515-d66f-844df6c5ba0b"
      },
      "execution_count": null,
      "outputs": [
        {
          "output_type": "stream",
          "name": "stdout",
          "text": [
            "25 3\n",
            "6\n"
          ]
        }
      ]
    },
    {
      "cell_type": "code",
      "source": [
        "# 4-1 상하좌우\n",
        "n = int(input())\n",
        "x,y = 1,1\n",
        "plans = input().split()\n",
        "\n",
        "dx = [0,0,-1,1]\n",
        "dy = [-1,1,0,0]\n",
        "move_types = ['L','R','U','D']\n",
        "\n",
        "for plan in plans:\n",
        "    for i in range(len(move_types)):\n",
        "        if plan == move_types[i]:\n",
        "            nx = x + dx[i]\n",
        "            ny = y + dy[i]\n",
        "    if nx < 1 or ny < 1 or nx > n or ny > n:\n",
        "        continue\n",
        "    x,y = nx, ny \n",
        "print(x,y)  "
      ],
      "metadata": {
        "colab": {
          "base_uri": "https://localhost:8080/"
        },
        "id": "LfICQTsyMFbo",
        "outputId": "da0aeec5-b88a-45ca-d4f4-270d961e4002"
      },
      "execution_count": null,
      "outputs": [
        {
          "output_type": "stream",
          "name": "stdout",
          "text": [
            "5\n",
            "R R R U D D\n",
            "3 4\n"
          ]
        }
      ]
    },
    {
      "cell_type": "code",
      "source": [
        "# 4-2 시각\n",
        "n = int(input())\n",
        "count = 0\n",
        "\n",
        "for h in range(n+1):\n",
        "    for min in range(60):\n",
        "        for sec in range(60):\n",
        "            # 문자로 변환하여 카운트\n",
        "            if '3' in str(h) +str(min) + str(sec):\n",
        "                count += 1\n",
        "print(count)"
      ],
      "metadata": {
        "colab": {
          "base_uri": "https://localhost:8080/"
        },
        "id": "MCvvf9bo-E1U",
        "outputId": "eaaf8fef-47db-40a2-80d0-0b0ef70acce9"
      },
      "execution_count": null,
      "outputs": [
        {
          "output_type": "stream",
          "name": "stdout",
          "text": [
            "5\n",
            "11475\n"
          ]
        }
      ]
    },
    {
      "cell_type": "code",
      "source": [
        "# 4-3 왕실의 나이트\n",
        "\n",
        "input_data = input()\n",
        "row = int(input_data[1])\n",
        "column = int(ord(input_data[0])-ord('a')) +1\n",
        "\n",
        "# 8가지 방향\n",
        "steps = [(-2,-1),(-1,-2),(1,-2),(2,-1),(2,1),(1,2),(-1,2),(-2,1)]\n",
        "\n",
        "result = 0\n",
        "for step in steps:\n",
        "    next_row = row + step[0]\n",
        "    next_col = column + step[1]\n",
        "\n",
        "    if next_row >= 1 and next_row <=8 and next_col >=1 and next_col <= 8:\n",
        "        result += 1\n",
        "\n",
        "print(result)"
      ],
      "metadata": {
        "id": "ECMbFOlFBIib",
        "colab": {
          "base_uri": "https://localhost:8080/"
        },
        "outputId": "5d83dab8-a4c4-4a20-9a2c-95a0591d48f7"
      },
      "execution_count": 5,
      "outputs": [
        {
          "output_type": "stream",
          "name": "stdout",
          "text": [
            "a3\n",
            "4\n"
          ]
        }
      ]
    },
    {
      "cell_type": "code",
      "source": [
        ""
      ],
      "metadata": {
        "id": "XYqz_HdshpX3"
      },
      "execution_count": null,
      "outputs": []
    }
  ]
}