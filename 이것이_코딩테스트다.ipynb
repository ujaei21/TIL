{
  "nbformat": 4,
  "nbformat_minor": 0,
  "metadata": {
    "colab": {
      "name": "이것이 코딩테스트다.ipynb",
      "provenance": [],
      "collapsed_sections": [],
      "authorship_tag": "ABX9TyPPUzn4VtvsSVdBxnZ/nMcs",
      "include_colab_link": true
    },
    "kernelspec": {
      "name": "python3",
      "display_name": "Python 3"
    },
    "language_info": {
      "name": "python"
    }
  },
  "cells": [
    {
      "cell_type": "markdown",
      "metadata": {
        "id": "view-in-github",
        "colab_type": "text"
      },
      "source": [
        "<a href=\"https://colab.research.google.com/github/ujaei21/TIL/blob/master/%EC%9D%B4%EA%B2%83%EC%9D%B4_%EC%BD%94%EB%94%A9%ED%85%8C%EC%8A%A4%ED%8A%B8%EB%8B%A4.ipynb\" target=\"_parent\"><img src=\"https://colab.research.google.com/assets/colab-badge.svg\" alt=\"Open In Colab\"/></a>"
      ]
    },
    {
      "cell_type": "code",
      "metadata": {
        "colab": {
          "base_uri": "https://localhost:8080/"
        },
        "id": "waszkzutc5rB",
        "outputId": "4827629e-841b-4544-afac-322d27fcaff8"
      },
      "source": [
        "n = 1260\n",
        "count = 0\n",
        "\n",
        "coin_types = [500,100,50,10]\n",
        "for coin in coin_types:\n",
        "    count += n//coin \n",
        "    n %= coin\n",
        "print(count)"
      ],
      "execution_count": null,
      "outputs": [
        {
          "output_type": "stream",
          "name": "stdout",
          "text": [
            "6\n"
          ]
        }
      ]
    },
    {
      "cell_type": "code",
      "metadata": {
        "id": "7jJiaGDrggwF",
        "colab": {
          "base_uri": "https://localhost:8080/"
        },
        "outputId": "03383028-b7e2-4485-99b9-f122a93b7fee"
      },
      "source": [
        "# 큰 수의 법칙\n",
        "\n",
        "n,m,k = map(int,input().split())\n",
        "data = list(map(int,input().split()))\n",
        "\n",
        "data.sort()\n",
        "first = data[n-1]\n",
        "second =data[n-2]\n",
        "\n",
        "result = 0\n",
        "\n",
        "while True:\n",
        "    for i in range(k):\n",
        "        if m == 0:\n",
        "            break\n",
        "        else:\n",
        "            result += first\n",
        "            m -= 1\n",
        "    if m == 0:\n",
        "        break\n",
        "    result += second\n",
        "    m -= 1\n",
        "\n",
        "print(result)"
      ],
      "execution_count": 1,
      "outputs": [
        {
          "output_type": "stream",
          "name": "stdout",
          "text": [
            "5 8 3\n",
            "2 4 5 4 6\n",
            "46\n"
          ]
        }
      ]
    },
    {
      "cell_type": "code",
      "source": [
        "# 큰 수의 법칙 두번째 파트 수가 1억이 넘을때\n",
        "\n",
        "n,m,k = map(int,input().split())\n",
        "data = list(map(int,input().split()))\n",
        "\n",
        "data.sort()\n",
        "first = data[n-1]\n",
        "second =data[n-2]\n",
        "\n",
        "count = m//(k+1)*k\n",
        "count += m%(k+1)\n",
        "\n",
        "result = 0\n",
        "result += first*count\n",
        "result += (m-count)* second\n",
        "\n",
        "print(result)"
      ],
      "metadata": {
        "colab": {
          "base_uri": "https://localhost:8080/"
        },
        "id": "peMO9l1rfpmj",
        "outputId": "fa9416c6-f53e-4373-bbb5-be8cea60352d"
      },
      "execution_count": 2,
      "outputs": [
        {
          "output_type": "stream",
          "name": "stdout",
          "text": [
            "5 8 3\n",
            "2 4 5 4 6\n",
            "46\n"
          ]
        }
      ]
    },
    {
      "cell_type": "code",
      "source": [
        "# 카드게임\n",
        "n,m = map(int,input().split())\n",
        "result = 0\n",
        "\n",
        "for i in range(n):\n",
        "    data = list(map(int,input().split()))\n",
        "    min_val = min(data)\n",
        "    result = max(result,min_val)\n",
        "print(result)"
      ],
      "metadata": {
        "colab": {
          "base_uri": "https://localhost:8080/"
        },
        "id": "MWQKfJOItfsv",
        "outputId": "7c8f42df-932a-44b4-f174-edd61a943456"
      },
      "execution_count": 3,
      "outputs": [
        {
          "output_type": "stream",
          "name": "stdout",
          "text": [
            "3 3\n",
            "3 1 2\n",
            "4 1 4\n",
            "2 2 2\n",
            "2\n"
          ]
        }
      ]
    },
    {
      "cell_type": "code",
      "source": [
        ""
      ],
      "metadata": {
        "id": "riuqvE4yzW8L"
      },
      "execution_count": null,
      "outputs": []
    }
  ]
}