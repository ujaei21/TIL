{
  "nbformat": 4,
  "nbformat_minor": 0,
  "metadata": {
    "colab": {
      "name": "문서유사도.ipynb",
      "provenance": []
    },
    "kernelspec": {
      "name": "python3",
      "display_name": "Python 3"
    },
    "language_info": {
      "name": "python"
    }
  },
  "cells": [
    {
      "cell_type": "code",
      "metadata": {
        "id": "FOdFmsfJAbuk"
      },
      "source": [
        "from warnings import filterwarnings\n",
        "filterwarnings('ignore')"
      ],
      "execution_count": 1,
      "outputs": []
    },
    {
      "cell_type": "code",
      "metadata": {
        "id": "r497FPH8Apxm"
      },
      "source": [
        "import numpy as np\n",
        "def cos_similarity(v1,v2):\n",
        "    dot_product = np.dot(v1,v2)\n",
        "    l2_norm = (np.sqrt(sum(np.sqrt(v1)))*np.sqrt(sum(np.sqrt(v2))))\n",
        "    similarity = dot_product/l2_norm\n",
        "\n",
        "    return similarity"
      ],
      "execution_count": 7,
      "outputs": []
    },
    {
      "cell_type": "code",
      "metadata": {
        "colab": {
          "base_uri": "https://localhost:8080/"
        },
        "id": "LezBqgEFBizF",
        "outputId": "c2214c70-622f-4e3e-faf8-a5d4d26ccdae"
      },
      "source": [
        "from sklearn.feature_extraction.text import TfidfVectorizer\n",
        "\n",
        "doc_list = ['if you take the blue pill, the story ends',\n",
        "            'if you take the red pill, you stay in Wonderland',\n",
        "            'if you take the red pill, I show you how deep the rabbit hole goes']\n",
        "\n",
        "tfidf_vect_sample = TfidfVectorizer()\n",
        "feature_vect_simple = tfidf_vect_sample.fit_transform(doc_list)\n",
        "print(feature_vect_simple.shape)"
      ],
      "execution_count": 3,
      "outputs": [
        {
          "output_type": "stream",
          "name": "stdout",
          "text": [
            "(3, 18)\n"
          ]
        }
      ]
    },
    {
      "cell_type": "code",
      "metadata": {
        "colab": {
          "base_uri": "https://localhost:8080/"
        },
        "id": "DiIL3pthC_MU",
        "outputId": "549fb552-efb4-4c0d-8961-6cb265f03edb"
      },
      "source": [
        "feature_vect_dense = feature_vect_simple.todense()\n",
        "\n",
        "vect1 = np.array(feature_vect_dense[0]).reshape(-1,)\n",
        "vect2 = np.array(feature_vect_dense[1]).reshape(-1,)\n",
        "\n",
        "similarity_simple = cos_similarity(vect1,vect2)\n",
        "print('문장 1, 문장 2 Cosine 유사도: {0:.3f}'.format(similarity_simple))"
      ],
      "execution_count": 9,
      "outputs": [
        {
          "output_type": "stream",
          "name": "stdout",
          "text": [
            "문장 1, 문장 2 Cosine 유사도: 0.083\n"
          ]
        }
      ]
    },
    {
      "cell_type": "code",
      "metadata": {
        "colab": {
          "base_uri": "https://localhost:8080/"
        },
        "id": "YGlmZmnyE11o",
        "outputId": "de4ca326-e837-4c20-8185-96e0fb6a2e87"
      },
      "source": [
        "vect1 = np.array(feature_vect_dense[0]).reshape(-1,)\n",
        "vect3 = np.array(feature_vect_dense[2]).reshape(-1,)\n",
        "\n",
        "similarity_simple = cos_similarity(vect1,vect3)\n",
        "print('문장 1, 문장 3 Cosine 유사도: {0:.3f}'.format(similarity_simple))\n",
        "\n",
        "vect2 = np.array(feature_vect_dense[1]).reshape(-1,)\n",
        "vect3 = np.array(feature_vect_dense[2]).reshape(-1,)\n",
        "\n",
        "similarity_simple = cos_similarity(vect1,vect3)\n",
        "print('문장 2, 문장 3 Cosine 유사도: {0:.3f}'.format(similarity_simple))"
      ],
      "execution_count": 10,
      "outputs": [
        {
          "output_type": "stream",
          "name": "stdout",
          "text": [
            "문장 1, 문장 3 Cosine 유사도: 0.075\n",
            "문장 2, 문장 3 Cosine 유사도: 0.075\n"
          ]
        }
      ]
    },
    {
      "cell_type": "code",
      "metadata": {
        "colab": {
          "base_uri": "https://localhost:8080/"
        },
        "id": "cRpT6OENF98f",
        "outputId": "9579199a-3479-4d15-fc66-eacab139e375"
      },
      "source": [
        "from sklearn.metrics.pairwise import cosine_similarity\n",
        "\n",
        "similarity_simple_pair = cosine_similarity(feature_vect_simple[0],feature_vect_simple)\n",
        "print(similarity_simple_pair)"
      ],
      "execution_count": 12,
      "outputs": [
        {
          "output_type": "stream",
          "name": "stdout",
          "text": [
            "[[1.         0.40207758 0.40425045]]\n"
          ]
        }
      ]
    },
    {
      "cell_type": "code",
      "metadata": {
        "colab": {
          "base_uri": "https://localhost:8080/"
        },
        "id": "qHrNO203GgYt",
        "outputId": "a0cfcafd-ade2-420d-e4af-cc3d42593258"
      },
      "source": [
        "from sklearn.metrics.pairwise import cosine_similarity\n",
        "\n",
        "similarity_simple_pair = cosine_similarity(feature_vect_simple[0],feature_vect_simple[1:])\n",
        "print(similarity_simple_pair)"
      ],
      "execution_count": 14,
      "outputs": [
        {
          "output_type": "stream",
          "name": "stdout",
          "text": [
            "[[0.40207758 0.40425045]]\n"
          ]
        }
      ]
    },
    {
      "cell_type": "code",
      "metadata": {
        "colab": {
          "base_uri": "https://localhost:8080/"
        },
        "id": "tyMEJylsHFmf",
        "outputId": "97a9aae6-25e9-4288-fd72-3d9a820fc19d"
      },
      "source": [
        "similarity_simple_pair = cosine_similarity(feature_vect_simple,feature_vect_simple)\n",
        "print(similarity_simple_pair)\n",
        "print('Shape: ',similarity_simple_pair.shape)"
      ],
      "execution_count": 16,
      "outputs": [
        {
          "output_type": "stream",
          "name": "stdout",
          "text": [
            "[[1.         0.40207758 0.40425045]\n",
            " [0.40207758 1.         0.45647296]\n",
            " [0.40425045 0.45647296 1.        ]]\n",
            "Shape:  (3, 3)\n"
          ]
        }
      ]
    },
    {
      "cell_type": "markdown",
      "metadata": {
        "id": "Hxx_gmK3H7ts"
      },
      "source": [
        "## Option Review"
      ]
    }
  ]
}