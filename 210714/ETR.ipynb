{
  "nbformat": 4,
  "nbformat_minor": 0,
  "metadata": {
    "colab": {
      "name": "ETR.ipynb",
      "private_outputs": true,
      "provenance": []
    },
    "kernelspec": {
      "name": "python3",
      "display_name": "Python 3"
    },
    "language_info": {
      "name": "python"
    }
  },
  "cells": [
    {
      "cell_type": "code",
      "metadata": {
        "id": "eUOnIYKy77rK"
      },
      "source": [
        "from sklearn.ensemble import ExtraTreesRegressor\n",
        "import pandas as pd\n",
        "from sklearn.model_selection import train_test_split\n",
        "from sklearn.preprocessing import MinMaxScaler"
      ],
      "execution_count": null,
      "outputs": []
    },
    {
      "cell_type": "code",
      "metadata": {
        "id": "vseWa6DB9_Ic"
      },
      "source": [
        "data = pd.read_csv('/content/drive/MyDrive/DataSet.csv')"
      ],
      "execution_count": null,
      "outputs": []
    },
    {
      "cell_type": "code",
      "metadata": {
        "id": "N5h8JcujBOtw"
      },
      "source": [
        "x = data[['Temp', 'Prec', 'WS', 'Humi', 'Pres', 'cbwd']]\n",
        "\n",
        "y=data['PM10']\n",
        "\n",
        "x_train, x_test, y_train, y_test = train_test_split(x, y, train_size=0.8, test_size=0.2)"
      ],
      "execution_count": null,
      "outputs": []
    },
    {
      "cell_type": "code",
      "metadata": {
        "id": "jtB0qHzWCYaA"
      },
      "source": [
        "etr = ExtraTreesRegressor()"
      ],
      "execution_count": null,
      "outputs": []
    },
    {
      "cell_type": "code",
      "metadata": {
        "id": "wZmiyTHwCqs_"
      },
      "source": [
        "etr.fit(x_train,y_train)"
      ],
      "execution_count": null,
      "outputs": []
    },
    {
      "cell_type": "code",
      "metadata": {
        "id": "KuUmrAC8CxZx"
      },
      "source": [
        "etr.score(x_train, y_train)"
      ],
      "execution_count": null,
      "outputs": []
    },
    {
      "cell_type": "code",
      "metadata": {
        "id": "RZATwJECC9Df"
      },
      "source": [
        "etr.score(x_test, y_test)"
      ],
      "execution_count": null,
      "outputs": []
    },
    {
      "cell_type": "code",
      "metadata": {
        "id": "fXjBqBU-D6dq"
      },
      "source": [
        "y_pred=etr.predict(x_test)"
      ],
      "execution_count": null,
      "outputs": []
    },
    {
      "cell_type": "code",
      "metadata": {
        "id": "LyxV2WFOFUA7"
      },
      "source": [
        "from sklearn.metrics import mean_squared_error,r2_score\n",
        "\n",
        "mse = mean_squared_error(y_test, y_pred)\n",
        "r2= r2_score(y_test,y_pred)\n",
        "print(\"MSE: %.2f\" % mse)\n",
        "print(\"RMSE: %.2f\" % mse**(0.5))\n",
        "print('R2 : %.3f'% r2)"
      ],
      "execution_count": null,
      "outputs": []
    },
    {
      "cell_type": "code",
      "metadata": {
        "id": "6ebZtvSlHHP5"
      },
      "source": [
        ""
      ],
      "execution_count": null,
      "outputs": []
    }
  ]
}